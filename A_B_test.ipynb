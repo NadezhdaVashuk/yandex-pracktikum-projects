{
 "cells": [
  {
   "cell_type": "markdown",
   "metadata": {},
   "source": [
    "# A/B-тест для увеличения выручки интернет-магазина\n",
    "\n",
    "Есть подготовленный список гипотез для увеличения выручки интернет-магазина. Необходимо приоритизировать гипотезы, запустить A/B-тест и проанализировать результаты.\n",
    "\n",
    "\n",
    "Имеются данные о гипотезах в файле `hypothesis.csv`:\n",
    "\n",
    "`Hypothesis` — краткое описание гипотезы;\n",
    "\n",
    "`Reach` — охват пользователей по 10-балльной шкале;\n",
    "\n",
    "`Impact` — влияние на пользователей по 10-балльной шкале;\n",
    "\n",
    "`Confidence` — уверенность в гипотезе по 10-балльной шкале;\n",
    "\n",
    "`Efforts` — затраты ресурсов на проверку гипотезы по 10-балльной шкале. Чем больше значение Efforts, тем дороже проверка гипотезы."
   ]
  },
  {
   "cell_type": "markdown",
   "metadata": {},
   "source": [
    " "
   ]
  },
  {
   "cell_type": "markdown",
   "metadata": {},
   "source": [
    "Данные о заказах в файле `orders.csv`:\n",
    "\n",
    "`transactionId` — идентификатор заказа;\n",
    "\n",
    "`visitorId` — идентификатор пользователя, совершившего заказ;\n",
    "\n",
    "`date` — дата, когда был совершён заказ;\n",
    "\n",
    "`revenue` — выручка заказа;\n",
    "\n",
    "`group` — группа A/B-теста, в которую попал заказ."
   ]
  },
  {
   "cell_type": "markdown",
   "metadata": {},
   "source": [
    " "
   ]
  },
  {
   "cell_type": "markdown",
   "metadata": {},
   "source": [
    "Данные о посетителях интернет-магазина  в файле `visitors.csv`:\n",
    "\n",
    "`date` — дата;\n",
    "\n",
    "`group` — группа A/B-теста;\n",
    "\n",
    "`visitors` — количество пользователей в указанную дату в указанной группе A/B-теста"
   ]
  },
  {
   "cell_type": "markdown",
   "metadata": {},
   "source": [
    " "
   ]
  },
  {
   "cell_type": "markdown",
   "metadata": {},
   "source": [
    "План исследования:\n",
    "\n",
    "1. Изучение и предобработка данных;\n",
    "\n",
    "2. Приоритезация гипотез:\n",
    "\n",
    "* Применение фреймворка ICE для приоритизации гипотез.\n",
    "\n",
    "* Применение фреймворка RICE для приоритизации гипотез. \n",
    "\n",
    "3. Анализ A/B-теста;\n",
    "\n",
    "4. Общий вывод."
   ]
  },
  {
   "cell_type": "markdown",
   "metadata": {},
   "source": [
    "### Изучение и предобработка данных"
   ]
  },
  {
   "cell_type": "code",
   "execution_count": 1,
   "metadata": {},
   "outputs": [],
   "source": [
    "#загружаем все необходимые бибилиотеки\n",
    "import pandas as pd\n",
    "import numpy as np\n",
    "import datetime as dt\n",
    "import scipy.stats as stats\n",
    "from matplotlib import pyplot as plt\n",
    "import warnings\n",
    "warnings.filterwarnings('ignore')"
   ]
  },
  {
   "cell_type": "code",
   "execution_count": 2,
   "metadata": {},
   "outputs": [],
   "source": [
    "#открываем файлы и записываем их в соответствующие переменные\n",
    "hypothesis, orders, visitors = (\n",
    "    pd.read_csv('/datasets/hypothesis.csv'),\n",
    "    pd.read_csv('/datasets/orders.csv'),\n",
    "    pd.read_csv('/datasets/visitors.csv'),\n",
    ")"
   ]
  },
  {
   "cell_type": "code",
   "execution_count": 3,
   "metadata": {},
   "outputs": [],
   "source": [
    "#напишем функцию, с помощью которой выведем основную информацию о файлах\n",
    "def data_inf(df):\n",
    "    print(f'Первые строки таблицы:')\n",
    "    print('*'*20)\n",
    "    display(df.head())\n",
    "    print(f'Информация о таблице:')\n",
    "    print('*'*20)\n",
    "    df.info()\n",
    "    print(f'Количество дубликатов:')\n",
    "    print('*'*20)\n",
    "    for name, values in df.iteritems():\n",
    "        print(name, values.duplicated().sum()) \n",
    "    print(f'Наиболее часто встречающиеся строки:')\n",
    "    print('*'*20)\n",
    "    for name, values in df.iteritems():\n",
    "        print(name, values.value_counts)"
   ]
  },
  {
   "cell_type": "code",
   "execution_count": 4,
   "metadata": {
    "scrolled": false
   },
   "outputs": [
    {
     "name": "stdout",
     "output_type": "stream",
     "text": [
      "Первые строки таблицы:\n",
      "********************\n"
     ]
    },
    {
     "data": {
      "text/html": [
       "<div>\n",
       "<style scoped>\n",
       "    .dataframe tbody tr th:only-of-type {\n",
       "        vertical-align: middle;\n",
       "    }\n",
       "\n",
       "    .dataframe tbody tr th {\n",
       "        vertical-align: top;\n",
       "    }\n",
       "\n",
       "    .dataframe thead th {\n",
       "        text-align: right;\n",
       "    }\n",
       "</style>\n",
       "<table border=\"1\" class=\"dataframe\">\n",
       "  <thead>\n",
       "    <tr style=\"text-align: right;\">\n",
       "      <th></th>\n",
       "      <th>Hypothesis</th>\n",
       "      <th>Reach</th>\n",
       "      <th>Impact</th>\n",
       "      <th>Confidence</th>\n",
       "      <th>Efforts</th>\n",
       "    </tr>\n",
       "  </thead>\n",
       "  <tbody>\n",
       "    <tr>\n",
       "      <th>0</th>\n",
       "      <td>Добавить два новых канала привлечения трафика,...</td>\n",
       "      <td>3</td>\n",
       "      <td>10</td>\n",
       "      <td>8</td>\n",
       "      <td>6</td>\n",
       "    </tr>\n",
       "    <tr>\n",
       "      <th>1</th>\n",
       "      <td>Запустить собственную службу доставки, что сок...</td>\n",
       "      <td>2</td>\n",
       "      <td>5</td>\n",
       "      <td>4</td>\n",
       "      <td>10</td>\n",
       "    </tr>\n",
       "    <tr>\n",
       "      <th>2</th>\n",
       "      <td>Добавить блоки рекомендаций товаров на сайт ин...</td>\n",
       "      <td>8</td>\n",
       "      <td>3</td>\n",
       "      <td>7</td>\n",
       "      <td>3</td>\n",
       "    </tr>\n",
       "    <tr>\n",
       "      <th>3</th>\n",
       "      <td>Изменить структура категорий, что увеличит кон...</td>\n",
       "      <td>8</td>\n",
       "      <td>3</td>\n",
       "      <td>3</td>\n",
       "      <td>8</td>\n",
       "    </tr>\n",
       "    <tr>\n",
       "      <th>4</th>\n",
       "      <td>Изменить цвет фона главной страницы, чтобы уве...</td>\n",
       "      <td>3</td>\n",
       "      <td>1</td>\n",
       "      <td>1</td>\n",
       "      <td>1</td>\n",
       "    </tr>\n",
       "  </tbody>\n",
       "</table>\n",
       "</div>"
      ],
      "text/plain": [
       "                                          Hypothesis  Reach  Impact  \\\n",
       "0  Добавить два новых канала привлечения трафика,...      3      10   \n",
       "1  Запустить собственную службу доставки, что сок...      2       5   \n",
       "2  Добавить блоки рекомендаций товаров на сайт ин...      8       3   \n",
       "3  Изменить структура категорий, что увеличит кон...      8       3   \n",
       "4  Изменить цвет фона главной страницы, чтобы уве...      3       1   \n",
       "\n",
       "   Confidence  Efforts  \n",
       "0           8        6  \n",
       "1           4       10  \n",
       "2           7        3  \n",
       "3           3        8  \n",
       "4           1        1  "
      ]
     },
     "metadata": {},
     "output_type": "display_data"
    },
    {
     "name": "stdout",
     "output_type": "stream",
     "text": [
      "Информация о таблице:\n",
      "********************\n",
      "<class 'pandas.core.frame.DataFrame'>\n",
      "RangeIndex: 9 entries, 0 to 8\n",
      "Data columns (total 5 columns):\n",
      " #   Column      Non-Null Count  Dtype \n",
      "---  ------      --------------  ----- \n",
      " 0   Hypothesis  9 non-null      object\n",
      " 1   Reach       9 non-null      int64 \n",
      " 2   Impact      9 non-null      int64 \n",
      " 3   Confidence  9 non-null      int64 \n",
      " 4   Efforts     9 non-null      int64 \n",
      "dtypes: int64(4), object(1)\n",
      "memory usage: 488.0+ bytes\n",
      "Количество дубликатов:\n",
      "********************\n",
      "Hypothesis 0\n",
      "Reach 3\n",
      "Impact 2\n",
      "Confidence 2\n",
      "Efforts 3\n",
      "Наиболее часто встречающиеся строки:\n",
      "********************\n",
      "Hypothesis <bound method IndexOpsMixin.value_counts of 0    Добавить два новых канала привлечения трафика,...\n",
      "1    Запустить собственную службу доставки, что сок...\n",
      "2    Добавить блоки рекомендаций товаров на сайт ин...\n",
      "3    Изменить структура категорий, что увеличит кон...\n",
      "4    Изменить цвет фона главной страницы, чтобы уве...\n",
      "5    Добавить страницу отзывов клиентов о магазине,...\n",
      "6    Показать на главной странице баннеры с актуаль...\n",
      "7    Добавить форму подписки на все основные страни...\n",
      "8    Запустить акцию, дающую скидку на товар в день...\n",
      "Name: Hypothesis, dtype: object>\n",
      "Reach <bound method IndexOpsMixin.value_counts of 0     3\n",
      "1     2\n",
      "2     8\n",
      "3     8\n",
      "4     3\n",
      "5     3\n",
      "6     5\n",
      "7    10\n",
      "8     1\n",
      "Name: Reach, dtype: int64>\n",
      "Impact <bound method IndexOpsMixin.value_counts of 0    10\n",
      "1     5\n",
      "2     3\n",
      "3     3\n",
      "4     1\n",
      "5     2\n",
      "6     3\n",
      "7     7\n",
      "8     9\n",
      "Name: Impact, dtype: int64>\n",
      "Confidence <bound method IndexOpsMixin.value_counts of 0    8\n",
      "1    4\n",
      "2    7\n",
      "3    3\n",
      "4    1\n",
      "5    2\n",
      "6    8\n",
      "7    8\n",
      "8    9\n",
      "Name: Confidence, dtype: int64>\n",
      "Efforts <bound method IndexOpsMixin.value_counts of 0     6\n",
      "1    10\n",
      "2     3\n",
      "3     8\n",
      "4     1\n",
      "5     3\n",
      "6     3\n",
      "7     5\n",
      "8     5\n",
      "Name: Efforts, dtype: int64>\n",
      "Первые строки таблицы:\n",
      "********************\n"
     ]
    },
    {
     "data": {
      "text/html": [
       "<div>\n",
       "<style scoped>\n",
       "    .dataframe tbody tr th:only-of-type {\n",
       "        vertical-align: middle;\n",
       "    }\n",
       "\n",
       "    .dataframe tbody tr th {\n",
       "        vertical-align: top;\n",
       "    }\n",
       "\n",
       "    .dataframe thead th {\n",
       "        text-align: right;\n",
       "    }\n",
       "</style>\n",
       "<table border=\"1\" class=\"dataframe\">\n",
       "  <thead>\n",
       "    <tr style=\"text-align: right;\">\n",
       "      <th></th>\n",
       "      <th>transactionId</th>\n",
       "      <th>visitorId</th>\n",
       "      <th>date</th>\n",
       "      <th>revenue</th>\n",
       "      <th>group</th>\n",
       "    </tr>\n",
       "  </thead>\n",
       "  <tbody>\n",
       "    <tr>\n",
       "      <th>0</th>\n",
       "      <td>3667963787</td>\n",
       "      <td>3312258926</td>\n",
       "      <td>2019-08-15</td>\n",
       "      <td>1650</td>\n",
       "      <td>B</td>\n",
       "    </tr>\n",
       "    <tr>\n",
       "      <th>1</th>\n",
       "      <td>2804400009</td>\n",
       "      <td>3642806036</td>\n",
       "      <td>2019-08-15</td>\n",
       "      <td>730</td>\n",
       "      <td>B</td>\n",
       "    </tr>\n",
       "    <tr>\n",
       "      <th>2</th>\n",
       "      <td>2961555356</td>\n",
       "      <td>4069496402</td>\n",
       "      <td>2019-08-15</td>\n",
       "      <td>400</td>\n",
       "      <td>A</td>\n",
       "    </tr>\n",
       "    <tr>\n",
       "      <th>3</th>\n",
       "      <td>3797467345</td>\n",
       "      <td>1196621759</td>\n",
       "      <td>2019-08-15</td>\n",
       "      <td>9759</td>\n",
       "      <td>B</td>\n",
       "    </tr>\n",
       "    <tr>\n",
       "      <th>4</th>\n",
       "      <td>2282983706</td>\n",
       "      <td>2322279887</td>\n",
       "      <td>2019-08-15</td>\n",
       "      <td>2308</td>\n",
       "      <td>B</td>\n",
       "    </tr>\n",
       "  </tbody>\n",
       "</table>\n",
       "</div>"
      ],
      "text/plain": [
       "   transactionId   visitorId        date  revenue group\n",
       "0     3667963787  3312258926  2019-08-15     1650     B\n",
       "1     2804400009  3642806036  2019-08-15      730     B\n",
       "2     2961555356  4069496402  2019-08-15      400     A\n",
       "3     3797467345  1196621759  2019-08-15     9759     B\n",
       "4     2282983706  2322279887  2019-08-15     2308     B"
      ]
     },
     "metadata": {},
     "output_type": "display_data"
    },
    {
     "name": "stdout",
     "output_type": "stream",
     "text": [
      "Информация о таблице:\n",
      "********************\n",
      "<class 'pandas.core.frame.DataFrame'>\n",
      "RangeIndex: 1197 entries, 0 to 1196\n",
      "Data columns (total 5 columns):\n",
      " #   Column         Non-Null Count  Dtype \n",
      "---  ------         --------------  ----- \n",
      " 0   transactionId  1197 non-null   int64 \n",
      " 1   visitorId      1197 non-null   int64 \n",
      " 2   date           1197 non-null   object\n",
      " 3   revenue        1197 non-null   int64 \n",
      " 4   group          1197 non-null   object\n",
      "dtypes: int64(3), object(2)\n",
      "memory usage: 46.9+ KB\n",
      "Количество дубликатов:\n",
      "********************\n",
      "transactionId 0\n",
      "visitorId 166\n",
      "date 1166\n",
      "revenue 484\n",
      "group 1195\n",
      "Наиболее часто встречающиеся строки:\n",
      "********************\n",
      "transactionId <bound method IndexOpsMixin.value_counts of 0       3667963787\n",
      "1       2804400009\n",
      "2       2961555356\n",
      "3       3797467345\n",
      "4       2282983706\n",
      "           ...    \n",
      "1192    2662137336\n",
      "1193    2203539145\n",
      "1194    1807773912\n",
      "1195    1947021204\n",
      "1196    3936777065\n",
      "Name: transactionId, Length: 1197, dtype: int64>\n",
      "visitorId <bound method IndexOpsMixin.value_counts of 0       3312258926\n",
      "1       3642806036\n",
      "2       4069496402\n",
      "3       1196621759\n",
      "4       2322279887\n",
      "           ...    \n",
      "1192    3733762160\n",
      "1193     370388673\n",
      "1194     573423106\n",
      "1195    1614305549\n",
      "1196    2108080724\n",
      "Name: visitorId, Length: 1197, dtype: int64>\n",
      "date <bound method IndexOpsMixin.value_counts of 0       2019-08-15\n",
      "1       2019-08-15\n",
      "2       2019-08-15\n",
      "3       2019-08-15\n",
      "4       2019-08-15\n",
      "           ...    \n",
      "1192    2019-08-14\n",
      "1193    2019-08-14\n",
      "1194    2019-08-14\n",
      "1195    2019-08-14\n",
      "1196    2019-08-15\n",
      "Name: date, Length: 1197, dtype: object>\n",
      "revenue <bound method IndexOpsMixin.value_counts of 0         1650\n",
      "1          730\n",
      "2          400\n",
      "3         9759\n",
      "4         2308\n",
      "         ...  \n",
      "1192      6490\n",
      "1193      3190\n",
      "1194     10550\n",
      "1195       100\n",
      "1196    202740\n",
      "Name: revenue, Length: 1197, dtype: int64>\n",
      "group <bound method IndexOpsMixin.value_counts of 0       B\n",
      "1       B\n",
      "2       A\n",
      "3       B\n",
      "4       B\n",
      "       ..\n",
      "1192    B\n",
      "1193    A\n",
      "1194    A\n",
      "1195    A\n",
      "1196    B\n",
      "Name: group, Length: 1197, dtype: object>\n",
      "Первые строки таблицы:\n",
      "********************\n"
     ]
    },
    {
     "data": {
      "text/html": [
       "<div>\n",
       "<style scoped>\n",
       "    .dataframe tbody tr th:only-of-type {\n",
       "        vertical-align: middle;\n",
       "    }\n",
       "\n",
       "    .dataframe tbody tr th {\n",
       "        vertical-align: top;\n",
       "    }\n",
       "\n",
       "    .dataframe thead th {\n",
       "        text-align: right;\n",
       "    }\n",
       "</style>\n",
       "<table border=\"1\" class=\"dataframe\">\n",
       "  <thead>\n",
       "    <tr style=\"text-align: right;\">\n",
       "      <th></th>\n",
       "      <th>date</th>\n",
       "      <th>group</th>\n",
       "      <th>visitors</th>\n",
       "    </tr>\n",
       "  </thead>\n",
       "  <tbody>\n",
       "    <tr>\n",
       "      <th>0</th>\n",
       "      <td>2019-08-01</td>\n",
       "      <td>A</td>\n",
       "      <td>719</td>\n",
       "    </tr>\n",
       "    <tr>\n",
       "      <th>1</th>\n",
       "      <td>2019-08-02</td>\n",
       "      <td>A</td>\n",
       "      <td>619</td>\n",
       "    </tr>\n",
       "    <tr>\n",
       "      <th>2</th>\n",
       "      <td>2019-08-03</td>\n",
       "      <td>A</td>\n",
       "      <td>507</td>\n",
       "    </tr>\n",
       "    <tr>\n",
       "      <th>3</th>\n",
       "      <td>2019-08-04</td>\n",
       "      <td>A</td>\n",
       "      <td>717</td>\n",
       "    </tr>\n",
       "    <tr>\n",
       "      <th>4</th>\n",
       "      <td>2019-08-05</td>\n",
       "      <td>A</td>\n",
       "      <td>756</td>\n",
       "    </tr>\n",
       "  </tbody>\n",
       "</table>\n",
       "</div>"
      ],
      "text/plain": [
       "         date group  visitors\n",
       "0  2019-08-01     A       719\n",
       "1  2019-08-02     A       619\n",
       "2  2019-08-03     A       507\n",
       "3  2019-08-04     A       717\n",
       "4  2019-08-05     A       756"
      ]
     },
     "metadata": {},
     "output_type": "display_data"
    },
    {
     "name": "stdout",
     "output_type": "stream",
     "text": [
      "Информация о таблице:\n",
      "********************\n",
      "<class 'pandas.core.frame.DataFrame'>\n",
      "RangeIndex: 62 entries, 0 to 61\n",
      "Data columns (total 3 columns):\n",
      " #   Column    Non-Null Count  Dtype \n",
      "---  ------    --------------  ----- \n",
      " 0   date      62 non-null     object\n",
      " 1   group     62 non-null     object\n",
      " 2   visitors  62 non-null     int64 \n",
      "dtypes: int64(1), object(2)\n",
      "memory usage: 1.6+ KB\n",
      "Количество дубликатов:\n",
      "********************\n",
      "date 31\n",
      "group 60\n",
      "visitors 4\n",
      "Наиболее часто встречающиеся строки:\n",
      "********************\n",
      "date <bound method IndexOpsMixin.value_counts of 0     2019-08-01\n",
      "1     2019-08-02\n",
      "2     2019-08-03\n",
      "3     2019-08-04\n",
      "4     2019-08-05\n",
      "         ...    \n",
      "57    2019-08-27\n",
      "58    2019-08-28\n",
      "59    2019-08-29\n",
      "60    2019-08-30\n",
      "61    2019-08-31\n",
      "Name: date, Length: 62, dtype: object>\n",
      "group <bound method IndexOpsMixin.value_counts of 0     A\n",
      "1     A\n",
      "2     A\n",
      "3     A\n",
      "4     A\n",
      "     ..\n",
      "57    B\n",
      "58    B\n",
      "59    B\n",
      "60    B\n",
      "61    B\n",
      "Name: group, Length: 62, dtype: object>\n",
      "visitors <bound method IndexOpsMixin.value_counts of 0     719\n",
      "1     619\n",
      "2     507\n",
      "3     717\n",
      "4     756\n",
      "     ... \n",
      "57    720\n",
      "58    654\n",
      "59    531\n",
      "60    490\n",
      "61    718\n",
      "Name: visitors, Length: 62, dtype: int64>\n"
     ]
    }
   ],
   "source": [
    "data_inf(hypothesis)\n",
    "data_inf(orders)\n",
    "data_inf(visitors)"
   ]
  },
  {
   "cell_type": "markdown",
   "metadata": {},
   "source": [
    "Названия столбцов таблицы `hypothesis` необходимо привести к нижнему регистру. Пропусков нет, тип данных обозначен верно.\n",
    "\n",
    "Названия столбцов таблицы `orders` обозначены верно. Пропусков нет, тип данных столбца `date` надо изменить на datetime.\n",
    "\n",
    "Названия столбцов таблицы `visitors` обозначены верно. Пропусков нет, тип данных столбца `date` также надо изменить на datetime."
   ]
  },
  {
   "cell_type": "code",
   "execution_count": 5,
   "metadata": {
    "scrolled": true
   },
   "outputs": [
    {
     "data": {
      "text/html": [
       "<div>\n",
       "<style scoped>\n",
       "    .dataframe tbody tr th:only-of-type {\n",
       "        vertical-align: middle;\n",
       "    }\n",
       "\n",
       "    .dataframe tbody tr th {\n",
       "        vertical-align: top;\n",
       "    }\n",
       "\n",
       "    .dataframe thead th {\n",
       "        text-align: right;\n",
       "    }\n",
       "</style>\n",
       "<table border=\"1\" class=\"dataframe\">\n",
       "  <thead>\n",
       "    <tr style=\"text-align: right;\">\n",
       "      <th></th>\n",
       "      <th>hypothesis</th>\n",
       "      <th>reach</th>\n",
       "      <th>impact</th>\n",
       "      <th>confidence</th>\n",
       "      <th>efforts</th>\n",
       "    </tr>\n",
       "  </thead>\n",
       "  <tbody>\n",
       "    <tr>\n",
       "      <th>0</th>\n",
       "      <td>Добавить два новых канала привлечения трафика,...</td>\n",
       "      <td>3</td>\n",
       "      <td>10</td>\n",
       "      <td>8</td>\n",
       "      <td>6</td>\n",
       "    </tr>\n",
       "    <tr>\n",
       "      <th>1</th>\n",
       "      <td>Запустить собственную службу доставки, что сок...</td>\n",
       "      <td>2</td>\n",
       "      <td>5</td>\n",
       "      <td>4</td>\n",
       "      <td>10</td>\n",
       "    </tr>\n",
       "    <tr>\n",
       "      <th>2</th>\n",
       "      <td>Добавить блоки рекомендаций товаров на сайт ин...</td>\n",
       "      <td>8</td>\n",
       "      <td>3</td>\n",
       "      <td>7</td>\n",
       "      <td>3</td>\n",
       "    </tr>\n",
       "    <tr>\n",
       "      <th>3</th>\n",
       "      <td>Изменить структура категорий, что увеличит кон...</td>\n",
       "      <td>8</td>\n",
       "      <td>3</td>\n",
       "      <td>3</td>\n",
       "      <td>8</td>\n",
       "    </tr>\n",
       "    <tr>\n",
       "      <th>4</th>\n",
       "      <td>Изменить цвет фона главной страницы, чтобы уве...</td>\n",
       "      <td>3</td>\n",
       "      <td>1</td>\n",
       "      <td>1</td>\n",
       "      <td>1</td>\n",
       "    </tr>\n",
       "    <tr>\n",
       "      <th>5</th>\n",
       "      <td>Добавить страницу отзывов клиентов о магазине,...</td>\n",
       "      <td>3</td>\n",
       "      <td>2</td>\n",
       "      <td>2</td>\n",
       "      <td>3</td>\n",
       "    </tr>\n",
       "    <tr>\n",
       "      <th>6</th>\n",
       "      <td>Показать на главной странице баннеры с актуаль...</td>\n",
       "      <td>5</td>\n",
       "      <td>3</td>\n",
       "      <td>8</td>\n",
       "      <td>3</td>\n",
       "    </tr>\n",
       "    <tr>\n",
       "      <th>7</th>\n",
       "      <td>Добавить форму подписки на все основные страни...</td>\n",
       "      <td>10</td>\n",
       "      <td>7</td>\n",
       "      <td>8</td>\n",
       "      <td>5</td>\n",
       "    </tr>\n",
       "    <tr>\n",
       "      <th>8</th>\n",
       "      <td>Запустить акцию, дающую скидку на товар в день...</td>\n",
       "      <td>1</td>\n",
       "      <td>9</td>\n",
       "      <td>9</td>\n",
       "      <td>5</td>\n",
       "    </tr>\n",
       "  </tbody>\n",
       "</table>\n",
       "</div>"
      ],
      "text/plain": [
       "                                          hypothesis  reach  impact  \\\n",
       "0  Добавить два новых канала привлечения трафика,...      3      10   \n",
       "1  Запустить собственную службу доставки, что сок...      2       5   \n",
       "2  Добавить блоки рекомендаций товаров на сайт ин...      8       3   \n",
       "3  Изменить структура категорий, что увеличит кон...      8       3   \n",
       "4  Изменить цвет фона главной страницы, чтобы уве...      3       1   \n",
       "5  Добавить страницу отзывов клиентов о магазине,...      3       2   \n",
       "6  Показать на главной странице баннеры с актуаль...      5       3   \n",
       "7  Добавить форму подписки на все основные страни...     10       7   \n",
       "8  Запустить акцию, дающую скидку на товар в день...      1       9   \n",
       "\n",
       "   confidence  efforts  \n",
       "0           8        6  \n",
       "1           4       10  \n",
       "2           7        3  \n",
       "3           3        8  \n",
       "4           1        1  \n",
       "5           2        3  \n",
       "6           8        3  \n",
       "7           8        5  \n",
       "8           9        5  "
      ]
     },
     "execution_count": 5,
     "metadata": {},
     "output_type": "execute_result"
    }
   ],
   "source": [
    "#приведем к нижнему регистру столбцы таблицы hypothesis\n",
    "hypothesis.columns = [x.lower() for x in hypothesis.columns]\n",
    "hypothesis"
   ]
  },
  {
   "cell_type": "code",
   "execution_count": 6,
   "metadata": {},
   "outputs": [],
   "source": [
    "#поменяем тип данных столбцов date в таблицах orders и visitors\n",
    "orders['date'] = orders['date'].map(lambda x: dt.datetime.strptime(x, '%Y-%m-%d'))\n",
    "visitors['date'] = visitors['date'].map(lambda x: dt.datetime.strptime(x, '%Y-%m-%d'))"
   ]
  },
  {
   "cell_type": "code",
   "execution_count": 7,
   "metadata": {
    "scrolled": false
   },
   "outputs": [
    {
     "data": {
      "text/plain": [
       "array([   8300375,  199603092,  232979603,  237748145,  276558944,\n",
       "        351125977,  393266494,  457167155,  471551937,  477780734,\n",
       "        818047933,  963407295, 1230306981, 1294878855, 1316129916,\n",
       "       1333886533, 1404934699, 1602967004, 1614305549, 1648269707,\n",
       "       1668030113, 1738359350, 1801183820, 1959144690, 2038680547,\n",
       "       2044997962, 2378935119, 2458001652, 2579882178, 2587333274,\n",
       "       2600415354, 2654030115, 2686716486, 2712142231, 2716752286,\n",
       "       2780786433, 2927087541, 2949041841, 2954449915, 3062433592,\n",
       "       3202540741, 3234906277, 3656415546, 3717692402, 3766097110,\n",
       "       3803269165, 3891541246, 3941795274, 3951559397, 3957174400,\n",
       "       3963646447, 3972127743, 3984495233, 4069496402, 4120364173,\n",
       "       4186807279, 4256040402, 4266935830])"
      ]
     },
     "execution_count": 7,
     "metadata": {},
     "output_type": "execute_result"
    }
   ],
   "source": [
    "#проверим, есть ли пользователи в датафрейме orders, которые попали в обе группы\n",
    "np.intersect1d(orders.query('group==\"A\"')['visitorId'].unique(), orders.query('group==\"B\"')['visitorId'].unique())"
   ]
  },
  {
   "cell_type": "markdown",
   "metadata": {},
   "source": [
    "Такие пользователи действительно есть, но не будем пока их удалять."
   ]
  },
  {
   "cell_type": "code",
   "execution_count": 8,
   "metadata": {
    "scrolled": true
   },
   "outputs": [
    {
     "name": "stdout",
     "output_type": "stream",
     "text": [
      "<class 'pandas.core.frame.DataFrame'>\n",
      "RangeIndex: 9 entries, 0 to 8\n",
      "Data columns (total 5 columns):\n",
      " #   Column      Non-Null Count  Dtype \n",
      "---  ------      --------------  ----- \n",
      " 0   hypothesis  9 non-null      object\n",
      " 1   reach       9 non-null      int64 \n",
      " 2   impact      9 non-null      int64 \n",
      " 3   confidence  9 non-null      int64 \n",
      " 4   efforts     9 non-null      int64 \n",
      "dtypes: int64(4), object(1)\n",
      "memory usage: 488.0+ bytes\n",
      "<class 'pandas.core.frame.DataFrame'>\n",
      "RangeIndex: 1197 entries, 0 to 1196\n",
      "Data columns (total 5 columns):\n",
      " #   Column         Non-Null Count  Dtype         \n",
      "---  ------         --------------  -----         \n",
      " 0   transactionId  1197 non-null   int64         \n",
      " 1   visitorId      1197 non-null   int64         \n",
      " 2   date           1197 non-null   datetime64[ns]\n",
      " 3   revenue        1197 non-null   int64         \n",
      " 4   group          1197 non-null   object        \n",
      "dtypes: datetime64[ns](1), int64(3), object(1)\n",
      "memory usage: 46.9+ KB\n",
      "<class 'pandas.core.frame.DataFrame'>\n",
      "RangeIndex: 62 entries, 0 to 61\n",
      "Data columns (total 3 columns):\n",
      " #   Column    Non-Null Count  Dtype         \n",
      "---  ------    --------------  -----         \n",
      " 0   date      62 non-null     datetime64[ns]\n",
      " 1   group     62 non-null     object        \n",
      " 2   visitors  62 non-null     int64         \n",
      "dtypes: datetime64[ns](1), int64(1), object(1)\n",
      "memory usage: 1.6+ KB\n"
     ]
    }
   ],
   "source": [
    "#выведем информацию о датафреймах еще раз, чтобы проверить удалось ли\n",
    "#привести названия столбцов к нужному виду и заменить тип данных там, где это было нужно\n",
    "hypothesis.info()\n",
    "orders.info()\n",
    "visitors.info()"
   ]
  },
  {
   "cell_type": "markdown",
   "metadata": {},
   "source": [
    "С данными все в порядке, теперь можно переходить к обработке."
   ]
  },
  {
   "cell_type": "markdown",
   "metadata": {},
   "source": [
    "### Приоритизация гипотез"
   ]
  },
  {
   "cell_type": "markdown",
   "metadata": {},
   "source": [
    "В таблице `hypothesis` содержится 9 гипотез. Для их приоритизации применим к этому датафрейму фреймворк ICE."
   ]
  },
  {
   "cell_type": "code",
   "execution_count": 9,
   "metadata": {
    "scrolled": true
   },
   "outputs": [
    {
     "data": {
      "text/html": [
       "<div>\n",
       "<style scoped>\n",
       "    .dataframe tbody tr th:only-of-type {\n",
       "        vertical-align: middle;\n",
       "    }\n",
       "\n",
       "    .dataframe tbody tr th {\n",
       "        vertical-align: top;\n",
       "    }\n",
       "\n",
       "    .dataframe thead th {\n",
       "        text-align: right;\n",
       "    }\n",
       "</style>\n",
       "<table border=\"1\" class=\"dataframe\">\n",
       "  <thead>\n",
       "    <tr style=\"text-align: right;\">\n",
       "      <th></th>\n",
       "      <th>hypothesis</th>\n",
       "      <th>ICE</th>\n",
       "    </tr>\n",
       "  </thead>\n",
       "  <tbody>\n",
       "    <tr>\n",
       "      <th>8</th>\n",
       "      <td>Запустить акцию, дающую скидку на товар в день рождения</td>\n",
       "      <td>16.20</td>\n",
       "    </tr>\n",
       "    <tr>\n",
       "      <th>0</th>\n",
       "      <td>Добавить два новых канала привлечения трафика, что позволит привлекать на 30% больше пользователей</td>\n",
       "      <td>13.33</td>\n",
       "    </tr>\n",
       "    <tr>\n",
       "      <th>7</th>\n",
       "      <td>Добавить форму подписки на все основные страницы, чтобы собрать базу клиентов для email-рассылок</td>\n",
       "      <td>11.20</td>\n",
       "    </tr>\n",
       "    <tr>\n",
       "      <th>6</th>\n",
       "      <td>Показать на главной странице баннеры с актуальными акциями и распродажами, чтобы увеличить конверсию</td>\n",
       "      <td>8.00</td>\n",
       "    </tr>\n",
       "    <tr>\n",
       "      <th>2</th>\n",
       "      <td>Добавить блоки рекомендаций товаров на сайт интернет магазина, чтобы повысить конверсию и средний чек заказа</td>\n",
       "      <td>7.00</td>\n",
       "    </tr>\n",
       "    <tr>\n",
       "      <th>1</th>\n",
       "      <td>Запустить собственную службу доставки, что сократит срок доставки заказов</td>\n",
       "      <td>2.00</td>\n",
       "    </tr>\n",
       "    <tr>\n",
       "      <th>5</th>\n",
       "      <td>Добавить страницу отзывов клиентов о магазине, что позволит увеличить количество заказов</td>\n",
       "      <td>1.33</td>\n",
       "    </tr>\n",
       "    <tr>\n",
       "      <th>3</th>\n",
       "      <td>Изменить структура категорий, что увеличит конверсию, т.к. пользователи быстрее найдут нужный товар</td>\n",
       "      <td>1.12</td>\n",
       "    </tr>\n",
       "    <tr>\n",
       "      <th>4</th>\n",
       "      <td>Изменить цвет фона главной страницы, чтобы увеличить вовлеченность пользователей</td>\n",
       "      <td>1.00</td>\n",
       "    </tr>\n",
       "  </tbody>\n",
       "</table>\n",
       "</div>"
      ],
      "text/plain": [
       "                                                                                                     hypothesis  \\\n",
       "8                                                       Запустить акцию, дающую скидку на товар в день рождения   \n",
       "0            Добавить два новых канала привлечения трафика, что позволит привлекать на 30% больше пользователей   \n",
       "7              Добавить форму подписки на все основные страницы, чтобы собрать базу клиентов для email-рассылок   \n",
       "6          Показать на главной странице баннеры с актуальными акциями и распродажами, чтобы увеличить конверсию   \n",
       "2  Добавить блоки рекомендаций товаров на сайт интернет магазина, чтобы повысить конверсию и средний чек заказа   \n",
       "1                                     Запустить собственную службу доставки, что сократит срок доставки заказов   \n",
       "5                      Добавить страницу отзывов клиентов о магазине, что позволит увеличить количество заказов   \n",
       "3           Изменить структура категорий, что увеличит конверсию, т.к. пользователи быстрее найдут нужный товар   \n",
       "4                              Изменить цвет фона главной страницы, чтобы увеличить вовлеченность пользователей   \n",
       "\n",
       "     ICE  \n",
       "8  16.20  \n",
       "0  13.33  \n",
       "7  11.20  \n",
       "6   8.00  \n",
       "2   7.00  \n",
       "1   2.00  \n",
       "5   1.33  \n",
       "3   1.12  \n",
       "4   1.00  "
      ]
     },
     "execution_count": 9,
     "metadata": {},
     "output_type": "execute_result"
    }
   ],
   "source": [
    "hypothesis['ICE'] = round((hypothesis['impact'] * hypothesis['confidence']) / hypothesis['efforts'], 2)\n",
    "pd.set_option('max_colwidth', 200)\n",
    "hypothesis[['hypothesis', 'ICE']].sort_values(by='ICE', ascending=False)"
   ]
  },
  {
   "cell_type": "markdown",
   "metadata": {},
   "source": [
    "По ICE наиболее перспективные гипотезы: 8, 0 и 7."
   ]
  },
  {
   "cell_type": "markdown",
   "metadata": {},
   "source": [
    "Теперь для приоритизации применим к этому датафрейму фреймворк RICE, и посмотрим как изменилась приоритизация гипотез при применении RICE вместо ICE. "
   ]
  },
  {
   "cell_type": "code",
   "execution_count": 10,
   "metadata": {},
   "outputs": [
    {
     "data": {
      "text/html": [
       "<div>\n",
       "<style scoped>\n",
       "    .dataframe tbody tr th:only-of-type {\n",
       "        vertical-align: middle;\n",
       "    }\n",
       "\n",
       "    .dataframe tbody tr th {\n",
       "        vertical-align: top;\n",
       "    }\n",
       "\n",
       "    .dataframe thead th {\n",
       "        text-align: right;\n",
       "    }\n",
       "</style>\n",
       "<table border=\"1\" class=\"dataframe\">\n",
       "  <thead>\n",
       "    <tr style=\"text-align: right;\">\n",
       "      <th></th>\n",
       "      <th>hypothesis</th>\n",
       "      <th>RICE</th>\n",
       "    </tr>\n",
       "  </thead>\n",
       "  <tbody>\n",
       "    <tr>\n",
       "      <th>7</th>\n",
       "      <td>Добавить форму подписки на все основные страницы, чтобы собрать базу клиентов для email-рассылок</td>\n",
       "      <td>112.0</td>\n",
       "    </tr>\n",
       "    <tr>\n",
       "      <th>2</th>\n",
       "      <td>Добавить блоки рекомендаций товаров на сайт интернет магазина, чтобы повысить конверсию и средний чек заказа</td>\n",
       "      <td>56.0</td>\n",
       "    </tr>\n",
       "    <tr>\n",
       "      <th>0</th>\n",
       "      <td>Добавить два новых канала привлечения трафика, что позволит привлекать на 30% больше пользователей</td>\n",
       "      <td>40.0</td>\n",
       "    </tr>\n",
       "    <tr>\n",
       "      <th>6</th>\n",
       "      <td>Показать на главной странице баннеры с актуальными акциями и распродажами, чтобы увеличить конверсию</td>\n",
       "      <td>40.0</td>\n",
       "    </tr>\n",
       "    <tr>\n",
       "      <th>8</th>\n",
       "      <td>Запустить акцию, дающую скидку на товар в день рождения</td>\n",
       "      <td>16.2</td>\n",
       "    </tr>\n",
       "    <tr>\n",
       "      <th>3</th>\n",
       "      <td>Изменить структура категорий, что увеличит конверсию, т.к. пользователи быстрее найдут нужный товар</td>\n",
       "      <td>9.0</td>\n",
       "    </tr>\n",
       "    <tr>\n",
       "      <th>1</th>\n",
       "      <td>Запустить собственную службу доставки, что сократит срок доставки заказов</td>\n",
       "      <td>4.0</td>\n",
       "    </tr>\n",
       "    <tr>\n",
       "      <th>5</th>\n",
       "      <td>Добавить страницу отзывов клиентов о магазине, что позволит увеличить количество заказов</td>\n",
       "      <td>4.0</td>\n",
       "    </tr>\n",
       "    <tr>\n",
       "      <th>4</th>\n",
       "      <td>Изменить цвет фона главной страницы, чтобы увеличить вовлеченность пользователей</td>\n",
       "      <td>3.0</td>\n",
       "    </tr>\n",
       "  </tbody>\n",
       "</table>\n",
       "</div>"
      ],
      "text/plain": [
       "                                                                                                     hypothesis  \\\n",
       "7              Добавить форму подписки на все основные страницы, чтобы собрать базу клиентов для email-рассылок   \n",
       "2  Добавить блоки рекомендаций товаров на сайт интернет магазина, чтобы повысить конверсию и средний чек заказа   \n",
       "0            Добавить два новых канала привлечения трафика, что позволит привлекать на 30% больше пользователей   \n",
       "6          Показать на главной странице баннеры с актуальными акциями и распродажами, чтобы увеличить конверсию   \n",
       "8                                                       Запустить акцию, дающую скидку на товар в день рождения   \n",
       "3           Изменить структура категорий, что увеличит конверсию, т.к. пользователи быстрее найдут нужный товар   \n",
       "1                                     Запустить собственную службу доставки, что сократит срок доставки заказов   \n",
       "5                      Добавить страницу отзывов клиентов о магазине, что позволит увеличить количество заказов   \n",
       "4                              Изменить цвет фона главной страницы, чтобы увеличить вовлеченность пользователей   \n",
       "\n",
       "    RICE  \n",
       "7  112.0  \n",
       "2   56.0  \n",
       "0   40.0  \n",
       "6   40.0  \n",
       "8   16.2  \n",
       "3    9.0  \n",
       "1    4.0  \n",
       "5    4.0  \n",
       "4    3.0  "
      ]
     },
     "execution_count": 10,
     "metadata": {},
     "output_type": "execute_result"
    }
   ],
   "source": [
    "hypothesis['RICE'] = (hypothesis['reach'] * hypothesis['impact'] * hypothesis['confidence']) / hypothesis['efforts']\n",
    "hypothesis[['hypothesis', 'RICE']].sort_values(by='RICE', ascending=False)"
   ]
  },
  {
   "cell_type": "markdown",
   "metadata": {},
   "source": [
    "По RICE наиболее перспективные гипотезы: 7, 2, 0 и 6. Таким образом, гипотезы 7 и 0 так и остались наиболее перспективными, а вместо гипотезы 8 в лидеры вышли гипотезы 2 и 6. Так вышло потому, что, согласно гипотезам 2 и 6, изменения, которые мы хотим внести затронут больше пользователей (параметр Reach у этих гипотез выше).\n",
    "\n",
    "Стоит отметить, что формула RICE и ICE отличаются тем, что в RICE учитывается параметр Reach, который отражает количество пользователей, которых затронет изменение, что мы хотим внести. На основе анализа, можно предположить, что самой первой стоит протестировать гипотезу 7, т.к. она лидирует по результатам применения обоих фреймворков, и после учета в формуле RICE параметра Reach, она заняла первое место по приоритету, т.е. в ходе ее тестирования будет задействовано больше всего пользователей."
   ]
  },
  {
   "cell_type": "markdown",
   "metadata": {},
   "source": [
    "### Анализ A/B-теста\n",
    "\n",
    "Теперь нам понадобятся датафреймы `orders` и `visitors`.\n",
    "\n",
    "Проанализируем A/B-тест:\n",
    "\n",
    "#### График кумулятивной выручки по группам"
   ]
  },
  {
   "cell_type": "code",
   "execution_count": 11,
   "metadata": {},
   "outputs": [
    {
     "name": "stdout",
     "output_type": "stream",
     "text": [
      "        date group  orders  buyers  revenue  visitors\n",
      "0 2019-08-01     A      24      20   148579       719\n",
      "1 2019-08-01     B      21      20   101217       713\n",
      "2 2019-08-02     A      44      38   242401      1338\n",
      "3 2019-08-02     B      45      43   266748      1294\n",
      "4 2019-08-03     A      68      62   354874      1845\n"
     ]
    }
   ],
   "source": [
    "#создим датафрейм datesGroups с уникальными парами значений 'date' и 'group', таблицы orders\n",
    "#и избавимся от дубликатов методом drop_duplicates()\n",
    "datesGroups = orders[['date', 'group']].drop_duplicates()\n",
    "\n",
    "#объявим переменную oAggregated, содержащую: дату, группу A/B-теста, число уникальных заказов в группе теста \n",
    "#по указанную дату включительно, число уникальных пользователей, совершивших хотя бы 1 заказ в группе \n",
    "#теста по указанную дату включительно; суммарную выручку заказов в группе теста по указанную дату включительно\n",
    "oAggregated = datesGroups.apply(lambda x: orders[np.logical_and(orders['date']<=x['date'], orders['group']==x['group'])]\\\n",
    "                                     .agg({'date':'max', 'group':'max', 'transactionId':'nunique', 'visitorId':'nunique', 'revenue':'sum'}),\\\n",
    "                                     axis=1).sort_values(by=['date', 'group'])\n",
    "\n",
    "#объявим переменную vAggregated, содержащую: дату, группу A/B-теста, количество уникальных посетителей в группе \n",
    "#теста по указанную дату включительно\n",
    "vAggregated = datesGroups.apply(lambda x: visitors[np.logical_and(visitors['date']<=x['date'], visitors['group']==x['group'])]\\\n",
    "                                       .agg({'date':'max', 'group':'max', 'visitors':'sum'}), axis=1)\\\n",
    "                                       .sort_values(by=['date', 'group'])\n",
    "\n",
    "#объединим oAggregated и vAggregated по колонкам 'date', 'group' методом merge()\n",
    "cmlData = oAggregated.merge(vAggregated, left_on=['date', 'group'], right_on=['date', 'group'])\n",
    "cmlData.columns = ['date', 'group', 'orders', 'buyers', 'revenue', 'visitors']\n",
    "print(cmlData.head(5))"
   ]
  },
  {
   "cell_type": "code",
   "execution_count": 12,
   "metadata": {},
   "outputs": [
    {
     "data": {
      "image/png": "[encoded data removed]",
      "text/plain": [
       "<Figure size 1080x720 with 1 Axes>"
      ]
     },
     "metadata": {
      "needs_background": "light"
     },
     "output_type": "display_data"
    }
   ],
   "source": [
    "#создадим датафрейм с кумулятивным количеством заказов и кумулятивной выручкой по дням в группе А\n",
    "cmlRevenueA = cmlData[cmlData['group']=='A'][['date', 'revenue', 'orders']]\n",
    "\n",
    "\n",
    "#создадим датафрейм с кумулятивным количеством заказов и кумулятивной выручкой по дням в группе B\n",
    "cmlRevenueB = cmlData[cmlData['group']=='B'][['date', 'revenue', 'orders']]\n",
    "\n",
    "plt.figure(figsize=(15, 10))\n",
    "#строим график выручки группы А\n",
    "plt.plot(cmlRevenueA['date'], cmlRevenueA['revenue'], label='A')\n",
    "\n",
    "#строим график выручки группы B\n",
    "plt.plot(cmlRevenueB['date'], cmlRevenueB['revenue'], label='B')\n",
    "\n",
    "\n",
    "plt.title('График кумулятивной выручки по дням по группам')\n",
    "plt.xlabel('День')\n",
    "plt.ylabel('Выручка')\n",
    "plt.grid()\n",
    "plt.legend()\n",
    "plt.show()\n"
   ]
  },
  {
   "cell_type": "markdown",
   "metadata": {},
   "source": [
    "Поначалу выручка распределялась равномерно между сегментами, и чуть ближе к середине месяца сегмент B начинал лидировать, и продолжил лидировать до конца теста. Возможно это связано с тем, что в данных присутсвуют очень дорогие заказы или есть отдельные пользователи, которые совершили очень много заказов."
   ]
  },
  {
   "cell_type": "markdown",
   "metadata": {},
   "source": [
    "#### График кумулятивного среднего чека по группам"
   ]
  },
  {
   "cell_type": "code",
   "execution_count": 13,
   "metadata": {},
   "outputs": [
    {
     "data": {
      "image/png": "[encoded data removed]",
      "text/plain": [
       "<Figure size 1080x720 with 1 Axes>"
      ]
     },
     "metadata": {
      "needs_background": "light"
     },
     "output_type": "display_data"
    }
   ],
   "source": [
    "plt.figure(figsize=(15, 10))\n",
    "plt.plot(cmlRevenueA['date'], cmlRevenueA['revenue']/cmlRevenueA['orders'], label='A')\n",
    "plt.plot(cmlRevenueB['date'], cmlRevenueB['revenue']/cmlRevenueB['orders'], label='B')\n",
    "plt.title('График кумулятивного среднего чека по дням по группам')\n",
    "plt.xlabel('День')\n",
    "plt.ylabel('Выручка')\n",
    "plt.grid()\n",
    "plt.legend()\n",
    "plt.show()"
   ]
  },
  {
   "cell_type": "markdown",
   "metadata": {},
   "source": [
    "Кумулятивное значение среднего чека по сегментам сильно колеблется. 18-19-го августа средний чек сегмента группы B сильно вырос, но все равно пошел на постепенный спад. Кумулятивное значение среднего чека каждой группы стабилизируется к концу теста. Необходимо проверить данные на выбросы, которые могут искажать результаты. Если их не будет обнаружено, значит пока еще рано принимать решение по этой метрике."
   ]
  },
  {
   "cell_type": "markdown",
   "metadata": {},
   "source": [
    "#### График относительного изменения кумулятивного среднего чека группы B к группе A "
   ]
  },
  {
   "cell_type": "code",
   "execution_count": 14,
   "metadata": {},
   "outputs": [
    {
     "data": {
      "image/png": "[encoded data removed]",
      "text/plain": [
       "<Figure size 1080x720 with 1 Axes>"
      ]
     },
     "metadata": {
      "needs_background": "light"
     },
     "output_type": "display_data"
    }
   ],
   "source": [
    "#собираем данные в одном датафрейме\n",
    "mergedCmlRev = cmlRevenueA.merge(cmlRevenueB, left_on='date', right_on='date', how='left', suffixes=['A', 'B'])\n",
    "\n",
    "#cтроим отношение средних чеков\n",
    "plt.figure(figsize=(15, 10))\n",
    "plt.plot(mergedCmlRev['date'], (mergedCmlRev['revenueB']/mergedCmlRev['ordersB'])/(mergedCmlRev['revenueA']/mergedCmlRev['ordersA'])-1)\n",
    "\n",
    "#добавляем ось X\n",
    "plt.axhline(y=0, color='black', linestyle='--')\n",
    "plt.title('График относительного изменения кумулятивного среднего чека группы B к группе A')\n",
    "plt.xlabel('День')\n",
    "plt.ylabel('Кумулятивный средний чек')\n",
    "plt.grid()\n",
    "plt.show()"
   ]
  },
  {
   "cell_type": "markdown",
   "metadata": {},
   "source": [
    "Похоже аномальные заказы все-таки есть, т.к. наблюдаются значительные и резкие изменения результатов теста в некоторые даты."
   ]
  },
  {
   "cell_type": "markdown",
   "metadata": {},
   "source": [
    "#### График кумулятивного среднего количества заказов на посетителя по группам "
   ]
  },
  {
   "cell_type": "code",
   "execution_count": 15,
   "metadata": {},
   "outputs": [
    {
     "data": {
      "image/png": "[encoded data removed]",
      "text/plain": [
       "<Figure size 1080x720 with 1 Axes>"
      ]
     },
     "metadata": {
      "needs_background": "light"
     },
     "output_type": "display_data"
    }
   ],
   "source": [
    "#считаем среднее количество заказов на посетителя\n",
    "cmlData['conversion'] = cmlData['orders']/cmlData['visitors']\n",
    "\n",
    "#отделяем данные по группе A и B\n",
    "cmlDataA = cmlData[cmlData['group']=='A']\n",
    "cmlDataB = cmlData[cmlData['group']=='B']\n",
    "\n",
    "#строим графики\n",
    "plt.figure(figsize=(15, 10))\n",
    "plt.plot(cmlDataA['date'], cmlDataA['conversion'], label='A')\n",
    "plt.plot(cmlDataB['date'], cmlDataB['conversion'], label='B')\n",
    "plt.title('График кумулятивного среднего количества заказов на посетителя по группам')\n",
    "plt.xlabel('День')\n",
    "plt.ylabel('Кумулятивное среднее кол-во заказов')\n",
    "plt.grid()\n",
    "plt.legend()\n",
    "\n",
    "#задаем масштаб осей\n",
    "plt.axis([dt.datetime(2019, 8, 1), dt.datetime(2019, 8, 31), 0, 0.05])\n",
    "plt.show()"
   ]
  },
  {
   "cell_type": "markdown",
   "metadata": {},
   "source": [
    "У обеих групп можно наблюдать колебания среднего количества заказов на посетителя в самом начале теста, затем у группы В оно возросло и зафиксировалось, у группы А, наоборот, просело и затем тоже зафиксировалось."
   ]
  },
  {
   "cell_type": "markdown",
   "metadata": {},
   "source": [
    "#### График относительного изменения кумулятивного среднего количества заказов на посетителя группы B к группе A"
   ]
  },
  {
   "cell_type": "code",
   "execution_count": 16,
   "metadata": {},
   "outputs": [
    {
     "data": {
      "image/png": "[encoded data removed]",
      "text/plain": [
       "<Figure size 1080x720 with 1 Axes>"
      ]
     },
     "metadata": {
      "needs_background": "light"
     },
     "output_type": "display_data"
    }
   ],
   "source": [
    "mergedCmlConversions = cmlDataA[['date', 'conversion']].merge(cmlDataB[['date', 'conversion']], left_on='date', right_on='date', how='left', suffixes=['A','B'])\n",
    "\n",
    "plt.figure(figsize=(15, 10))\n",
    "plt.plot(mergedCmlConversions['date'], mergedCmlConversions['conversionB']/mergedCmlConversions['conversionA']-1, label='Относительный прирост конверсии группы B относительно группы A')\n",
    "plt.title('График относительного изменения кумулятивного среднего количества заказов на посетителя группы В к группе А')\n",
    "plt.xlabel('День')\n",
    "plt.ylabel('Кумулятивное среднее кол-во заказов на посетителя')\n",
    "plt.grid()\n",
    "\n",
    "plt.axhline(y=0, color='black', linestyle='--')\n",
    "plt.axhline(y=0.15, color='grey', linestyle='--')\n",
    "plt.show()"
   ]
  },
  {
   "cell_type": "markdown",
   "metadata": {},
   "source": [
    "В самом начале группа В резко вырвалась вперед по количеству заказов на посетителя, затем также резко просела, но все равно в дальнейшем она стала лидером. Преимущество группы В составляет около 15%."
   ]
  },
  {
   "cell_type": "markdown",
   "metadata": {},
   "source": [
    "#### Точечный график количества заказов по пользователям"
   ]
  },
  {
   "cell_type": "code",
   "execution_count": 17,
   "metadata": {},
   "outputs": [
    {
     "data": {
      "text/html": [
       "<div>\n",
       "<style scoped>\n",
       "    .dataframe tbody tr th:only-of-type {\n",
       "        vertical-align: middle;\n",
       "    }\n",
       "\n",
       "    .dataframe tbody tr th {\n",
       "        vertical-align: top;\n",
       "    }\n",
       "\n",
       "    .dataframe thead th {\n",
       "        text-align: right;\n",
       "    }\n",
       "</style>\n",
       "<table border=\"1\" class=\"dataframe\">\n",
       "  <thead>\n",
       "    <tr style=\"text-align: right;\">\n",
       "      <th></th>\n",
       "      <th>visitorId</th>\n",
       "      <th>transactionId</th>\n",
       "    </tr>\n",
       "  </thead>\n",
       "  <tbody>\n",
       "    <tr>\n",
       "      <th>1023</th>\n",
       "      <td>4256040402</td>\n",
       "      <td>11</td>\n",
       "    </tr>\n",
       "    <tr>\n",
       "      <th>591</th>\n",
       "      <td>2458001652</td>\n",
       "      <td>11</td>\n",
       "    </tr>\n",
       "    <tr>\n",
       "      <th>569</th>\n",
       "      <td>2378935119</td>\n",
       "      <td>9</td>\n",
       "    </tr>\n",
       "    <tr>\n",
       "      <th>487</th>\n",
       "      <td>2038680547</td>\n",
       "      <td>8</td>\n",
       "    </tr>\n",
       "    <tr>\n",
       "      <th>44</th>\n",
       "      <td>199603092</td>\n",
       "      <td>5</td>\n",
       "    </tr>\n",
       "    <tr>\n",
       "      <th>744</th>\n",
       "      <td>3062433592</td>\n",
       "      <td>5</td>\n",
       "    </tr>\n",
       "    <tr>\n",
       "      <th>55</th>\n",
       "      <td>237748145</td>\n",
       "      <td>5</td>\n",
       "    </tr>\n",
       "    <tr>\n",
       "      <th>917</th>\n",
       "      <td>3803269165</td>\n",
       "      <td>5</td>\n",
       "    </tr>\n",
       "    <tr>\n",
       "      <th>299</th>\n",
       "      <td>1230306981</td>\n",
       "      <td>5</td>\n",
       "    </tr>\n",
       "    <tr>\n",
       "      <th>897</th>\n",
       "      <td>3717692402</td>\n",
       "      <td>5</td>\n",
       "    </tr>\n",
       "  </tbody>\n",
       "</table>\n",
       "</div>"
      ],
      "text/plain": [
       "       visitorId  transactionId\n",
       "1023  4256040402             11\n",
       "591   2458001652             11\n",
       "569   2378935119              9\n",
       "487   2038680547              8\n",
       "44     199603092              5\n",
       "744   3062433592              5\n",
       "55     237748145              5\n",
       "917   3803269165              5\n",
       "299   1230306981              5\n",
       "897   3717692402              5"
      ]
     },
     "execution_count": 17,
     "metadata": {},
     "output_type": "execute_result"
    }
   ],
   "source": [
    "#считаем сколько заказов совершил каждый пользователь\n",
    "ordersByUsers = orders.groupby('visitorId', as_index=False).agg({'transactionId':'nunique'})\n",
    "\n",
    "ordersByUsers.sort_values(by='transactionId',ascending=False).head(10)"
   ]
  },
  {
   "cell_type": "code",
   "execution_count": 18,
   "metadata": {},
   "outputs": [
    {
     "data": {
      "image/png": "[encoded data removed]",
      "text/plain": [
       "<Figure size 720x576 with 1 Axes>"
      ]
     },
     "metadata": {
      "needs_background": "light"
     },
     "output_type": "display_data"
    }
   ],
   "source": [
    "#построим график\n",
    "#серия из чисел от 0 до количества наблюдений в ordersByUsers\n",
    "x_values = pd.Series(range(0, len(ordersByUsers)))\n",
    "plt.figure(figsize=(10, 8))\n",
    "plt.scatter(x_values, ordersByUsers['transactionId'])\n",
    "plt.title('График количества заказов по пользователям')\n",
    "plt.xlabel('Пользователи')\n",
    "plt.ylabel('Кол-во заказов')\n",
    "plt.grid()"
   ]
  },
  {
   "cell_type": "markdown",
   "metadata": {},
   "source": [
    "Зачастую пользователи совершают 1-2 покупки. Тех же, кто совершает больше 2 покупок намного меньше. Есть также сильно выбивающиеся пользователи, которые сделали 8-11 заказов. Они скорее всего и являются аномальными."
   ]
  },
  {
   "cell_type": "markdown",
   "metadata": {},
   "source": [
    "#### Расчет 95-го и 99-го перцентиля количества заказов на пользователя"
   ]
  },
  {
   "cell_type": "code",
   "execution_count": 19,
   "metadata": {},
   "outputs": [
    {
     "data": {
      "text/plain": [
       "array([2., 4.])"
      ]
     },
     "execution_count": 19,
     "metadata": {},
     "output_type": "execute_result"
    }
   ],
   "source": [
    "np.percentile(ordersByUsers['transactionId'], [95, 99])"
   ]
  },
  {
   "cell_type": "markdown",
   "metadata": {},
   "source": [
    "Не более 5% пользователей совершили более 2 заказов, и не более 1% пользователей - более 4 заказов. Можно считать, что пользователи, совершившие более 4 заказов являются аномальными."
   ]
  },
  {
   "cell_type": "markdown",
   "metadata": {},
   "source": [
    "#### Точечный график стоимостей заказов"
   ]
  },
  {
   "cell_type": "code",
   "execution_count": 20,
   "metadata": {},
   "outputs": [
    {
     "data": {
      "image/png": "[encoded data removed]",
      "text/plain": [
       "<Figure size 720x576 with 1 Axes>"
      ]
     },
     "metadata": {
      "needs_background": "light"
     },
     "output_type": "display_data"
    }
   ],
   "source": [
    "x_values = pd.Series(range(0, len(orders['revenue'])))\n",
    "plt.figure(figsize=(10, 8))\n",
    "plt.scatter(x_values, orders['revenue'])\n",
    "plt.title('График стоимостей заказов')\n",
    "plt.xlabel('Пользователи')\n",
    "plt.ylabel('Стоимость')\n",
    "plt.grid()"
   ]
  },
  {
   "cell_type": "markdown",
   "metadata": {},
   "source": [
    "Есть выбивающиеся заказы, стоящие 1,3 млн. и 200 тысяч. Необходимо проверить, действительно ли их можно назвать аномальными."
   ]
  },
  {
   "cell_type": "code",
   "execution_count": 21,
   "metadata": {
    "scrolled": false
   },
   "outputs": [
    {
     "data": {
      "image/png": "[encoded data removed]",
      "text/plain": [
       "<Figure size 720x576 with 1 Axes>"
      ]
     },
     "metadata": {
      "needs_background": "light"
     },
     "output_type": "display_data"
    }
   ],
   "source": [
    "#построим график, установив ограничение по стоимости заказов, чтобы исключить влияние аномалий\n",
    "orders_filtered = orders.query('revenue < 100000')\n",
    "\n",
    "x_values = pd.Series(range(0, len(orders_filtered['revenue'])))\n",
    "plt.figure(figsize=(10, 8))\n",
    "plt.scatter(x_values, orders_filtered['revenue'])\n",
    "plt.title('График стоимостей заказов')\n",
    "plt.xlabel('Пользователи')\n",
    "plt.ylabel('Стоимость')\n",
    "plt.grid()"
   ]
  },
  {
   "cell_type": "markdown",
   "metadata": {},
   "source": [
    "Устранив аномалии можно увидеть более четкую картину распределения заказов по стоимости. Большинство заказов лежат в пределах 20 тысяч. Хотя встречаются заказы и дороже этой суммы."
   ]
  },
  {
   "cell_type": "markdown",
   "metadata": {},
   "source": [
    "#### Расчет 95-го и 99-го перцентиля стоимости заказов "
   ]
  },
  {
   "cell_type": "code",
   "execution_count": 22,
   "metadata": {},
   "outputs": [
    {
     "data": {
      "text/plain": [
       "array([28000. , 58233.2])"
      ]
     },
     "execution_count": 22,
     "metadata": {},
     "output_type": "execute_result"
    }
   ],
   "source": [
    "np.percentile(orders['revenue'], [95, 99])"
   ]
  },
  {
   "cell_type": "markdown",
   "metadata": {},
   "source": [
    "Не более 5% пользователей совершили заказ более, чем на 28 тысяч, и не более 1 % пользователей - больше, чем на 58 тысяч."
   ]
  },
  {
   "cell_type": "markdown",
   "metadata": {},
   "source": [
    "#### Расчет статистической значимости различий в среднем количестве заказов на посетителя между группами по «сырым» данным"
   ]
  },
  {
   "cell_type": "markdown",
   "metadata": {},
   "source": [
    "H0: Статистически значимых различий в среднем количестве заказов на посетителя между группами по \"сырым данным\" нет.\n",
    "\n",
    "H1: Статистически значимые различия в среднем количестве заказов на посетителя между группами по \"сырым данным\" есть."
   ]
  },
  {
   "cell_type": "markdown",
   "metadata": {},
   "source": [
    "Для проверки гипотез будем использовать критерий Манна-Уитни, т.к. у нас есть 2 независимые выборки и в данных есть выбросы, сильно сдвигающие параметрические результаты. В качестве alpha возьмем значение 0.05."
   ]
  },
  {
   "cell_type": "code",
   "execution_count": 23,
   "metadata": {},
   "outputs": [],
   "source": [
    "#отделяем посетителей группы А\n",
    "visitorsADaily = visitors[visitors['group'] == 'A'][['date', 'visitors']]\n",
    "visitorsADaily.columns = ['date', 'visitorsPerDateA']\n",
    "\n",
    "visitorsACml = visitorsADaily.apply(\n",
    "    lambda x: visitorsADaily[visitorsADaily['date'] <= x['date']].agg(\n",
    "        {'date': 'max', 'visitorsPerDateA': 'sum'}\n",
    "    ),\n",
    "    axis=1,\n",
    ")\n",
    "visitorsACml.columns = ['date', 'visitorsCmlA']\n",
    "\n",
    "#отделяем посетителей группы В\n",
    "visitorsBDaily = visitors[visitors['group'] == 'B'][['date', 'visitors']]\n",
    "visitorsBDaily.columns = ['date', 'visitorsPerDateB']\n",
    "\n",
    "visitorsBCml = visitorsBDaily.apply(\n",
    "    lambda x: visitorsBDaily[visitorsBDaily['date'] <= x['date']].agg(\n",
    "        {'date': 'max', 'visitorsPerDateB': 'sum'}\n",
    "    ),\n",
    "    axis=1,\n",
    ")\n",
    "visitorsBCml.columns = ['date', 'visitorsCummulativeB']\n",
    "\n",
    "#считаем кол-во пользователей в день по группе А\n",
    "ordersADaily = (\n",
    "    orders[orders['group'] == 'A'][['date', 'transactionId', 'visitorId', 'revenue']]\n",
    "    .groupby('date', as_index=False)\n",
    "    .agg({'transactionId': pd.Series.nunique, 'revenue': 'sum'})\n",
    ")\n",
    "ordersADaily.columns = ['date', 'ordersPerDateA', 'revenuePerDateA']\n",
    "\n",
    "ordersACml = ordersADaily.apply(\n",
    "    lambda x: ordersADaily[ordersADaily['date'] <= x['date']].agg(\n",
    "        {'date': 'max', 'ordersPerDateA': 'sum', 'revenuePerDateA': 'sum'}\n",
    "    ),\n",
    "    axis=1,\n",
    ").sort_values(by=['date'])\n",
    "ordersACml.columns = [\n",
    "    'date',\n",
    "    'ordersCummulativeA',\n",
    "    'revenueCummulativeA',\n",
    "]\n",
    "\n",
    "#считаем кол-во пользователей в день по группе В\n",
    "ordersBDaily = (\n",
    "    orders[orders['group'] == 'B'][['date', 'transactionId', 'visitorId', 'revenue']]\n",
    "    .groupby('date', as_index=False)\n",
    "    .agg({'transactionId': pd.Series.nunique, 'revenue': 'sum'})\n",
    ")\n",
    "ordersBDaily.columns = ['date', 'ordersPerDateB', 'revenuePerDateB']\n",
    "\n",
    "ordersBCml = ordersBDaily.apply(\n",
    "    lambda x: ordersBDaily[ordersBDaily['date'] <= x['date']].agg(\n",
    "        {'date': 'max', 'ordersPerDateB': 'sum', 'revenuePerDateB': 'sum'}\n",
    "    ),\n",
    "    axis=1,\n",
    ").sort_values(by=['date'])\n",
    "ordersBCml.columns = [\n",
    "    'date',\n",
    "    'ordersCummulativeB',\n",
    "    'revenueCummulativeB',\n",
    "]\n"
   ]
  },
  {
   "cell_type": "code",
   "execution_count": 24,
   "metadata": {},
   "outputs": [
    {
     "name": "stdout",
     "output_type": "stream",
     "text": [
      "        date  ordersPerDateA  revenuePerDateA  ordersPerDateB  \\\n",
      "0 2019-08-01              24           148579              21   \n",
      "1 2019-08-02              20            93822              24   \n",
      "2 2019-08-03              24           112473              16   \n",
      "3 2019-08-04              16            70825              17   \n",
      "4 2019-08-05              25           124218              23   \n",
      "\n",
      "   revenuePerDateB  ordersCummulativeA  revenueCummulativeA  \\\n",
      "0           101217                  24               148579   \n",
      "1           165531                  44               242401   \n",
      "2           114248                  68               354874   \n",
      "3           108571                  84               425699   \n",
      "4            92428                 109               549917   \n",
      "\n",
      "   ordersCummulativeB  revenueCummulativeB  visitorsPerDateA  \\\n",
      "0                  21               101217               719   \n",
      "1                  45               266748               619   \n",
      "2                  61               380996               507   \n",
      "3                  78               489567               717   \n",
      "4                 101               581995               756   \n",
      "\n",
      "   visitorsPerDateB  visitorsCmlA  visitorsCummulativeB  \n",
      "0               713           719                   713  \n",
      "1               581          1338                  1294  \n",
      "2               509          1845                  1803  \n",
      "3               770          2562                  2573  \n",
      "4               707          3318                  3280  \n"
     ]
    }
   ],
   "source": [
    "#объединяем все получившиеся датафреймы в 1\n",
    "data = (\n",
    "    ordersADaily.merge(\n",
    "        ordersBDaily, left_on='date', right_on='date', how='left'\n",
    "    )\n",
    "    .merge(ordersACml, left_on='date', right_on='date', how='left')\n",
    "    .merge(ordersBCml, left_on='date', right_on='date', how='left')\n",
    "    .merge(visitorsADaily, left_on='date', right_on='date', how='left')\n",
    "    .merge(visitorsBDaily, left_on='date', right_on='date', how='left')\n",
    "    .merge(visitorsACml, left_on='date', right_on='date', how='left')\n",
    "    .merge(visitorsBCml, left_on='date', right_on='date', how='left')\n",
    ")\n",
    "\n",
    "print(data.head(5))"
   ]
  },
  {
   "cell_type": "code",
   "execution_count": 25,
   "metadata": {
    "scrolled": true
   },
   "outputs": [
    {
     "name": "stdout",
     "output_type": "stream",
     "text": [
      "p-value составляет: 0.017\n",
      "Относительное различие в среднем между группами: 0.138\n"
     ]
    }
   ],
   "source": [
    "#создадим переменные ordersByUsersA и ordersByUsersВ, где для пользователей, совершивших хотя бы 1 заказ, будет указано \n",
    "#число заказов\n",
    "ordersByUsersA = (orders[orders['group']=='A'].groupby('visitorId', as_index=False).agg({'transactionId': pd.Series.nunique}))\n",
    "ordersByUsersA.columns = ['visitorId', 'transactionId']\n",
    "\n",
    "ordersByUsersB = (orders[orders['group']=='B'].groupby('visitorId', as_index=False).agg({'transactionId': pd.Series.nunique}))\n",
    "ordersByUsersB.columns = ['visitorId', 'transactionId']\n",
    "\n",
    "\n",
    "#объявим переменные sampleA и sampleB, в которых пользователям с заказами будет соответствовать число заказов пользователя\n",
    "sampleA = pd.concat([ordersByUsersA['transactionId'], pd.Series(0, index=np.arange(data['visitorsPerDateA'].sum()\\\n",
    "                    - len(ordersByUsersA['transactionId'])), name='orders')], axis=0)\n",
    "\n",
    "sampleB = pd.concat([ordersByUsersB['transactionId'], pd.Series(0, index=np.arange(data['visitorsPerDateB'].sum()\\\n",
    "                    - len(ordersByUsersB['transactionId'])), name='orders')], axis=0)\n",
    "\n",
    "#посчитаем статистическую значимость различия среднего количества заказов по результатам теста, применив тест Манна-Уитни.\n",
    "#Выведем p-value для сравнения среднего между группами, округлив p-value до 3 знаков после запятой, \n",
    "#вычислим и выведем относительное различие в среднем между группами, округлив до 3 знаков после запятой\n",
    "\n",
    "print(\"p-value составляет: {0:.3f}\".format(stats.mannwhitneyu(sampleA, sampleB)[1]))\n",
    "print(\"Относительное различие в среднем между группами: {0:.3f}\".format(sampleB.mean() / sampleA.mean() - 1))"
   ]
  },
  {
   "cell_type": "markdown",
   "metadata": {},
   "source": [
    "p-value меньше 0.05, нулевую гипотезу можно отвергнуть. Соответственно, на основе анализа \"сырых данных\", обнаружено, что в среднем кол-ве заказов есть статистически значимые различия между двумя группами. Относительный прирост среднего группы В к конверсии группы А составляет 13.8%."
   ]
  },
  {
   "cell_type": "markdown",
   "metadata": {},
   "source": [
    "#### Расчет статистической значимости различий в среднем чеке заказа между группами по «сырым» данным "
   ]
  },
  {
   "cell_type": "markdown",
   "metadata": {},
   "source": [
    "Н0: Средний чек заказа группы А = средний чек заказа группы В\n",
    "\n",
    "Н1: Средний чек заказа группы А ≠ средний чек заказа группы В"
   ]
  },
  {
   "cell_type": "code",
   "execution_count": 26,
   "metadata": {},
   "outputs": [
    {
     "name": "stdout",
     "output_type": "stream",
     "text": [
      "p-value составляет: 0.729\n",
      "Относительное различие в среднем между группами: 0.259\n"
     ]
    }
   ],
   "source": [
    "print('p-value составляет: {0:.3f}'.format(stats.mannwhitneyu(orders[orders['group']=='A']['revenue'], orders[orders['group']=='B']['revenue'])[1]))\n",
    "print('Относительное различие в среднем между группами: {0:.3f}'.format(orders[orders['group']=='B']['revenue'].mean()/orders[orders['group']=='A']['revenue'].mean() - 1))"
   ]
  },
  {
   "cell_type": "markdown",
   "metadata": {},
   "source": [
    "p-value больше 0.05, значит нулевую гипотезу отвергнуть нельзя, статистически значимых отличий в среднем чеке между группами нет. Относительное различие составило 25.9%. Необходимо проанализировать аномалии."
   ]
  },
  {
   "cell_type": "markdown",
   "metadata": {},
   "source": [
    "#### Расчет статистической значимости различий в среднем количестве заказов на посетителя между группами по «очищенным» данным "
   ]
  },
  {
   "cell_type": "markdown",
   "metadata": {},
   "source": [
    "Для начала подготовим, очищенные от аномалий, данные. На основе предыдущих вычислений, предположим, что пользователи, что совершили 4 и более заказов или совершили заказ дороже 30 тысяч, являются аномальными.\n",
    "\n",
    "Н0: Среднее количество заказов на посетителя группы А = среднее количество заказов на посетителя группы В\n",
    "\n",
    "Н1: Среднее количество заказов на посетителя группы А ≠ среднее количество заказов на посетителя группы В"
   ]
  },
  {
   "cell_type": "code",
   "execution_count": 27,
   "metadata": {},
   "outputs": [
    {
     "name": "stdout",
     "output_type": "stream",
     "text": [
      "1099     148427295\n",
      "949      887908475\n",
      "744      888512513\n",
      "1103    1164614297\n",
      "1136    1307669133\n",
      "Name: visitorId, dtype: int64\n"
     ]
    }
   ],
   "source": [
    "#сделаем срезы с аномальными пользователями\n",
    "usersWithManyOrders  = pd.concat(\n",
    "    [\n",
    "        ordersByUsersA[ordersByUsersA['transactionId'] > np.percentile(ordersByUsers['transactionId'], 99)]['visitorId'],\n",
    "        ordersByUsersB[ordersByUsersB['transactionId'] > np.percentile(ordersByUsers['transactionId'], 99)]['visitorId'],\n",
    "    ],\n",
    "    axis=0,\n",
    ")\n",
    "                                  \n",
    "usersWithExpensiveOrders  = orders[orders['revenue'] > np.percentile(orders['revenue'], 99)]['visitorId']\n",
    "\n",
    "#объединим аномальных пользователей в abnormalUsers\n",
    "abnormalUsers = (pd.concat([usersWithManyOrders, usersWithExpensiveOrders], axis=0).drop_duplicates().sort_values())\n",
    "print(abnormalUsers.head(5))"
   ]
  },
  {
   "cell_type": "code",
   "execution_count": 28,
   "metadata": {
    "scrolled": true
   },
   "outputs": [
    {
     "name": "stdout",
     "output_type": "stream",
     "text": [
      "p-value составляет: 0.014\n",
      "Относительное различие в среднем между группами: 0.153\n"
     ]
    }
   ],
   "source": [
    "#cоздадим переменные sampleAFiltered и sampleBFiltered, в которых сохраним очищенные данные о заказах\n",
    "\n",
    "sampleAFiltered = pd.concat([ordersByUsersA[np.logical_not(ordersByUsersA['visitorId'].isin(abnormalUsers))]['transactionId'],\\\n",
    "                             pd.Series(0, index=np.arange(data['visitorsPerDateA'].sum() - len(ordersByUsersA['transactionId'])),\\\n",
    "                             name='orders')], axis=0)\n",
    "sampleBFiltered = pd.concat([ordersByUsersB[np.logical_not(ordersByUsersB['visitorId'].isin(abnormalUsers))]['transactionId'],\\\n",
    "                             pd.Series(0, index=np.arange(data['visitorsPerDateB'].sum() - len(ordersByUsersB['transactionId'])),\\\n",
    "                             name='orders')], axis=0)\n",
    "\n",
    "#выведем p-value для сравнения среднего между очищенными группами и относительный прирост среднего очищенной группы B\n",
    "print('p-value составляет: {0:.3f}'.format(stats.mannwhitneyu(sampleAFiltered, sampleBFiltered)[1]))\n",
    "print('Относительное различие в среднем между группами: {0:.3f}'.format(sampleBFiltered.mean()/sampleAFiltered.mean() - 1))\n"
   ]
  },
  {
   "cell_type": "markdown",
   "metadata": {},
   "source": [
    "p-value меньше 0.05, нулевую гипотезу можно отвергнуть. Относительное различие в среднем между группами составило 18.3%. После очистки данных от аномалий обнаружено больше различий между двумя группами(показатель увеличился на 5%)."
   ]
  },
  {
   "cell_type": "markdown",
   "metadata": {},
   "source": [
    "#### Расчет статистической значимости различий в среднем чеке заказа между группами по «очищенным» данным "
   ]
  },
  {
   "cell_type": "markdown",
   "metadata": {},
   "source": [
    "Н0: Средний чек заказа группы А = средний чек заказа группы В\n",
    "\n",
    "Н1: Средний чек заказа группы А ≠ средний чек заказа группы В"
   ]
  },
  {
   "cell_type": "code",
   "execution_count": 29,
   "metadata": {
    "scrolled": true
   },
   "outputs": [
    {
     "name": "stdout",
     "output_type": "stream",
     "text": [
      "p-value составляет: 0.851\n",
      "Относительное различие в среднем между группами: -0.006\n"
     ]
    }
   ],
   "source": [
    "print(\n",
    "    'p-value составляет: {0:.3f}'.format(\n",
    "        stats.mannwhitneyu(\n",
    "            orders[\n",
    "                np.logical_and(\n",
    "                    orders['group'] == 'A',\n",
    "                    np.logical_not(orders['visitorId'].isin(abnormalUsers)),\n",
    "                )\n",
    "            ]['revenue'],\n",
    "            orders[\n",
    "                np.logical_and(\n",
    "                    orders['group'] == 'B',\n",
    "                    np.logical_not(orders['visitorId'].isin(abnormalUsers)),\n",
    "                )\n",
    "            ]['revenue'],\n",
    "        )[1]\n",
    "    )\n",
    ")\n",
    "\n",
    "print(\n",
    "    \"Относительное различие в среднем между группами: {0:.3f}\".format(\n",
    "        orders[\n",
    "            np.logical_and(\n",
    "                orders['group'] == 'B',\n",
    "                np.logical_not(orders['visitorId'].isin(abnormalUsers)),\n",
    "            )\n",
    "        ]['revenue'].mean()\n",
    "        / orders[\n",
    "            np.logical_and(\n",
    "                orders['group'] == 'A',\n",
    "                np.logical_not(orders['visitorId'].isin(abnormalUsers)),\n",
    "            )\n",
    "        ]['revenue'].mean()\n",
    "        - 1\n",
    "    )\n",
    ")"
   ]
  },
  {
   "cell_type": "markdown",
   "metadata": {},
   "source": [
    "p-value больше 0.05, значит нет оснований отвергать нулевую гипотезу. Значение относительного различия так же, как и p-value, уменьшились после устранения аномалий. Различий в среднем чеке заказа между группами нет."
   ]
  },
  {
   "cell_type": "markdown",
   "metadata": {},
   "source": [
    "### Общий вывод"
   ]
  },
  {
   "cell_type": "markdown",
   "metadata": {},
   "source": [
    "В рамках данного исследования был приоритизирован список гипотез, составленный с целью увеличения выручки крупного интернет-магазина. Далее был запущен A/B-тест, результаты которого были проанализированы."
   ]
  },
  {
   "cell_type": "markdown",
   "metadata": {},
   "source": [
    "**Этап 1. Изучение и предварительная обработка данных**\n",
    "\n",
    "На этапе предобработки были произведены:\n",
    "\n",
    "* приведение названий столбцов к нужному виду;\n",
    "\n",
    "* изменение типа данных там, где это было необходимо;\n",
    "\n",
    "* проверка данных на пропуски и дубликаты.\n",
    "\n",
    "Столбцы датафрейма `hypothesis` приведены к нижнему регистру. Тип данных в столбце date датафреймов `orders` и `visitors` был изменен. Пропусков и дубликатов в данных обнаружено не было."
   ]
  },
  {
   "cell_type": "markdown",
   "metadata": {},
   "source": [
    "**Этап 2. Приоритизация гипотез**\n",
    "\n",
    "Приоритизация гипотез была произведена при помощи фреймворков ICE, RICE.\n",
    "\n",
    "По ICE наиболее перспективные гипотезы: 8, 0 и 7. По RICE наиболее перспективные гипотезы: 7, 2, 0 и 6. Таким образом, гипотезы 7 и 0 так и остались наиболее перспективными, а вместо гипотезы 8 в лидеры вышли гипотезы 2 и 6. "
   ]
  },
  {
   "cell_type": "markdown",
   "metadata": {},
   "source": [
    "**Этап 3. Анализ A/B теста**"
   ]
  },
  {
   "cell_type": "markdown",
   "metadata": {},
   "source": [
    "* Есть статистически значимые различия между двумя группами в *среднем кол-ве заказов* как по \"сырым данным\", так и после фильтрации.\n",
    "\n",
    "\n",
    "* Нет статистически значимых различий в *среднем чеке заказа* между группами как по \"сырым данным\", так и после фильтрации.\n",
    "\n",
    "\n",
    "* График различия конверсии между группами сообщает, что у обеих групп можно наблюдать колебания *среднего количества заказов на посетителя* в самом начале теста, затем у группы В оно возросло и зафиксировалось, у группы А оно, наоборот, просело и затем тоже зафиксировалось.\n",
    "\n",
    "\n",
    "* График различия *среднего чека* колеблется. В ходе дальнейшего анализа были обнаружены аномалии. Сделать из этого графика определённые выводы нельзя."
   ]
  },
  {
   "cell_type": "markdown",
   "metadata": {},
   "source": [
    "Таким образом, можно сделать вывод о том, что на данный момент можно остановить тест, т.к. группа В статистически значимо лучше группы А."
   ]
  }
 ],
 "metadata": {
  "ExecuteTimeLog": [
   {
    "duration": 1472,
    "start_time": "2023-12-25T12:52:21.834Z"
   },
   {
    "duration": 186,
    "start_time": "2023-12-25T12:55:59.572Z"
   },
   {
    "duration": 3,
    "start_time": "2023-12-25T12:56:06.534Z"
   },
   {
    "duration": 61,
    "start_time": "2023-12-25T12:56:50.587Z"
   },
   {
    "duration": 9,
    "start_time": "2023-12-25T13:06:35.042Z"
   },
   {
    "duration": 108,
    "start_time": "2023-12-25T13:10:28.121Z"
   },
   {
    "duration": 1179,
    "start_time": "2023-12-25T13:10:44.629Z"
   },
   {
    "duration": 73,
    "start_time": "2023-12-25T13:10:45.810Z"
   },
   {
    "duration": 4,
    "start_time": "2023-12-25T13:10:45.885Z"
   },
   {
    "duration": 63,
    "start_time": "2023-12-25T13:10:45.890Z"
   },
   {
    "duration": 10,
    "start_time": "2023-12-25T13:10:45.955Z"
   },
   {
    "duration": 142,
    "start_time": "2023-12-25T13:10:45.966Z"
   },
   {
    "duration": 21,
    "start_time": "2023-12-25T13:11:02.523Z"
   },
   {
    "duration": 23,
    "start_time": "2023-12-25T13:11:50.598Z"
   },
   {
    "duration": 17,
    "start_time": "2023-12-25T13:11:58.020Z"
   },
   {
    "duration": 1206,
    "start_time": "2023-12-25T13:12:08.322Z"
   },
   {
    "duration": 73,
    "start_time": "2023-12-25T13:12:09.531Z"
   },
   {
    "duration": 4,
    "start_time": "2023-12-25T13:12:09.606Z"
   },
   {
    "duration": 86,
    "start_time": "2023-12-25T13:12:09.612Z"
   },
   {
    "duration": 9,
    "start_time": "2023-12-25T13:12:09.700Z"
   },
   {
    "duration": 27,
    "start_time": "2023-12-25T13:12:09.710Z"
   },
   {
    "duration": 42,
    "start_time": "2023-12-25T13:12:09.739Z"
   },
   {
    "duration": 13,
    "start_time": "2023-12-25T13:12:29.345Z"
   },
   {
    "duration": 1245,
    "start_time": "2023-12-25T13:12:54.615Z"
   },
   {
    "duration": 74,
    "start_time": "2023-12-25T13:12:55.862Z"
   },
   {
    "duration": 4,
    "start_time": "2023-12-25T13:12:55.937Z"
   },
   {
    "duration": 74,
    "start_time": "2023-12-25T13:12:55.943Z"
   },
   {
    "duration": 9,
    "start_time": "2023-12-25T13:12:56.019Z"
   },
   {
    "duration": 14,
    "start_time": "2023-12-25T13:12:56.030Z"
   },
   {
    "duration": 10,
    "start_time": "2023-12-25T13:12:56.046Z"
   },
   {
    "duration": 9,
    "start_time": "2023-12-25T13:14:31.681Z"
   },
   {
    "duration": 1219,
    "start_time": "2023-12-25T13:16:46.911Z"
   },
   {
    "duration": 74,
    "start_time": "2023-12-25T13:16:48.132Z"
   },
   {
    "duration": 4,
    "start_time": "2023-12-25T13:16:48.208Z"
   },
   {
    "duration": 89,
    "start_time": "2023-12-25T13:16:48.214Z"
   },
   {
    "duration": 10,
    "start_time": "2023-12-25T13:16:48.305Z"
   },
   {
    "duration": 22,
    "start_time": "2023-12-25T13:16:48.317Z"
   },
   {
    "duration": 15,
    "start_time": "2023-12-25T13:16:48.341Z"
   },
   {
    "duration": 40,
    "start_time": "2023-12-25T13:16:48.358Z"
   },
   {
    "duration": 8,
    "start_time": "2023-12-25T13:25:55.143Z"
   },
   {
    "duration": 7,
    "start_time": "2023-12-25T13:29:24.767Z"
   },
   {
    "duration": 1236,
    "start_time": "2023-12-25T13:29:38.298Z"
   },
   {
    "duration": 73,
    "start_time": "2023-12-25T13:29:39.536Z"
   },
   {
    "duration": 4,
    "start_time": "2023-12-25T13:29:39.611Z"
   },
   {
    "duration": 89,
    "start_time": "2023-12-25T13:29:39.616Z"
   },
   {
    "duration": 9,
    "start_time": "2023-12-25T13:29:39.708Z"
   },
   {
    "duration": 24,
    "start_time": "2023-12-25T13:29:39.719Z"
   },
   {
    "duration": 20,
    "start_time": "2023-12-25T13:29:39.745Z"
   },
   {
    "duration": 45,
    "start_time": "2023-12-25T13:29:39.767Z"
   },
   {
    "duration": 22,
    "start_time": "2023-12-25T13:29:39.814Z"
   },
   {
    "duration": 18,
    "start_time": "2023-12-25T13:29:39.838Z"
   },
   {
    "duration": 1269,
    "start_time": "2023-12-25T13:32:24.653Z"
   },
   {
    "duration": 74,
    "start_time": "2023-12-25T13:32:25.924Z"
   },
   {
    "duration": 4,
    "start_time": "2023-12-25T13:32:26.000Z"
   },
   {
    "duration": 83,
    "start_time": "2023-12-25T13:32:26.006Z"
   },
   {
    "duration": 15,
    "start_time": "2023-12-25T13:32:26.091Z"
   },
   {
    "duration": 27,
    "start_time": "2023-12-25T13:32:26.108Z"
   },
   {
    "duration": 27,
    "start_time": "2023-12-25T13:32:26.137Z"
   },
   {
    "duration": 52,
    "start_time": "2023-12-25T13:32:26.166Z"
   },
   {
    "duration": 29,
    "start_time": "2023-12-25T13:32:26.220Z"
   },
   {
    "duration": 33,
    "start_time": "2023-12-25T13:32:26.251Z"
   },
   {
    "duration": 950,
    "start_time": "2023-12-25T13:34:02.905Z"
   },
   {
    "duration": 11,
    "start_time": "2023-12-25T13:34:18.921Z"
   },
   {
    "duration": 1318,
    "start_time": "2023-12-25T13:34:32.968Z"
   },
   {
    "duration": 74,
    "start_time": "2023-12-25T13:34:34.288Z"
   },
   {
    "duration": 4,
    "start_time": "2023-12-25T13:34:34.364Z"
   },
   {
    "duration": 60,
    "start_time": "2023-12-25T13:34:34.369Z"
   },
   {
    "duration": 9,
    "start_time": "2023-12-25T13:34:34.432Z"
   },
   {
    "duration": 10,
    "start_time": "2023-12-25T13:34:34.442Z"
   },
   {
    "duration": 18,
    "start_time": "2023-12-25T13:34:34.454Z"
   },
   {
    "duration": 45,
    "start_time": "2023-12-25T13:34:34.474Z"
   },
   {
    "duration": 13,
    "start_time": "2023-12-25T13:34:34.521Z"
   },
   {
    "duration": 905,
    "start_time": "2023-12-25T13:34:34.535Z"
   },
   {
    "duration": 751,
    "start_time": "2023-12-25T13:34:41.551Z"
   },
   {
    "duration": 1294,
    "start_time": "2023-12-25T13:35:06.135Z"
   },
   {
    "duration": 73,
    "start_time": "2023-12-25T13:35:07.432Z"
   },
   {
    "duration": 4,
    "start_time": "2023-12-25T13:35:07.507Z"
   },
   {
    "duration": 67,
    "start_time": "2023-12-25T13:35:07.513Z"
   },
   {
    "duration": 27,
    "start_time": "2023-12-25T13:35:07.582Z"
   },
   {
    "duration": 25,
    "start_time": "2023-12-25T13:35:07.611Z"
   },
   {
    "duration": 20,
    "start_time": "2023-12-25T13:35:07.638Z"
   },
   {
    "duration": 28,
    "start_time": "2023-12-25T13:35:07.660Z"
   },
   {
    "duration": 18,
    "start_time": "2023-12-25T13:35:07.689Z"
   },
   {
    "duration": 13,
    "start_time": "2023-12-25T13:35:07.709Z"
   },
   {
    "duration": 46,
    "start_time": "2023-12-25T17:57:30.904Z"
   },
   {
    "duration": 1327,
    "start_time": "2023-12-25T17:57:54.759Z"
   },
   {
    "duration": 181,
    "start_time": "2023-12-25T17:57:56.088Z"
   },
   {
    "duration": 4,
    "start_time": "2023-12-25T17:57:56.271Z"
   },
   {
    "duration": 62,
    "start_time": "2023-12-25T17:57:56.276Z"
   },
   {
    "duration": 7,
    "start_time": "2023-12-25T17:57:56.339Z"
   },
   {
    "duration": 27,
    "start_time": "2023-12-25T17:57:56.347Z"
   },
   {
    "duration": 15,
    "start_time": "2023-12-25T17:57:56.375Z"
   },
   {
    "duration": 20,
    "start_time": "2023-12-25T17:57:56.391Z"
   },
   {
    "duration": 31,
    "start_time": "2023-12-25T17:57:56.412Z"
   },
   {
    "duration": 20,
    "start_time": "2023-12-25T17:57:56.445Z"
   },
   {
    "duration": 109,
    "start_time": "2023-12-25T17:57:56.467Z"
   },
   {
    "duration": 254,
    "start_time": "2023-12-25T18:00:55.188Z"
   },
   {
    "duration": 277,
    "start_time": "2023-12-25T18:02:25.270Z"
   },
   {
    "duration": 288,
    "start_time": "2023-12-25T18:04:33.749Z"
   },
   {
    "duration": 243,
    "start_time": "2023-12-25T18:04:41.974Z"
   },
   {
    "duration": 230,
    "start_time": "2023-12-25T18:05:28.083Z"
   },
   {
    "duration": 178,
    "start_time": "2023-12-25T18:08:30.847Z"
   },
   {
    "duration": 196,
    "start_time": "2023-12-25T18:17:45.757Z"
   },
   {
    "duration": 171,
    "start_time": "2023-12-25T18:17:55.283Z"
   },
   {
    "duration": 183,
    "start_time": "2023-12-25T18:25:14.575Z"
   },
   {
    "duration": 20,
    "start_time": "2023-12-25T18:32:30.802Z"
   },
   {
    "duration": 176,
    "start_time": "2023-12-25T18:41:00.843Z"
   },
   {
    "duration": 174,
    "start_time": "2023-12-25T18:41:42.146Z"
   },
   {
    "duration": 1065,
    "start_time": "2023-12-25T18:41:49.046Z"
   },
   {
    "duration": 71,
    "start_time": "2023-12-25T18:41:50.113Z"
   },
   {
    "duration": 4,
    "start_time": "2023-12-25T18:41:50.185Z"
   },
   {
    "duration": 58,
    "start_time": "2023-12-25T18:41:50.191Z"
   },
   {
    "duration": 7,
    "start_time": "2023-12-25T18:41:50.252Z"
   },
   {
    "duration": 24,
    "start_time": "2023-12-25T18:41:50.260Z"
   },
   {
    "duration": 7,
    "start_time": "2023-12-25T18:41:50.285Z"
   },
   {
    "duration": 25,
    "start_time": "2023-12-25T18:41:50.294Z"
   },
   {
    "duration": 23,
    "start_time": "2023-12-25T18:41:50.320Z"
   },
   {
    "duration": 9,
    "start_time": "2023-12-25T18:41:50.345Z"
   },
   {
    "duration": 261,
    "start_time": "2023-12-25T18:41:50.355Z"
   },
   {
    "duration": 257,
    "start_time": "2023-12-25T18:41:50.617Z"
   },
   {
    "duration": 143,
    "start_time": "2023-12-25T18:45:19.743Z"
   },
   {
    "duration": 174,
    "start_time": "2023-12-25T18:46:03.090Z"
   },
   {
    "duration": 122,
    "start_time": "2023-12-25T18:50:45.437Z"
   },
   {
    "duration": 138,
    "start_time": "2023-12-25T18:52:55.697Z"
   },
   {
    "duration": 90,
    "start_time": "2023-12-25T19:02:09.050Z"
   },
   {
    "duration": 238,
    "start_time": "2023-12-25T19:02:32.485Z"
   },
   {
    "duration": 201,
    "start_time": "2023-12-25T19:22:25.263Z"
   },
   {
    "duration": 1187,
    "start_time": "2023-12-25T19:22:46.465Z"
   },
   {
    "duration": 74,
    "start_time": "2023-12-25T19:22:47.654Z"
   },
   {
    "duration": 5,
    "start_time": "2023-12-25T19:22:47.730Z"
   },
   {
    "duration": 73,
    "start_time": "2023-12-25T19:22:47.737Z"
   },
   {
    "duration": 8,
    "start_time": "2023-12-25T19:22:47.811Z"
   },
   {
    "duration": 19,
    "start_time": "2023-12-25T19:22:47.821Z"
   },
   {
    "duration": 11,
    "start_time": "2023-12-25T19:22:47.842Z"
   },
   {
    "duration": 37,
    "start_time": "2023-12-25T19:22:47.854Z"
   },
   {
    "duration": 26,
    "start_time": "2023-12-25T19:22:47.893Z"
   },
   {
    "duration": 14,
    "start_time": "2023-12-25T19:22:47.921Z"
   },
   {
    "duration": 270,
    "start_time": "2023-12-25T19:22:47.937Z"
   },
   {
    "duration": 163,
    "start_time": "2023-12-25T19:22:48.209Z"
   },
   {
    "duration": 152,
    "start_time": "2023-12-25T19:22:48.374Z"
   },
   {
    "duration": 211,
    "start_time": "2023-12-25T19:22:48.528Z"
   },
   {
    "duration": 228,
    "start_time": "2023-12-25T19:22:48.741Z"
   },
   {
    "duration": 227,
    "start_time": "2023-12-25T19:25:59.289Z"
   },
   {
    "duration": 1221,
    "start_time": "2023-12-26T11:14:23.103Z"
   },
   {
    "duration": 195,
    "start_time": "2023-12-26T11:14:24.326Z"
   },
   {
    "duration": 4,
    "start_time": "2023-12-26T11:14:24.522Z"
   },
   {
    "duration": 90,
    "start_time": "2023-12-26T11:14:24.527Z"
   },
   {
    "duration": 6,
    "start_time": "2023-12-26T11:14:24.618Z"
   },
   {
    "duration": 32,
    "start_time": "2023-12-26T11:14:24.626Z"
   },
   {
    "duration": 26,
    "start_time": "2023-12-26T11:14:24.660Z"
   },
   {
    "duration": 60,
    "start_time": "2023-12-26T11:14:24.687Z"
   },
   {
    "duration": 53,
    "start_time": "2023-12-26T11:14:24.749Z"
   },
   {
    "duration": 36,
    "start_time": "2023-12-26T11:14:24.804Z"
   },
   {
    "duration": 270,
    "start_time": "2023-12-26T11:14:24.841Z"
   },
   {
    "duration": 168,
    "start_time": "2023-12-26T11:14:25.112Z"
   },
   {
    "duration": 154,
    "start_time": "2023-12-26T11:14:25.281Z"
   },
   {
    "duration": 289,
    "start_time": "2023-12-26T11:14:25.437Z"
   },
   {
    "duration": 266,
    "start_time": "2023-12-26T11:14:25.728Z"
   },
   {
    "duration": 160,
    "start_time": "2023-12-26T11:18:26.260Z"
   },
   {
    "duration": 1149,
    "start_time": "2023-12-26T11:24:50.718Z"
   },
   {
    "duration": 76,
    "start_time": "2023-12-26T11:24:51.868Z"
   },
   {
    "duration": 10,
    "start_time": "2023-12-26T11:24:51.946Z"
   },
   {
    "duration": 101,
    "start_time": "2023-12-26T11:24:51.957Z"
   },
   {
    "duration": 12,
    "start_time": "2023-12-26T11:24:52.061Z"
   },
   {
    "duration": 31,
    "start_time": "2023-12-26T11:24:52.075Z"
   },
   {
    "duration": 30,
    "start_time": "2023-12-26T11:24:52.108Z"
   },
   {
    "duration": 30,
    "start_time": "2023-12-26T11:24:52.140Z"
   },
   {
    "duration": 11,
    "start_time": "2023-12-26T11:24:52.171Z"
   },
   {
    "duration": 36,
    "start_time": "2023-12-26T11:24:52.184Z"
   },
   {
    "duration": 277,
    "start_time": "2023-12-26T11:24:52.221Z"
   },
   {
    "duration": 168,
    "start_time": "2023-12-26T11:24:52.500Z"
   },
   {
    "duration": 151,
    "start_time": "2023-12-26T11:24:52.670Z"
   },
   {
    "duration": 273,
    "start_time": "2023-12-26T11:24:52.823Z"
   },
   {
    "duration": 248,
    "start_time": "2023-12-26T11:24:53.097Z"
   },
   {
    "duration": 170,
    "start_time": "2023-12-26T11:36:55.266Z"
   },
   {
    "duration": 1091,
    "start_time": "2023-12-26T11:37:03.951Z"
   },
   {
    "duration": 76,
    "start_time": "2023-12-26T11:37:05.045Z"
   },
   {
    "duration": 479,
    "start_time": "2023-12-26T11:37:05.123Z"
   },
   {
    "duration": 279,
    "start_time": "2023-12-26T11:37:05.604Z"
   },
   {
    "duration": 7,
    "start_time": "2023-12-26T11:37:05.885Z"
   },
   {
    "duration": 6,
    "start_time": "2023-12-26T11:37:05.893Z"
   },
   {
    "duration": 32,
    "start_time": "2023-12-26T11:37:05.900Z"
   },
   {
    "duration": 34,
    "start_time": "2023-12-26T11:37:05.934Z"
   },
   {
    "duration": 32,
    "start_time": "2023-12-26T11:37:05.969Z"
   },
   {
    "duration": 38,
    "start_time": "2023-12-26T11:37:06.002Z"
   },
   {
    "duration": 259,
    "start_time": "2023-12-26T11:37:06.041Z"
   },
   {
    "duration": 247,
    "start_time": "2023-12-26T11:37:06.301Z"
   },
   {
    "duration": 178,
    "start_time": "2023-12-26T11:37:06.550Z"
   },
   {
    "duration": 276,
    "start_time": "2023-12-26T11:37:06.730Z"
   },
   {
    "duration": 167,
    "start_time": "2023-12-26T11:37:07.007Z"
   },
   {
    "duration": 381,
    "start_time": "2023-12-26T11:37:07.175Z"
   },
   {
    "duration": 1124,
    "start_time": "2023-12-26T11:37:52.335Z"
   },
   {
    "duration": 77,
    "start_time": "2023-12-26T11:37:53.461Z"
   },
   {
    "duration": 3,
    "start_time": "2023-12-26T11:37:53.540Z"
   },
   {
    "duration": 86,
    "start_time": "2023-12-26T11:37:53.545Z"
   },
   {
    "duration": 8,
    "start_time": "2023-12-26T11:37:53.633Z"
   },
   {
    "duration": 96,
    "start_time": "2023-12-26T11:37:53.642Z"
   },
   {
    "duration": 77,
    "start_time": "2023-12-26T11:37:53.740Z"
   },
   {
    "duration": 61,
    "start_time": "2023-12-26T11:37:53.818Z"
   },
   {
    "duration": 135,
    "start_time": "2023-12-26T11:37:53.880Z"
   },
   {
    "duration": 43,
    "start_time": "2023-12-26T11:37:54.016Z"
   },
   {
    "duration": 291,
    "start_time": "2023-12-26T11:37:54.061Z"
   },
   {
    "duration": 172,
    "start_time": "2023-12-26T11:37:54.353Z"
   },
   {
    "duration": 147,
    "start_time": "2023-12-26T11:37:54.526Z"
   },
   {
    "duration": 220,
    "start_time": "2023-12-26T11:37:54.675Z"
   },
   {
    "duration": 234,
    "start_time": "2023-12-26T11:37:54.897Z"
   },
   {
    "duration": 423,
    "start_time": "2023-12-26T11:37:55.132Z"
   },
   {
    "duration": 270,
    "start_time": "2023-12-26T11:38:43.088Z"
   },
   {
    "duration": 1042,
    "start_time": "2023-12-26T11:38:59.103Z"
   },
   {
    "duration": 78,
    "start_time": "2023-12-26T11:39:00.146Z"
   },
   {
    "duration": 4,
    "start_time": "2023-12-26T11:39:00.225Z"
   },
   {
    "duration": 99,
    "start_time": "2023-12-26T11:39:00.230Z"
   },
   {
    "duration": 23,
    "start_time": "2023-12-26T11:39:00.330Z"
   },
   {
    "duration": 38,
    "start_time": "2023-12-26T11:39:00.354Z"
   },
   {
    "duration": 53,
    "start_time": "2023-12-26T11:39:00.394Z"
   },
   {
    "duration": 53,
    "start_time": "2023-12-26T11:39:00.448Z"
   },
   {
    "duration": 42,
    "start_time": "2023-12-26T11:39:00.502Z"
   },
   {
    "duration": 40,
    "start_time": "2023-12-26T11:39:00.546Z"
   },
   {
    "duration": 296,
    "start_time": "2023-12-26T11:39:00.588Z"
   },
   {
    "duration": 173,
    "start_time": "2023-12-26T11:39:00.886Z"
   },
   {
    "duration": 145,
    "start_time": "2023-12-26T11:39:01.061Z"
   },
   {
    "duration": 204,
    "start_time": "2023-12-26T11:39:01.207Z"
   },
   {
    "duration": 262,
    "start_time": "2023-12-26T11:39:01.412Z"
   },
   {
    "duration": 370,
    "start_time": "2023-12-26T11:39:01.675Z"
   },
   {
    "duration": 264,
    "start_time": "2023-12-26T11:39:26.774Z"
   },
   {
    "duration": 4,
    "start_time": "2023-12-26T11:43:06.385Z"
   },
   {
    "duration": 4,
    "start_time": "2023-12-26T11:43:23.914Z"
   },
   {
    "duration": 4,
    "start_time": "2023-12-26T11:43:42.361Z"
   },
   {
    "duration": 4,
    "start_time": "2023-12-26T11:43:51.454Z"
   },
   {
    "duration": 1085,
    "start_time": "2023-12-26T11:44:34.951Z"
   },
   {
    "duration": 76,
    "start_time": "2023-12-26T11:44:36.038Z"
   },
   {
    "duration": 4,
    "start_time": "2023-12-26T11:44:36.115Z"
   },
   {
    "duration": 72,
    "start_time": "2023-12-26T11:44:36.120Z"
   },
   {
    "duration": 7,
    "start_time": "2023-12-26T11:44:36.194Z"
   },
   {
    "duration": 26,
    "start_time": "2023-12-26T11:44:36.202Z"
   },
   {
    "duration": 18,
    "start_time": "2023-12-26T11:44:36.229Z"
   },
   {
    "duration": 38,
    "start_time": "2023-12-26T11:44:36.248Z"
   },
   {
    "duration": 35,
    "start_time": "2023-12-26T11:44:36.287Z"
   },
   {
    "duration": 41,
    "start_time": "2023-12-26T11:44:36.323Z"
   },
   {
    "duration": 273,
    "start_time": "2023-12-26T11:44:36.365Z"
   },
   {
    "duration": 154,
    "start_time": "2023-12-26T11:44:36.639Z"
   },
   {
    "duration": 148,
    "start_time": "2023-12-26T11:44:36.795Z"
   },
   {
    "duration": 230,
    "start_time": "2023-12-26T11:44:36.946Z"
   },
   {
    "duration": 234,
    "start_time": "2023-12-26T11:44:37.178Z"
   },
   {
    "duration": 4,
    "start_time": "2023-12-26T11:44:37.414Z"
   },
   {
    "duration": 419,
    "start_time": "2023-12-26T11:44:37.419Z"
   },
   {
    "duration": 1081,
    "start_time": "2023-12-26T11:51:45.274Z"
   },
   {
    "duration": 76,
    "start_time": "2023-12-26T11:51:46.357Z"
   },
   {
    "duration": 3,
    "start_time": "2023-12-26T11:51:46.435Z"
   },
   {
    "duration": 50,
    "start_time": "2023-12-26T11:51:46.440Z"
   },
   {
    "duration": 9,
    "start_time": "2023-12-26T11:51:46.492Z"
   },
   {
    "duration": 28,
    "start_time": "2023-12-26T11:51:46.502Z"
   },
   {
    "duration": 25,
    "start_time": "2023-12-26T11:51:46.531Z"
   },
   {
    "duration": 33,
    "start_time": "2023-12-26T11:51:46.557Z"
   },
   {
    "duration": 9,
    "start_time": "2023-12-26T11:51:46.592Z"
   },
   {
    "duration": 250,
    "start_time": "2023-12-26T11:51:46.603Z"
   },
   {
    "duration": 157,
    "start_time": "2023-12-26T11:51:46.855Z"
   },
   {
    "duration": 150,
    "start_time": "2023-12-26T11:51:47.014Z"
   },
   {
    "duration": 237,
    "start_time": "2023-12-26T11:51:47.166Z"
   },
   {
    "duration": 358,
    "start_time": "2023-12-26T11:51:47.405Z"
   },
   {
    "duration": 0,
    "start_time": "2023-12-26T11:51:47.764Z"
   },
   {
    "duration": 1124,
    "start_time": "2023-12-26T11:53:38.315Z"
   },
   {
    "duration": 76,
    "start_time": "2023-12-26T11:53:39.441Z"
   },
   {
    "duration": 4,
    "start_time": "2023-12-26T11:53:39.518Z"
   },
   {
    "duration": 77,
    "start_time": "2023-12-26T11:53:39.524Z"
   },
   {
    "duration": 8,
    "start_time": "2023-12-26T11:53:39.602Z"
   },
   {
    "duration": 441,
    "start_time": "2023-12-26T11:53:39.611Z"
   },
   {
    "duration": 0,
    "start_time": "2023-12-26T11:53:40.054Z"
   },
   {
    "duration": 0,
    "start_time": "2023-12-26T11:53:40.055Z"
   },
   {
    "duration": 0,
    "start_time": "2023-12-26T11:53:40.056Z"
   },
   {
    "duration": 0,
    "start_time": "2023-12-26T11:53:40.057Z"
   },
   {
    "duration": 0,
    "start_time": "2023-12-26T11:53:40.058Z"
   },
   {
    "duration": 0,
    "start_time": "2023-12-26T11:53:40.059Z"
   },
   {
    "duration": 0,
    "start_time": "2023-12-26T11:53:40.060Z"
   },
   {
    "duration": 0,
    "start_time": "2023-12-26T11:53:40.061Z"
   },
   {
    "duration": 0,
    "start_time": "2023-12-26T11:53:40.062Z"
   },
   {
    "duration": 0,
    "start_time": "2023-12-26T11:53:40.063Z"
   },
   {
    "duration": 308,
    "start_time": "2023-12-26T11:54:18.138Z"
   },
   {
    "duration": 12,
    "start_time": "2023-12-26T11:54:39.220Z"
   },
   {
    "duration": 1159,
    "start_time": "2023-12-26T11:54:46.613Z"
   },
   {
    "duration": 77,
    "start_time": "2023-12-26T11:54:47.774Z"
   },
   {
    "duration": 3,
    "start_time": "2023-12-26T11:54:47.853Z"
   },
   {
    "duration": 49,
    "start_time": "2023-12-26T11:54:47.857Z"
   },
   {
    "duration": 7,
    "start_time": "2023-12-26T11:54:47.908Z"
   },
   {
    "duration": 29,
    "start_time": "2023-12-26T11:54:47.916Z"
   },
   {
    "duration": 8,
    "start_time": "2023-12-26T11:54:47.947Z"
   },
   {
    "duration": 36,
    "start_time": "2023-12-26T11:54:47.957Z"
   },
   {
    "duration": 13,
    "start_time": "2023-12-26T11:54:47.995Z"
   },
   {
    "duration": 37,
    "start_time": "2023-12-26T11:54:48.010Z"
   },
   {
    "duration": 316,
    "start_time": "2023-12-26T11:54:48.049Z"
   },
   {
    "duration": 159,
    "start_time": "2023-12-26T11:54:48.366Z"
   },
   {
    "duration": 144,
    "start_time": "2023-12-26T11:54:48.526Z"
   },
   {
    "duration": 230,
    "start_time": "2023-12-26T11:54:48.672Z"
   },
   {
    "duration": 217,
    "start_time": "2023-12-26T11:54:48.904Z"
   },
   {
    "duration": 419,
    "start_time": "2023-12-26T11:54:49.122Z"
   },
   {
    "duration": 262,
    "start_time": "2023-12-26T11:56:41.486Z"
   },
   {
    "duration": 231,
    "start_time": "2023-12-26T12:00:09.294Z"
   },
   {
    "duration": 1134,
    "start_time": "2023-12-26T12:00:31.118Z"
   },
   {
    "duration": 77,
    "start_time": "2023-12-26T12:00:32.254Z"
   },
   {
    "duration": 223,
    "start_time": "2023-12-26T12:00:32.332Z"
   },
   {
    "duration": 628,
    "start_time": "2023-12-26T12:00:32.557Z"
   },
   {
    "duration": 310,
    "start_time": "2023-12-26T12:00:33.187Z"
   },
   {
    "duration": 192,
    "start_time": "2023-12-26T12:00:33.499Z"
   },
   {
    "duration": 142,
    "start_time": "2023-12-26T12:00:33.692Z"
   },
   {
    "duration": 67,
    "start_time": "2023-12-26T12:00:33.836Z"
   },
   {
    "duration": 52,
    "start_time": "2023-12-26T12:00:33.905Z"
   },
   {
    "duration": 35,
    "start_time": "2023-12-26T12:00:33.959Z"
   },
   {
    "duration": 309,
    "start_time": "2023-12-26T12:00:33.996Z"
   },
   {
    "duration": 164,
    "start_time": "2023-12-26T12:00:34.307Z"
   },
   {
    "duration": 798,
    "start_time": "2023-12-26T12:00:34.472Z"
   },
   {
    "duration": 225,
    "start_time": "2023-12-26T12:00:35.272Z"
   },
   {
    "duration": 217,
    "start_time": "2023-12-26T12:00:35.499Z"
   },
   {
    "duration": 282,
    "start_time": "2023-12-26T12:00:35.718Z"
   },
   {
    "duration": 272,
    "start_time": "2023-12-26T12:05:27.802Z"
   },
   {
    "duration": 1039,
    "start_time": "2023-12-26T12:05:52.406Z"
   },
   {
    "duration": 78,
    "start_time": "2023-12-26T12:05:53.447Z"
   },
   {
    "duration": 3,
    "start_time": "2023-12-26T12:05:53.527Z"
   },
   {
    "duration": 94,
    "start_time": "2023-12-26T12:05:53.531Z"
   },
   {
    "duration": 22,
    "start_time": "2023-12-26T12:05:53.627Z"
   },
   {
    "duration": 109,
    "start_time": "2023-12-26T12:05:53.651Z"
   },
   {
    "duration": 155,
    "start_time": "2023-12-26T12:05:53.761Z"
   },
   {
    "duration": 97,
    "start_time": "2023-12-26T12:05:53.917Z"
   },
   {
    "duration": 118,
    "start_time": "2023-12-26T12:05:54.016Z"
   },
   {
    "duration": 46,
    "start_time": "2023-12-26T12:05:54.136Z"
   },
   {
    "duration": 286,
    "start_time": "2023-12-26T12:05:54.184Z"
   },
   {
    "duration": 314,
    "start_time": "2023-12-26T12:05:54.472Z"
   },
   {
    "duration": 172,
    "start_time": "2023-12-26T12:05:54.787Z"
   },
   {
    "duration": 257,
    "start_time": "2023-12-26T12:05:54.960Z"
   },
   {
    "duration": 157,
    "start_time": "2023-12-26T12:05:55.219Z"
   },
   {
    "duration": 250,
    "start_time": "2023-12-26T12:05:55.377Z"
   },
   {
    "duration": 1086,
    "start_time": "2023-12-26T12:07:47.721Z"
   },
   {
    "duration": 76,
    "start_time": "2023-12-26T12:07:48.809Z"
   },
   {
    "duration": 3,
    "start_time": "2023-12-26T12:07:48.886Z"
   },
   {
    "duration": 81,
    "start_time": "2023-12-26T12:07:48.891Z"
   },
   {
    "duration": 7,
    "start_time": "2023-12-26T12:07:48.973Z"
   },
   {
    "duration": 54,
    "start_time": "2023-12-26T12:07:48.981Z"
   },
   {
    "duration": 68,
    "start_time": "2023-12-26T12:07:49.037Z"
   },
   {
    "duration": 126,
    "start_time": "2023-12-26T12:07:49.106Z"
   },
   {
    "duration": 138,
    "start_time": "2023-12-26T12:07:49.234Z"
   },
   {
    "duration": 87,
    "start_time": "2023-12-26T12:07:49.374Z"
   },
   {
    "duration": 319,
    "start_time": "2023-12-26T12:07:49.463Z"
   },
   {
    "duration": 280,
    "start_time": "2023-12-26T12:07:49.783Z"
   },
   {
    "duration": 223,
    "start_time": "2023-12-26T12:07:50.065Z"
   },
   {
    "duration": 237,
    "start_time": "2023-12-26T12:07:50.290Z"
   },
   {
    "duration": 148,
    "start_time": "2023-12-26T12:07:50.529Z"
   },
   {
    "duration": 236,
    "start_time": "2023-12-26T12:07:50.679Z"
   },
   {
    "duration": 1077,
    "start_time": "2023-12-26T12:09:01.760Z"
   },
   {
    "duration": 76,
    "start_time": "2023-12-26T12:09:02.838Z"
   },
   {
    "duration": 186,
    "start_time": "2023-12-26T12:09:02.915Z"
   },
   {
    "duration": 172,
    "start_time": "2023-12-26T12:09:03.103Z"
   },
   {
    "duration": 36,
    "start_time": "2023-12-26T12:09:03.277Z"
   },
   {
    "duration": 67,
    "start_time": "2023-12-26T12:09:03.314Z"
   },
   {
    "duration": 129,
    "start_time": "2023-12-26T12:09:03.382Z"
   },
   {
    "duration": 456,
    "start_time": "2023-12-26T12:09:03.512Z"
   },
   {
    "duration": 141,
    "start_time": "2023-12-26T12:09:03.970Z"
   },
   {
    "duration": 300,
    "start_time": "2023-12-26T12:09:04.113Z"
   },
   {
    "duration": 401,
    "start_time": "2023-12-26T12:09:04.414Z"
   },
   {
    "duration": 294,
    "start_time": "2023-12-26T12:09:04.817Z"
   },
   {
    "duration": 228,
    "start_time": "2023-12-26T12:09:05.112Z"
   },
   {
    "duration": 265,
    "start_time": "2023-12-26T12:09:05.345Z"
   },
   {
    "duration": 551,
    "start_time": "2023-12-26T12:09:05.611Z"
   },
   {
    "duration": 839,
    "start_time": "2023-12-26T12:09:06.164Z"
   },
   {
    "duration": 329,
    "start_time": "2023-12-26T12:09:31.232Z"
   },
   {
    "duration": 354,
    "start_time": "2023-12-26T12:10:32.328Z"
   },
   {
    "duration": 1044,
    "start_time": "2023-12-26T12:10:45.378Z"
   },
   {
    "duration": 77,
    "start_time": "2023-12-26T12:10:46.424Z"
   },
   {
    "duration": 4,
    "start_time": "2023-12-26T12:10:46.505Z"
   },
   {
    "duration": 103,
    "start_time": "2023-12-26T12:10:46.511Z"
   },
   {
    "duration": 7,
    "start_time": "2023-12-26T12:10:46.616Z"
   },
   {
    "duration": 39,
    "start_time": "2023-12-26T12:10:46.625Z"
   },
   {
    "duration": 34,
    "start_time": "2023-12-26T12:10:46.665Z"
   },
   {
    "duration": 19,
    "start_time": "2023-12-26T12:10:46.701Z"
   },
   {
    "duration": 29,
    "start_time": "2023-12-26T12:10:46.721Z"
   },
   {
    "duration": 16,
    "start_time": "2023-12-26T12:10:46.752Z"
   },
   {
    "duration": 258,
    "start_time": "2023-12-26T12:10:46.770Z"
   },
   {
    "duration": 305,
    "start_time": "2023-12-26T12:10:47.029Z"
   },
   {
    "duration": 237,
    "start_time": "2023-12-26T12:10:47.336Z"
   },
   {
    "duration": 334,
    "start_time": "2023-12-26T12:10:47.574Z"
   },
   {
    "duration": 150,
    "start_time": "2023-12-26T12:10:47.909Z"
   },
   {
    "duration": 270,
    "start_time": "2023-12-26T12:10:48.061Z"
   },
   {
    "duration": 236,
    "start_time": "2023-12-26T12:16:16.462Z"
   },
   {
    "duration": 362,
    "start_time": "2023-12-26T12:18:52.942Z"
   },
   {
    "duration": 362,
    "start_time": "2023-12-26T12:19:51.437Z"
   },
   {
    "duration": 422,
    "start_time": "2023-12-26T12:20:00.854Z"
   },
   {
    "duration": 10,
    "start_time": "2023-12-26T13:04:50.332Z"
   },
   {
    "duration": 1250,
    "start_time": "2023-12-26T13:08:39.732Z"
   },
   {
    "duration": 1059,
    "start_time": "2023-12-26T13:08:46.075Z"
   },
   {
    "duration": 77,
    "start_time": "2023-12-26T13:08:47.136Z"
   },
   {
    "duration": 4,
    "start_time": "2023-12-26T13:08:47.214Z"
   },
   {
    "duration": 74,
    "start_time": "2023-12-26T13:08:47.220Z"
   },
   {
    "duration": 7,
    "start_time": "2023-12-26T13:08:47.296Z"
   },
   {
    "duration": 31,
    "start_time": "2023-12-26T13:08:47.304Z"
   },
   {
    "duration": 60,
    "start_time": "2023-12-26T13:08:47.337Z"
   },
   {
    "duration": 52,
    "start_time": "2023-12-26T13:08:47.398Z"
   },
   {
    "duration": 20,
    "start_time": "2023-12-26T13:08:47.452Z"
   },
   {
    "duration": 18,
    "start_time": "2023-12-26T13:08:47.474Z"
   },
   {
    "duration": 296,
    "start_time": "2023-12-26T13:08:47.493Z"
   },
   {
    "duration": 310,
    "start_time": "2023-12-26T13:08:47.790Z"
   },
   {
    "duration": 247,
    "start_time": "2023-12-26T13:08:48.102Z"
   },
   {
    "duration": 350,
    "start_time": "2023-12-26T13:08:48.350Z"
   },
   {
    "duration": 225,
    "start_time": "2023-12-26T13:08:48.702Z"
   },
   {
    "duration": 386,
    "start_time": "2023-12-26T13:08:48.928Z"
   },
   {
    "duration": 10,
    "start_time": "2023-12-26T13:08:49.315Z"
   },
   {
    "duration": 1364,
    "start_time": "2023-12-26T13:08:49.326Z"
   },
   {
    "duration": 1311,
    "start_time": "2023-12-26T13:09:09.023Z"
   },
   {
    "duration": 134,
    "start_time": "2023-12-26T13:09:39.899Z"
   },
   {
    "duration": 5,
    "start_time": "2023-12-26T13:14:42.989Z"
   },
   {
    "duration": 210,
    "start_time": "2023-12-26T13:20:49.808Z"
   },
   {
    "duration": 144,
    "start_time": "2023-12-26T13:23:28.924Z"
   },
   {
    "duration": 5,
    "start_time": "2023-12-26T13:24:12.212Z"
   },
   {
    "duration": 1068,
    "start_time": "2023-12-26T13:28:12.792Z"
   },
   {
    "duration": 75,
    "start_time": "2023-12-26T13:28:13.862Z"
   },
   {
    "duration": 3,
    "start_time": "2023-12-26T13:28:13.938Z"
   },
   {
    "duration": 68,
    "start_time": "2023-12-26T13:28:13.943Z"
   },
   {
    "duration": 7,
    "start_time": "2023-12-26T13:28:14.013Z"
   },
   {
    "duration": 18,
    "start_time": "2023-12-26T13:28:14.021Z"
   },
   {
    "duration": 10,
    "start_time": "2023-12-26T13:28:14.040Z"
   },
   {
    "duration": 43,
    "start_time": "2023-12-26T13:28:14.051Z"
   },
   {
    "duration": 11,
    "start_time": "2023-12-26T13:28:14.096Z"
   },
   {
    "duration": 10,
    "start_time": "2023-12-26T13:28:14.109Z"
   },
   {
    "duration": 380,
    "start_time": "2023-12-26T13:28:14.120Z"
   },
   {
    "duration": 335,
    "start_time": "2023-12-26T13:28:14.502Z"
   },
   {
    "duration": 235,
    "start_time": "2023-12-26T13:28:14.838Z"
   },
   {
    "duration": 328,
    "start_time": "2023-12-26T13:28:15.075Z"
   },
   {
    "duration": 232,
    "start_time": "2023-12-26T13:28:15.404Z"
   },
   {
    "duration": 374,
    "start_time": "2023-12-26T13:28:15.637Z"
   },
   {
    "duration": 9,
    "start_time": "2023-12-26T13:28:16.013Z"
   },
   {
    "duration": 154,
    "start_time": "2023-12-26T13:28:16.023Z"
   },
   {
    "duration": 4,
    "start_time": "2023-12-26T13:28:16.179Z"
   },
   {
    "duration": 163,
    "start_time": "2023-12-26T13:28:16.184Z"
   },
   {
    "duration": 5,
    "start_time": "2023-12-26T13:28:16.348Z"
   },
   {
    "duration": 992,
    "start_time": "2023-12-26T13:31:11.744Z"
   },
   {
    "duration": 119,
    "start_time": "2023-12-26T13:31:12.737Z"
   },
   {
    "duration": 4,
    "start_time": "2023-12-26T13:31:12.857Z"
   },
   {
    "duration": 49,
    "start_time": "2023-12-26T13:31:12.862Z"
   },
   {
    "duration": 7,
    "start_time": "2023-12-26T13:31:12.913Z"
   },
   {
    "duration": 25,
    "start_time": "2023-12-26T13:31:12.921Z"
   },
   {
    "duration": 29,
    "start_time": "2023-12-26T13:31:12.947Z"
   },
   {
    "duration": 52,
    "start_time": "2023-12-26T13:31:12.977Z"
   },
   {
    "duration": 22,
    "start_time": "2023-12-26T13:31:13.030Z"
   },
   {
    "duration": 21,
    "start_time": "2023-12-26T13:31:13.054Z"
   },
   {
    "duration": 276,
    "start_time": "2023-12-26T13:31:13.077Z"
   },
   {
    "duration": 322,
    "start_time": "2023-12-26T13:31:13.354Z"
   },
   {
    "duration": 233,
    "start_time": "2023-12-26T13:31:13.677Z"
   },
   {
    "duration": 366,
    "start_time": "2023-12-26T13:31:13.912Z"
   },
   {
    "duration": 216,
    "start_time": "2023-12-26T13:31:14.279Z"
   },
   {
    "duration": 336,
    "start_time": "2023-12-26T13:31:14.496Z"
   },
   {
    "duration": 20,
    "start_time": "2023-12-26T13:31:14.833Z"
   },
   {
    "duration": 156,
    "start_time": "2023-12-26T13:31:14.855Z"
   },
   {
    "duration": 4,
    "start_time": "2023-12-26T13:31:15.012Z"
   },
   {
    "duration": 191,
    "start_time": "2023-12-26T13:31:15.017Z"
   },
   {
    "duration": 43,
    "start_time": "2023-12-26T13:31:15.210Z"
   },
   {
    "duration": 195,
    "start_time": "2023-12-26T13:39:38.154Z"
   },
   {
    "duration": 97,
    "start_time": "2023-12-26T13:40:03.202Z"
   },
   {
    "duration": 201,
    "start_time": "2023-12-26T13:42:16.186Z"
   },
   {
    "duration": 1569,
    "start_time": "2023-12-26T13:42:56.172Z"
   },
   {
    "duration": 176,
    "start_time": "2023-12-26T13:43:48.745Z"
   },
   {
    "duration": 982,
    "start_time": "2023-12-26T13:44:07.485Z"
   },
   {
    "duration": 124,
    "start_time": "2023-12-26T13:44:08.471Z"
   },
   {
    "duration": 247,
    "start_time": "2023-12-26T13:44:08.596Z"
   },
   {
    "duration": 79,
    "start_time": "2023-12-26T13:44:08.845Z"
   },
   {
    "duration": 6,
    "start_time": "2023-12-26T13:44:08.926Z"
   },
   {
    "duration": 89,
    "start_time": "2023-12-26T13:44:08.934Z"
   },
   {
    "duration": 52,
    "start_time": "2023-12-26T13:44:09.024Z"
   },
   {
    "duration": 66,
    "start_time": "2023-12-26T13:44:09.077Z"
   },
   {
    "duration": 57,
    "start_time": "2023-12-26T13:44:09.145Z"
   },
   {
    "duration": 38,
    "start_time": "2023-12-26T13:44:09.204Z"
   },
   {
    "duration": 309,
    "start_time": "2023-12-26T13:44:09.243Z"
   },
   {
    "duration": 317,
    "start_time": "2023-12-26T13:44:09.553Z"
   },
   {
    "duration": 228,
    "start_time": "2023-12-26T13:44:09.872Z"
   },
   {
    "duration": 368,
    "start_time": "2023-12-26T13:44:10.102Z"
   },
   {
    "duration": 214,
    "start_time": "2023-12-26T13:44:10.471Z"
   },
   {
    "duration": 334,
    "start_time": "2023-12-26T13:44:10.687Z"
   },
   {
    "duration": 9,
    "start_time": "2023-12-26T13:44:11.022Z"
   },
   {
    "duration": 157,
    "start_time": "2023-12-26T13:44:11.033Z"
   },
   {
    "duration": 5,
    "start_time": "2023-12-26T13:44:11.192Z"
   },
   {
    "duration": 195,
    "start_time": "2023-12-26T13:44:11.198Z"
   },
   {
    "duration": 4,
    "start_time": "2023-12-26T13:44:11.395Z"
   },
   {
    "duration": 188,
    "start_time": "2023-12-26T13:44:11.400Z"
   },
   {
    "duration": 22,
    "start_time": "2023-12-26T13:44:11.590Z"
   },
   {
    "duration": 1542,
    "start_time": "2023-12-26T13:44:11.613Z"
   },
   {
    "duration": 142,
    "start_time": "2023-12-26T13:46:27.975Z"
   },
   {
    "duration": 52,
    "start_time": "2023-12-26T16:42:46.224Z"
   },
   {
    "duration": 1188,
    "start_time": "2023-12-26T16:43:56.100Z"
   },
   {
    "duration": 234,
    "start_time": "2023-12-26T16:43:57.290Z"
   },
   {
    "duration": 4,
    "start_time": "2023-12-26T16:43:57.525Z"
   },
   {
    "duration": 51,
    "start_time": "2023-12-26T16:43:57.530Z"
   },
   {
    "duration": 8,
    "start_time": "2023-12-26T16:43:57.582Z"
   },
   {
    "duration": 14,
    "start_time": "2023-12-26T16:43:57.591Z"
   },
   {
    "duration": 10,
    "start_time": "2023-12-26T16:43:57.606Z"
   },
   {
    "duration": 21,
    "start_time": "2023-12-26T16:43:57.618Z"
   },
   {
    "duration": 11,
    "start_time": "2023-12-26T16:43:57.641Z"
   },
   {
    "duration": 11,
    "start_time": "2023-12-26T16:43:57.681Z"
   },
   {
    "duration": 284,
    "start_time": "2023-12-26T16:43:57.693Z"
   },
   {
    "duration": 351,
    "start_time": "2023-12-26T16:43:57.978Z"
   },
   {
    "duration": 255,
    "start_time": "2023-12-26T16:43:58.331Z"
   },
   {
    "duration": 410,
    "start_time": "2023-12-26T16:43:58.588Z"
   },
   {
    "duration": 244,
    "start_time": "2023-12-26T16:43:58.999Z"
   },
   {
    "duration": 404,
    "start_time": "2023-12-26T16:43:59.245Z"
   },
   {
    "duration": 11,
    "start_time": "2023-12-26T16:43:59.651Z"
   },
   {
    "duration": 157,
    "start_time": "2023-12-26T16:43:59.663Z"
   },
   {
    "duration": 5,
    "start_time": "2023-12-26T16:43:59.822Z"
   },
   {
    "duration": 179,
    "start_time": "2023-12-26T16:43:59.829Z"
   },
   {
    "duration": 4,
    "start_time": "2023-12-26T16:44:00.010Z"
   },
   {
    "duration": 211,
    "start_time": "2023-12-26T16:44:00.016Z"
   },
   {
    "duration": 25,
    "start_time": "2023-12-26T16:44:00.228Z"
   },
   {
    "duration": 188,
    "start_time": "2023-12-26T16:44:00.255Z"
   },
   {
    "duration": 10,
    "start_time": "2023-12-26T17:01:20.791Z"
   },
   {
    "duration": 1212,
    "start_time": "2023-12-26T17:17:38.753Z"
   },
   {
    "duration": 9,
    "start_time": "2023-12-26T17:17:50.024Z"
   },
   {
    "duration": 40,
    "start_time": "2023-12-26T17:25:09.064Z"
   },
   {
    "duration": 1019,
    "start_time": "2023-12-26T17:32:15.201Z"
   },
   {
    "duration": 126,
    "start_time": "2023-12-26T17:32:16.221Z"
   },
   {
    "duration": 4,
    "start_time": "2023-12-26T17:32:16.348Z"
   },
   {
    "duration": 55,
    "start_time": "2023-12-26T17:32:16.353Z"
   },
   {
    "duration": 7,
    "start_time": "2023-12-26T17:32:16.409Z"
   },
   {
    "duration": 12,
    "start_time": "2023-12-26T17:32:16.418Z"
   },
   {
    "duration": 19,
    "start_time": "2023-12-26T17:32:16.432Z"
   },
   {
    "duration": 31,
    "start_time": "2023-12-26T17:32:16.453Z"
   },
   {
    "duration": 10,
    "start_time": "2023-12-26T17:32:16.485Z"
   },
   {
    "duration": 10,
    "start_time": "2023-12-26T17:32:16.497Z"
   },
   {
    "duration": 326,
    "start_time": "2023-12-26T17:32:16.508Z"
   },
   {
    "duration": 320,
    "start_time": "2023-12-26T17:32:16.836Z"
   },
   {
    "duration": 241,
    "start_time": "2023-12-26T17:32:17.157Z"
   },
   {
    "duration": 345,
    "start_time": "2023-12-26T17:32:17.400Z"
   },
   {
    "duration": 245,
    "start_time": "2023-12-26T17:32:17.747Z"
   },
   {
    "duration": 363,
    "start_time": "2023-12-26T17:32:17.993Z"
   },
   {
    "duration": 10,
    "start_time": "2023-12-26T17:32:18.358Z"
   },
   {
    "duration": 164,
    "start_time": "2023-12-26T17:32:18.369Z"
   },
   {
    "duration": 6,
    "start_time": "2023-12-26T17:32:18.535Z"
   },
   {
    "duration": 179,
    "start_time": "2023-12-26T17:32:18.542Z"
   },
   {
    "duration": 4,
    "start_time": "2023-12-26T17:32:18.723Z"
   },
   {
    "duration": 192,
    "start_time": "2023-12-26T17:32:18.729Z"
   },
   {
    "duration": 23,
    "start_time": "2023-12-26T17:32:18.922Z"
   },
   {
    "duration": 159,
    "start_time": "2023-12-26T17:32:18.947Z"
   },
   {
    "duration": 9,
    "start_time": "2023-12-26T17:32:19.108Z"
   },
   {
    "duration": 7,
    "start_time": "2023-12-26T17:32:19.119Z"
   },
   {
    "duration": 27,
    "start_time": "2023-12-26T17:32:19.128Z"
   },
   {
    "duration": 14,
    "start_time": "2023-12-26T17:36:30.844Z"
   },
   {
    "duration": 311,
    "start_time": "2023-12-27T09:13:20.148Z"
   },
   {
    "duration": 416,
    "start_time": "2023-12-27T09:16:07.759Z"
   },
   {
    "duration": 964,
    "start_time": "2023-12-27T09:16:14.673Z"
   },
   {
    "duration": 129,
    "start_time": "2023-12-27T09:16:15.639Z"
   },
   {
    "duration": 4,
    "start_time": "2023-12-27T09:16:15.769Z"
   },
   {
    "duration": 64,
    "start_time": "2023-12-27T09:16:15.775Z"
   },
   {
    "duration": 8,
    "start_time": "2023-12-27T09:16:15.840Z"
   },
   {
    "duration": 15,
    "start_time": "2023-12-27T09:16:15.849Z"
   },
   {
    "duration": 16,
    "start_time": "2023-12-27T09:16:15.866Z"
   },
   {
    "duration": 42,
    "start_time": "2023-12-27T09:16:15.883Z"
   },
   {
    "duration": 12,
    "start_time": "2023-12-27T09:16:15.927Z"
   },
   {
    "duration": 10,
    "start_time": "2023-12-27T09:16:15.941Z"
   },
   {
    "duration": 276,
    "start_time": "2023-12-27T09:16:15.953Z"
   },
   {
    "duration": 312,
    "start_time": "2023-12-27T09:16:16.231Z"
   },
   {
    "duration": 251,
    "start_time": "2023-12-27T09:16:16.545Z"
   },
   {
    "duration": 354,
    "start_time": "2023-12-27T09:16:16.798Z"
   },
   {
    "duration": 228,
    "start_time": "2023-12-27T09:16:17.153Z"
   },
   {
    "duration": 382,
    "start_time": "2023-12-27T09:16:17.383Z"
   },
   {
    "duration": 10,
    "start_time": "2023-12-27T09:16:17.767Z"
   },
   {
    "duration": 145,
    "start_time": "2023-12-27T09:16:17.779Z"
   },
   {
    "duration": 5,
    "start_time": "2023-12-27T09:16:17.926Z"
   },
   {
    "duration": 173,
    "start_time": "2023-12-27T09:16:17.932Z"
   },
   {
    "duration": 7,
    "start_time": "2023-12-27T09:16:18.106Z"
   },
   {
    "duration": 196,
    "start_time": "2023-12-27T09:16:18.115Z"
   },
   {
    "duration": 66,
    "start_time": "2023-12-27T09:16:18.313Z"
   },
   {
    "duration": 161,
    "start_time": "2023-12-27T09:16:18.381Z"
   },
   {
    "duration": 10,
    "start_time": "2023-12-27T09:16:18.544Z"
   },
   {
    "duration": 32,
    "start_time": "2023-12-27T09:16:18.557Z"
   },
   {
    "duration": 28,
    "start_time": "2023-12-27T09:16:18.591Z"
   },
   {
    "duration": 12,
    "start_time": "2023-12-27T09:16:18.622Z"
   },
   {
    "duration": 1079,
    "start_time": "2023-12-27T09:33:13.780Z"
   },
   {
    "duration": 117,
    "start_time": "2023-12-27T09:33:14.861Z"
   },
   {
    "duration": 4,
    "start_time": "2023-12-27T09:33:14.980Z"
   },
   {
    "duration": 58,
    "start_time": "2023-12-27T09:33:14.986Z"
   },
   {
    "duration": 7,
    "start_time": "2023-12-27T09:33:15.046Z"
   },
   {
    "duration": 57,
    "start_time": "2023-12-27T09:33:15.055Z"
   },
   {
    "duration": 125,
    "start_time": "2023-12-27T09:33:15.114Z"
   },
   {
    "duration": 115,
    "start_time": "2023-12-27T09:33:15.240Z"
   },
   {
    "duration": 50,
    "start_time": "2023-12-27T09:33:15.357Z"
   },
   {
    "duration": 19,
    "start_time": "2023-12-27T09:33:15.409Z"
   },
   {
    "duration": 313,
    "start_time": "2023-12-27T09:33:15.430Z"
   },
   {
    "duration": 333,
    "start_time": "2023-12-27T09:33:15.744Z"
   },
   {
    "duration": 260,
    "start_time": "2023-12-27T09:33:16.079Z"
   },
   {
    "duration": 360,
    "start_time": "2023-12-27T09:33:16.342Z"
   },
   {
    "duration": 250,
    "start_time": "2023-12-27T09:33:16.710Z"
   },
   {
    "duration": 373,
    "start_time": "2023-12-27T09:33:16.962Z"
   },
   {
    "duration": 11,
    "start_time": "2023-12-27T09:33:17.336Z"
   },
   {
    "duration": 176,
    "start_time": "2023-12-27T09:33:17.349Z"
   },
   {
    "duration": 5,
    "start_time": "2023-12-27T09:33:17.526Z"
   },
   {
    "duration": 176,
    "start_time": "2023-12-27T09:33:17.533Z"
   },
   {
    "duration": 5,
    "start_time": "2023-12-27T09:33:17.711Z"
   },
   {
    "duration": 226,
    "start_time": "2023-12-27T09:33:17.718Z"
   },
   {
    "duration": 28,
    "start_time": "2023-12-27T09:33:17.946Z"
   },
   {
    "duration": 177,
    "start_time": "2023-12-27T09:33:17.976Z"
   },
   {
    "duration": 11,
    "start_time": "2023-12-27T09:33:18.154Z"
   },
   {
    "duration": 9,
    "start_time": "2023-12-27T09:33:18.166Z"
   },
   {
    "duration": 48,
    "start_time": "2023-12-27T09:33:18.177Z"
   },
   {
    "duration": 13,
    "start_time": "2023-12-27T09:33:18.227Z"
   },
   {
    "duration": 1402,
    "start_time": "2023-12-27T11:30:44.406Z"
   },
   {
    "duration": 281,
    "start_time": "2023-12-27T11:30:45.811Z"
   },
   {
    "duration": 4,
    "start_time": "2023-12-27T11:30:46.094Z"
   },
   {
    "duration": 71,
    "start_time": "2023-12-27T11:30:46.099Z"
   },
   {
    "duration": 9,
    "start_time": "2023-12-27T11:30:46.172Z"
   },
   {
    "duration": 25,
    "start_time": "2023-12-27T11:30:46.183Z"
   },
   {
    "duration": 26,
    "start_time": "2023-12-27T11:30:46.209Z"
   },
   {
    "duration": 26,
    "start_time": "2023-12-27T11:30:46.238Z"
   },
   {
    "duration": 20,
    "start_time": "2023-12-27T11:30:46.266Z"
   },
   {
    "duration": 13,
    "start_time": "2023-12-27T11:30:46.287Z"
   },
   {
    "duration": 365,
    "start_time": "2023-12-27T11:30:46.301Z"
   },
   {
    "duration": 364,
    "start_time": "2023-12-27T11:30:46.668Z"
   },
   {
    "duration": 288,
    "start_time": "2023-12-27T11:30:47.036Z"
   },
   {
    "duration": 465,
    "start_time": "2023-12-27T11:30:47.331Z"
   },
   {
    "duration": 288,
    "start_time": "2023-12-27T11:30:47.798Z"
   },
   {
    "duration": 458,
    "start_time": "2023-12-27T11:30:48.088Z"
   },
   {
    "duration": 17,
    "start_time": "2023-12-27T11:30:48.549Z"
   },
   {
    "duration": 191,
    "start_time": "2023-12-27T11:30:48.568Z"
   },
   {
    "duration": 5,
    "start_time": "2023-12-27T11:30:48.761Z"
   },
   {
    "duration": 209,
    "start_time": "2023-12-27T11:30:48.768Z"
   },
   {
    "duration": 6,
    "start_time": "2023-12-27T11:30:48.979Z"
   },
   {
    "duration": 240,
    "start_time": "2023-12-27T11:30:48.987Z"
   },
   {
    "duration": 34,
    "start_time": "2023-12-27T11:30:49.232Z"
   },
   {
    "duration": 192,
    "start_time": "2023-12-27T11:30:49.268Z"
   },
   {
    "duration": 13,
    "start_time": "2023-12-27T11:30:49.463Z"
   },
   {
    "duration": 16,
    "start_time": "2023-12-27T11:30:49.478Z"
   },
   {
    "duration": 62,
    "start_time": "2023-12-27T11:30:49.496Z"
   },
   {
    "duration": 16,
    "start_time": "2023-12-27T11:30:49.560Z"
   },
   {
    "duration": 1217,
    "start_time": "2023-12-27T11:48:30.780Z"
   },
   {
    "duration": 154,
    "start_time": "2023-12-27T11:48:32.000Z"
   },
   {
    "duration": 5,
    "start_time": "2023-12-27T11:48:32.156Z"
   },
   {
    "duration": 123,
    "start_time": "2023-12-27T11:48:32.164Z"
   },
   {
    "duration": 139,
    "start_time": "2023-12-27T11:48:32.289Z"
   },
   {
    "duration": 320,
    "start_time": "2023-12-27T11:48:32.431Z"
   },
   {
    "duration": 117,
    "start_time": "2023-12-27T11:48:32.753Z"
   },
   {
    "duration": 55,
    "start_time": "2023-12-27T11:48:32.871Z"
   },
   {
    "duration": 42,
    "start_time": "2023-12-27T11:48:32.927Z"
   },
   {
    "duration": 38,
    "start_time": "2023-12-27T11:48:32.972Z"
   },
   {
    "duration": 415,
    "start_time": "2023-12-27T11:48:33.011Z"
   },
   {
    "duration": 408,
    "start_time": "2023-12-27T11:48:33.430Z"
   },
   {
    "duration": 278,
    "start_time": "2023-12-27T11:48:33.839Z"
   },
   {
    "duration": 393,
    "start_time": "2023-12-27T11:48:34.119Z"
   },
   {
    "duration": 280,
    "start_time": "2023-12-27T11:48:34.515Z"
   },
   {
    "duration": 446,
    "start_time": "2023-12-27T11:48:34.797Z"
   },
   {
    "duration": 13,
    "start_time": "2023-12-27T11:48:35.245Z"
   },
   {
    "duration": 169,
    "start_time": "2023-12-27T11:48:35.260Z"
   },
   {
    "duration": 9,
    "start_time": "2023-12-27T11:48:35.441Z"
   },
   {
    "duration": 296,
    "start_time": "2023-12-27T11:48:35.452Z"
   },
   {
    "duration": 7,
    "start_time": "2023-12-27T11:48:35.750Z"
   },
   {
    "duration": 247,
    "start_time": "2023-12-27T11:48:35.759Z"
   },
   {
    "duration": 40,
    "start_time": "2023-12-27T11:48:36.008Z"
   },
   {
    "duration": 169,
    "start_time": "2023-12-27T11:48:36.050Z"
   },
   {
    "duration": 28,
    "start_time": "2023-12-27T11:48:36.221Z"
   },
   {
    "duration": 10,
    "start_time": "2023-12-27T11:48:36.251Z"
   },
   {
    "duration": 42,
    "start_time": "2023-12-27T11:48:36.263Z"
   },
   {
    "duration": 14,
    "start_time": "2023-12-27T11:48:36.308Z"
   },
   {
    "duration": 1107,
    "start_time": "2023-12-27T12:05:24.392Z"
   },
   {
    "duration": 152,
    "start_time": "2023-12-27T12:05:25.501Z"
   },
   {
    "duration": 6,
    "start_time": "2023-12-27T12:05:25.655Z"
   },
   {
    "duration": 83,
    "start_time": "2023-12-27T12:05:25.663Z"
   },
   {
    "duration": 12,
    "start_time": "2023-12-27T12:05:25.753Z"
   },
   {
    "duration": 27,
    "start_time": "2023-12-27T12:05:25.767Z"
   },
   {
    "duration": 19,
    "start_time": "2023-12-27T12:05:25.795Z"
   },
   {
    "duration": 41,
    "start_time": "2023-12-27T12:05:25.816Z"
   },
   {
    "duration": 31,
    "start_time": "2023-12-27T12:05:25.859Z"
   },
   {
    "duration": 28,
    "start_time": "2023-12-27T12:05:25.892Z"
   },
   {
    "duration": 319,
    "start_time": "2023-12-27T12:05:25.925Z"
   },
   {
    "duration": 365,
    "start_time": "2023-12-27T12:05:26.246Z"
   },
   {
    "duration": 303,
    "start_time": "2023-12-27T12:05:26.613Z"
   },
   {
    "duration": 395,
    "start_time": "2023-12-27T12:05:26.919Z"
   },
   {
    "duration": 287,
    "start_time": "2023-12-27T12:05:27.316Z"
   },
   {
    "duration": 420,
    "start_time": "2023-12-27T12:05:27.605Z"
   },
   {
    "duration": 20,
    "start_time": "2023-12-27T12:05:28.031Z"
   },
   {
    "duration": 195,
    "start_time": "2023-12-27T12:05:28.053Z"
   },
   {
    "duration": 6,
    "start_time": "2023-12-27T12:05:28.252Z"
   },
   {
    "duration": 198,
    "start_time": "2023-12-27T12:05:28.259Z"
   },
   {
    "duration": 6,
    "start_time": "2023-12-27T12:05:28.459Z"
   },
   {
    "duration": 229,
    "start_time": "2023-12-27T12:05:28.467Z"
   },
   {
    "duration": 44,
    "start_time": "2023-12-27T12:05:28.698Z"
   },
   {
    "duration": 217,
    "start_time": "2023-12-27T12:05:28.748Z"
   },
   {
    "duration": 10,
    "start_time": "2023-12-27T12:05:28.967Z"
   },
   {
    "duration": 29,
    "start_time": "2023-12-27T12:05:28.979Z"
   },
   {
    "duration": 58,
    "start_time": "2023-12-27T12:05:29.010Z"
   },
   {
    "duration": 14,
    "start_time": "2023-12-27T12:05:29.070Z"
   },
   {
    "duration": 1123,
    "start_time": "2023-12-27T12:13:19.041Z"
   },
   {
    "duration": 135,
    "start_time": "2023-12-27T12:13:20.166Z"
   },
   {
    "duration": 4,
    "start_time": "2023-12-27T12:13:20.303Z"
   },
   {
    "duration": 72,
    "start_time": "2023-12-27T12:13:20.309Z"
   },
   {
    "duration": 9,
    "start_time": "2023-12-27T12:13:20.383Z"
   },
   {
    "duration": 49,
    "start_time": "2023-12-27T12:13:20.395Z"
   },
   {
    "duration": 13,
    "start_time": "2023-12-27T12:13:20.448Z"
   },
   {
    "duration": 30,
    "start_time": "2023-12-27T12:13:20.463Z"
   },
   {
    "duration": 12,
    "start_time": "2023-12-27T12:13:20.495Z"
   },
   {
    "duration": 37,
    "start_time": "2023-12-27T12:13:20.509Z"
   },
   {
    "duration": 314,
    "start_time": "2023-12-27T12:13:20.549Z"
   },
   {
    "duration": 396,
    "start_time": "2023-12-27T12:13:20.865Z"
   },
   {
    "duration": 286,
    "start_time": "2023-12-27T12:13:21.264Z"
   },
   {
    "duration": 350,
    "start_time": "2023-12-27T12:13:21.552Z"
   },
   {
    "duration": 287,
    "start_time": "2023-12-27T12:13:21.904Z"
   },
   {
    "duration": 410,
    "start_time": "2023-12-27T12:13:22.193Z"
   },
   {
    "duration": 12,
    "start_time": "2023-12-27T12:13:22.604Z"
   },
   {
    "duration": 164,
    "start_time": "2023-12-27T12:13:22.632Z"
   },
   {
    "duration": 6,
    "start_time": "2023-12-27T12:13:22.798Z"
   },
   {
    "duration": 194,
    "start_time": "2023-12-27T12:13:22.805Z"
   },
   {
    "duration": 5,
    "start_time": "2023-12-27T12:13:23.000Z"
   },
   {
    "duration": 221,
    "start_time": "2023-12-27T12:13:23.007Z"
   },
   {
    "duration": 28,
    "start_time": "2023-12-27T12:13:23.231Z"
   },
   {
    "duration": 200,
    "start_time": "2023-12-27T12:13:23.261Z"
   },
   {
    "duration": 12,
    "start_time": "2023-12-27T12:13:23.463Z"
   },
   {
    "duration": 21,
    "start_time": "2023-12-27T12:13:23.477Z"
   },
   {
    "duration": 63,
    "start_time": "2023-12-27T12:13:23.500Z"
   },
   {
    "duration": 20,
    "start_time": "2023-12-27T12:13:23.566Z"
   },
   {
    "duration": 1279,
    "start_time": "2023-12-27T12:22:34.413Z"
   },
   {
    "duration": 256,
    "start_time": "2023-12-27T12:22:35.695Z"
   },
   {
    "duration": 3,
    "start_time": "2023-12-27T12:22:35.953Z"
   },
   {
    "duration": 74,
    "start_time": "2023-12-27T12:22:35.958Z"
   },
   {
    "duration": 7,
    "start_time": "2023-12-27T12:22:36.034Z"
   },
   {
    "duration": 15,
    "start_time": "2023-12-27T12:22:36.042Z"
   },
   {
    "duration": 12,
    "start_time": "2023-12-27T12:22:36.058Z"
   },
   {
    "duration": 37,
    "start_time": "2023-12-27T12:22:36.071Z"
   },
   {
    "duration": 24,
    "start_time": "2023-12-27T12:22:36.109Z"
   },
   {
    "duration": 10,
    "start_time": "2023-12-27T12:22:36.134Z"
   },
   {
    "duration": 316,
    "start_time": "2023-12-27T12:22:36.145Z"
   },
   {
    "duration": 369,
    "start_time": "2023-12-27T12:22:36.462Z"
   },
   {
    "duration": 284,
    "start_time": "2023-12-27T12:22:36.833Z"
   },
   {
    "duration": 408,
    "start_time": "2023-12-27T12:22:37.120Z"
   },
   {
    "duration": 256,
    "start_time": "2023-12-27T12:22:37.529Z"
   },
   {
    "duration": 327,
    "start_time": "2023-12-27T12:22:37.786Z"
   },
   {
    "duration": 10,
    "start_time": "2023-12-27T12:22:38.114Z"
   },
   {
    "duration": 182,
    "start_time": "2023-12-27T12:22:38.125Z"
   },
   {
    "duration": 5,
    "start_time": "2023-12-27T12:22:38.308Z"
   },
   {
    "duration": 159,
    "start_time": "2023-12-27T12:22:38.314Z"
   },
   {
    "duration": 5,
    "start_time": "2023-12-27T12:22:38.475Z"
   },
   {
    "duration": 236,
    "start_time": "2023-12-27T12:22:38.481Z"
   },
   {
    "duration": 29,
    "start_time": "2023-12-27T12:22:38.718Z"
   },
   {
    "duration": 169,
    "start_time": "2023-12-27T12:22:38.748Z"
   },
   {
    "duration": 72,
    "start_time": "2023-12-27T12:22:38.918Z"
   },
   {
    "duration": 116,
    "start_time": "2023-12-27T12:22:38.991Z"
   },
   {
    "duration": 205,
    "start_time": "2023-12-27T12:22:39.108Z"
   },
   {
    "duration": 99,
    "start_time": "2023-12-27T12:22:39.315Z"
   },
   {
    "duration": 1320,
    "start_time": "2023-12-27T13:41:12.084Z"
   },
   {
    "duration": 265,
    "start_time": "2023-12-27T13:41:13.407Z"
   },
   {
    "duration": 4,
    "start_time": "2023-12-27T13:41:13.674Z"
   },
   {
    "duration": 67,
    "start_time": "2023-12-27T13:41:13.680Z"
   },
   {
    "duration": 14,
    "start_time": "2023-12-27T13:41:13.750Z"
   },
   {
    "duration": 22,
    "start_time": "2023-12-27T13:41:13.766Z"
   },
   {
    "duration": 14,
    "start_time": "2023-12-27T13:41:13.790Z"
   },
   {
    "duration": 27,
    "start_time": "2023-12-27T13:41:13.830Z"
   },
   {
    "duration": 13,
    "start_time": "2023-12-27T13:41:13.859Z"
   },
   {
    "duration": 13,
    "start_time": "2023-12-27T13:41:13.874Z"
   },
   {
    "duration": 379,
    "start_time": "2023-12-27T13:41:13.889Z"
   },
   {
    "duration": 370,
    "start_time": "2023-12-27T13:41:14.270Z"
   },
   {
    "duration": 427,
    "start_time": "2023-12-27T13:41:14.642Z"
   },
   {
    "duration": 766,
    "start_time": "2023-12-27T13:41:15.072Z"
   },
   {
    "duration": 523,
    "start_time": "2023-12-27T13:41:15.840Z"
   },
   {
    "duration": 496,
    "start_time": "2023-12-27T13:41:16.365Z"
   },
   {
    "duration": 12,
    "start_time": "2023-12-27T13:41:16.863Z"
   },
   {
    "duration": 180,
    "start_time": "2023-12-27T13:41:16.876Z"
   },
   {
    "duration": 5,
    "start_time": "2023-12-27T13:41:17.058Z"
   },
   {
    "duration": 183,
    "start_time": "2023-12-27T13:41:17.065Z"
   },
   {
    "duration": 5,
    "start_time": "2023-12-27T13:41:17.250Z"
   },
   {
    "duration": 222,
    "start_time": "2023-12-27T13:41:17.258Z"
   },
   {
    "duration": 32,
    "start_time": "2023-12-27T13:41:17.483Z"
   },
   {
    "duration": 209,
    "start_time": "2023-12-27T13:41:17.532Z"
   },
   {
    "duration": 15,
    "start_time": "2023-12-27T13:41:17.744Z"
   },
   {
    "duration": 14,
    "start_time": "2023-12-27T13:41:17.761Z"
   },
   {
    "duration": 74,
    "start_time": "2023-12-27T13:41:17.777Z"
   },
   {
    "duration": 22,
    "start_time": "2023-12-27T13:41:17.854Z"
   },
   {
    "duration": 1075,
    "start_time": "2023-12-27T13:42:12.829Z"
   },
   {
    "duration": 147,
    "start_time": "2023-12-27T13:42:13.906Z"
   },
   {
    "duration": 5,
    "start_time": "2023-12-27T13:42:14.055Z"
   },
   {
    "duration": 88,
    "start_time": "2023-12-27T13:42:14.062Z"
   },
   {
    "duration": 9,
    "start_time": "2023-12-27T13:42:14.152Z"
   },
   {
    "duration": 18,
    "start_time": "2023-12-27T13:42:14.163Z"
   },
   {
    "duration": 11,
    "start_time": "2023-12-27T13:42:14.183Z"
   },
   {
    "duration": 49,
    "start_time": "2023-12-27T13:42:14.196Z"
   },
   {
    "duration": 14,
    "start_time": "2023-12-27T13:42:14.247Z"
   },
   {
    "duration": 12,
    "start_time": "2023-12-27T13:42:14.262Z"
   },
   {
    "duration": 314,
    "start_time": "2023-12-27T13:42:14.275Z"
   },
   {
    "duration": 370,
    "start_time": "2023-12-27T13:42:14.591Z"
   },
   {
    "duration": 287,
    "start_time": "2023-12-27T13:42:14.963Z"
   },
   {
    "duration": 388,
    "start_time": "2023-12-27T13:42:15.255Z"
   },
   {
    "duration": 506,
    "start_time": "2023-12-27T13:42:15.645Z"
   },
   {
    "duration": 702,
    "start_time": "2023-12-27T13:42:16.153Z"
   },
   {
    "duration": 12,
    "start_time": "2023-12-27T13:42:16.856Z"
   },
   {
    "duration": 361,
    "start_time": "2023-12-27T13:42:16.870Z"
   },
   {
    "duration": 6,
    "start_time": "2023-12-27T13:42:17.233Z"
   },
   {
    "duration": 228,
    "start_time": "2023-12-27T13:42:17.241Z"
   },
   {
    "duration": 5,
    "start_time": "2023-12-27T13:42:17.471Z"
   },
   {
    "duration": 239,
    "start_time": "2023-12-27T13:42:17.477Z"
   },
   {
    "duration": 41,
    "start_time": "2023-12-27T13:42:17.718Z"
   },
   {
    "duration": 203,
    "start_time": "2023-12-27T13:42:17.761Z"
   },
   {
    "duration": 11,
    "start_time": "2023-12-27T13:42:17.965Z"
   },
   {
    "duration": 12,
    "start_time": "2023-12-27T13:42:17.978Z"
   },
   {
    "duration": 58,
    "start_time": "2023-12-27T13:42:17.992Z"
   },
   {
    "duration": 15,
    "start_time": "2023-12-27T13:42:18.052Z"
   },
   {
    "duration": 1358,
    "start_time": "2023-12-27T13:44:54.104Z"
   },
   {
    "duration": 283,
    "start_time": "2023-12-27T13:44:55.465Z"
   },
   {
    "duration": 5,
    "start_time": "2023-12-27T13:44:55.750Z"
   },
   {
    "duration": 195,
    "start_time": "2023-12-27T13:44:55.758Z"
   },
   {
    "duration": 9,
    "start_time": "2023-12-27T13:44:55.955Z"
   },
   {
    "duration": 81,
    "start_time": "2023-12-27T13:44:55.966Z"
   },
   {
    "duration": 17,
    "start_time": "2023-12-27T13:44:56.049Z"
   },
   {
    "duration": 79,
    "start_time": "2023-12-27T13:44:56.068Z"
   },
   {
    "duration": 17,
    "start_time": "2023-12-27T13:44:56.150Z"
   },
   {
    "duration": 69,
    "start_time": "2023-12-27T13:44:56.171Z"
   },
   {
    "duration": 541,
    "start_time": "2023-12-27T13:44:56.243Z"
   },
   {
    "duration": 391,
    "start_time": "2023-12-27T13:44:56.786Z"
   },
   {
    "duration": 293,
    "start_time": "2023-12-27T13:44:57.179Z"
   },
   {
    "duration": 372,
    "start_time": "2023-12-27T13:44:57.475Z"
   },
   {
    "duration": 270,
    "start_time": "2023-12-27T13:44:57.850Z"
   },
   {
    "duration": 401,
    "start_time": "2023-12-27T13:44:58.123Z"
   },
   {
    "duration": 14,
    "start_time": "2023-12-27T13:44:58.525Z"
   },
   {
    "duration": 182,
    "start_time": "2023-12-27T13:44:58.540Z"
   },
   {
    "duration": 5,
    "start_time": "2023-12-27T13:44:58.730Z"
   },
   {
    "duration": 196,
    "start_time": "2023-12-27T13:44:58.737Z"
   },
   {
    "duration": 6,
    "start_time": "2023-12-27T13:44:58.934Z"
   },
   {
    "duration": 232,
    "start_time": "2023-12-27T13:44:58.941Z"
   },
   {
    "duration": 27,
    "start_time": "2023-12-27T13:44:59.176Z"
   },
   {
    "duration": 210,
    "start_time": "2023-12-27T13:44:59.205Z"
   },
   {
    "duration": 20,
    "start_time": "2023-12-27T13:44:59.418Z"
   },
   {
    "duration": 33,
    "start_time": "2023-12-27T13:44:59.440Z"
   },
   {
    "duration": 39,
    "start_time": "2023-12-27T13:44:59.475Z"
   },
   {
    "duration": 20,
    "start_time": "2023-12-27T13:44:59.517Z"
   },
   {
    "duration": 1098,
    "start_time": "2023-12-27T13:50:38.956Z"
   },
   {
    "duration": 230,
    "start_time": "2023-12-27T13:50:40.056Z"
   },
   {
    "duration": 6,
    "start_time": "2023-12-27T13:50:40.288Z"
   },
   {
    "duration": 235,
    "start_time": "2023-12-27T13:50:40.297Z"
   },
   {
    "duration": 0,
    "start_time": "2023-12-27T13:50:40.534Z"
   },
   {
    "duration": 0,
    "start_time": "2023-12-27T13:50:40.536Z"
   },
   {
    "duration": 0,
    "start_time": "2023-12-27T13:50:40.537Z"
   },
   {
    "duration": 0,
    "start_time": "2023-12-27T13:50:40.538Z"
   },
   {
    "duration": 0,
    "start_time": "2023-12-27T13:50:40.539Z"
   },
   {
    "duration": 0,
    "start_time": "2023-12-27T13:50:40.541Z"
   },
   {
    "duration": 0,
    "start_time": "2023-12-27T13:50:40.543Z"
   },
   {
    "duration": 0,
    "start_time": "2023-12-27T13:50:40.545Z"
   },
   {
    "duration": 0,
    "start_time": "2023-12-27T13:50:40.546Z"
   },
   {
    "duration": 0,
    "start_time": "2023-12-27T13:50:40.548Z"
   },
   {
    "duration": 0,
    "start_time": "2023-12-27T13:50:40.550Z"
   },
   {
    "duration": 0,
    "start_time": "2023-12-27T13:50:40.551Z"
   },
   {
    "duration": 0,
    "start_time": "2023-12-27T13:50:40.553Z"
   },
   {
    "duration": 0,
    "start_time": "2023-12-27T13:50:40.555Z"
   },
   {
    "duration": 0,
    "start_time": "2023-12-27T13:50:40.557Z"
   },
   {
    "duration": 0,
    "start_time": "2023-12-27T13:50:40.558Z"
   },
   {
    "duration": 0,
    "start_time": "2023-12-27T13:50:40.560Z"
   },
   {
    "duration": 0,
    "start_time": "2023-12-27T13:50:40.561Z"
   },
   {
    "duration": 0,
    "start_time": "2023-12-27T13:50:40.562Z"
   },
   {
    "duration": 0,
    "start_time": "2023-12-27T13:50:40.563Z"
   },
   {
    "duration": 0,
    "start_time": "2023-12-27T13:50:40.565Z"
   },
   {
    "duration": 0,
    "start_time": "2023-12-27T13:50:40.566Z"
   },
   {
    "duration": 0,
    "start_time": "2023-12-27T13:50:40.568Z"
   },
   {
    "duration": 0,
    "start_time": "2023-12-27T13:50:40.569Z"
   },
   {
    "duration": 1101,
    "start_time": "2023-12-27T13:50:59.942Z"
   },
   {
    "duration": 143,
    "start_time": "2023-12-27T13:51:01.045Z"
   },
   {
    "duration": 6,
    "start_time": "2023-12-27T13:51:01.190Z"
   },
   {
    "duration": 141,
    "start_time": "2023-12-27T13:51:01.199Z"
   },
   {
    "duration": 0,
    "start_time": "2023-12-27T13:51:01.343Z"
   },
   {
    "duration": 0,
    "start_time": "2023-12-27T13:51:01.344Z"
   },
   {
    "duration": 0,
    "start_time": "2023-12-27T13:51:01.346Z"
   },
   {
    "duration": 0,
    "start_time": "2023-12-27T13:51:01.347Z"
   },
   {
    "duration": 0,
    "start_time": "2023-12-27T13:51:01.349Z"
   },
   {
    "duration": 0,
    "start_time": "2023-12-27T13:51:01.351Z"
   },
   {
    "duration": 1,
    "start_time": "2023-12-27T13:51:01.352Z"
   },
   {
    "duration": 0,
    "start_time": "2023-12-27T13:51:01.354Z"
   },
   {
    "duration": 0,
    "start_time": "2023-12-27T13:51:01.356Z"
   },
   {
    "duration": 0,
    "start_time": "2023-12-27T13:51:01.357Z"
   },
   {
    "duration": 0,
    "start_time": "2023-12-27T13:51:01.358Z"
   },
   {
    "duration": 0,
    "start_time": "2023-12-27T13:51:01.360Z"
   },
   {
    "duration": 0,
    "start_time": "2023-12-27T13:51:01.361Z"
   },
   {
    "duration": 0,
    "start_time": "2023-12-27T13:51:01.363Z"
   },
   {
    "duration": 0,
    "start_time": "2023-12-27T13:51:01.364Z"
   },
   {
    "duration": 0,
    "start_time": "2023-12-27T13:51:01.366Z"
   },
   {
    "duration": 0,
    "start_time": "2023-12-27T13:51:01.368Z"
   },
   {
    "duration": 0,
    "start_time": "2023-12-27T13:51:01.370Z"
   },
   {
    "duration": 0,
    "start_time": "2023-12-27T13:51:01.371Z"
   },
   {
    "duration": 0,
    "start_time": "2023-12-27T13:51:01.373Z"
   },
   {
    "duration": 0,
    "start_time": "2023-12-27T13:51:01.375Z"
   },
   {
    "duration": 0,
    "start_time": "2023-12-27T13:51:01.431Z"
   },
   {
    "duration": 0,
    "start_time": "2023-12-27T13:51:01.433Z"
   },
   {
    "duration": 0,
    "start_time": "2023-12-27T13:51:01.435Z"
   },
   {
    "duration": 1087,
    "start_time": "2023-12-27T13:52:22.399Z"
   },
   {
    "duration": 140,
    "start_time": "2023-12-27T13:52:23.488Z"
   },
   {
    "duration": 6,
    "start_time": "2023-12-27T13:52:23.630Z"
   },
   {
    "duration": 140,
    "start_time": "2023-12-27T13:52:23.638Z"
   },
   {
    "duration": 0,
    "start_time": "2023-12-27T13:52:23.780Z"
   },
   {
    "duration": 0,
    "start_time": "2023-12-27T13:52:23.782Z"
   },
   {
    "duration": 0,
    "start_time": "2023-12-27T13:52:23.783Z"
   },
   {
    "duration": 0,
    "start_time": "2023-12-27T13:52:23.784Z"
   },
   {
    "duration": 0,
    "start_time": "2023-12-27T13:52:23.786Z"
   },
   {
    "duration": 0,
    "start_time": "2023-12-27T13:52:23.787Z"
   },
   {
    "duration": 0,
    "start_time": "2023-12-27T13:52:23.789Z"
   },
   {
    "duration": 0,
    "start_time": "2023-12-27T13:52:23.790Z"
   },
   {
    "duration": 0,
    "start_time": "2023-12-27T13:52:23.791Z"
   },
   {
    "duration": 0,
    "start_time": "2023-12-27T13:52:23.792Z"
   },
   {
    "duration": 0,
    "start_time": "2023-12-27T13:52:23.793Z"
   },
   {
    "duration": 0,
    "start_time": "2023-12-27T13:52:23.794Z"
   },
   {
    "duration": 0,
    "start_time": "2023-12-27T13:52:23.795Z"
   },
   {
    "duration": 0,
    "start_time": "2023-12-27T13:52:23.796Z"
   },
   {
    "duration": 0,
    "start_time": "2023-12-27T13:52:23.797Z"
   },
   {
    "duration": 0,
    "start_time": "2023-12-27T13:52:23.830Z"
   },
   {
    "duration": 0,
    "start_time": "2023-12-27T13:52:23.831Z"
   },
   {
    "duration": 0,
    "start_time": "2023-12-27T13:52:23.833Z"
   },
   {
    "duration": 0,
    "start_time": "2023-12-27T13:52:23.834Z"
   },
   {
    "duration": 0,
    "start_time": "2023-12-27T13:52:23.835Z"
   },
   {
    "duration": 0,
    "start_time": "2023-12-27T13:52:23.836Z"
   },
   {
    "duration": 0,
    "start_time": "2023-12-27T13:52:23.838Z"
   },
   {
    "duration": 0,
    "start_time": "2023-12-27T13:52:23.839Z"
   },
   {
    "duration": 0,
    "start_time": "2023-12-27T13:52:23.840Z"
   },
   {
    "duration": 1171,
    "start_time": "2023-12-27T13:53:10.945Z"
   },
   {
    "duration": 135,
    "start_time": "2023-12-27T13:53:12.119Z"
   },
   {
    "duration": 5,
    "start_time": "2023-12-27T13:53:12.257Z"
   },
   {
    "duration": 94,
    "start_time": "2023-12-27T13:53:12.264Z"
   },
   {
    "duration": 12,
    "start_time": "2023-12-27T13:53:12.362Z"
   },
   {
    "duration": 22,
    "start_time": "2023-12-27T13:53:12.376Z"
   },
   {
    "duration": 32,
    "start_time": "2023-12-27T13:53:12.400Z"
   },
   {
    "duration": 25,
    "start_time": "2023-12-27T13:53:12.434Z"
   },
   {
    "duration": 13,
    "start_time": "2023-12-27T13:53:12.461Z"
   },
   {
    "duration": 16,
    "start_time": "2023-12-27T13:53:12.476Z"
   },
   {
    "duration": 350,
    "start_time": "2023-12-27T13:53:12.494Z"
   },
   {
    "duration": 378,
    "start_time": "2023-12-27T13:53:12.846Z"
   },
   {
    "duration": 280,
    "start_time": "2023-12-27T13:53:13.230Z"
   },
   {
    "duration": 554,
    "start_time": "2023-12-27T13:53:13.513Z"
   },
   {
    "duration": 584,
    "start_time": "2023-12-27T13:53:14.069Z"
   },
   {
    "duration": 694,
    "start_time": "2023-12-27T13:53:14.655Z"
   },
   {
    "duration": 14,
    "start_time": "2023-12-27T13:53:15.351Z"
   },
   {
    "duration": 377,
    "start_time": "2023-12-27T13:53:15.367Z"
   },
   {
    "duration": 8,
    "start_time": "2023-12-27T13:53:15.746Z"
   },
   {
    "duration": 416,
    "start_time": "2023-12-27T13:53:15.756Z"
   },
   {
    "duration": 58,
    "start_time": "2023-12-27T13:53:16.173Z"
   },
   {
    "duration": 528,
    "start_time": "2023-12-27T13:53:16.234Z"
   },
   {
    "duration": 83,
    "start_time": "2023-12-27T13:53:16.764Z"
   },
   {
    "duration": 344,
    "start_time": "2023-12-27T13:53:16.849Z"
   },
   {
    "duration": 14,
    "start_time": "2023-12-27T13:53:17.195Z"
   },
   {
    "duration": 25,
    "start_time": "2023-12-27T13:53:17.211Z"
   },
   {
    "duration": 34,
    "start_time": "2023-12-27T13:53:17.238Z"
   },
   {
    "duration": 21,
    "start_time": "2023-12-27T13:53:17.274Z"
   },
   {
    "duration": 1114,
    "start_time": "2023-12-27T13:56:35.688Z"
   },
   {
    "duration": 144,
    "start_time": "2023-12-27T13:56:36.804Z"
   },
   {
    "duration": 7,
    "start_time": "2023-12-27T13:56:36.951Z"
   },
   {
    "duration": 86,
    "start_time": "2023-12-27T13:56:36.960Z"
   },
   {
    "duration": 14,
    "start_time": "2023-12-27T13:56:37.052Z"
   },
   {
    "duration": 31,
    "start_time": "2023-12-27T13:56:37.068Z"
   },
   {
    "duration": 13,
    "start_time": "2023-12-27T13:56:37.101Z"
   },
   {
    "duration": 43,
    "start_time": "2023-12-27T13:56:37.116Z"
   },
   {
    "duration": 17,
    "start_time": "2023-12-27T13:56:37.161Z"
   },
   {
    "duration": 18,
    "start_time": "2023-12-27T13:56:37.180Z"
   },
   {
    "duration": 349,
    "start_time": "2023-12-27T13:56:37.201Z"
   },
   {
    "duration": 433,
    "start_time": "2023-12-27T13:56:37.552Z"
   },
   {
    "duration": 592,
    "start_time": "2023-12-27T13:56:37.988Z"
   },
   {
    "duration": 729,
    "start_time": "2023-12-27T13:56:38.633Z"
   },
   {
    "duration": 602,
    "start_time": "2023-12-27T13:56:39.363Z"
   },
   {
    "duration": 489,
    "start_time": "2023-12-27T13:56:39.966Z"
   },
   {
    "duration": 15,
    "start_time": "2023-12-27T13:56:40.458Z"
   },
   {
    "duration": 173,
    "start_time": "2023-12-27T13:56:40.475Z"
   },
   {
    "duration": 7,
    "start_time": "2023-12-27T13:56:40.650Z"
   },
   {
    "duration": 225,
    "start_time": "2023-12-27T13:56:40.660Z"
   },
   {
    "duration": 6,
    "start_time": "2023-12-27T13:56:40.887Z"
   },
   {
    "duration": 255,
    "start_time": "2023-12-27T13:56:40.895Z"
   },
   {
    "duration": 28,
    "start_time": "2023-12-27T13:56:41.153Z"
   },
   {
    "duration": 195,
    "start_time": "2023-12-27T13:56:41.184Z"
   },
   {
    "duration": 11,
    "start_time": "2023-12-27T13:56:41.381Z"
   },
   {
    "duration": 10,
    "start_time": "2023-12-27T13:56:41.394Z"
   },
   {
    "duration": 57,
    "start_time": "2023-12-27T13:56:41.405Z"
   },
   {
    "duration": 17,
    "start_time": "2023-12-27T13:56:41.464Z"
   },
   {
    "duration": 1124,
    "start_time": "2023-12-27T13:57:03.389Z"
   },
   {
    "duration": 144,
    "start_time": "2023-12-27T13:57:04.515Z"
   },
   {
    "duration": 5,
    "start_time": "2023-12-27T13:57:04.661Z"
   },
   {
    "duration": 74,
    "start_time": "2023-12-27T13:57:04.667Z"
   },
   {
    "duration": 8,
    "start_time": "2023-12-27T13:57:04.749Z"
   },
   {
    "duration": 22,
    "start_time": "2023-12-27T13:57:04.759Z"
   },
   {
    "duration": 12,
    "start_time": "2023-12-27T13:57:04.783Z"
   },
   {
    "duration": 53,
    "start_time": "2023-12-27T13:57:04.797Z"
   },
   {
    "duration": 22,
    "start_time": "2023-12-27T13:57:04.852Z"
   },
   {
    "duration": 13,
    "start_time": "2023-12-27T13:57:04.875Z"
   },
   {
    "duration": 354,
    "start_time": "2023-12-27T13:57:04.890Z"
   },
   {
    "duration": 416,
    "start_time": "2023-12-27T13:57:05.247Z"
   },
   {
    "duration": 293,
    "start_time": "2023-12-27T13:57:05.665Z"
   },
   {
    "duration": 393,
    "start_time": "2023-12-27T13:57:05.961Z"
   },
   {
    "duration": 281,
    "start_time": "2023-12-27T13:57:06.356Z"
   },
   {
    "duration": 389,
    "start_time": "2023-12-27T13:57:06.642Z"
   },
   {
    "duration": 17,
    "start_time": "2023-12-27T13:57:07.033Z"
   },
   {
    "duration": 184,
    "start_time": "2023-12-27T13:57:07.052Z"
   },
   {
    "duration": 6,
    "start_time": "2023-12-27T13:57:07.238Z"
   },
   {
    "duration": 239,
    "start_time": "2023-12-27T13:57:07.246Z"
   },
   {
    "duration": 7,
    "start_time": "2023-12-27T13:57:07.487Z"
   },
   {
    "duration": 266,
    "start_time": "2023-12-27T13:57:07.496Z"
   },
   {
    "duration": 27,
    "start_time": "2023-12-27T13:57:07.763Z"
   },
   {
    "duration": 181,
    "start_time": "2023-12-27T13:57:07.792Z"
   },
   {
    "duration": 11,
    "start_time": "2023-12-27T13:57:07.975Z"
   },
   {
    "duration": 11,
    "start_time": "2023-12-27T13:57:07.988Z"
   },
   {
    "duration": 59,
    "start_time": "2023-12-27T13:57:08.001Z"
   },
   {
    "duration": 15,
    "start_time": "2023-12-27T13:57:08.062Z"
   },
   {
    "duration": 1117,
    "start_time": "2023-12-27T13:57:51.397Z"
   },
   {
    "duration": 148,
    "start_time": "2023-12-27T13:57:52.519Z"
   },
   {
    "duration": 5,
    "start_time": "2023-12-27T13:57:52.669Z"
   },
   {
    "duration": 88,
    "start_time": "2023-12-27T13:57:52.676Z"
   },
   {
    "duration": 9,
    "start_time": "2023-12-27T13:57:52.766Z"
   },
   {
    "duration": 28,
    "start_time": "2023-12-27T13:57:52.777Z"
   },
   {
    "duration": 32,
    "start_time": "2023-12-27T13:57:52.807Z"
   },
   {
    "duration": 28,
    "start_time": "2023-12-27T13:57:52.841Z"
   },
   {
    "duration": 15,
    "start_time": "2023-12-27T13:57:52.871Z"
   },
   {
    "duration": 14,
    "start_time": "2023-12-27T13:57:52.889Z"
   },
   {
    "duration": 332,
    "start_time": "2023-12-27T13:57:52.932Z"
   },
   {
    "duration": 776,
    "start_time": "2023-12-27T13:57:53.266Z"
   },
   {
    "duration": 608,
    "start_time": "2023-12-27T13:57:54.048Z"
   },
   {
    "duration": 619,
    "start_time": "2023-12-27T13:57:54.658Z"
   },
   {
    "duration": 281,
    "start_time": "2023-12-27T13:57:55.279Z"
   },
   {
    "duration": 370,
    "start_time": "2023-12-27T13:57:55.563Z"
   },
   {
    "duration": 14,
    "start_time": "2023-12-27T13:57:55.936Z"
   },
   {
    "duration": 199,
    "start_time": "2023-12-27T13:57:55.952Z"
   },
   {
    "duration": 6,
    "start_time": "2023-12-27T13:57:56.154Z"
   },
   {
    "duration": 228,
    "start_time": "2023-12-27T13:57:56.162Z"
   },
   {
    "duration": 6,
    "start_time": "2023-12-27T13:57:56.393Z"
   },
   {
    "duration": 241,
    "start_time": "2023-12-27T13:57:56.401Z"
   },
   {
    "duration": 30,
    "start_time": "2023-12-27T13:57:56.644Z"
   },
   {
    "duration": 220,
    "start_time": "2023-12-27T13:57:56.676Z"
   },
   {
    "duration": 18,
    "start_time": "2023-12-27T13:57:56.904Z"
   },
   {
    "duration": 17,
    "start_time": "2023-12-27T13:57:56.934Z"
   },
   {
    "duration": 60,
    "start_time": "2023-12-27T13:57:56.953Z"
   },
   {
    "duration": 20,
    "start_time": "2023-12-27T13:57:57.016Z"
   },
   {
    "duration": 6,
    "start_time": "2023-12-27T14:14:58.548Z"
   },
   {
    "duration": 66,
    "start_time": "2023-12-27T14:16:27.695Z"
   },
   {
    "duration": 16,
    "start_time": "2023-12-27T14:16:38.858Z"
   },
   {
    "duration": 15,
    "start_time": "2023-12-27T14:17:14.711Z"
   },
   {
    "duration": 13,
    "start_time": "2023-12-27T14:41:37.772Z"
   },
   {
    "duration": 1145,
    "start_time": "2023-12-27T14:47:56.745Z"
   },
   {
    "duration": 153,
    "start_time": "2023-12-27T14:47:57.892Z"
   },
   {
    "duration": 5,
    "start_time": "2023-12-27T14:47:58.047Z"
   },
   {
    "duration": 116,
    "start_time": "2023-12-27T14:47:58.055Z"
   },
   {
    "duration": 9,
    "start_time": "2023-12-27T14:47:58.173Z"
   },
   {
    "duration": 24,
    "start_time": "2023-12-27T14:47:58.184Z"
   },
   {
    "duration": 36,
    "start_time": "2023-12-27T14:47:58.210Z"
   },
   {
    "duration": 25,
    "start_time": "2023-12-27T14:47:58.250Z"
   },
   {
    "duration": 31,
    "start_time": "2023-12-27T14:47:58.277Z"
   },
   {
    "duration": 37,
    "start_time": "2023-12-27T14:47:58.312Z"
   },
   {
    "duration": 403,
    "start_time": "2023-12-27T14:47:58.351Z"
   },
   {
    "duration": 806,
    "start_time": "2023-12-27T14:47:58.756Z"
   },
   {
    "duration": 605,
    "start_time": "2023-12-27T14:47:59.565Z"
   },
   {
    "duration": 443,
    "start_time": "2023-12-27T14:48:00.173Z"
   },
   {
    "duration": 277,
    "start_time": "2023-12-27T14:48:00.618Z"
   },
   {
    "duration": 448,
    "start_time": "2023-12-27T14:48:00.897Z"
   },
   {
    "duration": 14,
    "start_time": "2023-12-27T14:48:01.349Z"
   },
   {
    "duration": 231,
    "start_time": "2023-12-27T14:48:01.365Z"
   },
   {
    "duration": 5,
    "start_time": "2023-12-27T14:48:01.598Z"
   },
   {
    "duration": 245,
    "start_time": "2023-12-27T14:48:01.605Z"
   },
   {
    "duration": 7,
    "start_time": "2023-12-27T14:48:01.853Z"
   },
   {
    "duration": 389,
    "start_time": "2023-12-27T14:48:01.862Z"
   },
   {
    "duration": 29,
    "start_time": "2023-12-27T14:48:02.253Z"
   },
   {
    "duration": 214,
    "start_time": "2023-12-27T14:48:02.284Z"
   },
   {
    "duration": 12,
    "start_time": "2023-12-27T14:48:02.500Z"
   },
   {
    "duration": 62,
    "start_time": "2023-12-27T14:48:02.514Z"
   },
   {
    "duration": 98,
    "start_time": "2023-12-27T14:48:02.578Z"
   },
   {
    "duration": 42,
    "start_time": "2023-12-27T14:48:02.681Z"
   },
   {
    "duration": 14,
    "start_time": "2023-12-27T14:50:48.946Z"
   },
   {
    "duration": 108,
    "start_time": "2023-12-27T14:51:16.177Z"
   },
   {
    "duration": 7,
    "start_time": "2023-12-27T14:52:50.041Z"
   },
   {
    "duration": 1152,
    "start_time": "2023-12-27T14:53:01.439Z"
   },
   {
    "duration": 147,
    "start_time": "2023-12-27T14:53:02.593Z"
   },
   {
    "duration": 52,
    "start_time": "2023-12-27T14:53:02.744Z"
   },
   {
    "duration": 158,
    "start_time": "2023-12-27T14:53:02.798Z"
   },
   {
    "duration": 129,
    "start_time": "2023-12-27T14:53:02.959Z"
   },
   {
    "duration": 36,
    "start_time": "2023-12-27T14:53:03.090Z"
   },
   {
    "duration": 42,
    "start_time": "2023-12-27T14:53:03.128Z"
   },
   {
    "duration": 47,
    "start_time": "2023-12-27T14:53:03.172Z"
   },
   {
    "duration": 28,
    "start_time": "2023-12-27T14:53:03.221Z"
   },
   {
    "duration": 32,
    "start_time": "2023-12-27T14:53:03.251Z"
   },
   {
    "duration": 334,
    "start_time": "2023-12-27T14:53:03.285Z"
   },
   {
    "duration": 407,
    "start_time": "2023-12-27T14:53:03.621Z"
   },
   {
    "duration": 281,
    "start_time": "2023-12-27T14:53:04.041Z"
   },
   {
    "duration": 643,
    "start_time": "2023-12-27T14:53:04.332Z"
   },
   {
    "duration": 536,
    "start_time": "2023-12-27T14:53:05.031Z"
   },
   {
    "duration": 779,
    "start_time": "2023-12-27T14:53:05.569Z"
   },
   {
    "duration": 12,
    "start_time": "2023-12-27T14:53:06.354Z"
   },
   {
    "duration": 257,
    "start_time": "2023-12-27T14:53:06.368Z"
   },
   {
    "duration": 19,
    "start_time": "2023-12-27T14:53:06.627Z"
   },
   {
    "duration": 182,
    "start_time": "2023-12-27T14:53:06.648Z"
   },
   {
    "duration": 12,
    "start_time": "2023-12-27T14:53:06.832Z"
   },
   {
    "duration": 230,
    "start_time": "2023-12-27T14:53:06.846Z"
   },
   {
    "duration": 26,
    "start_time": "2023-12-27T14:53:07.078Z"
   },
   {
    "duration": 193,
    "start_time": "2023-12-27T14:53:07.106Z"
   },
   {
    "duration": 13,
    "start_time": "2023-12-27T14:53:07.301Z"
   },
   {
    "duration": 26,
    "start_time": "2023-12-27T14:53:07.316Z"
   },
   {
    "duration": 33,
    "start_time": "2023-12-27T14:53:07.351Z"
   },
   {
    "duration": 15,
    "start_time": "2023-12-27T14:53:07.386Z"
   },
   {
    "duration": 13,
    "start_time": "2023-12-27T14:53:26.481Z"
   },
   {
    "duration": 1105,
    "start_time": "2023-12-27T14:53:31.718Z"
   },
   {
    "duration": 152,
    "start_time": "2023-12-27T14:53:32.825Z"
   },
   {
    "duration": 5,
    "start_time": "2023-12-27T14:53:32.979Z"
   },
   {
    "duration": 85,
    "start_time": "2023-12-27T14:53:32.987Z"
   },
   {
    "duration": 8,
    "start_time": "2023-12-27T14:53:33.075Z"
   },
   {
    "duration": 27,
    "start_time": "2023-12-27T14:53:33.085Z"
   },
   {
    "duration": 18,
    "start_time": "2023-12-27T14:53:33.113Z"
   },
   {
    "duration": 28,
    "start_time": "2023-12-27T14:53:33.133Z"
   },
   {
    "duration": 19,
    "start_time": "2023-12-27T14:53:33.163Z"
   },
   {
    "duration": 21,
    "start_time": "2023-12-27T14:53:33.183Z"
   },
   {
    "duration": 345,
    "start_time": "2023-12-27T14:53:33.206Z"
   },
   {
    "duration": 422,
    "start_time": "2023-12-27T14:53:33.554Z"
   },
   {
    "duration": 309,
    "start_time": "2023-12-27T14:53:33.978Z"
   },
   {
    "duration": 467,
    "start_time": "2023-12-27T14:53:34.290Z"
   },
   {
    "duration": 255,
    "start_time": "2023-12-27T14:53:34.759Z"
   },
   {
    "duration": 644,
    "start_time": "2023-12-27T14:53:35.016Z"
   },
   {
    "duration": 14,
    "start_time": "2023-12-27T14:53:35.666Z"
   },
   {
    "duration": 494,
    "start_time": "2023-12-27T14:53:35.681Z"
   },
   {
    "duration": 63,
    "start_time": "2023-12-27T14:53:36.178Z"
   },
   {
    "duration": 408,
    "start_time": "2023-12-27T14:53:36.247Z"
   },
   {
    "duration": 7,
    "start_time": "2023-12-27T14:53:36.657Z"
   },
   {
    "duration": 492,
    "start_time": "2023-12-27T14:53:36.667Z"
   },
   {
    "duration": 27,
    "start_time": "2023-12-27T14:53:37.161Z"
   },
   {
    "duration": 196,
    "start_time": "2023-12-27T14:53:37.190Z"
   },
   {
    "duration": 12,
    "start_time": "2023-12-27T14:53:37.389Z"
   },
   {
    "duration": 32,
    "start_time": "2023-12-27T14:53:37.403Z"
   },
   {
    "duration": 38,
    "start_time": "2023-12-27T14:53:37.436Z"
   },
   {
    "duration": 15,
    "start_time": "2023-12-27T14:53:37.476Z"
   },
   {
    "duration": 266,
    "start_time": "2023-12-27T15:07:13.073Z"
   },
   {
    "duration": 1122,
    "start_time": "2023-12-27T15:08:22.181Z"
   },
   {
    "duration": 152,
    "start_time": "2023-12-27T15:08:23.305Z"
   },
   {
    "duration": 5,
    "start_time": "2023-12-27T15:08:23.459Z"
   },
   {
    "duration": 180,
    "start_time": "2023-12-27T15:08:23.466Z"
   },
   {
    "duration": 9,
    "start_time": "2023-12-27T15:08:23.647Z"
   },
   {
    "duration": 35,
    "start_time": "2023-12-27T15:08:23.658Z"
   },
   {
    "duration": 25,
    "start_time": "2023-12-27T15:08:23.695Z"
   },
   {
    "duration": 64,
    "start_time": "2023-12-27T15:08:23.722Z"
   },
   {
    "duration": 19,
    "start_time": "2023-12-27T15:08:23.790Z"
   },
   {
    "duration": 17,
    "start_time": "2023-12-27T15:08:23.811Z"
   },
   {
    "duration": 347,
    "start_time": "2023-12-27T15:08:23.831Z"
   },
   {
    "duration": 382,
    "start_time": "2023-12-27T15:08:24.180Z"
   },
   {
    "duration": 274,
    "start_time": "2023-12-27T15:08:24.563Z"
   },
   {
    "duration": 406,
    "start_time": "2023-12-27T15:08:24.840Z"
   },
   {
    "duration": 267,
    "start_time": "2023-12-27T15:08:25.249Z"
   },
   {
    "duration": 399,
    "start_time": "2023-12-27T15:08:25.518Z"
   },
   {
    "duration": 20,
    "start_time": "2023-12-27T15:08:25.919Z"
   },
   {
    "duration": 178,
    "start_time": "2023-12-27T15:08:25.942Z"
   },
   {
    "duration": 23,
    "start_time": "2023-12-27T15:08:26.122Z"
   },
   {
    "duration": 194,
    "start_time": "2023-12-27T15:08:26.147Z"
   },
   {
    "duration": 7,
    "start_time": "2023-12-27T15:08:26.343Z"
   },
   {
    "duration": 326,
    "start_time": "2023-12-27T15:08:26.352Z"
   },
   {
    "duration": 83,
    "start_time": "2023-12-27T15:08:26.680Z"
   },
   {
    "duration": 382,
    "start_time": "2023-12-27T15:08:26.765Z"
   },
   {
    "duration": 11,
    "start_time": "2023-12-27T15:08:27.149Z"
   },
   {
    "duration": 11,
    "start_time": "2023-12-27T15:08:27.162Z"
   },
   {
    "duration": 90,
    "start_time": "2023-12-27T15:08:27.176Z"
   },
   {
    "duration": 65,
    "start_time": "2023-12-27T15:08:27.268Z"
   },
   {
    "duration": 16,
    "start_time": "2023-12-27T17:07:47.670Z"
   },
   {
    "duration": 268,
    "start_time": "2023-12-27T17:08:14.538Z"
   },
   {
    "duration": 236,
    "start_time": "2023-12-27T17:10:03.196Z"
   },
   {
    "duration": 23,
    "start_time": "2023-12-27T17:28:48.274Z"
   },
   {
    "duration": 15,
    "start_time": "2023-12-27T17:36:31.347Z"
   },
   {
    "duration": 1168,
    "start_time": "2023-12-27T17:36:36.700Z"
   },
   {
    "duration": 139,
    "start_time": "2023-12-27T17:36:37.870Z"
   },
   {
    "duration": 6,
    "start_time": "2023-12-27T17:36:38.011Z"
   },
   {
    "duration": 90,
    "start_time": "2023-12-27T17:36:38.019Z"
   },
   {
    "duration": 22,
    "start_time": "2023-12-27T17:36:38.111Z"
   },
   {
    "duration": 17,
    "start_time": "2023-12-27T17:36:38.134Z"
   },
   {
    "duration": 13,
    "start_time": "2023-12-27T17:36:38.153Z"
   },
   {
    "duration": 28,
    "start_time": "2023-12-27T17:36:38.168Z"
   },
   {
    "duration": 42,
    "start_time": "2023-12-27T17:36:38.198Z"
   },
   {
    "duration": 12,
    "start_time": "2023-12-27T17:36:38.242Z"
   },
   {
    "duration": 325,
    "start_time": "2023-12-27T17:36:38.256Z"
   },
   {
    "duration": 382,
    "start_time": "2023-12-27T17:36:38.584Z"
   },
   {
    "duration": 279,
    "start_time": "2023-12-27T17:36:38.968Z"
   },
   {
    "duration": 354,
    "start_time": "2023-12-27T17:36:39.250Z"
   },
   {
    "duration": 252,
    "start_time": "2023-12-27T17:36:39.607Z"
   },
   {
    "duration": 353,
    "start_time": "2023-12-27T17:36:39.861Z"
   },
   {
    "duration": 19,
    "start_time": "2023-12-27T17:36:40.216Z"
   },
   {
    "duration": 158,
    "start_time": "2023-12-27T17:36:40.236Z"
   },
   {
    "duration": 6,
    "start_time": "2023-12-27T17:36:40.396Z"
   },
   {
    "duration": 186,
    "start_time": "2023-12-27T17:36:40.403Z"
   },
   {
    "duration": 187,
    "start_time": "2023-12-27T17:36:40.591Z"
   },
   {
    "duration": 6,
    "start_time": "2023-12-27T17:36:40.780Z"
   },
   {
    "duration": 223,
    "start_time": "2023-12-27T17:36:40.788Z"
   },
   {
    "duration": 37,
    "start_time": "2023-12-27T17:36:41.013Z"
   },
   {
    "duration": 297,
    "start_time": "2023-12-27T17:36:41.053Z"
   },
   {
    "duration": 15,
    "start_time": "2023-12-27T17:36:41.352Z"
   },
   {
    "duration": 12,
    "start_time": "2023-12-27T17:36:41.369Z"
   },
   {
    "duration": 55,
    "start_time": "2023-12-27T17:36:41.382Z"
   },
   {
    "duration": 19,
    "start_time": "2023-12-27T17:36:41.439Z"
   },
   {
    "duration": 1105,
    "start_time": "2023-12-27T17:47:42.648Z"
   },
   {
    "duration": 134,
    "start_time": "2023-12-27T17:47:43.755Z"
   },
   {
    "duration": 5,
    "start_time": "2023-12-27T17:47:43.891Z"
   },
   {
    "duration": 63,
    "start_time": "2023-12-27T17:47:43.898Z"
   },
   {
    "duration": 7,
    "start_time": "2023-12-27T17:47:43.963Z"
   },
   {
    "duration": 15,
    "start_time": "2023-12-27T17:47:43.972Z"
   },
   {
    "duration": 44,
    "start_time": "2023-12-27T17:47:43.988Z"
   },
   {
    "duration": 23,
    "start_time": "2023-12-27T17:47:44.034Z"
   },
   {
    "duration": 13,
    "start_time": "2023-12-27T17:47:44.059Z"
   },
   {
    "duration": 14,
    "start_time": "2023-12-27T17:47:44.074Z"
   },
   {
    "duration": 317,
    "start_time": "2023-12-27T17:47:44.089Z"
   },
   {
    "duration": 380,
    "start_time": "2023-12-27T17:47:44.407Z"
   },
   {
    "duration": 267,
    "start_time": "2023-12-27T17:47:44.789Z"
   },
   {
    "duration": 349,
    "start_time": "2023-12-27T17:47:45.057Z"
   },
   {
    "duration": 290,
    "start_time": "2023-12-27T17:47:45.407Z"
   },
   {
    "duration": 467,
    "start_time": "2023-12-27T17:47:45.699Z"
   },
   {
    "duration": 12,
    "start_time": "2023-12-27T17:47:46.168Z"
   },
   {
    "duration": 238,
    "start_time": "2023-12-27T17:47:46.182Z"
   },
   {
    "duration": 11,
    "start_time": "2023-12-27T17:47:46.422Z"
   },
   {
    "duration": 189,
    "start_time": "2023-12-27T17:47:46.436Z"
   },
   {
    "duration": 188,
    "start_time": "2023-12-27T17:47:46.627Z"
   },
   {
    "duration": 15,
    "start_time": "2023-12-27T17:47:46.817Z"
   },
   {
    "duration": 216,
    "start_time": "2023-12-27T17:47:46.834Z"
   },
   {
    "duration": 28,
    "start_time": "2023-12-27T17:47:47.052Z"
   },
   {
    "duration": 198,
    "start_time": "2023-12-27T17:47:47.082Z"
   },
   {
    "duration": 13,
    "start_time": "2023-12-27T17:47:47.282Z"
   },
   {
    "duration": 20,
    "start_time": "2023-12-27T17:47:47.297Z"
   },
   {
    "duration": 31,
    "start_time": "2023-12-27T17:47:47.334Z"
   },
   {
    "duration": 16,
    "start_time": "2023-12-27T17:47:47.366Z"
   },
   {
    "duration": 1100,
    "start_time": "2023-12-27T17:49:05.285Z"
   },
   {
    "duration": 134,
    "start_time": "2023-12-27T17:49:06.387Z"
   },
   {
    "duration": 5,
    "start_time": "2023-12-27T17:49:06.523Z"
   },
   {
    "duration": 101,
    "start_time": "2023-12-27T17:49:06.529Z"
   },
   {
    "duration": 13,
    "start_time": "2023-12-27T17:49:06.634Z"
   },
   {
    "duration": 34,
    "start_time": "2023-12-27T17:49:06.649Z"
   },
   {
    "duration": 33,
    "start_time": "2023-12-27T17:49:06.686Z"
   },
   {
    "duration": 41,
    "start_time": "2023-12-27T17:49:06.720Z"
   },
   {
    "duration": 13,
    "start_time": "2023-12-27T17:49:06.763Z"
   },
   {
    "duration": 35,
    "start_time": "2023-12-27T17:49:06.778Z"
   },
   {
    "duration": 382,
    "start_time": "2023-12-27T17:49:06.815Z"
   },
   {
    "duration": 378,
    "start_time": "2023-12-27T17:49:07.199Z"
   },
   {
    "duration": 292,
    "start_time": "2023-12-27T17:49:07.579Z"
   },
   {
    "duration": 340,
    "start_time": "2023-12-27T17:49:07.874Z"
   },
   {
    "duration": 298,
    "start_time": "2023-12-27T17:49:08.216Z"
   },
   {
    "duration": 402,
    "start_time": "2023-12-27T17:49:08.516Z"
   },
   {
    "duration": 16,
    "start_time": "2023-12-27T17:49:08.920Z"
   },
   {
    "duration": 166,
    "start_time": "2023-12-27T17:49:08.938Z"
   },
   {
    "duration": 7,
    "start_time": "2023-12-27T17:49:09.105Z"
   },
   {
    "duration": 182,
    "start_time": "2023-12-27T17:49:09.113Z"
   },
   {
    "duration": 171,
    "start_time": "2023-12-27T17:49:09.297Z"
   },
   {
    "duration": 5,
    "start_time": "2023-12-27T17:49:09.470Z"
   },
   {
    "duration": 231,
    "start_time": "2023-12-27T17:49:09.477Z"
   },
   {
    "duration": 37,
    "start_time": "2023-12-27T17:49:09.710Z"
   },
   {
    "duration": 172,
    "start_time": "2023-12-27T17:49:09.749Z"
   },
   {
    "duration": 17,
    "start_time": "2023-12-27T17:49:09.923Z"
   },
   {
    "duration": 20,
    "start_time": "2023-12-27T17:49:09.942Z"
   },
   {
    "duration": 31,
    "start_time": "2023-12-27T17:49:09.964Z"
   },
   {
    "duration": 41,
    "start_time": "2023-12-27T17:49:09.997Z"
   }
  ],
  "kernelspec": {
   "display_name": "Python 3 (ipykernel)",
   "language": "python",
   "name": "python3"
  },
  "language_info": {
   "codemirror_mode": {
    "name": "ipython",
    "version": 3
   },
   "file_extension": ".py",
   "mimetype": "text/x-python",
   "name": "python",
   "nbconvert_exporter": "python",
   "pygments_lexer": "ipython3",
   "version": "3.11.4"
  },
  "toc": {
   "base_numbering": 1,
   "nav_menu": {},
   "number_sections": true,
   "sideBar": true,
   "skip_h1_title": true,
   "title_cell": "Table of Contents",
   "title_sidebar": "Contents",
   "toc_cell": false,
   "toc_position": {
    "height": "463.2px",
    "left": "160px",
    "top": "110.525px",
    "width": "294.225px"
   },
   "toc_section_display": true,
   "toc_window_display": false
  }
 },
 "nbformat": 4,
 "nbformat_minor": 2
}
