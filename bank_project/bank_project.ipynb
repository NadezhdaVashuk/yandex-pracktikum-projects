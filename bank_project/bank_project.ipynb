{
 "cells": [
  {
   "cell_type": "markdown",
   "id": "386f2ae7",
   "metadata": {
    "deletable": false,
    "editable": false,
    "id": "386f2ae7"
   },
   "source": [
    "# Исследование надежности заемщиков\n"
   ]
  },
  {
   "cell_type": "markdown",
   "id": "ffe86f65",
   "metadata": {
    "deletable": false,
    "editable": false,
    "id": "ffe86f65"
   },
   "source": [
    "Заказчик — кредитный отдел банка. Нужно разобраться, влияет ли семейное положение и количество детей клиента на факт погашения кредита в срок. Входные данные от банка — статистика о платёжеспособности клиентов.\n",
    "Результаты исследования будут учтены при построении модели кредитного скоринга — специальной системы, которая оценивает способность потенциального заёмщика вернуть кредит банку.\n",
    "\n",
    "Описание данных:\n",
    "*children* — количество детей в семье;\n",
    "*days_employed* — общий трудовой стаж в днях;\n",
    "*dob_years* — возраст клиента в годах;\n",
    "*education* — уровень образования клиента;\n",
    "*education_id* — идентификатор уровня образования;\n",
    "*family_status* — семейное положение;\n",
    "*family_status_id* — идентификатор семейного положения;\n",
    "*gender* — пол клиента;\n",
    "*income_type* — тип занятости;\n",
    "*debt* — имел ли задолженность по возврату кредитов;\n",
    "*total_income* — ежемесячный доход;\n",
    "*purpose* — цель получения кредита.\n",
    "\n",
    "\n",
    "\n",
    "**Цель исследования**: изучить факторы надежности заемщиков.\n",
    "\n",
    "**Ход исследования**\n",
    "\n",
    "Исследование пройдёт в 3 этапа:\n",
    " 1. Обзор и предобработка данных.\n",
    " 2. Выявление факторов надежности заемщиков.\n",
    " 3. Составление портрета надежного и рискового заемщика. заемщика.\n",
    "\n"
   ]
  },
  {
   "attachments": {},
   "cell_type": "markdown",
   "id": "056b01b8-5c09-49f9-afcf-01f63485ba36",
   "metadata": {
    "deletable": false,
    "editable": false,
    "id": "26613308"
   },
   "source": [
    "## Обзор и предобработка данных"
   ]
  },
  {
   "cell_type": "markdown",
   "id": "3c9f838e",
   "metadata": {
    "deletable": false,
    "editable": false,
    "id": "3c9f838e"
   },
   "source": [
    "**Задание 1. Импортируйте библиотеку pandas. Считайте данные из csv-файла в датафрейм и сохраните в переменную `data`. Путь к файлу:**\n",
    "\n",
    "`/datasets/data.csv`"
   ]
  },
  {
   "cell_type": "code",
   "execution_count": 1,
   "id": "77a68a90",
   "metadata": {
    "deletable": false,
    "id": "77a68a90"
   },
   "outputs": [],
   "source": [
    "import pandas as pd\n",
    "import matplotlib.pyplot as plt\n",
    "import numpy as np\n",
    "\n",
    "try:\n",
    "    data = pd.read_csv('/datasets/data.csv')\n",
    "except:\n",
    "    data = pd.read_csv('https://code.s3.yandex.net/datasets/data.csv')\n"
   ]
  },
  {
   "cell_type": "markdown",
   "id": "45365635",
   "metadata": {
    "deletable": false,
    "editable": false,
    "id": "45365635"
   },
   "source": [
    "**Задание 2. Выведите первые 20 строчек датафрейма `data` на экран.**"
   ]
  },
  {
   "cell_type": "code",
   "execution_count": 2,
   "id": "b0451a9a",
   "metadata": {
    "deletable": false,
    "id": "b0451a9a",
    "outputId": "1a8f3ef2-d323-4ec2-ddf7-89670b5944c4"
   },
   "outputs": [
    {
     "data": {
      "text/html": [
       "<div>\n",
       "<style scoped>\n",
       "    .dataframe tbody tr th:only-of-type {\n",
       "        vertical-align: middle;\n",
       "    }\n",
       "\n",
       "    .dataframe tbody tr th {\n",
       "        vertical-align: top;\n",
       "    }\n",
       "\n",
       "    .dataframe thead th {\n",
       "        text-align: right;\n",
       "    }\n",
       "</style>\n",
       "<table border=\"1\" class=\"dataframe\">\n",
       "  <thead>\n",
       "    <tr style=\"text-align: right;\">\n",
       "      <th></th>\n",
       "      <th>children</th>\n",
       "      <th>days_employed</th>\n",
       "      <th>dob_years</th>\n",
       "      <th>education</th>\n",
       "      <th>education_id</th>\n",
       "      <th>family_status</th>\n",
       "      <th>family_status_id</th>\n",
       "      <th>gender</th>\n",
       "      <th>income_type</th>\n",
       "      <th>debt</th>\n",
       "      <th>total_income</th>\n",
       "      <th>purpose</th>\n",
       "    </tr>\n",
       "  </thead>\n",
       "  <tbody>\n",
       "    <tr>\n",
       "      <th>0</th>\n",
       "      <td>1</td>\n",
       "      <td>-8437.673028</td>\n",
       "      <td>42</td>\n",
       "      <td>высшее</td>\n",
       "      <td>0</td>\n",
       "      <td>женат / замужем</td>\n",
       "      <td>0</td>\n",
       "      <td>F</td>\n",
       "      <td>сотрудник</td>\n",
       "      <td>0</td>\n",
       "      <td>253875.639453</td>\n",
       "      <td>покупка жилья</td>\n",
       "    </tr>\n",
       "    <tr>\n",
       "      <th>1</th>\n",
       "      <td>1</td>\n",
       "      <td>-4024.803754</td>\n",
       "      <td>36</td>\n",
       "      <td>среднее</td>\n",
       "      <td>1</td>\n",
       "      <td>женат / замужем</td>\n",
       "      <td>0</td>\n",
       "      <td>F</td>\n",
       "      <td>сотрудник</td>\n",
       "      <td>0</td>\n",
       "      <td>112080.014102</td>\n",
       "      <td>приобретение автомобиля</td>\n",
       "    </tr>\n",
       "    <tr>\n",
       "      <th>2</th>\n",
       "      <td>0</td>\n",
       "      <td>-5623.422610</td>\n",
       "      <td>33</td>\n",
       "      <td>Среднее</td>\n",
       "      <td>1</td>\n",
       "      <td>женат / замужем</td>\n",
       "      <td>0</td>\n",
       "      <td>M</td>\n",
       "      <td>сотрудник</td>\n",
       "      <td>0</td>\n",
       "      <td>145885.952297</td>\n",
       "      <td>покупка жилья</td>\n",
       "    </tr>\n",
       "    <tr>\n",
       "      <th>3</th>\n",
       "      <td>3</td>\n",
       "      <td>-4124.747207</td>\n",
       "      <td>32</td>\n",
       "      <td>среднее</td>\n",
       "      <td>1</td>\n",
       "      <td>женат / замужем</td>\n",
       "      <td>0</td>\n",
       "      <td>M</td>\n",
       "      <td>сотрудник</td>\n",
       "      <td>0</td>\n",
       "      <td>267628.550329</td>\n",
       "      <td>дополнительное образование</td>\n",
       "    </tr>\n",
       "    <tr>\n",
       "      <th>4</th>\n",
       "      <td>0</td>\n",
       "      <td>340266.072047</td>\n",
       "      <td>53</td>\n",
       "      <td>среднее</td>\n",
       "      <td>1</td>\n",
       "      <td>гражданский брак</td>\n",
       "      <td>1</td>\n",
       "      <td>F</td>\n",
       "      <td>пенсионер</td>\n",
       "      <td>0</td>\n",
       "      <td>158616.077870</td>\n",
       "      <td>сыграть свадьбу</td>\n",
       "    </tr>\n",
       "    <tr>\n",
       "      <th>5</th>\n",
       "      <td>0</td>\n",
       "      <td>-926.185831</td>\n",
       "      <td>27</td>\n",
       "      <td>высшее</td>\n",
       "      <td>0</td>\n",
       "      <td>гражданский брак</td>\n",
       "      <td>1</td>\n",
       "      <td>M</td>\n",
       "      <td>компаньон</td>\n",
       "      <td>0</td>\n",
       "      <td>255763.565419</td>\n",
       "      <td>покупка жилья</td>\n",
       "    </tr>\n",
       "    <tr>\n",
       "      <th>6</th>\n",
       "      <td>0</td>\n",
       "      <td>-2879.202052</td>\n",
       "      <td>43</td>\n",
       "      <td>высшее</td>\n",
       "      <td>0</td>\n",
       "      <td>женат / замужем</td>\n",
       "      <td>0</td>\n",
       "      <td>F</td>\n",
       "      <td>компаньон</td>\n",
       "      <td>0</td>\n",
       "      <td>240525.971920</td>\n",
       "      <td>операции с жильем</td>\n",
       "    </tr>\n",
       "    <tr>\n",
       "      <th>7</th>\n",
       "      <td>0</td>\n",
       "      <td>-152.779569</td>\n",
       "      <td>50</td>\n",
       "      <td>СРЕДНЕЕ</td>\n",
       "      <td>1</td>\n",
       "      <td>женат / замужем</td>\n",
       "      <td>0</td>\n",
       "      <td>M</td>\n",
       "      <td>сотрудник</td>\n",
       "      <td>0</td>\n",
       "      <td>135823.934197</td>\n",
       "      <td>образование</td>\n",
       "    </tr>\n",
       "    <tr>\n",
       "      <th>8</th>\n",
       "      <td>2</td>\n",
       "      <td>-6929.865299</td>\n",
       "      <td>35</td>\n",
       "      <td>ВЫСШЕЕ</td>\n",
       "      <td>0</td>\n",
       "      <td>гражданский брак</td>\n",
       "      <td>1</td>\n",
       "      <td>F</td>\n",
       "      <td>сотрудник</td>\n",
       "      <td>0</td>\n",
       "      <td>95856.832424</td>\n",
       "      <td>на проведение свадьбы</td>\n",
       "    </tr>\n",
       "    <tr>\n",
       "      <th>9</th>\n",
       "      <td>0</td>\n",
       "      <td>-2188.756445</td>\n",
       "      <td>41</td>\n",
       "      <td>среднее</td>\n",
       "      <td>1</td>\n",
       "      <td>женат / замужем</td>\n",
       "      <td>0</td>\n",
       "      <td>M</td>\n",
       "      <td>сотрудник</td>\n",
       "      <td>0</td>\n",
       "      <td>144425.938277</td>\n",
       "      <td>покупка жилья для семьи</td>\n",
       "    </tr>\n",
       "    <tr>\n",
       "      <th>10</th>\n",
       "      <td>2</td>\n",
       "      <td>-4171.483647</td>\n",
       "      <td>36</td>\n",
       "      <td>высшее</td>\n",
       "      <td>0</td>\n",
       "      <td>женат / замужем</td>\n",
       "      <td>0</td>\n",
       "      <td>M</td>\n",
       "      <td>компаньон</td>\n",
       "      <td>0</td>\n",
       "      <td>113943.491460</td>\n",
       "      <td>покупка недвижимости</td>\n",
       "    </tr>\n",
       "    <tr>\n",
       "      <th>11</th>\n",
       "      <td>0</td>\n",
       "      <td>-792.701887</td>\n",
       "      <td>40</td>\n",
       "      <td>среднее</td>\n",
       "      <td>1</td>\n",
       "      <td>женат / замужем</td>\n",
       "      <td>0</td>\n",
       "      <td>F</td>\n",
       "      <td>сотрудник</td>\n",
       "      <td>0</td>\n",
       "      <td>77069.234271</td>\n",
       "      <td>покупка коммерческой недвижимости</td>\n",
       "    </tr>\n",
       "    <tr>\n",
       "      <th>12</th>\n",
       "      <td>0</td>\n",
       "      <td>NaN</td>\n",
       "      <td>65</td>\n",
       "      <td>среднее</td>\n",
       "      <td>1</td>\n",
       "      <td>гражданский брак</td>\n",
       "      <td>1</td>\n",
       "      <td>M</td>\n",
       "      <td>пенсионер</td>\n",
       "      <td>0</td>\n",
       "      <td>NaN</td>\n",
       "      <td>сыграть свадьбу</td>\n",
       "    </tr>\n",
       "    <tr>\n",
       "      <th>13</th>\n",
       "      <td>0</td>\n",
       "      <td>-1846.641941</td>\n",
       "      <td>54</td>\n",
       "      <td>неоконченное высшее</td>\n",
       "      <td>2</td>\n",
       "      <td>женат / замужем</td>\n",
       "      <td>0</td>\n",
       "      <td>F</td>\n",
       "      <td>сотрудник</td>\n",
       "      <td>0</td>\n",
       "      <td>130458.228857</td>\n",
       "      <td>приобретение автомобиля</td>\n",
       "    </tr>\n",
       "    <tr>\n",
       "      <th>14</th>\n",
       "      <td>0</td>\n",
       "      <td>-1844.956182</td>\n",
       "      <td>56</td>\n",
       "      <td>высшее</td>\n",
       "      <td>0</td>\n",
       "      <td>гражданский брак</td>\n",
       "      <td>1</td>\n",
       "      <td>F</td>\n",
       "      <td>компаньон</td>\n",
       "      <td>1</td>\n",
       "      <td>165127.911772</td>\n",
       "      <td>покупка жилой недвижимости</td>\n",
       "    </tr>\n",
       "    <tr>\n",
       "      <th>15</th>\n",
       "      <td>1</td>\n",
       "      <td>-972.364419</td>\n",
       "      <td>26</td>\n",
       "      <td>среднее</td>\n",
       "      <td>1</td>\n",
       "      <td>женат / замужем</td>\n",
       "      <td>0</td>\n",
       "      <td>F</td>\n",
       "      <td>сотрудник</td>\n",
       "      <td>0</td>\n",
       "      <td>116820.904450</td>\n",
       "      <td>строительство собственной недвижимости</td>\n",
       "    </tr>\n",
       "    <tr>\n",
       "      <th>16</th>\n",
       "      <td>0</td>\n",
       "      <td>-1719.934226</td>\n",
       "      <td>35</td>\n",
       "      <td>среднее</td>\n",
       "      <td>1</td>\n",
       "      <td>женат / замужем</td>\n",
       "      <td>0</td>\n",
       "      <td>F</td>\n",
       "      <td>сотрудник</td>\n",
       "      <td>0</td>\n",
       "      <td>289202.704229</td>\n",
       "      <td>недвижимость</td>\n",
       "    </tr>\n",
       "    <tr>\n",
       "      <th>17</th>\n",
       "      <td>0</td>\n",
       "      <td>-2369.999720</td>\n",
       "      <td>33</td>\n",
       "      <td>высшее</td>\n",
       "      <td>0</td>\n",
       "      <td>гражданский брак</td>\n",
       "      <td>1</td>\n",
       "      <td>M</td>\n",
       "      <td>сотрудник</td>\n",
       "      <td>0</td>\n",
       "      <td>90410.586745</td>\n",
       "      <td>строительство недвижимости</td>\n",
       "    </tr>\n",
       "    <tr>\n",
       "      <th>18</th>\n",
       "      <td>0</td>\n",
       "      <td>400281.136913</td>\n",
       "      <td>53</td>\n",
       "      <td>среднее</td>\n",
       "      <td>1</td>\n",
       "      <td>вдовец / вдова</td>\n",
       "      <td>2</td>\n",
       "      <td>F</td>\n",
       "      <td>пенсионер</td>\n",
       "      <td>0</td>\n",
       "      <td>56823.777243</td>\n",
       "      <td>на покупку подержанного автомобиля</td>\n",
       "    </tr>\n",
       "    <tr>\n",
       "      <th>19</th>\n",
       "      <td>0</td>\n",
       "      <td>-10038.818549</td>\n",
       "      <td>48</td>\n",
       "      <td>СРЕДНЕЕ</td>\n",
       "      <td>1</td>\n",
       "      <td>в разводе</td>\n",
       "      <td>3</td>\n",
       "      <td>F</td>\n",
       "      <td>сотрудник</td>\n",
       "      <td>0</td>\n",
       "      <td>242831.107982</td>\n",
       "      <td>на покупку своего автомобиля</td>\n",
       "    </tr>\n",
       "  </tbody>\n",
       "</table>\n",
       "</div>"
      ],
      "text/plain": [
       "    children  days_employed  dob_years            education  education_id  \\\n",
       "0          1   -8437.673028         42               высшее             0   \n",
       "1          1   -4024.803754         36              среднее             1   \n",
       "2          0   -5623.422610         33              Среднее             1   \n",
       "3          3   -4124.747207         32              среднее             1   \n",
       "4          0  340266.072047         53              среднее             1   \n",
       "5          0    -926.185831         27               высшее             0   \n",
       "6          0   -2879.202052         43               высшее             0   \n",
       "7          0    -152.779569         50              СРЕДНЕЕ             1   \n",
       "8          2   -6929.865299         35               ВЫСШЕЕ             0   \n",
       "9          0   -2188.756445         41              среднее             1   \n",
       "10         2   -4171.483647         36               высшее             0   \n",
       "11         0    -792.701887         40              среднее             1   \n",
       "12         0            NaN         65              среднее             1   \n",
       "13         0   -1846.641941         54  неоконченное высшее             2   \n",
       "14         0   -1844.956182         56               высшее             0   \n",
       "15         1    -972.364419         26              среднее             1   \n",
       "16         0   -1719.934226         35              среднее             1   \n",
       "17         0   -2369.999720         33               высшее             0   \n",
       "18         0  400281.136913         53              среднее             1   \n",
       "19         0  -10038.818549         48              СРЕДНЕЕ             1   \n",
       "\n",
       "       family_status  family_status_id gender income_type  debt  \\\n",
       "0    женат / замужем                 0      F   сотрудник     0   \n",
       "1    женат / замужем                 0      F   сотрудник     0   \n",
       "2    женат / замужем                 0      M   сотрудник     0   \n",
       "3    женат / замужем                 0      M   сотрудник     0   \n",
       "4   гражданский брак                 1      F   пенсионер     0   \n",
       "5   гражданский брак                 1      M   компаньон     0   \n",
       "6    женат / замужем                 0      F   компаньон     0   \n",
       "7    женат / замужем                 0      M   сотрудник     0   \n",
       "8   гражданский брак                 1      F   сотрудник     0   \n",
       "9    женат / замужем                 0      M   сотрудник     0   \n",
       "10   женат / замужем                 0      M   компаньон     0   \n",
       "11   женат / замужем                 0      F   сотрудник     0   \n",
       "12  гражданский брак                 1      M   пенсионер     0   \n",
       "13   женат / замужем                 0      F   сотрудник     0   \n",
       "14  гражданский брак                 1      F   компаньон     1   \n",
       "15   женат / замужем                 0      F   сотрудник     0   \n",
       "16   женат / замужем                 0      F   сотрудник     0   \n",
       "17  гражданский брак                 1      M   сотрудник     0   \n",
       "18    вдовец / вдова                 2      F   пенсионер     0   \n",
       "19         в разводе                 3      F   сотрудник     0   \n",
       "\n",
       "     total_income                                 purpose  \n",
       "0   253875.639453                           покупка жилья  \n",
       "1   112080.014102                 приобретение автомобиля  \n",
       "2   145885.952297                           покупка жилья  \n",
       "3   267628.550329              дополнительное образование  \n",
       "4   158616.077870                         сыграть свадьбу  \n",
       "5   255763.565419                           покупка жилья  \n",
       "6   240525.971920                       операции с жильем  \n",
       "7   135823.934197                             образование  \n",
       "8    95856.832424                   на проведение свадьбы  \n",
       "9   144425.938277                 покупка жилья для семьи  \n",
       "10  113943.491460                    покупка недвижимости  \n",
       "11   77069.234271       покупка коммерческой недвижимости  \n",
       "12            NaN                         сыграть свадьбу  \n",
       "13  130458.228857                 приобретение автомобиля  \n",
       "14  165127.911772              покупка жилой недвижимости  \n",
       "15  116820.904450  строительство собственной недвижимости  \n",
       "16  289202.704229                            недвижимость  \n",
       "17   90410.586745              строительство недвижимости  \n",
       "18   56823.777243      на покупку подержанного автомобиля  \n",
       "19  242831.107982            на покупку своего автомобиля  "
      ]
     },
     "execution_count": 2,
     "metadata": {},
     "output_type": "execute_result"
    }
   ],
   "source": [
    "data.head(20)"
   ]
  },
  {
   "cell_type": "markdown",
   "id": "0ed8f27f",
   "metadata": {
    "deletable": false,
    "editable": false,
    "id": "0ed8f27f"
   },
   "source": [
    "**Задание 3. Выведите основную информацию о датафрейме с помощью метода `info()`.**"
   ]
  },
  {
   "cell_type": "code",
   "execution_count": 3,
   "id": "ab3f863b",
   "metadata": {
    "deletable": false,
    "id": "ab3f863b",
    "outputId": "15376089-8dad-46c9-b520-c05248d43158"
   },
   "outputs": [
    {
     "name": "stdout",
     "output_type": "stream",
     "text": [
      "<class 'pandas.core.frame.DataFrame'>\n",
      "RangeIndex: 21525 entries, 0 to 21524\n",
      "Data columns (total 12 columns):\n",
      " #   Column            Non-Null Count  Dtype  \n",
      "---  ------            --------------  -----  \n",
      " 0   children          21525 non-null  int64  \n",
      " 1   days_employed     19351 non-null  float64\n",
      " 2   dob_years         21525 non-null  int64  \n",
      " 3   education         21525 non-null  object \n",
      " 4   education_id      21525 non-null  int64  \n",
      " 5   family_status     21525 non-null  object \n",
      " 6   family_status_id  21525 non-null  int64  \n",
      " 7   gender            21525 non-null  object \n",
      " 8   income_type       21525 non-null  object \n",
      " 9   debt              21525 non-null  int64  \n",
      " 10  total_income      19351 non-null  float64\n",
      " 11  purpose           21525 non-null  object \n",
      "dtypes: float64(2), int64(5), object(5)\n",
      "memory usage: 2.0+ MB\n"
     ]
    }
   ],
   "source": [
    "data.info()"
   ]
  },
  {
   "cell_type": "markdown",
   "id": "60e3e22d",
   "metadata": {
    "deletable": false,
    "editable": false,
    "id": "60e3e22d"
   },
   "source": [
    "## Предобработка данных"
   ]
  },
  {
   "cell_type": "markdown",
   "id": "03dc170c",
   "metadata": {
    "deletable": false,
    "editable": false,
    "id": "03dc170c"
   },
   "source": [
    "### Удаление пропусков"
   ]
  },
  {
   "cell_type": "markdown",
   "id": "a4f54eef",
   "metadata": {
    "deletable": false,
    "editable": false,
    "id": "a4f54eef"
   },
   "source": [
    "**Задание 4. Выведите количество пропущенных значений для каждого столбца. Используйте комбинацию двух методов.**"
   ]
  },
  {
   "cell_type": "code",
   "execution_count": 4,
   "id": "2dc372b2",
   "metadata": {
    "deletable": false,
    "id": "2dc372b2",
    "outputId": "81f4d817-781c-465c-ed15-91ce4446810d"
   },
   "outputs": [
    {
     "data": {
      "text/plain": [
       "children               0\n",
       "days_employed       2174\n",
       "dob_years              0\n",
       "education              0\n",
       "education_id           0\n",
       "family_status          0\n",
       "family_status_id       0\n",
       "gender                 0\n",
       "income_type            0\n",
       "debt                   0\n",
       "total_income        2174\n",
       "purpose                0\n",
       "dtype: int64"
      ]
     },
     "execution_count": 4,
     "metadata": {},
     "output_type": "execute_result"
    }
   ],
   "source": [
    "data.isna().sum()"
   ]
  },
  {
   "cell_type": "markdown",
   "id": "14f011b1",
   "metadata": {
    "deletable": false,
    "editable": false,
    "id": "14f011b1"
   },
   "source": [
    "**Задание 5. В двух столбцах есть пропущенные значения. Один из них — `days_employed`. Пропуски в этом столбце вы обработаете на следующем этапе. Другой столбец с пропущенными значениями — `total_income` — хранит данные о доходах. На сумму дохода сильнее всего влияет тип занятости, поэтому заполнить пропуски в этом столбце нужно медианным значением по каждому типу из столбца `income_type`. Например, у человека с типом занятости `сотрудник` пропуск в столбце `total_income` должен быть заполнен медианным доходом среди всех записей с тем же типом.**"
   ]
  },
  {
   "cell_type": "code",
   "execution_count": 5,
   "id": "bdabfb6e",
   "metadata": {
    "deletable": false,
    "id": "bdabfb6e"
   },
   "outputs": [],
   "source": [
    "for t in data['income_type'].unique():\n",
    "    data.loc[(data['income_type'] == t) & (data['total_income'].isna()), 'total_income'] = \\\n",
    "    data.loc[(data['income_type'] == t), 'total_income'].median()"
   ]
  },
  {
   "cell_type": "markdown",
   "id": "5be34059",
   "metadata": {
    "deletable": false,
    "editable": false,
    "id": "5be34059"
   },
   "source": [
    "### Обработка аномальных значений"
   ]
  },
  {
   "cell_type": "markdown",
   "id": "a87606cb",
   "metadata": {
    "deletable": false,
    "editable": false,
    "id": "a87606cb"
   },
   "source": [
    "**Задание 6. В данных могут встречаться артефакты (аномалии) — значения, которые не отражают действительность и появились по какой-то ошибке. таким артефактом будет отрицательное количество дней трудового стажа в столбце `days_employed`. Для реальных данных это нормально. Обработайте значения в этом столбце: замените все отрицательные значения положительными с помощью метода `abs()`.**"
   ]
  },
  {
   "cell_type": "code",
   "execution_count": 6,
   "id": "020c46cc",
   "metadata": {
    "deletable": false,
    "id": "020c46cc"
   },
   "outputs": [],
   "source": [
    "data['days_employed'] = data['days_employed'].abs()"
   ]
  },
  {
   "cell_type": "markdown",
   "id": "45538a3a",
   "metadata": {
    "deletable": false,
    "editable": false,
    "id": "45538a3a"
   },
   "source": [
    "**Задание 7. Для каждого типа занятости выведите медианное значение трудового стажа `days_employed` в днях.**"
   ]
  },
  {
   "cell_type": "code",
   "execution_count": 7,
   "id": "cd3e6328",
   "metadata": {
    "deletable": false,
    "id": "cd3e6328",
    "outputId": "801ef80e-522b-4668-f34e-565af7432bcf"
   },
   "outputs": [
    {
     "data": {
      "text/plain": [
       "income_type\n",
       "безработный        366413.652744\n",
       "в декрете            3296.759962\n",
       "госслужащий          2689.368353\n",
       "компаньон            1547.382223\n",
       "пенсионер          365213.306266\n",
       "предприниматель       520.848083\n",
       "сотрудник            1574.202821\n",
       "студент               578.751554\n",
       "Name: days_employed, dtype: float64"
      ]
     },
     "execution_count": 7,
     "metadata": {},
     "output_type": "execute_result"
    }
   ],
   "source": [
    "data.groupby('income_type')['days_employed'].agg('median')"
   ]
  },
  {
   "cell_type": "markdown",
   "id": "90c5f058",
   "metadata": {
    "deletable": false,
    "editable": false,
    "id": "90c5f058"
   },
   "source": [
    "У двух типов (безработные и пенсионеры) получатся аномально большие значения. Исправить такие значения сложно, поэтому оставьте их как есть."
   ]
  },
  {
   "cell_type": "markdown",
   "id": "9652e50d",
   "metadata": {
    "deletable": false,
    "editable": false,
    "id": "9652e50d"
   },
   "source": [
    "**Задание 8. Выведите перечень уникальных значений столбца `children`.**"
   ]
  },
  {
   "cell_type": "code",
   "execution_count": 8,
   "id": "dbb37b8e",
   "metadata": {
    "deletable": false,
    "id": "dbb37b8e",
    "outputId": "6975b15c-7f95-4697-d16d-a0c79b657b03"
   },
   "outputs": [
    {
     "data": {
      "text/plain": [
       "array([ 1,  0,  3,  2, -1,  4, 20,  5], dtype=int64)"
      ]
     },
     "execution_count": 8,
     "metadata": {},
     "output_type": "execute_result"
    }
   ],
   "source": [
    "data['children'].unique()"
   ]
  },
  {
   "cell_type": "markdown",
   "id": "2b8b0715",
   "metadata": {
    "deletable": false,
    "editable": false,
    "id": "2b8b0715"
   },
   "source": [
    "**Задание 9. В столбце `children` есть два аномальных значения. Удалите строки, в которых встречаются такие аномальные значения из датафрейма `data`.**"
   ]
  },
  {
   "cell_type": "code",
   "execution_count": 9,
   "id": "20009df8",
   "metadata": {
    "deletable": false,
    "id": "20009df8"
   },
   "outputs": [],
   "source": [
    "data = data[(data['children'] != -1) & (data['children'] != 20)]"
   ]
  },
  {
   "cell_type": "markdown",
   "id": "8c6ac9f1",
   "metadata": {
    "deletable": false,
    "editable": false,
    "id": "8c6ac9f1"
   },
   "source": [
    "**Задание 10. Ещё раз выведите перечень уникальных значений столбца `children`, чтобы убедиться, что артефакты удалены.**"
   ]
  },
  {
   "cell_type": "code",
   "execution_count": 10,
   "id": "07337b81",
   "metadata": {
    "deletable": false,
    "id": "07337b81",
    "outputId": "b2097101-d49d-44d9-901b-32a65c9463d1"
   },
   "outputs": [
    {
     "data": {
      "text/plain": [
       "array([1, 0, 3, 2, 4, 5], dtype=int64)"
      ]
     },
     "execution_count": 10,
     "metadata": {},
     "output_type": "execute_result"
    }
   ],
   "source": [
    "data['children'].unique()"
   ]
  },
  {
   "cell_type": "markdown",
   "id": "ee3f52d4",
   "metadata": {
    "deletable": false,
    "editable": false,
    "id": "ee3f52d4"
   },
   "source": [
    "### Удаление пропусков (продолжение)"
   ]
  },
  {
   "cell_type": "markdown",
   "id": "a700b0e4",
   "metadata": {
    "deletable": false,
    "editable": false,
    "id": "a700b0e4"
   },
   "source": [
    "**Задание 11. Заполните пропуски в столбце `days_employed` медианными значениями по каждого типа занятости `income_type`.**"
   ]
  },
  {
   "cell_type": "code",
   "execution_count": 11,
   "id": "61946b83",
   "metadata": {
    "deletable": false,
    "id": "61946b83"
   },
   "outputs": [],
   "source": [
    "for t in data['income_type'].unique():\n",
    "    data.loc[(data['income_type'] == t) & (data['days_employed'].isna()), 'days_employed'] = \\\n",
    "    data.loc[(data['income_type'] == t), 'days_employed'].median()"
   ]
  },
  {
   "cell_type": "markdown",
   "id": "550dcd9b",
   "metadata": {
    "deletable": false,
    "editable": false,
    "id": "550dcd9b"
   },
   "source": [
    "**Задание 12. Убедитесь, что все пропуски заполнены. Проверьте себя и ещё раз выведите количество пропущенных значений для каждого столбца с помощью двух методов.**"
   ]
  },
  {
   "cell_type": "code",
   "execution_count": 12,
   "id": "937c7014",
   "metadata": {
    "deletable": false,
    "id": "937c7014",
    "outputId": "8da1e4e1-358e-4e87-98c9-f261bce0a7b2"
   },
   "outputs": [
    {
     "data": {
      "text/plain": [
       "children            0\n",
       "days_employed       0\n",
       "dob_years           0\n",
       "education           0\n",
       "education_id        0\n",
       "family_status       0\n",
       "family_status_id    0\n",
       "gender              0\n",
       "income_type         0\n",
       "debt                0\n",
       "total_income        0\n",
       "purpose             0\n",
       "dtype: int64"
      ]
     },
     "execution_count": 12,
     "metadata": {},
     "output_type": "execute_result"
    }
   ],
   "source": [
    "data.isna().sum()"
   ]
  },
  {
   "cell_type": "markdown",
   "id": "d522e295",
   "metadata": {
    "deletable": false,
    "editable": false,
    "id": "d522e295"
   },
   "source": [
    "### Изменение типов данных"
   ]
  },
  {
   "cell_type": "markdown",
   "id": "c229c581",
   "metadata": {
    "deletable": false,
    "editable": false,
    "id": "c229c581"
   },
   "source": [
    "**Задание 13. Замените вещественный тип данных в столбце `total_income` на целочисленный с помощью метода `astype()`.**"
   ]
  },
  {
   "cell_type": "code",
   "execution_count": 13,
   "id": "31036462",
   "metadata": {
    "deletable": false,
    "id": "31036462"
   },
   "outputs": [],
   "source": [
    "data['total_income'] = data['total_income'].astype(int)"
   ]
  },
  {
   "cell_type": "markdown",
   "id": "b8e3d1d9",
   "metadata": {
    "deletable": false,
    "editable": false,
    "id": "b8e3d1d9"
   },
   "source": [
    "### Обработка дубликатов"
   ]
  },
  {
   "cell_type": "markdown",
   "id": "9be53c49",
   "metadata": {
    "deletable": false,
    "editable": false,
    "id": "9be53c49"
   },
   "source": [
    "**Задание 14. Обработайте неявные дубликаты в столбце `education`. В этом столбце есть одни и те же значения, но записанные по-разному: с использованием заглавных и строчных букв. Приведите их к нижнему регистру.**"
   ]
  },
  {
   "cell_type": "code",
   "execution_count": 14,
   "id": "d89e73e1",
   "metadata": {
    "deletable": false,
    "id": "d89e73e1"
   },
   "outputs": [],
   "source": [
    "data['education'] = data['education'].str.lower()"
   ]
  },
  {
   "cell_type": "markdown",
   "id": "01d4500e",
   "metadata": {
    "deletable": false,
    "editable": false,
    "id": "01d4500e"
   },
   "source": [
    "**Задание 15. Выведите на экран количество строк-дубликатов в данных. Если такие строки присутствуют, удалите их.**"
   ]
  },
  {
   "cell_type": "code",
   "execution_count": 15,
   "id": "e10efb23",
   "metadata": {
    "deletable": false,
    "id": "e10efb23",
    "outputId": "9684deba-1934-42d1-99e1-cda61740f822"
   },
   "outputs": [
    {
     "data": {
      "text/plain": [
       "71"
      ]
     },
     "execution_count": 15,
     "metadata": {},
     "output_type": "execute_result"
    }
   ],
   "source": [
    "data.duplicated().sum()"
   ]
  },
  {
   "cell_type": "code",
   "execution_count": 16,
   "id": "df853f20",
   "metadata": {
    "deletable": false,
    "id": "df853f20"
   },
   "outputs": [],
   "source": [
    "data = data.drop_duplicates()"
   ]
  },
  {
   "cell_type": "markdown",
   "id": "627be38f",
   "metadata": {
    "deletable": false,
    "editable": false,
    "id": "627be38f"
   },
   "source": [
    "### Категоризация данных"
   ]
  },
  {
   "cell_type": "markdown",
   "id": "4684c3e0",
   "metadata": {
    "deletable": false,
    "editable": false,
    "id": "4684c3e0"
   },
   "source": [
    "**Задание 16. На основании диапазонов, указанных ниже, создайте в датафрейме `data` столбец `total_income_category` с категориями:**\n",
    "\n",
    "- 0–30000 — `'E'`;\n",
    "- 30001–50000 — `'D'`;\n",
    "- 50001–200000 — `'C'`;\n",
    "- 200001–1000000 — `'B'`;\n",
    "- 1000001 и выше — `'A'`.\n",
    "\n",
    "\n",
    "**Например, кредитополучателю с доходом 25000 нужно назначить категорию `'E'`, а клиенту, получающему 235000, — `'B'`. Используйте собственную функцию с именем `categorize_income()` и метод `apply()`.**"
   ]
  },
  {
   "cell_type": "code",
   "execution_count": 17,
   "id": "78965238",
   "metadata": {
    "deletable": false,
    "id": "78965238"
   },
   "outputs": [],
   "source": [
    "def categorize_income(income):\n",
    "    try:\n",
    "        if 0 <= income <= 30000:\n",
    "            return 'E'\n",
    "        elif 30001 <= income <= 50000:\n",
    "            return 'D'\n",
    "        elif 50001 <= income <= 200000:\n",
    "            return 'C'\n",
    "        elif 200001 <= income <= 1000000:\n",
    "            return 'B'\n",
    "        elif income >= 1000001:\n",
    "            return 'A'\n",
    "    except:\n",
    "        pass"
   ]
  },
  {
   "cell_type": "code",
   "execution_count": 18,
   "id": "0980ada1",
   "metadata": {
    "deletable": false,
    "id": "0980ada1"
   },
   "outputs": [],
   "source": [
    "data['total_income_category'] = data['total_income'].apply(categorize_income)"
   ]
  },
  {
   "cell_type": "markdown",
   "id": "9917bba0",
   "metadata": {
    "deletable": false,
    "editable": false,
    "id": "9917bba0"
   },
   "source": [
    "**Задание 17. Выведите на экран перечень уникальных целей взятия кредита из столбца `purpose`.**"
   ]
  },
  {
   "cell_type": "code",
   "execution_count": 19,
   "id": "ee07b65e",
   "metadata": {
    "deletable": false,
    "id": "ee07b65e",
    "outputId": "673c12d9-7d7e-4ae0-9812-c622c89dd244"
   },
   "outputs": [
    {
     "data": {
      "text/plain": [
       "array(['покупка жилья', 'приобретение автомобиля',\n",
       "       'дополнительное образование', 'сыграть свадьбу',\n",
       "       'операции с жильем', 'образование', 'на проведение свадьбы',\n",
       "       'покупка жилья для семьи', 'покупка недвижимости',\n",
       "       'покупка коммерческой недвижимости', 'покупка жилой недвижимости',\n",
       "       'строительство собственной недвижимости', 'недвижимость',\n",
       "       'строительство недвижимости', 'на покупку подержанного автомобиля',\n",
       "       'на покупку своего автомобиля',\n",
       "       'операции с коммерческой недвижимостью',\n",
       "       'строительство жилой недвижимости', 'жилье',\n",
       "       'операции со своей недвижимостью', 'автомобили',\n",
       "       'заняться образованием', 'сделка с подержанным автомобилем',\n",
       "       'получение образования', 'автомобиль', 'свадьба',\n",
       "       'получение дополнительного образования', 'покупка своего жилья',\n",
       "       'операции с недвижимостью', 'получение высшего образования',\n",
       "       'свой автомобиль', 'сделка с автомобилем',\n",
       "       'профильное образование', 'высшее образование',\n",
       "       'покупка жилья для сдачи', 'на покупку автомобиля', 'ремонт жилью',\n",
       "       'заняться высшим образованием'], dtype=object)"
      ]
     },
     "execution_count": 19,
     "metadata": {},
     "output_type": "execute_result"
    }
   ],
   "source": [
    "data['purpose'].unique()"
   ]
  },
  {
   "cell_type": "markdown",
   "id": "52b79d56",
   "metadata": {
    "deletable": false,
    "editable": false,
    "id": "52b79d56"
   },
   "source": [
    "**Задание 18. Создайте функцию, которая на основании данных из столбца `purpose` сформирует новый столбец `purpose_category`, в который войдут следующие категории:**\n",
    "\n",
    "- `'операции с автомобилем'`,\n",
    "- `'операции с недвижимостью'`,\n",
    "- `'проведение свадьбы'`,\n",
    "- `'получение образования'`.\n",
    "\n",
    "**Например, если в столбце `purpose` находится подстрока `'на покупку автомобиля'`, то в столбце `purpose_category` должна появиться строка `'операции с автомобилем'`.**\n",
    "\n",
    "**Используйте собственную функцию с именем `categorize_purpose()` и метод `apply()`. Изучите данные в столбце `purpose` и определите, какие подстроки помогут вам правильно определить категорию.**"
   ]
  },
  {
   "cell_type": "code",
   "execution_count": 20,
   "id": "be41da5d",
   "metadata": {
    "deletable": false,
    "id": "be41da5d"
   },
   "outputs": [],
   "source": [
    "def categorize_purpose(row):\n",
    "    try:\n",
    "        if 'автом' in row:\n",
    "            return 'операции с автомобилем'\n",
    "        elif 'жил' in row or 'недвиж' in row:\n",
    "            return 'операции с недвижимостью'\n",
    "        elif 'свад' in row:\n",
    "            return 'проведение свадьбы'\n",
    "        elif 'образов' in row:\n",
    "            return 'получение образования'\n",
    "    except:\n",
    "        return 'нет категории'"
   ]
  },
  {
   "cell_type": "code",
   "execution_count": 21,
   "id": "94c4a19a",
   "metadata": {
    "deletable": false,
    "id": "94c4a19a"
   },
   "outputs": [],
   "source": [
    "data['purpose_category'] = data['purpose'].apply(categorize_purpose)"
   ]
  },
  {
   "cell_type": "markdown",
   "id": "3d596c34",
   "metadata": {
    "deletable": false,
    "editable": false,
    "id": "3d596c34"
   },
   "source": [
    "### Шаг 3. Исследуйте данные и ответьте на вопросы"
   ]
  },
  {
   "cell_type": "markdown",
   "id": "648db036",
   "metadata": {
    "deletable": false,
    "editable": false,
    "id": "648db036"
   },
   "source": [
    "#### 3.1 Есть ли зависимость между количеством детей и возвратом кредита в срок?"
   ]
  },
  {
   "cell_type": "code",
   "execution_count": 22,
   "id": "7fcff25e",
   "metadata": {
    "deletable": false,
    "id": "7fcff25e"
   },
   "outputs": [
    {
     "data": {
      "text/html": [
       "<div>\n",
       "<style scoped>\n",
       "    .dataframe tbody tr th:only-of-type {\n",
       "        vertical-align: middle;\n",
       "    }\n",
       "\n",
       "    .dataframe tbody tr th {\n",
       "        vertical-align: top;\n",
       "    }\n",
       "\n",
       "    .dataframe thead th {\n",
       "        text-align: right;\n",
       "    }\n",
       "</style>\n",
       "<table border=\"1\" class=\"dataframe\">\n",
       "  <thead>\n",
       "    <tr style=\"text-align: right;\">\n",
       "      <th></th>\n",
       "      <th>total</th>\n",
       "      <th>debt_group</th>\n",
       "      <th>ratio</th>\n",
       "    </tr>\n",
       "    <tr>\n",
       "      <th>children</th>\n",
       "      <th></th>\n",
       "      <th></th>\n",
       "      <th></th>\n",
       "    </tr>\n",
       "  </thead>\n",
       "  <tbody>\n",
       "    <tr>\n",
       "      <th>0</th>\n",
       "      <td>14091</td>\n",
       "      <td>1063</td>\n",
       "      <td>0.075438</td>\n",
       "    </tr>\n",
       "    <tr>\n",
       "      <th>1</th>\n",
       "      <td>4808</td>\n",
       "      <td>444</td>\n",
       "      <td>0.092346</td>\n",
       "    </tr>\n",
       "    <tr>\n",
       "      <th>2</th>\n",
       "      <td>2052</td>\n",
       "      <td>194</td>\n",
       "      <td>0.094542</td>\n",
       "    </tr>\n",
       "    <tr>\n",
       "      <th>3</th>\n",
       "      <td>330</td>\n",
       "      <td>27</td>\n",
       "      <td>0.081818</td>\n",
       "    </tr>\n",
       "    <tr>\n",
       "      <th>4</th>\n",
       "      <td>41</td>\n",
       "      <td>4</td>\n",
       "      <td>0.097561</td>\n",
       "    </tr>\n",
       "    <tr>\n",
       "      <th>5</th>\n",
       "      <td>9</td>\n",
       "      <td>0</td>\n",
       "      <td>0.000000</td>\n",
       "    </tr>\n",
       "  </tbody>\n",
       "</table>\n",
       "</div>"
      ],
      "text/plain": [
       "          total  debt_group     ratio\n",
       "children                             \n",
       "0         14091        1063  0.075438\n",
       "1          4808         444  0.092346\n",
       "2          2052         194  0.094542\n",
       "3           330          27  0.081818\n",
       "4            41           4  0.097561\n",
       "5             9           0  0.000000"
      ]
     },
     "execution_count": 22,
     "metadata": {},
     "output_type": "execute_result"
    }
   ],
   "source": [
    "#создаем сводную таблицу и сохраняем ее в переменной data_pivot\n",
    "data_pivot = data.pivot_table(index='children', values='debt', aggfunc={'count','sum'})\n",
    "data_pivot = data_pivot.rename(columns={'count':'total', 'sum':'debt_group'}) #для удобства переименовываем столбцы  'sum' и 'count'\n",
    "\n",
    "ratio = data_pivot['debt_group'] / data_pivot['total'] #находим долю тех, у кого есть долги и сохраняем ее в перменную ratio\n",
    "\n",
    "data_pivot.insert(loc=2, column='ratio', value=ratio) #добавляем в таблицу data_pivot столбец 'ratio', в котором будут отображены значения переменной ratio\n",
    "data_pivot #выводим полученную таблицу\n"
   ]
  },
  {
   "cell_type": "code",
   "execution_count": 23,
   "id": "0eb758d4",
   "metadata": {
    "scrolled": true
   },
   "outputs": [
    {
     "data": {
      "text/html": [
       "<div>\n",
       "<style scoped>\n",
       "    .dataframe tbody tr th:only-of-type {\n",
       "        vertical-align: middle;\n",
       "    }\n",
       "\n",
       "    .dataframe tbody tr th {\n",
       "        vertical-align: top;\n",
       "    }\n",
       "\n",
       "    .dataframe thead th {\n",
       "        text-align: right;\n",
       "    }\n",
       "</style>\n",
       "<table border=\"1\" class=\"dataframe\">\n",
       "  <thead>\n",
       "    <tr style=\"text-align: right;\">\n",
       "      <th></th>\n",
       "      <th>children</th>\n",
       "      <th>total</th>\n",
       "      <th>debt_group</th>\n",
       "      <th>ratio</th>\n",
       "    </tr>\n",
       "  </thead>\n",
       "  <tbody>\n",
       "    <tr>\n",
       "      <th>0</th>\n",
       "      <td>0</td>\n",
       "      <td>14091</td>\n",
       "      <td>1063</td>\n",
       "      <td>0.075438</td>\n",
       "    </tr>\n",
       "    <tr>\n",
       "      <th>1</th>\n",
       "      <td>1</td>\n",
       "      <td>4808</td>\n",
       "      <td>444</td>\n",
       "      <td>0.092346</td>\n",
       "    </tr>\n",
       "    <tr>\n",
       "      <th>2</th>\n",
       "      <td>2</td>\n",
       "      <td>2052</td>\n",
       "      <td>194</td>\n",
       "      <td>0.094542</td>\n",
       "    </tr>\n",
       "    <tr>\n",
       "      <th>3</th>\n",
       "      <td>3</td>\n",
       "      <td>330</td>\n",
       "      <td>27</td>\n",
       "      <td>0.081818</td>\n",
       "    </tr>\n",
       "    <tr>\n",
       "      <th>4</th>\n",
       "      <td>4</td>\n",
       "      <td>41</td>\n",
       "      <td>4</td>\n",
       "      <td>0.097561</td>\n",
       "    </tr>\n",
       "    <tr>\n",
       "      <th>5</th>\n",
       "      <td>5</td>\n",
       "      <td>9</td>\n",
       "      <td>0</td>\n",
       "      <td>0.000000</td>\n",
       "    </tr>\n",
       "  </tbody>\n",
       "</table>\n",
       "</div>"
      ],
      "text/plain": [
       "   children  total  debt_group     ratio\n",
       "0         0  14091        1063  0.075438\n",
       "1         1   4808         444  0.092346\n",
       "2         2   2052         194  0.094542\n",
       "3         3    330          27  0.081818\n",
       "4         4     41           4  0.097561\n",
       "5         5      9           0  0.000000"
      ]
     },
     "execution_count": 23,
     "metadata": {},
     "output_type": "execute_result"
    }
   ],
   "source": [
    "##для удобства отсортируем таблицу по столбцу 'ratio' в порядке убывания\n",
    "data_pivot.sort_values(by='ratio', ascending=False)\n",
    "data_pivot.reset_index()"
   ]
  },
  {
   "cell_type": "code",
   "execution_count": 24,
   "id": "bc406dc4",
   "metadata": {
    "scrolled": true
   },
   "outputs": [
    {
     "data": {
      "image/png": "[encoded data removed]",
      "text/plain": [
       "<Figure size 640x480 with 1 Axes>"
      ]
     },
     "metadata": {},
     "output_type": "display_data"
    }
   ],
   "source": [
    "#для наглядности построим график распределения доли должников\n",
    "#укажем размер графика\n",
    "data_pivot.drop(columns=['total', 'debt_group'], axis=1, inplace=True)\n",
    "data_pivot.plot(title='График распределения доли должников по количеству детей у них', y='ratio', kind='bar', grid=True)\n",
    "plt.xlabel('Количество детей у заемщиков')\n",
    "plt.ylabel('Доля должников')\n",
    "plt.show()"
   ]
  },
  {
   "cell_type": "markdown",
   "id": "2eb9088e",
   "metadata": {
    "deletable": false,
    "id": "2eb9088e"
   },
   "source": [
    "**Вывод:** зависимость прослеживается.\n",
    "Самый низкий процент должников оказался у категории клиентов, у которых есть 5 детей. Однако здесь сложно утверждать, что эти клиенты всегда возвращают кредит в срок, поскольку эта выборка оказалась слишком мала, в нее вошли всего 9 человек.\n",
    "Поэтому стоит обратить внимание на следующую по меньшинству долю должников (7.54%). Это категория клиентов, у которых нет детей. Стоит обратить внимание, что в нее вошло больше половины от общей выборки. Вполне логично, что семьям или незамужним/ неженатым людям без детей проще распределить свои финансы на свое обеспечение. Если сравнить их с клиентами, у которых 1 или 2 ребенка, то можно говорить о том, что те люди, у которых есть дети реже выплачивают кредит в срок нежели тех, у кого их нет. Важно также отметить, что больше всего должников было обнаружено среди клиентов, у которых 4 детей. При том, что в эту выборку вошло значимо меньше людей (41 человек). Все это подтверждает наличие корреляции между количеством детей у клиента и его способностью выплатить кредит в срок, поскольку чем больше у человека детей, тем сложнее ему обеспечивать себя и свою семью."
   ]
  },
  {
   "cell_type": "markdown",
   "id": "74c9b3a7",
   "metadata": {
    "deletable": false,
    "editable": false,
    "id": "74c9b3a7"
   },
   "source": [
    "#### 3.2 Есть ли зависимость между семейным положением и возвратом кредита в срок?"
   ]
  },
  {
   "cell_type": "code",
   "execution_count": 25,
   "id": "8098ab3b",
   "metadata": {
    "deletable": false,
    "id": "8098ab3b"
   },
   "outputs": [
    {
     "data": {
      "text/html": [
       "<div>\n",
       "<style scoped>\n",
       "    .dataframe tbody tr th:only-of-type {\n",
       "        vertical-align: middle;\n",
       "    }\n",
       "\n",
       "    .dataframe tbody tr th {\n",
       "        vertical-align: top;\n",
       "    }\n",
       "\n",
       "    .dataframe thead th {\n",
       "        text-align: right;\n",
       "    }\n",
       "</style>\n",
       "<table border=\"1\" class=\"dataframe\">\n",
       "  <thead>\n",
       "    <tr style=\"text-align: right;\">\n",
       "      <th></th>\n",
       "      <th>total</th>\n",
       "      <th>debt_group</th>\n",
       "      <th>ratio</th>\n",
       "    </tr>\n",
       "    <tr>\n",
       "      <th>family_status</th>\n",
       "      <th></th>\n",
       "      <th></th>\n",
       "      <th></th>\n",
       "    </tr>\n",
       "  </thead>\n",
       "  <tbody>\n",
       "    <tr>\n",
       "      <th>Не женат / не замужем</th>\n",
       "      <td>2796</td>\n",
       "      <td>273</td>\n",
       "      <td>0.097639</td>\n",
       "    </tr>\n",
       "    <tr>\n",
       "      <th>в разводе</th>\n",
       "      <td>1189</td>\n",
       "      <td>84</td>\n",
       "      <td>0.070648</td>\n",
       "    </tr>\n",
       "    <tr>\n",
       "      <th>вдовец / вдова</th>\n",
       "      <td>951</td>\n",
       "      <td>63</td>\n",
       "      <td>0.066246</td>\n",
       "    </tr>\n",
       "    <tr>\n",
       "      <th>гражданский брак</th>\n",
       "      <td>4134</td>\n",
       "      <td>385</td>\n",
       "      <td>0.093130</td>\n",
       "    </tr>\n",
       "    <tr>\n",
       "      <th>женат / замужем</th>\n",
       "      <td>12261</td>\n",
       "      <td>927</td>\n",
       "      <td>0.075606</td>\n",
       "    </tr>\n",
       "  </tbody>\n",
       "</table>\n",
       "</div>"
      ],
      "text/plain": [
       "                       total  debt_group     ratio\n",
       "family_status                                     \n",
       "Не женат / не замужем   2796         273  0.097639\n",
       "в разводе               1189          84  0.070648\n",
       "вдовец / вдова           951          63  0.066246\n",
       "гражданский брак        4134         385  0.093130\n",
       "женат / замужем        12261         927  0.075606"
      ]
     },
     "execution_count": 25,
     "metadata": {},
     "output_type": "execute_result"
    }
   ],
   "source": [
    "#создаем сводную таблицу и сохраняем ее в переменной data_pivot\n",
    "data_pivot = data.pivot_table(index='family_status', values='debt', aggfunc={'count','sum'})\n",
    "data_pivot = data_pivot.rename(columns={'count': 'total', 'sum':'debt_group'}) #для удобства переименовываем столбцы  'sum' и 'count'\n",
    "\n",
    "ratio = data_pivot['debt_group'] / data_pivot['total'] #находим долю тех, у кого есть долги и сохраняем ее в переменную ratio\n",
    "\n",
    "data_pivot.insert(loc=2, column='ratio', value=ratio) #добавляем в таблицу data_pivot столбец 'ratio', в котором будут отображены значения переменной ratio\n",
    "data_pivot #выводим полученную таблицу"
   ]
  },
  {
   "cell_type": "code",
   "execution_count": 26,
   "id": "ebccc0c0",
   "metadata": {},
   "outputs": [
    {
     "data": {
      "text/html": [
       "<div>\n",
       "<style scoped>\n",
       "    .dataframe tbody tr th:only-of-type {\n",
       "        vertical-align: middle;\n",
       "    }\n",
       "\n",
       "    .dataframe tbody tr th {\n",
       "        vertical-align: top;\n",
       "    }\n",
       "\n",
       "    .dataframe thead th {\n",
       "        text-align: right;\n",
       "    }\n",
       "</style>\n",
       "<table border=\"1\" class=\"dataframe\">\n",
       "  <thead>\n",
       "    <tr style=\"text-align: right;\">\n",
       "      <th></th>\n",
       "      <th>family_status</th>\n",
       "      <th>total</th>\n",
       "      <th>debt_group</th>\n",
       "      <th>ratio</th>\n",
       "    </tr>\n",
       "  </thead>\n",
       "  <tbody>\n",
       "    <tr>\n",
       "      <th>0</th>\n",
       "      <td>Не женат / не замужем</td>\n",
       "      <td>2796</td>\n",
       "      <td>273</td>\n",
       "      <td>0.097639</td>\n",
       "    </tr>\n",
       "    <tr>\n",
       "      <th>1</th>\n",
       "      <td>в разводе</td>\n",
       "      <td>1189</td>\n",
       "      <td>84</td>\n",
       "      <td>0.070648</td>\n",
       "    </tr>\n",
       "    <tr>\n",
       "      <th>2</th>\n",
       "      <td>вдовец / вдова</td>\n",
       "      <td>951</td>\n",
       "      <td>63</td>\n",
       "      <td>0.066246</td>\n",
       "    </tr>\n",
       "    <tr>\n",
       "      <th>3</th>\n",
       "      <td>гражданский брак</td>\n",
       "      <td>4134</td>\n",
       "      <td>385</td>\n",
       "      <td>0.093130</td>\n",
       "    </tr>\n",
       "    <tr>\n",
       "      <th>4</th>\n",
       "      <td>женат / замужем</td>\n",
       "      <td>12261</td>\n",
       "      <td>927</td>\n",
       "      <td>0.075606</td>\n",
       "    </tr>\n",
       "  </tbody>\n",
       "</table>\n",
       "</div>"
      ],
      "text/plain": [
       "           family_status  total  debt_group     ratio\n",
       "0  Не женат / не замужем   2796         273  0.097639\n",
       "1              в разводе   1189          84  0.070648\n",
       "2         вдовец / вдова    951          63  0.066246\n",
       "3       гражданский брак   4134         385  0.093130\n",
       "4        женат / замужем  12261         927  0.075606"
      ]
     },
     "execution_count": 26,
     "metadata": {},
     "output_type": "execute_result"
    }
   ],
   "source": [
    "#для удобства отсортируем таблицу по столбцу 'ratio' в порядке убывания\n",
    "data_pivot.sort_values(by='ratio', ascending=False)\n",
    "data_pivot.reset_index()"
   ]
  },
  {
   "cell_type": "code",
   "execution_count": 27,
   "id": "7fc2adab",
   "metadata": {},
   "outputs": [
    {
     "data": {
      "image/png": "[encoded data removed]",
      "text/plain": [
       "<Figure size 640x480 with 1 Axes>"
      ]
     },
     "metadata": {},
     "output_type": "display_data"
    }
   ],
   "source": [
    "#для наглядности построим график распределения доли должников\n",
    "data_pivot.drop(columns=['total', 'debt_group'], axis=1, inplace=True)\n",
    "data_pivot.plot(title='График распределения доли должников в соответствии с их семейным статусом', y='ratio', kind='bar', grid=True)\n",
    "plt.xlabel('Семейный статус')\n",
    "plt.ylabel('Доля должников')\n",
    "plt.show()"
   ]
  },
  {
   "cell_type": "markdown",
   "id": "c389ca63",
   "metadata": {
    "deletable": false,
    "id": "c389ca63"
   },
   "source": [
    "**Вывод:** зависимость прослеживается.\n",
    "Из полученного графика видно, что клиенты, которые не состоят в браке реже возвращают кредит в срок, по сравнению с клиентами других семейных статусов. Возможно, это связано с такими причинами, как нестабильный/низкий доход, молодой возраст и т.д. \n",
    "\n",
    "Следует отметить, что среди всех клиентов, те из них, чей семейный статус - это \"вдовец/ вдова\" или \"в разводе\", с большей вероятностью выплачивают кредит в срок, нежели тех клиентов, что состоят в официальном или же гражданском браке, например. Здесь могли сыграть такие факторы, как получение наследства при смерти одного из супругов, деление имущества при разводе в пользу одного из супругов и пр."
   ]
  },
  {
   "cell_type": "markdown",
   "id": "9529de68",
   "metadata": {
    "deletable": false,
    "editable": false,
    "id": "9529de68"
   },
   "source": [
    "#### 3.3 Есть ли зависимость между уровнем дохода и возвратом кредита в срок?"
   ]
  },
  {
   "cell_type": "code",
   "execution_count": 28,
   "id": "8787f44a",
   "metadata": {
    "deletable": false,
    "id": "8787f44a",
    "scrolled": true
   },
   "outputs": [
    {
     "data": {
      "text/html": [
       "<div>\n",
       "<style scoped>\n",
       "    .dataframe tbody tr th:only-of-type {\n",
       "        vertical-align: middle;\n",
       "    }\n",
       "\n",
       "    .dataframe tbody tr th {\n",
       "        vertical-align: top;\n",
       "    }\n",
       "\n",
       "    .dataframe thead th {\n",
       "        text-align: right;\n",
       "    }\n",
       "</style>\n",
       "<table border=\"1\" class=\"dataframe\">\n",
       "  <thead>\n",
       "    <tr style=\"text-align: right;\">\n",
       "      <th></th>\n",
       "      <th>total</th>\n",
       "      <th>debt_group</th>\n",
       "      <th>ratio</th>\n",
       "    </tr>\n",
       "    <tr>\n",
       "      <th>total_income_category</th>\n",
       "      <th></th>\n",
       "      <th></th>\n",
       "      <th></th>\n",
       "    </tr>\n",
       "  </thead>\n",
       "  <tbody>\n",
       "    <tr>\n",
       "      <th>A</th>\n",
       "      <td>25</td>\n",
       "      <td>2</td>\n",
       "      <td>0.080000</td>\n",
       "    </tr>\n",
       "    <tr>\n",
       "      <th>B</th>\n",
       "      <td>5014</td>\n",
       "      <td>354</td>\n",
       "      <td>0.070602</td>\n",
       "    </tr>\n",
       "    <tr>\n",
       "      <th>C</th>\n",
       "      <td>15921</td>\n",
       "      <td>1353</td>\n",
       "      <td>0.084982</td>\n",
       "    </tr>\n",
       "    <tr>\n",
       "      <th>D</th>\n",
       "      <td>349</td>\n",
       "      <td>21</td>\n",
       "      <td>0.060172</td>\n",
       "    </tr>\n",
       "    <tr>\n",
       "      <th>E</th>\n",
       "      <td>22</td>\n",
       "      <td>2</td>\n",
       "      <td>0.090909</td>\n",
       "    </tr>\n",
       "  </tbody>\n",
       "</table>\n",
       "</div>"
      ],
      "text/plain": [
       "                       total  debt_group     ratio\n",
       "total_income_category                             \n",
       "A                         25           2  0.080000\n",
       "B                       5014         354  0.070602\n",
       "C                      15921        1353  0.084982\n",
       "D                        349          21  0.060172\n",
       "E                         22           2  0.090909"
      ]
     },
     "execution_count": 28,
     "metadata": {},
     "output_type": "execute_result"
    }
   ],
   "source": [
    "#создаем сводную таблицу и сохраняем ее в переменной data_pivot\n",
    "data_pivot = data.pivot_table(index='total_income_category', values='debt', aggfunc={'count','sum'})\n",
    "data_pivot = data_pivot.rename(columns={'count': 'total', 'sum':'debt_group'}) #для удобства переименовываем столбцы  'sum' и 'count'\n",
    "\n",
    "ratio = data_pivot['debt_group'] / data_pivot['total'] #находим долю тех, у кого есть долги и сохраняем ее в переменную ratio\n",
    "\n",
    "data_pivot.insert(loc=2, column='ratio', value=ratio) #добавляем в таблицу data_pivot столбец 'ratio', в котором будут отображены значения переменной ratio\n",
    "data_pivot #выводим полученную таблицу"
   ]
  },
  {
   "cell_type": "code",
   "execution_count": 29,
   "id": "424be632",
   "metadata": {},
   "outputs": [
    {
     "data": {
      "text/html": [
       "<div>\n",
       "<style scoped>\n",
       "    .dataframe tbody tr th:only-of-type {\n",
       "        vertical-align: middle;\n",
       "    }\n",
       "\n",
       "    .dataframe tbody tr th {\n",
       "        vertical-align: top;\n",
       "    }\n",
       "\n",
       "    .dataframe thead th {\n",
       "        text-align: right;\n",
       "    }\n",
       "</style>\n",
       "<table border=\"1\" class=\"dataframe\">\n",
       "  <thead>\n",
       "    <tr style=\"text-align: right;\">\n",
       "      <th></th>\n",
       "      <th>total</th>\n",
       "      <th>debt_group</th>\n",
       "      <th>ratio</th>\n",
       "    </tr>\n",
       "    <tr>\n",
       "      <th>total_income_category</th>\n",
       "      <th></th>\n",
       "      <th></th>\n",
       "      <th></th>\n",
       "    </tr>\n",
       "  </thead>\n",
       "  <tbody>\n",
       "    <tr>\n",
       "      <th>E</th>\n",
       "      <td>22</td>\n",
       "      <td>2</td>\n",
       "      <td>0.090909</td>\n",
       "    </tr>\n",
       "    <tr>\n",
       "      <th>C</th>\n",
       "      <td>15921</td>\n",
       "      <td>1353</td>\n",
       "      <td>0.084982</td>\n",
       "    </tr>\n",
       "    <tr>\n",
       "      <th>A</th>\n",
       "      <td>25</td>\n",
       "      <td>2</td>\n",
       "      <td>0.080000</td>\n",
       "    </tr>\n",
       "    <tr>\n",
       "      <th>B</th>\n",
       "      <td>5014</td>\n",
       "      <td>354</td>\n",
       "      <td>0.070602</td>\n",
       "    </tr>\n",
       "    <tr>\n",
       "      <th>D</th>\n",
       "      <td>349</td>\n",
       "      <td>21</td>\n",
       "      <td>0.060172</td>\n",
       "    </tr>\n",
       "  </tbody>\n",
       "</table>\n",
       "</div>"
      ],
      "text/plain": [
       "                       total  debt_group     ratio\n",
       "total_income_category                             \n",
       "E                         22           2  0.090909\n",
       "C                      15921        1353  0.084982\n",
       "A                         25           2  0.080000\n",
       "B                       5014         354  0.070602\n",
       "D                        349          21  0.060172"
      ]
     },
     "execution_count": 29,
     "metadata": {},
     "output_type": "execute_result"
    }
   ],
   "source": [
    "#для удобства отсортируем таблицу по столбцу 'ratio' в порядке убывания\n",
    "data_pivot.sort_values(by='ratio', ascending=False)"
   ]
  },
  {
   "cell_type": "code",
   "execution_count": 30,
   "id": "4b05d935",
   "metadata": {},
   "outputs": [
    {
     "data": {
      "image/png": "[encoded data removed]",
      "text/plain": [
       "<Figure size 1000x500 with 1 Axes>"
      ]
     },
     "metadata": {},
     "output_type": "display_data"
    }
   ],
   "source": [
    "#для наглядности построим график распределения доли должников\n",
    "import pandas as pd\n",
    "import matplotlib.pyplot as plt\n",
    "import numpy as np\n",
    "\n",
    "#укажем размер графика\n",
    "plt.rcParams['figure.figsize'] = [10, 5]\n",
    "\n",
    "#создаем столбец height с получившимися значениями в столбце ratio таблицы data_pivot\n",
    "height = [0.090909, 0.084982, 0.080000, 0.070602, 0.060172]\n",
    "#создаем столбец bars с категориями ежемесячного дохода\n",
    "bars = ('E', 'C', 'A', 'B', 'D')\n",
    "x_pos = np.arange(len(bars))\n",
    "\n",
    "plt.bar(x_pos, height, color = (0.5,0.1,0.5,0.6))\n",
    "\n",
    "#подпишем оси названия график\n",
    "plt.title('График распределения доли должников в соответствии с категориями ежемесячного едохода')\n",
    "plt.xlabel('Категории ежемесячного дохода')\n",
    "plt.ylabel('Доля')\n",
    "\n",
    "plt.xticks(x_pos, bars)\n",
    "plt.show()"
   ]
  },
  {
   "cell_type": "markdown",
   "id": "6dd14b57",
   "metadata": {
    "deletable": false,
    "id": "6dd14b57"
   },
   "source": [
    "**Вывод:** зависимость прослеживается. \n",
    "Распределение клиентов по категориям неравномерное, поэтому сравним две самые многочисленные категории из всех. Это клиенты с ежемесячным доходом от 200 тыс до 1 млн. (категория B) и клиенты с ежемесячным доходом от 50 тыс. до 200 тыс. (категория C). Как можно увидеть из графика, клиенты с меньшим доходом реже выплачивают кредит вовремя.\n"
   ]
  },
  {
   "cell_type": "markdown",
   "id": "736479be",
   "metadata": {},
   "source": [
    "<div class='alert alert-info' </div> Сравнила выборку B и C. Спасибо за подсказку, не сразу обратила внимание на распределение людей по категориям, поэтому было действительно сложно сравнить результаты."
   ]
  },
  {
   "cell_type": "markdown",
   "id": "1dcc9b12",
   "metadata": {
    "deletable": false,
    "editable": false,
    "id": "1dcc9b12"
   },
   "source": [
    "#### 3.4 Как разные цели кредита влияют на его возврат в срок?"
   ]
  },
  {
   "cell_type": "code",
   "execution_count": 31,
   "id": "c602bc8b",
   "metadata": {
    "deletable": false,
    "id": "c602bc8b",
    "scrolled": true
   },
   "outputs": [
    {
     "data": {
      "text/html": [
       "<div>\n",
       "<style scoped>\n",
       "    .dataframe tbody tr th:only-of-type {\n",
       "        vertical-align: middle;\n",
       "    }\n",
       "\n",
       "    .dataframe tbody tr th {\n",
       "        vertical-align: top;\n",
       "    }\n",
       "\n",
       "    .dataframe thead th {\n",
       "        text-align: right;\n",
       "    }\n",
       "</style>\n",
       "<table border=\"1\" class=\"dataframe\">\n",
       "  <thead>\n",
       "    <tr style=\"text-align: right;\">\n",
       "      <th></th>\n",
       "      <th>total</th>\n",
       "      <th>debt_group</th>\n",
       "      <th>ratio</th>\n",
       "    </tr>\n",
       "    <tr>\n",
       "      <th>purpose_category</th>\n",
       "      <th></th>\n",
       "      <th></th>\n",
       "      <th></th>\n",
       "    </tr>\n",
       "  </thead>\n",
       "  <tbody>\n",
       "    <tr>\n",
       "      <th>операции с автомобилем</th>\n",
       "      <td>4279</td>\n",
       "      <td>400</td>\n",
       "      <td>0.093480</td>\n",
       "    </tr>\n",
       "    <tr>\n",
       "      <th>операции с недвижимостью</th>\n",
       "      <td>10751</td>\n",
       "      <td>780</td>\n",
       "      <td>0.072551</td>\n",
       "    </tr>\n",
       "    <tr>\n",
       "      <th>получение образования</th>\n",
       "      <td>3988</td>\n",
       "      <td>369</td>\n",
       "      <td>0.092528</td>\n",
       "    </tr>\n",
       "    <tr>\n",
       "      <th>проведение свадьбы</th>\n",
       "      <td>2313</td>\n",
       "      <td>183</td>\n",
       "      <td>0.079118</td>\n",
       "    </tr>\n",
       "  </tbody>\n",
       "</table>\n",
       "</div>"
      ],
      "text/plain": [
       "                          total  debt_group     ratio\n",
       "purpose_category                                     \n",
       "операции с автомобилем     4279         400  0.093480\n",
       "операции с недвижимостью  10751         780  0.072551\n",
       "получение образования      3988         369  0.092528\n",
       "проведение свадьбы         2313         183  0.079118"
      ]
     },
     "execution_count": 31,
     "metadata": {},
     "output_type": "execute_result"
    }
   ],
   "source": [
    "#создаем сводную таблицу и сохраняем ее в переменной data_pivot\n",
    "data_pivot = data.pivot_table(index='purpose_category', values='debt', aggfunc={'count','sum'})\n",
    "data_pivot = data_pivot.rename(columns={'count': 'total', 'sum':'debt_group'}) #для удобства переименовываем столбцы  'sum' и 'count'\n",
    "\n",
    "ratio = data_pivot['debt_group'] / data_pivot['total'] #находим долю тех, у кого есть долги и сохраняем ее в переменную ratio\n",
    "\n",
    "data_pivot.insert(loc=2, column='ratio', value=ratio) #добавляем в таблицу data_pivot столбец 'ratio', в котором будут отображены значения переменной ratio\n",
    "data_pivot #выводим полученную таблицу"
   ]
  },
  {
   "cell_type": "code",
   "execution_count": 32,
   "id": "43f9efa4",
   "metadata": {
    "scrolled": true
   },
   "outputs": [
    {
     "data": {
      "text/html": [
       "<div>\n",
       "<style scoped>\n",
       "    .dataframe tbody tr th:only-of-type {\n",
       "        vertical-align: middle;\n",
       "    }\n",
       "\n",
       "    .dataframe tbody tr th {\n",
       "        vertical-align: top;\n",
       "    }\n",
       "\n",
       "    .dataframe thead th {\n",
       "        text-align: right;\n",
       "    }\n",
       "</style>\n",
       "<table border=\"1\" class=\"dataframe\">\n",
       "  <thead>\n",
       "    <tr style=\"text-align: right;\">\n",
       "      <th></th>\n",
       "      <th>purpose_category</th>\n",
       "      <th>total</th>\n",
       "      <th>debt_group</th>\n",
       "      <th>ratio</th>\n",
       "    </tr>\n",
       "  </thead>\n",
       "  <tbody>\n",
       "    <tr>\n",
       "      <th>0</th>\n",
       "      <td>операции с автомобилем</td>\n",
       "      <td>4279</td>\n",
       "      <td>400</td>\n",
       "      <td>0.093480</td>\n",
       "    </tr>\n",
       "    <tr>\n",
       "      <th>1</th>\n",
       "      <td>операции с недвижимостью</td>\n",
       "      <td>10751</td>\n",
       "      <td>780</td>\n",
       "      <td>0.072551</td>\n",
       "    </tr>\n",
       "    <tr>\n",
       "      <th>2</th>\n",
       "      <td>получение образования</td>\n",
       "      <td>3988</td>\n",
       "      <td>369</td>\n",
       "      <td>0.092528</td>\n",
       "    </tr>\n",
       "    <tr>\n",
       "      <th>3</th>\n",
       "      <td>проведение свадьбы</td>\n",
       "      <td>2313</td>\n",
       "      <td>183</td>\n",
       "      <td>0.079118</td>\n",
       "    </tr>\n",
       "  </tbody>\n",
       "</table>\n",
       "</div>"
      ],
      "text/plain": [
       "           purpose_category  total  debt_group     ratio\n",
       "0    операции с автомобилем   4279         400  0.093480\n",
       "1  операции с недвижимостью  10751         780  0.072551\n",
       "2     получение образования   3988         369  0.092528\n",
       "3        проведение свадьбы   2313         183  0.079118"
      ]
     },
     "execution_count": 32,
     "metadata": {},
     "output_type": "execute_result"
    }
   ],
   "source": [
    "#для удобства отсортируем таблицу по столбцу 'ratio' в порядке убывания\n",
    "data_pivot.sort_values(by='ratio', ascending=False)\n",
    "data_pivot.reset_index()"
   ]
  },
  {
   "cell_type": "code",
   "execution_count": 33,
   "id": "bead698b",
   "metadata": {
    "scrolled": true
   },
   "outputs": [
    {
     "data": {
      "image/png": "[encoded data removed]",
      "text/plain": [
       "<Figure size 1000x500 with 1 Axes>"
      ]
     },
     "metadata": {},
     "output_type": "display_data"
    }
   ],
   "source": [
    "#для наглядности построим график распределения доли должников\n",
    "data_pivot.drop(columns=['total', 'debt_group'], axis=1, inplace=True)\n",
    "data_pivot.plot(title='График распределения доли должников по категориям цели получения кредита', y='ratio', kind='bar', grid=True)\n",
    "plt.xlabel('Категории цели получения кредита')\n",
    "plt.ylabel('Доля должников')\n",
    "plt.show()"
   ]
  },
  {
   "cell_type": "markdown",
   "id": "cf05ed63",
   "metadata": {
    "deletable": false,
    "id": "cf05ed63"
   },
   "source": [
    "**Вывод:** зависимость наблюдается. Клиенты, которые берут кредит с целью провести какие-либо операции с автомобилем или получить образование реже выплачивают кредит в срок.\n",
    "В то же время у клиентов, планирующих за счет кредита организовать свадьбу или совершить операции с недвижимостью, вероятность возвратность кредита вовремя значимо больше. Можно предположить, что здесь идет речь о существенно разной сумме кредита."
   ]
  },
  {
   "cell_type": "markdown",
   "id": "46c1f10b",
   "metadata": {
    "deletable": false,
    "editable": false,
    "id": "46c1f10b"
   },
   "source": [
    "#### 3.5 Приведите возможные причины появления пропусков в исходных данных."
   ]
  },
  {
   "cell_type": "markdown",
   "id": "3697d2a9",
   "metadata": {
    "deletable": false,
    "id": "3697d2a9"
   },
   "source": [
    "*Ответ:* в исходных данных пропуски наблюдаются только в столбцах, указывающих на общий трудовой стаж и ежемесячный доход клиентов. Возможные причины могут быть самыми разными. Например, это может выражаться в желании скрыть свою потенциальную неспособность оплатить кредит вовремя. Подобные клиенты хотят создать себе хороший образ в глазах банка и повысить свои шансы на получение кредита. Также возможно, что люди, не указавшие свой месячный доход и общий трудовой стаж, переоценивают свои возможности оплаты кредита в срок и не желают сразу попасть в категорию \"неплатежеспособного клиента\", даже если они объективно таковы. Помимо человеческого фактора, пропуски здесь могли возникнуть в связи с технологическими ошибками. Возможно, что даже на этапе записи данных или же при считывании/копировании этих данных.\n",
    "\n",
    "\n",
    "Интересно, что в обоих столбах количество пропусков одинаковое. Было бы интересно посмотреть, с чем это на самом деле связано."
   ]
  },
  {
   "cell_type": "markdown",
   "id": "3137d257",
   "metadata": {
    "deletable": false,
    "editable": false,
    "id": "3137d257"
   },
   "source": [
    "#### 3.6 Объясните, почему заполнить пропуски медианным значением — лучшее решение для количественных переменных."
   ]
  },
  {
   "cell_type": "markdown",
   "id": "cf40012a",
   "metadata": {
    "deletable": false,
    "id": "cf40012a"
   },
   "source": [
    "*Ответ:*  некоторые значения в данных могут сильно разниться по сравнению с остальными. Соотвественно, средние значения могут сильно исказить значения по выборке"
   ]
  },
  {
   "cell_type": "markdown",
   "id": "57bc304e",
   "metadata": {
    "deletable": false,
    "editable": false,
    "id": "57bc304e"
   },
   "source": [
    "### Шаг 4: общий вывод."
   ]
  },
  {
   "cell_type": "markdown",
   "id": "1ab75d1c",
   "metadata": {
    "deletable": false,
    "id": "1ab75d1c"
   },
   "source": [
    "В рамках данного исследования, были проанализированы данные csv таблицы, содержащей статистику о платёжеспособности клиентов.\n",
    "\n",
    "На этапе предобработки были произведены: \n",
    "- обработка аномальных значений, \n",
    "- заполнение пропущенных значений в столбцах, \n",
    "- изменение типов данных и обработка дубликатов. \n",
    "- данные были разбиты на категории для дальнейшего удобства обработки информации (а именно те, что содержат информацию о ежемесячном доходе клиентов и о целях получения кредита).\n",
    "\n",
    "Были подбробно изучены 4 фактора надежности заемщиков: **цель получения кредита, ежемесячный доход, количество детей и семейное положение**.\n",
    "\n",
    "1. *Цели* клиентов на получение кредита были разделены на следующие категории:\n",
    "* операции с автомобилем,\n",
    "* операции с недвижимостью,\n",
    "* проведение свадьбы,\n",
    "* получение образования\n",
    "\n",
    "Как оказалось, клиенты, которые берут кредит с целью провести какие-либо операции с автомобилем или получить образование реже выплачивают кредит в срок. В то же время клиенты, планирующие за счет кредита организовать свадьбу или совершить операции с недвижимостью, чаще остальных выплачивают его в срок. Вероятно, это связано со значимо большей суммой, которую клиенты хотят получить в кредит.\n",
    "\n",
    "2. По *ежемесячному доходу* клиенты были поделены на 5 категорий:\n",
    "* 0–30000;\n",
    "* 30001–50000;\n",
    "* 50001–200000;\n",
    "* 200001–1000000;\n",
    "* 1000001 и выше.\n",
    "\n",
    "Распределение клиентов по категориям неравномерное, поэтому сравнивались две самые многочисленные категории из всех. Это клиенты с ежемесячным доходом от 200 тыс до 1 млн. (категория B) и клиенты с ежемесячным доходом от 50 тыс. до 200 тыс. (категория C). Как оказалось, клиенты с меньшим доходом реже выплачивают кредит вовремя.\n",
    "\n",
    "3. Самый низкий процент должников оказался у категории клиентов, у которых есть *5 детей*. Однако здесь сложно утверждать, что эти клиенты всегда возвращают кредит в срок, поскольку эта выборка оказалась слишком мала, в нее вошли всего 9 человек.\n",
    "Поэтому стоит обратить внимание на следующую по меньшинству долю должников (7.54%). Это категория клиентов, у которых нет детей. Стоит обратить внимание, что в нее вошло больше половины от общей выборки. Вполне логично, что семьям или незамужним/ неженатым людям без детей проще распределить свои финансы на свое обеспечение. Если сравнить их с клиентами, у которых 1 или 2 ребенка, то можно говорить о том, что те люди, у которых есть дети реже выплачивают кредит в срок нежели тех, у кого их нет. Важно также отметить, что больше всего должников было обнаружено среди клиентов, у которых 4 детей. При том, что в эту выборку вошло значимо меньше людей (41 человек). Все это подтверждает наличие корреляции между количеством детей у клиента и его способностью выплатить кредит в срок, поскольку чем больше у человека детей, тем сложнее ему обеспечивать себя и свою семью.\n",
    "\n",
    "4. Клиенты, которые *не состоят в браке* реже возвращают кредит в срок, по сравнению с клиентами других семейных статусов. Возможно, это связано с такими причинами, как нестабильный/низкий доход, молодой возраст и т.д. Следует отметить, что среди всех клиентов, те из них, чей семейный статус - это \"вдовец/ вдова\" или \"в разводе\", с большей вероятностью выплачивают кредит в срок, нежели тех клиентов, что состоят в официальном или же гражданском браке, например. Здесь могли сыграть такие факторы, как получение наследства при смерти одного из супругов, деление имущества при разводе в пользу одного из супругов и пр. \n"
   ]
  },
  {
   "cell_type": "markdown",
   "id": "66906117",
   "metadata": {},
   "source": [
    "Таким образом, на основе анализа данных cvs таблицы, портрет идеального заемщика выглядел бы следующих образом:\n",
    "\n",
    "**Цель:** операции с недвижимостью\n",
    "\n",
    "**Ежемесячный доход:** 30-50 тыс.\n",
    "\n",
    "**Наличие детей:** нет\n",
    "\n",
    "**Семейный статус:** вдовец/ вдова"
   ]
  },
  {
   "cell_type": "markdown",
   "id": "98a367c3",
   "metadata": {},
   "source": [
    "   "
   ]
  },
  {
   "cell_type": "markdown",
   "id": "1e13f993",
   "metadata": {},
   "source": [
    "А портрет рискового заемщика таким:\n",
    "\n",
    "**Цель:** операции с автомобилем\n",
    "\n",
    "**Ежемесячный доход:** до 30 тыс.\n",
    "\n",
    "**Наличие детей:** 4\n",
    "\n",
    "**Семейный статус:** не женат/ не замужем"
   ]
  }
 ],
 "metadata": {
  "ExecuteTimeLog": [
   {
    "duration": 723,
    "start_time": "2023-09-13T08:22:30.999Z"
   },
   {
    "duration": 20,
    "start_time": "2023-09-13T08:22:31.724Z"
   },
   {
    "duration": 44,
    "start_time": "2023-09-13T08:22:31.745Z"
   },
   {
    "duration": 25,
    "start_time": "2023-09-13T08:22:31.790Z"
   },
   {
    "duration": 60,
    "start_time": "2023-09-13T08:22:31.816Z"
   },
   {
    "duration": 41,
    "start_time": "2023-09-13T08:22:31.877Z"
   },
   {
    "duration": 141,
    "start_time": "2023-09-13T08:22:31.919Z"
   },
   {
    "duration": 23,
    "start_time": "2023-09-13T08:22:32.062Z"
   },
   {
    "duration": 40,
    "start_time": "2023-09-13T08:22:32.086Z"
   },
   {
    "duration": 21,
    "start_time": "2023-09-13T08:22:32.128Z"
   },
   {
    "duration": 88,
    "start_time": "2023-09-13T08:22:32.150Z"
   },
   {
    "duration": 30,
    "start_time": "2023-09-13T08:22:32.240Z"
   },
   {
    "duration": 51,
    "start_time": "2023-09-13T08:22:32.271Z"
   },
   {
    "duration": 37,
    "start_time": "2023-09-13T08:22:32.323Z"
   },
   {
    "duration": 30,
    "start_time": "2023-09-13T08:22:32.361Z"
   },
   {
    "duration": 16,
    "start_time": "2023-09-13T08:22:32.392Z"
   },
   {
    "duration": 9,
    "start_time": "2023-09-13T08:22:32.409Z"
   },
   {
    "duration": 25,
    "start_time": "2023-09-13T08:22:32.419Z"
   },
   {
    "duration": 9,
    "start_time": "2023-09-13T08:22:32.446Z"
   },
   {
    "duration": 17,
    "start_time": "2023-09-13T08:22:32.457Z"
   },
   {
    "duration": 38,
    "start_time": "2023-09-13T08:22:32.476Z"
   },
   {
    "duration": 5,
    "start_time": "2023-09-13T08:22:32.516Z"
   },
   {
    "duration": 24,
    "start_time": "2023-09-13T08:22:32.522Z"
   },
   {
    "duration": 10,
    "start_time": "2023-09-13T08:22:32.547Z"
   },
   {
    "duration": 11,
    "start_time": "2023-09-13T08:22:32.559Z"
   },
   {
    "duration": 6,
    "start_time": "2023-09-13T08:53:00.068Z"
   },
   {
    "duration": 5,
    "start_time": "2023-09-13T08:53:37.477Z"
   },
   {
    "duration": 61,
    "start_time": "2023-09-13T08:53:53.756Z"
   },
   {
    "duration": 6,
    "start_time": "2023-09-13T08:54:05.687Z"
   },
   {
    "duration": 5,
    "start_time": "2023-09-13T08:55:04.942Z"
   },
   {
    "duration": 21,
    "start_time": "2023-09-13T09:14:52.823Z"
   },
   {
    "duration": 7,
    "start_time": "2023-09-13T09:18:56.072Z"
   },
   {
    "duration": 6,
    "start_time": "2023-09-13T09:37:48.612Z"
   },
   {
    "duration": 5,
    "start_time": "2023-09-13T09:40:19.378Z"
   },
   {
    "duration": 42,
    "start_time": "2023-09-13T11:40:57.376Z"
   },
   {
    "duration": 534,
    "start_time": "2023-09-13T11:41:06.727Z"
   },
   {
    "duration": 20,
    "start_time": "2023-09-13T11:41:07.263Z"
   },
   {
    "duration": 14,
    "start_time": "2023-09-13T11:41:07.284Z"
   },
   {
    "duration": 13,
    "start_time": "2023-09-13T11:41:07.300Z"
   },
   {
    "duration": 34,
    "start_time": "2023-09-13T11:41:07.315Z"
   },
   {
    "duration": 3,
    "start_time": "2023-09-13T11:41:07.350Z"
   },
   {
    "duration": 18,
    "start_time": "2023-09-13T11:41:07.354Z"
   },
   {
    "duration": 17,
    "start_time": "2023-09-13T11:41:07.373Z"
   },
   {
    "duration": 9,
    "start_time": "2023-09-13T11:41:07.392Z"
   },
   {
    "duration": 4,
    "start_time": "2023-09-13T11:41:07.403Z"
   },
   {
    "duration": 36,
    "start_time": "2023-09-13T11:41:07.408Z"
   },
   {
    "duration": 17,
    "start_time": "2023-09-13T11:41:07.445Z"
   },
   {
    "duration": 40,
    "start_time": "2023-09-13T11:41:07.463Z"
   },
   {
    "duration": 21,
    "start_time": "2023-09-13T11:41:07.505Z"
   },
   {
    "duration": 26,
    "start_time": "2023-09-13T11:41:07.527Z"
   },
   {
    "duration": 15,
    "start_time": "2023-09-13T11:41:07.555Z"
   },
   {
    "duration": 3,
    "start_time": "2023-09-13T11:41:07.572Z"
   },
   {
    "duration": 30,
    "start_time": "2023-09-13T11:41:07.576Z"
   },
   {
    "duration": 12,
    "start_time": "2023-09-13T11:41:07.607Z"
   },
   {
    "duration": 31,
    "start_time": "2023-09-13T11:41:07.621Z"
   },
   {
    "duration": 52,
    "start_time": "2023-09-13T11:41:07.654Z"
   },
   {
    "duration": 7,
    "start_time": "2023-09-13T11:41:07.708Z"
   },
   {
    "duration": 17,
    "start_time": "2023-09-13T11:41:07.716Z"
   },
   {
    "duration": 22,
    "start_time": "2023-09-13T11:41:07.734Z"
   },
   {
    "duration": 12,
    "start_time": "2023-09-13T11:41:07.758Z"
   },
   {
    "duration": 28,
    "start_time": "2023-09-13T11:41:07.771Z"
   },
   {
    "duration": 4,
    "start_time": "2023-09-13T11:51:27.141Z"
   },
   {
    "duration": 449,
    "start_time": "2023-09-13T11:51:41.071Z"
   },
   {
    "duration": 21,
    "start_time": "2023-09-13T11:51:41.522Z"
   },
   {
    "duration": 30,
    "start_time": "2023-09-13T11:51:41.544Z"
   },
   {
    "duration": 61,
    "start_time": "2023-09-13T11:51:41.575Z"
   },
   {
    "duration": 41,
    "start_time": "2023-09-13T11:51:41.638Z"
   },
   {
    "duration": 3,
    "start_time": "2023-09-13T11:51:41.681Z"
   },
   {
    "duration": 29,
    "start_time": "2023-09-13T11:51:41.686Z"
   },
   {
    "duration": 6,
    "start_time": "2023-09-13T11:51:41.717Z"
   },
   {
    "duration": 23,
    "start_time": "2023-09-13T11:51:41.724Z"
   },
   {
    "duration": 9,
    "start_time": "2023-09-13T11:51:41.748Z"
   },
   {
    "duration": 39,
    "start_time": "2023-09-13T11:51:41.758Z"
   },
   {
    "duration": 9,
    "start_time": "2023-09-13T11:51:41.798Z"
   },
   {
    "duration": 7,
    "start_time": "2023-09-13T11:51:41.809Z"
   },
   {
    "duration": 25,
    "start_time": "2023-09-13T11:51:41.819Z"
   },
   {
    "duration": 30,
    "start_time": "2023-09-13T11:51:41.845Z"
   },
   {
    "duration": 40,
    "start_time": "2023-09-13T11:51:41.876Z"
   },
   {
    "duration": 13,
    "start_time": "2023-09-13T11:51:41.918Z"
   },
   {
    "duration": 30,
    "start_time": "2023-09-13T11:51:41.933Z"
   },
   {
    "duration": 21,
    "start_time": "2023-09-13T11:51:41.964Z"
   },
   {
    "duration": 16,
    "start_time": "2023-09-13T11:51:41.986Z"
   },
   {
    "duration": 12,
    "start_time": "2023-09-13T11:51:42.003Z"
   },
   {
    "duration": 25,
    "start_time": "2023-09-13T11:51:42.017Z"
   },
   {
    "duration": 12,
    "start_time": "2023-09-13T11:51:42.044Z"
   },
   {
    "duration": 14,
    "start_time": "2023-09-13T11:51:42.057Z"
   },
   {
    "duration": 21,
    "start_time": "2023-09-13T11:51:42.072Z"
   },
   {
    "duration": 62,
    "start_time": "2023-09-13T11:52:07.566Z"
   },
   {
    "duration": 8,
    "start_time": "2023-09-13T11:58:22.228Z"
   },
   {
    "duration": 7,
    "start_time": "2023-09-13T11:58:29.220Z"
   },
   {
    "duration": 534,
    "start_time": "2023-09-13T11:58:33.935Z"
   },
   {
    "duration": 21,
    "start_time": "2023-09-13T11:58:34.470Z"
   },
   {
    "duration": 18,
    "start_time": "2023-09-13T11:58:34.492Z"
   },
   {
    "duration": 10,
    "start_time": "2023-09-13T11:58:34.512Z"
   },
   {
    "duration": 48,
    "start_time": "2023-09-13T11:58:34.524Z"
   },
   {
    "duration": 3,
    "start_time": "2023-09-13T11:58:34.574Z"
   },
   {
    "duration": 40,
    "start_time": "2023-09-13T11:58:34.578Z"
   },
   {
    "duration": 12,
    "start_time": "2023-09-13T11:58:34.620Z"
   },
   {
    "duration": 9,
    "start_time": "2023-09-13T11:58:34.634Z"
   },
   {
    "duration": 20,
    "start_time": "2023-09-13T11:58:34.644Z"
   },
   {
    "duration": 41,
    "start_time": "2023-09-13T11:58:34.666Z"
   },
   {
    "duration": 10,
    "start_time": "2023-09-13T11:58:34.709Z"
   },
   {
    "duration": 15,
    "start_time": "2023-09-13T11:58:34.720Z"
   },
   {
    "duration": 24,
    "start_time": "2023-09-13T11:58:34.737Z"
   },
   {
    "duration": 25,
    "start_time": "2023-09-13T11:58:34.763Z"
   },
   {
    "duration": 16,
    "start_time": "2023-09-13T11:58:34.790Z"
   },
   {
    "duration": 4,
    "start_time": "2023-09-13T11:58:34.807Z"
   },
   {
    "duration": 15,
    "start_time": "2023-09-13T11:58:34.812Z"
   },
   {
    "duration": 12,
    "start_time": "2023-09-13T11:58:34.829Z"
   },
   {
    "duration": 5,
    "start_time": "2023-09-13T11:58:34.844Z"
   },
   {
    "duration": 10,
    "start_time": "2023-09-13T11:58:34.850Z"
   },
   {
    "duration": 29,
    "start_time": "2023-09-13T11:58:34.861Z"
   },
   {
    "duration": 2,
    "start_time": "2023-09-13T11:58:34.892Z"
   },
   {
    "duration": 6,
    "start_time": "2023-09-13T11:58:34.895Z"
   },
   {
    "duration": 5,
    "start_time": "2023-09-13T11:58:34.902Z"
   },
   {
    "duration": 19,
    "start_time": "2023-09-13T11:59:20.662Z"
   },
   {
    "duration": 6,
    "start_time": "2023-09-13T12:00:10.701Z"
   },
   {
    "duration": 5,
    "start_time": "2023-09-13T12:04:38.784Z"
   },
   {
    "duration": 7,
    "start_time": "2023-09-13T12:04:41.698Z"
   },
   {
    "duration": 448,
    "start_time": "2023-09-13T12:04:51.277Z"
   },
   {
    "duration": 21,
    "start_time": "2023-09-13T12:04:51.727Z"
   },
   {
    "duration": 16,
    "start_time": "2023-09-13T12:04:51.751Z"
   },
   {
    "duration": 12,
    "start_time": "2023-09-13T12:04:51.769Z"
   },
   {
    "duration": 56,
    "start_time": "2023-09-13T12:04:51.783Z"
   },
   {
    "duration": 13,
    "start_time": "2023-09-13T12:04:51.841Z"
   },
   {
    "duration": 33,
    "start_time": "2023-09-13T12:04:51.855Z"
   },
   {
    "duration": 15,
    "start_time": "2023-09-13T12:04:51.890Z"
   },
   {
    "duration": 23,
    "start_time": "2023-09-13T12:04:51.907Z"
   },
   {
    "duration": 13,
    "start_time": "2023-09-13T12:04:51.932Z"
   },
   {
    "duration": 46,
    "start_time": "2023-09-13T12:04:51.946Z"
   },
   {
    "duration": 9,
    "start_time": "2023-09-13T12:04:51.994Z"
   },
   {
    "duration": 25,
    "start_time": "2023-09-13T12:04:52.006Z"
   },
   {
    "duration": 44,
    "start_time": "2023-09-13T12:04:52.033Z"
   },
   {
    "duration": 51,
    "start_time": "2023-09-13T12:04:52.079Z"
   },
   {
    "duration": 67,
    "start_time": "2023-09-13T12:04:52.132Z"
   },
   {
    "duration": 57,
    "start_time": "2023-09-13T12:04:52.200Z"
   },
   {
    "duration": 136,
    "start_time": "2023-09-13T12:04:52.258Z"
   },
   {
    "duration": 58,
    "start_time": "2023-09-13T12:04:52.396Z"
   },
   {
    "duration": 18,
    "start_time": "2023-09-13T12:04:52.456Z"
   },
   {
    "duration": 27,
    "start_time": "2023-09-13T12:04:52.476Z"
   },
   {
    "duration": 16,
    "start_time": "2023-09-13T12:04:52.505Z"
   },
   {
    "duration": 20,
    "start_time": "2023-09-13T12:04:52.522Z"
   },
   {
    "duration": 22,
    "start_time": "2023-09-13T12:04:52.544Z"
   },
   {
    "duration": 15,
    "start_time": "2023-09-13T12:04:52.568Z"
   },
   {
    "duration": 6,
    "start_time": "2023-09-13T12:05:06.197Z"
   },
   {
    "duration": 5,
    "start_time": "2023-09-13T12:28:27.369Z"
   },
   {
    "duration": 531,
    "start_time": "2023-09-13T13:57:23.756Z"
   },
   {
    "duration": 29,
    "start_time": "2023-09-13T13:57:24.290Z"
   },
   {
    "duration": 31,
    "start_time": "2023-09-13T13:57:24.321Z"
   },
   {
    "duration": 34,
    "start_time": "2023-09-13T13:57:24.354Z"
   },
   {
    "duration": 74,
    "start_time": "2023-09-13T13:57:24.389Z"
   },
   {
    "duration": 4,
    "start_time": "2023-09-13T13:57:24.464Z"
   },
   {
    "duration": 19,
    "start_time": "2023-09-13T13:57:24.469Z"
   },
   {
    "duration": 19,
    "start_time": "2023-09-13T13:57:24.490Z"
   },
   {
    "duration": 16,
    "start_time": "2023-09-13T13:57:24.511Z"
   },
   {
    "duration": 8,
    "start_time": "2023-09-13T13:57:24.530Z"
   },
   {
    "duration": 59,
    "start_time": "2023-09-13T13:57:24.539Z"
   },
   {
    "duration": 9,
    "start_time": "2023-09-13T13:57:24.600Z"
   },
   {
    "duration": 16,
    "start_time": "2023-09-13T13:57:24.611Z"
   },
   {
    "duration": 31,
    "start_time": "2023-09-13T13:57:24.628Z"
   },
   {
    "duration": 28,
    "start_time": "2023-09-13T13:57:24.660Z"
   },
   {
    "duration": 17,
    "start_time": "2023-09-13T13:57:24.689Z"
   },
   {
    "duration": 4,
    "start_time": "2023-09-13T13:57:24.707Z"
   },
   {
    "duration": 33,
    "start_time": "2023-09-13T13:57:24.712Z"
   },
   {
    "duration": 35,
    "start_time": "2023-09-13T13:57:24.747Z"
   },
   {
    "duration": 11,
    "start_time": "2023-09-13T13:57:24.784Z"
   },
   {
    "duration": 35,
    "start_time": "2023-09-13T13:57:24.797Z"
   },
   {
    "duration": 132,
    "start_time": "2023-09-13T13:57:24.833Z"
   },
   {
    "duration": 0,
    "start_time": "2023-09-13T13:57:24.966Z"
   },
   {
    "duration": 0,
    "start_time": "2023-09-13T13:57:24.968Z"
   },
   {
    "duration": 0,
    "start_time": "2023-09-13T13:57:24.969Z"
   },
   {
    "duration": 14,
    "start_time": "2023-09-13T14:22:57.045Z"
   },
   {
    "duration": 15,
    "start_time": "2023-09-13T14:27:25.691Z"
   },
   {
    "duration": 14,
    "start_time": "2023-09-13T14:27:38.734Z"
   },
   {
    "duration": 17,
    "start_time": "2023-09-13T14:27:47.830Z"
   },
   {
    "duration": 21,
    "start_time": "2023-09-13T14:28:15.874Z"
   },
   {
    "duration": 21,
    "start_time": "2023-09-13T14:28:48.323Z"
   },
   {
    "duration": 19,
    "start_time": "2023-09-13T14:29:04.514Z"
   },
   {
    "duration": 21,
    "start_time": "2023-09-13T14:29:19.760Z"
   },
   {
    "duration": 13,
    "start_time": "2023-09-13T14:32:58.365Z"
   },
   {
    "duration": 16,
    "start_time": "2023-09-13T14:34:22.230Z"
   },
   {
    "duration": 19,
    "start_time": "2023-09-13T14:34:34.070Z"
   },
   {
    "duration": 14,
    "start_time": "2023-09-13T14:34:36.855Z"
   },
   {
    "duration": 15,
    "start_time": "2023-09-13T14:34:40.718Z"
   },
   {
    "duration": 430,
    "start_time": "2023-09-13T14:34:45.773Z"
   },
   {
    "duration": 20,
    "start_time": "2023-09-13T14:34:46.206Z"
   },
   {
    "duration": 17,
    "start_time": "2023-09-13T14:34:46.227Z"
   },
   {
    "duration": 18,
    "start_time": "2023-09-13T14:34:46.245Z"
   },
   {
    "duration": 39,
    "start_time": "2023-09-13T14:34:46.265Z"
   },
   {
    "duration": 3,
    "start_time": "2023-09-13T14:34:46.306Z"
   },
   {
    "duration": 15,
    "start_time": "2023-09-13T14:34:46.310Z"
   },
   {
    "duration": 9,
    "start_time": "2023-09-13T14:34:46.327Z"
   },
   {
    "duration": 10,
    "start_time": "2023-09-13T14:34:46.338Z"
   },
   {
    "duration": 8,
    "start_time": "2023-09-13T14:34:46.349Z"
   },
   {
    "duration": 45,
    "start_time": "2023-09-13T14:34:46.359Z"
   },
   {
    "duration": 10,
    "start_time": "2023-09-13T14:34:46.405Z"
   },
   {
    "duration": 5,
    "start_time": "2023-09-13T14:34:46.417Z"
   },
   {
    "duration": 29,
    "start_time": "2023-09-13T14:34:46.425Z"
   },
   {
    "duration": 19,
    "start_time": "2023-09-13T14:34:46.455Z"
   },
   {
    "duration": 15,
    "start_time": "2023-09-13T14:34:46.475Z"
   },
   {
    "duration": 4,
    "start_time": "2023-09-13T14:34:46.492Z"
   },
   {
    "duration": 18,
    "start_time": "2023-09-13T14:34:46.497Z"
   },
   {
    "duration": 7,
    "start_time": "2023-09-13T14:34:46.517Z"
   },
   {
    "duration": 3,
    "start_time": "2023-09-13T14:34:46.545Z"
   },
   {
    "duration": 11,
    "start_time": "2023-09-13T14:34:46.550Z"
   },
   {
    "duration": 43,
    "start_time": "2023-09-13T14:34:46.563Z"
   },
   {
    "duration": 13,
    "start_time": "2023-09-13T14:34:46.607Z"
   },
   {
    "duration": 4,
    "start_time": "2023-09-13T14:34:46.622Z"
   },
   {
    "duration": 10,
    "start_time": "2023-09-13T14:34:46.628Z"
   },
   {
    "duration": 15,
    "start_time": "2023-09-13T14:39:11.292Z"
   },
   {
    "duration": 70,
    "start_time": "2023-09-13T15:09:27.747Z"
   },
   {
    "duration": 492,
    "start_time": "2023-09-13T15:09:53.363Z"
   },
   {
    "duration": 22,
    "start_time": "2023-09-13T15:09:53.857Z"
   },
   {
    "duration": 42,
    "start_time": "2023-09-13T15:09:53.881Z"
   },
   {
    "duration": 26,
    "start_time": "2023-09-13T15:09:53.925Z"
   },
   {
    "duration": 44,
    "start_time": "2023-09-13T15:09:53.953Z"
   },
   {
    "duration": 3,
    "start_time": "2023-09-13T15:09:53.999Z"
   },
   {
    "duration": 37,
    "start_time": "2023-09-13T15:09:54.004Z"
   },
   {
    "duration": 21,
    "start_time": "2023-09-13T15:09:54.042Z"
   },
   {
    "duration": 22,
    "start_time": "2023-09-13T15:09:54.065Z"
   },
   {
    "duration": 27,
    "start_time": "2023-09-13T15:09:54.089Z"
   },
   {
    "duration": 73,
    "start_time": "2023-09-13T15:09:54.118Z"
   },
   {
    "duration": 12,
    "start_time": "2023-09-13T15:09:54.194Z"
   },
   {
    "duration": 14,
    "start_time": "2023-09-13T15:09:54.208Z"
   },
   {
    "duration": 24,
    "start_time": "2023-09-13T15:09:54.226Z"
   },
   {
    "duration": 47,
    "start_time": "2023-09-13T15:09:54.252Z"
   },
   {
    "duration": 21,
    "start_time": "2023-09-13T15:09:54.301Z"
   },
   {
    "duration": 4,
    "start_time": "2023-09-13T15:09:54.324Z"
   },
   {
    "duration": 22,
    "start_time": "2023-09-13T15:09:54.330Z"
   },
   {
    "duration": 16,
    "start_time": "2023-09-13T15:09:54.354Z"
   },
   {
    "duration": 5,
    "start_time": "2023-09-13T15:09:54.371Z"
   },
   {
    "duration": 31,
    "start_time": "2023-09-13T15:09:54.377Z"
   },
   {
    "duration": 88,
    "start_time": "2023-09-13T15:09:54.410Z"
   },
   {
    "duration": 0,
    "start_time": "2023-09-13T15:09:54.499Z"
   },
   {
    "duration": 0,
    "start_time": "2023-09-13T15:09:54.500Z"
   },
   {
    "duration": 0,
    "start_time": "2023-09-13T15:09:54.501Z"
   },
   {
    "duration": 18,
    "start_time": "2023-09-13T15:10:19.546Z"
   },
   {
    "duration": 18,
    "start_time": "2023-09-13T15:10:36.702Z"
   },
   {
    "duration": 18,
    "start_time": "2023-09-13T15:11:03.363Z"
   },
   {
    "duration": 875,
    "start_time": "2023-09-13T17:54:44.300Z"
   },
   {
    "duration": 23,
    "start_time": "2023-09-13T17:54:45.179Z"
   },
   {
    "duration": 21,
    "start_time": "2023-09-13T17:54:45.204Z"
   },
   {
    "duration": 32,
    "start_time": "2023-09-13T17:54:45.226Z"
   },
   {
    "duration": 62,
    "start_time": "2023-09-13T17:54:45.261Z"
   },
   {
    "duration": 3,
    "start_time": "2023-09-13T17:54:45.325Z"
   },
   {
    "duration": 51,
    "start_time": "2023-09-13T17:54:45.329Z"
   },
   {
    "duration": 13,
    "start_time": "2023-09-13T17:54:45.382Z"
   },
   {
    "duration": 34,
    "start_time": "2023-09-13T17:54:45.397Z"
   },
   {
    "duration": 24,
    "start_time": "2023-09-13T17:54:45.433Z"
   },
   {
    "duration": 72,
    "start_time": "2023-09-13T17:54:45.464Z"
   },
   {
    "duration": 14,
    "start_time": "2023-09-13T17:54:45.537Z"
   },
   {
    "duration": 34,
    "start_time": "2023-09-13T17:54:45.552Z"
   },
   {
    "duration": 77,
    "start_time": "2023-09-13T17:54:45.589Z"
   },
   {
    "duration": 35,
    "start_time": "2023-09-13T17:54:45.668Z"
   },
   {
    "duration": 25,
    "start_time": "2023-09-13T17:54:45.704Z"
   },
   {
    "duration": 28,
    "start_time": "2023-09-13T17:54:45.731Z"
   },
   {
    "duration": 37,
    "start_time": "2023-09-13T17:54:45.763Z"
   },
   {
    "duration": 39,
    "start_time": "2023-09-13T17:54:45.801Z"
   },
   {
    "duration": 25,
    "start_time": "2023-09-13T17:54:45.841Z"
   },
   {
    "duration": 52,
    "start_time": "2023-09-13T17:54:45.868Z"
   },
   {
    "duration": 52,
    "start_time": "2023-09-13T17:54:45.921Z"
   },
   {
    "duration": 2,
    "start_time": "2023-09-13T17:54:45.975Z"
   },
   {
    "duration": 16,
    "start_time": "2023-09-13T17:54:45.979Z"
   },
   {
    "duration": 49,
    "start_time": "2023-09-13T17:54:45.997Z"
   },
   {
    "duration": 144,
    "start_time": "2023-09-13T18:18:43.773Z"
   },
   {
    "duration": 175,
    "start_time": "2023-09-13T18:20:16.194Z"
   },
   {
    "duration": 94,
    "start_time": "2023-09-13T18:21:05.099Z"
   },
   {
    "duration": 497,
    "start_time": "2023-09-13T18:21:10.705Z"
   },
   {
    "duration": 23,
    "start_time": "2023-09-13T18:21:11.204Z"
   },
   {
    "duration": 48,
    "start_time": "2023-09-13T18:21:11.229Z"
   },
   {
    "duration": 10,
    "start_time": "2023-09-13T18:21:11.280Z"
   },
   {
    "duration": 45,
    "start_time": "2023-09-13T18:21:11.292Z"
   },
   {
    "duration": 3,
    "start_time": "2023-09-13T18:21:11.339Z"
   },
   {
    "duration": 37,
    "start_time": "2023-09-13T18:21:11.347Z"
   },
   {
    "duration": 30,
    "start_time": "2023-09-13T18:21:11.386Z"
   },
   {
    "duration": 14,
    "start_time": "2023-09-13T18:21:11.418Z"
   },
   {
    "duration": 36,
    "start_time": "2023-09-13T18:21:11.435Z"
   },
   {
    "duration": 56,
    "start_time": "2023-09-13T18:21:11.473Z"
   },
   {
    "duration": 9,
    "start_time": "2023-09-13T18:21:11.531Z"
   },
   {
    "duration": 11,
    "start_time": "2023-09-13T18:21:11.542Z"
   },
   {
    "duration": 43,
    "start_time": "2023-09-13T18:21:11.555Z"
   },
   {
    "duration": 40,
    "start_time": "2023-09-13T18:21:11.600Z"
   },
   {
    "duration": 34,
    "start_time": "2023-09-13T18:21:11.642Z"
   },
   {
    "duration": 3,
    "start_time": "2023-09-13T18:21:11.678Z"
   },
   {
    "duration": 36,
    "start_time": "2023-09-13T18:21:11.683Z"
   },
   {
    "duration": 34,
    "start_time": "2023-09-13T18:21:11.721Z"
   },
   {
    "duration": 7,
    "start_time": "2023-09-13T18:21:11.757Z"
   },
   {
    "duration": 23,
    "start_time": "2023-09-13T18:21:11.765Z"
   },
   {
    "duration": 40,
    "start_time": "2023-09-13T18:21:11.789Z"
   },
   {
    "duration": 170,
    "start_time": "2023-09-13T18:21:11.831Z"
   },
   {
    "duration": 0,
    "start_time": "2023-09-13T18:21:12.003Z"
   },
   {
    "duration": 0,
    "start_time": "2023-09-13T18:21:12.004Z"
   },
   {
    "duration": 0,
    "start_time": "2023-09-13T18:21:12.006Z"
   },
   {
    "duration": 12,
    "start_time": "2023-09-13T18:22:44.569Z"
   },
   {
    "duration": 4,
    "start_time": "2023-09-13T18:23:35.889Z"
   },
   {
    "duration": 5,
    "start_time": "2023-09-13T18:24:16.397Z"
   },
   {
    "duration": 4,
    "start_time": "2023-09-13T18:24:29.397Z"
   },
   {
    "duration": 5,
    "start_time": "2023-09-13T18:26:00.785Z"
   },
   {
    "duration": 7,
    "start_time": "2023-09-13T18:27:20.671Z"
   },
   {
    "duration": 5,
    "start_time": "2023-09-13T18:29:48.924Z"
   },
   {
    "duration": 7,
    "start_time": "2023-09-13T18:30:08.771Z"
   },
   {
    "duration": 583,
    "start_time": "2023-09-13T19:11:36.359Z"
   },
   {
    "duration": 29,
    "start_time": "2023-09-13T19:11:36.944Z"
   },
   {
    "duration": 14,
    "start_time": "2023-09-13T19:11:36.975Z"
   },
   {
    "duration": 12,
    "start_time": "2023-09-13T19:11:36.991Z"
   },
   {
    "duration": 68,
    "start_time": "2023-09-13T19:11:37.004Z"
   },
   {
    "duration": 3,
    "start_time": "2023-09-13T19:11:37.074Z"
   },
   {
    "duration": 10,
    "start_time": "2023-09-13T19:11:37.079Z"
   },
   {
    "duration": 4,
    "start_time": "2023-09-13T19:11:37.091Z"
   },
   {
    "duration": 12,
    "start_time": "2023-09-13T19:11:37.096Z"
   },
   {
    "duration": 7,
    "start_time": "2023-09-13T19:11:37.111Z"
   },
   {
    "duration": 67,
    "start_time": "2023-09-13T19:11:37.119Z"
   },
   {
    "duration": 11,
    "start_time": "2023-09-13T19:11:37.188Z"
   },
   {
    "duration": 17,
    "start_time": "2023-09-13T19:11:37.201Z"
   },
   {
    "duration": 13,
    "start_time": "2023-09-13T19:11:37.220Z"
   },
   {
    "duration": 29,
    "start_time": "2023-09-13T19:11:37.235Z"
   },
   {
    "duration": 16,
    "start_time": "2023-09-13T19:11:37.265Z"
   },
   {
    "duration": 3,
    "start_time": "2023-09-13T19:11:37.283Z"
   },
   {
    "duration": 14,
    "start_time": "2023-09-13T19:11:37.287Z"
   },
   {
    "duration": 5,
    "start_time": "2023-09-13T19:11:37.303Z"
   },
   {
    "duration": 7,
    "start_time": "2023-09-13T19:11:37.310Z"
   },
   {
    "duration": 15,
    "start_time": "2023-09-13T19:11:37.344Z"
   },
   {
    "duration": 25,
    "start_time": "2023-09-13T19:11:37.361Z"
   },
   {
    "duration": 5,
    "start_time": "2023-09-13T19:11:37.388Z"
   },
   {
    "duration": 8,
    "start_time": "2023-09-13T19:11:37.395Z"
   },
   {
    "duration": 5,
    "start_time": "2023-09-13T19:11:37.405Z"
   },
   {
    "duration": 5,
    "start_time": "2023-09-13T19:11:37.411Z"
   },
   {
    "duration": 100,
    "start_time": "2023-09-13T19:25:32.277Z"
   },
   {
    "duration": 19,
    "start_time": "2023-09-13T19:26:25.718Z"
   },
   {
    "duration": 24,
    "start_time": "2023-09-13T19:26:34.118Z"
   },
   {
    "duration": 29,
    "start_time": "2023-09-13T19:29:01.520Z"
   },
   {
    "duration": 27,
    "start_time": "2023-09-13T19:30:57.313Z"
   },
   {
    "duration": 19,
    "start_time": "2023-09-13T19:31:08.873Z"
   },
   {
    "duration": 570,
    "start_time": "2023-09-13T19:31:16.191Z"
   },
   {
    "duration": 31,
    "start_time": "2023-09-13T19:31:16.765Z"
   },
   {
    "duration": 24,
    "start_time": "2023-09-13T19:31:16.798Z"
   },
   {
    "duration": 34,
    "start_time": "2023-09-13T19:31:16.825Z"
   },
   {
    "duration": 72,
    "start_time": "2023-09-13T19:31:16.861Z"
   },
   {
    "duration": 5,
    "start_time": "2023-09-13T19:31:16.935Z"
   },
   {
    "duration": 45,
    "start_time": "2023-09-13T19:31:16.942Z"
   },
   {
    "duration": 31,
    "start_time": "2023-09-13T19:31:16.989Z"
   },
   {
    "duration": 29,
    "start_time": "2023-09-13T19:31:17.023Z"
   },
   {
    "duration": 49,
    "start_time": "2023-09-13T19:31:17.058Z"
   },
   {
    "duration": 84,
    "start_time": "2023-09-13T19:31:17.109Z"
   },
   {
    "duration": 17,
    "start_time": "2023-09-13T19:31:17.195Z"
   },
   {
    "duration": 33,
    "start_time": "2023-09-13T19:31:17.214Z"
   },
   {
    "duration": 38,
    "start_time": "2023-09-13T19:31:17.250Z"
   },
   {
    "duration": 81,
    "start_time": "2023-09-13T19:31:17.289Z"
   },
   {
    "duration": 26,
    "start_time": "2023-09-13T19:31:17.372Z"
   },
   {
    "duration": 7,
    "start_time": "2023-09-13T19:31:17.400Z"
   },
   {
    "duration": 33,
    "start_time": "2023-09-13T19:31:17.409Z"
   },
   {
    "duration": 20,
    "start_time": "2023-09-13T19:31:17.444Z"
   },
   {
    "duration": 46,
    "start_time": "2023-09-13T19:31:17.467Z"
   },
   {
    "duration": 47,
    "start_time": "2023-09-13T19:31:17.516Z"
   },
   {
    "duration": 37,
    "start_time": "2023-09-13T19:31:17.565Z"
   },
   {
    "duration": 23,
    "start_time": "2023-09-13T19:31:17.604Z"
   },
   {
    "duration": 57,
    "start_time": "2023-09-13T19:31:17.630Z"
   },
   {
    "duration": 2,
    "start_time": "2023-09-13T19:31:17.689Z"
   },
   {
    "duration": 16,
    "start_time": "2023-09-13T19:31:17.693Z"
   },
   {
    "duration": 446,
    "start_time": "2023-09-13T19:36:54.893Z"
   },
   {
    "duration": 28,
    "start_time": "2023-09-13T19:36:55.341Z"
   },
   {
    "duration": 14,
    "start_time": "2023-09-13T19:36:55.371Z"
   },
   {
    "duration": 22,
    "start_time": "2023-09-13T19:36:55.387Z"
   },
   {
    "duration": 59,
    "start_time": "2023-09-13T19:36:55.411Z"
   },
   {
    "duration": 4,
    "start_time": "2023-09-13T19:36:55.471Z"
   },
   {
    "duration": 13,
    "start_time": "2023-09-13T19:36:55.476Z"
   },
   {
    "duration": 4,
    "start_time": "2023-09-13T19:36:55.490Z"
   },
   {
    "duration": 9,
    "start_time": "2023-09-13T19:36:55.495Z"
   },
   {
    "duration": 16,
    "start_time": "2023-09-13T19:36:55.507Z"
   },
   {
    "duration": 55,
    "start_time": "2023-09-13T19:36:55.524Z"
   },
   {
    "duration": 10,
    "start_time": "2023-09-13T19:36:55.581Z"
   },
   {
    "duration": 4,
    "start_time": "2023-09-13T19:36:55.592Z"
   },
   {
    "duration": 13,
    "start_time": "2023-09-13T19:36:55.597Z"
   },
   {
    "duration": 37,
    "start_time": "2023-09-13T19:36:55.611Z"
   },
   {
    "duration": 23,
    "start_time": "2023-09-13T19:36:55.650Z"
   },
   {
    "duration": 4,
    "start_time": "2023-09-13T19:36:55.675Z"
   },
   {
    "duration": 25,
    "start_time": "2023-09-13T19:36:55.681Z"
   },
   {
    "duration": 23,
    "start_time": "2023-09-13T19:36:55.708Z"
   },
   {
    "duration": 11,
    "start_time": "2023-09-13T19:36:55.733Z"
   },
   {
    "duration": 19,
    "start_time": "2023-09-13T19:36:55.746Z"
   },
   {
    "duration": 29,
    "start_time": "2023-09-13T19:36:55.767Z"
   },
   {
    "duration": 6,
    "start_time": "2023-09-13T19:36:55.798Z"
   },
   {
    "duration": 33,
    "start_time": "2023-09-13T19:36:55.806Z"
   },
   {
    "duration": 3,
    "start_time": "2023-09-13T19:36:55.845Z"
   },
   {
    "duration": 12,
    "start_time": "2023-09-13T19:36:55.849Z"
   },
   {
    "duration": 690,
    "start_time": "2023-09-14T09:21:30.347Z"
   },
   {
    "duration": 22,
    "start_time": "2023-09-14T09:21:31.039Z"
   },
   {
    "duration": 43,
    "start_time": "2023-09-14T09:21:31.063Z"
   },
   {
    "duration": 39,
    "start_time": "2023-09-14T09:21:31.109Z"
   },
   {
    "duration": 110,
    "start_time": "2023-09-14T09:21:31.150Z"
   },
   {
    "duration": 28,
    "start_time": "2023-09-14T09:21:31.262Z"
   },
   {
    "duration": 49,
    "start_time": "2023-09-14T09:21:31.293Z"
   },
   {
    "duration": 27,
    "start_time": "2023-09-14T09:21:31.343Z"
   },
   {
    "duration": 37,
    "start_time": "2023-09-14T09:21:31.372Z"
   },
   {
    "duration": 35,
    "start_time": "2023-09-14T09:21:31.412Z"
   },
   {
    "duration": 75,
    "start_time": "2023-09-14T09:21:31.448Z"
   },
   {
    "duration": 10,
    "start_time": "2023-09-14T09:21:31.525Z"
   },
   {
    "duration": 39,
    "start_time": "2023-09-14T09:21:31.537Z"
   },
   {
    "duration": 39,
    "start_time": "2023-09-14T09:21:31.577Z"
   },
   {
    "duration": 42,
    "start_time": "2023-09-14T09:21:31.618Z"
   },
   {
    "duration": 49,
    "start_time": "2023-09-14T09:21:31.661Z"
   },
   {
    "duration": 8,
    "start_time": "2023-09-14T09:21:31.712Z"
   },
   {
    "duration": 57,
    "start_time": "2023-09-14T09:21:31.722Z"
   },
   {
    "duration": 46,
    "start_time": "2023-09-14T09:21:31.781Z"
   },
   {
    "duration": 21,
    "start_time": "2023-09-14T09:21:31.829Z"
   },
   {
    "duration": 53,
    "start_time": "2023-09-14T09:21:31.851Z"
   },
   {
    "duration": 39,
    "start_time": "2023-09-14T09:21:31.906Z"
   },
   {
    "duration": 6,
    "start_time": "2023-09-14T09:21:31.947Z"
   },
   {
    "duration": 54,
    "start_time": "2023-09-14T09:21:31.955Z"
   },
   {
    "duration": 10,
    "start_time": "2023-09-14T09:21:32.011Z"
   },
   {
    "duration": 13,
    "start_time": "2023-09-14T09:21:32.023Z"
   },
   {
    "duration": 8,
    "start_time": "2023-09-14T09:23:04.425Z"
   },
   {
    "duration": 9,
    "start_time": "2023-09-14T09:24:58.814Z"
   },
   {
    "duration": 2465,
    "start_time": "2023-09-14T09:28:43.176Z"
   },
   {
    "duration": 7,
    "start_time": "2023-09-14T09:29:00.634Z"
   },
   {
    "duration": 2599,
    "start_time": "2023-09-14T09:35:16.267Z"
   },
   {
    "duration": 479,
    "start_time": "2023-09-14T09:35:52.821Z"
   },
   {
    "duration": 23,
    "start_time": "2023-09-14T09:35:53.302Z"
   },
   {
    "duration": 17,
    "start_time": "2023-09-14T09:35:53.327Z"
   },
   {
    "duration": 15,
    "start_time": "2023-09-14T09:35:53.347Z"
   },
   {
    "duration": 72,
    "start_time": "2023-09-14T09:35:53.363Z"
   },
   {
    "duration": 4,
    "start_time": "2023-09-14T09:35:53.437Z"
   },
   {
    "duration": 12,
    "start_time": "2023-09-14T09:35:53.442Z"
   },
   {
    "duration": 31,
    "start_time": "2023-09-14T09:35:53.456Z"
   },
   {
    "duration": 8,
    "start_time": "2023-09-14T09:35:53.492Z"
   },
   {
    "duration": 5,
    "start_time": "2023-09-14T09:35:53.505Z"
   },
   {
    "duration": 38,
    "start_time": "2023-09-14T09:35:53.511Z"
   },
   {
    "duration": 40,
    "start_time": "2023-09-14T09:35:53.551Z"
   },
   {
    "duration": 4,
    "start_time": "2023-09-14T09:35:53.596Z"
   },
   {
    "duration": 39,
    "start_time": "2023-09-14T09:35:53.601Z"
   },
   {
    "duration": 34,
    "start_time": "2023-09-14T09:35:53.642Z"
   },
   {
    "duration": 28,
    "start_time": "2023-09-14T09:35:53.677Z"
   },
   {
    "duration": 4,
    "start_time": "2023-09-14T09:35:53.706Z"
   },
   {
    "duration": 12,
    "start_time": "2023-09-14T09:35:53.712Z"
   },
   {
    "duration": 9,
    "start_time": "2023-09-14T09:35:53.726Z"
   },
   {
    "duration": 5,
    "start_time": "2023-09-14T09:35:53.737Z"
   },
   {
    "duration": 48,
    "start_time": "2023-09-14T09:35:53.744Z"
   },
   {
    "duration": 32,
    "start_time": "2023-09-14T09:35:53.794Z"
   },
   {
    "duration": 8,
    "start_time": "2023-09-14T09:35:53.828Z"
   },
   {
    "duration": 42,
    "start_time": "2023-09-14T09:35:53.838Z"
   },
   {
    "duration": 14,
    "start_time": "2023-09-14T09:35:53.887Z"
   },
   {
    "duration": 2295,
    "start_time": "2023-09-14T09:35:53.903Z"
   },
   {
    "duration": 1,
    "start_time": "2023-09-14T09:35:56.200Z"
   },
   {
    "duration": 0,
    "start_time": "2023-09-14T09:35:56.202Z"
   },
   {
    "duration": 483,
    "start_time": "2023-09-14T09:40:57.731Z"
   },
   {
    "duration": 36,
    "start_time": "2023-09-14T09:40:58.217Z"
   },
   {
    "duration": 31,
    "start_time": "2023-09-14T09:40:58.255Z"
   },
   {
    "duration": 19,
    "start_time": "2023-09-14T09:40:58.293Z"
   },
   {
    "duration": 40,
    "start_time": "2023-09-14T09:40:58.314Z"
   },
   {
    "duration": 4,
    "start_time": "2023-09-14T09:40:58.356Z"
   },
   {
    "duration": 42,
    "start_time": "2023-09-14T09:40:58.361Z"
   },
   {
    "duration": 15,
    "start_time": "2023-09-14T09:40:58.405Z"
   },
   {
    "duration": 19,
    "start_time": "2023-09-14T09:40:58.422Z"
   },
   {
    "duration": 12,
    "start_time": "2023-09-14T09:40:58.445Z"
   },
   {
    "duration": 54,
    "start_time": "2023-09-14T09:40:58.458Z"
   },
   {
    "duration": 16,
    "start_time": "2023-09-14T09:40:58.514Z"
   },
   {
    "duration": 14,
    "start_time": "2023-09-14T09:40:58.532Z"
   },
   {
    "duration": 29,
    "start_time": "2023-09-14T09:40:58.548Z"
   },
   {
    "duration": 39,
    "start_time": "2023-09-14T09:40:58.579Z"
   },
   {
    "duration": 25,
    "start_time": "2023-09-14T09:40:58.620Z"
   },
   {
    "duration": 25,
    "start_time": "2023-09-14T09:40:58.647Z"
   },
   {
    "duration": 35,
    "start_time": "2023-09-14T09:40:58.674Z"
   },
   {
    "duration": 38,
    "start_time": "2023-09-14T09:40:58.711Z"
   },
   {
    "duration": 15,
    "start_time": "2023-09-14T09:40:58.751Z"
   },
   {
    "duration": 45,
    "start_time": "2023-09-14T09:40:58.767Z"
   },
   {
    "duration": 53,
    "start_time": "2023-09-14T09:40:58.814Z"
   },
   {
    "duration": 8,
    "start_time": "2023-09-14T09:40:58.869Z"
   },
   {
    "duration": 46,
    "start_time": "2023-09-14T09:40:58.880Z"
   },
   {
    "duration": 11,
    "start_time": "2023-09-14T09:40:58.928Z"
   },
   {
    "duration": 2563,
    "start_time": "2023-09-14T09:40:58.941Z"
   },
   {
    "duration": 0,
    "start_time": "2023-09-14T09:41:01.507Z"
   },
   {
    "duration": 0,
    "start_time": "2023-09-14T09:41:01.508Z"
   },
   {
    "duration": 2947,
    "start_time": "2023-09-14T09:42:13.577Z"
   },
   {
    "duration": 1799,
    "start_time": "2023-09-14T09:42:28.877Z"
   },
   {
    "duration": 519,
    "start_time": "2023-09-14T09:51:31.685Z"
   },
   {
    "duration": 28,
    "start_time": "2023-09-14T09:51:32.207Z"
   },
   {
    "duration": 54,
    "start_time": "2023-09-14T09:51:32.237Z"
   },
   {
    "duration": 21,
    "start_time": "2023-09-14T09:51:32.296Z"
   },
   {
    "duration": 76,
    "start_time": "2023-09-14T09:51:32.320Z"
   },
   {
    "duration": 5,
    "start_time": "2023-09-14T09:51:32.402Z"
   },
   {
    "duration": 32,
    "start_time": "2023-09-14T09:51:32.409Z"
   },
   {
    "duration": 38,
    "start_time": "2023-09-14T09:51:32.444Z"
   },
   {
    "duration": 68,
    "start_time": "2023-09-14T09:51:32.484Z"
   },
   {
    "duration": 58,
    "start_time": "2023-09-14T09:51:32.556Z"
   },
   {
    "duration": 92,
    "start_time": "2023-09-14T09:51:32.616Z"
   },
   {
    "duration": 10,
    "start_time": "2023-09-14T09:51:32.710Z"
   },
   {
    "duration": 25,
    "start_time": "2023-09-14T09:51:32.722Z"
   },
   {
    "duration": 57,
    "start_time": "2023-09-14T09:51:32.749Z"
   },
   {
    "duration": 51,
    "start_time": "2023-09-14T09:51:32.808Z"
   },
   {
    "duration": 48,
    "start_time": "2023-09-14T09:51:32.861Z"
   },
   {
    "duration": 42,
    "start_time": "2023-09-14T09:51:32.911Z"
   },
   {
    "duration": 51,
    "start_time": "2023-09-14T09:51:32.955Z"
   },
   {
    "duration": 49,
    "start_time": "2023-09-14T09:51:33.008Z"
   },
   {
    "duration": 35,
    "start_time": "2023-09-14T09:51:33.059Z"
   },
   {
    "duration": 65,
    "start_time": "2023-09-14T09:51:33.097Z"
   },
   {
    "duration": 104,
    "start_time": "2023-09-14T09:51:33.165Z"
   },
   {
    "duration": 23,
    "start_time": "2023-09-14T09:51:33.271Z"
   },
   {
    "duration": 68,
    "start_time": "2023-09-14T09:51:33.296Z"
   },
   {
    "duration": 1792,
    "start_time": "2023-09-14T09:51:33.366Z"
   },
   {
    "duration": 0,
    "start_time": "2023-09-14T09:51:35.161Z"
   },
   {
    "duration": 0,
    "start_time": "2023-09-14T09:51:35.163Z"
   },
   {
    "duration": 535,
    "start_time": "2023-09-14T09:55:04.365Z"
   },
   {
    "duration": 32,
    "start_time": "2023-09-14T09:55:04.905Z"
   },
   {
    "duration": 24,
    "start_time": "2023-09-14T09:55:04.940Z"
   },
   {
    "duration": 31,
    "start_time": "2023-09-14T09:55:04.966Z"
   },
   {
    "duration": 40,
    "start_time": "2023-09-14T09:55:04.999Z"
   },
   {
    "duration": 4,
    "start_time": "2023-09-14T09:55:05.041Z"
   },
   {
    "duration": 21,
    "start_time": "2023-09-14T09:55:05.047Z"
   },
   {
    "duration": 24,
    "start_time": "2023-09-14T09:55:05.069Z"
   },
   {
    "duration": 21,
    "start_time": "2023-09-14T09:55:05.097Z"
   },
   {
    "duration": 27,
    "start_time": "2023-09-14T09:55:05.119Z"
   },
   {
    "duration": 40,
    "start_time": "2023-09-14T09:55:05.147Z"
   },
   {
    "duration": 16,
    "start_time": "2023-09-14T09:55:05.191Z"
   },
   {
    "duration": 4,
    "start_time": "2023-09-14T09:55:05.209Z"
   },
   {
    "duration": 12,
    "start_time": "2023-09-14T09:55:05.215Z"
   },
   {
    "duration": 29,
    "start_time": "2023-09-14T09:55:05.228Z"
   },
   {
    "duration": 36,
    "start_time": "2023-09-14T09:55:05.259Z"
   },
   {
    "duration": 3,
    "start_time": "2023-09-14T09:55:05.297Z"
   },
   {
    "duration": 18,
    "start_time": "2023-09-14T09:55:05.302Z"
   },
   {
    "duration": 9,
    "start_time": "2023-09-14T09:55:05.321Z"
   },
   {
    "duration": 19,
    "start_time": "2023-09-14T09:55:05.332Z"
   },
   {
    "duration": 33,
    "start_time": "2023-09-14T09:55:05.353Z"
   },
   {
    "duration": 36,
    "start_time": "2023-09-14T09:55:05.388Z"
   },
   {
    "duration": 6,
    "start_time": "2023-09-14T09:55:05.426Z"
   },
   {
    "duration": 86,
    "start_time": "2023-09-14T09:55:05.434Z"
   },
   {
    "duration": 0,
    "start_time": "2023-09-14T09:55:05.521Z"
   },
   {
    "duration": 0,
    "start_time": "2023-09-14T09:55:05.522Z"
   },
   {
    "duration": 1,
    "start_time": "2023-09-14T09:55:05.523Z"
   },
   {
    "duration": 510,
    "start_time": "2023-09-14T09:55:53.052Z"
   },
   {
    "duration": 34,
    "start_time": "2023-09-14T09:55:53.564Z"
   },
   {
    "duration": 17,
    "start_time": "2023-09-14T09:55:53.599Z"
   },
   {
    "duration": 11,
    "start_time": "2023-09-14T09:55:53.618Z"
   },
   {
    "duration": 66,
    "start_time": "2023-09-14T09:55:53.631Z"
   },
   {
    "duration": 4,
    "start_time": "2023-09-14T09:55:53.699Z"
   },
   {
    "duration": 15,
    "start_time": "2023-09-14T09:55:53.704Z"
   },
   {
    "duration": 11,
    "start_time": "2023-09-14T09:55:53.720Z"
   },
   {
    "duration": 29,
    "start_time": "2023-09-14T09:55:53.732Z"
   },
   {
    "duration": 17,
    "start_time": "2023-09-14T09:55:53.762Z"
   },
   {
    "duration": 55,
    "start_time": "2023-09-14T09:55:53.780Z"
   },
   {
    "duration": 12,
    "start_time": "2023-09-14T09:55:53.837Z"
   },
   {
    "duration": 32,
    "start_time": "2023-09-14T09:55:53.850Z"
   },
   {
    "duration": 19,
    "start_time": "2023-09-14T09:55:53.895Z"
   },
   {
    "duration": 38,
    "start_time": "2023-09-14T09:55:53.916Z"
   },
   {
    "duration": 18,
    "start_time": "2023-09-14T09:55:53.955Z"
   },
   {
    "duration": 20,
    "start_time": "2023-09-14T09:55:53.975Z"
   },
   {
    "duration": 13,
    "start_time": "2023-09-14T09:55:53.997Z"
   },
   {
    "duration": 8,
    "start_time": "2023-09-14T09:55:54.012Z"
   },
   {
    "duration": 12,
    "start_time": "2023-09-14T09:55:54.022Z"
   },
   {
    "duration": 19,
    "start_time": "2023-09-14T09:55:54.035Z"
   },
   {
    "duration": 30,
    "start_time": "2023-09-14T09:55:54.056Z"
   },
   {
    "duration": 11,
    "start_time": "2023-09-14T09:55:54.088Z"
   },
   {
    "duration": 33,
    "start_time": "2023-09-14T09:55:54.101Z"
   },
   {
    "duration": 2188,
    "start_time": "2023-09-14T09:55:54.136Z"
   },
   {
    "duration": 0,
    "start_time": "2023-09-14T09:55:56.327Z"
   },
   {
    "duration": 0,
    "start_time": "2023-09-14T09:55:56.329Z"
   },
   {
    "duration": 2839,
    "start_time": "2023-09-14T10:00:50.031Z"
   },
   {
    "duration": 581,
    "start_time": "2023-09-14T10:01:06.374Z"
   },
   {
    "duration": 44,
    "start_time": "2023-09-14T10:01:06.958Z"
   },
   {
    "duration": 26,
    "start_time": "2023-09-14T10:01:07.009Z"
   },
   {
    "duration": 36,
    "start_time": "2023-09-14T10:01:07.037Z"
   },
   {
    "duration": 69,
    "start_time": "2023-09-14T10:01:07.076Z"
   },
   {
    "duration": 5,
    "start_time": "2023-09-14T10:01:07.148Z"
   },
   {
    "duration": 36,
    "start_time": "2023-09-14T10:01:07.156Z"
   },
   {
    "duration": 7,
    "start_time": "2023-09-14T10:01:07.194Z"
   },
   {
    "duration": 25,
    "start_time": "2023-09-14T10:01:07.202Z"
   },
   {
    "duration": 9,
    "start_time": "2023-09-14T10:01:07.230Z"
   },
   {
    "duration": 85,
    "start_time": "2023-09-14T10:01:07.241Z"
   },
   {
    "duration": 14,
    "start_time": "2023-09-14T10:01:07.329Z"
   },
   {
    "duration": 26,
    "start_time": "2023-09-14T10:01:07.346Z"
   },
   {
    "duration": 41,
    "start_time": "2023-09-14T10:01:07.375Z"
   },
   {
    "duration": 43,
    "start_time": "2023-09-14T10:01:07.417Z"
   },
   {
    "duration": 21,
    "start_time": "2023-09-14T10:01:07.462Z"
   },
   {
    "duration": 10,
    "start_time": "2023-09-14T10:01:07.491Z"
   },
   {
    "duration": 28,
    "start_time": "2023-09-14T10:01:07.503Z"
   },
   {
    "duration": 26,
    "start_time": "2023-09-14T10:01:07.533Z"
   },
   {
    "duration": 7,
    "start_time": "2023-09-14T10:01:07.561Z"
   },
   {
    "duration": 29,
    "start_time": "2023-09-14T10:01:07.570Z"
   },
   {
    "duration": 29,
    "start_time": "2023-09-14T10:01:07.601Z"
   },
   {
    "duration": 6,
    "start_time": "2023-09-14T10:01:07.632Z"
   },
   {
    "duration": 56,
    "start_time": "2023-09-14T10:01:07.640Z"
   },
   {
    "duration": 3244,
    "start_time": "2023-09-14T10:01:07.700Z"
   },
   {
    "duration": 0,
    "start_time": "2023-09-14T10:01:10.946Z"
   },
   {
    "duration": 0,
    "start_time": "2023-09-14T10:01:10.947Z"
   },
   {
    "duration": 22,
    "start_time": "2023-09-14T10:05:08.730Z"
   },
   {
    "duration": 3001,
    "start_time": "2023-09-14T10:05:41.370Z"
   },
   {
    "duration": 546,
    "start_time": "2023-09-14T10:05:50.424Z"
   },
   {
    "duration": 34,
    "start_time": "2023-09-14T10:05:50.972Z"
   },
   {
    "duration": 25,
    "start_time": "2023-09-14T10:05:51.008Z"
   },
   {
    "duration": 12,
    "start_time": "2023-09-14T10:05:51.036Z"
   },
   {
    "duration": 84,
    "start_time": "2023-09-14T10:05:51.050Z"
   },
   {
    "duration": 4,
    "start_time": "2023-09-14T10:05:51.136Z"
   },
   {
    "duration": 29,
    "start_time": "2023-09-14T10:05:51.142Z"
   },
   {
    "duration": 21,
    "start_time": "2023-09-14T10:05:51.173Z"
   },
   {
    "duration": 18,
    "start_time": "2023-09-14T10:05:51.197Z"
   },
   {
    "duration": 11,
    "start_time": "2023-09-14T10:05:51.221Z"
   },
   {
    "duration": 67,
    "start_time": "2023-09-14T10:05:51.234Z"
   },
   {
    "duration": 20,
    "start_time": "2023-09-14T10:05:51.303Z"
   },
   {
    "duration": 20,
    "start_time": "2023-09-14T10:05:51.325Z"
   },
   {
    "duration": 19,
    "start_time": "2023-09-14T10:05:51.346Z"
   },
   {
    "duration": 54,
    "start_time": "2023-09-14T10:05:51.368Z"
   },
   {
    "duration": 25,
    "start_time": "2023-09-14T10:05:51.698Z"
   },
   {
    "duration": 4,
    "start_time": "2023-09-14T10:05:51.725Z"
   },
   {
    "duration": 11,
    "start_time": "2023-09-14T10:05:52.650Z"
   },
   {
    "duration": 37,
    "start_time": "2023-09-14T10:05:52.663Z"
   },
   {
    "duration": 4,
    "start_time": "2023-09-14T10:05:52.734Z"
   },
   {
    "duration": 64,
    "start_time": "2023-09-14T10:05:52.740Z"
   },
   {
    "duration": 39,
    "start_time": "2023-09-14T10:05:52.806Z"
   },
   {
    "duration": 7,
    "start_time": "2023-09-14T10:05:52.869Z"
   },
   {
    "duration": 29,
    "start_time": "2023-09-14T10:05:52.949Z"
   },
   {
    "duration": 96,
    "start_time": "2023-09-14T10:05:52.980Z"
   },
   {
    "duration": 0,
    "start_time": "2023-09-14T10:05:53.078Z"
   },
   {
    "duration": 0,
    "start_time": "2023-09-14T10:05:53.080Z"
   },
   {
    "duration": 3731,
    "start_time": "2023-09-14T10:08:22.336Z"
   },
   {
    "duration": 3822,
    "start_time": "2023-09-14T10:11:16.884Z"
   },
   {
    "duration": 4415,
    "start_time": "2023-09-14T10:13:19.436Z"
   },
   {
    "duration": 570,
    "start_time": "2023-09-14T10:13:28.720Z"
   },
   {
    "duration": 33,
    "start_time": "2023-09-14T10:13:29.293Z"
   },
   {
    "duration": 20,
    "start_time": "2023-09-14T10:13:29.328Z"
   },
   {
    "duration": 11,
    "start_time": "2023-09-14T10:13:29.351Z"
   },
   {
    "duration": 79,
    "start_time": "2023-09-14T10:13:29.363Z"
   },
   {
    "duration": 3,
    "start_time": "2023-09-14T10:13:29.444Z"
   },
   {
    "duration": 22,
    "start_time": "2023-09-14T10:13:29.449Z"
   },
   {
    "duration": 8,
    "start_time": "2023-09-14T10:13:29.473Z"
   },
   {
    "duration": 19,
    "start_time": "2023-09-14T10:13:29.482Z"
   },
   {
    "duration": 8,
    "start_time": "2023-09-14T10:13:29.505Z"
   },
   {
    "duration": 54,
    "start_time": "2023-09-14T10:13:29.520Z"
   },
   {
    "duration": 21,
    "start_time": "2023-09-14T10:13:29.576Z"
   },
   {
    "duration": 7,
    "start_time": "2023-09-14T10:13:29.599Z"
   },
   {
    "duration": 27,
    "start_time": "2023-09-14T10:13:29.608Z"
   },
   {
    "duration": 48,
    "start_time": "2023-09-14T10:13:29.637Z"
   },
   {
    "duration": 36,
    "start_time": "2023-09-14T10:13:29.688Z"
   },
   {
    "duration": 5,
    "start_time": "2023-09-14T10:13:29.726Z"
   },
   {
    "duration": 25,
    "start_time": "2023-09-14T10:13:30.172Z"
   },
   {
    "duration": 22,
    "start_time": "2023-09-14T10:13:30.202Z"
   },
   {
    "duration": 6,
    "start_time": "2023-09-14T10:13:30.337Z"
   },
   {
    "duration": 68,
    "start_time": "2023-09-14T10:13:30.345Z"
   },
   {
    "duration": 38,
    "start_time": "2023-09-14T10:13:30.476Z"
   },
   {
    "duration": 9,
    "start_time": "2023-09-14T10:13:30.551Z"
   },
   {
    "duration": 87,
    "start_time": "2023-09-14T10:13:30.628Z"
   },
   {
    "duration": 3933,
    "start_time": "2023-09-14T10:13:30.718Z"
   },
   {
    "duration": 0,
    "start_time": "2023-09-14T10:13:34.653Z"
   },
   {
    "duration": 0,
    "start_time": "2023-09-14T10:13:34.654Z"
   },
   {
    "duration": 631,
    "start_time": "2023-09-14T10:16:56.431Z"
   },
   {
    "duration": 35,
    "start_time": "2023-09-14T10:16:57.066Z"
   },
   {
    "duration": 24,
    "start_time": "2023-09-14T10:16:57.103Z"
   },
   {
    "duration": 18,
    "start_time": "2023-09-14T10:16:57.129Z"
   },
   {
    "duration": 81,
    "start_time": "2023-09-14T10:16:57.151Z"
   },
   {
    "duration": 6,
    "start_time": "2023-09-14T10:16:57.237Z"
   },
   {
    "duration": 31,
    "start_time": "2023-09-14T10:16:57.248Z"
   },
   {
    "duration": 7,
    "start_time": "2023-09-14T10:16:57.282Z"
   },
   {
    "duration": 28,
    "start_time": "2023-09-14T10:16:57.291Z"
   },
   {
    "duration": 13,
    "start_time": "2023-09-14T10:16:57.322Z"
   },
   {
    "duration": 87,
    "start_time": "2023-09-14T10:16:57.337Z"
   },
   {
    "duration": 17,
    "start_time": "2023-09-14T10:16:57.427Z"
   },
   {
    "duration": 4,
    "start_time": "2023-09-14T10:16:57.446Z"
   },
   {
    "duration": 13,
    "start_time": "2023-09-14T10:16:57.454Z"
   },
   {
    "duration": 50,
    "start_time": "2023-09-14T10:16:57.469Z"
   },
   {
    "duration": 29,
    "start_time": "2023-09-14T10:16:57.522Z"
   },
   {
    "duration": 5,
    "start_time": "2023-09-14T10:16:57.554Z"
   },
   {
    "duration": 30,
    "start_time": "2023-09-14T10:16:57.561Z"
   },
   {
    "duration": 15,
    "start_time": "2023-09-14T10:16:57.593Z"
   },
   {
    "duration": 6,
    "start_time": "2023-09-14T10:16:57.610Z"
   },
   {
    "duration": 28,
    "start_time": "2023-09-14T10:16:57.618Z"
   },
   {
    "duration": 24,
    "start_time": "2023-09-14T10:16:57.649Z"
   },
   {
    "duration": 17,
    "start_time": "2023-09-14T10:16:58.410Z"
   },
   {
    "duration": 38,
    "start_time": "2023-09-14T10:16:58.518Z"
   },
   {
    "duration": 15,
    "start_time": "2023-09-14T10:16:58.559Z"
   },
   {
    "duration": 10,
    "start_time": "2023-09-14T10:16:58.576Z"
   },
   {
    "duration": 33,
    "start_time": "2023-09-14T10:16:58.588Z"
   },
   {
    "duration": 1261,
    "start_time": "2023-09-14T10:26:49.628Z"
   },
   {
    "duration": 15,
    "start_time": "2023-09-14T10:27:03.001Z"
   },
   {
    "duration": 182,
    "start_time": "2023-09-14T10:27:20.730Z"
   },
   {
    "duration": 135,
    "start_time": "2023-09-14T10:28:50.633Z"
   },
   {
    "duration": 22,
    "start_time": "2023-09-14T10:31:06.812Z"
   },
   {
    "duration": 191,
    "start_time": "2023-09-14T10:31:18.204Z"
   },
   {
    "duration": 542,
    "start_time": "2023-09-14T11:01:42.209Z"
   },
   {
    "duration": 23,
    "start_time": "2023-09-14T11:01:42.753Z"
   },
   {
    "duration": 24,
    "start_time": "2023-09-14T11:01:42.778Z"
   },
   {
    "duration": 18,
    "start_time": "2023-09-14T11:01:42.804Z"
   },
   {
    "duration": 43,
    "start_time": "2023-09-14T11:01:42.824Z"
   },
   {
    "duration": 5,
    "start_time": "2023-09-14T11:01:42.882Z"
   },
   {
    "duration": 14,
    "start_time": "2023-09-14T11:01:42.889Z"
   },
   {
    "duration": 12,
    "start_time": "2023-09-14T11:01:42.905Z"
   },
   {
    "duration": 10,
    "start_time": "2023-09-14T11:01:42.919Z"
   },
   {
    "duration": 12,
    "start_time": "2023-09-14T11:01:42.931Z"
   },
   {
    "duration": 67,
    "start_time": "2023-09-14T11:01:42.944Z"
   },
   {
    "duration": 19,
    "start_time": "2023-09-14T11:01:43.014Z"
   },
   {
    "duration": 5,
    "start_time": "2023-09-14T11:01:43.035Z"
   },
   {
    "duration": 48,
    "start_time": "2023-09-14T11:01:43.044Z"
   },
   {
    "duration": 30,
    "start_time": "2023-09-14T11:01:43.094Z"
   },
   {
    "duration": 17,
    "start_time": "2023-09-14T11:01:43.126Z"
   },
   {
    "duration": 4,
    "start_time": "2023-09-14T11:01:43.144Z"
   },
   {
    "duration": 30,
    "start_time": "2023-09-14T11:01:43.149Z"
   },
   {
    "duration": 23,
    "start_time": "2023-09-14T11:01:43.180Z"
   },
   {
    "duration": 4,
    "start_time": "2023-09-14T11:01:43.206Z"
   },
   {
    "duration": 18,
    "start_time": "2023-09-14T11:01:43.217Z"
   },
   {
    "duration": 41,
    "start_time": "2023-09-14T11:01:43.237Z"
   },
   {
    "duration": 8,
    "start_time": "2023-09-14T11:01:43.281Z"
   },
   {
    "duration": 32,
    "start_time": "2023-09-14T11:01:43.291Z"
   },
   {
    "duration": 10,
    "start_time": "2023-09-14T11:01:43.325Z"
   },
   {
    "duration": 1067,
    "start_time": "2023-09-14T11:01:43.337Z"
   },
   {
    "duration": 32,
    "start_time": "2023-09-14T11:01:44.407Z"
   },
   {
    "duration": 2,
    "start_time": "2023-09-14T11:01:44.441Z"
   },
   {
    "duration": 26,
    "start_time": "2023-09-14T11:02:24.460Z"
   },
   {
    "duration": 9,
    "start_time": "2023-09-14T11:04:01.069Z"
   },
   {
    "duration": 1544,
    "start_time": "2023-09-14T13:20:34.460Z"
   },
   {
    "duration": 11,
    "start_time": "2023-09-14T13:21:19.920Z"
   },
   {
    "duration": 154,
    "start_time": "2023-09-14T13:21:37.065Z"
   },
   {
    "duration": 136,
    "start_time": "2023-09-14T13:23:00.623Z"
   },
   {
    "duration": 1098,
    "start_time": "2023-09-14T13:25:49.597Z"
   },
   {
    "duration": 25,
    "start_time": "2023-09-14T13:25:50.698Z"
   },
   {
    "duration": 36,
    "start_time": "2023-09-14T13:25:50.725Z"
   },
   {
    "duration": 41,
    "start_time": "2023-09-14T13:25:50.763Z"
   },
   {
    "duration": 55,
    "start_time": "2023-09-14T13:25:50.806Z"
   },
   {
    "duration": 4,
    "start_time": "2023-09-14T13:25:50.863Z"
   },
   {
    "duration": 53,
    "start_time": "2023-09-14T13:25:50.869Z"
   },
   {
    "duration": 44,
    "start_time": "2023-09-14T13:25:50.924Z"
   },
   {
    "duration": 49,
    "start_time": "2023-09-14T13:25:50.970Z"
   },
   {
    "duration": 20,
    "start_time": "2023-09-14T13:25:51.022Z"
   },
   {
    "duration": 67,
    "start_time": "2023-09-14T13:25:51.044Z"
   },
   {
    "duration": 21,
    "start_time": "2023-09-14T13:25:51.112Z"
   },
   {
    "duration": 19,
    "start_time": "2023-09-14T13:25:51.134Z"
   },
   {
    "duration": 48,
    "start_time": "2023-09-14T13:25:51.154Z"
   },
   {
    "duration": 36,
    "start_time": "2023-09-14T13:25:51.204Z"
   },
   {
    "duration": 27,
    "start_time": "2023-09-14T13:25:51.242Z"
   },
   {
    "duration": 4,
    "start_time": "2023-09-14T13:25:51.270Z"
   },
   {
    "duration": 40,
    "start_time": "2023-09-14T13:25:51.276Z"
   },
   {
    "duration": 19,
    "start_time": "2023-09-14T13:25:51.318Z"
   },
   {
    "duration": 34,
    "start_time": "2023-09-14T13:25:51.340Z"
   },
   {
    "duration": 33,
    "start_time": "2023-09-14T13:25:51.376Z"
   },
   {
    "duration": 48,
    "start_time": "2023-09-14T13:25:51.411Z"
   },
   {
    "duration": 15,
    "start_time": "2023-09-14T13:25:51.461Z"
   },
   {
    "duration": 39,
    "start_time": "2023-09-14T13:25:51.478Z"
   },
   {
    "duration": 19,
    "start_time": "2023-09-14T13:25:51.519Z"
   },
   {
    "duration": 1087,
    "start_time": "2023-09-14T13:25:51.540Z"
   },
   {
    "duration": 25,
    "start_time": "2023-09-14T13:25:52.629Z"
   },
   {
    "duration": 41,
    "start_time": "2023-09-14T13:25:52.658Z"
   },
   {
    "duration": 166,
    "start_time": "2023-09-14T13:25:52.701Z"
   },
   {
    "duration": 2,
    "start_time": "2023-09-14T13:25:52.869Z"
   },
   {
    "duration": 132,
    "start_time": "2023-09-14T13:43:42.078Z"
   },
   {
    "duration": 28,
    "start_time": "2023-09-14T13:43:45.480Z"
   },
   {
    "duration": 16,
    "start_time": "2023-09-14T13:44:13.280Z"
   },
   {
    "duration": 135,
    "start_time": "2023-09-14T13:47:59.177Z"
   },
   {
    "duration": 463,
    "start_time": "2023-09-14T13:48:09.830Z"
   },
   {
    "duration": 25,
    "start_time": "2023-09-14T13:48:10.295Z"
   },
   {
    "duration": 53,
    "start_time": "2023-09-14T13:48:10.322Z"
   },
   {
    "duration": 46,
    "start_time": "2023-09-14T13:48:10.377Z"
   },
   {
    "duration": 66,
    "start_time": "2023-09-14T13:48:10.426Z"
   },
   {
    "duration": 4,
    "start_time": "2023-09-14T13:48:10.494Z"
   },
   {
    "duration": 30,
    "start_time": "2023-09-14T13:48:10.500Z"
   },
   {
    "duration": 21,
    "start_time": "2023-09-14T13:48:10.531Z"
   },
   {
    "duration": 20,
    "start_time": "2023-09-14T13:48:10.553Z"
   },
   {
    "duration": 34,
    "start_time": "2023-09-14T13:48:10.575Z"
   },
   {
    "duration": 81,
    "start_time": "2023-09-14T13:48:10.611Z"
   },
   {
    "duration": 12,
    "start_time": "2023-09-14T13:48:10.695Z"
   },
   {
    "duration": 26,
    "start_time": "2023-09-14T13:48:10.709Z"
   },
   {
    "duration": 65,
    "start_time": "2023-09-14T13:48:10.738Z"
   },
   {
    "duration": 51,
    "start_time": "2023-09-14T13:48:10.805Z"
   },
   {
    "duration": 56,
    "start_time": "2023-09-14T13:48:10.858Z"
   },
   {
    "duration": 18,
    "start_time": "2023-09-14T13:48:10.916Z"
   },
   {
    "duration": 99,
    "start_time": "2023-09-14T13:48:10.935Z"
   },
   {
    "duration": 29,
    "start_time": "2023-09-14T13:48:11.036Z"
   },
   {
    "duration": 43,
    "start_time": "2023-09-14T13:48:11.067Z"
   },
   {
    "duration": 32,
    "start_time": "2023-09-14T13:48:11.112Z"
   },
   {
    "duration": 77,
    "start_time": "2023-09-14T13:48:11.146Z"
   },
   {
    "duration": 5,
    "start_time": "2023-09-14T13:48:11.225Z"
   },
   {
    "duration": 61,
    "start_time": "2023-09-14T13:48:11.232Z"
   },
   {
    "duration": 11,
    "start_time": "2023-09-14T13:48:11.295Z"
   },
   {
    "duration": 1021,
    "start_time": "2023-09-14T13:48:11.308Z"
   },
   {
    "duration": 21,
    "start_time": "2023-09-14T13:48:12.331Z"
   },
   {
    "duration": 21,
    "start_time": "2023-09-14T13:48:12.354Z"
   },
   {
    "duration": 158,
    "start_time": "2023-09-14T13:48:12.376Z"
   },
   {
    "duration": 21,
    "start_time": "2023-09-14T13:48:12.536Z"
   },
   {
    "duration": 39,
    "start_time": "2023-09-14T13:48:12.559Z"
   },
   {
    "duration": 132,
    "start_time": "2023-09-14T13:48:12.600Z"
   },
   {
    "duration": 495,
    "start_time": "2023-09-14T14:36:47.430Z"
   },
   {
    "duration": 23,
    "start_time": "2023-09-14T14:36:47.927Z"
   },
   {
    "duration": 40,
    "start_time": "2023-09-14T14:36:47.951Z"
   },
   {
    "duration": 12,
    "start_time": "2023-09-14T14:36:47.995Z"
   },
   {
    "duration": 39,
    "start_time": "2023-09-14T14:36:48.009Z"
   },
   {
    "duration": 4,
    "start_time": "2023-09-14T14:36:48.049Z"
   },
   {
    "duration": 15,
    "start_time": "2023-09-14T14:36:48.054Z"
   },
   {
    "duration": 22,
    "start_time": "2023-09-14T14:36:48.071Z"
   },
   {
    "duration": 7,
    "start_time": "2023-09-14T14:36:48.095Z"
   },
   {
    "duration": 5,
    "start_time": "2023-09-14T14:36:48.104Z"
   },
   {
    "duration": 41,
    "start_time": "2023-09-14T14:36:48.111Z"
   },
   {
    "duration": 33,
    "start_time": "2023-09-14T14:36:48.154Z"
   },
   {
    "duration": 5,
    "start_time": "2023-09-14T14:36:48.189Z"
   },
   {
    "duration": 28,
    "start_time": "2023-09-14T14:36:48.197Z"
   },
   {
    "duration": 23,
    "start_time": "2023-09-14T14:36:48.227Z"
   },
   {
    "duration": 18,
    "start_time": "2023-09-14T14:36:48.251Z"
   },
   {
    "duration": 21,
    "start_time": "2023-09-14T14:36:48.271Z"
   },
   {
    "duration": 15,
    "start_time": "2023-09-14T14:36:48.295Z"
   },
   {
    "duration": 17,
    "start_time": "2023-09-14T14:36:48.312Z"
   },
   {
    "duration": 7,
    "start_time": "2023-09-14T14:36:48.331Z"
   },
   {
    "duration": 12,
    "start_time": "2023-09-14T14:36:48.339Z"
   },
   {
    "duration": 39,
    "start_time": "2023-09-14T14:36:48.353Z"
   },
   {
    "duration": 7,
    "start_time": "2023-09-14T14:36:48.394Z"
   },
   {
    "duration": 36,
    "start_time": "2023-09-14T14:36:48.403Z"
   },
   {
    "duration": 7,
    "start_time": "2023-09-14T14:36:48.441Z"
   },
   {
    "duration": 992,
    "start_time": "2023-09-14T14:36:48.450Z"
   },
   {
    "duration": 23,
    "start_time": "2023-09-14T14:36:49.444Z"
   },
   {
    "duration": 28,
    "start_time": "2023-09-14T14:36:49.468Z"
   },
   {
    "duration": 148,
    "start_time": "2023-09-14T14:36:49.498Z"
   },
   {
    "duration": 23,
    "start_time": "2023-09-14T14:36:49.648Z"
   },
   {
    "duration": 23,
    "start_time": "2023-09-14T14:36:49.673Z"
   },
   {
    "duration": 141,
    "start_time": "2023-09-14T14:36:49.697Z"
   },
   {
    "duration": 16,
    "start_time": "2023-09-14T15:08:39.596Z"
   },
   {
    "duration": 1102,
    "start_time": "2023-09-14T19:59:04.725Z"
   },
   {
    "duration": 22,
    "start_time": "2023-09-14T19:59:05.829Z"
   },
   {
    "duration": 18,
    "start_time": "2023-09-14T19:59:05.855Z"
   },
   {
    "duration": 13,
    "start_time": "2023-09-14T19:59:05.874Z"
   },
   {
    "duration": 38,
    "start_time": "2023-09-14T19:59:05.889Z"
   },
   {
    "duration": 16,
    "start_time": "2023-09-14T19:59:05.928Z"
   },
   {
    "duration": 11,
    "start_time": "2023-09-14T19:59:05.946Z"
   },
   {
    "duration": 26,
    "start_time": "2023-09-14T19:59:05.960Z"
   },
   {
    "duration": 12,
    "start_time": "2023-09-14T19:59:05.988Z"
   },
   {
    "duration": 6,
    "start_time": "2023-09-14T19:59:06.001Z"
   },
   {
    "duration": 52,
    "start_time": "2023-09-14T19:59:06.008Z"
   },
   {
    "duration": 11,
    "start_time": "2023-09-14T19:59:06.061Z"
   },
   {
    "duration": 12,
    "start_time": "2023-09-14T19:59:06.074Z"
   },
   {
    "duration": 17,
    "start_time": "2023-09-14T19:59:06.089Z"
   },
   {
    "duration": 24,
    "start_time": "2023-09-14T19:59:06.107Z"
   },
   {
    "duration": 34,
    "start_time": "2023-09-14T19:59:06.133Z"
   },
   {
    "duration": 3,
    "start_time": "2023-09-14T19:59:06.169Z"
   },
   {
    "duration": 23,
    "start_time": "2023-09-14T19:59:06.174Z"
   },
   {
    "duration": 13,
    "start_time": "2023-09-14T19:59:06.199Z"
   },
   {
    "duration": 17,
    "start_time": "2023-09-14T19:59:06.213Z"
   },
   {
    "duration": 30,
    "start_time": "2023-09-14T19:59:06.231Z"
   },
   {
    "duration": 46,
    "start_time": "2023-09-14T19:59:06.263Z"
   },
   {
    "duration": 6,
    "start_time": "2023-09-14T19:59:06.310Z"
   },
   {
    "duration": 43,
    "start_time": "2023-09-14T19:59:06.318Z"
   },
   {
    "duration": 8,
    "start_time": "2023-09-14T19:59:06.363Z"
   },
   {
    "duration": 1057,
    "start_time": "2023-09-14T19:59:06.372Z"
   },
   {
    "duration": 26,
    "start_time": "2023-09-14T19:59:07.431Z"
   },
   {
    "duration": 8,
    "start_time": "2023-09-14T19:59:07.459Z"
   },
   {
    "duration": 133,
    "start_time": "2023-09-14T19:59:07.469Z"
   },
   {
    "duration": 19,
    "start_time": "2023-09-14T19:59:07.604Z"
   },
   {
    "duration": 26,
    "start_time": "2023-09-14T19:59:07.624Z"
   },
   {
    "duration": 134,
    "start_time": "2023-09-14T19:59:07.652Z"
   },
   {
    "duration": 463,
    "start_time": "2023-09-14T20:00:28.367Z"
   },
   {
    "duration": 28,
    "start_time": "2023-09-14T20:00:28.832Z"
   },
   {
    "duration": 15,
    "start_time": "2023-09-14T20:00:28.861Z"
   },
   {
    "duration": 17,
    "start_time": "2023-09-14T20:00:28.878Z"
   },
   {
    "duration": 39,
    "start_time": "2023-09-14T20:00:28.897Z"
   },
   {
    "duration": 6,
    "start_time": "2023-09-14T20:00:28.938Z"
   },
   {
    "duration": 31,
    "start_time": "2023-09-14T20:00:28.946Z"
   },
   {
    "duration": 17,
    "start_time": "2023-09-14T20:00:28.978Z"
   },
   {
    "duration": 24,
    "start_time": "2023-09-14T20:00:28.996Z"
   },
   {
    "duration": 24,
    "start_time": "2023-09-14T20:00:29.024Z"
   },
   {
    "duration": 46,
    "start_time": "2023-09-14T20:00:29.050Z"
   },
   {
    "duration": 9,
    "start_time": "2023-09-14T20:00:29.098Z"
   },
   {
    "duration": 23,
    "start_time": "2023-09-14T20:00:29.108Z"
   },
   {
    "duration": 33,
    "start_time": "2023-09-14T20:00:29.133Z"
   },
   {
    "duration": 38,
    "start_time": "2023-09-14T20:00:29.167Z"
   },
   {
    "duration": 30,
    "start_time": "2023-09-14T20:00:29.207Z"
   },
   {
    "duration": 18,
    "start_time": "2023-09-14T20:00:29.239Z"
   },
   {
    "duration": 29,
    "start_time": "2023-09-14T20:00:29.259Z"
   },
   {
    "duration": 21,
    "start_time": "2023-09-14T20:00:29.289Z"
   },
   {
    "duration": 21,
    "start_time": "2023-09-14T20:00:29.311Z"
   },
   {
    "duration": 24,
    "start_time": "2023-09-14T20:00:29.333Z"
   },
   {
    "duration": 27,
    "start_time": "2023-09-14T20:00:29.359Z"
   },
   {
    "duration": 7,
    "start_time": "2023-09-14T20:00:29.388Z"
   },
   {
    "duration": 67,
    "start_time": "2023-09-14T20:00:29.397Z"
   },
   {
    "duration": 9,
    "start_time": "2023-09-14T20:00:29.466Z"
   },
   {
    "duration": 885,
    "start_time": "2023-09-14T20:00:29.476Z"
   },
   {
    "duration": 20,
    "start_time": "2023-09-14T20:00:30.363Z"
   },
   {
    "duration": 45,
    "start_time": "2023-09-14T20:00:30.386Z"
   },
   {
    "duration": 186,
    "start_time": "2023-09-14T20:00:30.433Z"
   },
   {
    "duration": 34,
    "start_time": "2023-09-14T20:00:30.621Z"
   },
   {
    "duration": 19,
    "start_time": "2023-09-14T20:00:30.657Z"
   },
   {
    "duration": 185,
    "start_time": "2023-09-14T20:00:30.677Z"
   },
   {
    "duration": 835,
    "start_time": "2023-09-15T06:45:19.644Z"
   },
   {
    "duration": 25,
    "start_time": "2023-09-15T06:45:20.482Z"
   },
   {
    "duration": 27,
    "start_time": "2023-09-15T06:45:20.509Z"
   },
   {
    "duration": 36,
    "start_time": "2023-09-15T06:45:20.538Z"
   },
   {
    "duration": 56,
    "start_time": "2023-09-15T06:45:20.577Z"
   },
   {
    "duration": 3,
    "start_time": "2023-09-15T06:45:20.635Z"
   },
   {
    "duration": 30,
    "start_time": "2023-09-15T06:45:20.639Z"
   },
   {
    "duration": 43,
    "start_time": "2023-09-15T06:45:20.670Z"
   },
   {
    "duration": 37,
    "start_time": "2023-09-15T06:45:20.715Z"
   },
   {
    "duration": 30,
    "start_time": "2023-09-15T06:45:20.754Z"
   },
   {
    "duration": 83,
    "start_time": "2023-09-15T06:45:20.786Z"
   },
   {
    "duration": 11,
    "start_time": "2023-09-15T06:45:20.872Z"
   },
   {
    "duration": 25,
    "start_time": "2023-09-15T06:45:20.884Z"
   },
   {
    "duration": 27,
    "start_time": "2023-09-15T06:45:20.912Z"
   },
   {
    "duration": 65,
    "start_time": "2023-09-15T06:45:20.941Z"
   },
   {
    "duration": 44,
    "start_time": "2023-09-15T06:45:21.007Z"
   },
   {
    "duration": 10,
    "start_time": "2023-09-15T06:45:21.053Z"
   },
   {
    "duration": 40,
    "start_time": "2023-09-15T06:45:21.067Z"
   },
   {
    "duration": 15,
    "start_time": "2023-09-15T06:45:21.109Z"
   },
   {
    "duration": 24,
    "start_time": "2023-09-15T06:45:21.125Z"
   },
   {
    "duration": 57,
    "start_time": "2023-09-15T06:45:21.151Z"
   },
   {
    "duration": 45,
    "start_time": "2023-09-15T06:45:21.210Z"
   },
   {
    "duration": 10,
    "start_time": "2023-09-15T06:45:21.258Z"
   },
   {
    "duration": 56,
    "start_time": "2023-09-15T06:45:21.270Z"
   },
   {
    "duration": 14,
    "start_time": "2023-09-15T06:45:21.327Z"
   },
   {
    "duration": 1291,
    "start_time": "2023-09-15T06:45:21.343Z"
   },
   {
    "duration": 32,
    "start_time": "2023-09-15T06:45:22.636Z"
   },
   {
    "duration": 8,
    "start_time": "2023-09-15T06:45:22.670Z"
   },
   {
    "duration": 155,
    "start_time": "2023-09-15T06:45:22.680Z"
   },
   {
    "duration": 29,
    "start_time": "2023-09-15T06:45:22.846Z"
   },
   {
    "duration": 9,
    "start_time": "2023-09-15T06:45:22.877Z"
   },
   {
    "duration": 162,
    "start_time": "2023-09-15T06:45:22.888Z"
   },
   {
    "duration": 7,
    "start_time": "2023-09-15T06:49:38.626Z"
   },
   {
    "duration": 583,
    "start_time": "2023-09-15T06:52:45.922Z"
   },
   {
    "duration": 24,
    "start_time": "2023-09-15T06:52:46.508Z"
   },
   {
    "duration": 69,
    "start_time": "2023-09-15T06:52:46.534Z"
   },
   {
    "duration": 22,
    "start_time": "2023-09-15T06:52:46.605Z"
   },
   {
    "duration": 47,
    "start_time": "2023-09-15T06:52:46.630Z"
   },
   {
    "duration": 4,
    "start_time": "2023-09-15T06:52:46.679Z"
   },
   {
    "duration": 43,
    "start_time": "2023-09-15T06:52:46.685Z"
   },
   {
    "duration": 31,
    "start_time": "2023-09-15T06:52:46.730Z"
   },
   {
    "duration": 20,
    "start_time": "2023-09-15T06:52:46.764Z"
   },
   {
    "duration": 32,
    "start_time": "2023-09-15T06:52:46.786Z"
   },
   {
    "duration": 16,
    "start_time": "2023-09-15T06:52:46.914Z"
   },
   {
    "duration": 40,
    "start_time": "2023-09-15T06:52:46.933Z"
   },
   {
    "duration": 44,
    "start_time": "2023-09-15T06:52:46.975Z"
   },
   {
    "duration": 19,
    "start_time": "2023-09-15T06:52:47.021Z"
   },
   {
    "duration": 9,
    "start_time": "2023-09-15T06:52:47.042Z"
   },
   {
    "duration": 27,
    "start_time": "2023-09-15T06:52:47.053Z"
   },
   {
    "duration": 25,
    "start_time": "2023-09-15T06:52:47.081Z"
   },
   {
    "duration": 21,
    "start_time": "2023-09-15T06:52:47.108Z"
   },
   {
    "duration": 29,
    "start_time": "2023-09-15T06:52:47.131Z"
   },
   {
    "duration": 37,
    "start_time": "2023-09-15T06:52:47.163Z"
   },
   {
    "duration": 12,
    "start_time": "2023-09-15T06:52:47.202Z"
   },
   {
    "duration": 39,
    "start_time": "2023-09-15T06:52:47.215Z"
   },
   {
    "duration": 12,
    "start_time": "2023-09-15T06:52:47.256Z"
   },
   {
    "duration": 1115,
    "start_time": "2023-09-15T06:52:47.270Z"
   },
   {
    "duration": 22,
    "start_time": "2023-09-15T06:52:48.387Z"
   },
   {
    "duration": 12,
    "start_time": "2023-09-15T06:52:48.411Z"
   },
   {
    "duration": 169,
    "start_time": "2023-09-15T06:52:48.425Z"
   },
   {
    "duration": 23,
    "start_time": "2023-09-15T06:52:48.595Z"
   },
   {
    "duration": 7,
    "start_time": "2023-09-15T06:52:48.620Z"
   },
   {
    "duration": 161,
    "start_time": "2023-09-15T06:52:48.646Z"
   },
   {
    "duration": 172,
    "start_time": "2023-09-15T06:55:14.208Z"
   },
   {
    "duration": 699,
    "start_time": "2023-09-15T06:56:06.164Z"
   },
   {
    "duration": 505,
    "start_time": "2023-09-15T06:56:06.865Z"
   },
   {
    "duration": 1291,
    "start_time": "2023-09-15T06:56:07.372Z"
   },
   {
    "duration": 1147,
    "start_time": "2023-09-15T06:56:08.665Z"
   },
   {
    "duration": 200,
    "start_time": "2023-09-15T06:56:09.815Z"
   },
   {
    "duration": 79,
    "start_time": "2023-09-15T06:56:10.017Z"
   },
   {
    "duration": 41,
    "start_time": "2023-09-15T06:56:10.098Z"
   },
   {
    "duration": 11,
    "start_time": "2023-09-15T06:56:10.140Z"
   },
   {
    "duration": 16,
    "start_time": "2023-09-15T06:56:10.156Z"
   },
   {
    "duration": 15,
    "start_time": "2023-09-15T06:56:10.179Z"
   },
   {
    "duration": 53,
    "start_time": "2023-09-15T06:56:10.196Z"
   },
   {
    "duration": 19,
    "start_time": "2023-09-15T06:56:10.252Z"
   },
   {
    "duration": 27,
    "start_time": "2023-09-15T06:56:10.274Z"
   },
   {
    "duration": 27,
    "start_time": "2023-09-15T06:56:10.305Z"
   },
   {
    "duration": 35,
    "start_time": "2023-09-15T06:56:10.335Z"
   },
   {
    "duration": 18,
    "start_time": "2023-09-15T06:56:10.372Z"
   },
   {
    "duration": 6,
    "start_time": "2023-09-15T06:56:10.392Z"
   },
   {
    "duration": 28,
    "start_time": "2023-09-15T06:56:10.401Z"
   },
   {
    "duration": 16,
    "start_time": "2023-09-15T06:56:10.432Z"
   },
   {
    "duration": 19,
    "start_time": "2023-09-15T06:56:10.450Z"
   },
   {
    "duration": 44,
    "start_time": "2023-09-15T06:56:10.472Z"
   },
   {
    "duration": 53,
    "start_time": "2023-09-15T06:56:10.518Z"
   },
   {
    "duration": 18,
    "start_time": "2023-09-15T06:56:10.573Z"
   },
   {
    "duration": 1149,
    "start_time": "2023-09-15T06:56:10.593Z"
   },
   {
    "duration": 36,
    "start_time": "2023-09-15T06:56:11.746Z"
   },
   {
    "duration": 52,
    "start_time": "2023-09-15T06:56:11.784Z"
   },
   {
    "duration": 185,
    "start_time": "2023-09-15T06:56:11.839Z"
   },
   {
    "duration": 37,
    "start_time": "2023-09-15T06:56:12.026Z"
   },
   {
    "duration": 11,
    "start_time": "2023-09-15T06:56:12.065Z"
   },
   {
    "duration": 170,
    "start_time": "2023-09-15T06:56:12.078Z"
   },
   {
    "duration": 43,
    "start_time": "2023-09-15T06:56:12.250Z"
   },
   {
    "duration": 11,
    "start_time": "2023-09-15T06:56:12.295Z"
   },
   {
    "duration": 187,
    "start_time": "2023-09-15T06:56:12.309Z"
   },
   {
    "duration": 515,
    "start_time": "2023-09-15T07:21:56.354Z"
   },
   {
    "duration": 24,
    "start_time": "2023-09-15T07:21:56.871Z"
   },
   {
    "duration": 25,
    "start_time": "2023-09-15T07:21:56.897Z"
   },
   {
    "duration": 59,
    "start_time": "2023-09-15T07:21:56.923Z"
   },
   {
    "duration": 62,
    "start_time": "2023-09-15T07:21:56.984Z"
   },
   {
    "duration": 4,
    "start_time": "2023-09-15T07:21:57.048Z"
   },
   {
    "duration": 19,
    "start_time": "2023-09-15T07:21:57.053Z"
   },
   {
    "duration": 15,
    "start_time": "2023-09-15T07:21:57.074Z"
   },
   {
    "duration": 25,
    "start_time": "2023-09-15T07:21:57.091Z"
   },
   {
    "duration": 23,
    "start_time": "2023-09-15T07:21:57.118Z"
   },
   {
    "duration": 66,
    "start_time": "2023-09-15T07:21:57.142Z"
   },
   {
    "duration": 10,
    "start_time": "2023-09-15T07:21:57.210Z"
   },
   {
    "duration": 23,
    "start_time": "2023-09-15T07:21:57.222Z"
   },
   {
    "duration": 41,
    "start_time": "2023-09-15T07:21:57.248Z"
   },
   {
    "duration": 29,
    "start_time": "2023-09-15T07:21:57.291Z"
   },
   {
    "duration": 23,
    "start_time": "2023-09-15T07:21:57.321Z"
   },
   {
    "duration": 3,
    "start_time": "2023-09-15T07:21:57.346Z"
   },
   {
    "duration": 17,
    "start_time": "2023-09-15T07:21:57.351Z"
   },
   {
    "duration": 15,
    "start_time": "2023-09-15T07:21:57.370Z"
   },
   {
    "duration": 8,
    "start_time": "2023-09-15T07:21:57.389Z"
   },
   {
    "duration": 25,
    "start_time": "2023-09-15T07:21:57.398Z"
   },
   {
    "duration": 47,
    "start_time": "2023-09-15T07:21:57.425Z"
   },
   {
    "duration": 8,
    "start_time": "2023-09-15T07:21:57.474Z"
   },
   {
    "duration": 1007,
    "start_time": "2023-09-15T07:21:57.484Z"
   },
   {
    "duration": 23,
    "start_time": "2023-09-15T07:21:58.493Z"
   },
   {
    "duration": 8,
    "start_time": "2023-09-15T07:21:58.517Z"
   },
   {
    "duration": 185,
    "start_time": "2023-09-15T07:21:58.527Z"
   },
   {
    "duration": 33,
    "start_time": "2023-09-15T07:21:58.714Z"
   },
   {
    "duration": 8,
    "start_time": "2023-09-15T07:21:58.749Z"
   },
   {
    "duration": 144,
    "start_time": "2023-09-15T07:21:58.759Z"
   },
   {
    "duration": 24,
    "start_time": "2023-09-15T07:21:58.905Z"
   },
   {
    "duration": 22,
    "start_time": "2023-09-15T07:21:58.931Z"
   },
   {
    "duration": 156,
    "start_time": "2023-09-15T07:21:58.954Z"
   },
   {
    "duration": 675,
    "start_time": "2023-09-16T14:29:02.603Z"
   },
   {
    "duration": 8,
    "start_time": "2023-09-16T14:29:20.066Z"
   },
   {
    "duration": 241,
    "start_time": "2023-09-16T14:29:43.177Z"
   },
   {
    "duration": 10,
    "start_time": "2023-09-16T14:29:58.306Z"
   },
   {
    "duration": 12,
    "start_time": "2023-09-16T14:35:23.129Z"
   },
   {
    "duration": 10,
    "start_time": "2023-09-16T14:35:58.402Z"
   },
   {
    "duration": 9,
    "start_time": "2023-09-16T14:36:37.858Z"
   },
   {
    "duration": 153,
    "start_time": "2023-09-16T14:37:49.138Z"
   },
   {
    "duration": 139,
    "start_time": "2023-09-16T14:41:09.403Z"
   },
   {
    "duration": 140,
    "start_time": "2023-09-16T14:44:43.123Z"
   },
   {
    "duration": 134,
    "start_time": "2023-09-16T14:45:48.658Z"
   },
   {
    "duration": 134,
    "start_time": "2023-09-16T14:48:07.955Z"
   },
   {
    "duration": 679,
    "start_time": "2023-09-16T14:48:16.803Z"
   },
   {
    "duration": 23,
    "start_time": "2023-09-16T14:48:17.484Z"
   },
   {
    "duration": 16,
    "start_time": "2023-09-16T14:48:17.509Z"
   },
   {
    "duration": 11,
    "start_time": "2023-09-16T14:48:17.526Z"
   },
   {
    "duration": 37,
    "start_time": "2023-09-16T14:48:17.547Z"
   },
   {
    "duration": 4,
    "start_time": "2023-09-16T14:48:17.585Z"
   },
   {
    "duration": 19,
    "start_time": "2023-09-16T14:48:17.590Z"
   },
   {
    "duration": 4,
    "start_time": "2023-09-16T14:48:17.611Z"
   },
   {
    "duration": 12,
    "start_time": "2023-09-16T14:48:17.617Z"
   },
   {
    "duration": 17,
    "start_time": "2023-09-16T14:48:17.630Z"
   },
   {
    "duration": 47,
    "start_time": "2023-09-16T14:48:17.649Z"
   },
   {
    "duration": 11,
    "start_time": "2023-09-16T14:48:17.697Z"
   },
   {
    "duration": 5,
    "start_time": "2023-09-16T14:48:17.710Z"
   },
   {
    "duration": 34,
    "start_time": "2023-09-16T14:48:17.717Z"
   },
   {
    "duration": 24,
    "start_time": "2023-09-16T14:48:17.753Z"
   },
   {
    "duration": 25,
    "start_time": "2023-09-16T14:48:17.779Z"
   },
   {
    "duration": 4,
    "start_time": "2023-09-16T14:48:17.807Z"
   },
   {
    "duration": 36,
    "start_time": "2023-09-16T14:48:17.813Z"
   },
   {
    "duration": 5,
    "start_time": "2023-09-16T14:48:17.851Z"
   },
   {
    "duration": 5,
    "start_time": "2023-09-16T14:48:17.858Z"
   },
   {
    "duration": 11,
    "start_time": "2023-09-16T14:48:17.864Z"
   },
   {
    "duration": 24,
    "start_time": "2023-09-16T14:48:17.876Z"
   },
   {
    "duration": 9,
    "start_time": "2023-09-16T14:48:17.901Z"
   },
   {
    "duration": 439,
    "start_time": "2023-09-16T14:48:17.912Z"
   },
   {
    "duration": 24,
    "start_time": "2023-09-16T14:48:18.353Z"
   },
   {
    "duration": 9,
    "start_time": "2023-09-16T14:48:18.379Z"
   },
   {
    "duration": 166,
    "start_time": "2023-09-16T14:48:18.389Z"
   },
   {
    "duration": 21,
    "start_time": "2023-09-16T14:48:18.557Z"
   },
   {
    "duration": 8,
    "start_time": "2023-09-16T14:48:18.579Z"
   },
   {
    "duration": 157,
    "start_time": "2023-09-16T14:48:18.589Z"
   },
   {
    "duration": 21,
    "start_time": "2023-09-16T14:48:18.748Z"
   },
   {
    "duration": 8,
    "start_time": "2023-09-16T14:48:18.772Z"
   },
   {
    "duration": 160,
    "start_time": "2023-09-16T14:48:18.781Z"
   },
   {
    "duration": 77,
    "start_time": "2023-09-16T14:50:08.416Z"
   },
   {
    "duration": 78,
    "start_time": "2023-09-16T14:51:24.973Z"
   },
   {
    "duration": 151,
    "start_time": "2023-09-16T15:16:18.059Z"
   },
   {
    "duration": 109,
    "start_time": "2023-09-16T15:42:20.728Z"
   },
   {
    "duration": 108,
    "start_time": "2023-09-16T16:38:07.597Z"
   },
   {
    "duration": 463,
    "start_time": "2023-09-16T16:41:12.388Z"
   },
   {
    "duration": 23,
    "start_time": "2023-09-16T16:41:12.853Z"
   },
   {
    "duration": 16,
    "start_time": "2023-09-16T16:41:12.877Z"
   },
   {
    "duration": 10,
    "start_time": "2023-09-16T16:41:12.895Z"
   },
   {
    "duration": 60,
    "start_time": "2023-09-16T16:41:12.907Z"
   },
   {
    "duration": 3,
    "start_time": "2023-09-16T16:41:12.969Z"
   },
   {
    "duration": 10,
    "start_time": "2023-09-16T16:41:12.974Z"
   },
   {
    "duration": 4,
    "start_time": "2023-09-16T16:41:12.986Z"
   },
   {
    "duration": 8,
    "start_time": "2023-09-16T16:41:12.991Z"
   },
   {
    "duration": 4,
    "start_time": "2023-09-16T16:41:13.002Z"
   },
   {
    "duration": 64,
    "start_time": "2023-09-16T16:41:13.008Z"
   },
   {
    "duration": 10,
    "start_time": "2023-09-16T16:41:13.074Z"
   },
   {
    "duration": 12,
    "start_time": "2023-09-16T16:41:13.086Z"
   },
   {
    "duration": 46,
    "start_time": "2023-09-16T16:41:13.099Z"
   },
   {
    "duration": 37,
    "start_time": "2023-09-16T16:41:13.147Z"
   },
   {
    "duration": 29,
    "start_time": "2023-09-16T16:41:13.185Z"
   },
   {
    "duration": 5,
    "start_time": "2023-09-16T16:41:13.216Z"
   },
   {
    "duration": 24,
    "start_time": "2023-09-16T16:41:13.222Z"
   },
   {
    "duration": 18,
    "start_time": "2023-09-16T16:41:13.248Z"
   },
   {
    "duration": 13,
    "start_time": "2023-09-16T16:41:13.268Z"
   },
   {
    "duration": 39,
    "start_time": "2023-09-16T16:41:13.282Z"
   },
   {
    "duration": 44,
    "start_time": "2023-09-16T16:41:13.323Z"
   },
   {
    "duration": 7,
    "start_time": "2023-09-16T16:41:13.369Z"
   },
   {
    "duration": 486,
    "start_time": "2023-09-16T16:41:13.378Z"
   },
   {
    "duration": 23,
    "start_time": "2023-09-16T16:41:13.866Z"
   },
   {
    "duration": 7,
    "start_time": "2023-09-16T16:41:13.891Z"
   },
   {
    "duration": 176,
    "start_time": "2023-09-16T16:41:13.900Z"
   },
   {
    "duration": 26,
    "start_time": "2023-09-16T16:41:14.079Z"
   },
   {
    "duration": 53,
    "start_time": "2023-09-16T16:41:14.107Z"
   },
   {
    "duration": 170,
    "start_time": "2023-09-16T16:41:14.162Z"
   },
   {
    "duration": 26,
    "start_time": "2023-09-16T16:41:14.334Z"
   },
   {
    "duration": 9,
    "start_time": "2023-09-16T16:41:14.361Z"
   },
   {
    "duration": 169,
    "start_time": "2023-09-16T16:41:14.371Z"
   }
  ],
  "colab": {
   "provenance": []
  },
  "kernelspec": {
   "display_name": "Python 3 (ipykernel)",
   "language": "python",
   "name": "python3"
  },
  "language_info": {
   "codemirror_mode": {
    "name": "ipython",
    "version": 3
   },
   "file_extension": ".py",
   "mimetype": "text/x-python",
   "name": "python",
   "nbconvert_exporter": "python",
   "pygments_lexer": "ipython3",
   "version": "3.9.18"
  },
  "toc": {
   "base_numbering": 1,
   "nav_menu": {},
   "number_sections": true,
   "sideBar": true,
   "skip_h1_title": true,
   "title_cell": "Table of Contents",
   "title_sidebar": "Contents",
   "toc_cell": false,
   "toc_position": {},
   "toc_section_display": true,
   "toc_window_display": true
  }
 },
 "nbformat": 4,
 "nbformat_minor": 5
}
