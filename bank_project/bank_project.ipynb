{
 "cells": [
  {
   "cell_type": "markdown",
   "id": "4f11de00",
   "metadata": {
    "deletable": false,
    "editable": false,
    "id": "4f11de00"
   },
   "source": [
    "# Исследование надежности заемщиков"
   ]
  },
  {
   "cell_type": "markdown",
   "id": "f09d6878",
   "metadata": {
    "deletable": false,
    "editable": false,
    "id": "f09d6878"
   },
   "source": [
    "Это первая часть проекта, она будет проверена автоматически. Вторую часть проверит ревьюер. "
   ]
  },
  {
   "cell_type": "markdown",
   "id": "516620ee",
   "metadata": {
    "deletable": false,
    "editable": false,
    "id": "516620ee"
   },
   "source": [
    "## Откройте таблицу и изучите общую информацию о данных"
   ]
  },
  {
   "cell_type": "markdown",
   "id": "76a8a9ce",
   "metadata": {
    "deletable": false,
    "editable": false,
    "id": "76a8a9ce",
    "tags": [
     "start_task"
    ]
   },
   "source": [
    "**Задание 1. Импортируйте библиотеку pandas. Считайте данные из csv-файла в датафрейм и сохраните в переменную `data`. Путь к файлу:**\n",
    "\n",
    "`/datasets/data.csv`"
   ]
  },
  {
   "cell_type": "code",
   "execution_count": 1,
   "id": "fab207d0",
   "metadata": {
    "id": "fab207d0"
   },
   "outputs": [],
   "source": [
    "import pandas as pd# импортируйте библиотеку pandas"
   ]
  },
  {
   "cell_type": "code",
   "execution_count": 2,
   "id": "6c82b607",
   "metadata": {
    "id": "6c82b607"
   },
   "outputs": [
    {
     "ename": "SyntaxError",
     "evalue": "(unicode error) 'unicodeescape' codec can't decode bytes in position 2-3: truncated \\UXXXXXXXX escape (1771183581.py, line 1)",
     "output_type": "error",
     "traceback": [
      "\u001b[1;36m  Cell \u001b[1;32mIn[2], line 1\u001b[1;36m\u001b[0m\n\u001b[1;33m    data = pd.read_csv('C:\\Users\\nadya\\OneDrive\\Desktop\\yandex_practicum\\project_2.csv')\u001b[0m\n\u001b[1;37m                                                                                       ^\u001b[0m\n\u001b[1;31mSyntaxError\u001b[0m\u001b[1;31m:\u001b[0m (unicode error) 'unicodeescape' codec can't decode bytes in position 2-3: truncated \\UXXXXXXXX escape\n"
     ]
    }
   ],
   "source": [
    "data = pd.read_csv('C:\\Users\\nadya\\OneDrive\\Desktop\\yandex_practicum\\project_2.csv')\n",
    "# прочитайте csv-файл"
   ]
  },
  {
   "cell_type": "markdown",
   "id": "08bbb5b3",
   "metadata": {
    "deletable": false,
    "editable": false,
    "id": "08bbb5b3",
    "tags": [
     "start_task"
    ]
   },
   "source": [
    "**Задание 2. Выведите первые 20 строчек датафрейма `data` на экран.**"
   ]
  },
  {
   "cell_type": "code",
   "execution_count": null,
   "id": "4ff33b36",
   "metadata": {
    "id": "4ff33b36"
   },
   "outputs": [],
   "source": [
    "data.head(20)# ваш код здесь"
   ]
  },
  {
   "cell_type": "markdown",
   "id": "c8f382ae",
   "metadata": {
    "deletable": false,
    "editable": false,
    "id": "c8f382ae",
    "tags": [
     "start_task"
    ]
   },
   "source": [
    "**Задание 3. Выведите основную информацию о датафрейме с помощью метода `info()`.**"
   ]
  },
  {
   "cell_type": "code",
   "execution_count": null,
   "id": "e1ed9908",
   "metadata": {
    "id": "e1ed9908"
   },
   "outputs": [],
   "source": [
    "data.info()# ваш код здесь"
   ]
  },
  {
   "cell_type": "markdown",
   "id": "f969a1cd",
   "metadata": {
    "deletable": false,
    "editable": false,
    "id": "f969a1cd"
   },
   "source": [
    "## Предобработка данных"
   ]
  },
  {
   "cell_type": "markdown",
   "id": "7283e864",
   "metadata": {
    "deletable": false,
    "editable": false,
    "id": "7283e864"
   },
   "source": [
    "### Удаление пропусков"
   ]
  },
  {
   "cell_type": "markdown",
   "id": "c9a0745e",
   "metadata": {
    "deletable": false,
    "editable": false,
    "id": "c9a0745e",
    "tags": [
     "start_task"
    ]
   },
   "source": [
    "**Задание 4. Выведите количество пропущенных значений для каждого столбца. Используйте комбинацию двух методов.**"
   ]
  },
  {
   "cell_type": "code",
   "execution_count": null,
   "id": "b7a096e1",
   "metadata": {
    "id": "b7a096e1"
   },
   "outputs": [],
   "source": [
    "data.isna().sum()# ваш код здесь"
   ]
  },
  {
   "cell_type": "markdown",
   "id": "c2578616",
   "metadata": {
    "deletable": false,
    "editable": false,
    "id": "c2578616",
    "tags": [
     "start_task"
    ]
   },
   "source": [
    "**Задание 5. В двух столбцах есть пропущенные значения. Один из них — `days_employed`. Пропуски в этом столбце вы обработаете на следующем этапе. Другой столбец с пропущенными значениями — `total_income` — хранит данные о доходах. На сумму дохода сильнее всего влияет тип занятости, поэтому заполнить пропуски в этом столбце нужно медианным значением по каждому типу из столбца `income_type`. Например, у человека с типом занятости `сотрудник` пропуск в столбце `total_income` должен быть заполнен медианным доходом среди всех записей с тем же типом.**"
   ]
  },
  {
   "cell_type": "code",
   "execution_count": null,
   "id": "e8afc4bc",
   "metadata": {
    "id": "e8afc4bc"
   },
   "outputs": [],
   "source": [
    "for type in data['income_type'].unique():\n",
    "    data.loc[(data['income_type'] == type) & (data['total_income'].isna()), 'total_income'] = \\\n",
    "    data.loc[(data['income_type'] == type), 'total_income'].median()\n",
    "# ваш код здесь"
   ]
  },
  {
   "cell_type": "markdown",
   "id": "ae986d46",
   "metadata": {
    "deletable": false,
    "editable": false,
    "id": "ae986d46"
   },
   "source": [
    "### Обработка аномальных значений"
   ]
  },
  {
   "cell_type": "markdown",
   "id": "b049cbae",
   "metadata": {
    "deletable": false,
    "editable": false,
    "id": "b049cbae",
    "tags": [
     "start_task"
    ]
   },
   "source": [
    "**Задание 6. В данных могут встречаться артефакты (аномалии) — значения, которые не отражают действительность и появились по какой-то ошибке. Таким артефактом будет отрицательное количество дней трудового стажа в столбце `days_employed`. Для реальных данных это нормально. Обработайте значения в этом столбце: замените все отрицательные значения положительными с помощью метода `abs()`.**"
   ]
  },
  {
   "cell_type": "code",
   "execution_count": null,
   "id": "187779b0",
   "metadata": {
    "id": "187779b0"
   },
   "outputs": [],
   "source": [
    "data['days_employed'] = data['days_employed'].abs()\n",
    "# ваш код здесь"
   ]
  },
  {
   "cell_type": "markdown",
   "id": "a13054c2",
   "metadata": {
    "deletable": false,
    "editable": false,
    "id": "a13054c2",
    "tags": [
     "start_task"
    ]
   },
   "source": [
    "**Задание 7. Для каждого типа занятости выведите медианное значение трудового стажа `days_employed` в днях.**"
   ]
  },
  {
   "cell_type": "code",
   "execution_count": null,
   "id": "f3f5810c",
   "metadata": {
    "id": "f3f5810c"
   },
   "outputs": [],
   "source": [
    "data.groupby('income_type').agg({'days_employed': 'median'})# ваш код здесь"
   ]
  },
  {
   "cell_type": "markdown",
   "id": "dbc3168c",
   "metadata": {
    "deletable": false,
    "editable": false,
    "id": "dbc3168c"
   },
   "source": [
    "У двух типов (безработные и пенсионеры) получатся аномально большие значения. Исправить такие значения сложно, поэтому оставьте их как есть."
   ]
  },
  {
   "cell_type": "markdown",
   "id": "ff4378c2",
   "metadata": {
    "deletable": false,
    "editable": false,
    "id": "ff4378c2",
    "tags": [
     "start_task"
    ]
   },
   "source": [
    "**Задание 8. Выведите перечень уникальных значений столбца `children`.**"
   ]
  },
  {
   "cell_type": "code",
   "execution_count": null,
   "id": "9bd0c232",
   "metadata": {
    "id": "9bd0c232"
   },
   "outputs": [],
   "source": [
    "data['children'].unique()# ваш код здесь\n"
   ]
  },
  {
   "cell_type": "markdown",
   "id": "8e911990",
   "metadata": {
    "deletable": false,
    "editable": false,
    "id": "8e911990",
    "tags": [
     "start_task"
    ]
   },
   "source": [
    "**Задание 9. В столбце `children` есть два аномальных значения. Удалите строки, в которых встречаются такие аномальные значения из датафрейма `data`.**"
   ]
  },
  {
   "cell_type": "code",
   "execution_count": null,
   "id": "6d5ba289",
   "metadata": {
    "id": "6d5ba289"
   },
   "outputs": [],
   "source": [
    "data = data[(data['children'] != -1) & (data['children'] != 20)]\n",
    "data# ваш код здесь"
   ]
  },
  {
   "cell_type": "markdown",
   "id": "18d77455",
   "metadata": {
    "deletable": false,
    "editable": false,
    "id": "18d77455",
    "tags": [
     "start_task"
    ]
   },
   "source": [
    "**Задание 10. Ещё раз выведите перечень уникальных значений столбца `children`, чтобы убедиться, что артефакты удалены.**"
   ]
  },
  {
   "cell_type": "code",
   "execution_count": null,
   "id": "2c5fa92c",
   "metadata": {
    "id": "2c5fa92c"
   },
   "outputs": [],
   "source": [
    "data['children'].unique()# ваш код здесь"
   ]
  },
  {
   "cell_type": "markdown",
   "id": "0ec07dee",
   "metadata": {
    "deletable": false,
    "editable": false,
    "id": "0ec07dee"
   },
   "source": [
    "### Удаление пропусков (продолжение)"
   ]
  },
  {
   "cell_type": "markdown",
   "id": "0fc3ae3f",
   "metadata": {
    "deletable": false,
    "editable": false,
    "id": "0fc3ae3f",
    "tags": [
     "start_task"
    ]
   },
   "source": [
    "**Задание 11. Заполните пропуски в столбце `days_employed` медианными значениями по каждому типу занятости `income_type`.**"
   ]
  },
  {
   "cell_type": "code",
   "execution_count": null,
   "id": "e2aea7ac",
   "metadata": {
    "id": "e2aea7ac"
   },
   "outputs": [],
   "source": [
    "for income in data['income_type'].unique():\n",
    "    data.loc[(data['income_type'] == income) & (data['days_employed'].isna()), 'days_employed'] = \\\n",
    "    data.loc[(data['income_type'] == income), 'days_employed'].median()\n",
    "# ваш код здесь "
   ]
  },
  {
   "cell_type": "markdown",
   "id": "97b0b795",
   "metadata": {
    "deletable": false,
    "editable": false,
    "id": "97b0b795",
    "tags": [
     "start_task"
    ]
   },
   "source": [
    "**Задание 12. Убедитесь, что все пропуски заполнены. Проверьте себя и ещё раз выведите количество пропущенных значений для каждого столбца с помощью двух методов.**"
   ]
  },
  {
   "cell_type": "code",
   "execution_count": null,
   "id": "79632a21",
   "metadata": {
    "id": "79632a21"
   },
   "outputs": [],
   "source": [
    "data.isna().sum()# ваш код здесь"
   ]
  },
  {
   "cell_type": "markdown",
   "id": "bd4aeb20",
   "metadata": {
    "deletable": false,
    "editable": false,
    "id": "bd4aeb20"
   },
   "source": [
    "### Изменение типов данных"
   ]
  },
  {
   "cell_type": "markdown",
   "id": "963bfa58",
   "metadata": {
    "deletable": false,
    "editable": false,
    "id": "963bfa58",
    "tags": [
     "start_task"
    ]
   },
   "source": [
    "**Задание 13. Замените вещественный тип данных в столбце `total_income` на целочисленный с помощью метода `astype()`.**"
   ]
  },
  {
   "cell_type": "code",
   "execution_count": null,
   "id": "73da6ea0",
   "metadata": {
    "id": "73da6ea0"
   },
   "outputs": [],
   "source": [
    "data['total_income'] = data['total_income'].astype('int')# ваш код здесь"
   ]
  },
  {
   "cell_type": "markdown",
   "id": "d290239e",
   "metadata": {
    "deletable": false,
    "editable": false,
    "id": "d290239e"
   },
   "source": [
    "### Обработка дубликатов"
   ]
  },
  {
   "cell_type": "markdown",
   "id": "1b5844fd",
   "metadata": {
    "deletable": false,
    "editable": false,
    "id": "1b5844fd",
    "tags": [
     "start_task"
    ]
   },
   "source": [
    "**Задание 14. Обработайте неявные дубликаты в столбце `education`. В этом столбце есть одни и те же значения, но записанные по-разному: с использованием заглавных и строчных букв. Приведите их к нижнему регистру.**"
   ]
  },
  {
   "cell_type": "code",
   "execution_count": null,
   "id": "3f2504b3",
   "metadata": {
    "id": "3f2504b3"
   },
   "outputs": [],
   "source": [
    "data['education'] = data['education'].str.lower()# ваш код здесь"
   ]
  },
  {
   "cell_type": "markdown",
   "id": "4c22acbc",
   "metadata": {
    "deletable": false,
    "editable": false,
    "id": "4c22acbc",
    "tags": [
     "start_task"
    ]
   },
   "source": [
    "**Задание 15. Выведите на экран количество строк-дубликатов в данных. Если такие строки присутствуют, удалите их.**"
   ]
  },
  {
   "cell_type": "code",
   "execution_count": null,
   "id": "d34a4325",
   "metadata": {
    "id": "d34a4325"
   },
   "outputs": [],
   "source": [
    "data.duplicated().sum()# посчитайте дубликаты"
   ]
  },
  {
   "cell_type": "code",
   "execution_count": null,
   "id": "6e1a6499",
   "metadata": {
    "id": "6e1a6499"
   },
   "outputs": [],
   "source": [
    "data = data.drop_duplicates()# удалите дубликаты"
   ]
  },
  {
   "cell_type": "markdown",
   "id": "e5686ccc",
   "metadata": {
    "deletable": false,
    "editable": false,
    "id": "e5686ccc"
   },
   "source": [
    "### Категоризация данных"
   ]
  },
  {
   "cell_type": "markdown",
   "id": "636e9acd",
   "metadata": {
    "deletable": false,
    "editable": false,
    "id": "636e9acd",
    "tags": [
     "start_task"
    ]
   },
   "source": [
    "**Задание 16. На основании диапазонов, указанных ниже, создайте в датафрейме `data` столбец `total_income_category` с категориями:**\n",
    "\n",
    "- 0–30000 — `'E'`;\n",
    "- 30001–50000 — `'D'`;\n",
    "- 50001–200000 — `'C'`;\n",
    "- 200001–1000000 — `'B'`;\n",
    "- 1000001 и выше — `'A'`.\n",
    "\n",
    "\n",
    "**Например, кредитополучателю с доходом 25000 нужно назначить категорию `'E'`, а клиенту, получающему 235000, — `'B'`. Используйте собственную функцию с именем `categorize_income()` и метод `apply()`.**"
   ]
  },
  {
   "cell_type": "code",
   "execution_count": null,
   "id": "880a77e5",
   "metadata": {
    "id": "880a77e5"
   },
   "outputs": [],
   "source": [
    "def categorize_income(income):# создайте функцию categorize_income()\n",
    "    if income <= 30000:\n",
    "        return 'E'\n",
    "    if income <= 50000:\n",
    "        return 'D'\n",
    "    if income <= 200000:\n",
    "        return 'C'\n",
    "    if income <= 1000000:\n",
    "        return 'B'\n",
    "    return 'A'"
   ]
  },
  {
   "cell_type": "code",
   "execution_count": null,
   "id": "6f25f161",
   "metadata": {
    "id": "6f25f161"
   },
   "outputs": [],
   "source": [
    "data['total_income_category'] = data['total_income'].apply(categorize_income)# примените функцию методом apply()"
   ]
  },
  {
   "cell_type": "markdown",
   "id": "3363b685",
   "metadata": {
    "deletable": false,
    "editable": false,
    "id": "3363b685",
    "tags": [
     "start_task"
    ]
   },
   "source": [
    "**Задание 17. Выведите на экран перечень уникальных целей взятия кредита из столбца `purpose`.**"
   ]
  },
  {
   "cell_type": "code",
   "execution_count": null,
   "id": "e59f2c15",
   "metadata": {
    "id": "e59f2c15"
   },
   "outputs": [],
   "source": [
    "data['purpose'].unique()# ваш код здесь"
   ]
  },
  {
   "cell_type": "markdown",
   "id": "bb33e847",
   "metadata": {
    "deletable": false,
    "editable": false,
    "id": "bb33e847",
    "tags": [
     "start_task"
    ]
   },
   "source": [
    "**Задание 18. Создайте функцию, которая на основании данных из столбца `purpose` сформирует новый столбец `purpose_category`, в который войдут следующие категории:**\n",
    "\n",
    "- `'операции с автомобилем'`,\n",
    "- `'операции с недвижимостью'`,\n",
    "- `'проведение свадьбы'`,\n",
    "- `'получение образования'`.\n",
    "\n",
    "**Например, если в столбце `purpose` находится подстрока `'на покупку автомобиля'`, то в столбце `purpose_category` должна появиться строка `'операции с автомобилем'`.**\n",
    "\n",
    "**Используйте собственную функцию с именем `categorize_purpose()` и метод `apply()`. Изучите данные в столбце `purpose` и определите, какие подстроки помогут вам правильно определить категорию.**"
   ]
  },
  {
   "cell_type": "code",
   "execution_count": null,
   "id": "63909b83",
   "metadata": {
    "id": "63909b83"
   },
   "outputs": [],
   "source": [
    "# создайте функцию categorize_purpose()\n",
    "\n",
    "def categorize_purpose(row):\n",
    "    try:\n",
    "        if 'автом' in row:\n",
    "            return 'операции с автомобилем'\n",
    "        elif 'жил' in row or 'недвиж' in row:\n",
    "            return 'операции с недвижимостью'\n",
    "        elif 'свад'in row:\n",
    "            return 'проведение свадьбы'\n",
    "        elif 'образ' in row:\n",
    "            return 'получение образования'\n",
    "    except:\n",
    "        return 'нет категории'"
   ]
  },
  {
   "cell_type": "code",
   "execution_count": null,
   "id": "7cb4a81d",
   "metadata": {
    "id": "7cb4a81d"
   },
   "outputs": [],
   "source": [
    "data['purpose_category'] = data['purpose'].apply(categorize_purpose)# примените функцию методом apply()"
   ]
  }
 ],
 "metadata": {
  "ExecuteTimeLog": [
   {
    "duration": 416,
    "start_time": "2023-09-11T11:02:52.138Z"
   },
   {
    "duration": 626,
    "start_time": "2023-09-11T11:03:19.116Z"
   },
   {
    "duration": 21,
    "start_time": "2023-09-11T11:03:36.013Z"
   },
   {
    "duration": 15,
    "start_time": "2023-09-11T11:04:55.512Z"
   },
   {
    "duration": 17,
    "start_time": "2023-09-11T11:10:26.072Z"
   },
   {
    "duration": 10,
    "start_time": "2023-09-11T11:11:33.973Z"
   },
   {
    "duration": 12,
    "start_time": "2023-09-11T11:29:02.100Z"
   },
   {
    "duration": 10,
    "start_time": "2023-09-11T11:29:40.172Z"
   },
   {
    "duration": 1869,
    "start_time": "2023-09-11T11:44:00.573Z"
   },
   {
    "duration": 1349,
    "start_time": "2023-09-11T11:44:26.912Z"
   },
   {
    "duration": 2916,
    "start_time": "2023-09-11T11:54:17.041Z"
   },
   {
    "duration": 1678,
    "start_time": "2023-09-11T12:04:35.667Z"
   },
   {
    "duration": 1409,
    "start_time": "2023-09-11T12:09:28.789Z"
   },
   {
    "duration": 406,
    "start_time": "2023-09-11T12:18:23.310Z"
   },
   {
    "duration": 88,
    "start_time": "2023-09-11T12:18:23.718Z"
   },
   {
    "duration": 25,
    "start_time": "2023-09-11T12:18:23.808Z"
   },
   {
    "duration": 31,
    "start_time": "2023-09-11T12:18:23.835Z"
   },
   {
    "duration": 15,
    "start_time": "2023-09-11T12:18:23.869Z"
   },
   {
    "duration": 58,
    "start_time": "2023-09-11T12:18:23.886Z"
   },
   {
    "duration": 8,
    "start_time": "2023-09-11T12:18:23.945Z"
   },
   {
    "duration": 20,
    "start_time": "2023-09-11T12:18:23.955Z"
   },
   {
    "duration": 24,
    "start_time": "2023-09-11T12:18:23.976Z"
   },
   {
    "duration": 22,
    "start_time": "2023-09-11T12:18:24.001Z"
   },
   {
    "duration": 24,
    "start_time": "2023-09-11T12:18:24.024Z"
   },
   {
    "duration": 23,
    "start_time": "2023-09-11T12:18:24.049Z"
   },
   {
    "duration": 17,
    "start_time": "2023-09-11T12:18:24.074Z"
   },
   {
    "duration": 9,
    "start_time": "2023-09-11T12:18:24.095Z"
   },
   {
    "duration": 24,
    "start_time": "2023-09-11T12:18:24.105Z"
   },
   {
    "duration": 40,
    "start_time": "2023-09-11T12:18:24.131Z"
   },
   {
    "duration": 21,
    "start_time": "2023-09-11T12:18:24.173Z"
   },
   {
    "duration": 26,
    "start_time": "2023-09-11T12:18:24.195Z"
   },
   {
    "duration": 31,
    "start_time": "2023-09-11T12:18:24.224Z"
   },
   {
    "duration": 20,
    "start_time": "2023-09-11T12:18:24.257Z"
   },
   {
    "duration": 20,
    "start_time": "2023-09-11T12:18:24.278Z"
   },
   {
    "duration": 19,
    "start_time": "2023-09-11T12:18:24.300Z"
   },
   {
    "duration": 33,
    "start_time": "2023-09-11T12:21:15.930Z"
   },
   {
    "duration": 406,
    "start_time": "2023-09-11T12:21:23.912Z"
   },
   {
    "duration": 80,
    "start_time": "2023-09-11T12:21:24.320Z"
   },
   {
    "duration": 28,
    "start_time": "2023-09-11T12:21:24.403Z"
   },
   {
    "duration": 19,
    "start_time": "2023-09-11T12:21:24.447Z"
   },
   {
    "duration": 13,
    "start_time": "2023-09-11T12:21:24.469Z"
   },
   {
    "duration": 61,
    "start_time": "2023-09-11T12:21:24.484Z"
   },
   {
    "duration": 2,
    "start_time": "2023-09-11T12:21:24.548Z"
   },
   {
    "duration": 11,
    "start_time": "2023-09-11T12:21:24.553Z"
   },
   {
    "duration": 10,
    "start_time": "2023-09-11T12:21:24.567Z"
   },
   {
    "duration": 17,
    "start_time": "2023-09-11T12:21:24.579Z"
   },
   {
    "duration": 7,
    "start_time": "2023-09-11T12:21:24.597Z"
   },
   {
    "duration": 6,
    "start_time": "2023-09-11T12:21:24.606Z"
   },
   {
    "duration": 6,
    "start_time": "2023-09-11T12:21:24.614Z"
   },
   {
    "duration": 4,
    "start_time": "2023-09-11T12:21:24.623Z"
   },
   {
    "duration": 5,
    "start_time": "2023-09-11T12:21:24.629Z"
   },
   {
    "duration": 3,
    "start_time": "2023-09-11T12:21:24.643Z"
   },
   {
    "duration": 8,
    "start_time": "2023-09-11T12:21:24.648Z"
   },
   {
    "duration": 13,
    "start_time": "2023-09-11T12:21:24.658Z"
   },
   {
    "duration": 7,
    "start_time": "2023-09-11T12:21:24.673Z"
   },
   {
    "duration": 6,
    "start_time": "2023-09-11T12:21:24.682Z"
   },
   {
    "duration": 6,
    "start_time": "2023-09-11T12:21:24.690Z"
   },
   {
    "duration": 6,
    "start_time": "2023-09-11T12:21:24.697Z"
   },
   {
    "duration": 7,
    "start_time": "2023-09-11T12:22:36.483Z"
   },
   {
    "duration": 6,
    "start_time": "2023-09-11T12:27:30.740Z"
   },
   {
    "duration": 377,
    "start_time": "2023-09-11T12:27:54.650Z"
   },
   {
    "duration": 87,
    "start_time": "2023-09-11T12:27:55.029Z"
   },
   {
    "duration": 19,
    "start_time": "2023-09-11T12:27:55.118Z"
   },
   {
    "duration": 18,
    "start_time": "2023-09-11T12:27:55.139Z"
   },
   {
    "duration": 9,
    "start_time": "2023-09-11T12:27:55.159Z"
   },
   {
    "duration": 37,
    "start_time": "2023-09-11T12:27:55.170Z"
   },
   {
    "duration": 6,
    "start_time": "2023-09-11T12:27:55.209Z"
   },
   {
    "duration": 8,
    "start_time": "2023-09-11T12:27:55.217Z"
   },
   {
    "duration": 25,
    "start_time": "2023-09-11T12:27:55.227Z"
   },
   {
    "duration": 17,
    "start_time": "2023-09-11T12:27:55.254Z"
   },
   {
    "duration": 28,
    "start_time": "2023-09-11T12:27:55.273Z"
   },
   {
    "duration": 15,
    "start_time": "2023-09-11T12:27:55.303Z"
   },
   {
    "duration": 15,
    "start_time": "2023-09-11T12:27:55.320Z"
   },
   {
    "duration": 16,
    "start_time": "2023-09-11T12:27:55.338Z"
   },
   {
    "duration": 10,
    "start_time": "2023-09-11T12:27:55.356Z"
   },
   {
    "duration": 15,
    "start_time": "2023-09-11T12:27:55.368Z"
   },
   {
    "duration": 16,
    "start_time": "2023-09-11T12:27:55.385Z"
   },
   {
    "duration": 14,
    "start_time": "2023-09-11T12:27:55.403Z"
   },
   {
    "duration": 10,
    "start_time": "2023-09-11T12:27:55.418Z"
   },
   {
    "duration": 36,
    "start_time": "2023-09-11T12:27:55.430Z"
   },
   {
    "duration": 11,
    "start_time": "2023-09-11T12:27:55.468Z"
   },
   {
    "duration": 14,
    "start_time": "2023-09-11T12:27:55.480Z"
   },
   {
    "duration": 7,
    "start_time": "2023-09-11T12:45:31.171Z"
   },
   {
    "duration": 6,
    "start_time": "2023-09-11T12:46:09.941Z"
   },
   {
    "duration": 391,
    "start_time": "2023-09-11T12:51:13.586Z"
   },
   {
    "duration": 76,
    "start_time": "2023-09-11T12:51:13.979Z"
   },
   {
    "duration": 21,
    "start_time": "2023-09-11T12:51:14.056Z"
   },
   {
    "duration": 26,
    "start_time": "2023-09-11T12:51:14.079Z"
   },
   {
    "duration": 38,
    "start_time": "2023-09-11T12:51:14.107Z"
   },
   {
    "duration": 57,
    "start_time": "2023-09-11T12:51:14.146Z"
   },
   {
    "duration": 8,
    "start_time": "2023-09-11T12:51:14.204Z"
   },
   {
    "duration": 16,
    "start_time": "2023-09-11T12:51:14.213Z"
   },
   {
    "duration": 22,
    "start_time": "2023-09-11T12:51:14.230Z"
   },
   {
    "duration": 20,
    "start_time": "2023-09-11T12:51:14.254Z"
   },
   {
    "duration": 25,
    "start_time": "2023-09-11T12:51:14.276Z"
   },
   {
    "duration": 18,
    "start_time": "2023-09-11T12:51:14.303Z"
   },
   {
    "duration": 18,
    "start_time": "2023-09-11T12:51:14.323Z"
   },
   {
    "duration": 24,
    "start_time": "2023-09-11T12:51:14.344Z"
   },
   {
    "duration": 24,
    "start_time": "2023-09-11T12:51:14.370Z"
   },
   {
    "duration": 19,
    "start_time": "2023-09-11T12:51:14.396Z"
   },
   {
    "duration": 27,
    "start_time": "2023-09-11T12:51:14.417Z"
   },
   {
    "duration": 30,
    "start_time": "2023-09-11T12:51:14.446Z"
   },
   {
    "duration": 16,
    "start_time": "2023-09-11T12:51:14.478Z"
   },
   {
    "duration": 6,
    "start_time": "2023-09-11T12:51:14.496Z"
   },
   {
    "duration": 23,
    "start_time": "2023-09-11T12:51:14.504Z"
   },
   {
    "duration": 27,
    "start_time": "2023-09-11T12:51:14.529Z"
   },
   {
    "duration": 5,
    "start_time": "2023-09-11T12:55:19.251Z"
   },
   {
    "duration": 391,
    "start_time": "2023-09-11T12:55:32.182Z"
   },
   {
    "duration": 75,
    "start_time": "2023-09-11T12:55:32.575Z"
   },
   {
    "duration": 28,
    "start_time": "2023-09-11T12:55:32.652Z"
   },
   {
    "duration": 15,
    "start_time": "2023-09-11T12:55:32.682Z"
   },
   {
    "duration": 16,
    "start_time": "2023-09-11T12:55:32.699Z"
   },
   {
    "duration": 56,
    "start_time": "2023-09-11T12:55:32.716Z"
   },
   {
    "duration": 7,
    "start_time": "2023-09-11T12:55:32.773Z"
   },
   {
    "duration": 14,
    "start_time": "2023-09-11T12:55:32.781Z"
   },
   {
    "duration": 22,
    "start_time": "2023-09-11T12:55:32.797Z"
   },
   {
    "duration": 19,
    "start_time": "2023-09-11T12:55:32.821Z"
   },
   {
    "duration": 8,
    "start_time": "2023-09-11T12:55:32.842Z"
   },
   {
    "duration": 30,
    "start_time": "2023-09-11T12:55:32.852Z"
   },
   {
    "duration": 23,
    "start_time": "2023-09-11T12:55:32.883Z"
   },
   {
    "duration": 8,
    "start_time": "2023-09-11T12:55:32.909Z"
   },
   {
    "duration": 17,
    "start_time": "2023-09-11T12:55:32.918Z"
   },
   {
    "duration": 19,
    "start_time": "2023-09-11T12:55:32.937Z"
   },
   {
    "duration": 10,
    "start_time": "2023-09-11T12:55:32.958Z"
   },
   {
    "duration": 22,
    "start_time": "2023-09-11T12:55:32.969Z"
   },
   {
    "duration": 18,
    "start_time": "2023-09-11T12:55:32.993Z"
   },
   {
    "duration": 8,
    "start_time": "2023-09-11T12:55:33.012Z"
   },
   {
    "duration": 18,
    "start_time": "2023-09-11T12:55:33.021Z"
   },
   {
    "duration": 28,
    "start_time": "2023-09-11T12:55:33.041Z"
   },
   {
    "duration": 363,
    "start_time": "2023-09-11T15:17:16.583Z"
   },
   {
    "duration": 150,
    "start_time": "2023-09-11T15:17:16.948Z"
   },
   {
    "duration": 20,
    "start_time": "2023-09-11T15:17:17.099Z"
   },
   {
    "duration": 21,
    "start_time": "2023-09-11T15:17:17.120Z"
   },
   {
    "duration": 23,
    "start_time": "2023-09-11T15:17:17.143Z"
   },
   {
    "duration": 46,
    "start_time": "2023-09-11T15:17:17.167Z"
   },
   {
    "duration": 3,
    "start_time": "2023-09-11T15:17:17.215Z"
   },
   {
    "duration": 6,
    "start_time": "2023-09-11T15:17:17.219Z"
   },
   {
    "duration": 6,
    "start_time": "2023-09-11T15:17:17.227Z"
   },
   {
    "duration": 13,
    "start_time": "2023-09-11T15:17:17.234Z"
   },
   {
    "duration": 6,
    "start_time": "2023-09-11T15:17:17.248Z"
   },
   {
    "duration": 11,
    "start_time": "2023-09-11T15:17:17.255Z"
   },
   {
    "duration": 13,
    "start_time": "2023-09-11T15:17:17.268Z"
   },
   {
    "duration": 9,
    "start_time": "2023-09-11T15:17:17.283Z"
   },
   {
    "duration": 5,
    "start_time": "2023-09-11T15:17:17.294Z"
   },
   {
    "duration": 20,
    "start_time": "2023-09-11T15:17:17.300Z"
   },
   {
    "duration": 6,
    "start_time": "2023-09-11T15:17:17.322Z"
   },
   {
    "duration": 8,
    "start_time": "2023-09-11T15:17:17.329Z"
   },
   {
    "duration": 8,
    "start_time": "2023-09-11T15:17:17.339Z"
   },
   {
    "duration": 11,
    "start_time": "2023-09-11T15:17:17.348Z"
   },
   {
    "duration": 12,
    "start_time": "2023-09-11T15:17:17.360Z"
   },
   {
    "duration": 15,
    "start_time": "2023-09-11T15:17:17.373Z"
   },
   {
    "duration": 10,
    "start_time": "2023-09-11T15:20:13.774Z"
   },
   {
    "duration": 5,
    "start_time": "2023-09-11T15:24:20.076Z"
   },
   {
    "duration": 62,
    "start_time": "2023-09-11T15:24:48.141Z"
   },
   {
    "duration": 5,
    "start_time": "2023-09-11T15:25:11.756Z"
   },
   {
    "duration": 10,
    "start_time": "2023-09-11T15:38:35.004Z"
   },
   {
    "duration": 8,
    "start_time": "2023-09-11T15:38:48.841Z"
   },
   {
    "duration": 9,
    "start_time": "2023-09-11T15:39:53.882Z"
   },
   {
    "duration": 11,
    "start_time": "2023-09-11T15:40:16.264Z"
   },
   {
    "duration": 9,
    "start_time": "2023-09-11T15:42:06.315Z"
   },
   {
    "duration": 5,
    "start_time": "2023-09-11T15:43:04.260Z"
   },
   {
    "duration": 412,
    "start_time": "2023-09-11T15:43:13.895Z"
   },
   {
    "duration": 81,
    "start_time": "2023-09-11T15:43:14.311Z"
   },
   {
    "duration": 20,
    "start_time": "2023-09-11T15:43:14.393Z"
   },
   {
    "duration": 13,
    "start_time": "2023-09-11T15:43:14.415Z"
   },
   {
    "duration": 22,
    "start_time": "2023-09-11T15:43:14.430Z"
   },
   {
    "duration": 34,
    "start_time": "2023-09-11T15:43:14.454Z"
   },
   {
    "duration": 4,
    "start_time": "2023-09-11T15:43:14.489Z"
   },
   {
    "duration": 17,
    "start_time": "2023-09-11T15:43:14.494Z"
   },
   {
    "duration": 6,
    "start_time": "2023-09-11T15:43:14.512Z"
   },
   {
    "duration": 38,
    "start_time": "2023-09-11T15:43:14.520Z"
   },
   {
    "duration": 3,
    "start_time": "2023-09-11T15:43:14.560Z"
   },
   {
    "duration": 4,
    "start_time": "2023-09-11T15:43:14.565Z"
   },
   {
    "duration": 5,
    "start_time": "2023-09-11T15:43:14.571Z"
   },
   {
    "duration": 16,
    "start_time": "2023-09-11T15:43:14.578Z"
   },
   {
    "duration": 16,
    "start_time": "2023-09-11T15:43:14.596Z"
   },
   {
    "duration": 17,
    "start_time": "2023-09-11T15:43:14.613Z"
   },
   {
    "duration": 10,
    "start_time": "2023-09-11T15:43:14.631Z"
   },
   {
    "duration": 14,
    "start_time": "2023-09-11T15:43:14.642Z"
   },
   {
    "duration": 26,
    "start_time": "2023-09-11T15:43:14.657Z"
   },
   {
    "duration": 19,
    "start_time": "2023-09-11T15:43:14.685Z"
   },
   {
    "duration": 21,
    "start_time": "2023-09-11T15:43:14.706Z"
   },
   {
    "duration": 10,
    "start_time": "2023-09-11T15:43:14.728Z"
   },
   {
    "duration": 69,
    "start_time": "2023-09-11T15:49:59.440Z"
   },
   {
    "duration": 10,
    "start_time": "2023-09-11T15:56:08.351Z"
   },
   {
    "duration": 7,
    "start_time": "2023-09-11T16:54:58.749Z"
   },
   {
    "duration": 395,
    "start_time": "2023-09-11T16:55:16.736Z"
   },
   {
    "duration": 74,
    "start_time": "2023-09-11T16:55:17.132Z"
   },
   {
    "duration": 19,
    "start_time": "2023-09-11T16:55:17.208Z"
   },
   {
    "duration": 30,
    "start_time": "2023-09-11T16:55:17.228Z"
   },
   {
    "duration": 9,
    "start_time": "2023-09-11T16:55:17.259Z"
   },
   {
    "duration": 43,
    "start_time": "2023-09-11T16:55:17.269Z"
   },
   {
    "duration": 2,
    "start_time": "2023-09-11T16:55:17.314Z"
   },
   {
    "duration": 15,
    "start_time": "2023-09-11T16:55:17.317Z"
   },
   {
    "duration": 10,
    "start_time": "2023-09-11T16:55:17.333Z"
   },
   {
    "duration": 32,
    "start_time": "2023-09-11T16:55:17.345Z"
   },
   {
    "duration": 4,
    "start_time": "2023-09-11T16:55:17.378Z"
   },
   {
    "duration": 62,
    "start_time": "2023-09-11T16:55:17.383Z"
   },
   {
    "duration": 0,
    "start_time": "2023-09-11T16:55:17.446Z"
   },
   {
    "duration": 0,
    "start_time": "2023-09-11T16:55:17.447Z"
   },
   {
    "duration": 0,
    "start_time": "2023-09-11T16:55:17.449Z"
   },
   {
    "duration": 0,
    "start_time": "2023-09-11T16:55:17.450Z"
   },
   {
    "duration": 0,
    "start_time": "2023-09-11T16:55:17.451Z"
   },
   {
    "duration": 0,
    "start_time": "2023-09-11T16:55:17.451Z"
   },
   {
    "duration": 0,
    "start_time": "2023-09-11T16:55:17.452Z"
   },
   {
    "duration": 0,
    "start_time": "2023-09-11T16:55:17.453Z"
   },
   {
    "duration": 0,
    "start_time": "2023-09-11T16:55:17.454Z"
   },
   {
    "duration": 0,
    "start_time": "2023-09-11T16:55:17.455Z"
   },
   {
    "duration": 10,
    "start_time": "2023-09-11T17:00:49.131Z"
   },
   {
    "duration": 743,
    "start_time": "2023-09-11T17:06:29.505Z"
   },
   {
    "duration": 380,
    "start_time": "2023-09-11T17:06:40.077Z"
   },
   {
    "duration": 73,
    "start_time": "2023-09-11T17:06:40.459Z"
   },
   {
    "duration": 21,
    "start_time": "2023-09-11T17:06:40.533Z"
   },
   {
    "duration": 16,
    "start_time": "2023-09-11T17:06:40.556Z"
   },
   {
    "duration": 10,
    "start_time": "2023-09-11T17:06:40.575Z"
   },
   {
    "duration": 36,
    "start_time": "2023-09-11T17:06:40.586Z"
   },
   {
    "duration": 23,
    "start_time": "2023-09-11T17:06:40.623Z"
   },
   {
    "duration": 12,
    "start_time": "2023-09-11T17:06:40.647Z"
   },
   {
    "duration": 6,
    "start_time": "2023-09-11T17:06:40.660Z"
   },
   {
    "duration": 23,
    "start_time": "2023-09-11T17:06:40.667Z"
   },
   {
    "duration": 4,
    "start_time": "2023-09-11T17:06:40.691Z"
   },
   {
    "duration": 881,
    "start_time": "2023-09-11T17:06:40.696Z"
   },
   {
    "duration": 0,
    "start_time": "2023-09-11T17:06:41.580Z"
   },
   {
    "duration": 0,
    "start_time": "2023-09-11T17:06:41.581Z"
   },
   {
    "duration": 0,
    "start_time": "2023-09-11T17:06:41.582Z"
   },
   {
    "duration": 0,
    "start_time": "2023-09-11T17:06:41.583Z"
   },
   {
    "duration": 0,
    "start_time": "2023-09-11T17:06:41.584Z"
   },
   {
    "duration": 0,
    "start_time": "2023-09-11T17:06:41.585Z"
   },
   {
    "duration": 0,
    "start_time": "2023-09-11T17:06:41.587Z"
   },
   {
    "duration": 1,
    "start_time": "2023-09-11T17:06:41.587Z"
   },
   {
    "duration": 0,
    "start_time": "2023-09-11T17:06:41.589Z"
   },
   {
    "duration": 0,
    "start_time": "2023-09-11T17:06:41.589Z"
   },
   {
    "duration": 32,
    "start_time": "2023-09-11T17:09:11.672Z"
   },
   {
    "duration": 401,
    "start_time": "2023-09-11T17:09:37.330Z"
   },
   {
    "duration": 72,
    "start_time": "2023-09-11T17:09:37.733Z"
   },
   {
    "duration": 20,
    "start_time": "2023-09-11T17:09:37.807Z"
   },
   {
    "duration": 15,
    "start_time": "2023-09-11T17:09:37.828Z"
   },
   {
    "duration": 9,
    "start_time": "2023-09-11T17:09:37.845Z"
   },
   {
    "duration": 32,
    "start_time": "2023-09-11T17:09:37.855Z"
   },
   {
    "duration": 3,
    "start_time": "2023-09-11T17:09:37.888Z"
   },
   {
    "duration": 18,
    "start_time": "2023-09-11T17:09:37.892Z"
   },
   {
    "duration": 7,
    "start_time": "2023-09-11T17:09:37.911Z"
   },
   {
    "duration": 37,
    "start_time": "2023-09-11T17:09:37.919Z"
   },
   {
    "duration": 6,
    "start_time": "2023-09-11T17:09:37.957Z"
   },
   {
    "duration": 33,
    "start_time": "2023-09-11T17:09:37.965Z"
   },
   {
    "duration": 2,
    "start_time": "2023-09-11T17:09:38.000Z"
   },
   {
    "duration": 19,
    "start_time": "2023-09-11T17:09:38.004Z"
   },
   {
    "duration": 4,
    "start_time": "2023-09-11T17:09:38.024Z"
   },
   {
    "duration": 9,
    "start_time": "2023-09-11T17:09:38.029Z"
   },
   {
    "duration": 5,
    "start_time": "2023-09-11T17:09:38.039Z"
   },
   {
    "duration": 4,
    "start_time": "2023-09-11T17:09:38.045Z"
   },
   {
    "duration": 4,
    "start_time": "2023-09-11T17:09:38.050Z"
   },
   {
    "duration": 3,
    "start_time": "2023-09-11T17:09:38.055Z"
   },
   {
    "duration": 14,
    "start_time": "2023-09-11T17:09:38.059Z"
   },
   {
    "duration": 5,
    "start_time": "2023-09-11T17:09:38.074Z"
   },
   {
    "duration": 33,
    "start_time": "2023-09-11T17:09:47.193Z"
   },
   {
    "duration": 10,
    "start_time": "2023-09-11T17:10:45.425Z"
   },
   {
    "duration": 6,
    "start_time": "2023-09-11T17:12:21.344Z"
   },
   {
    "duration": 372,
    "start_time": "2023-09-11T17:13:23.177Z"
   },
   {
    "duration": 78,
    "start_time": "2023-09-11T17:13:23.551Z"
   },
   {
    "duration": 24,
    "start_time": "2023-09-11T17:13:23.631Z"
   },
   {
    "duration": 16,
    "start_time": "2023-09-11T17:13:23.656Z"
   },
   {
    "duration": 9,
    "start_time": "2023-09-11T17:13:23.674Z"
   },
   {
    "duration": 47,
    "start_time": "2023-09-11T17:13:23.685Z"
   },
   {
    "duration": 12,
    "start_time": "2023-09-11T17:13:23.734Z"
   },
   {
    "duration": 16,
    "start_time": "2023-09-11T17:13:23.747Z"
   },
   {
    "duration": 3,
    "start_time": "2023-09-11T17:13:23.765Z"
   },
   {
    "duration": 32,
    "start_time": "2023-09-11T17:13:23.770Z"
   },
   {
    "duration": 3,
    "start_time": "2023-09-11T17:13:23.804Z"
   },
   {
    "duration": 49,
    "start_time": "2023-09-11T17:13:23.808Z"
   },
   {
    "duration": 9,
    "start_time": "2023-09-11T17:13:23.858Z"
   },
   {
    "duration": 20,
    "start_time": "2023-09-11T17:13:23.869Z"
   },
   {
    "duration": 21,
    "start_time": "2023-09-11T17:13:23.891Z"
   },
   {
    "duration": 19,
    "start_time": "2023-09-11T17:13:23.913Z"
   },
   {
    "duration": 27,
    "start_time": "2023-09-11T17:13:23.933Z"
   },
   {
    "duration": 36,
    "start_time": "2023-09-11T17:13:23.961Z"
   },
   {
    "duration": 8,
    "start_time": "2023-09-11T17:13:23.998Z"
   },
   {
    "duration": 27,
    "start_time": "2023-09-11T17:13:24.008Z"
   },
   {
    "duration": 6,
    "start_time": "2023-09-11T17:13:24.038Z"
   },
   {
    "duration": 25,
    "start_time": "2023-09-11T17:13:24.045Z"
   },
   {
    "duration": 4,
    "start_time": "2023-09-11T17:13:45.461Z"
   },
   {
    "duration": 11,
    "start_time": "2023-09-11T17:14:57.713Z"
   },
   {
    "duration": 23,
    "start_time": "2023-09-11T17:15:57.142Z"
   },
   {
    "duration": 16,
    "start_time": "2023-09-11T17:17:02.918Z"
   },
   {
    "duration": 25,
    "start_time": "2023-09-11T17:17:46.502Z"
   },
   {
    "duration": 17,
    "start_time": "2023-09-11T17:18:54.413Z"
   },
   {
    "duration": 24,
    "start_time": "2023-09-11T17:18:56.941Z"
   },
   {
    "duration": 1073,
    "start_time": "2023-09-11T17:20:03.766Z"
   },
   {
    "duration": 16,
    "start_time": "2023-09-11T17:22:00.062Z"
   },
   {
    "duration": 29,
    "start_time": "2023-09-11T17:22:03.692Z"
   },
   {
    "duration": 16,
    "start_time": "2023-09-11T17:22:23.685Z"
   },
   {
    "duration": 18,
    "start_time": "2023-09-11T17:22:26.886Z"
   },
   {
    "duration": 399,
    "start_time": "2023-09-11T17:22:55.734Z"
   },
   {
    "duration": 73,
    "start_time": "2023-09-11T17:22:56.135Z"
   },
   {
    "duration": 21,
    "start_time": "2023-09-11T17:22:56.210Z"
   },
   {
    "duration": 14,
    "start_time": "2023-09-11T17:22:56.233Z"
   },
   {
    "duration": 10,
    "start_time": "2023-09-11T17:22:56.249Z"
   },
   {
    "duration": 36,
    "start_time": "2023-09-11T17:22:56.261Z"
   },
   {
    "duration": 3,
    "start_time": "2023-09-11T17:22:56.298Z"
   },
   {
    "duration": 12,
    "start_time": "2023-09-11T17:22:56.302Z"
   },
   {
    "duration": 6,
    "start_time": "2023-09-11T17:22:56.316Z"
   },
   {
    "duration": 24,
    "start_time": "2023-09-11T17:22:56.344Z"
   },
   {
    "duration": 3,
    "start_time": "2023-09-11T17:22:56.370Z"
   },
   {
    "duration": 37,
    "start_time": "2023-09-11T17:22:56.375Z"
   },
   {
    "duration": 10,
    "start_time": "2023-09-11T17:22:56.413Z"
   },
   {
    "duration": 3,
    "start_time": "2023-09-11T17:22:56.445Z"
   },
   {
    "duration": 11,
    "start_time": "2023-09-11T17:22:56.450Z"
   },
   {
    "duration": 17,
    "start_time": "2023-09-11T17:22:56.463Z"
   },
   {
    "duration": 15,
    "start_time": "2023-09-11T17:22:56.481Z"
   },
   {
    "duration": 2,
    "start_time": "2023-09-11T17:22:56.497Z"
   },
   {
    "duration": 6,
    "start_time": "2023-09-11T17:22:56.501Z"
   },
   {
    "duration": 6,
    "start_time": "2023-09-11T17:22:56.508Z"
   },
   {
    "duration": 29,
    "start_time": "2023-09-11T17:22:56.515Z"
   },
   {
    "duration": 2,
    "start_time": "2023-09-11T17:22:56.546Z"
   },
   {
    "duration": 483,
    "start_time": "2023-09-12T06:11:49.926Z"
   },
   {
    "duration": 347,
    "start_time": "2023-09-12T06:11:50.411Z"
   },
   {
    "duration": 27,
    "start_time": "2023-09-12T06:11:50.759Z"
   },
   {
    "duration": 17,
    "start_time": "2023-09-12T06:11:50.788Z"
   },
   {
    "duration": 11,
    "start_time": "2023-09-12T06:11:50.806Z"
   },
   {
    "duration": 56,
    "start_time": "2023-09-12T06:11:50.819Z"
   },
   {
    "duration": 4,
    "start_time": "2023-09-12T06:11:50.876Z"
   },
   {
    "duration": 17,
    "start_time": "2023-09-12T06:11:50.882Z"
   },
   {
    "duration": 5,
    "start_time": "2023-09-12T06:11:50.902Z"
   },
   {
    "duration": 51,
    "start_time": "2023-09-12T06:11:50.909Z"
   },
   {
    "duration": 7,
    "start_time": "2023-09-12T06:11:50.962Z"
   },
   {
    "duration": 46,
    "start_time": "2023-09-12T06:11:50.970Z"
   },
   {
    "duration": 11,
    "start_time": "2023-09-12T06:11:51.018Z"
   },
   {
    "duration": 28,
    "start_time": "2023-09-12T06:11:51.031Z"
   },
   {
    "duration": 29,
    "start_time": "2023-09-12T06:11:51.061Z"
   },
   {
    "duration": 87,
    "start_time": "2023-09-12T06:11:51.092Z"
   },
   {
    "duration": 19,
    "start_time": "2023-09-12T06:11:51.181Z"
   },
   {
    "duration": 15,
    "start_time": "2023-09-12T06:11:51.201Z"
   },
   {
    "duration": 42,
    "start_time": "2023-09-12T06:11:51.217Z"
   },
   {
    "duration": 32,
    "start_time": "2023-09-12T06:11:51.261Z"
   },
   {
    "duration": 14,
    "start_time": "2023-09-12T06:11:51.295Z"
   },
   {
    "duration": 19,
    "start_time": "2023-09-12T06:11:51.311Z"
   },
   {
    "duration": 3,
    "start_time": "2023-09-12T06:38:33.371Z"
   },
   {
    "duration": 10,
    "start_time": "2023-09-12T06:38:35.102Z"
   },
   {
    "duration": 6,
    "start_time": "2023-09-12T06:39:28.004Z"
   }
  ],
  "colab": {
   "provenance": []
  },
  "kernelspec": {
   "display_name": "Python 3 (ipykernel)",
   "language": "python",
   "name": "python3"
  },
  "language_info": {
   "codemirror_mode": {
    "name": "ipython",
    "version": 3
   },
   "file_extension": ".py",
   "mimetype": "text/x-python",
   "name": "python",
   "nbconvert_exporter": "python",
   "pygments_lexer": "ipython3",
   "version": "3.11.4"
  },
  "toc": {
   "base_numbering": 1,
   "nav_menu": {},
   "number_sections": true,
   "sideBar": true,
   "skip_h1_title": true,
   "title_cell": "Table of Contents",
   "title_sidebar": "Contents",
   "toc_cell": false,
   "toc_position": {},
   "toc_section_display": true,
   "toc_window_display": false
  }
 },
 "nbformat": 4,
 "nbformat_minor": 5
}
