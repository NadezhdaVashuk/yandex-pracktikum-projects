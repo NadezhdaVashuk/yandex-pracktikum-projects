{
 "cells": [
  {
   "cell_type": "markdown",
   "id": "c87d6027",
   "metadata": {},
   "source": [
    "# Исследование прибыли сервиса аренды самокатов GoFast\n",
    "В нашем распоряжении данные о некоторых пользователях популярного сервиса аренды самокатов GoFast из нескольких городов, а также данные об их поездках. Была поставлена задача проанализировать данные и проверить некоторые гипотезы, которые могут помочь бизнесу вырасти. \n",
    "\n",
    "Чтобы совершать поездки по городу, пользователи сервиса GoFast пользуются мобильным приложением. Сервисом можно пользоваться:\n",
    "* без подписки\n",
    "  * абонентская плата отсутствует;\n",
    "  * стоимость одной минуты поездки — 8 рублей;\n",
    "  * стоимость старта (начала поездки) — 50 рублей;\n",
    "* с подпиской Ultra\n",
    "  * абонентская плата — 199 рублей в месяц;\n",
    "  * стоимость одной минуты поездки — 6 рублей;\n",
    "  * стоимость старта — бесплатно.\n",
    "\n",
    "В основных данных есть информация о пользователях, их поездках и подписках. Вся эта информация представлена в виде 3-х отдельных cvs таблиц."
   ]
  },
  {
   "cell_type": "markdown",
   "id": "c5089aec",
   "metadata": {},
   "source": [
    "**План исследования**:\n",
    "1. Изучение общей информации о cvs таблицах с данными.\n",
    "\n",
    "2. Предобработка данных: \n",
    " - изменение типа данных столбца `date`; \n",
    " - создание нового столбца с номером месяца на основе столбца `date`;\n",
    " - проверка наличия пропущенных значений и дубликатов в датафреймах и их обработка там, где это необходимо.\n",
    "\n",
    "3. Исследовательский анализ данных.\n",
    "Описание и визуализация общей информации о пользователях и поездках:\n",
    "* частота встречаемости городов;\n",
    "* соотношение пользователей с подпиской и без подписки;\n",
    "* возраст пользователей;\n",
    "* расстояние, которое пользователь преодолел за одну поездку;\n",
    "* продолжительность поездок.\n",
    "\n",
    "4. Объединение данных.\n",
    "* объединение данных о пользователях, поездках и подписках в одну таблицу.\n",
    "* создание еще 2 таблиц с информацией: \n",
    "  * о пользователях без подписки\n",
    "  * о пользователях с подпиской.\n",
    "* визуализация данных о расстоянии и времени поездок для пользователей обеих категорий.\n",
    "\n",
    "5. Подсчёт выручки.\n",
    "* создание таблицы с агрегированными данными о поездках на основе таблицы с объединёнными данными из шага 4: нахождение суммарного расстояния, количества поездок и суммарного времени для каждого пользователя за каждый месяц.\n",
    "* добавление в этот же датафрейм столбец с помесячной выручкой, которую принёс каждый пользователь. \n",
    "\n",
    "6. Проверка гипотез.\n",
    "* Гипотеза 1: Пользователи с подпиской тратят больше времени на поездки.\n",
    "* Гипотеза 2: Среднее расстояние, которое проезжают пользователи с подпиской за 1 поездку не превышает 3130 метров.\n",
    "* Гипотеза 3: Помесячная выручка от пользователей с подпиской по месяцам выше, чем от пользователей без подписки.\n",
    "\n",
    "7. Общий вывод о проделанном исследовании."
   ]
  },
  {
   "cell_type": "code",
   "execution_count": 1,
   "id": "72576667",
   "metadata": {},
   "outputs": [],
   "source": [
    "import pandas as pd\n",
    "import matplotlib.pyplot as plt\n",
    "import numpy as np\n",
    "import scipy.stats as st"
   ]
  },
  {
   "cell_type": "markdown",
   "id": "c42cbe00",
   "metadata": {},
   "source": [
    "#### Шаг 1. Загрузка данных"
   ]
  },
  {
   "cell_type": "code",
   "execution_count": 2,
   "id": "312dbe4e",
   "metadata": {
    "scrolled": true
   },
   "outputs": [
    {
     "data": {
      "text/html": [
       "<div>\n",
       "<style scoped>\n",
       "    .dataframe tbody tr th:only-of-type {\n",
       "        vertical-align: middle;\n",
       "    }\n",
       "\n",
       "    .dataframe tbody tr th {\n",
       "        vertical-align: top;\n",
       "    }\n",
       "\n",
       "    .dataframe thead th {\n",
       "        text-align: right;\n",
       "    }\n",
       "</style>\n",
       "<table border=\"1\" class=\"dataframe\">\n",
       "  <thead>\n",
       "    <tr style=\"text-align: right;\">\n",
       "      <th></th>\n",
       "      <th>user_id</th>\n",
       "      <th>name</th>\n",
       "      <th>age</th>\n",
       "      <th>city</th>\n",
       "      <th>subscription_type</th>\n",
       "    </tr>\n",
       "  </thead>\n",
       "  <tbody>\n",
       "    <tr>\n",
       "      <th>0</th>\n",
       "      <td>1</td>\n",
       "      <td>Кира</td>\n",
       "      <td>22</td>\n",
       "      <td>Тюмень</td>\n",
       "      <td>ultra</td>\n",
       "    </tr>\n",
       "    <tr>\n",
       "      <th>1</th>\n",
       "      <td>2</td>\n",
       "      <td>Станислав</td>\n",
       "      <td>31</td>\n",
       "      <td>Омск</td>\n",
       "      <td>ultra</td>\n",
       "    </tr>\n",
       "    <tr>\n",
       "      <th>2</th>\n",
       "      <td>3</td>\n",
       "      <td>Алексей</td>\n",
       "      <td>20</td>\n",
       "      <td>Москва</td>\n",
       "      <td>ultra</td>\n",
       "    </tr>\n",
       "    <tr>\n",
       "      <th>3</th>\n",
       "      <td>4</td>\n",
       "      <td>Константин</td>\n",
       "      <td>26</td>\n",
       "      <td>Ростов-на-Дону</td>\n",
       "      <td>ultra</td>\n",
       "    </tr>\n",
       "    <tr>\n",
       "      <th>4</th>\n",
       "      <td>5</td>\n",
       "      <td>Адель</td>\n",
       "      <td>28</td>\n",
       "      <td>Омск</td>\n",
       "      <td>ultra</td>\n",
       "    </tr>\n",
       "    <tr>\n",
       "      <th>5</th>\n",
       "      <td>6</td>\n",
       "      <td>Регина</td>\n",
       "      <td>25</td>\n",
       "      <td>Краснодар</td>\n",
       "      <td>ultra</td>\n",
       "    </tr>\n",
       "    <tr>\n",
       "      <th>6</th>\n",
       "      <td>7</td>\n",
       "      <td>Игорь</td>\n",
       "      <td>23</td>\n",
       "      <td>Омск</td>\n",
       "      <td>ultra</td>\n",
       "    </tr>\n",
       "    <tr>\n",
       "      <th>7</th>\n",
       "      <td>8</td>\n",
       "      <td>Юрий</td>\n",
       "      <td>23</td>\n",
       "      <td>Краснодар</td>\n",
       "      <td>ultra</td>\n",
       "    </tr>\n",
       "    <tr>\n",
       "      <th>8</th>\n",
       "      <td>9</td>\n",
       "      <td>Ян</td>\n",
       "      <td>21</td>\n",
       "      <td>Пятигорск</td>\n",
       "      <td>ultra</td>\n",
       "    </tr>\n",
       "    <tr>\n",
       "      <th>9</th>\n",
       "      <td>10</td>\n",
       "      <td>Валерий</td>\n",
       "      <td>18</td>\n",
       "      <td>Екатеринбург</td>\n",
       "      <td>ultra</td>\n",
       "    </tr>\n",
       "    <tr>\n",
       "      <th>10</th>\n",
       "      <td>11</td>\n",
       "      <td>Агата</td>\n",
       "      <td>31</td>\n",
       "      <td>Краснодар</td>\n",
       "      <td>ultra</td>\n",
       "    </tr>\n",
       "    <tr>\n",
       "      <th>11</th>\n",
       "      <td>12</td>\n",
       "      <td>Марк</td>\n",
       "      <td>27</td>\n",
       "      <td>Тюмень</td>\n",
       "      <td>ultra</td>\n",
       "    </tr>\n",
       "    <tr>\n",
       "      <th>12</th>\n",
       "      <td>13</td>\n",
       "      <td>Ева</td>\n",
       "      <td>24</td>\n",
       "      <td>Краснодар</td>\n",
       "      <td>ultra</td>\n",
       "    </tr>\n",
       "    <tr>\n",
       "      <th>13</th>\n",
       "      <td>14</td>\n",
       "      <td>Антонина</td>\n",
       "      <td>18</td>\n",
       "      <td>Пятигорск</td>\n",
       "      <td>ultra</td>\n",
       "    </tr>\n",
       "    <tr>\n",
       "      <th>14</th>\n",
       "      <td>15</td>\n",
       "      <td>Валерия</td>\n",
       "      <td>24</td>\n",
       "      <td>Тюмень</td>\n",
       "      <td>ultra</td>\n",
       "    </tr>\n",
       "    <tr>\n",
       "      <th>15</th>\n",
       "      <td>16</td>\n",
       "      <td>Амалия</td>\n",
       "      <td>27</td>\n",
       "      <td>Краснодар</td>\n",
       "      <td>ultra</td>\n",
       "    </tr>\n",
       "    <tr>\n",
       "      <th>16</th>\n",
       "      <td>17</td>\n",
       "      <td>Даниил</td>\n",
       "      <td>29</td>\n",
       "      <td>Москва</td>\n",
       "      <td>ultra</td>\n",
       "    </tr>\n",
       "    <tr>\n",
       "      <th>17</th>\n",
       "      <td>18</td>\n",
       "      <td>Аделина</td>\n",
       "      <td>24</td>\n",
       "      <td>Сочи</td>\n",
       "      <td>ultra</td>\n",
       "    </tr>\n",
       "    <tr>\n",
       "      <th>18</th>\n",
       "      <td>19</td>\n",
       "      <td>Регина</td>\n",
       "      <td>32</td>\n",
       "      <td>Тюмень</td>\n",
       "      <td>ultra</td>\n",
       "    </tr>\n",
       "    <tr>\n",
       "      <th>19</th>\n",
       "      <td>20</td>\n",
       "      <td>Игорь</td>\n",
       "      <td>23</td>\n",
       "      <td>Омск</td>\n",
       "      <td>ultra</td>\n",
       "    </tr>\n",
       "  </tbody>\n",
       "</table>\n",
       "</div>"
      ],
      "text/plain": [
       "    user_id        name  age            city subscription_type\n",
       "0         1        Кира   22          Тюмень             ultra\n",
       "1         2   Станислав   31            Омск             ultra\n",
       "2         3     Алексей   20          Москва             ultra\n",
       "3         4  Константин   26  Ростов-на-Дону             ultra\n",
       "4         5       Адель   28            Омск             ultra\n",
       "5         6      Регина   25       Краснодар             ultra\n",
       "6         7       Игорь   23            Омск             ultra\n",
       "7         8        Юрий   23       Краснодар             ultra\n",
       "8         9          Ян   21       Пятигорск             ultra\n",
       "9        10     Валерий   18    Екатеринбург             ultra\n",
       "10       11       Агата   31       Краснодар             ultra\n",
       "11       12        Марк   27          Тюмень             ultra\n",
       "12       13         Ева   24       Краснодар             ultra\n",
       "13       14    Антонина   18       Пятигорск             ultra\n",
       "14       15     Валерия   24          Тюмень             ultra\n",
       "15       16      Амалия   27       Краснодар             ultra\n",
       "16       17      Даниил   29          Москва             ultra\n",
       "17       18     Аделина   24            Сочи             ultra\n",
       "18       19      Регина   32          Тюмень             ultra\n",
       "19       20       Игорь   23            Омск             ultra"
      ]
     },
     "execution_count": 2,
     "metadata": {},
     "output_type": "execute_result"
    }
   ],
   "source": [
    "#выведем первые строки каждого набора данных\n",
    "data_users = pd.read_csv(r'C:\\Users\\nadya\\OneDrive\\Desktop\\yandex_practicum\\GoFast\\users_go.csv')\n",
    "data_users.head(20)"
   ]
  },
  {
   "cell_type": "code",
   "execution_count": 3,
   "id": "9d48914a",
   "metadata": {
    "scrolled": true
   },
   "outputs": [
    {
     "name": "stdout",
     "output_type": "stream",
     "text": [
      "<class 'pandas.core.frame.DataFrame'>\n",
      "RangeIndex: 1565 entries, 0 to 1564\n",
      "Data columns (total 5 columns):\n",
      " #   Column             Non-Null Count  Dtype \n",
      "---  ------             --------------  ----- \n",
      " 0   user_id            1565 non-null   int64 \n",
      " 1   name               1565 non-null   object\n",
      " 2   age                1565 non-null   int64 \n",
      " 3   city               1565 non-null   object\n",
      " 4   subscription_type  1565 non-null   object\n",
      "dtypes: int64(2), object(3)\n",
      "memory usage: 61.3+ KB\n"
     ]
    }
   ],
   "source": [
    "#выведем основную информацию data_users\n",
    "data_users.info()"
   ]
  },
  {
   "cell_type": "markdown",
   "id": "d60250d7",
   "metadata": {},
   "source": [
    "В данных data_users нет пропусков, названия столбцов правильно обозначены, однако тип данных в столбце `user_id` указан не верно. С данными типа int можно совершать математические операции (сложение, вычитание, умножение, деление и проч.), а id пользователя в данном случае просто служит для того, чтобы отличить пользователя от других пользователей, например, с таким же именем, того же возраста. Оставим столбец пока таким, изменим тип данных в нем позже, если это понадобится."
   ]
  },
  {
   "cell_type": "code",
   "execution_count": 4,
   "id": "d6a070e4",
   "metadata": {
    "scrolled": true
   },
   "outputs": [
    {
     "data": {
      "text/html": [
       "<div>\n",
       "<style scoped>\n",
       "    .dataframe tbody tr th:only-of-type {\n",
       "        vertical-align: middle;\n",
       "    }\n",
       "\n",
       "    .dataframe tbody tr th {\n",
       "        vertical-align: top;\n",
       "    }\n",
       "\n",
       "    .dataframe thead th {\n",
       "        text-align: right;\n",
       "    }\n",
       "</style>\n",
       "<table border=\"1\" class=\"dataframe\">\n",
       "  <thead>\n",
       "    <tr style=\"text-align: right;\">\n",
       "      <th></th>\n",
       "      <th>user_id</th>\n",
       "      <th>distance</th>\n",
       "      <th>duration</th>\n",
       "      <th>date</th>\n",
       "    </tr>\n",
       "  </thead>\n",
       "  <tbody>\n",
       "    <tr>\n",
       "      <th>0</th>\n",
       "      <td>1</td>\n",
       "      <td>4409.919140</td>\n",
       "      <td>25.599769</td>\n",
       "      <td>2021-01-01</td>\n",
       "    </tr>\n",
       "    <tr>\n",
       "      <th>1</th>\n",
       "      <td>1</td>\n",
       "      <td>2617.592153</td>\n",
       "      <td>15.816871</td>\n",
       "      <td>2021-01-18</td>\n",
       "    </tr>\n",
       "    <tr>\n",
       "      <th>2</th>\n",
       "      <td>1</td>\n",
       "      <td>754.159807</td>\n",
       "      <td>6.232113</td>\n",
       "      <td>2021-04-20</td>\n",
       "    </tr>\n",
       "    <tr>\n",
       "      <th>3</th>\n",
       "      <td>1</td>\n",
       "      <td>2694.783254</td>\n",
       "      <td>18.511000</td>\n",
       "      <td>2021-08-11</td>\n",
       "    </tr>\n",
       "    <tr>\n",
       "      <th>4</th>\n",
       "      <td>1</td>\n",
       "      <td>4028.687306</td>\n",
       "      <td>26.265803</td>\n",
       "      <td>2021-08-28</td>\n",
       "    </tr>\n",
       "    <tr>\n",
       "      <th>5</th>\n",
       "      <td>1</td>\n",
       "      <td>2770.890808</td>\n",
       "      <td>16.650138</td>\n",
       "      <td>2021-10-09</td>\n",
       "    </tr>\n",
       "    <tr>\n",
       "      <th>6</th>\n",
       "      <td>1</td>\n",
       "      <td>3039.020292</td>\n",
       "      <td>14.927879</td>\n",
       "      <td>2021-10-19</td>\n",
       "    </tr>\n",
       "    <tr>\n",
       "      <th>7</th>\n",
       "      <td>1</td>\n",
       "      <td>2842.118050</td>\n",
       "      <td>23.117468</td>\n",
       "      <td>2021-11-06</td>\n",
       "    </tr>\n",
       "    <tr>\n",
       "      <th>8</th>\n",
       "      <td>1</td>\n",
       "      <td>3412.690668</td>\n",
       "      <td>15.238072</td>\n",
       "      <td>2021-11-14</td>\n",
       "    </tr>\n",
       "    <tr>\n",
       "      <th>9</th>\n",
       "      <td>1</td>\n",
       "      <td>748.690645</td>\n",
       "      <td>15.041884</td>\n",
       "      <td>2021-11-22</td>\n",
       "    </tr>\n",
       "    <tr>\n",
       "      <th>10</th>\n",
       "      <td>1</td>\n",
       "      <td>4031.020195</td>\n",
       "      <td>17.674448</td>\n",
       "      <td>2021-12-14</td>\n",
       "    </tr>\n",
       "    <tr>\n",
       "      <th>11</th>\n",
       "      <td>1</td>\n",
       "      <td>2720.609748</td>\n",
       "      <td>9.529463</td>\n",
       "      <td>2021-12-22</td>\n",
       "    </tr>\n",
       "    <tr>\n",
       "      <th>12</th>\n",
       "      <td>2</td>\n",
       "      <td>3105.086678</td>\n",
       "      <td>24.307514</td>\n",
       "      <td>2021-03-15</td>\n",
       "    </tr>\n",
       "    <tr>\n",
       "      <th>13</th>\n",
       "      <td>2</td>\n",
       "      <td>3053.519401</td>\n",
       "      <td>11.543256</td>\n",
       "      <td>2021-03-18</td>\n",
       "    </tr>\n",
       "    <tr>\n",
       "      <th>14</th>\n",
       "      <td>2</td>\n",
       "      <td>4029.116927</td>\n",
       "      <td>25.109188</td>\n",
       "      <td>2021-03-23</td>\n",
       "    </tr>\n",
       "    <tr>\n",
       "      <th>15</th>\n",
       "      <td>2</td>\n",
       "      <td>2805.786329</td>\n",
       "      <td>20.652145</td>\n",
       "      <td>2021-04-08</td>\n",
       "    </tr>\n",
       "    <tr>\n",
       "      <th>16</th>\n",
       "      <td>2</td>\n",
       "      <td>3358.595495</td>\n",
       "      <td>18.396489</td>\n",
       "      <td>2021-04-13</td>\n",
       "    </tr>\n",
       "    <tr>\n",
       "      <th>17</th>\n",
       "      <td>2</td>\n",
       "      <td>3255.338202</td>\n",
       "      <td>13.851127</td>\n",
       "      <td>2021-06-20</td>\n",
       "    </tr>\n",
       "    <tr>\n",
       "      <th>18</th>\n",
       "      <td>2</td>\n",
       "      <td>3942.817648</td>\n",
       "      <td>20.142725</td>\n",
       "      <td>2021-07-02</td>\n",
       "    </tr>\n",
       "    <tr>\n",
       "      <th>19</th>\n",
       "      <td>2</td>\n",
       "      <td>2837.905316</td>\n",
       "      <td>26.027432</td>\n",
       "      <td>2021-07-18</td>\n",
       "    </tr>\n",
       "  </tbody>\n",
       "</table>\n",
       "</div>"
      ],
      "text/plain": [
       "    user_id     distance   duration        date\n",
       "0         1  4409.919140  25.599769  2021-01-01\n",
       "1         1  2617.592153  15.816871  2021-01-18\n",
       "2         1   754.159807   6.232113  2021-04-20\n",
       "3         1  2694.783254  18.511000  2021-08-11\n",
       "4         1  4028.687306  26.265803  2021-08-28\n",
       "5         1  2770.890808  16.650138  2021-10-09\n",
       "6         1  3039.020292  14.927879  2021-10-19\n",
       "7         1  2842.118050  23.117468  2021-11-06\n",
       "8         1  3412.690668  15.238072  2021-11-14\n",
       "9         1   748.690645  15.041884  2021-11-22\n",
       "10        1  4031.020195  17.674448  2021-12-14\n",
       "11        1  2720.609748   9.529463  2021-12-22\n",
       "12        2  3105.086678  24.307514  2021-03-15\n",
       "13        2  3053.519401  11.543256  2021-03-18\n",
       "14        2  4029.116927  25.109188  2021-03-23\n",
       "15        2  2805.786329  20.652145  2021-04-08\n",
       "16        2  3358.595495  18.396489  2021-04-13\n",
       "17        2  3255.338202  13.851127  2021-06-20\n",
       "18        2  3942.817648  20.142725  2021-07-02\n",
       "19        2  2837.905316  26.027432  2021-07-18"
      ]
     },
     "execution_count": 4,
     "metadata": {},
     "output_type": "execute_result"
    }
   ],
   "source": [
    "data_rides = pd.read_csv(r'C:\\Users\\nadya\\OneDrive\\Desktop\\yandex_practicum\\GoFast\\rides_go.csv')\n",
    "data_rides.head(20)"
   ]
  },
  {
   "cell_type": "code",
   "execution_count": 5,
   "id": "1c930ac9",
   "metadata": {
    "scrolled": true
   },
   "outputs": [
    {
     "name": "stdout",
     "output_type": "stream",
     "text": [
      "<class 'pandas.core.frame.DataFrame'>\n",
      "RangeIndex: 18068 entries, 0 to 18067\n",
      "Data columns (total 4 columns):\n",
      " #   Column    Non-Null Count  Dtype  \n",
      "---  ------    --------------  -----  \n",
      " 0   user_id   18068 non-null  int64  \n",
      " 1   distance  18068 non-null  float64\n",
      " 2   duration  18068 non-null  float64\n",
      " 3   date      18068 non-null  object \n",
      "dtypes: float64(2), int64(1), object(1)\n",
      "memory usage: 564.8+ KB\n"
     ]
    }
   ],
   "source": [
    "data_rides.info()"
   ]
  },
  {
   "cell_type": "markdown",
   "id": "4d6cf29a",
   "metadata": {},
   "source": [
    "В data_rides пропуски также отсутствуют, но в столбце `date` тип данных указан неверно - *object*. Для записи дат есть свой формат - *datatime*. Тип данных в столбце `user_id` так же, как и в data_users указан как *int*, что неверно, поскольку в данном случае это должно быть *object*."
   ]
  },
  {
   "cell_type": "code",
   "execution_count": 6,
   "id": "84008b42",
   "metadata": {
    "scrolled": true
   },
   "outputs": [
    {
     "data": {
      "text/html": [
       "<div>\n",
       "<style scoped>\n",
       "    .dataframe tbody tr th:only-of-type {\n",
       "        vertical-align: middle;\n",
       "    }\n",
       "\n",
       "    .dataframe tbody tr th {\n",
       "        vertical-align: top;\n",
       "    }\n",
       "\n",
       "    .dataframe thead th {\n",
       "        text-align: right;\n",
       "    }\n",
       "</style>\n",
       "<table border=\"1\" class=\"dataframe\">\n",
       "  <thead>\n",
       "    <tr style=\"text-align: right;\">\n",
       "      <th></th>\n",
       "      <th>subscription_type</th>\n",
       "      <th>minute_price</th>\n",
       "      <th>start_ride_price</th>\n",
       "      <th>subscription_fee</th>\n",
       "    </tr>\n",
       "  </thead>\n",
       "  <tbody>\n",
       "    <tr>\n",
       "      <th>0</th>\n",
       "      <td>free</td>\n",
       "      <td>8</td>\n",
       "      <td>50</td>\n",
       "      <td>0</td>\n",
       "    </tr>\n",
       "    <tr>\n",
       "      <th>1</th>\n",
       "      <td>ultra</td>\n",
       "      <td>6</td>\n",
       "      <td>0</td>\n",
       "      <td>199</td>\n",
       "    </tr>\n",
       "  </tbody>\n",
       "</table>\n",
       "</div>"
      ],
      "text/plain": [
       "  subscription_type  minute_price  start_ride_price  subscription_fee\n",
       "0              free             8                50                 0\n",
       "1             ultra             6                 0               199"
      ]
     },
     "execution_count": 6,
     "metadata": {},
     "output_type": "execute_result"
    }
   ],
   "source": [
    "data_subscriptions = pd.read_csv(r'C:\\Users\\nadya\\OneDrive\\Desktop\\yandex_practicum\\GoFast\\subscriptions_go.csv')\n",
    "data_subscriptions"
   ]
  },
  {
   "cell_type": "code",
   "execution_count": 7,
   "id": "bc69567d",
   "metadata": {
    "scrolled": true
   },
   "outputs": [
    {
     "name": "stdout",
     "output_type": "stream",
     "text": [
      "<class 'pandas.core.frame.DataFrame'>\n",
      "RangeIndex: 2 entries, 0 to 1\n",
      "Data columns (total 4 columns):\n",
      " #   Column             Non-Null Count  Dtype \n",
      "---  ------             --------------  ----- \n",
      " 0   subscription_type  2 non-null      object\n",
      " 1   minute_price       2 non-null      int64 \n",
      " 2   start_ride_price   2 non-null      int64 \n",
      " 3   subscription_fee   2 non-null      int64 \n",
      "dtypes: int64(3), object(1)\n",
      "memory usage: 192.0+ bytes\n"
     ]
    }
   ],
   "source": [
    "data_subscriptions.info()"
   ]
  },
  {
   "cell_type": "markdown",
   "id": "49fe3233",
   "metadata": {},
   "source": [
    "С данными data_subscriptions тоже все в порядке, пропусков нет. Тип данных указан верно."
   ]
  },
  {
   "cell_type": "markdown",
   "id": "e95ebca7",
   "metadata": {},
   "source": [
    "#### Шаг 2. Предобработка данных"
   ]
  },
  {
   "cell_type": "code",
   "execution_count": 8,
   "id": "af6d202c",
   "metadata": {},
   "outputs": [
    {
     "name": "stdout",
     "output_type": "stream",
     "text": [
      "<class 'pandas.core.frame.DataFrame'>\n",
      "RangeIndex: 18068 entries, 0 to 18067\n",
      "Data columns (total 4 columns):\n",
      " #   Column    Non-Null Count  Dtype         \n",
      "---  ------    --------------  -----         \n",
      " 0   user_id   18068 non-null  int64         \n",
      " 1   distance  18068 non-null  float64       \n",
      " 2   duration  18068 non-null  float64       \n",
      " 3   date      18068 non-null  datetime64[ns]\n",
      "dtypes: datetime64[ns](1), float64(2), int64(1)\n",
      "memory usage: 564.8 KB\n"
     ]
    }
   ],
   "source": [
    "#в столбце date датафрейма data_rides заменим тип данных на datatime\n",
    "data_rides['date'] = pd.to_datetime(data_rides['date'], format='%Y-%m-%d')\n",
    "data_rides.info()"
   ]
  },
  {
   "cell_type": "code",
   "execution_count": 9,
   "id": "f1910d35",
   "metadata": {
    "scrolled": true
   },
   "outputs": [
    {
     "data": {
      "text/html": [
       "<div>\n",
       "<style scoped>\n",
       "    .dataframe tbody tr th:only-of-type {\n",
       "        vertical-align: middle;\n",
       "    }\n",
       "\n",
       "    .dataframe tbody tr th {\n",
       "        vertical-align: top;\n",
       "    }\n",
       "\n",
       "    .dataframe thead th {\n",
       "        text-align: right;\n",
       "    }\n",
       "</style>\n",
       "<table border=\"1\" class=\"dataframe\">\n",
       "  <thead>\n",
       "    <tr style=\"text-align: right;\">\n",
       "      <th></th>\n",
       "      <th>user_id</th>\n",
       "      <th>distance</th>\n",
       "      <th>duration</th>\n",
       "      <th>date</th>\n",
       "      <th>month</th>\n",
       "    </tr>\n",
       "  </thead>\n",
       "  <tbody>\n",
       "    <tr>\n",
       "      <th>0</th>\n",
       "      <td>1</td>\n",
       "      <td>4409.919140</td>\n",
       "      <td>25.599769</td>\n",
       "      <td>2021-01-01</td>\n",
       "      <td>1</td>\n",
       "    </tr>\n",
       "    <tr>\n",
       "      <th>1</th>\n",
       "      <td>1</td>\n",
       "      <td>2617.592153</td>\n",
       "      <td>15.816871</td>\n",
       "      <td>2021-01-18</td>\n",
       "      <td>1</td>\n",
       "    </tr>\n",
       "    <tr>\n",
       "      <th>2</th>\n",
       "      <td>1</td>\n",
       "      <td>754.159807</td>\n",
       "      <td>6.232113</td>\n",
       "      <td>2021-04-20</td>\n",
       "      <td>4</td>\n",
       "    </tr>\n",
       "    <tr>\n",
       "      <th>3</th>\n",
       "      <td>1</td>\n",
       "      <td>2694.783254</td>\n",
       "      <td>18.511000</td>\n",
       "      <td>2021-08-11</td>\n",
       "      <td>8</td>\n",
       "    </tr>\n",
       "    <tr>\n",
       "      <th>4</th>\n",
       "      <td>1</td>\n",
       "      <td>4028.687306</td>\n",
       "      <td>26.265803</td>\n",
       "      <td>2021-08-28</td>\n",
       "      <td>8</td>\n",
       "    </tr>\n",
       "    <tr>\n",
       "      <th>...</th>\n",
       "      <td>...</td>\n",
       "      <td>...</td>\n",
       "      <td>...</td>\n",
       "      <td>...</td>\n",
       "      <td>...</td>\n",
       "    </tr>\n",
       "    <tr>\n",
       "      <th>18063</th>\n",
       "      <td>1534</td>\n",
       "      <td>3781.098080</td>\n",
       "      <td>19.822962</td>\n",
       "      <td>2021-11-04</td>\n",
       "      <td>11</td>\n",
       "    </tr>\n",
       "    <tr>\n",
       "      <th>18064</th>\n",
       "      <td>1534</td>\n",
       "      <td>2840.423057</td>\n",
       "      <td>21.409799</td>\n",
       "      <td>2021-11-16</td>\n",
       "      <td>11</td>\n",
       "    </tr>\n",
       "    <tr>\n",
       "      <th>18065</th>\n",
       "      <td>1534</td>\n",
       "      <td>3826.185507</td>\n",
       "      <td>18.435051</td>\n",
       "      <td>2021-11-18</td>\n",
       "      <td>11</td>\n",
       "    </tr>\n",
       "    <tr>\n",
       "      <th>18066</th>\n",
       "      <td>1534</td>\n",
       "      <td>2902.308661</td>\n",
       "      <td>16.674362</td>\n",
       "      <td>2021-11-27</td>\n",
       "      <td>11</td>\n",
       "    </tr>\n",
       "    <tr>\n",
       "      <th>18067</th>\n",
       "      <td>1534</td>\n",
       "      <td>2371.711192</td>\n",
       "      <td>15.893917</td>\n",
       "      <td>2021-12-29</td>\n",
       "      <td>12</td>\n",
       "    </tr>\n",
       "  </tbody>\n",
       "</table>\n",
       "<p>18068 rows × 5 columns</p>\n",
       "</div>"
      ],
      "text/plain": [
       "       user_id     distance   duration       date  month\n",
       "0            1  4409.919140  25.599769 2021-01-01      1\n",
       "1            1  2617.592153  15.816871 2021-01-18      1\n",
       "2            1   754.159807   6.232113 2021-04-20      4\n",
       "3            1  2694.783254  18.511000 2021-08-11      8\n",
       "4            1  4028.687306  26.265803 2021-08-28      8\n",
       "...        ...          ...        ...        ...    ...\n",
       "18063     1534  3781.098080  19.822962 2021-11-04     11\n",
       "18064     1534  2840.423057  21.409799 2021-11-16     11\n",
       "18065     1534  3826.185507  18.435051 2021-11-18     11\n",
       "18066     1534  2902.308661  16.674362 2021-11-27     11\n",
       "18067     1534  2371.711192  15.893917 2021-12-29     12\n",
       "\n",
       "[18068 rows x 5 columns]"
      ]
     },
     "execution_count": 9,
     "metadata": {},
     "output_type": "execute_result"
    }
   ],
   "source": [
    "#добавим столбец month в датафрейм data_rides с номером месяца\n",
    "data_rides['month'] = data_rides['date'].dt.month\n",
    "data_rides"
   ]
  },
  {
   "cell_type": "code",
   "execution_count": 10,
   "id": "cc3aa4c3",
   "metadata": {
    "scrolled": true
   },
   "outputs": [
    {
     "data": {
      "text/plain": [
       "31"
      ]
     },
     "execution_count": 10,
     "metadata": {},
     "output_type": "execute_result"
    }
   ],
   "source": [
    "#проверим наличие дубликатов во всех датафреймах\n",
    "data_users.duplicated().sum()"
   ]
  },
  {
   "cell_type": "code",
   "execution_count": 11,
   "id": "06ffc8f3",
   "metadata": {
    "scrolled": true
   },
   "outputs": [
    {
     "data": {
      "text/plain": [
       "0"
      ]
     },
     "execution_count": 11,
     "metadata": {},
     "output_type": "execute_result"
    }
   ],
   "source": [
    "#удалим дубликаты\n",
    "data_users = data_users.drop_duplicates().reset_index(drop=True)\n",
    "data_users.duplicated().sum()"
   ]
  },
  {
   "cell_type": "code",
   "execution_count": 12,
   "id": "748b8b57",
   "metadata": {
    "scrolled": true
   },
   "outputs": [
    {
     "data": {
      "text/plain": [
       "0"
      ]
     },
     "execution_count": 12,
     "metadata": {},
     "output_type": "execute_result"
    }
   ],
   "source": [
    "#посмотрим есть ли дубликаты в data_rides\n",
    "data_rides.duplicated().sum()"
   ]
  },
  {
   "cell_type": "code",
   "execution_count": 13,
   "id": "3678d903",
   "metadata": {
    "scrolled": true
   },
   "outputs": [
    {
     "data": {
      "text/plain": [
       "0"
      ]
     },
     "execution_count": 13,
     "metadata": {},
     "output_type": "execute_result"
    }
   ],
   "source": [
    "#посмотрим есть ли дубликаты в data_subscriptions\n",
    "data_subscriptions.duplicated().sum()"
   ]
  },
  {
   "cell_type": "markdown",
   "id": "c27b0bca",
   "metadata": {},
   "source": [
    "Вывод: в датафрейме data_rides в столбце `date` тип данных был изменен. Пропуски во всех 3 датафреймах отсутствуют. Дубликаты были обнаружены только в датафрейме data_users, их немного, они были удалены."
   ]
  },
  {
   "cell_type": "markdown",
   "id": "212593c7",
   "metadata": {},
   "source": [
    "#### Шаг 3. Исследовательский анализ данных"
   ]
  },
  {
   "cell_type": "markdown",
   "id": "644c4d84",
   "metadata": {},
   "source": [
    "Теперь опишем и визуализируем общую информацию о пользователях и поездках:\n",
    "* частота встречаемости городов;\n",
    "* соотношение пользователей с подпиской и без подписки;\n",
    "* возраст пользователей;\n",
    "* расстояние, которое пользователь преодолел за одну поездку;\n",
    "* продолжительность поездок."
   ]
  },
  {
   "cell_type": "code",
   "execution_count": 14,
   "id": "0ff3cbb0",
   "metadata": {
    "scrolled": true
   },
   "outputs": [
    {
     "data": {
      "text/plain": [
       "Пятигорск         219\n",
       "Екатеринбург      204\n",
       "Ростов-на-Дону    198\n",
       "Краснодар         193\n",
       "Сочи              189\n",
       "Омск              183\n",
       "Тюмень            180\n",
       "Москва            168\n",
       "Name: city, dtype: int64"
      ]
     },
     "execution_count": 14,
     "metadata": {},
     "output_type": "execute_result"
    }
   ],
   "source": [
    "#изучим частоту встречаемости городов\n",
    "data_users['city'].value_counts()"
   ]
  },
  {
   "cell_type": "code",
   "execution_count": 15,
   "id": "98039c31",
   "metadata": {},
   "outputs": [
    {
     "data": {
      "image/png": "[encoded data removed]",
      "text/plain": [
       "<Figure size 640x480 with 1 Axes>"
      ]
     },
     "metadata": {},
     "output_type": "display_data"
    }
   ],
   "source": [
    "#построим график распределений пользователей по городам\n",
    "x = ['Пятигорск', 'Екатеринбург', 'Ростов-на-Дону', 'Краснодар', 'Сочи', 'Омск', 'Тюмень', 'Москва']\n",
    "y = [219, 204, 198, 193, 189, 183, 180, 168]\n",
    "plt.barh(x, y)\n",
    "plt.title('График частоты встречаемости городов')\n",
    "plt.xlabel('Частота встречаемости')\n",
    "plt.ylabel('Название города')\n",
    "plt.show()"
   ]
  },
  {
   "cell_type": "markdown",
   "id": "79044810",
   "metadata": {},
   "source": [
    "В датафрейме чаще всего встречается город Пятигорск, и, наоборот, реже всего Москва."
   ]
  },
  {
   "cell_type": "code",
   "execution_count": 16,
   "id": "5c081d5c",
   "metadata": {},
   "outputs": [
    {
     "data": {
      "text/plain": [
       "free     835\n",
       "ultra    699\n",
       "Name: subscription_type, dtype: int64"
      ]
     },
     "execution_count": 16,
     "metadata": {},
     "output_type": "execute_result"
    }
   ],
   "source": [
    "#посмотрим соотношение пользователей с подпиской и без\n",
    "data_users['subscription_type'].value_counts()"
   ]
  },
  {
   "cell_type": "code",
   "execution_count": 17,
   "id": "e900680c",
   "metadata": {},
   "outputs": [
    {
     "data": {
      "image/png": "[encoded data removed]",
      "text/plain": [
       "<Figure size 640x480 with 1 Axes>"
      ]
     },
     "metadata": {},
     "output_type": "display_data"
    }
   ],
   "source": [
    "#построим график соотношения пользователей с подпиской и без\n",
    "x = ['Пользователи с подпиской', 'Пользователи без подписки']\n",
    "y = [835, 699]\n",
    "plt.barh(x, y)\n",
    "plt.title('График соотношения пользователей с подпиской и без')\n",
    "plt.xlabel('Частота встречаемости')\n",
    "plt.ylabel('Категории пользователей')\n",
    "plt.show()"
   ]
  },
  {
   "cell_type": "markdown",
   "id": "2b2f744c",
   "metadata": {},
   "source": [
    "Как оказалось, пользователей без подписки больше на 136 человек."
   ]
  },
  {
   "cell_type": "code",
   "execution_count": 18,
   "id": "a8964c45",
   "metadata": {
    "scrolled": true
   },
   "outputs": [
    {
     "data": {
      "text/plain": [
       "count    1534.000000\n",
       "mean       24.903520\n",
       "std         4.572367\n",
       "min        12.000000\n",
       "25%        22.000000\n",
       "50%        25.000000\n",
       "75%        28.000000\n",
       "max        43.000000\n",
       "Name: age, dtype: float64"
      ]
     },
     "execution_count": 18,
     "metadata": {},
     "output_type": "execute_result"
    },
    {
     "data": {
      "image/png": "[encoded data removed]",
      "text/plain": [
       "<Figure size 640x480 with 1 Axes>"
      ]
     },
     "metadata": {},
     "output_type": "display_data"
    }
   ],
   "source": [
    "#изучим возраст подпсичиков\n",
    "data_users['age'].plot(title='График распределения пользователей по возрасту', kind='hist', grid=True)\n",
    "plt.xlabel('Возраст')\n",
    "plt.ylabel('Количество пользователей')\n",
    "\n",
    "data_users['age'].describe()"
   ]
  },
  {
   "cell_type": "markdown",
   "id": "14c0d2d9",
   "metadata": {},
   "source": [
    "Интересно, что максимальный возраст подписчиков - 43 года. Минимальный же - 12 лет. Можно сказать, что у сервиса больше всего подписчиков в возрасте 25 лет. Распределение пользователей по возрасту нормальное."
   ]
  },
  {
   "cell_type": "code",
   "execution_count": 19,
   "id": "9f378a8a",
   "metadata": {},
   "outputs": [
    {
     "data": {
      "text/plain": [
       "count    18068.000000\n",
       "mean      3070.659976\n",
       "std       1116.831209\n",
       "min          0.855683\n",
       "25%       2543.226360\n",
       "50%       3133.609994\n",
       "75%       3776.222735\n",
       "max       7211.007745\n",
       "Name: distance, dtype: float64"
      ]
     },
     "execution_count": 19,
     "metadata": {},
     "output_type": "execute_result"
    },
    {
     "data": {
      "image/png": "[encoded data removed]",
      "text/plain": [
       "<Figure size 640x480 with 1 Axes>"
      ]
     },
     "metadata": {},
     "output_type": "display_data"
    }
   ],
   "source": [
    "#изучим расстояние, которое пользователь преодолел за одну поездку\n",
    "data_rides['distance'].plot(title='График расстояний, которые пользователи преодолели за 1 поездку', kind='hist', grid=True)\n",
    "plt.xlabel('Расстояние')\n",
    "plt.ylabel('Количество пользователей')\n",
    "\n",
    "data_rides['distance'].describe()"
   ]
  },
  {
   "cell_type": "markdown",
   "id": "3100397a",
   "metadata": {},
   "source": [
    "Минимальное расстояние, которое пользователь проехал в текущей сессии, составляет меньше 1 км. Максимальное - чуть больше 7 км. В среднем пользователи преодолевают на самокате около 3 км. Распределение значений расстояний, которые пользователи преодолели за 1 поездку, тоже можно назвать нормальным."
   ]
  },
  {
   "cell_type": "code",
   "execution_count": 20,
   "id": "7219b908",
   "metadata": {
    "scrolled": true
   },
   "outputs": [
    {
     "data": {
      "text/plain": [
       "count    18068.000000\n",
       "mean        17.805011\n",
       "std          6.091051\n",
       "min          0.500000\n",
       "25%         13.597563\n",
       "50%         17.678395\n",
       "75%         21.724800\n",
       "max         40.823963\n",
       "Name: duration, dtype: float64"
      ]
     },
     "execution_count": 20,
     "metadata": {},
     "output_type": "execute_result"
    },
    {
     "data": {
      "image/png": "[encoded data removed]",
      "text/plain": [
       "<Figure size 640x480 with 1 Axes>"
      ]
     },
     "metadata": {},
     "output_type": "display_data"
    }
   ],
   "source": [
    "#изучим продолжительность поездок\n",
    "data_rides['duration'].plot(title='График продолжительности поездок', kind='hist', grid=True)\n",
    "plt.xlabel('Время поездки')\n",
    "plt.ylabel('Количество пользователей')\n",
    "\n",
    "data_rides['duration'].describe()"
   ]
  },
  {
   "cell_type": "code",
   "execution_count": 21,
   "id": "02802eb0",
   "metadata": {
    "scrolled": true
   },
   "outputs": [
    {
     "data": {
      "text/html": [
       "<div>\n",
       "<style scoped>\n",
       "    .dataframe tbody tr th:only-of-type {\n",
       "        vertical-align: middle;\n",
       "    }\n",
       "\n",
       "    .dataframe tbody tr th {\n",
       "        vertical-align: top;\n",
       "    }\n",
       "\n",
       "    .dataframe thead th {\n",
       "        text-align: right;\n",
       "    }\n",
       "</style>\n",
       "<table border=\"1\" class=\"dataframe\">\n",
       "  <thead>\n",
       "    <tr style=\"text-align: right;\">\n",
       "      <th></th>\n",
       "      <th>user_id</th>\n",
       "      <th>distance</th>\n",
       "      <th>duration</th>\n",
       "      <th>date</th>\n",
       "      <th>month</th>\n",
       "    </tr>\n",
       "  </thead>\n",
       "  <tbody>\n",
       "    <tr>\n",
       "      <th>280</th>\n",
       "      <td>29</td>\n",
       "      <td>824.495470</td>\n",
       "      <td>4.832212</td>\n",
       "      <td>2021-11-21</td>\n",
       "      <td>11</td>\n",
       "    </tr>\n",
       "    <tr>\n",
       "      <th>406</th>\n",
       "      <td>44</td>\n",
       "      <td>504.654111</td>\n",
       "      <td>4.513962</td>\n",
       "      <td>2021-01-25</td>\n",
       "      <td>1</td>\n",
       "    </tr>\n",
       "    <tr>\n",
       "      <th>1450</th>\n",
       "      <td>157</td>\n",
       "      <td>935.054928</td>\n",
       "      <td>4.934596</td>\n",
       "      <td>2021-10-03</td>\n",
       "      <td>10</td>\n",
       "    </tr>\n",
       "    <tr>\n",
       "      <th>1843</th>\n",
       "      <td>199</td>\n",
       "      <td>606.203843</td>\n",
       "      <td>4.347120</td>\n",
       "      <td>2021-03-27</td>\n",
       "      <td>3</td>\n",
       "    </tr>\n",
       "    <tr>\n",
       "      <th>2125</th>\n",
       "      <td>227</td>\n",
       "      <td>618.389251</td>\n",
       "      <td>4.855168</td>\n",
       "      <td>2021-06-22</td>\n",
       "      <td>6</td>\n",
       "    </tr>\n",
       "    <tr>\n",
       "      <th>...</th>\n",
       "      <td>...</td>\n",
       "      <td>...</td>\n",
       "      <td>...</td>\n",
       "      <td>...</td>\n",
       "      <td>...</td>\n",
       "    </tr>\n",
       "    <tr>\n",
       "      <th>17802</th>\n",
       "      <td>1516</td>\n",
       "      <td>393.696926</td>\n",
       "      <td>2.874882</td>\n",
       "      <td>2021-07-28</td>\n",
       "      <td>7</td>\n",
       "    </tr>\n",
       "    <tr>\n",
       "      <th>17839</th>\n",
       "      <td>1519</td>\n",
       "      <td>1221.602398</td>\n",
       "      <td>4.931846</td>\n",
       "      <td>2021-06-04</td>\n",
       "      <td>6</td>\n",
       "    </tr>\n",
       "    <tr>\n",
       "      <th>17909</th>\n",
       "      <td>1524</td>\n",
       "      <td>4103.998874</td>\n",
       "      <td>0.500000</td>\n",
       "      <td>2021-06-18</td>\n",
       "      <td>6</td>\n",
       "    </tr>\n",
       "    <tr>\n",
       "      <th>17924</th>\n",
       "      <td>1525</td>\n",
       "      <td>381.313695</td>\n",
       "      <td>4.089468</td>\n",
       "      <td>2021-08-25</td>\n",
       "      <td>8</td>\n",
       "    </tr>\n",
       "    <tr>\n",
       "      <th>17965</th>\n",
       "      <td>1528</td>\n",
       "      <td>182.743404</td>\n",
       "      <td>3.730974</td>\n",
       "      <td>2021-09-15</td>\n",
       "      <td>9</td>\n",
       "    </tr>\n",
       "  </tbody>\n",
       "</table>\n",
       "<p>278 rows × 5 columns</p>\n",
       "</div>"
      ],
      "text/plain": [
       "       user_id     distance  duration       date  month\n",
       "280         29   824.495470  4.832212 2021-11-21     11\n",
       "406         44   504.654111  4.513962 2021-01-25      1\n",
       "1450       157   935.054928  4.934596 2021-10-03     10\n",
       "1843       199   606.203843  4.347120 2021-03-27      3\n",
       "2125       227   618.389251  4.855168 2021-06-22      6\n",
       "...        ...          ...       ...        ...    ...\n",
       "17802     1516   393.696926  2.874882 2021-07-28      7\n",
       "17839     1519  1221.602398  4.931846 2021-06-04      6\n",
       "17909     1524  4103.998874  0.500000 2021-06-18      6\n",
       "17924     1525   381.313695  4.089468 2021-08-25      8\n",
       "17965     1528   182.743404  3.730974 2021-09-15      9\n",
       "\n",
       "[278 rows x 5 columns]"
      ]
     },
     "execution_count": 21,
     "metadata": {},
     "output_type": "execute_result"
    }
   ],
   "source": [
    "#посмотрим какие расстояния проезжают пользователи, длительность поездок которых составляет меньше 5 минут\n",
    "#для этого выведем срез данных\n",
    "data_rides.query('duration <= 5')"
   ]
  },
  {
   "cell_type": "markdown",
   "id": "202e1a2c",
   "metadata": {},
   "source": [
    "Значения расстояний поездок длительностью 5 минут и меньше довольно разнятся. Например, есть расстояние поездки 504 м, которое было преодолено пользователем за почти 5 минут, а есть расстояние поездки 4103 м, которое было преодолено пользователем меньше, чем за минуту. Но это скорее вопрос про среднюю скорость, за которую то или иное расстояние было преодолено пользователями."
   ]
  },
  {
   "cell_type": "markdown",
   "id": "10cff060",
   "metadata": {},
   "source": [
    "Минимальное время, в течение которого пользовались самокатом, составляет меньше минуты. Похоже, это тот пользователь, расстояние поездки которого составило меньше километра. Можно предположить, что он передумал пользоваться самокатом и сразу же завершил поездку, либо в приложении возникла ошибка и поездка была завершена и проч. Максимальное время использования самоката - 40 минут. В среднем поездка пользователей составляет 18 минут. Распределение значений времени нормальное."
   ]
  },
  {
   "cell_type": "markdown",
   "id": "4ef51331",
   "metadata": {},
   "source": [
    "#### Шаг 4. Объединение данных"
   ]
  },
  {
   "cell_type": "code",
   "execution_count": 22,
   "id": "6bf288b5",
   "metadata": {
    "scrolled": true
   },
   "outputs": [
    {
     "data": {
      "text/html": [
       "<div>\n",
       "<style scoped>\n",
       "    .dataframe tbody tr th:only-of-type {\n",
       "        vertical-align: middle;\n",
       "    }\n",
       "\n",
       "    .dataframe tbody tr th {\n",
       "        vertical-align: top;\n",
       "    }\n",
       "\n",
       "    .dataframe thead th {\n",
       "        text-align: right;\n",
       "    }\n",
       "</style>\n",
       "<table border=\"1\" class=\"dataframe\">\n",
       "  <thead>\n",
       "    <tr style=\"text-align: right;\">\n",
       "      <th></th>\n",
       "      <th>user_id</th>\n",
       "      <th>name</th>\n",
       "      <th>age</th>\n",
       "      <th>city</th>\n",
       "      <th>subscription_type</th>\n",
       "      <th>distance</th>\n",
       "      <th>duration</th>\n",
       "      <th>date</th>\n",
       "      <th>month</th>\n",
       "    </tr>\n",
       "  </thead>\n",
       "  <tbody>\n",
       "    <tr>\n",
       "      <th>0</th>\n",
       "      <td>1</td>\n",
       "      <td>Кира</td>\n",
       "      <td>22</td>\n",
       "      <td>Тюмень</td>\n",
       "      <td>ultra</td>\n",
       "      <td>4409.919140</td>\n",
       "      <td>25.599769</td>\n",
       "      <td>2021-01-01</td>\n",
       "      <td>1</td>\n",
       "    </tr>\n",
       "    <tr>\n",
       "      <th>1</th>\n",
       "      <td>1</td>\n",
       "      <td>Кира</td>\n",
       "      <td>22</td>\n",
       "      <td>Тюмень</td>\n",
       "      <td>ultra</td>\n",
       "      <td>2617.592153</td>\n",
       "      <td>15.816871</td>\n",
       "      <td>2021-01-18</td>\n",
       "      <td>1</td>\n",
       "    </tr>\n",
       "    <tr>\n",
       "      <th>2</th>\n",
       "      <td>1</td>\n",
       "      <td>Кира</td>\n",
       "      <td>22</td>\n",
       "      <td>Тюмень</td>\n",
       "      <td>ultra</td>\n",
       "      <td>754.159807</td>\n",
       "      <td>6.232113</td>\n",
       "      <td>2021-04-20</td>\n",
       "      <td>4</td>\n",
       "    </tr>\n",
       "    <tr>\n",
       "      <th>3</th>\n",
       "      <td>1</td>\n",
       "      <td>Кира</td>\n",
       "      <td>22</td>\n",
       "      <td>Тюмень</td>\n",
       "      <td>ultra</td>\n",
       "      <td>2694.783254</td>\n",
       "      <td>18.511000</td>\n",
       "      <td>2021-08-11</td>\n",
       "      <td>8</td>\n",
       "    </tr>\n",
       "    <tr>\n",
       "      <th>4</th>\n",
       "      <td>1</td>\n",
       "      <td>Кира</td>\n",
       "      <td>22</td>\n",
       "      <td>Тюмень</td>\n",
       "      <td>ultra</td>\n",
       "      <td>4028.687306</td>\n",
       "      <td>26.265803</td>\n",
       "      <td>2021-08-28</td>\n",
       "      <td>8</td>\n",
       "    </tr>\n",
       "    <tr>\n",
       "      <th>...</th>\n",
       "      <td>...</td>\n",
       "      <td>...</td>\n",
       "      <td>...</td>\n",
       "      <td>...</td>\n",
       "      <td>...</td>\n",
       "      <td>...</td>\n",
       "      <td>...</td>\n",
       "      <td>...</td>\n",
       "      <td>...</td>\n",
       "    </tr>\n",
       "    <tr>\n",
       "      <th>18063</th>\n",
       "      <td>1534</td>\n",
       "      <td>Альберт</td>\n",
       "      <td>25</td>\n",
       "      <td>Краснодар</td>\n",
       "      <td>free</td>\n",
       "      <td>3781.098080</td>\n",
       "      <td>19.822962</td>\n",
       "      <td>2021-11-04</td>\n",
       "      <td>11</td>\n",
       "    </tr>\n",
       "    <tr>\n",
       "      <th>18064</th>\n",
       "      <td>1534</td>\n",
       "      <td>Альберт</td>\n",
       "      <td>25</td>\n",
       "      <td>Краснодар</td>\n",
       "      <td>free</td>\n",
       "      <td>2840.423057</td>\n",
       "      <td>21.409799</td>\n",
       "      <td>2021-11-16</td>\n",
       "      <td>11</td>\n",
       "    </tr>\n",
       "    <tr>\n",
       "      <th>18065</th>\n",
       "      <td>1534</td>\n",
       "      <td>Альберт</td>\n",
       "      <td>25</td>\n",
       "      <td>Краснодар</td>\n",
       "      <td>free</td>\n",
       "      <td>3826.185507</td>\n",
       "      <td>18.435051</td>\n",
       "      <td>2021-11-18</td>\n",
       "      <td>11</td>\n",
       "    </tr>\n",
       "    <tr>\n",
       "      <th>18066</th>\n",
       "      <td>1534</td>\n",
       "      <td>Альберт</td>\n",
       "      <td>25</td>\n",
       "      <td>Краснодар</td>\n",
       "      <td>free</td>\n",
       "      <td>2902.308661</td>\n",
       "      <td>16.674362</td>\n",
       "      <td>2021-11-27</td>\n",
       "      <td>11</td>\n",
       "    </tr>\n",
       "    <tr>\n",
       "      <th>18067</th>\n",
       "      <td>1534</td>\n",
       "      <td>Альберт</td>\n",
       "      <td>25</td>\n",
       "      <td>Краснодар</td>\n",
       "      <td>free</td>\n",
       "      <td>2371.711192</td>\n",
       "      <td>15.893917</td>\n",
       "      <td>2021-12-29</td>\n",
       "      <td>12</td>\n",
       "    </tr>\n",
       "  </tbody>\n",
       "</table>\n",
       "<p>18068 rows × 9 columns</p>\n",
       "</div>"
      ],
      "text/plain": [
       "       user_id     name  age       city subscription_type     distance  \\\n",
       "0            1     Кира   22     Тюмень             ultra  4409.919140   \n",
       "1            1     Кира   22     Тюмень             ultra  2617.592153   \n",
       "2            1     Кира   22     Тюмень             ultra   754.159807   \n",
       "3            1     Кира   22     Тюмень             ultra  2694.783254   \n",
       "4            1     Кира   22     Тюмень             ultra  4028.687306   \n",
       "...        ...      ...  ...        ...               ...          ...   \n",
       "18063     1534  Альберт   25  Краснодар              free  3781.098080   \n",
       "18064     1534  Альберт   25  Краснодар              free  2840.423057   \n",
       "18065     1534  Альберт   25  Краснодар              free  3826.185507   \n",
       "18066     1534  Альберт   25  Краснодар              free  2902.308661   \n",
       "18067     1534  Альберт   25  Краснодар              free  2371.711192   \n",
       "\n",
       "        duration       date  month  \n",
       "0      25.599769 2021-01-01      1  \n",
       "1      15.816871 2021-01-18      1  \n",
       "2       6.232113 2021-04-20      4  \n",
       "3      18.511000 2021-08-11      8  \n",
       "4      26.265803 2021-08-28      8  \n",
       "...          ...        ...    ...  \n",
       "18063  19.822962 2021-11-04     11  \n",
       "18064  21.409799 2021-11-16     11  \n",
       "18065  18.435051 2021-11-18     11  \n",
       "18066  16.674362 2021-11-27     11  \n",
       "18067  15.893917 2021-12-29     12  \n",
       "\n",
       "[18068 rows x 9 columns]"
      ]
     },
     "execution_count": 22,
     "metadata": {},
     "output_type": "execute_result"
    }
   ],
   "source": [
    "#объединим данные о пользователях, поездках и подписчиках в 1 датафрейм и сделаем это в 2 шага\n",
    "#сначала объединим датафрейм с информацией о пользователях и их поездках. Пусть data_users будет основным датафреймом\n",
    "merged_data = data_users.merge(data_rides, on='user_id', how='left')\n",
    "merged_data"
   ]
  },
  {
   "cell_type": "code",
   "execution_count": 23,
   "id": "b2b8d182",
   "metadata": {
    "scrolled": true
   },
   "outputs": [
    {
     "data": {
      "text/plain": [
       "user_id              0\n",
       "name                 0\n",
       "age                  0\n",
       "city                 0\n",
       "subscription_type    0\n",
       "distance             0\n",
       "duration             0\n",
       "date                 0\n",
       "month                0\n",
       "dtype: int64"
      ]
     },
     "execution_count": 23,
     "metadata": {},
     "output_type": "execute_result"
    }
   ],
   "source": [
    "#проверим, нет ли в merged_data пропусков\n",
    "merged_data.isna().sum()"
   ]
  },
  {
   "cell_type": "markdown",
   "id": "17028ed1",
   "metadata": {},
   "source": [
    "После объединения датафреймов с информацией о пользователях и их поездках пропусков не возникло. Идем дальше."
   ]
  },
  {
   "cell_type": "code",
   "execution_count": 24,
   "id": "4a019909",
   "metadata": {},
   "outputs": [
    {
     "data": {
      "text/html": [
       "<div>\n",
       "<style scoped>\n",
       "    .dataframe tbody tr th:only-of-type {\n",
       "        vertical-align: middle;\n",
       "    }\n",
       "\n",
       "    .dataframe tbody tr th {\n",
       "        vertical-align: top;\n",
       "    }\n",
       "\n",
       "    .dataframe thead th {\n",
       "        text-align: right;\n",
       "    }\n",
       "</style>\n",
       "<table border=\"1\" class=\"dataframe\">\n",
       "  <thead>\n",
       "    <tr style=\"text-align: right;\">\n",
       "      <th></th>\n",
       "      <th>user_id</th>\n",
       "      <th>name</th>\n",
       "      <th>age</th>\n",
       "      <th>city</th>\n",
       "      <th>subscription_type</th>\n",
       "      <th>distance</th>\n",
       "      <th>duration</th>\n",
       "      <th>date</th>\n",
       "      <th>month</th>\n",
       "      <th>minute_price</th>\n",
       "      <th>start_ride_price</th>\n",
       "      <th>subscription_fee</th>\n",
       "    </tr>\n",
       "  </thead>\n",
       "  <tbody>\n",
       "    <tr>\n",
       "      <th>0</th>\n",
       "      <td>1</td>\n",
       "      <td>Кира</td>\n",
       "      <td>22</td>\n",
       "      <td>Тюмень</td>\n",
       "      <td>ultra</td>\n",
       "      <td>4409.919140</td>\n",
       "      <td>25.599769</td>\n",
       "      <td>2021-01-01</td>\n",
       "      <td>1</td>\n",
       "      <td>6</td>\n",
       "      <td>0</td>\n",
       "      <td>199</td>\n",
       "    </tr>\n",
       "    <tr>\n",
       "      <th>1</th>\n",
       "      <td>1</td>\n",
       "      <td>Кира</td>\n",
       "      <td>22</td>\n",
       "      <td>Тюмень</td>\n",
       "      <td>ultra</td>\n",
       "      <td>2617.592153</td>\n",
       "      <td>15.816871</td>\n",
       "      <td>2021-01-18</td>\n",
       "      <td>1</td>\n",
       "      <td>6</td>\n",
       "      <td>0</td>\n",
       "      <td>199</td>\n",
       "    </tr>\n",
       "    <tr>\n",
       "      <th>2</th>\n",
       "      <td>1</td>\n",
       "      <td>Кира</td>\n",
       "      <td>22</td>\n",
       "      <td>Тюмень</td>\n",
       "      <td>ultra</td>\n",
       "      <td>754.159807</td>\n",
       "      <td>6.232113</td>\n",
       "      <td>2021-04-20</td>\n",
       "      <td>4</td>\n",
       "      <td>6</td>\n",
       "      <td>0</td>\n",
       "      <td>199</td>\n",
       "    </tr>\n",
       "    <tr>\n",
       "      <th>3</th>\n",
       "      <td>1</td>\n",
       "      <td>Кира</td>\n",
       "      <td>22</td>\n",
       "      <td>Тюмень</td>\n",
       "      <td>ultra</td>\n",
       "      <td>2694.783254</td>\n",
       "      <td>18.511000</td>\n",
       "      <td>2021-08-11</td>\n",
       "      <td>8</td>\n",
       "      <td>6</td>\n",
       "      <td>0</td>\n",
       "      <td>199</td>\n",
       "    </tr>\n",
       "    <tr>\n",
       "      <th>4</th>\n",
       "      <td>1</td>\n",
       "      <td>Кира</td>\n",
       "      <td>22</td>\n",
       "      <td>Тюмень</td>\n",
       "      <td>ultra</td>\n",
       "      <td>4028.687306</td>\n",
       "      <td>26.265803</td>\n",
       "      <td>2021-08-28</td>\n",
       "      <td>8</td>\n",
       "      <td>6</td>\n",
       "      <td>0</td>\n",
       "      <td>199</td>\n",
       "    </tr>\n",
       "    <tr>\n",
       "      <th>5</th>\n",
       "      <td>1</td>\n",
       "      <td>Кира</td>\n",
       "      <td>22</td>\n",
       "      <td>Тюмень</td>\n",
       "      <td>ultra</td>\n",
       "      <td>2770.890808</td>\n",
       "      <td>16.650138</td>\n",
       "      <td>2021-10-09</td>\n",
       "      <td>10</td>\n",
       "      <td>6</td>\n",
       "      <td>0</td>\n",
       "      <td>199</td>\n",
       "    </tr>\n",
       "    <tr>\n",
       "      <th>6</th>\n",
       "      <td>1</td>\n",
       "      <td>Кира</td>\n",
       "      <td>22</td>\n",
       "      <td>Тюмень</td>\n",
       "      <td>ultra</td>\n",
       "      <td>3039.020292</td>\n",
       "      <td>14.927879</td>\n",
       "      <td>2021-10-19</td>\n",
       "      <td>10</td>\n",
       "      <td>6</td>\n",
       "      <td>0</td>\n",
       "      <td>199</td>\n",
       "    </tr>\n",
       "    <tr>\n",
       "      <th>7</th>\n",
       "      <td>1</td>\n",
       "      <td>Кира</td>\n",
       "      <td>22</td>\n",
       "      <td>Тюмень</td>\n",
       "      <td>ultra</td>\n",
       "      <td>2842.118050</td>\n",
       "      <td>23.117468</td>\n",
       "      <td>2021-11-06</td>\n",
       "      <td>11</td>\n",
       "      <td>6</td>\n",
       "      <td>0</td>\n",
       "      <td>199</td>\n",
       "    </tr>\n",
       "    <tr>\n",
       "      <th>8</th>\n",
       "      <td>1</td>\n",
       "      <td>Кира</td>\n",
       "      <td>22</td>\n",
       "      <td>Тюмень</td>\n",
       "      <td>ultra</td>\n",
       "      <td>3412.690668</td>\n",
       "      <td>15.238072</td>\n",
       "      <td>2021-11-14</td>\n",
       "      <td>11</td>\n",
       "      <td>6</td>\n",
       "      <td>0</td>\n",
       "      <td>199</td>\n",
       "    </tr>\n",
       "    <tr>\n",
       "      <th>9</th>\n",
       "      <td>1</td>\n",
       "      <td>Кира</td>\n",
       "      <td>22</td>\n",
       "      <td>Тюмень</td>\n",
       "      <td>ultra</td>\n",
       "      <td>748.690645</td>\n",
       "      <td>15.041884</td>\n",
       "      <td>2021-11-22</td>\n",
       "      <td>11</td>\n",
       "      <td>6</td>\n",
       "      <td>0</td>\n",
       "      <td>199</td>\n",
       "    </tr>\n",
       "    <tr>\n",
       "      <th>10</th>\n",
       "      <td>1</td>\n",
       "      <td>Кира</td>\n",
       "      <td>22</td>\n",
       "      <td>Тюмень</td>\n",
       "      <td>ultra</td>\n",
       "      <td>4031.020195</td>\n",
       "      <td>17.674448</td>\n",
       "      <td>2021-12-14</td>\n",
       "      <td>12</td>\n",
       "      <td>6</td>\n",
       "      <td>0</td>\n",
       "      <td>199</td>\n",
       "    </tr>\n",
       "    <tr>\n",
       "      <th>11</th>\n",
       "      <td>1</td>\n",
       "      <td>Кира</td>\n",
       "      <td>22</td>\n",
       "      <td>Тюмень</td>\n",
       "      <td>ultra</td>\n",
       "      <td>2720.609748</td>\n",
       "      <td>9.529463</td>\n",
       "      <td>2021-12-22</td>\n",
       "      <td>12</td>\n",
       "      <td>6</td>\n",
       "      <td>0</td>\n",
       "      <td>199</td>\n",
       "    </tr>\n",
       "    <tr>\n",
       "      <th>12</th>\n",
       "      <td>2</td>\n",
       "      <td>Станислав</td>\n",
       "      <td>31</td>\n",
       "      <td>Омск</td>\n",
       "      <td>ultra</td>\n",
       "      <td>3105.086678</td>\n",
       "      <td>24.307514</td>\n",
       "      <td>2021-03-15</td>\n",
       "      <td>3</td>\n",
       "      <td>6</td>\n",
       "      <td>0</td>\n",
       "      <td>199</td>\n",
       "    </tr>\n",
       "    <tr>\n",
       "      <th>13</th>\n",
       "      <td>2</td>\n",
       "      <td>Станислав</td>\n",
       "      <td>31</td>\n",
       "      <td>Омск</td>\n",
       "      <td>ultra</td>\n",
       "      <td>3053.519401</td>\n",
       "      <td>11.543256</td>\n",
       "      <td>2021-03-18</td>\n",
       "      <td>3</td>\n",
       "      <td>6</td>\n",
       "      <td>0</td>\n",
       "      <td>199</td>\n",
       "    </tr>\n",
       "    <tr>\n",
       "      <th>14</th>\n",
       "      <td>2</td>\n",
       "      <td>Станислав</td>\n",
       "      <td>31</td>\n",
       "      <td>Омск</td>\n",
       "      <td>ultra</td>\n",
       "      <td>4029.116927</td>\n",
       "      <td>25.109188</td>\n",
       "      <td>2021-03-23</td>\n",
       "      <td>3</td>\n",
       "      <td>6</td>\n",
       "      <td>0</td>\n",
       "      <td>199</td>\n",
       "    </tr>\n",
       "    <tr>\n",
       "      <th>15</th>\n",
       "      <td>2</td>\n",
       "      <td>Станислав</td>\n",
       "      <td>31</td>\n",
       "      <td>Омск</td>\n",
       "      <td>ultra</td>\n",
       "      <td>2805.786329</td>\n",
       "      <td>20.652145</td>\n",
       "      <td>2021-04-08</td>\n",
       "      <td>4</td>\n",
       "      <td>6</td>\n",
       "      <td>0</td>\n",
       "      <td>199</td>\n",
       "    </tr>\n",
       "    <tr>\n",
       "      <th>16</th>\n",
       "      <td>2</td>\n",
       "      <td>Станислав</td>\n",
       "      <td>31</td>\n",
       "      <td>Омск</td>\n",
       "      <td>ultra</td>\n",
       "      <td>3358.595495</td>\n",
       "      <td>18.396489</td>\n",
       "      <td>2021-04-13</td>\n",
       "      <td>4</td>\n",
       "      <td>6</td>\n",
       "      <td>0</td>\n",
       "      <td>199</td>\n",
       "    </tr>\n",
       "    <tr>\n",
       "      <th>17</th>\n",
       "      <td>2</td>\n",
       "      <td>Станислав</td>\n",
       "      <td>31</td>\n",
       "      <td>Омск</td>\n",
       "      <td>ultra</td>\n",
       "      <td>3255.338202</td>\n",
       "      <td>13.851127</td>\n",
       "      <td>2021-06-20</td>\n",
       "      <td>6</td>\n",
       "      <td>6</td>\n",
       "      <td>0</td>\n",
       "      <td>199</td>\n",
       "    </tr>\n",
       "    <tr>\n",
       "      <th>18</th>\n",
       "      <td>2</td>\n",
       "      <td>Станислав</td>\n",
       "      <td>31</td>\n",
       "      <td>Омск</td>\n",
       "      <td>ultra</td>\n",
       "      <td>3942.817648</td>\n",
       "      <td>20.142725</td>\n",
       "      <td>2021-07-02</td>\n",
       "      <td>7</td>\n",
       "      <td>6</td>\n",
       "      <td>0</td>\n",
       "      <td>199</td>\n",
       "    </tr>\n",
       "    <tr>\n",
       "      <th>19</th>\n",
       "      <td>2</td>\n",
       "      <td>Станислав</td>\n",
       "      <td>31</td>\n",
       "      <td>Омск</td>\n",
       "      <td>ultra</td>\n",
       "      <td>2837.905316</td>\n",
       "      <td>26.027432</td>\n",
       "      <td>2021-07-18</td>\n",
       "      <td>7</td>\n",
       "      <td>6</td>\n",
       "      <td>0</td>\n",
       "      <td>199</td>\n",
       "    </tr>\n",
       "    <tr>\n",
       "      <th>20</th>\n",
       "      <td>2</td>\n",
       "      <td>Станислав</td>\n",
       "      <td>31</td>\n",
       "      <td>Омск</td>\n",
       "      <td>ultra</td>\n",
       "      <td>923.007439</td>\n",
       "      <td>6.914760</td>\n",
       "      <td>2021-08-03</td>\n",
       "      <td>8</td>\n",
       "      <td>6</td>\n",
       "      <td>0</td>\n",
       "      <td>199</td>\n",
       "    </tr>\n",
       "    <tr>\n",
       "      <th>21</th>\n",
       "      <td>2</td>\n",
       "      <td>Станислав</td>\n",
       "      <td>31</td>\n",
       "      <td>Омск</td>\n",
       "      <td>ultra</td>\n",
       "      <td>2824.636598</td>\n",
       "      <td>18.779128</td>\n",
       "      <td>2021-10-27</td>\n",
       "      <td>10</td>\n",
       "      <td>6</td>\n",
       "      <td>0</td>\n",
       "      <td>199</td>\n",
       "    </tr>\n",
       "    <tr>\n",
       "      <th>22</th>\n",
       "      <td>2</td>\n",
       "      <td>Станислав</td>\n",
       "      <td>31</td>\n",
       "      <td>Омск</td>\n",
       "      <td>ultra</td>\n",
       "      <td>3828.248580</td>\n",
       "      <td>11.920514</td>\n",
       "      <td>2021-12-18</td>\n",
       "      <td>12</td>\n",
       "      <td>6</td>\n",
       "      <td>0</td>\n",
       "      <td>199</td>\n",
       "    </tr>\n",
       "    <tr>\n",
       "      <th>23</th>\n",
       "      <td>3</td>\n",
       "      <td>Алексей</td>\n",
       "      <td>20</td>\n",
       "      <td>Москва</td>\n",
       "      <td>ultra</td>\n",
       "      <td>3061.777147</td>\n",
       "      <td>12.654443</td>\n",
       "      <td>2021-01-31</td>\n",
       "      <td>1</td>\n",
       "      <td>6</td>\n",
       "      <td>0</td>\n",
       "      <td>199</td>\n",
       "    </tr>\n",
       "    <tr>\n",
       "      <th>24</th>\n",
       "      <td>3</td>\n",
       "      <td>Алексей</td>\n",
       "      <td>20</td>\n",
       "      <td>Москва</td>\n",
       "      <td>ultra</td>\n",
       "      <td>2560.495330</td>\n",
       "      <td>16.534984</td>\n",
       "      <td>2021-02-24</td>\n",
       "      <td>2</td>\n",
       "      <td>6</td>\n",
       "      <td>0</td>\n",
       "      <td>199</td>\n",
       "    </tr>\n",
       "    <tr>\n",
       "      <th>25</th>\n",
       "      <td>3</td>\n",
       "      <td>Алексей</td>\n",
       "      <td>20</td>\n",
       "      <td>Москва</td>\n",
       "      <td>ultra</td>\n",
       "      <td>2860.656686</td>\n",
       "      <td>21.033653</td>\n",
       "      <td>2021-02-26</td>\n",
       "      <td>2</td>\n",
       "      <td>6</td>\n",
       "      <td>0</td>\n",
       "      <td>199</td>\n",
       "    </tr>\n",
       "    <tr>\n",
       "      <th>26</th>\n",
       "      <td>3</td>\n",
       "      <td>Алексей</td>\n",
       "      <td>20</td>\n",
       "      <td>Москва</td>\n",
       "      <td>ultra</td>\n",
       "      <td>2956.651632</td>\n",
       "      <td>20.671364</td>\n",
       "      <td>2021-04-12</td>\n",
       "      <td>4</td>\n",
       "      <td>6</td>\n",
       "      <td>0</td>\n",
       "      <td>199</td>\n",
       "    </tr>\n",
       "    <tr>\n",
       "      <th>27</th>\n",
       "      <td>3</td>\n",
       "      <td>Алексей</td>\n",
       "      <td>20</td>\n",
       "      <td>Москва</td>\n",
       "      <td>ultra</td>\n",
       "      <td>2756.975841</td>\n",
       "      <td>18.519025</td>\n",
       "      <td>2021-05-07</td>\n",
       "      <td>5</td>\n",
       "      <td>6</td>\n",
       "      <td>0</td>\n",
       "      <td>199</td>\n",
       "    </tr>\n",
       "    <tr>\n",
       "      <th>28</th>\n",
       "      <td>3</td>\n",
       "      <td>Алексей</td>\n",
       "      <td>20</td>\n",
       "      <td>Москва</td>\n",
       "      <td>ultra</td>\n",
       "      <td>2837.317332</td>\n",
       "      <td>24.476276</td>\n",
       "      <td>2021-05-21</td>\n",
       "      <td>5</td>\n",
       "      <td>6</td>\n",
       "      <td>0</td>\n",
       "      <td>199</td>\n",
       "    </tr>\n",
       "    <tr>\n",
       "      <th>29</th>\n",
       "      <td>3</td>\n",
       "      <td>Алексей</td>\n",
       "      <td>20</td>\n",
       "      <td>Москва</td>\n",
       "      <td>ultra</td>\n",
       "      <td>3469.733745</td>\n",
       "      <td>18.409201</td>\n",
       "      <td>2021-05-22</td>\n",
       "      <td>5</td>\n",
       "      <td>6</td>\n",
       "      <td>0</td>\n",
       "      <td>199</td>\n",
       "    </tr>\n",
       "  </tbody>\n",
       "</table>\n",
       "</div>"
      ],
      "text/plain": [
       "    user_id       name  age    city subscription_type     distance   duration  \\\n",
       "0         1       Кира   22  Тюмень             ultra  4409.919140  25.599769   \n",
       "1         1       Кира   22  Тюмень             ultra  2617.592153  15.816871   \n",
       "2         1       Кира   22  Тюмень             ultra   754.159807   6.232113   \n",
       "3         1       Кира   22  Тюмень             ultra  2694.783254  18.511000   \n",
       "4         1       Кира   22  Тюмень             ultra  4028.687306  26.265803   \n",
       "5         1       Кира   22  Тюмень             ultra  2770.890808  16.650138   \n",
       "6         1       Кира   22  Тюмень             ultra  3039.020292  14.927879   \n",
       "7         1       Кира   22  Тюмень             ultra  2842.118050  23.117468   \n",
       "8         1       Кира   22  Тюмень             ultra  3412.690668  15.238072   \n",
       "9         1       Кира   22  Тюмень             ultra   748.690645  15.041884   \n",
       "10        1       Кира   22  Тюмень             ultra  4031.020195  17.674448   \n",
       "11        1       Кира   22  Тюмень             ultra  2720.609748   9.529463   \n",
       "12        2  Станислав   31    Омск             ultra  3105.086678  24.307514   \n",
       "13        2  Станислав   31    Омск             ultra  3053.519401  11.543256   \n",
       "14        2  Станислав   31    Омск             ultra  4029.116927  25.109188   \n",
       "15        2  Станислав   31    Омск             ultra  2805.786329  20.652145   \n",
       "16        2  Станислав   31    Омск             ultra  3358.595495  18.396489   \n",
       "17        2  Станислав   31    Омск             ultra  3255.338202  13.851127   \n",
       "18        2  Станислав   31    Омск             ultra  3942.817648  20.142725   \n",
       "19        2  Станислав   31    Омск             ultra  2837.905316  26.027432   \n",
       "20        2  Станислав   31    Омск             ultra   923.007439   6.914760   \n",
       "21        2  Станислав   31    Омск             ultra  2824.636598  18.779128   \n",
       "22        2  Станислав   31    Омск             ultra  3828.248580  11.920514   \n",
       "23        3    Алексей   20  Москва             ultra  3061.777147  12.654443   \n",
       "24        3    Алексей   20  Москва             ultra  2560.495330  16.534984   \n",
       "25        3    Алексей   20  Москва             ultra  2860.656686  21.033653   \n",
       "26        3    Алексей   20  Москва             ultra  2956.651632  20.671364   \n",
       "27        3    Алексей   20  Москва             ultra  2756.975841  18.519025   \n",
       "28        3    Алексей   20  Москва             ultra  2837.317332  24.476276   \n",
       "29        3    Алексей   20  Москва             ultra  3469.733745  18.409201   \n",
       "\n",
       "         date  month  minute_price  start_ride_price  subscription_fee  \n",
       "0  2021-01-01      1             6                 0               199  \n",
       "1  2021-01-18      1             6                 0               199  \n",
       "2  2021-04-20      4             6                 0               199  \n",
       "3  2021-08-11      8             6                 0               199  \n",
       "4  2021-08-28      8             6                 0               199  \n",
       "5  2021-10-09     10             6                 0               199  \n",
       "6  2021-10-19     10             6                 0               199  \n",
       "7  2021-11-06     11             6                 0               199  \n",
       "8  2021-11-14     11             6                 0               199  \n",
       "9  2021-11-22     11             6                 0               199  \n",
       "10 2021-12-14     12             6                 0               199  \n",
       "11 2021-12-22     12             6                 0               199  \n",
       "12 2021-03-15      3             6                 0               199  \n",
       "13 2021-03-18      3             6                 0               199  \n",
       "14 2021-03-23      3             6                 0               199  \n",
       "15 2021-04-08      4             6                 0               199  \n",
       "16 2021-04-13      4             6                 0               199  \n",
       "17 2021-06-20      6             6                 0               199  \n",
       "18 2021-07-02      7             6                 0               199  \n",
       "19 2021-07-18      7             6                 0               199  \n",
       "20 2021-08-03      8             6                 0               199  \n",
       "21 2021-10-27     10             6                 0               199  \n",
       "22 2021-12-18     12             6                 0               199  \n",
       "23 2021-01-31      1             6                 0               199  \n",
       "24 2021-02-24      2             6                 0               199  \n",
       "25 2021-02-26      2             6                 0               199  \n",
       "26 2021-04-12      4             6                 0               199  \n",
       "27 2021-05-07      5             6                 0               199  \n",
       "28 2021-05-21      5             6                 0               199  \n",
       "29 2021-05-22      5             6                 0               199  "
      ]
     },
     "execution_count": 24,
     "metadata": {},
     "output_type": "execute_result"
    }
   ],
   "source": [
    "#теперь к получившемуся датафрейму добавим еще датафрейм с подписками пользователей\n",
    "full_data = merged_data.merge(data_subscriptions, on='subscription_type', how='left')\n",
    "full_data.head(30)"
   ]
  },
  {
   "cell_type": "code",
   "execution_count": 25,
   "id": "038845be",
   "metadata": {},
   "outputs": [
    {
     "data": {
      "text/plain": [
       "user_id              0\n",
       "name                 0\n",
       "age                  0\n",
       "city                 0\n",
       "subscription_type    0\n",
       "distance             0\n",
       "duration             0\n",
       "date                 0\n",
       "month                0\n",
       "minute_price         0\n",
       "start_ride_price     0\n",
       "subscription_fee     0\n",
       "dtype: int64"
      ]
     },
     "execution_count": 25,
     "metadata": {},
     "output_type": "execute_result"
    }
   ],
   "source": [
    "#проверим, не появились ли в full_data пропусков\n",
    "full_data.isna().sum()"
   ]
  },
  {
   "cell_type": "markdown",
   "id": "3fdf1acd",
   "metadata": {},
   "source": [
    "Теперь информация 3-х датафреймов содержится в 1 датафрейме. Пропусков нет, значит датафреймы объединились успешно."
   ]
  },
  {
   "cell_type": "code",
   "execution_count": 26,
   "id": "55b4e233",
   "metadata": {},
   "outputs": [
    {
     "data": {
      "text/html": [
       "<div>\n",
       "<style scoped>\n",
       "    .dataframe tbody tr th:only-of-type {\n",
       "        vertical-align: middle;\n",
       "    }\n",
       "\n",
       "    .dataframe tbody tr th {\n",
       "        vertical-align: top;\n",
       "    }\n",
       "\n",
       "    .dataframe thead th {\n",
       "        text-align: right;\n",
       "    }\n",
       "</style>\n",
       "<table border=\"1\" class=\"dataframe\">\n",
       "  <thead>\n",
       "    <tr style=\"text-align: right;\">\n",
       "      <th></th>\n",
       "      <th>user_id</th>\n",
       "      <th>name</th>\n",
       "      <th>age</th>\n",
       "      <th>city</th>\n",
       "      <th>subscription_type</th>\n",
       "      <th>distance</th>\n",
       "      <th>duration</th>\n",
       "      <th>date</th>\n",
       "      <th>month</th>\n",
       "      <th>minute_price</th>\n",
       "      <th>start_ride_price</th>\n",
       "      <th>subscription_fee</th>\n",
       "    </tr>\n",
       "  </thead>\n",
       "  <tbody>\n",
       "    <tr>\n",
       "      <th>0</th>\n",
       "      <td>1</td>\n",
       "      <td>Кира</td>\n",
       "      <td>22</td>\n",
       "      <td>Тюмень</td>\n",
       "      <td>ultra</td>\n",
       "      <td>4409.919140</td>\n",
       "      <td>25.599769</td>\n",
       "      <td>2021-01-01</td>\n",
       "      <td>1</td>\n",
       "      <td>6</td>\n",
       "      <td>0</td>\n",
       "      <td>199</td>\n",
       "    </tr>\n",
       "    <tr>\n",
       "      <th>1</th>\n",
       "      <td>1</td>\n",
       "      <td>Кира</td>\n",
       "      <td>22</td>\n",
       "      <td>Тюмень</td>\n",
       "      <td>ultra</td>\n",
       "      <td>2617.592153</td>\n",
       "      <td>15.816871</td>\n",
       "      <td>2021-01-18</td>\n",
       "      <td>1</td>\n",
       "      <td>6</td>\n",
       "      <td>0</td>\n",
       "      <td>199</td>\n",
       "    </tr>\n",
       "    <tr>\n",
       "      <th>2</th>\n",
       "      <td>1</td>\n",
       "      <td>Кира</td>\n",
       "      <td>22</td>\n",
       "      <td>Тюмень</td>\n",
       "      <td>ultra</td>\n",
       "      <td>754.159807</td>\n",
       "      <td>6.232113</td>\n",
       "      <td>2021-04-20</td>\n",
       "      <td>4</td>\n",
       "      <td>6</td>\n",
       "      <td>0</td>\n",
       "      <td>199</td>\n",
       "    </tr>\n",
       "    <tr>\n",
       "      <th>3</th>\n",
       "      <td>1</td>\n",
       "      <td>Кира</td>\n",
       "      <td>22</td>\n",
       "      <td>Тюмень</td>\n",
       "      <td>ultra</td>\n",
       "      <td>2694.783254</td>\n",
       "      <td>18.511000</td>\n",
       "      <td>2021-08-11</td>\n",
       "      <td>8</td>\n",
       "      <td>6</td>\n",
       "      <td>0</td>\n",
       "      <td>199</td>\n",
       "    </tr>\n",
       "    <tr>\n",
       "      <th>4</th>\n",
       "      <td>1</td>\n",
       "      <td>Кира</td>\n",
       "      <td>22</td>\n",
       "      <td>Тюмень</td>\n",
       "      <td>ultra</td>\n",
       "      <td>4028.687306</td>\n",
       "      <td>26.265803</td>\n",
       "      <td>2021-08-28</td>\n",
       "      <td>8</td>\n",
       "      <td>6</td>\n",
       "      <td>0</td>\n",
       "      <td>199</td>\n",
       "    </tr>\n",
       "    <tr>\n",
       "      <th>...</th>\n",
       "      <td>...</td>\n",
       "      <td>...</td>\n",
       "      <td>...</td>\n",
       "      <td>...</td>\n",
       "      <td>...</td>\n",
       "      <td>...</td>\n",
       "      <td>...</td>\n",
       "      <td>...</td>\n",
       "      <td>...</td>\n",
       "      <td>...</td>\n",
       "      <td>...</td>\n",
       "      <td>...</td>\n",
       "    </tr>\n",
       "    <tr>\n",
       "      <th>6495</th>\n",
       "      <td>699</td>\n",
       "      <td>Оксана</td>\n",
       "      <td>22</td>\n",
       "      <td>Москва</td>\n",
       "      <td>ultra</td>\n",
       "      <td>3973.046497</td>\n",
       "      <td>24.671163</td>\n",
       "      <td>2021-08-29</td>\n",
       "      <td>8</td>\n",
       "      <td>6</td>\n",
       "      <td>0</td>\n",
       "      <td>199</td>\n",
       "    </tr>\n",
       "    <tr>\n",
       "      <th>6496</th>\n",
       "      <td>699</td>\n",
       "      <td>Оксана</td>\n",
       "      <td>22</td>\n",
       "      <td>Москва</td>\n",
       "      <td>ultra</td>\n",
       "      <td>3288.702563</td>\n",
       "      <td>15.892886</td>\n",
       "      <td>2021-09-12</td>\n",
       "      <td>9</td>\n",
       "      <td>6</td>\n",
       "      <td>0</td>\n",
       "      <td>199</td>\n",
       "    </tr>\n",
       "    <tr>\n",
       "      <th>6497</th>\n",
       "      <td>699</td>\n",
       "      <td>Оксана</td>\n",
       "      <td>22</td>\n",
       "      <td>Москва</td>\n",
       "      <td>ultra</td>\n",
       "      <td>3076.159348</td>\n",
       "      <td>14.389525</td>\n",
       "      <td>2021-09-26</td>\n",
       "      <td>9</td>\n",
       "      <td>6</td>\n",
       "      <td>0</td>\n",
       "      <td>199</td>\n",
       "    </tr>\n",
       "    <tr>\n",
       "      <th>6498</th>\n",
       "      <td>699</td>\n",
       "      <td>Оксана</td>\n",
       "      <td>22</td>\n",
       "      <td>Москва</td>\n",
       "      <td>ultra</td>\n",
       "      <td>4707.845501</td>\n",
       "      <td>15.839579</td>\n",
       "      <td>2021-10-17</td>\n",
       "      <td>10</td>\n",
       "      <td>6</td>\n",
       "      <td>0</td>\n",
       "      <td>199</td>\n",
       "    </tr>\n",
       "    <tr>\n",
       "      <th>6499</th>\n",
       "      <td>699</td>\n",
       "      <td>Оксана</td>\n",
       "      <td>22</td>\n",
       "      <td>Москва</td>\n",
       "      <td>ultra</td>\n",
       "      <td>3202.890770</td>\n",
       "      <td>25.217345</td>\n",
       "      <td>2021-12-03</td>\n",
       "      <td>12</td>\n",
       "      <td>6</td>\n",
       "      <td>0</td>\n",
       "      <td>199</td>\n",
       "    </tr>\n",
       "  </tbody>\n",
       "</table>\n",
       "<p>6500 rows × 12 columns</p>\n",
       "</div>"
      ],
      "text/plain": [
       "      user_id    name  age    city subscription_type     distance   duration  \\\n",
       "0           1    Кира   22  Тюмень             ultra  4409.919140  25.599769   \n",
       "1           1    Кира   22  Тюмень             ultra  2617.592153  15.816871   \n",
       "2           1    Кира   22  Тюмень             ultra   754.159807   6.232113   \n",
       "3           1    Кира   22  Тюмень             ultra  2694.783254  18.511000   \n",
       "4           1    Кира   22  Тюмень             ultra  4028.687306  26.265803   \n",
       "...       ...     ...  ...     ...               ...          ...        ...   \n",
       "6495      699  Оксана   22  Москва             ultra  3973.046497  24.671163   \n",
       "6496      699  Оксана   22  Москва             ultra  3288.702563  15.892886   \n",
       "6497      699  Оксана   22  Москва             ultra  3076.159348  14.389525   \n",
       "6498      699  Оксана   22  Москва             ultra  4707.845501  15.839579   \n",
       "6499      699  Оксана   22  Москва             ultra  3202.890770  25.217345   \n",
       "\n",
       "           date  month  minute_price  start_ride_price  subscription_fee  \n",
       "0    2021-01-01      1             6                 0               199  \n",
       "1    2021-01-18      1             6                 0               199  \n",
       "2    2021-04-20      4             6                 0               199  \n",
       "3    2021-08-11      8             6                 0               199  \n",
       "4    2021-08-28      8             6                 0               199  \n",
       "...         ...    ...           ...               ...               ...  \n",
       "6495 2021-08-29      8             6                 0               199  \n",
       "6496 2021-09-12      9             6                 0               199  \n",
       "6497 2021-09-26      9             6                 0               199  \n",
       "6498 2021-10-17     10             6                 0               199  \n",
       "6499 2021-12-03     12             6                 0               199  \n",
       "\n",
       "[6500 rows x 12 columns]"
      ]
     },
     "execution_count": 26,
     "metadata": {},
     "output_type": "execute_result"
    }
   ],
   "source": [
    "#отдельно создадим из full_data датафрейм ultra_users, в котором будет вся информация о пользователях с подпиской ultra\n",
    "ultra_users = full_data.loc[ full_data['subscription_type'] == 'ultra']\n",
    "ultra_users"
   ]
  },
  {
   "cell_type": "code",
   "execution_count": 27,
   "id": "f02e9fb9",
   "metadata": {
    "scrolled": true
   },
   "outputs": [
    {
     "data": {
      "text/plain": [
       "user_id              0\n",
       "name                 0\n",
       "age                  0\n",
       "city                 0\n",
       "subscription_type    0\n",
       "distance             0\n",
       "duration             0\n",
       "date                 0\n",
       "month                0\n",
       "minute_price         0\n",
       "start_ride_price     0\n",
       "subscription_fee     0\n",
       "dtype: int64"
      ]
     },
     "execution_count": 27,
     "metadata": {},
     "output_type": "execute_result"
    }
   ],
   "source": [
    "#проверим, нет ли в ultra_users пропусков\n",
    "ultra_users.isna().sum()"
   ]
  },
  {
   "cell_type": "markdown",
   "id": "a4cd5a7b",
   "metadata": {},
   "source": [
    "Пропусков нет, с данными все в порядке."
   ]
  },
  {
   "cell_type": "code",
   "execution_count": 28,
   "id": "35dbdf53",
   "metadata": {},
   "outputs": [
    {
     "data": {
      "text/html": [
       "<div>\n",
       "<style scoped>\n",
       "    .dataframe tbody tr th:only-of-type {\n",
       "        vertical-align: middle;\n",
       "    }\n",
       "\n",
       "    .dataframe tbody tr th {\n",
       "        vertical-align: top;\n",
       "    }\n",
       "\n",
       "    .dataframe thead th {\n",
       "        text-align: right;\n",
       "    }\n",
       "</style>\n",
       "<table border=\"1\" class=\"dataframe\">\n",
       "  <thead>\n",
       "    <tr style=\"text-align: right;\">\n",
       "      <th></th>\n",
       "      <th>user_id</th>\n",
       "      <th>name</th>\n",
       "      <th>age</th>\n",
       "      <th>city</th>\n",
       "      <th>subscription_type</th>\n",
       "      <th>distance</th>\n",
       "      <th>duration</th>\n",
       "      <th>date</th>\n",
       "      <th>month</th>\n",
       "      <th>minute_price</th>\n",
       "      <th>start_ride_price</th>\n",
       "      <th>subscription_fee</th>\n",
       "    </tr>\n",
       "  </thead>\n",
       "  <tbody>\n",
       "    <tr>\n",
       "      <th>6500</th>\n",
       "      <td>700</td>\n",
       "      <td>Айдар</td>\n",
       "      <td>22</td>\n",
       "      <td>Омск</td>\n",
       "      <td>free</td>\n",
       "      <td>2515.690719</td>\n",
       "      <td>14.944286</td>\n",
       "      <td>2021-01-02</td>\n",
       "      <td>1</td>\n",
       "      <td>8</td>\n",
       "      <td>50</td>\n",
       "      <td>0</td>\n",
       "    </tr>\n",
       "    <tr>\n",
       "      <th>6501</th>\n",
       "      <td>700</td>\n",
       "      <td>Айдар</td>\n",
       "      <td>22</td>\n",
       "      <td>Омск</td>\n",
       "      <td>free</td>\n",
       "      <td>846.932642</td>\n",
       "      <td>16.234663</td>\n",
       "      <td>2021-02-01</td>\n",
       "      <td>2</td>\n",
       "      <td>8</td>\n",
       "      <td>50</td>\n",
       "      <td>0</td>\n",
       "    </tr>\n",
       "    <tr>\n",
       "      <th>6502</th>\n",
       "      <td>700</td>\n",
       "      <td>Айдар</td>\n",
       "      <td>22</td>\n",
       "      <td>Омск</td>\n",
       "      <td>free</td>\n",
       "      <td>4004.434142</td>\n",
       "      <td>20.016628</td>\n",
       "      <td>2021-02-04</td>\n",
       "      <td>2</td>\n",
       "      <td>8</td>\n",
       "      <td>50</td>\n",
       "      <td>0</td>\n",
       "    </tr>\n",
       "    <tr>\n",
       "      <th>6503</th>\n",
       "      <td>700</td>\n",
       "      <td>Айдар</td>\n",
       "      <td>22</td>\n",
       "      <td>Омск</td>\n",
       "      <td>free</td>\n",
       "      <td>1205.911290</td>\n",
       "      <td>9.782872</td>\n",
       "      <td>2021-02-10</td>\n",
       "      <td>2</td>\n",
       "      <td>8</td>\n",
       "      <td>50</td>\n",
       "      <td>0</td>\n",
       "    </tr>\n",
       "    <tr>\n",
       "      <th>6504</th>\n",
       "      <td>700</td>\n",
       "      <td>Айдар</td>\n",
       "      <td>22</td>\n",
       "      <td>Омск</td>\n",
       "      <td>free</td>\n",
       "      <td>3047.379435</td>\n",
       "      <td>17.427673</td>\n",
       "      <td>2021-02-14</td>\n",
       "      <td>2</td>\n",
       "      <td>8</td>\n",
       "      <td>50</td>\n",
       "      <td>0</td>\n",
       "    </tr>\n",
       "    <tr>\n",
       "      <th>...</th>\n",
       "      <td>...</td>\n",
       "      <td>...</td>\n",
       "      <td>...</td>\n",
       "      <td>...</td>\n",
       "      <td>...</td>\n",
       "      <td>...</td>\n",
       "      <td>...</td>\n",
       "      <td>...</td>\n",
       "      <td>...</td>\n",
       "      <td>...</td>\n",
       "      <td>...</td>\n",
       "      <td>...</td>\n",
       "    </tr>\n",
       "    <tr>\n",
       "      <th>18063</th>\n",
       "      <td>1534</td>\n",
       "      <td>Альберт</td>\n",
       "      <td>25</td>\n",
       "      <td>Краснодар</td>\n",
       "      <td>free</td>\n",
       "      <td>3781.098080</td>\n",
       "      <td>19.822962</td>\n",
       "      <td>2021-11-04</td>\n",
       "      <td>11</td>\n",
       "      <td>8</td>\n",
       "      <td>50</td>\n",
       "      <td>0</td>\n",
       "    </tr>\n",
       "    <tr>\n",
       "      <th>18064</th>\n",
       "      <td>1534</td>\n",
       "      <td>Альберт</td>\n",
       "      <td>25</td>\n",
       "      <td>Краснодар</td>\n",
       "      <td>free</td>\n",
       "      <td>2840.423057</td>\n",
       "      <td>21.409799</td>\n",
       "      <td>2021-11-16</td>\n",
       "      <td>11</td>\n",
       "      <td>8</td>\n",
       "      <td>50</td>\n",
       "      <td>0</td>\n",
       "    </tr>\n",
       "    <tr>\n",
       "      <th>18065</th>\n",
       "      <td>1534</td>\n",
       "      <td>Альберт</td>\n",
       "      <td>25</td>\n",
       "      <td>Краснодар</td>\n",
       "      <td>free</td>\n",
       "      <td>3826.185507</td>\n",
       "      <td>18.435051</td>\n",
       "      <td>2021-11-18</td>\n",
       "      <td>11</td>\n",
       "      <td>8</td>\n",
       "      <td>50</td>\n",
       "      <td>0</td>\n",
       "    </tr>\n",
       "    <tr>\n",
       "      <th>18066</th>\n",
       "      <td>1534</td>\n",
       "      <td>Альберт</td>\n",
       "      <td>25</td>\n",
       "      <td>Краснодар</td>\n",
       "      <td>free</td>\n",
       "      <td>2902.308661</td>\n",
       "      <td>16.674362</td>\n",
       "      <td>2021-11-27</td>\n",
       "      <td>11</td>\n",
       "      <td>8</td>\n",
       "      <td>50</td>\n",
       "      <td>0</td>\n",
       "    </tr>\n",
       "    <tr>\n",
       "      <th>18067</th>\n",
       "      <td>1534</td>\n",
       "      <td>Альберт</td>\n",
       "      <td>25</td>\n",
       "      <td>Краснодар</td>\n",
       "      <td>free</td>\n",
       "      <td>2371.711192</td>\n",
       "      <td>15.893917</td>\n",
       "      <td>2021-12-29</td>\n",
       "      <td>12</td>\n",
       "      <td>8</td>\n",
       "      <td>50</td>\n",
       "      <td>0</td>\n",
       "    </tr>\n",
       "  </tbody>\n",
       "</table>\n",
       "<p>11568 rows × 12 columns</p>\n",
       "</div>"
      ],
      "text/plain": [
       "       user_id     name  age       city subscription_type     distance  \\\n",
       "6500       700    Айдар   22       Омск              free  2515.690719   \n",
       "6501       700    Айдар   22       Омск              free   846.932642   \n",
       "6502       700    Айдар   22       Омск              free  4004.434142   \n",
       "6503       700    Айдар   22       Омск              free  1205.911290   \n",
       "6504       700    Айдар   22       Омск              free  3047.379435   \n",
       "...        ...      ...  ...        ...               ...          ...   \n",
       "18063     1534  Альберт   25  Краснодар              free  3781.098080   \n",
       "18064     1534  Альберт   25  Краснодар              free  2840.423057   \n",
       "18065     1534  Альберт   25  Краснодар              free  3826.185507   \n",
       "18066     1534  Альберт   25  Краснодар              free  2902.308661   \n",
       "18067     1534  Альберт   25  Краснодар              free  2371.711192   \n",
       "\n",
       "        duration       date  month  minute_price  start_ride_price  \\\n",
       "6500   14.944286 2021-01-02      1             8                50   \n",
       "6501   16.234663 2021-02-01      2             8                50   \n",
       "6502   20.016628 2021-02-04      2             8                50   \n",
       "6503    9.782872 2021-02-10      2             8                50   \n",
       "6504   17.427673 2021-02-14      2             8                50   \n",
       "...          ...        ...    ...           ...               ...   \n",
       "18063  19.822962 2021-11-04     11             8                50   \n",
       "18064  21.409799 2021-11-16     11             8                50   \n",
       "18065  18.435051 2021-11-18     11             8                50   \n",
       "18066  16.674362 2021-11-27     11             8                50   \n",
       "18067  15.893917 2021-12-29     12             8                50   \n",
       "\n",
       "       subscription_fee  \n",
       "6500                  0  \n",
       "6501                  0  \n",
       "6502                  0  \n",
       "6503                  0  \n",
       "6504                  0  \n",
       "...                 ...  \n",
       "18063                 0  \n",
       "18064                 0  \n",
       "18065                 0  \n",
       "18066                 0  \n",
       "18067                 0  \n",
       "\n",
       "[11568 rows x 12 columns]"
      ]
     },
     "execution_count": 28,
     "metadata": {},
     "output_type": "execute_result"
    }
   ],
   "source": [
    "#отдельно создадим из full_data датафрейм free_users, в котором будет вся информация о пользователях без подписки\n",
    "free_users = full_data.loc[ full_data['subscription_type'] == 'free']\n",
    "free_users"
   ]
  },
  {
   "cell_type": "code",
   "execution_count": 29,
   "id": "f79836b5",
   "metadata": {
    "scrolled": true
   },
   "outputs": [
    {
     "data": {
      "text/plain": [
       "user_id              0\n",
       "name                 0\n",
       "age                  0\n",
       "city                 0\n",
       "subscription_type    0\n",
       "distance             0\n",
       "duration             0\n",
       "date                 0\n",
       "month                0\n",
       "minute_price         0\n",
       "start_ride_price     0\n",
       "subscription_fee     0\n",
       "dtype: int64"
      ]
     },
     "execution_count": 29,
     "metadata": {},
     "output_type": "execute_result"
    }
   ],
   "source": [
    "#проверим, нет ли в free_users пропусков\n",
    "free_users.isna().sum()"
   ]
  },
  {
   "cell_type": "markdown",
   "id": "ec29012e",
   "metadata": {},
   "source": [
    "Пропусков нет, с данными все в порядке."
   ]
  },
  {
   "cell_type": "markdown",
   "id": "db3b1a92",
   "metadata": {},
   "source": [
    "Вывод: Теперь у нас есть датафрейм full_data, содержащий всю информацию о пользователях, их поездках и подписках. Есть также 2 датафрейма, содержащих информацию о пользователях с подпиской (ultra_users) и без (free_users), соответственно. Похоже, в full_data сначала были записаны пользователи с подпиской (вплоть до 6499 строки), а потом уже пользователи без нее (начиная со строки 6500).\n",
    "\n",
    "Визуализируем информацию о расстоянии и времени поездок для пользователей обеих категорий."
   ]
  },
  {
   "cell_type": "code",
   "execution_count": 30,
   "id": "30b5f17a",
   "metadata": {
    "scrolled": true
   },
   "outputs": [
    {
     "data": {
      "image/png": "[encoded data removed]",
      "text/plain": [
       "<Figure size 640x480 with 1 Axes>"
      ]
     },
     "metadata": {},
     "output_type": "display_data"
    }
   ],
   "source": [
    "#построим гистограмму расстояний, преодолеваемых пользователями с подпиской и без\n",
    "ax = ultra_users['distance'].plot(\n",
    "    title='График расстояний, преодолеваемых пользователями с подпиской и без',\n",
    "    kind='hist',\n",
    "    histtype='step',\n",
    "    range=(0, 5701),\n",
    "    bins=100,\n",
    "    linewidth=5,\n",
    "    alpha=0.7,\n",
    "    label='пользователи с подпиской',\n",
    ")\n",
    "free_users['distance'].plot(\n",
    "    kind='hist',\n",
    "    histtype='step',\n",
    "    range=(0, 7212),\n",
    "    bins=100,\n",
    "    linewidth=5,\n",
    "    alpha=0.7,\n",
    "    label='пользователи без подписки',\n",
    "    ax=ax,\n",
    "    grid=True,\n",
    "    legend=True,\n",
    ")\n",
    "plt.xlabel('Расстояние')\n",
    "plt.ylabel('Количество пользователей')\n",
    "plt.show()"
   ]
  },
  {
   "cell_type": "code",
   "execution_count": 31,
   "id": "7da537f6",
   "metadata": {},
   "outputs": [
    {
     "data": {
      "image/png": "[encoded data removed]",
      "text/plain": [
       "<Figure size 640x480 with 1 Axes>"
      ]
     },
     "metadata": {},
     "output_type": "display_data"
    },
    {
     "data": {
      "image/png": "[encoded data removed]",
      "text/plain": [
       "<Figure size 640x480 with 1 Axes>"
      ]
     },
     "metadata": {},
     "output_type": "display_data"
    }
   ],
   "source": [
    "#посмотрим диаграмму размаха значений столбца distance для пользователей с подпиской\n",
    "plt.ylim(244, 5701)\n",
    "ultra_users.boxplot(column='distance')\n",
    "plt.title('Диаграмма размаха значений столбца distance для пользователей с подпиской')\n",
    "plt.xlabel('Расстояние')\n",
    "plt.ylabel('Количество пользователей')\n",
    "plt.show()\n",
    "\n",
    "#посмотрим диаграмму размаха значений столбца distance для пользователей без подписки\n",
    "plt.ylim(0, 7212)\n",
    "free_users.boxplot(column='distance')\n",
    "plt.title('Диаграмма размаха значений столбца distance для пользователей без подписки')\n",
    "plt.xlabel('Расстояние')\n",
    "plt.ylabel('Количество пользователей')\n",
    "plt.show()"
   ]
  },
  {
   "cell_type": "code",
   "execution_count": 32,
   "id": "117427e4",
   "metadata": {},
   "outputs": [
    {
     "data": {
      "text/plain": [
       "count    6500.000000\n",
       "mean     3115.445388\n",
       "std       836.895330\n",
       "min       244.210438\n",
       "25%      2785.444017\n",
       "50%      3148.637229\n",
       "75%      3560.574425\n",
       "max      5699.769662\n",
       "Name: distance, dtype: float64"
      ]
     },
     "execution_count": 32,
     "metadata": {},
     "output_type": "execute_result"
    }
   ],
   "source": [
    "#выведем более подробную информацию по столбцу distance для пользователей с подпиской\n",
    "ultra_users['distance'].describe()"
   ]
  },
  {
   "cell_type": "markdown",
   "id": "37ff650a",
   "metadata": {},
   "source": [
    "Распределение значений пользователей с подпиской получилось более-менее нормальное, есть выбросы, но не будем их трогать. Минимальное расстояние, которое преодолевают пользователи с подпиской составляет 244 м, а максимальное - 5700 м. Чаще всего пользователи данной категории преодолевают расстояние чуть больше 3 км (около 3148 м)."
   ]
  },
  {
   "cell_type": "code",
   "execution_count": 33,
   "id": "25a7fd10",
   "metadata": {},
   "outputs": [
    {
     "data": {
      "text/plain": [
       "count    11568.000000\n",
       "mean      3045.495282\n",
       "std       1246.173806\n",
       "min          0.855683\n",
       "25%       2366.562689\n",
       "50%       3114.648465\n",
       "75%       3905.697894\n",
       "max       7211.007745\n",
       "Name: distance, dtype: float64"
      ]
     },
     "execution_count": 33,
     "metadata": {},
     "output_type": "execute_result"
    }
   ],
   "source": [
    "##выведем более подробную информацию по столбцу distance для пользователей без подписки\n",
    "free_users['distance'].describe()"
   ]
  },
  {
   "cell_type": "markdown",
   "id": "8bf4a8f6",
   "metadata": {},
   "source": [
    "В распределении значений пользователей без подписки уже меньше выбросов, чем среди значений пользователей с подпиской. Минимальное расстояние поездки пользователей данной категории составило меньше метра, максимальное 7211 м. Интересно, что максимальное расстояние пользователей без подписки оказалось больше максимального расстояния пользователей с подпиской. Так же, как и пользователи с подпиской, пользователи без нее очень часто совершают поездки, составляющие чуть больше 3 км (3114 м)."
   ]
  },
  {
   "cell_type": "code",
   "execution_count": 34,
   "id": "44adc77d",
   "metadata": {
    "scrolled": true
   },
   "outputs": [
    {
     "data": {
      "image/png": "[encoded data removed]",
      "text/plain": [
       "<Figure size 640x480 with 1 Axes>"
      ]
     },
     "metadata": {},
     "output_type": "display_data"
    }
   ],
   "source": [
    "#построим гистограмму времени для пользователей с подпиской и без\n",
    "ax = ultra_users['duration'].plot(\n",
    "    title='График времени для пользователей с подпиской и без',\n",
    "    kind='hist',\n",
    "    histtype='step',\n",
    "    range=(3, 41),\n",
    "    bins=100,\n",
    "    linewidth=5,\n",
    "    alpha=0.7,\n",
    "    label='пользователи с подпиской',\n",
    ")\n",
    "free_users['duration'].plot(\n",
    "    kind='hist',\n",
    "    histtype='step',\n",
    "    range=(0, 35),\n",
    "    bins=100,\n",
    "    linewidth=5,\n",
    "    alpha=0.7,\n",
    "    label='пользователи без подписки',\n",
    "    ax=ax,\n",
    "    grid=True,\n",
    "    legend=True,\n",
    ")\n",
    "plt.xlabel('Время')\n",
    "plt.ylabel('Количество пользователей')\n",
    "plt.show()"
   ]
  },
  {
   "cell_type": "code",
   "execution_count": 35,
   "id": "71a011e1",
   "metadata": {
    "scrolled": true
   },
   "outputs": [
    {
     "data": {
      "image/png": "[encoded data removed]",
      "text/plain": [
       "<Figure size 640x480 with 1 Axes>"
      ]
     },
     "metadata": {},
     "output_type": "display_data"
    },
    {
     "data": {
      "image/png": "[encoded data removed]",
      "text/plain": [
       "<Figure size 640x480 with 1 Axes>"
      ]
     },
     "metadata": {},
     "output_type": "display_data"
    }
   ],
   "source": [
    "#посмотрим диаграмму размаха значений столбца duration для пользователей с подпиской\n",
    "plt.ylim(3, 41)\n",
    "ultra_users.boxplot(column='duration')\n",
    "plt.title('Диаграмма размаха значений столбца duration для пользователей с подпиской')\n",
    "plt.xlabel('Время')\n",
    "plt.ylabel('Количество пользователей')\n",
    "plt.show()\n",
    "\n",
    "#посмотрим диаграмму размаха значений столбца duration для пользователей без подписки\n",
    "plt.ylim(0, 35)\n",
    "free_users.boxplot(column='duration')\n",
    "plt.title('Диаграмма размаха значений столбца duration для пользователей с подпиской')\n",
    "plt.xlabel('Время')\n",
    "plt.ylabel('Количество пользователей')\n",
    "plt.show()"
   ]
  },
  {
   "cell_type": "code",
   "execution_count": 36,
   "id": "b5851a5c",
   "metadata": {},
   "outputs": [
    {
     "data": {
      "text/plain": [
       "count    6500.000000\n",
       "mean       18.541985\n",
       "std         5.572048\n",
       "min         3.760353\n",
       "25%        14.524654\n",
       "50%        18.178153\n",
       "75%        21.884129\n",
       "max        40.823963\n",
       "Name: duration, dtype: float64"
      ]
     },
     "execution_count": 36,
     "metadata": {},
     "output_type": "execute_result"
    }
   ],
   "source": [
    "#выведем более подробную информацию по столбцу duration для пользователей с подпиской\n",
    "ultra_users['duration'].describe()"
   ]
  },
  {
   "cell_type": "markdown",
   "id": "3f65d00d",
   "metadata": {},
   "source": [
    "График распределения времени для пользователей с подпиской получился нормальным, выбросы есть, не будем их трогать. Минимальное время использования самоката подписчиками сервиса - около 4 минут, максимальное же - почти 41 минута. Чаще всего подписчики совершают поездки длительностью в 18 минут. "
   ]
  },
  {
   "cell_type": "code",
   "execution_count": 37,
   "id": "3912368f",
   "metadata": {},
   "outputs": [
    {
     "data": {
      "text/plain": [
       "count    11568.000000\n",
       "mean        17.390909\n",
       "std          6.326803\n",
       "min          0.500000\n",
       "25%         12.958437\n",
       "50%         17.326890\n",
       "75%         21.594071\n",
       "max         34.948498\n",
       "Name: duration, dtype: float64"
      ]
     },
     "execution_count": 37,
     "metadata": {},
     "output_type": "execute_result"
    }
   ],
   "source": [
    "#выведем более подробную информацию по столбцу duration для пользователей без подписки\n",
    "free_users['duration'].describe()"
   ]
  },
  {
   "cell_type": "markdown",
   "id": "2ff4faf3",
   "metadata": {},
   "source": [
    "График распределения времени для пользователей без подписки нормальный, но есть выбросы. Минимальное время использования самоката составило меньше минуты. Возможно, пользователь просто передумал ехать на самокате и завершил поездку сразу же, и, по всей видимости, как раз этот же пользователь не успел проехать больше метра (*min* значение столбца `distance` датафрейма free_users). Максимальное время по выборке составило почти 35 минут, что на 6 минут меньше, чем максимальное время использования самоката каким-нибудь подписчиком сервиса."
   ]
  },
  {
   "cell_type": "markdown",
   "id": "402d620f",
   "metadata": {},
   "source": [
    "#### Шаг 5. Подсчёт выручки"
   ]
  },
  {
   "cell_type": "code",
   "execution_count": 38,
   "id": "53049e0a",
   "metadata": {},
   "outputs": [
    {
     "data": {
      "text/html": [
       "<div>\n",
       "<style scoped>\n",
       "    .dataframe tbody tr th:only-of-type {\n",
       "        vertical-align: middle;\n",
       "    }\n",
       "\n",
       "    .dataframe tbody tr th {\n",
       "        vertical-align: top;\n",
       "    }\n",
       "\n",
       "    .dataframe thead th {\n",
       "        text-align: right;\n",
       "    }\n",
       "</style>\n",
       "<table border=\"1\" class=\"dataframe\">\n",
       "  <thead>\n",
       "    <tr style=\"text-align: right;\">\n",
       "      <th></th>\n",
       "      <th></th>\n",
       "      <th></th>\n",
       "      <th>total_distance</th>\n",
       "      <th>total_duration</th>\n",
       "      <th>total_rides</th>\n",
       "      <th>start_ride_price</th>\n",
       "    </tr>\n",
       "    <tr>\n",
       "      <th>user_id</th>\n",
       "      <th>subscription_type</th>\n",
       "      <th>month</th>\n",
       "      <th></th>\n",
       "      <th></th>\n",
       "      <th></th>\n",
       "      <th></th>\n",
       "    </tr>\n",
       "  </thead>\n",
       "  <tbody>\n",
       "    <tr>\n",
       "      <th rowspan=\"5\" valign=\"top\">1</th>\n",
       "      <th rowspan=\"5\" valign=\"top\">ultra</th>\n",
       "      <th>1</th>\n",
       "      <td>7027.511294</td>\n",
       "      <td>42.0</td>\n",
       "      <td>2</td>\n",
       "      <td>0</td>\n",
       "    </tr>\n",
       "    <tr>\n",
       "      <th>4</th>\n",
       "      <td>754.159807</td>\n",
       "      <td>7.0</td>\n",
       "      <td>1</td>\n",
       "      <td>0</td>\n",
       "    </tr>\n",
       "    <tr>\n",
       "      <th>8</th>\n",
       "      <td>6723.470560</td>\n",
       "      <td>45.0</td>\n",
       "      <td>2</td>\n",
       "      <td>0</td>\n",
       "    </tr>\n",
       "    <tr>\n",
       "      <th>10</th>\n",
       "      <td>5809.911100</td>\n",
       "      <td>32.0</td>\n",
       "      <td>2</td>\n",
       "      <td>0</td>\n",
       "    </tr>\n",
       "    <tr>\n",
       "      <th>11</th>\n",
       "      <td>7003.499363</td>\n",
       "      <td>54.0</td>\n",
       "      <td>3</td>\n",
       "      <td>0</td>\n",
       "    </tr>\n",
       "    <tr>\n",
       "      <th>...</th>\n",
       "      <th>...</th>\n",
       "      <th>...</th>\n",
       "      <td>...</td>\n",
       "      <td>...</td>\n",
       "      <td>...</td>\n",
       "      <td>...</td>\n",
       "    </tr>\n",
       "    <tr>\n",
       "      <th rowspan=\"5\" valign=\"top\">1534</th>\n",
       "      <th rowspan=\"5\" valign=\"top\">free</th>\n",
       "      <th>6</th>\n",
       "      <td>3409.468534</td>\n",
       "      <td>25.0</td>\n",
       "      <td>2</td>\n",
       "      <td>50</td>\n",
       "    </tr>\n",
       "    <tr>\n",
       "      <th>8</th>\n",
       "      <td>7622.453034</td>\n",
       "      <td>48.0</td>\n",
       "      <td>2</td>\n",
       "      <td>50</td>\n",
       "    </tr>\n",
       "    <tr>\n",
       "      <th>9</th>\n",
       "      <td>4928.173852</td>\n",
       "      <td>23.0</td>\n",
       "      <td>1</td>\n",
       "      <td>50</td>\n",
       "    </tr>\n",
       "    <tr>\n",
       "      <th>11</th>\n",
       "      <td>13350.015305</td>\n",
       "      <td>77.0</td>\n",
       "      <td>4</td>\n",
       "      <td>50</td>\n",
       "    </tr>\n",
       "    <tr>\n",
       "      <th>12</th>\n",
       "      <td>2371.711192</td>\n",
       "      <td>16.0</td>\n",
       "      <td>1</td>\n",
       "      <td>50</td>\n",
       "    </tr>\n",
       "  </tbody>\n",
       "</table>\n",
       "<p>11331 rows × 4 columns</p>\n",
       "</div>"
      ],
      "text/plain": [
       "                                 total_distance  total_duration  total_rides  \\\n",
       "user_id subscription_type month                                                \n",
       "1       ultra             1         7027.511294            42.0            2   \n",
       "                          4          754.159807             7.0            1   \n",
       "                          8         6723.470560            45.0            2   \n",
       "                          10        5809.911100            32.0            2   \n",
       "                          11        7003.499363            54.0            3   \n",
       "...                                         ...             ...          ...   \n",
       "1534    free              6         3409.468534            25.0            2   \n",
       "                          8         7622.453034            48.0            2   \n",
       "                          9         4928.173852            23.0            1   \n",
       "                          11       13350.015305            77.0            4   \n",
       "                          12        2371.711192            16.0            1   \n",
       "\n",
       "                                 start_ride_price  \n",
       "user_id subscription_type month                    \n",
       "1       ultra             1                     0  \n",
       "                          4                     0  \n",
       "                          8                     0  \n",
       "                          10                    0  \n",
       "                          11                    0  \n",
       "...                                           ...  \n",
       "1534    free              6                    50  \n",
       "                          8                    50  \n",
       "                          9                    50  \n",
       "                          11                   50  \n",
       "                          12                   50  \n",
       "\n",
       "[11331 rows x 4 columns]"
      ]
     },
     "execution_count": 38,
     "metadata": {},
     "output_type": "execute_result"
    }
   ],
   "source": [
    "#создадим сводную таблицу с данными о суммарном расстоянии, \n",
    "#о количестве поездок, о суммарном времени и о стоимости старта поездки для пользователей сервиса\n",
    "\n",
    "data_pivot = full_data.pivot_table(index=['user_id', 'subscription_type', 'month'], \\\n",
    "                                   values=['duration', 'distance', 'name', 'start_ride_price'], \\\n",
    "                                   aggfunc={'distance':'sum', 'duration':'sum', 'name':'count', 'start_ride_price':'max'})\n",
    "\n",
    "#переименуем столбцы\n",
    "data_pivot = data_pivot.rename(columns={'name': 'total_rides', 'duration': 'total_duration', 'distance': 'total_distance'})\n",
    "\n",
    "#округлим длительность каждой поездки\n",
    "data_pivot['total_duration'] = np.ceil(data_pivot['total_duration'])\n",
    "data_pivot"
   ]
  },
  {
   "cell_type": "code",
   "execution_count": 39,
   "id": "14a56aa8",
   "metadata": {
    "scrolled": true
   },
   "outputs": [],
   "source": [
    "#добавим в сводную таблицу столбец monthly_revenue с помесячной выручкой, которую принес каждый пользователь,\n",
    "#для этого напишем сначала функцию, которая рассчитает формулу: \n",
    "#start_ride_price * total_rides + minute_price * total_duration + subscription_fee\n",
    "\n",
    "def itog_cost(row):\n",
    "    total_rides = row['total_rides']\n",
    "    total_duration = row['total_duration']\n",
    "    start_ride_price = row['start_ride_price']\n",
    "    if start_ride_price == 0:\n",
    "        return 6 * total_duration + 199\n",
    "    return total_rides * 50 + 8 * total_duration"
   ]
  },
  {
   "cell_type": "code",
   "execution_count": 40,
   "id": "020c07cc",
   "metadata": {},
   "outputs": [
    {
     "data": {
      "text/html": [
       "<div>\n",
       "<style scoped>\n",
       "    .dataframe tbody tr th:only-of-type {\n",
       "        vertical-align: middle;\n",
       "    }\n",
       "\n",
       "    .dataframe tbody tr th {\n",
       "        vertical-align: top;\n",
       "    }\n",
       "\n",
       "    .dataframe thead th {\n",
       "        text-align: right;\n",
       "    }\n",
       "</style>\n",
       "<table border=\"1\" class=\"dataframe\">\n",
       "  <thead>\n",
       "    <tr style=\"text-align: right;\">\n",
       "      <th></th>\n",
       "      <th></th>\n",
       "      <th></th>\n",
       "      <th>total_distance</th>\n",
       "      <th>total_duration</th>\n",
       "      <th>total_rides</th>\n",
       "      <th>start_ride_price</th>\n",
       "      <th>monthly_revenue</th>\n",
       "    </tr>\n",
       "    <tr>\n",
       "      <th>user_id</th>\n",
       "      <th>subscription_type</th>\n",
       "      <th>month</th>\n",
       "      <th></th>\n",
       "      <th></th>\n",
       "      <th></th>\n",
       "      <th></th>\n",
       "      <th></th>\n",
       "    </tr>\n",
       "  </thead>\n",
       "  <tbody>\n",
       "    <tr>\n",
       "      <th rowspan=\"6\" valign=\"top\">1</th>\n",
       "      <th rowspan=\"6\" valign=\"top\">ultra</th>\n",
       "      <th>1</th>\n",
       "      <td>7027.511294</td>\n",
       "      <td>42.0</td>\n",
       "      <td>2</td>\n",
       "      <td>0</td>\n",
       "      <td>451.0</td>\n",
       "    </tr>\n",
       "    <tr>\n",
       "      <th>4</th>\n",
       "      <td>754.159807</td>\n",
       "      <td>7.0</td>\n",
       "      <td>1</td>\n",
       "      <td>0</td>\n",
       "      <td>241.0</td>\n",
       "    </tr>\n",
       "    <tr>\n",
       "      <th>8</th>\n",
       "      <td>6723.470560</td>\n",
       "      <td>45.0</td>\n",
       "      <td>2</td>\n",
       "      <td>0</td>\n",
       "      <td>469.0</td>\n",
       "    </tr>\n",
       "    <tr>\n",
       "      <th>10</th>\n",
       "      <td>5809.911100</td>\n",
       "      <td>32.0</td>\n",
       "      <td>2</td>\n",
       "      <td>0</td>\n",
       "      <td>391.0</td>\n",
       "    </tr>\n",
       "    <tr>\n",
       "      <th>11</th>\n",
       "      <td>7003.499363</td>\n",
       "      <td>54.0</td>\n",
       "      <td>3</td>\n",
       "      <td>0</td>\n",
       "      <td>523.0</td>\n",
       "    </tr>\n",
       "    <tr>\n",
       "      <th>12</th>\n",
       "      <td>6751.629942</td>\n",
       "      <td>28.0</td>\n",
       "      <td>2</td>\n",
       "      <td>0</td>\n",
       "      <td>367.0</td>\n",
       "    </tr>\n",
       "    <tr>\n",
       "      <th rowspan=\"7\" valign=\"top\">2</th>\n",
       "      <th rowspan=\"7\" valign=\"top\">ultra</th>\n",
       "      <th>3</th>\n",
       "      <td>10187.723006</td>\n",
       "      <td>61.0</td>\n",
       "      <td>3</td>\n",
       "      <td>0</td>\n",
       "      <td>565.0</td>\n",
       "    </tr>\n",
       "    <tr>\n",
       "      <th>4</th>\n",
       "      <td>6164.381824</td>\n",
       "      <td>40.0</td>\n",
       "      <td>2</td>\n",
       "      <td>0</td>\n",
       "      <td>439.0</td>\n",
       "    </tr>\n",
       "    <tr>\n",
       "      <th>6</th>\n",
       "      <td>3255.338202</td>\n",
       "      <td>14.0</td>\n",
       "      <td>1</td>\n",
       "      <td>0</td>\n",
       "      <td>283.0</td>\n",
       "    </tr>\n",
       "    <tr>\n",
       "      <th>7</th>\n",
       "      <td>6780.722964</td>\n",
       "      <td>47.0</td>\n",
       "      <td>2</td>\n",
       "      <td>0</td>\n",
       "      <td>481.0</td>\n",
       "    </tr>\n",
       "    <tr>\n",
       "      <th>8</th>\n",
       "      <td>923.007439</td>\n",
       "      <td>7.0</td>\n",
       "      <td>1</td>\n",
       "      <td>0</td>\n",
       "      <td>241.0</td>\n",
       "    </tr>\n",
       "    <tr>\n",
       "      <th>10</th>\n",
       "      <td>2824.636598</td>\n",
       "      <td>19.0</td>\n",
       "      <td>1</td>\n",
       "      <td>0</td>\n",
       "      <td>313.0</td>\n",
       "    </tr>\n",
       "    <tr>\n",
       "      <th>12</th>\n",
       "      <td>3828.248580</td>\n",
       "      <td>12.0</td>\n",
       "      <td>1</td>\n",
       "      <td>0</td>\n",
       "      <td>271.0</td>\n",
       "    </tr>\n",
       "    <tr>\n",
       "      <th rowspan=\"7\" valign=\"top\">3</th>\n",
       "      <th rowspan=\"7\" valign=\"top\">ultra</th>\n",
       "      <th>1</th>\n",
       "      <td>3061.777147</td>\n",
       "      <td>13.0</td>\n",
       "      <td>1</td>\n",
       "      <td>0</td>\n",
       "      <td>277.0</td>\n",
       "    </tr>\n",
       "    <tr>\n",
       "      <th>2</th>\n",
       "      <td>5421.152016</td>\n",
       "      <td>38.0</td>\n",
       "      <td>2</td>\n",
       "      <td>0</td>\n",
       "      <td>427.0</td>\n",
       "    </tr>\n",
       "    <tr>\n",
       "      <th>4</th>\n",
       "      <td>2956.651632</td>\n",
       "      <td>21.0</td>\n",
       "      <td>1</td>\n",
       "      <td>0</td>\n",
       "      <td>325.0</td>\n",
       "    </tr>\n",
       "    <tr>\n",
       "      <th>5</th>\n",
       "      <td>9064.026918</td>\n",
       "      <td>62.0</td>\n",
       "      <td>3</td>\n",
       "      <td>0</td>\n",
       "      <td>571.0</td>\n",
       "    </tr>\n",
       "    <tr>\n",
       "      <th>7</th>\n",
       "      <td>10919.595403</td>\n",
       "      <td>66.0</td>\n",
       "      <td>3</td>\n",
       "      <td>0</td>\n",
       "      <td>595.0</td>\n",
       "    </tr>\n",
       "    <tr>\n",
       "      <th>9</th>\n",
       "      <td>2891.012822</td>\n",
       "      <td>23.0</td>\n",
       "      <td>1</td>\n",
       "      <td>0</td>\n",
       "      <td>337.0</td>\n",
       "    </tr>\n",
       "    <tr>\n",
       "      <th>12</th>\n",
       "      <td>2593.381928</td>\n",
       "      <td>13.0</td>\n",
       "      <td>1</td>\n",
       "      <td>0</td>\n",
       "      <td>277.0</td>\n",
       "    </tr>\n",
       "  </tbody>\n",
       "</table>\n",
       "</div>"
      ],
      "text/plain": [
       "                                 total_distance  total_duration  total_rides  \\\n",
       "user_id subscription_type month                                                \n",
       "1       ultra             1         7027.511294            42.0            2   \n",
       "                          4          754.159807             7.0            1   \n",
       "                          8         6723.470560            45.0            2   \n",
       "                          10        5809.911100            32.0            2   \n",
       "                          11        7003.499363            54.0            3   \n",
       "                          12        6751.629942            28.0            2   \n",
       "2       ultra             3        10187.723006            61.0            3   \n",
       "                          4         6164.381824            40.0            2   \n",
       "                          6         3255.338202            14.0            1   \n",
       "                          7         6780.722964            47.0            2   \n",
       "                          8          923.007439             7.0            1   \n",
       "                          10        2824.636598            19.0            1   \n",
       "                          12        3828.248580            12.0            1   \n",
       "3       ultra             1         3061.777147            13.0            1   \n",
       "                          2         5421.152016            38.0            2   \n",
       "                          4         2956.651632            21.0            1   \n",
       "                          5         9064.026918            62.0            3   \n",
       "                          7        10919.595403            66.0            3   \n",
       "                          9         2891.012822            23.0            1   \n",
       "                          12        2593.381928            13.0            1   \n",
       "\n",
       "                                 start_ride_price  monthly_revenue  \n",
       "user_id subscription_type month                                     \n",
       "1       ultra             1                     0            451.0  \n",
       "                          4                     0            241.0  \n",
       "                          8                     0            469.0  \n",
       "                          10                    0            391.0  \n",
       "                          11                    0            523.0  \n",
       "                          12                    0            367.0  \n",
       "2       ultra             3                     0            565.0  \n",
       "                          4                     0            439.0  \n",
       "                          6                     0            283.0  \n",
       "                          7                     0            481.0  \n",
       "                          8                     0            241.0  \n",
       "                          10                    0            313.0  \n",
       "                          12                    0            271.0  \n",
       "3       ultra             1                     0            277.0  \n",
       "                          2                     0            427.0  \n",
       "                          4                     0            325.0  \n",
       "                          5                     0            571.0  \n",
       "                          7                     0            595.0  \n",
       "                          9                     0            337.0  \n",
       "                          12                    0            277.0  "
      ]
     },
     "execution_count": 40,
     "metadata": {},
     "output_type": "execute_result"
    }
   ],
   "source": [
    "#создаем столбец monthly_revenue и применяем к нему функцию cost\n",
    "\n",
    "data_pivot['monthly_revenue'] = data_pivot.apply(itog_cost, axis=1)\n",
    "data_pivot.head(20)"
   ]
  },
  {
   "cell_type": "markdown",
   "id": "41545ac0",
   "metadata": {},
   "source": [
    "#### Шаг 6. Проверка гипотез"
   ]
  },
  {
   "cell_type": "markdown",
   "id": "df54c684",
   "metadata": {},
   "source": [
    "В рамках данного исследования необходимо проверить следующие гипотезы:\n",
    "\n",
    "**Гипотеза 1**: Пользователи с подпиской тратят больше времени на поездки.\n",
    "\n",
    "**Гипотеза 2**: Среднее расстояние, которое проезжают пользователи с подпиской за 1 поездку не превышает 3130 метров.\n",
    "\n",
    "**Гипотеза 3**: Помесячная выручка от пользователей с подпиской по месяцам выше, чем от пользователей без подписки.\n",
    "\n",
    "**Гипотеза 4 (возможная)**: После обновления серверов, с которыми взаимодействует мобильное приложение, количество обращений в техподдержку значимо снизилось."
   ]
  },
  {
   "cell_type": "markdown",
   "id": "491df815",
   "metadata": {},
   "source": [
    "  "
   ]
  },
  {
   "cell_type": "markdown",
   "id": "8eb9dadb",
   "metadata": {},
   "source": [
    "Обратимся для начала к **первой гипотезе** о том, что пользователи с подпиской тратят больше времени на поездки. У нас есть 2 независимые выборки разного размера (пользователи с подпиской и без). Соответственно, предположим, что их дисперсии не равны.\n",
    "\n",
    "H0: Среднее время поездки пользователей с подпиской = среднему времени поездки пользователей без подписки.\n",
    "\n",
    "Н1: Среднее время поездки пользователей с подпиской > среднего времени поездки пользователей без подписки."
   ]
  },
  {
   "cell_type": "code",
   "execution_count": 41,
   "id": "23ea867b",
   "metadata": {
    "scrolled": true
   },
   "outputs": [
    {
     "name": "stdout",
     "output_type": "stream",
     "text": [
      "p-value: 5.675781377128977e-37\n",
      "Отвергаем нулевую гипотезу\n"
     ]
    }
   ],
   "source": [
    "#для проверки гипотезы используем метод scipy.stats.ttest_ind\n",
    "#возьмем исходные данные о продолжительности каждой сессии отдельно из ultra_users и free_users\n",
    "#и превратим их в списки значений\n",
    "\n",
    "duration_ultra = ultra_users['duration'].tolist()\n",
    "duration_free = free_users['duration'].tolist()\n",
    "\n",
    "alpha = 0.05\n",
    "results = st.ttest_ind(duration_ultra, duration_free, equal_var=False, alternative='greater')\n",
    "\n",
    "print(f'p-value: {results.pvalue}')\n",
    "\n",
    "if results.pvalue < alpha:\n",
    "    print('Отвергаем нулевую гипотезу')\n",
    "else:\n",
    "    print('Нет оснований отвергнуть нулевую гипотезу')"
   ]
  },
  {
   "cell_type": "markdown",
   "id": "5e6ae536",
   "metadata": {},
   "source": [
    "Вывод: нулевая гипотеза была отвергнута. Следовательно, пользователи с подпиской действительно тратят в сервисе больше денег."
   ]
  },
  {
   "cell_type": "markdown",
   "id": "6c544128",
   "metadata": {},
   "source": [
    "**Вторая гипотеза** гласит о том, что среднее расстояние, которое проезжают *пользователи с подпиской* за 1 поездку не превышает 3130 метров. Гипотезу необходимо проверить на 1 выборке - это пользователи с подпиской.\n",
    "\n",
    "Н0: Среднее расстояние поездки пользователей по подписке = 3130 м.\n",
    "\n",
    "Н1: Среднее расстояние поездки пользователей по подписке > 3130 м."
   ]
  },
  {
   "cell_type": "code",
   "execution_count": 42,
   "id": "b5c741b9",
   "metadata": {
    "scrolled": true
   },
   "outputs": [
    {
     "name": "stdout",
     "output_type": "stream",
     "text": [
      "p-значение: 0.9195368847849785\n",
      "Не отвергаем нулевую гипотезу\n"
     ]
    }
   ],
   "source": [
    "#для проверки гипотезы используем метод scipy.stats.ttest_1samp\n",
    "#возьмем исходные данные о расстояниях, преодолеваемых подписчиками сервиса из ultra_users\n",
    "#и превратим их в список значений\n",
    "\n",
    "distance_ultra = ultra_users['distance'].tolist()\n",
    "optimal_value = 3130\n",
    "\n",
    "alpha = 0.05\n",
    "results = st.ttest_1samp(distance_ultra, optimal_value, alternative='greater')\n",
    "\n",
    "print('p-значение:', results.pvalue)\n",
    "\n",
    "if (results.pvalue < alpha):\n",
    "    print('Отвергаем нулевую гипотезу')\n",
    "else:\n",
    "    print('Не отвергаем нулевую гипотезу')"
   ]
  },
  {
   "cell_type": "markdown",
   "id": "0ab4a908",
   "metadata": {},
   "source": [
    "Вывод: нулевая гипотеза не отвергнута. Значит среднее расстояние, которое проезжают пользователи с подпиской за 1 поездку не превышает 3130 метров."
   ]
  },
  {
   "cell_type": "markdown",
   "id": "586a7b26",
   "metadata": {},
   "source": [
    "Проверим **третью гипотезу** о том, что помесячная выручка от пользователей с подпиской по месяцам выше, чем от пользователей без подписки. Гипотезу необходимо проверить на двух независимых выборках разного размера.\n",
    "\n",
    "H0: Помесячная выручка от пользователей с подпиской по месяцам = помесячной выручке от пользователей без подписки по месяцам.\n",
    "\n",
    "H1: Помесячная выручка от пользователей с подпиской по месяцам > помесячной выручке от пользователей без подписки по месяцам.\n"
   ]
  },
  {
   "cell_type": "code",
   "execution_count": 44,
   "id": "194ca629",
   "metadata": {
    "scrolled": true
   },
   "outputs": [
    {
     "data": {
      "text/html": [
       "<div>\n",
       "<style scoped>\n",
       "    .dataframe tbody tr th:only-of-type {\n",
       "        vertical-align: middle;\n",
       "    }\n",
       "\n",
       "    .dataframe tbody tr th {\n",
       "        vertical-align: top;\n",
       "    }\n",
       "\n",
       "    .dataframe thead th {\n",
       "        text-align: right;\n",
       "    }\n",
       "</style>\n",
       "<table border=\"1\" class=\"dataframe\">\n",
       "  <thead>\n",
       "    <tr style=\"text-align: right;\">\n",
       "      <th></th>\n",
       "      <th></th>\n",
       "      <th></th>\n",
       "      <th>total_distance</th>\n",
       "      <th>total_duration</th>\n",
       "      <th>total_rides</th>\n",
       "      <th>start_ride_price</th>\n",
       "      <th>monthly_revenue</th>\n",
       "    </tr>\n",
       "    <tr>\n",
       "      <th>user_id</th>\n",
       "      <th>subscription_type</th>\n",
       "      <th>month</th>\n",
       "      <th></th>\n",
       "      <th></th>\n",
       "      <th></th>\n",
       "      <th></th>\n",
       "      <th></th>\n",
       "    </tr>\n",
       "  </thead>\n",
       "  <tbody>\n",
       "    <tr>\n",
       "      <th rowspan=\"5\" valign=\"top\">1</th>\n",
       "      <th rowspan=\"5\" valign=\"top\">ultra</th>\n",
       "      <th>1</th>\n",
       "      <td>7027.511294</td>\n",
       "      <td>42.0</td>\n",
       "      <td>2</td>\n",
       "      <td>0</td>\n",
       "      <td>451.0</td>\n",
       "    </tr>\n",
       "    <tr>\n",
       "      <th>4</th>\n",
       "      <td>754.159807</td>\n",
       "      <td>7.0</td>\n",
       "      <td>1</td>\n",
       "      <td>0</td>\n",
       "      <td>241.0</td>\n",
       "    </tr>\n",
       "    <tr>\n",
       "      <th>8</th>\n",
       "      <td>6723.470560</td>\n",
       "      <td>45.0</td>\n",
       "      <td>2</td>\n",
       "      <td>0</td>\n",
       "      <td>469.0</td>\n",
       "    </tr>\n",
       "    <tr>\n",
       "      <th>10</th>\n",
       "      <td>5809.911100</td>\n",
       "      <td>32.0</td>\n",
       "      <td>2</td>\n",
       "      <td>0</td>\n",
       "      <td>391.0</td>\n",
       "    </tr>\n",
       "    <tr>\n",
       "      <th>11</th>\n",
       "      <td>7003.499363</td>\n",
       "      <td>54.0</td>\n",
       "      <td>3</td>\n",
       "      <td>0</td>\n",
       "      <td>523.0</td>\n",
       "    </tr>\n",
       "    <tr>\n",
       "      <th>...</th>\n",
       "      <th>...</th>\n",
       "      <th>...</th>\n",
       "      <td>...</td>\n",
       "      <td>...</td>\n",
       "      <td>...</td>\n",
       "      <td>...</td>\n",
       "      <td>...</td>\n",
       "    </tr>\n",
       "    <tr>\n",
       "      <th rowspan=\"5\" valign=\"top\">699</th>\n",
       "      <th rowspan=\"5\" valign=\"top\">ultra</th>\n",
       "      <th>6</th>\n",
       "      <td>4072.797406</td>\n",
       "      <td>17.0</td>\n",
       "      <td>1</td>\n",
       "      <td>0</td>\n",
       "      <td>301.0</td>\n",
       "    </tr>\n",
       "    <tr>\n",
       "      <th>8</th>\n",
       "      <td>7018.324143</td>\n",
       "      <td>45.0</td>\n",
       "      <td>2</td>\n",
       "      <td>0</td>\n",
       "      <td>469.0</td>\n",
       "    </tr>\n",
       "    <tr>\n",
       "      <th>9</th>\n",
       "      <td>6364.861911</td>\n",
       "      <td>31.0</td>\n",
       "      <td>2</td>\n",
       "      <td>0</td>\n",
       "      <td>385.0</td>\n",
       "    </tr>\n",
       "    <tr>\n",
       "      <th>10</th>\n",
       "      <td>4707.845501</td>\n",
       "      <td>16.0</td>\n",
       "      <td>1</td>\n",
       "      <td>0</td>\n",
       "      <td>295.0</td>\n",
       "    </tr>\n",
       "    <tr>\n",
       "      <th>12</th>\n",
       "      <td>3202.890770</td>\n",
       "      <td>26.0</td>\n",
       "      <td>1</td>\n",
       "      <td>0</td>\n",
       "      <td>355.0</td>\n",
       "    </tr>\n",
       "  </tbody>\n",
       "</table>\n",
       "<p>4533 rows × 5 columns</p>\n",
       "</div>"
      ],
      "text/plain": [
       "                                 total_distance  total_duration  total_rides  \\\n",
       "user_id subscription_type month                                                \n",
       "1       ultra             1         7027.511294            42.0            2   \n",
       "                          4          754.159807             7.0            1   \n",
       "                          8         6723.470560            45.0            2   \n",
       "                          10        5809.911100            32.0            2   \n",
       "                          11        7003.499363            54.0            3   \n",
       "...                                         ...             ...          ...   \n",
       "699     ultra             6         4072.797406            17.0            1   \n",
       "                          8         7018.324143            45.0            2   \n",
       "                          9         6364.861911            31.0            2   \n",
       "                          10        4707.845501            16.0            1   \n",
       "                          12        3202.890770            26.0            1   \n",
       "\n",
       "                                 start_ride_price  monthly_revenue  \n",
       "user_id subscription_type month                                     \n",
       "1       ultra             1                     0            451.0  \n",
       "                          4                     0            241.0  \n",
       "                          8                     0            469.0  \n",
       "                          10                    0            391.0  \n",
       "                          11                    0            523.0  \n",
       "...                                           ...              ...  \n",
       "699     ultra             6                     0            301.0  \n",
       "                          8                     0            469.0  \n",
       "                          9                     0            385.0  \n",
       "                          10                    0            295.0  \n",
       "                          12                    0            355.0  \n",
       "\n",
       "[4533 rows x 5 columns]"
      ]
     },
     "execution_count": 44,
     "metadata": {},
     "output_type": "execute_result"
    }
   ],
   "source": [
    "#из таблицы data_pivot создадим отдельные датафреймы по пользователям с подпиской и без,\n",
    "#взяв исходные данные о стоимости начала поездки \n",
    "ultra_pivot = data_pivot.loc[data_pivot['start_ride_price'] == 0].copy()\n",
    "ultra_pivot"
   ]
  },
  {
   "cell_type": "code",
   "execution_count": 45,
   "id": "4d0ad1fc",
   "metadata": {},
   "outputs": [
    {
     "data": {
      "text/html": [
       "<div>\n",
       "<style scoped>\n",
       "    .dataframe tbody tr th:only-of-type {\n",
       "        vertical-align: middle;\n",
       "    }\n",
       "\n",
       "    .dataframe tbody tr th {\n",
       "        vertical-align: top;\n",
       "    }\n",
       "\n",
       "    .dataframe thead th {\n",
       "        text-align: right;\n",
       "    }\n",
       "</style>\n",
       "<table border=\"1\" class=\"dataframe\">\n",
       "  <thead>\n",
       "    <tr style=\"text-align: right;\">\n",
       "      <th></th>\n",
       "      <th></th>\n",
       "      <th></th>\n",
       "      <th>total_distance</th>\n",
       "      <th>total_duration</th>\n",
       "      <th>total_rides</th>\n",
       "      <th>start_ride_price</th>\n",
       "      <th>monthly_revenue</th>\n",
       "    </tr>\n",
       "    <tr>\n",
       "      <th>user_id</th>\n",
       "      <th>subscription_type</th>\n",
       "      <th>month</th>\n",
       "      <th></th>\n",
       "      <th></th>\n",
       "      <th></th>\n",
       "      <th></th>\n",
       "      <th></th>\n",
       "    </tr>\n",
       "  </thead>\n",
       "  <tbody>\n",
       "    <tr>\n",
       "      <th rowspan=\"5\" valign=\"top\">700</th>\n",
       "      <th rowspan=\"5\" valign=\"top\">free</th>\n",
       "      <th>1</th>\n",
       "      <td>2515.690719</td>\n",
       "      <td>15.0</td>\n",
       "      <td>1</td>\n",
       "      <td>50</td>\n",
       "      <td>170.0</td>\n",
       "    </tr>\n",
       "    <tr>\n",
       "      <th>2</th>\n",
       "      <td>13446.659764</td>\n",
       "      <td>86.0</td>\n",
       "      <td>5</td>\n",
       "      <td>50</td>\n",
       "      <td>938.0</td>\n",
       "    </tr>\n",
       "    <tr>\n",
       "      <th>3</th>\n",
       "      <td>3798.334905</td>\n",
       "      <td>19.0</td>\n",
       "      <td>1</td>\n",
       "      <td>50</td>\n",
       "      <td>202.0</td>\n",
       "    </tr>\n",
       "    <tr>\n",
       "      <th>4</th>\n",
       "      <td>2984.551206</td>\n",
       "      <td>16.0</td>\n",
       "      <td>1</td>\n",
       "      <td>50</td>\n",
       "      <td>178.0</td>\n",
       "    </tr>\n",
       "    <tr>\n",
       "      <th>6</th>\n",
       "      <td>5927.650988</td>\n",
       "      <td>29.0</td>\n",
       "      <td>2</td>\n",
       "      <td>50</td>\n",
       "      <td>332.0</td>\n",
       "    </tr>\n",
       "    <tr>\n",
       "      <th>...</th>\n",
       "      <th>...</th>\n",
       "      <th>...</th>\n",
       "      <td>...</td>\n",
       "      <td>...</td>\n",
       "      <td>...</td>\n",
       "      <td>...</td>\n",
       "      <td>...</td>\n",
       "    </tr>\n",
       "    <tr>\n",
       "      <th rowspan=\"5\" valign=\"top\">1534</th>\n",
       "      <th rowspan=\"5\" valign=\"top\">free</th>\n",
       "      <th>6</th>\n",
       "      <td>3409.468534</td>\n",
       "      <td>25.0</td>\n",
       "      <td>2</td>\n",
       "      <td>50</td>\n",
       "      <td>300.0</td>\n",
       "    </tr>\n",
       "    <tr>\n",
       "      <th>8</th>\n",
       "      <td>7622.453034</td>\n",
       "      <td>48.0</td>\n",
       "      <td>2</td>\n",
       "      <td>50</td>\n",
       "      <td>484.0</td>\n",
       "    </tr>\n",
       "    <tr>\n",
       "      <th>9</th>\n",
       "      <td>4928.173852</td>\n",
       "      <td>23.0</td>\n",
       "      <td>1</td>\n",
       "      <td>50</td>\n",
       "      <td>234.0</td>\n",
       "    </tr>\n",
       "    <tr>\n",
       "      <th>11</th>\n",
       "      <td>13350.015305</td>\n",
       "      <td>77.0</td>\n",
       "      <td>4</td>\n",
       "      <td>50</td>\n",
       "      <td>816.0</td>\n",
       "    </tr>\n",
       "    <tr>\n",
       "      <th>12</th>\n",
       "      <td>2371.711192</td>\n",
       "      <td>16.0</td>\n",
       "      <td>1</td>\n",
       "      <td>50</td>\n",
       "      <td>178.0</td>\n",
       "    </tr>\n",
       "  </tbody>\n",
       "</table>\n",
       "<p>6798 rows × 5 columns</p>\n",
       "</div>"
      ],
      "text/plain": [
       "                                 total_distance  total_duration  total_rides  \\\n",
       "user_id subscription_type month                                                \n",
       "700     free              1         2515.690719            15.0            1   \n",
       "                          2        13446.659764            86.0            5   \n",
       "                          3         3798.334905            19.0            1   \n",
       "                          4         2984.551206            16.0            1   \n",
       "                          6         5927.650988            29.0            2   \n",
       "...                                         ...             ...          ...   \n",
       "1534    free              6         3409.468534            25.0            2   \n",
       "                          8         7622.453034            48.0            2   \n",
       "                          9         4928.173852            23.0            1   \n",
       "                          11       13350.015305            77.0            4   \n",
       "                          12        2371.711192            16.0            1   \n",
       "\n",
       "                                 start_ride_price  monthly_revenue  \n",
       "user_id subscription_type month                                     \n",
       "700     free              1                    50            170.0  \n",
       "                          2                    50            938.0  \n",
       "                          3                    50            202.0  \n",
       "                          4                    50            178.0  \n",
       "                          6                    50            332.0  \n",
       "...                                           ...              ...  \n",
       "1534    free              6                    50            300.0  \n",
       "                          8                    50            484.0  \n",
       "                          9                    50            234.0  \n",
       "                          11                   50            816.0  \n",
       "                          12                   50            178.0  \n",
       "\n",
       "[6798 rows x 5 columns]"
      ]
     },
     "execution_count": 45,
     "metadata": {},
     "output_type": "execute_result"
    }
   ],
   "source": [
    "free_pivot = data_pivot.loc[data_pivot['start_ride_price'] == 50].copy()\n",
    "free_pivot"
   ]
  },
  {
   "cell_type": "code",
   "execution_count": 46,
   "id": "898197ed",
   "metadata": {},
   "outputs": [
    {
     "name": "stdout",
     "output_type": "stream",
     "text": [
      "p-value: 1.0718729651261336e-44\n",
      "Отвергаем нулевую гипотезу\n"
     ]
    }
   ],
   "source": [
    "#для проверки гипотезы используем метод scipy.stats.ttest_ind\n",
    "#превратим значения столбцов monthly_revenue в списки значений\n",
    "\n",
    "ultra_revenue = ultra_pivot['monthly_revenue'].tolist()\n",
    "free_revenue = free_pivot['monthly_revenue'].tolist()\n",
    "\n",
    "alpha = 0.05\n",
    "results = st.ttest_ind(ultra_revenue, free_revenue, equal_var=False, alternative='greater')\n",
    "\n",
    "print(f'p-value: {results.pvalue}')\n",
    "\n",
    "if results.pvalue < alpha:\n",
    "    print('Отвергаем нулевую гипотезу')\n",
    "else:\n",
    "    print('Нет оснований отвергнуть нулевую гипотезу')"
   ]
  },
  {
   "cell_type": "markdown",
   "id": "e0193baf",
   "metadata": {},
   "source": [
    "Вывод: нулевая гипотеза была отвергнута. Получается, помесячная выручка от пользователей с подпиской по месяцам выше, чем от пользователей без подписки."
   ]
  },
  {
   "cell_type": "markdown",
   "id": "9f94fde8",
   "metadata": {},
   "source": [
    "Если бы возникла ситуация, когда техническая команда сервиса обновила сервера, с которыми взаимодействует мобильное приложение, и был бы некоторый файл, содержащий для каждого пользователя данные о количестве обращений до обновления и после него, **можно было бы проверить еще одну гипотезу** о том, что после обновления серверов, с которыми взаимодействует мобильное приложение, количество обращений в техподдержку значимо снизилось. Нам понадобилось бы применение метода `scipy.ttest_rel` для проверки этой гипотезы (с аргументом alternative='less'), поскольку гипотеза проверялась бы на двух зависимых выборках (до обновления сервера и после)."
   ]
  },
  {
   "cell_type": "markdown",
   "id": "13a7cc5b",
   "metadata": {},
   "source": [
    "#### Общий вывод"
   ]
  },
  {
   "cell_type": "markdown",
   "id": "a29a7d1e",
   "metadata": {},
   "source": [
    "В рамках этого исследования были проанализированы данные 3-х csv таблиц, содержащих информацию о пользователях, их поездках и подписках.\n",
    "\n",
    "**Цель исследования** состояла в проверке следующих гипотез:\n",
    "* Гипотеза 1: Пользователи с подпиской тратят больше времени на поездки.\n",
    "* Гипотеза 2: Среднее расстояние, которое проезжают пользователи с подпиской за 1 поездку не превышает 3130 метров.\n",
    "* Гипотеза 3: Помесячная выручка от пользователей с подпиской по месяцам выше, чем от пользователей без подписки.\n",
    "\n",
    "#### Этап 1. Изучение и предварительная обработка данных\n",
    "\n",
    "На этапе предобработки были произведены: \n",
    "- изменение типа данных; \n",
    "- создание нового столбца с номером месяца на основе столбца `date`;\n",
    "- проверка данных на наличие пропущенных значений и дубликатов, и их обработка там, где это необходимо.\n",
    "\n",
    "\n",
    "Итог по каждой cvs таблице:\n",
    "1. В данных data_users нет пропусков, названия столбцов правильно обозначены, однако тип данных в столбце `user_id` указан не верно, но было принято решение оставить его как есть, поскольку изменение типа данных не потребовалось на дальнейших этапах анализа. Были обнаружены дубликаты, их немного (31 штука), они были удалены.\n",
    "\n",
    "2. В data_rides пропуски также отсутствуют, но в столбце `date` тип данных указан неверно, поскольку для записи дат есть свой формат - *datatime*. Это было изменено. Помимо этого было проведено изменение типа данных в столбце user_id. Для удобства дальнейшего исследовательского анализа, в эту таблицу был добавлен столбец `month`, который содержал информацию о номере месяца, в который поездка была совершена. Дубликаты не были обнаружены.\n",
    "\n",
    "3. С данными data_subscriptions все в порядке, пропусков нет. Тип данных везде указан верно. Дубликаты не были обнаружены.\n",
    "\n",
    "\n",
    "#### Этап 2. Исследовательский анализ данных\n",
    "\n",
    "На этом этапе была описана и визуализирована общая информация о пользователях и поездках:\n",
    "\n",
    "* частота встречаемости городов;\n",
    "\n",
    "Больше всего оказалось информации о пользователях города Пятигорск, и, наоборот, меньше всего о пользователях из Москвы.\n",
    "\n",
    "* соотношение пользователей с подпиской и без подписки;\n",
    "\n",
    "Как оказалось, пользователей без подписки больше на 136 человек.\n",
    "\n",
    "* возраст пользователей;\n",
    "\n",
    "Максимальный возраст подписчиков составил 43 года. Минимальный же - 12 лет. Можно утверждать, что у сервиса больше всего подписчиков в возрасте 25 лет. \n",
    "\n",
    "* расстояние, которое пользователь преодолел за одну поездку;\n",
    "\n",
    "Минимальное расстояние, которое пользователь преодолевал на самокате, оказалось меньше 1 км. Максимальное - чуть больше 7 км. В среднем пользователи проезжают около 3 км. \n",
    "\n",
    "* продолжительность поездок.\n",
    "\n",
    "Минимальное время, в течение которого пользовались самокатом, составляет меньше минуты. Можно предположить, что это тот же пользователь, расстояние поездки которого составило меньше километра. Веротятно, он передумал пользоваться самокатом и сразу же завершил поездку, либо в приложении возникла ошибка и поездка была завершена и проч. Максимальное время использования самоката - 40 минут. В среднем поездка пользователей составляет 18 минут. \n",
    "\n",
    "\n",
    "#### Этап 3. Объединение данных\n",
    "\n",
    "Данные всех 3-х csv таблиц были объединены в одну таблицу. Также для последующего удобства проверки гипотез были созданы еще 2 таблицы, содержащие всю информацию отдельно о пользователях с подпиской и без.\n",
    "\n",
    "На основе этих таблиц была визуализирована информация о расстоянии и времени поездок для пользователей обеих категорий.\n",
    "\n",
    "***Для пользователей с подпиской***: \n",
    "Минимальное расстояние, которое они преодолевают составило 244 м, а максимальное - 5700 м. В целом, чаще всего пользователи данной категории преодолевают расстояние чуть больше 3 км (около 3148 м).\n",
    "\n",
    "Минимальное время использования самоката подписчиками сервиса - около 4 минут, максимальное же - почти 41 минута. Чаще всего подписчики совершают поездки длительностью в 18 минут.\n",
    "\n",
    "***Для пользователей без подписки***: \n",
    "Минимальное расстояние поездки составило меньше метра, максимальное 7211 м. Интересно, что максимальное расстояние пользователей без подписки оказалось больше максимального расстояния пользователей с подпиской. Так же, как и пользователи с подпиской, пользователи без нее очень часто совершают поездки, составляющие чуть больше 3 км (3114 м).\n",
    "\n",
    "Минимальное время использования самоката составило меньше минуты. Возможно, пользователь просто передумал ехать на самокате и завершил поездку сразу же, и, по всей видимости, как раз этот же пользователь не успел проехать больше метра (min значение столбца `distance` датафрейма free_users). Максимальное время по выборке составило почти 35 минут, что на 6 минут меньше, чем максимальное время использования самоката каким-нибудь подписчиком сервиса.\n",
    "\n",
    "\n",
    "#### Этап 4. Подсчёт выручки\n",
    "\n",
    "Для дальнейшей проверки гипотез была создана сводная таблица с информацией о суммарном расстоянии, количестве поездок и суммарном времени для каждого пользователя за каждый месяц. В эту же таблицу был добавлен столбец с помесячной выручкой, которую принес каждый пользователь.\n",
    "\n",
    "\n",
    "#### Этап 5. Проверка гипотез\n",
    "\n",
    "Гипотеза 1 о том, что пользователи с подпиской тратят больше времени на поездки **подтвердилась**.\n",
    "\n",
    "Гипотеза 2 о том, что среднее расстояние, которое проезжают пользователи с подпиской за 1 поездку не превышает 3130 метров **подтвердилась**.\n",
    "\n",
    "Гипотеза 3 о том, что помесячная выручка от пользователей с подпиской по месяцам выше, чем от пользователей без подписки **подтвердилась**."
   ]
  },
  {
   "cell_type": "markdown",
   "id": "30244795",
   "metadata": {},
   "source": [
    "  "
   ]
  }
 ],
 "metadata": {
  "ExecuteTimeLog": [
   {
    "duration": 102,
    "start_time": "2023-10-11T10:30:06.095Z"
   },
   {
    "duration": 414,
    "start_time": "2023-10-11T10:31:02.257Z"
   },
   {
    "duration": 793,
    "start_time": "2023-10-11T10:35:16.961Z"
   },
   {
    "duration": 96,
    "start_time": "2023-10-11T10:35:17.756Z"
   },
   {
    "duration": 152,
    "start_time": "2023-10-11T10:35:17.853Z"
   },
   {
    "duration": 59,
    "start_time": "2023-10-11T10:35:18.007Z"
   },
   {
    "duration": 631,
    "start_time": "2023-10-11T10:36:00.775Z"
   },
   {
    "duration": 38,
    "start_time": "2023-10-11T10:36:01.408Z"
   },
   {
    "duration": 838,
    "start_time": "2023-10-11T12:15:59.928Z"
   },
   {
    "duration": 96,
    "start_time": "2023-10-11T12:16:00.768Z"
   },
   {
    "duration": 160,
    "start_time": "2023-10-11T12:16:00.866Z"
   },
   {
    "duration": 64,
    "start_time": "2023-10-11T12:16:01.029Z"
   },
   {
    "duration": 35,
    "start_time": "2023-10-11T12:17:38.344Z"
   },
   {
    "duration": 34,
    "start_time": "2023-10-11T12:17:49.516Z"
   },
   {
    "duration": 624,
    "start_time": "2023-10-11T12:19:29.376Z"
   },
   {
    "duration": 39,
    "start_time": "2023-10-11T12:19:30.001Z"
   },
   {
    "duration": 40,
    "start_time": "2023-10-11T12:19:30.042Z"
   },
   {
    "duration": 113,
    "start_time": "2023-10-11T12:19:30.084Z"
   },
   {
    "duration": 57,
    "start_time": "2023-10-11T12:19:30.199Z"
   },
   {
    "duration": 89,
    "start_time": "2023-10-11T12:19:30.258Z"
   },
   {
    "duration": 26,
    "start_time": "2023-10-11T12:19:30.348Z"
   },
   {
    "duration": 726,
    "start_time": "2023-10-11T12:31:03.576Z"
   },
   {
    "duration": 41,
    "start_time": "2023-10-11T12:31:04.304Z"
   },
   {
    "duration": 15,
    "start_time": "2023-10-11T12:31:04.355Z"
   },
   {
    "duration": 65,
    "start_time": "2023-10-11T12:31:04.372Z"
   },
   {
    "duration": 14,
    "start_time": "2023-10-11T12:31:04.439Z"
   },
   {
    "duration": 33,
    "start_time": "2023-10-11T12:31:04.455Z"
   },
   {
    "duration": 10,
    "start_time": "2023-10-11T12:31:04.490Z"
   },
   {
    "duration": 103,
    "start_time": "2023-10-11T12:31:04.502Z"
   },
   {
    "duration": 19,
    "start_time": "2023-10-11T12:31:19.373Z"
   },
   {
    "duration": 18,
    "start_time": "2023-10-11T12:31:23.357Z"
   },
   {
    "duration": 1670,
    "start_time": "2023-10-11T12:34:38.850Z"
   },
   {
    "duration": 16,
    "start_time": "2023-10-11T12:34:51.013Z"
   },
   {
    "duration": 6,
    "start_time": "2023-10-11T12:37:09.778Z"
   },
   {
    "duration": 7,
    "start_time": "2023-10-11T12:37:47.755Z"
   },
   {
    "duration": 9,
    "start_time": "2023-10-11T12:38:11.506Z"
   },
   {
    "duration": 6,
    "start_time": "2023-10-11T12:38:31.280Z"
   },
   {
    "duration": 7,
    "start_time": "2023-10-11T12:39:09.418Z"
   },
   {
    "duration": 745,
    "start_time": "2023-10-11T12:40:32.747Z"
   },
   {
    "duration": 56,
    "start_time": "2023-10-11T12:40:33.495Z"
   },
   {
    "duration": 15,
    "start_time": "2023-10-11T12:40:33.557Z"
   },
   {
    "duration": 73,
    "start_time": "2023-10-11T12:40:33.574Z"
   },
   {
    "duration": 17,
    "start_time": "2023-10-11T12:40:33.650Z"
   },
   {
    "duration": 26,
    "start_time": "2023-10-11T12:40:33.670Z"
   },
   {
    "duration": 11,
    "start_time": "2023-10-11T12:40:33.698Z"
   },
   {
    "duration": 28,
    "start_time": "2023-10-11T12:40:33.711Z"
   },
   {
    "duration": 15,
    "start_time": "2023-10-11T12:40:33.741Z"
   },
   {
    "duration": 8,
    "start_time": "2023-10-11T12:40:33.758Z"
   },
   {
    "duration": 23,
    "start_time": "2023-10-11T12:40:33.768Z"
   },
   {
    "duration": 9,
    "start_time": "2023-10-11T12:41:26.519Z"
   },
   {
    "duration": 6,
    "start_time": "2023-10-11T12:42:09.352Z"
   },
   {
    "duration": 7,
    "start_time": "2023-10-11T12:46:58.503Z"
   },
   {
    "duration": 725,
    "start_time": "2023-10-11T12:47:13.819Z"
   },
   {
    "duration": 38,
    "start_time": "2023-10-11T12:47:14.546Z"
   },
   {
    "duration": 11,
    "start_time": "2023-10-11T12:47:14.586Z"
   },
   {
    "duration": 61,
    "start_time": "2023-10-11T12:47:14.599Z"
   },
   {
    "duration": 11,
    "start_time": "2023-10-11T12:47:14.662Z"
   },
   {
    "duration": 19,
    "start_time": "2023-10-11T12:47:14.675Z"
   },
   {
    "duration": 11,
    "start_time": "2023-10-11T12:47:14.695Z"
   },
   {
    "duration": 16,
    "start_time": "2023-10-11T12:47:14.707Z"
   },
   {
    "duration": 30,
    "start_time": "2023-10-11T12:47:14.725Z"
   },
   {
    "duration": 6,
    "start_time": "2023-10-11T12:47:14.757Z"
   },
   {
    "duration": 13,
    "start_time": "2023-10-11T12:47:14.764Z"
   },
   {
    "duration": 7,
    "start_time": "2023-10-11T12:47:14.779Z"
   },
   {
    "duration": 5,
    "start_time": "2023-10-11T12:47:14.787Z"
   },
   {
    "duration": 275,
    "start_time": "2023-10-11T12:51:33.157Z"
   },
   {
    "duration": 77,
    "start_time": "2023-10-11T12:54:40.548Z"
   },
   {
    "duration": 664,
    "start_time": "2023-10-11T12:57:29.362Z"
   },
   {
    "duration": 41,
    "start_time": "2023-10-11T12:57:30.029Z"
   },
   {
    "duration": 24,
    "start_time": "2023-10-11T12:57:30.072Z"
   },
   {
    "duration": 78,
    "start_time": "2023-10-11T12:57:30.098Z"
   },
   {
    "duration": 15,
    "start_time": "2023-10-11T12:57:30.178Z"
   },
   {
    "duration": 46,
    "start_time": "2023-10-11T12:57:30.194Z"
   },
   {
    "duration": 41,
    "start_time": "2023-10-11T12:57:30.242Z"
   },
   {
    "duration": 66,
    "start_time": "2023-10-11T12:57:30.284Z"
   },
   {
    "duration": 21,
    "start_time": "2023-10-11T12:57:30.352Z"
   },
   {
    "duration": 32,
    "start_time": "2023-10-11T12:57:30.375Z"
   },
   {
    "duration": 49,
    "start_time": "2023-10-11T12:57:30.408Z"
   },
   {
    "duration": 37,
    "start_time": "2023-10-11T12:57:30.459Z"
   },
   {
    "duration": 42,
    "start_time": "2023-10-11T12:57:30.498Z"
   },
   {
    "duration": 39,
    "start_time": "2023-10-11T12:57:30.542Z"
   },
   {
    "duration": 128,
    "start_time": "2023-10-11T12:57:30.583Z"
   },
   {
    "duration": 7,
    "start_time": "2023-10-11T13:02:32.217Z"
   },
   {
    "duration": 171,
    "start_time": "2023-10-11T13:03:30.625Z"
   },
   {
    "duration": 141,
    "start_time": "2023-10-11T13:03:39.564Z"
   },
   {
    "duration": 187,
    "start_time": "2023-10-11T13:03:51.672Z"
   },
   {
    "duration": 794,
    "start_time": "2023-10-11T13:04:15.521Z"
   },
   {
    "duration": 42,
    "start_time": "2023-10-11T13:04:16.318Z"
   },
   {
    "duration": 13,
    "start_time": "2023-10-11T13:04:16.362Z"
   },
   {
    "duration": 58,
    "start_time": "2023-10-11T13:04:16.377Z"
   },
   {
    "duration": 15,
    "start_time": "2023-10-11T13:04:16.437Z"
   },
   {
    "duration": 25,
    "start_time": "2023-10-11T13:04:16.453Z"
   },
   {
    "duration": 12,
    "start_time": "2023-10-11T13:04:16.480Z"
   },
   {
    "duration": 46,
    "start_time": "2023-10-11T13:04:16.494Z"
   },
   {
    "duration": 15,
    "start_time": "2023-10-11T13:04:16.542Z"
   },
   {
    "duration": 9,
    "start_time": "2023-10-11T13:04:16.559Z"
   },
   {
    "duration": 17,
    "start_time": "2023-10-11T13:04:16.571Z"
   },
   {
    "duration": 11,
    "start_time": "2023-10-11T13:04:16.591Z"
   },
   {
    "duration": 6,
    "start_time": "2023-10-11T13:04:16.605Z"
   },
   {
    "duration": 35,
    "start_time": "2023-10-11T13:04:16.613Z"
   },
   {
    "duration": 228,
    "start_time": "2023-10-11T13:04:16.650Z"
   },
   {
    "duration": 620,
    "start_time": "2023-10-11T13:06:06.275Z"
   },
   {
    "duration": 38,
    "start_time": "2023-10-11T13:06:06.897Z"
   },
   {
    "duration": 11,
    "start_time": "2023-10-11T13:06:06.937Z"
   },
   {
    "duration": 37,
    "start_time": "2023-10-11T13:06:06.950Z"
   },
   {
    "duration": 11,
    "start_time": "2023-10-11T13:06:06.989Z"
   },
   {
    "duration": 27,
    "start_time": "2023-10-11T13:06:07.002Z"
   },
   {
    "duration": 12,
    "start_time": "2023-10-11T13:06:07.030Z"
   },
   {
    "duration": 36,
    "start_time": "2023-10-11T13:06:07.044Z"
   },
   {
    "duration": 14,
    "start_time": "2023-10-11T13:06:07.081Z"
   },
   {
    "duration": 8,
    "start_time": "2023-10-11T13:06:07.098Z"
   },
   {
    "duration": 35,
    "start_time": "2023-10-11T13:06:07.108Z"
   },
   {
    "duration": 12,
    "start_time": "2023-10-11T13:06:07.145Z"
   },
   {
    "duration": 9,
    "start_time": "2023-10-11T13:06:07.158Z"
   },
   {
    "duration": 18,
    "start_time": "2023-10-11T13:06:07.168Z"
   },
   {
    "duration": 99,
    "start_time": "2023-10-11T13:06:07.188Z"
   },
   {
    "duration": 682,
    "start_time": "2023-10-11T13:14:00.561Z"
   },
   {
    "duration": 39,
    "start_time": "2023-10-11T13:14:01.245Z"
   },
   {
    "duration": 83,
    "start_time": "2023-10-11T13:14:01.286Z"
   },
   {
    "duration": 129,
    "start_time": "2023-10-11T13:14:01.371Z"
   },
   {
    "duration": 41,
    "start_time": "2023-10-11T13:14:01.503Z"
   },
   {
    "duration": 374,
    "start_time": "2023-10-11T13:14:01.546Z"
   },
   {
    "duration": 314,
    "start_time": "2023-10-11T13:14:01.922Z"
   },
   {
    "duration": 111,
    "start_time": "2023-10-11T13:14:02.239Z"
   },
   {
    "duration": 105,
    "start_time": "2023-10-11T13:14:02.352Z"
   },
   {
    "duration": 115,
    "start_time": "2023-10-11T13:14:02.460Z"
   },
   {
    "duration": 197,
    "start_time": "2023-10-11T13:14:02.577Z"
   },
   {
    "duration": 36,
    "start_time": "2023-10-11T13:14:02.776Z"
   },
   {
    "duration": 29,
    "start_time": "2023-10-11T13:14:02.813Z"
   },
   {
    "duration": 25,
    "start_time": "2023-10-11T13:14:02.844Z"
   },
   {
    "duration": 168,
    "start_time": "2023-10-11T13:14:02.871Z"
   },
   {
    "duration": 8,
    "start_time": "2023-10-11T13:14:19.133Z"
   },
   {
    "duration": 119,
    "start_time": "2023-10-11T13:14:54.382Z"
   },
   {
    "duration": 173,
    "start_time": "2023-10-11T13:15:00.641Z"
   },
   {
    "duration": 134,
    "start_time": "2023-10-11T13:15:30.526Z"
   },
   {
    "duration": 171,
    "start_time": "2023-10-11T13:16:32.866Z"
   },
   {
    "duration": 161,
    "start_time": "2023-10-11T13:16:40.235Z"
   },
   {
    "duration": 631,
    "start_time": "2023-10-11T13:16:49.508Z"
   },
   {
    "duration": 38,
    "start_time": "2023-10-11T13:16:50.141Z"
   },
   {
    "duration": 11,
    "start_time": "2023-10-11T13:16:50.181Z"
   },
   {
    "duration": 45,
    "start_time": "2023-10-11T13:16:50.194Z"
   },
   {
    "duration": 11,
    "start_time": "2023-10-11T13:16:50.241Z"
   },
   {
    "duration": 29,
    "start_time": "2023-10-11T13:16:50.253Z"
   },
   {
    "duration": 16,
    "start_time": "2023-10-11T13:16:50.284Z"
   },
   {
    "duration": 18,
    "start_time": "2023-10-11T13:16:50.302Z"
   },
   {
    "duration": 15,
    "start_time": "2023-10-11T13:16:50.321Z"
   },
   {
    "duration": 10,
    "start_time": "2023-10-11T13:16:50.345Z"
   },
   {
    "duration": 29,
    "start_time": "2023-10-11T13:16:50.356Z"
   },
   {
    "duration": 16,
    "start_time": "2023-10-11T13:16:50.386Z"
   },
   {
    "duration": 12,
    "start_time": "2023-10-11T13:16:50.403Z"
   },
   {
    "duration": 36,
    "start_time": "2023-10-11T13:16:50.416Z"
   },
   {
    "duration": 90,
    "start_time": "2023-10-11T13:16:50.453Z"
   },
   {
    "duration": 82,
    "start_time": "2023-10-11T13:18:27.293Z"
   },
   {
    "duration": 5,
    "start_time": "2023-10-11T13:28:16.105Z"
   },
   {
    "duration": 157,
    "start_time": "2023-10-11T13:33:22.855Z"
   },
   {
    "duration": 274,
    "start_time": "2023-10-11T13:33:44.365Z"
   },
   {
    "duration": 173,
    "start_time": "2023-10-11T13:33:50.259Z"
   },
   {
    "duration": 207,
    "start_time": "2023-10-11T13:33:58.196Z"
   },
   {
    "duration": 185,
    "start_time": "2023-10-11T13:36:14.309Z"
   },
   {
    "duration": 152,
    "start_time": "2023-10-11T13:40:48.504Z"
   },
   {
    "duration": 165,
    "start_time": "2023-10-11T13:46:52.165Z"
   },
   {
    "duration": 9,
    "start_time": "2023-10-11T14:00:13.099Z"
   },
   {
    "duration": 7,
    "start_time": "2023-10-11T14:00:39.009Z"
   },
   {
    "duration": 8,
    "start_time": "2023-10-11T14:00:55.482Z"
   },
   {
    "duration": 46,
    "start_time": "2023-10-12T10:29:02.889Z"
   },
   {
    "duration": 820,
    "start_time": "2023-10-12T10:29:12.046Z"
   },
   {
    "duration": 97,
    "start_time": "2023-10-12T10:29:12.868Z"
   },
   {
    "duration": 11,
    "start_time": "2023-10-12T10:29:12.967Z"
   },
   {
    "duration": 171,
    "start_time": "2023-10-12T10:29:12.980Z"
   },
   {
    "duration": 10,
    "start_time": "2023-10-12T10:29:13.154Z"
   },
   {
    "duration": 70,
    "start_time": "2023-10-12T10:29:13.166Z"
   },
   {
    "duration": 10,
    "start_time": "2023-10-12T10:29:13.237Z"
   },
   {
    "duration": 36,
    "start_time": "2023-10-12T10:29:13.248Z"
   },
   {
    "duration": 69,
    "start_time": "2023-10-12T10:29:13.285Z"
   },
   {
    "duration": 5,
    "start_time": "2023-10-12T10:29:13.356Z"
   },
   {
    "duration": 14,
    "start_time": "2023-10-12T10:29:13.363Z"
   },
   {
    "duration": 18,
    "start_time": "2023-10-12T10:29:13.378Z"
   },
   {
    "duration": 27,
    "start_time": "2023-10-12T10:29:13.398Z"
   },
   {
    "duration": 24,
    "start_time": "2023-10-12T10:29:13.428Z"
   },
   {
    "duration": 8,
    "start_time": "2023-10-12T10:29:13.453Z"
   },
   {
    "duration": 145,
    "start_time": "2023-10-12T10:29:13.462Z"
   },
   {
    "duration": 137,
    "start_time": "2023-10-12T10:29:13.609Z"
   },
   {
    "duration": 139,
    "start_time": "2023-10-12T10:29:13.747Z"
   },
   {
    "duration": 22,
    "start_time": "2023-10-12T10:29:13.887Z"
   },
   {
    "duration": 26,
    "start_time": "2023-10-12T10:36:13.932Z"
   },
   {
    "duration": 689,
    "start_time": "2023-10-12T10:38:03.057Z"
   },
   {
    "duration": 38,
    "start_time": "2023-10-12T10:38:03.748Z"
   },
   {
    "duration": 11,
    "start_time": "2023-10-12T10:38:03.788Z"
   },
   {
    "duration": 45,
    "start_time": "2023-10-12T10:38:03.801Z"
   },
   {
    "duration": 11,
    "start_time": "2023-10-12T10:38:03.847Z"
   },
   {
    "duration": 20,
    "start_time": "2023-10-12T10:38:03.860Z"
   },
   {
    "duration": 10,
    "start_time": "2023-10-12T10:38:03.881Z"
   },
   {
    "duration": 32,
    "start_time": "2023-10-12T10:38:03.893Z"
   },
   {
    "duration": 18,
    "start_time": "2023-10-12T10:38:03.927Z"
   },
   {
    "duration": 119,
    "start_time": "2023-10-12T10:38:03.948Z"
   },
   {
    "duration": 15,
    "start_time": "2023-10-12T10:38:04.070Z"
   },
   {
    "duration": 11,
    "start_time": "2023-10-12T10:38:04.087Z"
   },
   {
    "duration": 6,
    "start_time": "2023-10-12T10:38:04.101Z"
   },
   {
    "duration": 12,
    "start_time": "2023-10-12T10:38:04.109Z"
   },
   {
    "duration": 24,
    "start_time": "2023-10-12T10:38:04.123Z"
   },
   {
    "duration": 237,
    "start_time": "2023-10-12T10:38:04.149Z"
   },
   {
    "duration": 158,
    "start_time": "2023-10-12T10:38:04.388Z"
   },
   {
    "duration": 156,
    "start_time": "2023-10-12T10:38:04.547Z"
   },
   {
    "duration": 27,
    "start_time": "2023-10-12T10:38:04.705Z"
   },
   {
    "duration": 26,
    "start_time": "2023-10-12T10:38:04.745Z"
   },
   {
    "duration": 78,
    "start_time": "2023-10-12T10:46:28.181Z"
   },
   {
    "duration": 5,
    "start_time": "2023-10-12T10:46:39.433Z"
   },
   {
    "duration": 599,
    "start_time": "2023-10-12T10:46:57.589Z"
   },
   {
    "duration": 39,
    "start_time": "2023-10-12T10:46:58.190Z"
   },
   {
    "duration": 11,
    "start_time": "2023-10-12T10:46:58.230Z"
   },
   {
    "duration": 72,
    "start_time": "2023-10-12T10:46:58.242Z"
   },
   {
    "duration": 11,
    "start_time": "2023-10-12T10:46:58.316Z"
   },
   {
    "duration": 22,
    "start_time": "2023-10-12T10:46:58.329Z"
   },
   {
    "duration": 9,
    "start_time": "2023-10-12T10:46:58.353Z"
   },
   {
    "duration": 19,
    "start_time": "2023-10-12T10:46:58.364Z"
   },
   {
    "duration": 20,
    "start_time": "2023-10-12T10:46:58.385Z"
   },
   {
    "duration": 5,
    "start_time": "2023-10-12T10:46:58.407Z"
   },
   {
    "duration": 27,
    "start_time": "2023-10-12T10:46:58.414Z"
   },
   {
    "duration": 13,
    "start_time": "2023-10-12T10:46:58.442Z"
   },
   {
    "duration": 7,
    "start_time": "2023-10-12T10:46:58.457Z"
   },
   {
    "duration": 15,
    "start_time": "2023-10-12T10:46:58.466Z"
   },
   {
    "duration": 26,
    "start_time": "2023-10-12T10:46:58.483Z"
   },
   {
    "duration": 160,
    "start_time": "2023-10-12T10:46:58.511Z"
   },
   {
    "duration": 140,
    "start_time": "2023-10-12T10:46:58.673Z"
   },
   {
    "duration": 145,
    "start_time": "2023-10-12T10:46:58.815Z"
   },
   {
    "duration": 22,
    "start_time": "2023-10-12T10:46:58.962Z"
   },
   {
    "duration": 50,
    "start_time": "2023-10-12T10:46:58.986Z"
   },
   {
    "duration": 8,
    "start_time": "2023-10-12T10:46:59.038Z"
   },
   {
    "duration": 10,
    "start_time": "2023-10-12T10:46:59.048Z"
   },
   {
    "duration": 22,
    "start_time": "2023-10-12T10:59:34.674Z"
   },
   {
    "duration": 18,
    "start_time": "2023-10-12T11:00:19.913Z"
   },
   {
    "duration": 866,
    "start_time": "2023-10-12T11:00:26.124Z"
   },
   {
    "duration": 39,
    "start_time": "2023-10-12T11:00:26.992Z"
   },
   {
    "duration": 12,
    "start_time": "2023-10-12T11:00:27.033Z"
   },
   {
    "duration": 64,
    "start_time": "2023-10-12T11:00:27.047Z"
   },
   {
    "duration": 21,
    "start_time": "2023-10-12T11:00:27.114Z"
   },
   {
    "duration": 47,
    "start_time": "2023-10-12T11:00:27.136Z"
   },
   {
    "duration": 19,
    "start_time": "2023-10-12T11:00:27.185Z"
   },
   {
    "duration": 68,
    "start_time": "2023-10-12T11:00:27.206Z"
   },
   {
    "duration": 17,
    "start_time": "2023-10-12T11:00:27.275Z"
   },
   {
    "duration": 17,
    "start_time": "2023-10-12T11:00:27.294Z"
   },
   {
    "duration": 15,
    "start_time": "2023-10-12T11:00:27.312Z"
   },
   {
    "duration": 36,
    "start_time": "2023-10-12T11:00:27.329Z"
   },
   {
    "duration": 37,
    "start_time": "2023-10-12T11:00:27.367Z"
   },
   {
    "duration": 50,
    "start_time": "2023-10-12T11:00:27.407Z"
   },
   {
    "duration": 21,
    "start_time": "2023-10-12T11:00:27.459Z"
   },
   {
    "duration": 176,
    "start_time": "2023-10-12T11:00:27.482Z"
   },
   {
    "duration": 146,
    "start_time": "2023-10-12T11:00:27.659Z"
   },
   {
    "duration": 151,
    "start_time": "2023-10-12T11:00:27.807Z"
   },
   {
    "duration": 24,
    "start_time": "2023-10-12T11:00:27.960Z"
   },
   {
    "duration": 67,
    "start_time": "2023-10-12T11:00:27.986Z"
   },
   {
    "duration": 49,
    "start_time": "2023-10-12T11:00:28.055Z"
   },
   {
    "duration": 41,
    "start_time": "2023-10-12T11:00:28.105Z"
   },
   {
    "duration": 296,
    "start_time": "2023-10-12T11:09:07.728Z"
   },
   {
    "duration": 208,
    "start_time": "2023-10-12T11:10:26.701Z"
   },
   {
    "duration": 109,
    "start_time": "2023-10-12T11:10:40.718Z"
   },
   {
    "duration": 258,
    "start_time": "2023-10-12T11:14:39.288Z"
   },
   {
    "duration": 260,
    "start_time": "2023-10-12T11:16:54.226Z"
   },
   {
    "duration": 186,
    "start_time": "2023-10-12T11:19:05.579Z"
   },
   {
    "duration": 110,
    "start_time": "2023-10-12T11:19:13.599Z"
   },
   {
    "duration": 658,
    "start_time": "2023-10-12T11:21:49.250Z"
   },
   {
    "duration": 40,
    "start_time": "2023-10-12T11:21:49.910Z"
   },
   {
    "duration": 11,
    "start_time": "2023-10-12T11:21:49.952Z"
   },
   {
    "duration": 46,
    "start_time": "2023-10-12T11:21:49.964Z"
   },
   {
    "duration": 11,
    "start_time": "2023-10-12T11:21:50.012Z"
   },
   {
    "duration": 41,
    "start_time": "2023-10-12T11:21:50.024Z"
   },
   {
    "duration": 20,
    "start_time": "2023-10-12T11:21:50.066Z"
   },
   {
    "duration": 25,
    "start_time": "2023-10-12T11:21:50.088Z"
   },
   {
    "duration": 20,
    "start_time": "2023-10-12T11:21:50.114Z"
   },
   {
    "duration": 17,
    "start_time": "2023-10-12T11:21:50.136Z"
   },
   {
    "duration": 47,
    "start_time": "2023-10-12T11:21:50.155Z"
   },
   {
    "duration": 21,
    "start_time": "2023-10-12T11:21:50.203Z"
   },
   {
    "duration": 37,
    "start_time": "2023-10-12T11:21:50.226Z"
   },
   {
    "duration": 29,
    "start_time": "2023-10-12T11:21:50.266Z"
   },
   {
    "duration": 18,
    "start_time": "2023-10-12T11:21:50.296Z"
   },
   {
    "duration": 149,
    "start_time": "2023-10-12T11:21:50.316Z"
   },
   {
    "duration": 134,
    "start_time": "2023-10-12T11:21:50.467Z"
   },
   {
    "duration": 130,
    "start_time": "2023-10-12T11:21:50.602Z"
   },
   {
    "duration": 23,
    "start_time": "2023-10-12T11:21:50.744Z"
   },
   {
    "duration": 22,
    "start_time": "2023-10-12T11:21:50.769Z"
   },
   {
    "duration": 19,
    "start_time": "2023-10-12T11:21:50.792Z"
   },
   {
    "duration": 40,
    "start_time": "2023-10-12T11:21:50.812Z"
   },
   {
    "duration": 299,
    "start_time": "2023-10-12T11:21:50.854Z"
   },
   {
    "duration": 116,
    "start_time": "2023-10-12T11:21:51.154Z"
   },
   {
    "duration": 290,
    "start_time": "2023-10-12T11:21:51.271Z"
   },
   {
    "duration": 325,
    "start_time": "2023-10-12T11:21:51.562Z"
   },
   {
    "duration": 128,
    "start_time": "2023-10-12T11:21:51.889Z"
   },
   {
    "duration": 117,
    "start_time": "2023-10-12T11:24:13.148Z"
   },
   {
    "duration": 252,
    "start_time": "2023-10-12T11:25:19.576Z"
   },
   {
    "duration": 318,
    "start_time": "2023-10-12T11:25:39.163Z"
   },
   {
    "duration": 642,
    "start_time": "2023-10-12T11:26:06.666Z"
   },
   {
    "duration": 39,
    "start_time": "2023-10-12T11:26:07.311Z"
   },
   {
    "duration": 16,
    "start_time": "2023-10-12T11:26:07.352Z"
   },
   {
    "duration": 69,
    "start_time": "2023-10-12T11:26:07.370Z"
   },
   {
    "duration": 11,
    "start_time": "2023-10-12T11:26:07.441Z"
   },
   {
    "duration": 34,
    "start_time": "2023-10-12T11:26:07.453Z"
   },
   {
    "duration": 18,
    "start_time": "2023-10-12T11:26:07.489Z"
   },
   {
    "duration": 33,
    "start_time": "2023-10-12T11:26:07.509Z"
   },
   {
    "duration": 22,
    "start_time": "2023-10-12T11:26:07.543Z"
   },
   {
    "duration": 22,
    "start_time": "2023-10-12T11:26:07.566Z"
   },
   {
    "duration": 23,
    "start_time": "2023-10-12T11:26:07.589Z"
   },
   {
    "duration": 36,
    "start_time": "2023-10-12T11:26:07.614Z"
   },
   {
    "duration": 23,
    "start_time": "2023-10-12T11:26:07.652Z"
   },
   {
    "duration": 43,
    "start_time": "2023-10-12T11:26:07.678Z"
   },
   {
    "duration": 47,
    "start_time": "2023-10-12T11:26:07.722Z"
   },
   {
    "duration": 201,
    "start_time": "2023-10-12T11:26:07.771Z"
   },
   {
    "duration": 138,
    "start_time": "2023-10-12T11:26:07.974Z"
   },
   {
    "duration": 144,
    "start_time": "2023-10-12T11:26:08.113Z"
   },
   {
    "duration": 22,
    "start_time": "2023-10-12T11:26:08.259Z"
   },
   {
    "duration": 30,
    "start_time": "2023-10-12T11:26:08.283Z"
   },
   {
    "duration": 23,
    "start_time": "2023-10-12T11:26:08.316Z"
   },
   {
    "duration": 65,
    "start_time": "2023-10-12T11:26:08.343Z"
   },
   {
    "duration": 346,
    "start_time": "2023-10-12T11:26:08.409Z"
   },
   {
    "duration": 147,
    "start_time": "2023-10-12T11:26:08.756Z"
   },
   {
    "duration": 280,
    "start_time": "2023-10-12T11:26:08.904Z"
   },
   {
    "duration": 132,
    "start_time": "2023-10-12T11:26:09.187Z"
   },
   {
    "duration": 307,
    "start_time": "2023-10-12T11:26:09.320Z"
   },
   {
    "duration": 121,
    "start_time": "2023-10-12T11:26:09.629Z"
   },
   {
    "duration": 681,
    "start_time": "2023-10-12T11:29:58.678Z"
   },
   {
    "duration": 39,
    "start_time": "2023-10-12T11:29:59.361Z"
   },
   {
    "duration": 12,
    "start_time": "2023-10-12T11:29:59.401Z"
   },
   {
    "duration": 60,
    "start_time": "2023-10-12T11:29:59.415Z"
   },
   {
    "duration": 16,
    "start_time": "2023-10-12T11:29:59.477Z"
   },
   {
    "duration": 31,
    "start_time": "2023-10-12T11:29:59.495Z"
   },
   {
    "duration": 15,
    "start_time": "2023-10-12T11:29:59.529Z"
   },
   {
    "duration": 27,
    "start_time": "2023-10-12T11:29:59.547Z"
   },
   {
    "duration": 23,
    "start_time": "2023-10-12T11:29:59.576Z"
   },
   {
    "duration": 7,
    "start_time": "2023-10-12T11:29:59.600Z"
   },
   {
    "duration": 21,
    "start_time": "2023-10-12T11:29:59.608Z"
   },
   {
    "duration": 20,
    "start_time": "2023-10-12T11:29:59.631Z"
   },
   {
    "duration": 6,
    "start_time": "2023-10-12T11:29:59.653Z"
   },
   {
    "duration": 23,
    "start_time": "2023-10-12T11:29:59.661Z"
   },
   {
    "duration": 22,
    "start_time": "2023-10-12T11:29:59.686Z"
   },
   {
    "duration": 159,
    "start_time": "2023-10-12T11:29:59.710Z"
   },
   {
    "duration": 185,
    "start_time": "2023-10-12T11:29:59.870Z"
   },
   {
    "duration": 146,
    "start_time": "2023-10-12T11:30:00.057Z"
   },
   {
    "duration": 24,
    "start_time": "2023-10-12T11:30:00.205Z"
   },
   {
    "duration": 224,
    "start_time": "2023-10-12T11:30:00.230Z"
   },
   {
    "duration": 63,
    "start_time": "2023-10-12T11:30:00.456Z"
   },
   {
    "duration": 77,
    "start_time": "2023-10-12T11:30:00.521Z"
   },
   {
    "duration": 344,
    "start_time": "2023-10-12T11:30:00.600Z"
   },
   {
    "duration": 178,
    "start_time": "2023-10-12T11:30:00.946Z"
   },
   {
    "duration": 0,
    "start_time": "2023-10-12T11:30:01.125Z"
   },
   {
    "duration": 0,
    "start_time": "2023-10-12T11:30:01.127Z"
   },
   {
    "duration": 0,
    "start_time": "2023-10-12T11:30:01.127Z"
   },
   {
    "duration": 0,
    "start_time": "2023-10-12T11:30:01.128Z"
   },
   {
    "duration": 92,
    "start_time": "2023-10-12T11:31:48.282Z"
   },
   {
    "duration": 645,
    "start_time": "2023-10-12T11:32:20.076Z"
   },
   {
    "duration": 39,
    "start_time": "2023-10-12T11:32:20.724Z"
   },
   {
    "duration": 10,
    "start_time": "2023-10-12T11:32:20.764Z"
   },
   {
    "duration": 108,
    "start_time": "2023-10-12T11:32:20.776Z"
   },
   {
    "duration": 12,
    "start_time": "2023-10-12T11:32:20.886Z"
   },
   {
    "duration": 51,
    "start_time": "2023-10-12T11:32:20.899Z"
   },
   {
    "duration": 30,
    "start_time": "2023-10-12T11:32:20.951Z"
   },
   {
    "duration": 69,
    "start_time": "2023-10-12T11:32:20.982Z"
   },
   {
    "duration": 38,
    "start_time": "2023-10-12T11:32:21.052Z"
   },
   {
    "duration": 25,
    "start_time": "2023-10-12T11:32:21.091Z"
   },
   {
    "duration": 54,
    "start_time": "2023-10-12T11:32:21.118Z"
   },
   {
    "duration": 48,
    "start_time": "2023-10-12T11:32:21.174Z"
   },
   {
    "duration": 33,
    "start_time": "2023-10-12T11:32:21.223Z"
   },
   {
    "duration": 51,
    "start_time": "2023-10-12T11:32:21.259Z"
   },
   {
    "duration": 58,
    "start_time": "2023-10-12T11:32:21.311Z"
   },
   {
    "duration": 222,
    "start_time": "2023-10-12T11:32:21.371Z"
   },
   {
    "duration": 138,
    "start_time": "2023-10-12T11:32:21.595Z"
   },
   {
    "duration": 150,
    "start_time": "2023-10-12T11:32:21.735Z"
   },
   {
    "duration": 23,
    "start_time": "2023-10-12T11:32:21.887Z"
   },
   {
    "duration": 39,
    "start_time": "2023-10-12T11:32:21.911Z"
   },
   {
    "duration": 53,
    "start_time": "2023-10-12T11:32:21.952Z"
   },
   {
    "duration": 55,
    "start_time": "2023-10-12T11:32:22.007Z"
   },
   {
    "duration": 306,
    "start_time": "2023-10-12T11:32:22.064Z"
   },
   {
    "duration": 105,
    "start_time": "2023-10-12T11:32:22.372Z"
   },
   {
    "duration": 249,
    "start_time": "2023-10-12T11:32:22.478Z"
   },
   {
    "duration": 125,
    "start_time": "2023-10-12T11:32:22.728Z"
   },
   {
    "duration": 269,
    "start_time": "2023-10-12T11:32:22.856Z"
   },
   {
    "duration": 126,
    "start_time": "2023-10-12T11:32:23.127Z"
   },
   {
    "duration": 672,
    "start_time": "2023-10-12T11:35:15.855Z"
   },
   {
    "duration": 38,
    "start_time": "2023-10-12T11:35:16.529Z"
   },
   {
    "duration": 103,
    "start_time": "2023-10-12T11:35:16.569Z"
   },
   {
    "duration": 45,
    "start_time": "2023-10-12T11:35:16.673Z"
   },
   {
    "duration": 12,
    "start_time": "2023-10-12T11:35:16.720Z"
   },
   {
    "duration": 25,
    "start_time": "2023-10-12T11:35:16.734Z"
   },
   {
    "duration": 10,
    "start_time": "2023-10-12T11:35:16.761Z"
   },
   {
    "duration": 24,
    "start_time": "2023-10-12T11:35:16.773Z"
   },
   {
    "duration": 28,
    "start_time": "2023-10-12T11:35:16.798Z"
   },
   {
    "duration": 20,
    "start_time": "2023-10-12T11:35:16.828Z"
   },
   {
    "duration": 14,
    "start_time": "2023-10-12T11:35:16.850Z"
   },
   {
    "duration": 42,
    "start_time": "2023-10-12T11:35:16.865Z"
   },
   {
    "duration": 7,
    "start_time": "2023-10-12T11:35:16.908Z"
   },
   {
    "duration": 12,
    "start_time": "2023-10-12T11:35:16.918Z"
   },
   {
    "duration": 15,
    "start_time": "2023-10-12T11:35:16.931Z"
   },
   {
    "duration": 204,
    "start_time": "2023-10-12T11:35:16.948Z"
   },
   {
    "duration": 150,
    "start_time": "2023-10-12T11:35:17.154Z"
   },
   {
    "duration": 177,
    "start_time": "2023-10-12T11:35:17.306Z"
   },
   {
    "duration": 26,
    "start_time": "2023-10-12T11:35:17.484Z"
   },
   {
    "duration": 34,
    "start_time": "2023-10-12T11:35:17.511Z"
   },
   {
    "duration": 50,
    "start_time": "2023-10-12T11:35:17.547Z"
   },
   {
    "duration": 59,
    "start_time": "2023-10-12T11:35:17.599Z"
   },
   {
    "duration": 404,
    "start_time": "2023-10-12T11:35:17.660Z"
   },
   {
    "duration": 115,
    "start_time": "2023-10-12T11:35:18.066Z"
   },
   {
    "duration": 268,
    "start_time": "2023-10-12T11:35:18.183Z"
   },
   {
    "duration": 114,
    "start_time": "2023-10-12T11:35:18.452Z"
   },
   {
    "duration": 258,
    "start_time": "2023-10-12T11:35:18.568Z"
   },
   {
    "duration": 128,
    "start_time": "2023-10-12T11:35:18.828Z"
   },
   {
    "duration": 731,
    "start_time": "2023-10-12T11:35:58.231Z"
   },
   {
    "duration": 40,
    "start_time": "2023-10-12T11:35:58.964Z"
   },
   {
    "duration": 16,
    "start_time": "2023-10-12T11:35:59.006Z"
   },
   {
    "duration": 60,
    "start_time": "2023-10-12T11:35:59.024Z"
   },
   {
    "duration": 27,
    "start_time": "2023-10-12T11:35:59.087Z"
   },
   {
    "duration": 23,
    "start_time": "2023-10-12T11:35:59.116Z"
   },
   {
    "duration": 10,
    "start_time": "2023-10-12T11:35:59.141Z"
   },
   {
    "duration": 18,
    "start_time": "2023-10-12T11:35:59.152Z"
   },
   {
    "duration": 16,
    "start_time": "2023-10-12T11:35:59.172Z"
   },
   {
    "duration": 7,
    "start_time": "2023-10-12T11:35:59.192Z"
   },
   {
    "duration": 36,
    "start_time": "2023-10-12T11:35:59.201Z"
   },
   {
    "duration": 11,
    "start_time": "2023-10-12T11:35:59.239Z"
   },
   {
    "duration": 8,
    "start_time": "2023-10-12T11:35:59.251Z"
   },
   {
    "duration": 11,
    "start_time": "2023-10-12T11:35:59.261Z"
   },
   {
    "duration": 21,
    "start_time": "2023-10-12T11:35:59.274Z"
   },
   {
    "duration": 167,
    "start_time": "2023-10-12T11:35:59.297Z"
   },
   {
    "duration": 148,
    "start_time": "2023-10-12T11:35:59.466Z"
   },
   {
    "duration": 139,
    "start_time": "2023-10-12T11:35:59.616Z"
   },
   {
    "duration": 23,
    "start_time": "2023-10-12T11:35:59.756Z"
   },
   {
    "duration": 22,
    "start_time": "2023-10-12T11:35:59.781Z"
   },
   {
    "duration": 47,
    "start_time": "2023-10-12T11:35:59.805Z"
   },
   {
    "duration": 19,
    "start_time": "2023-10-12T11:35:59.854Z"
   },
   {
    "duration": 340,
    "start_time": "2023-10-12T11:35:59.874Z"
   },
   {
    "duration": 99,
    "start_time": "2023-10-12T11:36:00.216Z"
   },
   {
    "duration": 263,
    "start_time": "2023-10-12T11:36:00.316Z"
   },
   {
    "duration": 110,
    "start_time": "2023-10-12T11:36:00.580Z"
   },
   {
    "duration": 324,
    "start_time": "2023-10-12T11:36:00.691Z"
   },
   {
    "duration": 122,
    "start_time": "2023-10-12T11:36:01.044Z"
   },
   {
    "duration": 275,
    "start_time": "2023-10-12T11:49:39.127Z"
   },
   {
    "duration": 309,
    "start_time": "2023-10-12T11:49:55.502Z"
   },
   {
    "duration": 108,
    "start_time": "2023-10-12T11:50:34.960Z"
   },
   {
    "duration": 854,
    "start_time": "2023-10-12T13:27:00.087Z"
   },
   {
    "duration": 110,
    "start_time": "2023-10-12T13:27:00.945Z"
   },
   {
    "duration": 14,
    "start_time": "2023-10-12T13:27:01.057Z"
   },
   {
    "duration": 233,
    "start_time": "2023-10-12T13:27:01.074Z"
   },
   {
    "duration": 11,
    "start_time": "2023-10-12T13:27:01.309Z"
   },
   {
    "duration": 192,
    "start_time": "2023-10-12T13:27:01.321Z"
   },
   {
    "duration": 11,
    "start_time": "2023-10-12T13:27:01.515Z"
   },
   {
    "duration": 102,
    "start_time": "2023-10-12T13:27:01.528Z"
   },
   {
    "duration": 135,
    "start_time": "2023-10-12T13:27:01.632Z"
   },
   {
    "duration": 50,
    "start_time": "2023-10-12T13:27:01.772Z"
   },
   {
    "duration": 148,
    "start_time": "2023-10-12T13:27:01.823Z"
   },
   {
    "duration": 246,
    "start_time": "2023-10-12T13:27:01.973Z"
   },
   {
    "duration": 229,
    "start_time": "2023-10-12T13:27:02.221Z"
   },
   {
    "duration": 170,
    "start_time": "2023-10-12T13:27:02.452Z"
   },
   {
    "duration": 132,
    "start_time": "2023-10-12T13:27:02.623Z"
   },
   {
    "duration": 360,
    "start_time": "2023-10-12T13:27:02.756Z"
   },
   {
    "duration": 164,
    "start_time": "2023-10-12T13:27:03.118Z"
   },
   {
    "duration": 162,
    "start_time": "2023-10-12T13:27:03.284Z"
   },
   {
    "duration": 46,
    "start_time": "2023-10-12T13:27:03.448Z"
   },
   {
    "duration": 27,
    "start_time": "2023-10-12T13:27:03.496Z"
   },
   {
    "duration": 30,
    "start_time": "2023-10-12T13:27:03.525Z"
   },
   {
    "duration": 31,
    "start_time": "2023-10-12T13:27:03.556Z"
   },
   {
    "duration": 364,
    "start_time": "2023-10-12T13:27:03.589Z"
   },
   {
    "duration": 132,
    "start_time": "2023-10-12T13:27:03.955Z"
   },
   {
    "duration": 379,
    "start_time": "2023-10-12T13:27:04.089Z"
   },
   {
    "duration": 128,
    "start_time": "2023-10-12T13:27:04.470Z"
   },
   {
    "duration": 300,
    "start_time": "2023-10-12T13:27:04.600Z"
   },
   {
    "duration": 148,
    "start_time": "2023-10-12T13:27:04.903Z"
   },
   {
    "duration": 299,
    "start_time": "2023-10-12T13:27:05.053Z"
   },
   {
    "duration": 129,
    "start_time": "2023-10-12T13:27:05.354Z"
   },
   {
    "duration": 668,
    "start_time": "2023-10-12T13:57:40.476Z"
   },
   {
    "duration": 40,
    "start_time": "2023-10-12T13:57:41.146Z"
   },
   {
    "duration": 11,
    "start_time": "2023-10-12T13:57:41.189Z"
   },
   {
    "duration": 78,
    "start_time": "2023-10-12T13:57:41.201Z"
   },
   {
    "duration": 10,
    "start_time": "2023-10-12T13:57:41.281Z"
   },
   {
    "duration": 43,
    "start_time": "2023-10-12T13:57:41.293Z"
   },
   {
    "duration": 22,
    "start_time": "2023-10-12T13:57:41.338Z"
   },
   {
    "duration": 29,
    "start_time": "2023-10-12T13:57:41.362Z"
   },
   {
    "duration": 43,
    "start_time": "2023-10-12T13:57:41.393Z"
   },
   {
    "duration": 28,
    "start_time": "2023-10-12T13:57:41.438Z"
   },
   {
    "duration": 11,
    "start_time": "2023-10-12T13:57:41.468Z"
   },
   {
    "duration": 47,
    "start_time": "2023-10-12T13:57:41.482Z"
   },
   {
    "duration": 32,
    "start_time": "2023-10-12T13:57:41.530Z"
   },
   {
    "duration": 16,
    "start_time": "2023-10-12T13:57:41.567Z"
   },
   {
    "duration": 25,
    "start_time": "2023-10-12T13:57:41.590Z"
   },
   {
    "duration": 48,
    "start_time": "2023-10-12T13:57:41.617Z"
   },
   {
    "duration": 176,
    "start_time": "2023-10-12T13:57:41.666Z"
   },
   {
    "duration": 170,
    "start_time": "2023-10-12T13:57:41.844Z"
   },
   {
    "duration": 144,
    "start_time": "2023-10-12T13:57:42.015Z"
   },
   {
    "duration": 35,
    "start_time": "2023-10-12T13:57:42.161Z"
   },
   {
    "duration": 23,
    "start_time": "2023-10-12T13:57:42.198Z"
   },
   {
    "duration": 48,
    "start_time": "2023-10-12T13:57:42.223Z"
   },
   {
    "duration": 21,
    "start_time": "2023-10-12T13:57:42.273Z"
   },
   {
    "duration": 325,
    "start_time": "2023-10-12T13:57:42.296Z"
   },
   {
    "duration": 103,
    "start_time": "2023-10-12T13:57:42.622Z"
   },
   {
    "duration": 288,
    "start_time": "2023-10-12T13:57:42.727Z"
   },
   {
    "duration": 113,
    "start_time": "2023-10-12T13:57:43.017Z"
   },
   {
    "duration": 297,
    "start_time": "2023-10-12T13:57:43.132Z"
   },
   {
    "duration": 129,
    "start_time": "2023-10-12T13:57:43.431Z"
   },
   {
    "duration": 266,
    "start_time": "2023-10-12T13:57:43.563Z"
   },
   {
    "duration": 127,
    "start_time": "2023-10-12T13:57:43.831Z"
   },
   {
    "duration": 108,
    "start_time": "2023-10-12T13:57:43.959Z"
   },
   {
    "duration": 0,
    "start_time": "2023-10-12T13:57:44.070Z"
   },
   {
    "duration": 10,
    "start_time": "2023-10-12T13:58:03.507Z"
   },
   {
    "duration": 91,
    "start_time": "2023-10-12T13:59:57.194Z"
   },
   {
    "duration": 14,
    "start_time": "2023-10-12T14:00:08.809Z"
   },
   {
    "duration": 633,
    "start_time": "2023-10-12T14:06:55.357Z"
   },
   {
    "duration": 40,
    "start_time": "2023-10-12T14:06:55.991Z"
   },
   {
    "duration": 11,
    "start_time": "2023-10-12T14:06:56.032Z"
   },
   {
    "duration": 45,
    "start_time": "2023-10-12T14:06:56.044Z"
   },
   {
    "duration": 11,
    "start_time": "2023-10-12T14:06:56.092Z"
   },
   {
    "duration": 31,
    "start_time": "2023-10-12T14:06:56.104Z"
   },
   {
    "duration": 11,
    "start_time": "2023-10-12T14:06:56.136Z"
   },
   {
    "duration": 15,
    "start_time": "2023-10-12T14:06:56.149Z"
   },
   {
    "duration": 26,
    "start_time": "2023-10-12T14:06:56.165Z"
   },
   {
    "duration": 15,
    "start_time": "2023-10-12T14:06:56.192Z"
   },
   {
    "duration": 6,
    "start_time": "2023-10-12T14:06:56.208Z"
   },
   {
    "duration": 31,
    "start_time": "2023-10-12T14:06:56.215Z"
   },
   {
    "duration": 8,
    "start_time": "2023-10-12T14:06:56.247Z"
   },
   {
    "duration": 10,
    "start_time": "2023-10-12T14:06:56.258Z"
   },
   {
    "duration": 22,
    "start_time": "2023-10-12T14:06:56.270Z"
   },
   {
    "duration": 11,
    "start_time": "2023-10-12T14:06:56.294Z"
   },
   {
    "duration": 158,
    "start_time": "2023-10-12T14:06:56.306Z"
   },
   {
    "duration": 138,
    "start_time": "2023-10-12T14:06:56.466Z"
   },
   {
    "duration": 143,
    "start_time": "2023-10-12T14:06:56.605Z"
   },
   {
    "duration": 73,
    "start_time": "2023-10-12T14:06:56.750Z"
   },
   {
    "duration": 0,
    "start_time": "2023-10-12T14:06:56.824Z"
   },
   {
    "duration": 0,
    "start_time": "2023-10-12T14:06:56.825Z"
   },
   {
    "duration": 0,
    "start_time": "2023-10-12T14:06:56.826Z"
   },
   {
    "duration": 0,
    "start_time": "2023-10-12T14:06:56.827Z"
   },
   {
    "duration": 0,
    "start_time": "2023-10-12T14:06:56.844Z"
   },
   {
    "duration": 0,
    "start_time": "2023-10-12T14:06:56.846Z"
   },
   {
    "duration": 0,
    "start_time": "2023-10-12T14:06:56.847Z"
   },
   {
    "duration": 0,
    "start_time": "2023-10-12T14:06:56.848Z"
   },
   {
    "duration": 0,
    "start_time": "2023-10-12T14:06:56.849Z"
   },
   {
    "duration": 0,
    "start_time": "2023-10-12T14:06:56.850Z"
   },
   {
    "duration": 0,
    "start_time": "2023-10-12T14:06:56.851Z"
   },
   {
    "duration": 0,
    "start_time": "2023-10-12T14:06:56.852Z"
   },
   {
    "duration": 0,
    "start_time": "2023-10-12T14:06:56.853Z"
   },
   {
    "duration": 700,
    "start_time": "2023-10-12T14:10:51.815Z"
   },
   {
    "duration": 45,
    "start_time": "2023-10-12T14:10:52.517Z"
   },
   {
    "duration": 11,
    "start_time": "2023-10-12T14:10:52.564Z"
   },
   {
    "duration": 64,
    "start_time": "2023-10-12T14:10:52.577Z"
   },
   {
    "duration": 33,
    "start_time": "2023-10-12T14:10:52.643Z"
   },
   {
    "duration": 30,
    "start_time": "2023-10-12T14:10:52.678Z"
   },
   {
    "duration": 12,
    "start_time": "2023-10-12T14:10:52.709Z"
   },
   {
    "duration": 38,
    "start_time": "2023-10-12T14:10:52.722Z"
   },
   {
    "duration": 28,
    "start_time": "2023-10-12T14:10:52.762Z"
   },
   {
    "duration": 14,
    "start_time": "2023-10-12T14:10:52.793Z"
   },
   {
    "duration": 22,
    "start_time": "2023-10-12T14:10:52.809Z"
   },
   {
    "duration": 16,
    "start_time": "2023-10-12T14:10:52.833Z"
   },
   {
    "duration": 23,
    "start_time": "2023-10-12T14:10:52.851Z"
   },
   {
    "duration": 22,
    "start_time": "2023-10-12T14:10:52.876Z"
   },
   {
    "duration": 11,
    "start_time": "2023-10-12T14:10:52.900Z"
   },
   {
    "duration": 16,
    "start_time": "2023-10-12T14:10:52.912Z"
   },
   {
    "duration": 26,
    "start_time": "2023-10-12T14:10:52.929Z"
   },
   {
    "duration": 167,
    "start_time": "2023-10-12T14:10:52.957Z"
   },
   {
    "duration": 137,
    "start_time": "2023-10-12T14:10:53.125Z"
   },
   {
    "duration": 138,
    "start_time": "2023-10-12T14:10:53.265Z"
   },
   {
    "duration": 23,
    "start_time": "2023-10-12T14:10:53.404Z"
   },
   {
    "duration": 31,
    "start_time": "2023-10-12T14:10:53.429Z"
   },
   {
    "duration": 21,
    "start_time": "2023-10-12T14:10:53.461Z"
   },
   {
    "duration": 17,
    "start_time": "2023-10-12T14:10:53.483Z"
   },
   {
    "duration": 386,
    "start_time": "2023-10-12T14:10:53.502Z"
   },
   {
    "duration": 102,
    "start_time": "2023-10-12T14:10:53.889Z"
   },
   {
    "duration": 336,
    "start_time": "2023-10-12T14:10:53.992Z"
   },
   {
    "duration": 130,
    "start_time": "2023-10-12T14:10:54.332Z"
   },
   {
    "duration": 262,
    "start_time": "2023-10-12T14:10:54.464Z"
   },
   {
    "duration": 110,
    "start_time": "2023-10-12T14:10:54.728Z"
   },
   {
    "duration": 277,
    "start_time": "2023-10-12T14:10:54.843Z"
   },
   {
    "duration": 111,
    "start_time": "2023-10-12T14:10:55.122Z"
   },
   {
    "duration": 143,
    "start_time": "2023-10-12T14:10:55.235Z"
   },
   {
    "duration": 0,
    "start_time": "2023-10-12T14:10:55.379Z"
   },
   {
    "duration": 476,
    "start_time": "2023-10-12T14:21:51.574Z"
   },
   {
    "duration": 94,
    "start_time": "2023-10-12T15:02:39.730Z"
   },
   {
    "duration": 15,
    "start_time": "2023-10-12T15:04:46.946Z"
   },
   {
    "duration": 16,
    "start_time": "2023-10-12T15:08:39.724Z"
   },
   {
    "duration": 665,
    "start_time": "2023-10-12T15:08:47.065Z"
   },
   {
    "duration": 39,
    "start_time": "2023-10-12T15:08:47.732Z"
   },
   {
    "duration": 54,
    "start_time": "2023-10-12T15:08:47.773Z"
   },
   {
    "duration": 79,
    "start_time": "2023-10-12T15:08:47.829Z"
   },
   {
    "duration": 38,
    "start_time": "2023-10-12T15:08:47.911Z"
   },
   {
    "duration": 55,
    "start_time": "2023-10-12T15:08:47.951Z"
   },
   {
    "duration": 61,
    "start_time": "2023-10-12T15:08:48.008Z"
   },
   {
    "duration": 41,
    "start_time": "2023-10-12T15:08:48.071Z"
   },
   {
    "duration": 67,
    "start_time": "2023-10-12T15:08:48.114Z"
   },
   {
    "duration": 62,
    "start_time": "2023-10-12T15:08:48.183Z"
   },
   {
    "duration": 66,
    "start_time": "2023-10-12T15:08:48.247Z"
   },
   {
    "duration": 32,
    "start_time": "2023-10-12T15:08:48.314Z"
   },
   {
    "duration": 46,
    "start_time": "2023-10-12T15:08:48.347Z"
   },
   {
    "duration": 29,
    "start_time": "2023-10-12T15:08:48.396Z"
   },
   {
    "duration": 33,
    "start_time": "2023-10-12T15:08:48.427Z"
   },
   {
    "duration": 99,
    "start_time": "2023-10-12T15:08:48.462Z"
   },
   {
    "duration": 41,
    "start_time": "2023-10-12T15:08:48.562Z"
   },
   {
    "duration": 202,
    "start_time": "2023-10-12T15:08:48.604Z"
   },
   {
    "duration": 143,
    "start_time": "2023-10-12T15:08:48.808Z"
   },
   {
    "duration": 155,
    "start_time": "2023-10-12T15:08:48.953Z"
   },
   {
    "duration": 23,
    "start_time": "2023-10-12T15:08:49.110Z"
   },
   {
    "duration": 48,
    "start_time": "2023-10-12T15:08:49.134Z"
   },
   {
    "duration": 27,
    "start_time": "2023-10-12T15:08:49.184Z"
   },
   {
    "duration": 46,
    "start_time": "2023-10-12T15:08:49.213Z"
   },
   {
    "duration": 352,
    "start_time": "2023-10-12T15:08:49.260Z"
   },
   {
    "duration": 95,
    "start_time": "2023-10-12T15:08:49.614Z"
   },
   {
    "duration": 259,
    "start_time": "2023-10-12T15:08:49.711Z"
   },
   {
    "duration": 108,
    "start_time": "2023-10-12T15:08:49.972Z"
   },
   {
    "duration": 269,
    "start_time": "2023-10-12T15:08:50.082Z"
   },
   {
    "duration": 115,
    "start_time": "2023-10-12T15:08:50.353Z"
   },
   {
    "duration": 256,
    "start_time": "2023-10-12T15:08:50.470Z"
   },
   {
    "duration": 134,
    "start_time": "2023-10-12T15:08:50.728Z"
   },
   {
    "duration": 84,
    "start_time": "2023-10-12T15:08:50.863Z"
   },
   {
    "duration": 0,
    "start_time": "2023-10-12T15:08:50.949Z"
   },
   {
    "duration": 31,
    "start_time": "2023-10-12T15:09:32.048Z"
   },
   {
    "duration": 20,
    "start_time": "2023-10-12T15:10:03.702Z"
   },
   {
    "duration": 628,
    "start_time": "2023-10-12T15:10:15.979Z"
   },
   {
    "duration": 37,
    "start_time": "2023-10-12T15:10:16.609Z"
   },
   {
    "duration": 10,
    "start_time": "2023-10-12T15:10:16.648Z"
   },
   {
    "duration": 74,
    "start_time": "2023-10-12T15:10:16.659Z"
   },
   {
    "duration": 14,
    "start_time": "2023-10-12T15:10:16.735Z"
   },
   {
    "duration": 49,
    "start_time": "2023-10-12T15:10:16.750Z"
   },
   {
    "duration": 13,
    "start_time": "2023-10-12T15:10:16.801Z"
   },
   {
    "duration": 38,
    "start_time": "2023-10-12T15:10:16.815Z"
   },
   {
    "duration": 35,
    "start_time": "2023-10-12T15:10:16.854Z"
   },
   {
    "duration": 16,
    "start_time": "2023-10-12T15:10:16.891Z"
   },
   {
    "duration": 20,
    "start_time": "2023-10-12T15:10:16.908Z"
   },
   {
    "duration": 5,
    "start_time": "2023-10-12T15:10:16.929Z"
   },
   {
    "duration": 12,
    "start_time": "2023-10-12T15:10:16.935Z"
   },
   {
    "duration": 8,
    "start_time": "2023-10-12T15:10:16.950Z"
   },
   {
    "duration": 20,
    "start_time": "2023-10-12T15:10:16.959Z"
   },
   {
    "duration": 45,
    "start_time": "2023-10-12T15:10:16.981Z"
   },
   {
    "duration": 22,
    "start_time": "2023-10-12T15:10:17.027Z"
   },
   {
    "duration": 170,
    "start_time": "2023-10-12T15:10:17.050Z"
   },
   {
    "duration": 141,
    "start_time": "2023-10-12T15:10:17.221Z"
   },
   {
    "duration": 133,
    "start_time": "2023-10-12T15:10:17.364Z"
   },
   {
    "duration": 23,
    "start_time": "2023-10-12T15:10:17.499Z"
   },
   {
    "duration": 35,
    "start_time": "2023-10-12T15:10:17.524Z"
   },
   {
    "duration": 19,
    "start_time": "2023-10-12T15:10:17.561Z"
   },
   {
    "duration": 41,
    "start_time": "2023-10-12T15:10:17.581Z"
   },
   {
    "duration": 289,
    "start_time": "2023-10-12T15:10:17.624Z"
   },
   {
    "duration": 96,
    "start_time": "2023-10-12T15:10:17.915Z"
   },
   {
    "duration": 275,
    "start_time": "2023-10-12T15:10:18.013Z"
   },
   {
    "duration": 109,
    "start_time": "2023-10-12T15:10:18.290Z"
   },
   {
    "duration": 260,
    "start_time": "2023-10-12T15:10:18.400Z"
   },
   {
    "duration": 119,
    "start_time": "2023-10-12T15:10:18.662Z"
   },
   {
    "duration": 267,
    "start_time": "2023-10-12T15:10:18.783Z"
   },
   {
    "duration": 116,
    "start_time": "2023-10-12T15:10:19.052Z"
   },
   {
    "duration": 29,
    "start_time": "2023-10-12T15:10:19.170Z"
   },
   {
    "duration": 91,
    "start_time": "2023-10-12T15:10:19.200Z"
   },
   {
    "duration": 25,
    "start_time": "2023-10-12T15:10:49.733Z"
   },
   {
    "duration": 26,
    "start_time": "2023-10-12T15:11:42.120Z"
   },
   {
    "duration": 30,
    "start_time": "2023-10-12T15:11:50.765Z"
   },
   {
    "duration": 22,
    "start_time": "2023-10-12T15:12:24.598Z"
   },
   {
    "duration": 24,
    "start_time": "2023-10-12T15:14:31.724Z"
   },
   {
    "duration": 18,
    "start_time": "2023-10-12T15:14:37.098Z"
   },
   {
    "duration": 17,
    "start_time": "2023-10-12T15:14:54.643Z"
   },
   {
    "duration": 101,
    "start_time": "2023-10-12T15:16:33.416Z"
   },
   {
    "duration": 897,
    "start_time": "2023-10-12T19:10:41.489Z"
   },
   {
    "duration": 88,
    "start_time": "2023-10-12T19:10:42.389Z"
   },
   {
    "duration": 13,
    "start_time": "2023-10-12T19:10:42.479Z"
   },
   {
    "duration": 99,
    "start_time": "2023-10-12T19:10:42.494Z"
   },
   {
    "duration": 11,
    "start_time": "2023-10-12T19:10:42.595Z"
   },
   {
    "duration": 58,
    "start_time": "2023-10-12T19:10:42.608Z"
   },
   {
    "duration": 17,
    "start_time": "2023-10-12T19:10:42.668Z"
   },
   {
    "duration": 20,
    "start_time": "2023-10-12T19:10:42.687Z"
   },
   {
    "duration": 27,
    "start_time": "2023-10-12T19:10:42.708Z"
   },
   {
    "duration": 31,
    "start_time": "2023-10-12T19:10:42.737Z"
   },
   {
    "duration": 14,
    "start_time": "2023-10-12T19:10:42.770Z"
   },
   {
    "duration": 18,
    "start_time": "2023-10-12T19:10:42.786Z"
   },
   {
    "duration": 16,
    "start_time": "2023-10-12T19:10:42.805Z"
   },
   {
    "duration": 9,
    "start_time": "2023-10-12T19:10:42.825Z"
   },
   {
    "duration": 7,
    "start_time": "2023-10-12T19:10:42.836Z"
   },
   {
    "duration": 13,
    "start_time": "2023-10-12T19:10:42.844Z"
   },
   {
    "duration": 8,
    "start_time": "2023-10-12T19:10:42.858Z"
   },
   {
    "duration": 182,
    "start_time": "2023-10-12T19:10:42.867Z"
   },
   {
    "duration": 151,
    "start_time": "2023-10-12T19:10:43.050Z"
   },
   {
    "duration": 144,
    "start_time": "2023-10-12T19:10:43.203Z"
   },
   {
    "duration": 26,
    "start_time": "2023-10-12T19:10:43.349Z"
   },
   {
    "duration": 38,
    "start_time": "2023-10-12T19:10:43.376Z"
   },
   {
    "duration": 22,
    "start_time": "2023-10-12T19:10:43.415Z"
   },
   {
    "duration": 19,
    "start_time": "2023-10-12T19:10:43.438Z"
   },
   {
    "duration": 351,
    "start_time": "2023-10-12T19:10:43.459Z"
   },
   {
    "duration": 111,
    "start_time": "2023-10-12T19:10:43.811Z"
   },
   {
    "duration": 286,
    "start_time": "2023-10-12T19:10:43.924Z"
   },
   {
    "duration": 142,
    "start_time": "2023-10-12T19:10:44.212Z"
   },
   {
    "duration": 293,
    "start_time": "2023-10-12T19:10:44.356Z"
   },
   {
    "duration": 169,
    "start_time": "2023-10-12T19:10:44.651Z"
   },
   {
    "duration": 297,
    "start_time": "2023-10-12T19:10:44.823Z"
   },
   {
    "duration": 124,
    "start_time": "2023-10-12T19:10:45.121Z"
   },
   {
    "duration": 32,
    "start_time": "2023-10-12T19:10:45.247Z"
   },
   {
    "duration": 79,
    "start_time": "2023-10-12T19:10:45.280Z"
   },
   {
    "duration": 63,
    "start_time": "2023-10-12T19:11:07.979Z"
   },
   {
    "duration": 34,
    "start_time": "2023-10-12T19:12:11.395Z"
   },
   {
    "duration": 19,
    "start_time": "2023-10-12T19:27:17.042Z"
   },
   {
    "duration": 732,
    "start_time": "2023-10-12T19:33:13.714Z"
   },
   {
    "duration": 40,
    "start_time": "2023-10-12T19:33:14.449Z"
   },
   {
    "duration": 12,
    "start_time": "2023-10-12T19:33:14.490Z"
   },
   {
    "duration": 47,
    "start_time": "2023-10-12T19:33:14.505Z"
   },
   {
    "duration": 19,
    "start_time": "2023-10-12T19:33:14.556Z"
   },
   {
    "duration": 23,
    "start_time": "2023-10-12T19:33:14.578Z"
   },
   {
    "duration": 17,
    "start_time": "2023-10-12T19:33:14.604Z"
   },
   {
    "duration": 19,
    "start_time": "2023-10-12T19:33:14.624Z"
   },
   {
    "duration": 57,
    "start_time": "2023-10-12T19:33:14.646Z"
   },
   {
    "duration": 56,
    "start_time": "2023-10-12T19:33:14.706Z"
   },
   {
    "duration": 23,
    "start_time": "2023-10-12T19:33:14.764Z"
   },
   {
    "duration": 12,
    "start_time": "2023-10-12T19:33:14.790Z"
   },
   {
    "duration": 22,
    "start_time": "2023-10-12T19:33:14.804Z"
   },
   {
    "duration": 9,
    "start_time": "2023-10-12T19:33:14.829Z"
   },
   {
    "duration": 10,
    "start_time": "2023-10-12T19:33:14.840Z"
   },
   {
    "duration": 20,
    "start_time": "2023-10-12T19:33:14.851Z"
   },
   {
    "duration": 10,
    "start_time": "2023-10-12T19:33:14.872Z"
   },
   {
    "duration": 179,
    "start_time": "2023-10-12T19:33:14.883Z"
   },
   {
    "duration": 186,
    "start_time": "2023-10-12T19:33:15.065Z"
   },
   {
    "duration": 162,
    "start_time": "2023-10-12T19:33:15.253Z"
   },
   {
    "duration": 28,
    "start_time": "2023-10-12T19:33:15.417Z"
   },
   {
    "duration": 24,
    "start_time": "2023-10-12T19:33:15.447Z"
   },
   {
    "duration": 48,
    "start_time": "2023-10-12T19:33:15.473Z"
   },
   {
    "duration": 38,
    "start_time": "2023-10-12T19:33:15.522Z"
   },
   {
    "duration": 347,
    "start_time": "2023-10-12T19:33:15.562Z"
   },
   {
    "duration": 117,
    "start_time": "2023-10-12T19:33:15.911Z"
   },
   {
    "duration": 299,
    "start_time": "2023-10-12T19:33:16.030Z"
   },
   {
    "duration": 136,
    "start_time": "2023-10-12T19:33:16.331Z"
   },
   {
    "duration": 309,
    "start_time": "2023-10-12T19:33:16.469Z"
   },
   {
    "duration": 137,
    "start_time": "2023-10-12T19:33:16.780Z"
   },
   {
    "duration": 297,
    "start_time": "2023-10-12T19:33:16.920Z"
   },
   {
    "duration": 128,
    "start_time": "2023-10-12T19:33:17.219Z"
   },
   {
    "duration": 25,
    "start_time": "2023-10-12T19:33:17.349Z"
   },
   {
    "duration": 117,
    "start_time": "2023-10-12T19:33:17.375Z"
   },
   {
    "duration": 20,
    "start_time": "2023-10-12T19:33:57.429Z"
   },
   {
    "duration": 19,
    "start_time": "2023-10-12T19:34:11.827Z"
   },
   {
    "duration": 26,
    "start_time": "2023-10-12T20:00:42.932Z"
   },
   {
    "duration": 651,
    "start_time": "2023-10-12T20:00:49.140Z"
   },
   {
    "duration": 39,
    "start_time": "2023-10-12T20:00:49.793Z"
   },
   {
    "duration": 12,
    "start_time": "2023-10-12T20:00:49.834Z"
   },
   {
    "duration": 69,
    "start_time": "2023-10-12T20:00:49.847Z"
   },
   {
    "duration": 12,
    "start_time": "2023-10-12T20:00:49.918Z"
   },
   {
    "duration": 24,
    "start_time": "2023-10-12T20:00:49.932Z"
   },
   {
    "duration": 13,
    "start_time": "2023-10-12T20:00:49.958Z"
   },
   {
    "duration": 34,
    "start_time": "2023-10-12T20:00:49.973Z"
   },
   {
    "duration": 25,
    "start_time": "2023-10-12T20:00:50.009Z"
   },
   {
    "duration": 53,
    "start_time": "2023-10-12T20:00:50.037Z"
   },
   {
    "duration": 24,
    "start_time": "2023-10-12T20:00:50.092Z"
   },
   {
    "duration": 9,
    "start_time": "2023-10-12T20:00:50.118Z"
   },
   {
    "duration": 23,
    "start_time": "2023-10-12T20:00:50.128Z"
   },
   {
    "duration": 23,
    "start_time": "2023-10-12T20:00:50.155Z"
   },
   {
    "duration": 19,
    "start_time": "2023-10-12T20:00:50.180Z"
   },
   {
    "duration": 6,
    "start_time": "2023-10-12T20:00:50.202Z"
   },
   {
    "duration": 10,
    "start_time": "2023-10-12T20:00:50.210Z"
   },
   {
    "duration": 195,
    "start_time": "2023-10-12T20:00:50.221Z"
   },
   {
    "duration": 163,
    "start_time": "2023-10-12T20:00:50.418Z"
   },
   {
    "duration": 160,
    "start_time": "2023-10-12T20:00:50.583Z"
   },
   {
    "duration": 29,
    "start_time": "2023-10-12T20:00:50.744Z"
   },
   {
    "duration": 43,
    "start_time": "2023-10-12T20:00:50.775Z"
   },
   {
    "duration": 23,
    "start_time": "2023-10-12T20:00:50.820Z"
   },
   {
    "duration": 21,
    "start_time": "2023-10-12T20:00:50.845Z"
   },
   {
    "duration": 347,
    "start_time": "2023-10-12T20:00:50.868Z"
   },
   {
    "duration": 113,
    "start_time": "2023-10-12T20:00:51.217Z"
   },
   {
    "duration": 290,
    "start_time": "2023-10-12T20:00:51.332Z"
   },
   {
    "duration": 132,
    "start_time": "2023-10-12T20:00:51.625Z"
   },
   {
    "duration": 304,
    "start_time": "2023-10-12T20:00:51.758Z"
   },
   {
    "duration": 129,
    "start_time": "2023-10-12T20:00:52.064Z"
   },
   {
    "duration": 281,
    "start_time": "2023-10-12T20:00:52.195Z"
   },
   {
    "duration": 130,
    "start_time": "2023-10-12T20:00:52.478Z"
   },
   {
    "duration": 102,
    "start_time": "2023-10-12T20:00:52.611Z"
   },
   {
    "duration": 0,
    "start_time": "2023-10-12T20:00:52.714Z"
   },
   {
    "duration": 49,
    "start_time": "2023-10-12T20:01:09.830Z"
   },
   {
    "duration": 31,
    "start_time": "2023-10-12T20:12:31.085Z"
   },
   {
    "duration": 695,
    "start_time": "2023-10-12T20:12:41.342Z"
   },
   {
    "duration": 40,
    "start_time": "2023-10-12T20:12:42.039Z"
   },
   {
    "duration": 12,
    "start_time": "2023-10-12T20:12:42.081Z"
   },
   {
    "duration": 56,
    "start_time": "2023-10-12T20:12:42.095Z"
   },
   {
    "duration": 12,
    "start_time": "2023-10-12T20:12:42.153Z"
   },
   {
    "duration": 59,
    "start_time": "2023-10-12T20:12:42.166Z"
   },
   {
    "duration": 11,
    "start_time": "2023-10-12T20:12:42.227Z"
   },
   {
    "duration": 23,
    "start_time": "2023-10-12T20:12:42.240Z"
   },
   {
    "duration": 26,
    "start_time": "2023-10-12T20:12:42.265Z"
   },
   {
    "duration": 26,
    "start_time": "2023-10-12T20:12:42.294Z"
   },
   {
    "duration": 16,
    "start_time": "2023-10-12T20:12:42.322Z"
   },
   {
    "duration": 7,
    "start_time": "2023-10-12T20:12:42.339Z"
   },
   {
    "duration": 21,
    "start_time": "2023-10-12T20:12:42.347Z"
   },
   {
    "duration": 22,
    "start_time": "2023-10-12T20:12:42.370Z"
   },
   {
    "duration": 13,
    "start_time": "2023-10-12T20:12:42.394Z"
   },
   {
    "duration": 14,
    "start_time": "2023-10-12T20:12:42.409Z"
   },
   {
    "duration": 12,
    "start_time": "2023-10-12T20:12:42.425Z"
   },
   {
    "duration": 204,
    "start_time": "2023-10-12T20:12:42.439Z"
   },
   {
    "duration": 175,
    "start_time": "2023-10-12T20:12:42.645Z"
   },
   {
    "duration": 158,
    "start_time": "2023-10-12T20:12:42.822Z"
   },
   {
    "duration": 46,
    "start_time": "2023-10-12T20:12:42.982Z"
   },
   {
    "duration": 23,
    "start_time": "2023-10-12T20:12:43.029Z"
   },
   {
    "duration": 44,
    "start_time": "2023-10-12T20:12:43.054Z"
   },
   {
    "duration": 28,
    "start_time": "2023-10-12T20:12:43.101Z"
   },
   {
    "duration": 387,
    "start_time": "2023-10-12T20:12:43.130Z"
   },
   {
    "duration": 129,
    "start_time": "2023-10-12T20:12:43.519Z"
   },
   {
    "duration": 345,
    "start_time": "2023-10-12T20:12:43.650Z"
   },
   {
    "duration": 136,
    "start_time": "2023-10-12T20:12:44.000Z"
   },
   {
    "duration": 347,
    "start_time": "2023-10-12T20:12:44.138Z"
   },
   {
    "duration": 184,
    "start_time": "2023-10-12T20:12:44.488Z"
   },
   {
    "duration": 374,
    "start_time": "2023-10-12T20:12:44.674Z"
   },
   {
    "duration": 129,
    "start_time": "2023-10-12T20:12:45.050Z"
   },
   {
    "duration": 54,
    "start_time": "2023-10-12T20:12:45.180Z"
   },
   {
    "duration": 104,
    "start_time": "2023-10-12T20:12:45.236Z"
   },
   {
    "duration": 706,
    "start_time": "2023-10-12T20:15:31.162Z"
   },
   {
    "duration": 51,
    "start_time": "2023-10-12T20:15:31.870Z"
   },
   {
    "duration": 19,
    "start_time": "2023-10-12T20:15:31.923Z"
   },
   {
    "duration": 118,
    "start_time": "2023-10-12T20:15:31.945Z"
   },
   {
    "duration": 18,
    "start_time": "2023-10-12T20:15:32.066Z"
   },
   {
    "duration": 73,
    "start_time": "2023-10-12T20:15:32.086Z"
   },
   {
    "duration": 54,
    "start_time": "2023-10-12T20:15:32.161Z"
   },
   {
    "duration": 69,
    "start_time": "2023-10-12T20:15:32.218Z"
   },
   {
    "duration": 158,
    "start_time": "2023-10-12T20:15:32.289Z"
   },
   {
    "duration": 77,
    "start_time": "2023-10-12T20:15:32.448Z"
   },
   {
    "duration": 60,
    "start_time": "2023-10-12T20:15:32.527Z"
   },
   {
    "duration": 6,
    "start_time": "2023-10-12T20:15:32.589Z"
   },
   {
    "duration": 59,
    "start_time": "2023-10-12T20:15:32.596Z"
   },
   {
    "duration": 29,
    "start_time": "2023-10-12T20:15:32.659Z"
   },
   {
    "duration": 63,
    "start_time": "2023-10-12T20:15:32.689Z"
   },
   {
    "duration": 54,
    "start_time": "2023-10-12T20:15:32.753Z"
   },
   {
    "duration": 185,
    "start_time": "2023-10-12T20:15:32.809Z"
   },
   {
    "duration": 199,
    "start_time": "2023-10-12T20:15:32.995Z"
   },
   {
    "duration": 201,
    "start_time": "2023-10-12T20:15:33.196Z"
   },
   {
    "duration": 174,
    "start_time": "2023-10-12T20:15:33.402Z"
   },
   {
    "duration": 42,
    "start_time": "2023-10-12T20:15:33.578Z"
   },
   {
    "duration": 45,
    "start_time": "2023-10-12T20:15:33.621Z"
   },
   {
    "duration": 77,
    "start_time": "2023-10-12T20:15:33.668Z"
   },
   {
    "duration": 86,
    "start_time": "2023-10-12T20:15:33.747Z"
   },
   {
    "duration": 414,
    "start_time": "2023-10-12T20:15:33.835Z"
   },
   {
    "duration": 134,
    "start_time": "2023-10-12T20:15:34.251Z"
   },
   {
    "duration": 381,
    "start_time": "2023-10-12T20:15:34.387Z"
   },
   {
    "duration": 169,
    "start_time": "2023-10-12T20:15:34.770Z"
   },
   {
    "duration": 343,
    "start_time": "2023-10-12T20:15:34.941Z"
   },
   {
    "duration": 156,
    "start_time": "2023-10-12T20:15:35.286Z"
   },
   {
    "duration": 311,
    "start_time": "2023-10-12T20:15:35.445Z"
   },
   {
    "duration": 134,
    "start_time": "2023-10-12T20:15:35.758Z"
   },
   {
    "duration": 44,
    "start_time": "2023-10-12T20:15:35.894Z"
   },
   {
    "duration": 75,
    "start_time": "2023-10-12T20:15:35.940Z"
   },
   {
    "duration": 32,
    "start_time": "2023-10-12T20:17:04.963Z"
   },
   {
    "duration": 710,
    "start_time": "2023-10-12T20:17:15.126Z"
   },
   {
    "duration": 40,
    "start_time": "2023-10-12T20:17:15.838Z"
   },
   {
    "duration": 77,
    "start_time": "2023-10-12T20:17:15.881Z"
   },
   {
    "duration": 85,
    "start_time": "2023-10-12T20:17:15.961Z"
   },
   {
    "duration": 13,
    "start_time": "2023-10-12T20:17:16.048Z"
   },
   {
    "duration": 32,
    "start_time": "2023-10-12T20:17:16.063Z"
   },
   {
    "duration": 39,
    "start_time": "2023-10-12T20:17:16.097Z"
   },
   {
    "duration": 52,
    "start_time": "2023-10-12T20:17:16.138Z"
   },
   {
    "duration": 65,
    "start_time": "2023-10-12T20:17:16.192Z"
   },
   {
    "duration": 67,
    "start_time": "2023-10-12T20:17:16.261Z"
   },
   {
    "duration": 23,
    "start_time": "2023-10-12T20:17:16.330Z"
   },
   {
    "duration": 15,
    "start_time": "2023-10-12T20:17:16.355Z"
   },
   {
    "duration": 39,
    "start_time": "2023-10-12T20:17:16.372Z"
   },
   {
    "duration": 24,
    "start_time": "2023-10-12T20:17:16.413Z"
   },
   {
    "duration": 5,
    "start_time": "2023-10-12T20:17:16.438Z"
   },
   {
    "duration": 39,
    "start_time": "2023-10-12T20:17:16.445Z"
   },
   {
    "duration": 30,
    "start_time": "2023-10-12T20:17:16.486Z"
   },
   {
    "duration": 170,
    "start_time": "2023-10-12T20:17:16.518Z"
   },
   {
    "duration": 161,
    "start_time": "2023-10-12T20:17:16.690Z"
   },
   {
    "duration": 162,
    "start_time": "2023-10-12T20:17:16.853Z"
   },
   {
    "duration": 28,
    "start_time": "2023-10-12T20:17:17.017Z"
   },
   {
    "duration": 22,
    "start_time": "2023-10-12T20:17:17.046Z"
   },
   {
    "duration": 46,
    "start_time": "2023-10-12T20:17:17.070Z"
   },
   {
    "duration": 20,
    "start_time": "2023-10-12T20:17:17.118Z"
   },
   {
    "duration": 361,
    "start_time": "2023-10-12T20:17:17.140Z"
   },
   {
    "duration": 111,
    "start_time": "2023-10-12T20:17:17.503Z"
   },
   {
    "duration": 304,
    "start_time": "2023-10-12T20:17:17.616Z"
   },
   {
    "duration": 157,
    "start_time": "2023-10-12T20:17:17.924Z"
   },
   {
    "duration": 298,
    "start_time": "2023-10-12T20:17:18.083Z"
   },
   {
    "duration": 140,
    "start_time": "2023-10-12T20:17:18.383Z"
   },
   {
    "duration": 319,
    "start_time": "2023-10-12T20:17:18.525Z"
   },
   {
    "duration": 125,
    "start_time": "2023-10-12T20:17:18.846Z"
   },
   {
    "duration": 56,
    "start_time": "2023-10-12T20:17:18.972Z"
   },
   {
    "duration": 80,
    "start_time": "2023-10-12T20:17:19.030Z"
   },
   {
    "duration": 39,
    "start_time": "2023-10-12T20:20:13.000Z"
   },
   {
    "duration": 762,
    "start_time": "2023-10-12T20:24:34.389Z"
   },
   {
    "duration": 39,
    "start_time": "2023-10-12T20:24:35.153Z"
   },
   {
    "duration": 14,
    "start_time": "2023-10-12T20:24:35.193Z"
   },
   {
    "duration": 48,
    "start_time": "2023-10-12T20:24:35.209Z"
   },
   {
    "duration": 12,
    "start_time": "2023-10-12T20:24:35.259Z"
   },
   {
    "duration": 48,
    "start_time": "2023-10-12T20:24:35.273Z"
   },
   {
    "duration": 10,
    "start_time": "2023-10-12T20:24:35.323Z"
   },
   {
    "duration": 51,
    "start_time": "2023-10-12T20:24:35.334Z"
   },
   {
    "duration": 60,
    "start_time": "2023-10-12T20:24:35.387Z"
   },
   {
    "duration": 43,
    "start_time": "2023-10-12T20:24:35.449Z"
   },
   {
    "duration": 37,
    "start_time": "2023-10-12T20:24:35.494Z"
   },
   {
    "duration": 19,
    "start_time": "2023-10-12T20:24:35.532Z"
   },
   {
    "duration": 35,
    "start_time": "2023-10-12T20:24:35.553Z"
   },
   {
    "duration": 29,
    "start_time": "2023-10-12T20:24:35.591Z"
   },
   {
    "duration": 17,
    "start_time": "2023-10-12T20:24:35.622Z"
   },
   {
    "duration": 32,
    "start_time": "2023-10-12T20:24:35.641Z"
   },
   {
    "duration": 34,
    "start_time": "2023-10-12T20:24:35.674Z"
   },
   {
    "duration": 180,
    "start_time": "2023-10-12T20:24:35.711Z"
   },
   {
    "duration": 163,
    "start_time": "2023-10-12T20:24:35.893Z"
   },
   {
    "duration": 153,
    "start_time": "2023-10-12T20:24:36.058Z"
   },
   {
    "duration": 26,
    "start_time": "2023-10-12T20:24:36.214Z"
   },
   {
    "duration": 99,
    "start_time": "2023-10-12T20:24:36.241Z"
   },
   {
    "duration": 33,
    "start_time": "2023-10-12T20:24:36.341Z"
   },
   {
    "duration": 54,
    "start_time": "2023-10-12T20:24:36.375Z"
   },
   {
    "duration": 416,
    "start_time": "2023-10-12T20:24:36.431Z"
   },
   {
    "duration": 112,
    "start_time": "2023-10-12T20:24:36.848Z"
   },
   {
    "duration": 304,
    "start_time": "2023-10-12T20:24:36.962Z"
   },
   {
    "duration": 141,
    "start_time": "2023-10-12T20:24:37.267Z"
   },
   {
    "duration": 330,
    "start_time": "2023-10-12T20:24:37.410Z"
   },
   {
    "duration": 132,
    "start_time": "2023-10-12T20:24:37.742Z"
   },
   {
    "duration": 311,
    "start_time": "2023-10-12T20:24:37.876Z"
   },
   {
    "duration": 159,
    "start_time": "2023-10-12T20:24:38.189Z"
   },
   {
    "duration": 27,
    "start_time": "2023-10-12T20:24:38.349Z"
   },
   {
    "duration": 114,
    "start_time": "2023-10-12T20:24:38.378Z"
   },
   {
    "duration": 38,
    "start_time": "2023-10-12T20:25:21.116Z"
   },
   {
    "duration": 672,
    "start_time": "2023-10-12T20:25:40.351Z"
   },
   {
    "duration": 49,
    "start_time": "2023-10-12T20:25:41.025Z"
   },
   {
    "duration": 14,
    "start_time": "2023-10-12T20:25:41.076Z"
   },
   {
    "duration": 58,
    "start_time": "2023-10-12T20:25:41.092Z"
   },
   {
    "duration": 17,
    "start_time": "2023-10-12T20:25:41.152Z"
   },
   {
    "duration": 23,
    "start_time": "2023-10-12T20:25:41.171Z"
   },
   {
    "duration": 13,
    "start_time": "2023-10-12T20:25:41.196Z"
   },
   {
    "duration": 17,
    "start_time": "2023-10-12T20:25:41.211Z"
   },
   {
    "duration": 31,
    "start_time": "2023-10-12T20:25:41.229Z"
   },
   {
    "duration": 25,
    "start_time": "2023-10-12T20:25:41.261Z"
   },
   {
    "duration": 26,
    "start_time": "2023-10-12T20:25:41.287Z"
   },
   {
    "duration": 15,
    "start_time": "2023-10-12T20:25:41.314Z"
   },
   {
    "duration": 28,
    "start_time": "2023-10-12T20:25:41.330Z"
   },
   {
    "duration": 10,
    "start_time": "2023-10-12T20:25:41.362Z"
   },
   {
    "duration": 31,
    "start_time": "2023-10-12T20:25:41.374Z"
   },
   {
    "duration": 21,
    "start_time": "2023-10-12T20:25:41.407Z"
   },
   {
    "duration": 10,
    "start_time": "2023-10-12T20:25:41.431Z"
   },
   {
    "duration": 183,
    "start_time": "2023-10-12T20:25:41.443Z"
   },
   {
    "duration": 158,
    "start_time": "2023-10-12T20:25:41.628Z"
   },
   {
    "duration": 163,
    "start_time": "2023-10-12T20:25:41.788Z"
   },
   {
    "duration": 32,
    "start_time": "2023-10-12T20:25:41.953Z"
   },
   {
    "duration": 36,
    "start_time": "2023-10-12T20:25:41.987Z"
   },
   {
    "duration": 28,
    "start_time": "2023-10-12T20:25:42.025Z"
   },
   {
    "duration": 50,
    "start_time": "2023-10-12T20:25:42.055Z"
   },
   {
    "duration": 345,
    "start_time": "2023-10-12T20:25:42.107Z"
   },
   {
    "duration": 119,
    "start_time": "2023-10-12T20:25:42.454Z"
   },
   {
    "duration": 298,
    "start_time": "2023-10-12T20:25:42.575Z"
   },
   {
    "duration": 128,
    "start_time": "2023-10-12T20:25:42.875Z"
   },
   {
    "duration": 290,
    "start_time": "2023-10-12T20:25:43.005Z"
   },
   {
    "duration": 134,
    "start_time": "2023-10-12T20:25:43.297Z"
   },
   {
    "duration": 287,
    "start_time": "2023-10-12T20:25:43.433Z"
   },
   {
    "duration": 121,
    "start_time": "2023-10-12T20:25:43.721Z"
   },
   {
    "duration": 34,
    "start_time": "2023-10-12T20:25:43.844Z"
   },
   {
    "duration": 87,
    "start_time": "2023-10-12T20:25:43.879Z"
   },
   {
    "duration": 15,
    "start_time": "2023-10-12T20:26:24.014Z"
   },
   {
    "duration": 693,
    "start_time": "2023-10-12T20:26:52.939Z"
   },
   {
    "duration": 40,
    "start_time": "2023-10-12T20:26:53.634Z"
   },
   {
    "duration": 11,
    "start_time": "2023-10-12T20:26:53.677Z"
   },
   {
    "duration": 57,
    "start_time": "2023-10-12T20:26:53.690Z"
   },
   {
    "duration": 13,
    "start_time": "2023-10-12T20:26:53.749Z"
   },
   {
    "duration": 29,
    "start_time": "2023-10-12T20:26:53.764Z"
   },
   {
    "duration": 20,
    "start_time": "2023-10-12T20:26:53.795Z"
   },
   {
    "duration": 28,
    "start_time": "2023-10-12T20:26:53.818Z"
   },
   {
    "duration": 71,
    "start_time": "2023-10-12T20:26:53.848Z"
   },
   {
    "duration": 23,
    "start_time": "2023-10-12T20:26:53.921Z"
   },
   {
    "duration": 14,
    "start_time": "2023-10-12T20:26:53.946Z"
   },
   {
    "duration": 25,
    "start_time": "2023-10-12T20:26:53.961Z"
   },
   {
    "duration": 14,
    "start_time": "2023-10-12T20:26:53.988Z"
   },
   {
    "duration": 13,
    "start_time": "2023-10-12T20:26:54.006Z"
   },
   {
    "duration": 6,
    "start_time": "2023-10-12T20:26:54.021Z"
   },
   {
    "duration": 16,
    "start_time": "2023-10-12T20:26:54.029Z"
   },
   {
    "duration": 8,
    "start_time": "2023-10-12T20:26:54.047Z"
   },
   {
    "duration": 202,
    "start_time": "2023-10-12T20:26:54.056Z"
   },
   {
    "duration": 162,
    "start_time": "2023-10-12T20:26:54.260Z"
   },
   {
    "duration": 182,
    "start_time": "2023-10-12T20:26:54.424Z"
   },
   {
    "duration": 46,
    "start_time": "2023-10-12T20:26:54.608Z"
   },
   {
    "duration": 52,
    "start_time": "2023-10-12T20:26:54.657Z"
   },
   {
    "duration": 23,
    "start_time": "2023-10-12T20:26:54.711Z"
   },
   {
    "duration": 38,
    "start_time": "2023-10-12T20:26:54.736Z"
   },
   {
    "duration": 44,
    "start_time": "2023-10-12T20:26:54.775Z"
   },
   {
    "duration": 358,
    "start_time": "2023-10-12T20:26:54.822Z"
   },
   {
    "duration": 108,
    "start_time": "2023-10-12T20:26:55.182Z"
   },
   {
    "duration": 289,
    "start_time": "2023-10-12T20:26:55.301Z"
   },
   {
    "duration": 124,
    "start_time": "2023-10-12T20:26:55.592Z"
   },
   {
    "duration": 484,
    "start_time": "2023-10-12T20:26:55.718Z"
   },
   {
    "duration": 221,
    "start_time": "2023-10-12T20:26:56.203Z"
   },
   {
    "duration": 578,
    "start_time": "2023-10-12T20:26:56.425Z"
   },
   {
    "duration": 222,
    "start_time": "2023-10-12T20:26:57.005Z"
   },
   {
    "duration": 80,
    "start_time": "2023-10-12T20:26:57.229Z"
   },
   {
    "duration": 92,
    "start_time": "2023-10-12T20:26:57.311Z"
   },
   {
    "duration": 402,
    "start_time": "2023-10-12T20:34:21.629Z"
   },
   {
    "duration": 41,
    "start_time": "2023-10-12T20:34:30.669Z"
   },
   {
    "duration": 15,
    "start_time": "2023-10-12T20:36:33.780Z"
   },
   {
    "duration": 19,
    "start_time": "2023-10-12T20:36:56.332Z"
   },
   {
    "duration": 716,
    "start_time": "2023-10-12T20:37:54.335Z"
   },
   {
    "duration": 41,
    "start_time": "2023-10-12T20:37:55.053Z"
   },
   {
    "duration": 12,
    "start_time": "2023-10-12T20:37:55.096Z"
   },
   {
    "duration": 74,
    "start_time": "2023-10-12T20:37:55.110Z"
   },
   {
    "duration": 13,
    "start_time": "2023-10-12T20:37:55.186Z"
   },
   {
    "duration": 31,
    "start_time": "2023-10-12T20:37:55.200Z"
   },
   {
    "duration": 17,
    "start_time": "2023-10-12T20:37:55.233Z"
   },
   {
    "duration": 32,
    "start_time": "2023-10-12T20:37:55.252Z"
   },
   {
    "duration": 29,
    "start_time": "2023-10-12T20:37:55.286Z"
   },
   {
    "duration": 34,
    "start_time": "2023-10-12T20:37:55.317Z"
   },
   {
    "duration": 60,
    "start_time": "2023-10-12T20:37:55.353Z"
   },
   {
    "duration": 107,
    "start_time": "2023-10-12T20:37:55.415Z"
   },
   {
    "duration": 94,
    "start_time": "2023-10-12T20:37:55.523Z"
   },
   {
    "duration": 60,
    "start_time": "2023-10-12T20:37:55.618Z"
   },
   {
    "duration": 35,
    "start_time": "2023-10-12T20:37:55.680Z"
   },
   {
    "duration": 36,
    "start_time": "2023-10-12T20:37:55.717Z"
   },
   {
    "duration": 19,
    "start_time": "2023-10-12T20:37:55.755Z"
   },
   {
    "duration": 169,
    "start_time": "2023-10-12T20:37:55.775Z"
   },
   {
    "duration": 162,
    "start_time": "2023-10-12T20:37:55.946Z"
   },
   {
    "duration": 161,
    "start_time": "2023-10-12T20:37:56.109Z"
   },
   {
    "duration": 43,
    "start_time": "2023-10-12T20:37:56.272Z"
   },
   {
    "duration": 27,
    "start_time": "2023-10-12T20:37:56.318Z"
   },
   {
    "duration": 27,
    "start_time": "2023-10-12T20:37:56.347Z"
   },
   {
    "duration": 51,
    "start_time": "2023-10-12T20:37:56.375Z"
   },
   {
    "duration": 343,
    "start_time": "2023-10-12T20:37:56.427Z"
   },
   {
    "duration": 112,
    "start_time": "2023-10-12T20:37:56.772Z"
   },
   {
    "duration": 286,
    "start_time": "2023-10-12T20:37:56.885Z"
   },
   {
    "duration": 117,
    "start_time": "2023-10-12T20:37:57.174Z"
   },
   {
    "duration": 283,
    "start_time": "2023-10-12T20:37:57.292Z"
   },
   {
    "duration": 124,
    "start_time": "2023-10-12T20:37:57.577Z"
   },
   {
    "duration": 284,
    "start_time": "2023-10-12T20:37:57.703Z"
   },
   {
    "duration": 130,
    "start_time": "2023-10-12T20:37:57.989Z"
   },
   {
    "duration": 19,
    "start_time": "2023-10-12T20:37:58.121Z"
   },
   {
    "duration": 27,
    "start_time": "2023-10-12T20:37:58.142Z"
   },
   {
    "duration": 124,
    "start_time": "2023-10-12T20:37:58.171Z"
   },
   {
    "duration": 29,
    "start_time": "2023-10-12T20:39:46.657Z"
   },
   {
    "duration": 35,
    "start_time": "2023-10-12T20:40:01.665Z"
   },
   {
    "duration": 36,
    "start_time": "2023-10-12T20:42:05.933Z"
   },
   {
    "duration": 826,
    "start_time": "2023-10-13T08:00:55.163Z"
   },
   {
    "duration": 119,
    "start_time": "2023-10-13T08:00:55.991Z"
   },
   {
    "duration": 523,
    "start_time": "2023-10-13T08:00:56.112Z"
   },
   {
    "duration": 280,
    "start_time": "2023-10-13T08:00:56.637Z"
   },
   {
    "duration": 16,
    "start_time": "2023-10-13T08:00:56.920Z"
   },
   {
    "duration": 116,
    "start_time": "2023-10-13T08:00:56.938Z"
   },
   {
    "duration": 817,
    "start_time": "2023-10-13T08:00:57.057Z"
   },
   {
    "duration": 785,
    "start_time": "2023-10-13T08:00:57.876Z"
   },
   {
    "duration": 1034,
    "start_time": "2023-10-13T08:00:58.663Z"
   },
   {
    "duration": 782,
    "start_time": "2023-10-13T08:00:59.699Z"
   },
   {
    "duration": 910,
    "start_time": "2023-10-13T08:01:00.483Z"
   },
   {
    "duration": 1084,
    "start_time": "2023-10-13T08:01:01.395Z"
   },
   {
    "duration": 611,
    "start_time": "2023-10-13T08:01:02.481Z"
   },
   {
    "duration": 871,
    "start_time": "2023-10-13T08:01:03.096Z"
   },
   {
    "duration": 370,
    "start_time": "2023-10-13T08:01:03.969Z"
   },
   {
    "duration": 58,
    "start_time": "2023-10-13T08:01:04.341Z"
   },
   {
    "duration": 42,
    "start_time": "2023-10-13T08:01:04.401Z"
   },
   {
    "duration": 230,
    "start_time": "2023-10-13T08:01:04.445Z"
   },
   {
    "duration": 159,
    "start_time": "2023-10-13T08:01:04.677Z"
   },
   {
    "duration": 160,
    "start_time": "2023-10-13T08:01:04.838Z"
   },
   {
    "duration": 30,
    "start_time": "2023-10-13T08:01:05.000Z"
   },
   {
    "duration": 58,
    "start_time": "2023-10-13T08:01:05.032Z"
   },
   {
    "duration": 88,
    "start_time": "2023-10-13T08:01:05.093Z"
   },
   {
    "duration": 85,
    "start_time": "2023-10-13T08:01:05.183Z"
   },
   {
    "duration": 391,
    "start_time": "2023-10-13T08:01:05.270Z"
   },
   {
    "duration": 115,
    "start_time": "2023-10-13T08:01:05.663Z"
   },
   {
    "duration": 281,
    "start_time": "2023-10-13T08:01:05.780Z"
   },
   {
    "duration": 120,
    "start_time": "2023-10-13T08:01:06.063Z"
   },
   {
    "duration": 312,
    "start_time": "2023-10-13T08:01:06.185Z"
   },
   {
    "duration": 131,
    "start_time": "2023-10-13T08:01:06.498Z"
   },
   {
    "duration": 295,
    "start_time": "2023-10-13T08:01:06.631Z"
   },
   {
    "duration": 218,
    "start_time": "2023-10-13T08:01:06.928Z"
   },
   {
    "duration": 38,
    "start_time": "2023-10-13T08:01:07.148Z"
   },
   {
    "duration": 100,
    "start_time": "2023-10-13T08:01:07.188Z"
   },
   {
    "duration": 74,
    "start_time": "2023-10-13T08:16:35.107Z"
   },
   {
    "duration": 706,
    "start_time": "2023-10-13T08:16:43.939Z"
   },
   {
    "duration": 47,
    "start_time": "2023-10-13T08:16:44.647Z"
   },
   {
    "duration": 11,
    "start_time": "2023-10-13T08:16:44.695Z"
   },
   {
    "duration": 59,
    "start_time": "2023-10-13T08:16:44.708Z"
   },
   {
    "duration": 11,
    "start_time": "2023-10-13T08:16:44.769Z"
   },
   {
    "duration": 36,
    "start_time": "2023-10-13T08:16:44.782Z"
   },
   {
    "duration": 16,
    "start_time": "2023-10-13T08:16:44.819Z"
   },
   {
    "duration": 37,
    "start_time": "2023-10-13T08:16:44.836Z"
   },
   {
    "duration": 60,
    "start_time": "2023-10-13T08:16:44.875Z"
   },
   {
    "duration": 20,
    "start_time": "2023-10-13T08:16:44.937Z"
   },
   {
    "duration": 145,
    "start_time": "2023-10-13T08:16:44.959Z"
   },
   {
    "duration": 64,
    "start_time": "2023-10-13T08:16:45.106Z"
   },
   {
    "duration": 18,
    "start_time": "2023-10-13T08:16:45.171Z"
   },
   {
    "duration": 29,
    "start_time": "2023-10-13T08:16:45.194Z"
   },
   {
    "duration": 16,
    "start_time": "2023-10-13T08:16:45.225Z"
   },
   {
    "duration": 15,
    "start_time": "2023-10-13T08:16:45.243Z"
   },
   {
    "duration": 34,
    "start_time": "2023-10-13T08:16:45.260Z"
   },
   {
    "duration": 176,
    "start_time": "2023-10-13T08:16:45.296Z"
   },
   {
    "duration": 137,
    "start_time": "2023-10-13T08:16:45.474Z"
   },
   {
    "duration": 144,
    "start_time": "2023-10-13T08:16:45.613Z"
   },
   {
    "duration": 24,
    "start_time": "2023-10-13T08:16:45.758Z"
   },
   {
    "duration": 54,
    "start_time": "2023-10-13T08:16:45.784Z"
   },
   {
    "duration": 42,
    "start_time": "2023-10-13T08:16:45.840Z"
   },
   {
    "duration": 46,
    "start_time": "2023-10-13T08:16:45.884Z"
   },
   {
    "duration": 313,
    "start_time": "2023-10-13T08:16:45.931Z"
   },
   {
    "duration": 114,
    "start_time": "2023-10-13T08:16:46.246Z"
   },
   {
    "duration": 254,
    "start_time": "2023-10-13T08:16:46.362Z"
   },
   {
    "duration": 107,
    "start_time": "2023-10-13T08:16:46.618Z"
   },
   {
    "duration": 271,
    "start_time": "2023-10-13T08:16:46.726Z"
   },
   {
    "duration": 136,
    "start_time": "2023-10-13T08:16:46.999Z"
   },
   {
    "duration": 267,
    "start_time": "2023-10-13T08:16:47.137Z"
   },
   {
    "duration": 109,
    "start_time": "2023-10-13T08:16:47.406Z"
   },
   {
    "duration": 84,
    "start_time": "2023-10-13T08:16:47.517Z"
   },
   {
    "duration": 0,
    "start_time": "2023-10-13T08:16:47.602Z"
   },
   {
    "duration": 0,
    "start_time": "2023-10-13T08:16:47.604Z"
   },
   {
    "duration": 17,
    "start_time": "2023-10-13T08:17:01.494Z"
   },
   {
    "duration": 24,
    "start_time": "2023-10-13T08:17:33.352Z"
   },
   {
    "duration": 32,
    "start_time": "2023-10-13T08:17:43.733Z"
   },
   {
    "duration": 21,
    "start_time": "2023-10-13T08:24:05.258Z"
   },
   {
    "duration": 626,
    "start_time": "2023-10-13T08:29:01.771Z"
   },
   {
    "duration": 47,
    "start_time": "2023-10-13T08:29:02.399Z"
   },
   {
    "duration": 12,
    "start_time": "2023-10-13T08:29:02.448Z"
   },
   {
    "duration": 58,
    "start_time": "2023-10-13T08:29:02.462Z"
   },
   {
    "duration": 12,
    "start_time": "2023-10-13T08:29:02.523Z"
   },
   {
    "duration": 67,
    "start_time": "2023-10-13T08:29:02.537Z"
   },
   {
    "duration": 16,
    "start_time": "2023-10-13T08:29:02.606Z"
   },
   {
    "duration": 33,
    "start_time": "2023-10-13T08:29:02.624Z"
   },
   {
    "duration": 31,
    "start_time": "2023-10-13T08:29:02.659Z"
   },
   {
    "duration": 34,
    "start_time": "2023-10-13T08:29:02.692Z"
   },
   {
    "duration": 32,
    "start_time": "2023-10-13T08:29:02.728Z"
   },
   {
    "duration": 8,
    "start_time": "2023-10-13T08:29:02.762Z"
   },
   {
    "duration": 22,
    "start_time": "2023-10-13T08:29:02.771Z"
   },
   {
    "duration": 21,
    "start_time": "2023-10-13T08:29:02.797Z"
   },
   {
    "duration": 22,
    "start_time": "2023-10-13T08:29:02.820Z"
   },
   {
    "duration": 26,
    "start_time": "2023-10-13T08:29:02.843Z"
   },
   {
    "duration": 16,
    "start_time": "2023-10-13T08:29:02.870Z"
   },
   {
    "duration": 173,
    "start_time": "2023-10-13T08:29:02.888Z"
   },
   {
    "duration": 147,
    "start_time": "2023-10-13T08:29:03.062Z"
   },
   {
    "duration": 142,
    "start_time": "2023-10-13T08:29:03.210Z"
   },
   {
    "duration": 25,
    "start_time": "2023-10-13T08:29:03.354Z"
   },
   {
    "duration": 20,
    "start_time": "2023-10-13T08:29:03.381Z"
   },
   {
    "duration": 44,
    "start_time": "2023-10-13T08:29:03.403Z"
   },
   {
    "duration": 19,
    "start_time": "2023-10-13T08:29:03.449Z"
   },
   {
    "duration": 320,
    "start_time": "2023-10-13T08:29:03.470Z"
   },
   {
    "duration": 101,
    "start_time": "2023-10-13T08:29:03.791Z"
   },
   {
    "duration": 337,
    "start_time": "2023-10-13T08:29:03.894Z"
   },
   {
    "duration": 162,
    "start_time": "2023-10-13T08:29:04.234Z"
   },
   {
    "duration": 263,
    "start_time": "2023-10-13T08:29:04.398Z"
   },
   {
    "duration": 113,
    "start_time": "2023-10-13T08:29:04.663Z"
   },
   {
    "duration": 277,
    "start_time": "2023-10-13T08:29:04.778Z"
   },
   {
    "duration": 113,
    "start_time": "2023-10-13T08:29:05.057Z"
   },
   {
    "duration": 20,
    "start_time": "2023-10-13T08:29:05.172Z"
   },
   {
    "duration": 122,
    "start_time": "2023-10-13T08:29:05.194Z"
   },
   {
    "duration": 108,
    "start_time": "2023-10-13T08:29:05.319Z"
   },
   {
    "duration": 6,
    "start_time": "2023-10-13T08:32:23.734Z"
   },
   {
    "duration": 26,
    "start_time": "2023-10-13T08:33:48.506Z"
   },
   {
    "duration": 29,
    "start_time": "2023-10-13T08:34:22.730Z"
   },
   {
    "duration": 687,
    "start_time": "2023-10-13T08:35:09.544Z"
   },
   {
    "duration": 46,
    "start_time": "2023-10-13T08:35:10.233Z"
   },
   {
    "duration": 11,
    "start_time": "2023-10-13T08:35:10.280Z"
   },
   {
    "duration": 54,
    "start_time": "2023-10-13T08:35:10.292Z"
   },
   {
    "duration": 15,
    "start_time": "2023-10-13T08:35:10.348Z"
   },
   {
    "duration": 45,
    "start_time": "2023-10-13T08:35:10.364Z"
   },
   {
    "duration": 11,
    "start_time": "2023-10-13T08:35:10.411Z"
   },
   {
    "duration": 60,
    "start_time": "2023-10-13T08:35:10.423Z"
   },
   {
    "duration": 39,
    "start_time": "2023-10-13T08:35:10.485Z"
   },
   {
    "duration": 43,
    "start_time": "2023-10-13T08:35:10.526Z"
   },
   {
    "duration": 44,
    "start_time": "2023-10-13T08:35:10.571Z"
   },
   {
    "duration": 15,
    "start_time": "2023-10-13T08:35:10.616Z"
   },
   {
    "duration": 31,
    "start_time": "2023-10-13T08:35:10.633Z"
   },
   {
    "duration": 49,
    "start_time": "2023-10-13T08:35:10.667Z"
   },
   {
    "duration": 40,
    "start_time": "2023-10-13T08:35:10.718Z"
   },
   {
    "duration": 76,
    "start_time": "2023-10-13T08:35:10.760Z"
   },
   {
    "duration": 21,
    "start_time": "2023-10-13T08:35:10.838Z"
   },
   {
    "duration": 156,
    "start_time": "2023-10-13T08:35:10.861Z"
   },
   {
    "duration": 164,
    "start_time": "2023-10-13T08:35:11.019Z"
   },
   {
    "duration": 141,
    "start_time": "2023-10-13T08:35:11.185Z"
   },
   {
    "duration": 32,
    "start_time": "2023-10-13T08:35:11.328Z"
   },
   {
    "duration": 22,
    "start_time": "2023-10-13T08:35:11.361Z"
   },
   {
    "duration": 30,
    "start_time": "2023-10-13T08:35:11.384Z"
   },
   {
    "duration": 55,
    "start_time": "2023-10-13T08:35:11.415Z"
   },
   {
    "duration": 330,
    "start_time": "2023-10-13T08:35:11.471Z"
   },
   {
    "duration": 103,
    "start_time": "2023-10-13T08:35:11.803Z"
   },
   {
    "duration": 277,
    "start_time": "2023-10-13T08:35:11.908Z"
   },
   {
    "duration": 119,
    "start_time": "2023-10-13T08:35:12.187Z"
   },
   {
    "duration": 260,
    "start_time": "2023-10-13T08:35:12.307Z"
   },
   {
    "duration": 115,
    "start_time": "2023-10-13T08:35:12.569Z"
   },
   {
    "duration": 266,
    "start_time": "2023-10-13T08:35:12.686Z"
   },
   {
    "duration": 124,
    "start_time": "2023-10-13T08:35:12.953Z"
   },
   {
    "duration": 20,
    "start_time": "2023-10-13T08:35:13.079Z"
   },
   {
    "duration": 10,
    "start_time": "2023-10-13T08:35:13.101Z"
   },
   {
    "duration": 137,
    "start_time": "2023-10-13T08:35:13.113Z"
   },
   {
    "duration": 350,
    "start_time": "2023-10-13T08:35:13.252Z"
   },
   {
    "duration": 674,
    "start_time": "2023-10-13T08:49:38.827Z"
   },
   {
    "duration": 46,
    "start_time": "2023-10-13T08:49:39.503Z"
   },
   {
    "duration": 11,
    "start_time": "2023-10-13T08:49:39.551Z"
   },
   {
    "duration": 41,
    "start_time": "2023-10-13T08:49:39.564Z"
   },
   {
    "duration": 11,
    "start_time": "2023-10-13T08:49:39.608Z"
   },
   {
    "duration": 23,
    "start_time": "2023-10-13T08:49:39.620Z"
   },
   {
    "duration": 10,
    "start_time": "2023-10-13T08:49:39.645Z"
   },
   {
    "duration": 65,
    "start_time": "2023-10-13T08:49:39.657Z"
   },
   {
    "duration": 58,
    "start_time": "2023-10-13T08:49:39.724Z"
   },
   {
    "duration": 22,
    "start_time": "2023-10-13T08:49:39.784Z"
   },
   {
    "duration": 28,
    "start_time": "2023-10-13T08:49:39.808Z"
   },
   {
    "duration": 15,
    "start_time": "2023-10-13T08:49:39.838Z"
   },
   {
    "duration": 15,
    "start_time": "2023-10-13T08:49:39.854Z"
   },
   {
    "duration": 12,
    "start_time": "2023-10-13T08:49:39.871Z"
   },
   {
    "duration": 20,
    "start_time": "2023-10-13T08:49:39.884Z"
   },
   {
    "duration": 12,
    "start_time": "2023-10-13T08:49:39.906Z"
   },
   {
    "duration": 30,
    "start_time": "2023-10-13T08:49:39.919Z"
   },
   {
    "duration": 174,
    "start_time": "2023-10-13T08:49:39.951Z"
   },
   {
    "duration": 146,
    "start_time": "2023-10-13T08:49:40.127Z"
   },
   {
    "duration": 156,
    "start_time": "2023-10-13T08:49:40.274Z"
   },
   {
    "duration": 33,
    "start_time": "2023-10-13T08:49:40.432Z"
   },
   {
    "duration": 22,
    "start_time": "2023-10-13T08:49:40.466Z"
   },
   {
    "duration": 29,
    "start_time": "2023-10-13T08:49:40.490Z"
   },
   {
    "duration": 39,
    "start_time": "2023-10-13T08:49:40.521Z"
   },
   {
    "duration": 325,
    "start_time": "2023-10-13T08:49:40.562Z"
   },
   {
    "duration": 105,
    "start_time": "2023-10-13T08:49:40.888Z"
   },
   {
    "duration": 293,
    "start_time": "2023-10-13T08:49:40.995Z"
   },
   {
    "duration": 118,
    "start_time": "2023-10-13T08:49:41.290Z"
   },
   {
    "duration": 281,
    "start_time": "2023-10-13T08:49:41.410Z"
   },
   {
    "duration": 119,
    "start_time": "2023-10-13T08:49:41.693Z"
   },
   {
    "duration": 250,
    "start_time": "2023-10-13T08:49:41.813Z"
   },
   {
    "duration": 106,
    "start_time": "2023-10-13T08:49:42.065Z"
   },
   {
    "duration": 19,
    "start_time": "2023-10-13T08:49:42.173Z"
   },
   {
    "duration": 120,
    "start_time": "2023-10-13T08:49:42.194Z"
   },
   {
    "duration": 93,
    "start_time": "2023-10-13T08:49:42.316Z"
   },
   {
    "duration": 30,
    "start_time": "2023-10-13T08:54:23.820Z"
   },
   {
    "duration": 30,
    "start_time": "2023-10-13T09:00:16.037Z"
   },
   {
    "duration": 26,
    "start_time": "2023-10-13T09:00:42.053Z"
   },
   {
    "duration": 78,
    "start_time": "2023-10-13T09:04:22.608Z"
   },
   {
    "duration": 15,
    "start_time": "2023-10-13T09:04:44.602Z"
   },
   {
    "duration": 24,
    "start_time": "2023-10-13T09:07:46.763Z"
   },
   {
    "duration": 630,
    "start_time": "2023-10-13T09:42:29.702Z"
   },
   {
    "duration": 46,
    "start_time": "2023-10-13T09:42:30.334Z"
   },
   {
    "duration": 24,
    "start_time": "2023-10-13T09:42:30.381Z"
   },
   {
    "duration": 66,
    "start_time": "2023-10-13T09:42:30.407Z"
   },
   {
    "duration": 30,
    "start_time": "2023-10-13T09:42:30.475Z"
   },
   {
    "duration": 68,
    "start_time": "2023-10-13T09:42:30.507Z"
   },
   {
    "duration": 55,
    "start_time": "2023-10-13T09:42:30.577Z"
   },
   {
    "duration": 76,
    "start_time": "2023-10-13T09:42:30.634Z"
   },
   {
    "duration": 53,
    "start_time": "2023-10-13T09:42:30.711Z"
   },
   {
    "duration": 44,
    "start_time": "2023-10-13T09:42:30.767Z"
   },
   {
    "duration": 70,
    "start_time": "2023-10-13T09:42:30.813Z"
   },
   {
    "duration": 39,
    "start_time": "2023-10-13T09:42:30.884Z"
   },
   {
    "duration": 42,
    "start_time": "2023-10-13T09:42:30.925Z"
   },
   {
    "duration": 55,
    "start_time": "2023-10-13T09:42:30.969Z"
   },
   {
    "duration": 75,
    "start_time": "2023-10-13T09:42:31.025Z"
   },
   {
    "duration": 196,
    "start_time": "2023-10-13T09:42:31.102Z"
   },
   {
    "duration": 153,
    "start_time": "2023-10-13T09:42:31.300Z"
   },
   {
    "duration": 150,
    "start_time": "2023-10-13T09:42:31.455Z"
   },
   {
    "duration": 23,
    "start_time": "2023-10-13T09:42:31.607Z"
   },
   {
    "duration": 112,
    "start_time": "2023-10-13T09:42:31.632Z"
   },
   {
    "duration": 30,
    "start_time": "2023-10-13T09:42:31.746Z"
   },
   {
    "duration": 26,
    "start_time": "2023-10-13T09:42:31.778Z"
   },
   {
    "duration": 318,
    "start_time": "2023-10-13T09:42:31.806Z"
   },
   {
    "duration": 92,
    "start_time": "2023-10-13T09:42:32.125Z"
   },
   {
    "duration": 267,
    "start_time": "2023-10-13T09:42:32.219Z"
   },
   {
    "duration": 275,
    "start_time": "2023-10-13T09:42:32.487Z"
   },
   {
    "duration": 369,
    "start_time": "2023-10-13T09:42:32.763Z"
   },
   {
    "duration": 111,
    "start_time": "2023-10-13T09:42:33.135Z"
   },
   {
    "duration": 238,
    "start_time": "2023-10-13T09:42:33.247Z"
   },
   {
    "duration": 114,
    "start_time": "2023-10-13T09:42:33.486Z"
   },
   {
    "duration": 83,
    "start_time": "2023-10-13T09:42:33.601Z"
   },
   {
    "duration": 0,
    "start_time": "2023-10-13T09:42:33.685Z"
   },
   {
    "duration": 28,
    "start_time": "2023-10-13T09:43:03.617Z"
   },
   {
    "duration": 716,
    "start_time": "2023-10-13T09:51:46.133Z"
   },
   {
    "duration": 46,
    "start_time": "2023-10-13T09:51:46.851Z"
   },
   {
    "duration": 11,
    "start_time": "2023-10-13T09:51:46.899Z"
   },
   {
    "duration": 50,
    "start_time": "2023-10-13T09:51:46.913Z"
   },
   {
    "duration": 11,
    "start_time": "2023-10-13T09:51:46.965Z"
   },
   {
    "duration": 29,
    "start_time": "2023-10-13T09:51:46.977Z"
   },
   {
    "duration": 10,
    "start_time": "2023-10-13T09:51:47.008Z"
   },
   {
    "duration": 23,
    "start_time": "2023-10-13T09:51:47.020Z"
   },
   {
    "duration": 14,
    "start_time": "2023-10-13T09:51:47.045Z"
   },
   {
    "duration": 5,
    "start_time": "2023-10-13T09:51:47.060Z"
   },
   {
    "duration": 23,
    "start_time": "2023-10-13T09:51:47.067Z"
   },
   {
    "duration": 8,
    "start_time": "2023-10-13T09:51:47.092Z"
   },
   {
    "duration": 6,
    "start_time": "2023-10-13T09:51:47.102Z"
   },
   {
    "duration": 18,
    "start_time": "2023-10-13T09:51:47.110Z"
   },
   {
    "duration": 28,
    "start_time": "2023-10-13T09:51:47.130Z"
   },
   {
    "duration": 173,
    "start_time": "2023-10-13T09:51:47.159Z"
   },
   {
    "duration": 141,
    "start_time": "2023-10-13T09:51:47.334Z"
   },
   {
    "duration": 134,
    "start_time": "2023-10-13T09:51:47.477Z"
   },
   {
    "duration": 31,
    "start_time": "2023-10-13T09:51:47.613Z"
   },
   {
    "duration": 21,
    "start_time": "2023-10-13T09:51:47.645Z"
   },
   {
    "duration": 20,
    "start_time": "2023-10-13T09:51:47.668Z"
   },
   {
    "duration": 18,
    "start_time": "2023-10-13T09:51:47.690Z"
   },
   {
    "duration": 324,
    "start_time": "2023-10-13T09:51:47.709Z"
   },
   {
    "duration": 95,
    "start_time": "2023-10-13T09:51:48.034Z"
   },
   {
    "duration": 274,
    "start_time": "2023-10-13T09:51:48.130Z"
   },
   {
    "duration": 113,
    "start_time": "2023-10-13T09:51:48.406Z"
   },
   {
    "duration": 266,
    "start_time": "2023-10-13T09:51:48.520Z"
   },
   {
    "duration": 122,
    "start_time": "2023-10-13T09:51:48.788Z"
   },
   {
    "duration": 267,
    "start_time": "2023-10-13T09:51:48.912Z"
   },
   {
    "duration": 118,
    "start_time": "2023-10-13T09:51:49.180Z"
   },
   {
    "duration": 28,
    "start_time": "2023-10-13T09:51:49.300Z"
   },
   {
    "duration": 75,
    "start_time": "2023-10-13T09:51:49.343Z"
   },
   {
    "duration": 652,
    "start_time": "2023-10-13T09:54:35.238Z"
   },
   {
    "duration": 47,
    "start_time": "2023-10-13T09:54:35.892Z"
   },
   {
    "duration": 10,
    "start_time": "2023-10-13T09:54:35.940Z"
   },
   {
    "duration": 76,
    "start_time": "2023-10-13T09:54:35.952Z"
   },
   {
    "duration": 10,
    "start_time": "2023-10-13T09:54:36.030Z"
   },
   {
    "duration": 54,
    "start_time": "2023-10-13T09:54:36.041Z"
   },
   {
    "duration": 11,
    "start_time": "2023-10-13T09:54:36.097Z"
   },
   {
    "duration": 28,
    "start_time": "2023-10-13T09:54:36.110Z"
   },
   {
    "duration": 102,
    "start_time": "2023-10-13T09:54:36.140Z"
   },
   {
    "duration": 41,
    "start_time": "2023-10-13T09:54:36.243Z"
   },
   {
    "duration": 21,
    "start_time": "2023-10-13T09:54:36.286Z"
   },
   {
    "duration": 64,
    "start_time": "2023-10-13T09:54:36.309Z"
   },
   {
    "duration": 35,
    "start_time": "2023-10-13T09:54:36.375Z"
   },
   {
    "duration": 16,
    "start_time": "2023-10-13T09:54:36.413Z"
   },
   {
    "duration": 18,
    "start_time": "2023-10-13T09:54:36.431Z"
   },
   {
    "duration": 179,
    "start_time": "2023-10-13T09:54:36.451Z"
   },
   {
    "duration": 142,
    "start_time": "2023-10-13T09:54:36.631Z"
   },
   {
    "duration": 135,
    "start_time": "2023-10-13T09:54:36.775Z"
   },
   {
    "duration": 32,
    "start_time": "2023-10-13T09:54:36.912Z"
   },
   {
    "duration": 23,
    "start_time": "2023-10-13T09:54:36.946Z"
   },
   {
    "duration": 20,
    "start_time": "2023-10-13T09:54:36.971Z"
   },
   {
    "duration": 17,
    "start_time": "2023-10-13T09:54:36.993Z"
   },
   {
    "duration": 327,
    "start_time": "2023-10-13T09:54:37.012Z"
   },
   {
    "duration": 88,
    "start_time": "2023-10-13T09:54:37.340Z"
   },
   {
    "duration": 262,
    "start_time": "2023-10-13T09:54:37.445Z"
   },
   {
    "duration": 105,
    "start_time": "2023-10-13T09:54:37.708Z"
   },
   {
    "duration": 262,
    "start_time": "2023-10-13T09:54:37.814Z"
   },
   {
    "duration": 121,
    "start_time": "2023-10-13T09:54:38.077Z"
   },
   {
    "duration": 278,
    "start_time": "2023-10-13T09:54:38.200Z"
   },
   {
    "duration": 122,
    "start_time": "2023-10-13T09:54:38.480Z"
   },
   {
    "duration": 101,
    "start_time": "2023-10-13T09:54:38.604Z"
   },
   {
    "duration": 0,
    "start_time": "2023-10-13T09:54:38.706Z"
   },
   {
    "duration": 27,
    "start_time": "2023-10-13T09:54:52.115Z"
   },
   {
    "duration": 981,
    "start_time": "2023-10-13T11:47:30.026Z"
   },
   {
    "duration": 118,
    "start_time": "2023-10-13T11:47:31.010Z"
   },
   {
    "duration": 13,
    "start_time": "2023-10-13T11:47:31.130Z"
   },
   {
    "duration": 220,
    "start_time": "2023-10-13T11:47:31.145Z"
   },
   {
    "duration": 12,
    "start_time": "2023-10-13T11:47:31.367Z"
   },
   {
    "duration": 118,
    "start_time": "2023-10-13T11:47:31.381Z"
   },
   {
    "duration": 11,
    "start_time": "2023-10-13T11:47:31.501Z"
   },
   {
    "duration": 74,
    "start_time": "2023-10-13T11:47:31.514Z"
   },
   {
    "duration": 48,
    "start_time": "2023-10-13T11:47:31.589Z"
   },
   {
    "duration": 46,
    "start_time": "2023-10-13T11:47:31.640Z"
   },
   {
    "duration": 92,
    "start_time": "2023-10-13T11:47:31.688Z"
   },
   {
    "duration": 51,
    "start_time": "2023-10-13T11:47:31.782Z"
   },
   {
    "duration": 44,
    "start_time": "2023-10-13T11:47:31.835Z"
   },
   {
    "duration": 34,
    "start_time": "2023-10-13T11:47:31.881Z"
   },
   {
    "duration": 54,
    "start_time": "2023-10-13T11:47:31.917Z"
   },
   {
    "duration": 209,
    "start_time": "2023-10-13T11:47:31.973Z"
   },
   {
    "duration": 161,
    "start_time": "2023-10-13T11:47:32.184Z"
   },
   {
    "duration": 170,
    "start_time": "2023-10-13T11:47:32.347Z"
   },
   {
    "duration": 40,
    "start_time": "2023-10-13T11:47:32.519Z"
   },
   {
    "duration": 27,
    "start_time": "2023-10-13T11:47:32.560Z"
   },
   {
    "duration": 28,
    "start_time": "2023-10-13T11:47:32.589Z"
   },
   {
    "duration": 42,
    "start_time": "2023-10-13T11:47:32.618Z"
   },
   {
    "duration": 369,
    "start_time": "2023-10-13T11:47:32.662Z"
   },
   {
    "duration": 125,
    "start_time": "2023-10-13T11:47:33.033Z"
   },
   {
    "duration": 293,
    "start_time": "2023-10-13T11:47:33.160Z"
   },
   {
    "duration": 131,
    "start_time": "2023-10-13T11:47:33.455Z"
   },
   {
    "duration": 302,
    "start_time": "2023-10-13T11:47:33.588Z"
   },
   {
    "duration": 151,
    "start_time": "2023-10-13T11:47:33.894Z"
   },
   {
    "duration": 295,
    "start_time": "2023-10-13T11:47:34.047Z"
   },
   {
    "duration": 128,
    "start_time": "2023-10-13T11:47:34.344Z"
   },
   {
    "duration": 34,
    "start_time": "2023-10-13T11:47:34.474Z"
   },
   {
    "duration": 3,
    "start_time": "2023-10-13T11:47:34.510Z"
   },
   {
    "duration": 116,
    "start_time": "2023-10-13T11:57:33.092Z"
   },
   {
    "duration": 2,
    "start_time": "2023-10-13T11:58:34.848Z"
   },
   {
    "duration": 2196,
    "start_time": "2023-10-13T12:12:35.763Z"
   },
   {
    "duration": 31,
    "start_time": "2023-10-13T12:13:16.038Z"
   },
   {
    "duration": 60,
    "start_time": "2023-10-13T12:13:57.095Z"
   },
   {
    "duration": 740,
    "start_time": "2023-10-13T12:15:02.753Z"
   },
   {
    "duration": 42,
    "start_time": "2023-10-13T12:15:03.496Z"
   },
   {
    "duration": 142,
    "start_time": "2023-10-13T12:15:03.540Z"
   },
   {
    "duration": 225,
    "start_time": "2023-10-13T12:15:03.684Z"
   },
   {
    "duration": 26,
    "start_time": "2023-10-13T12:15:03.911Z"
   },
   {
    "duration": 40,
    "start_time": "2023-10-13T12:15:03.939Z"
   },
   {
    "duration": 23,
    "start_time": "2023-10-13T12:15:03.981Z"
   },
   {
    "duration": 39,
    "start_time": "2023-10-13T12:15:04.006Z"
   },
   {
    "duration": 35,
    "start_time": "2023-10-13T12:15:04.047Z"
   },
   {
    "duration": 6,
    "start_time": "2023-10-13T12:15:04.083Z"
   },
   {
    "duration": 22,
    "start_time": "2023-10-13T12:15:04.091Z"
   },
   {
    "duration": 27,
    "start_time": "2023-10-13T12:15:04.114Z"
   },
   {
    "duration": 20,
    "start_time": "2023-10-13T12:15:04.143Z"
   },
   {
    "duration": 6,
    "start_time": "2023-10-13T12:15:04.166Z"
   },
   {
    "duration": 11,
    "start_time": "2023-10-13T12:15:04.174Z"
   },
   {
    "duration": 179,
    "start_time": "2023-10-13T12:15:04.187Z"
   },
   {
    "duration": 159,
    "start_time": "2023-10-13T12:15:04.368Z"
   },
   {
    "duration": 169,
    "start_time": "2023-10-13T12:15:04.529Z"
   },
   {
    "duration": 28,
    "start_time": "2023-10-13T12:15:04.700Z"
   },
   {
    "duration": 40,
    "start_time": "2023-10-13T12:15:04.730Z"
   },
   {
    "duration": 25,
    "start_time": "2023-10-13T12:15:04.772Z"
   },
   {
    "duration": 27,
    "start_time": "2023-10-13T12:15:04.799Z"
   },
   {
    "duration": 376,
    "start_time": "2023-10-13T12:15:04.828Z"
   },
   {
    "duration": 118,
    "start_time": "2023-10-13T12:15:05.206Z"
   },
   {
    "duration": 299,
    "start_time": "2023-10-13T12:15:05.326Z"
   },
   {
    "duration": 133,
    "start_time": "2023-10-13T12:15:05.627Z"
   },
   {
    "duration": 308,
    "start_time": "2023-10-13T12:15:05.763Z"
   },
   {
    "duration": 139,
    "start_time": "2023-10-13T12:15:06.073Z"
   },
   {
    "duration": 430,
    "start_time": "2023-10-13T12:15:06.214Z"
   },
   {
    "duration": 129,
    "start_time": "2023-10-13T12:15:06.646Z"
   },
   {
    "duration": 34,
    "start_time": "2023-10-13T12:15:06.777Z"
   },
   {
    "duration": 78,
    "start_time": "2023-10-13T12:15:06.813Z"
   },
   {
    "duration": 57,
    "start_time": "2023-10-13T12:15:41.809Z"
   },
   {
    "duration": 11,
    "start_time": "2023-10-13T12:22:51.560Z"
   },
   {
    "duration": 22,
    "start_time": "2023-10-13T12:27:26.530Z"
   },
   {
    "duration": 36,
    "start_time": "2023-10-13T12:27:35.937Z"
   },
   {
    "duration": 757,
    "start_time": "2023-10-13T12:28:11.326Z"
   },
   {
    "duration": 42,
    "start_time": "2023-10-13T12:28:12.086Z"
   },
   {
    "duration": 13,
    "start_time": "2023-10-13T12:28:12.130Z"
   },
   {
    "duration": 61,
    "start_time": "2023-10-13T12:28:12.144Z"
   },
   {
    "duration": 12,
    "start_time": "2023-10-13T12:28:12.207Z"
   },
   {
    "duration": 36,
    "start_time": "2023-10-13T12:28:12.221Z"
   },
   {
    "duration": 17,
    "start_time": "2023-10-13T12:28:12.258Z"
   },
   {
    "duration": 27,
    "start_time": "2023-10-13T12:28:12.277Z"
   },
   {
    "duration": 17,
    "start_time": "2023-10-13T12:28:12.306Z"
   },
   {
    "duration": 15,
    "start_time": "2023-10-13T12:28:12.325Z"
   },
   {
    "duration": 18,
    "start_time": "2023-10-13T12:28:12.342Z"
   },
   {
    "duration": 31,
    "start_time": "2023-10-13T12:28:12.362Z"
   },
   {
    "duration": 14,
    "start_time": "2023-10-13T12:28:12.395Z"
   },
   {
    "duration": 13,
    "start_time": "2023-10-13T12:28:12.412Z"
   },
   {
    "duration": 11,
    "start_time": "2023-10-13T12:28:12.427Z"
   },
   {
    "duration": 175,
    "start_time": "2023-10-13T12:28:12.439Z"
   },
   {
    "duration": 167,
    "start_time": "2023-10-13T12:28:12.616Z"
   },
   {
    "duration": 158,
    "start_time": "2023-10-13T12:28:12.785Z"
   },
   {
    "duration": 38,
    "start_time": "2023-10-13T12:28:12.945Z"
   },
   {
    "duration": 26,
    "start_time": "2023-10-13T12:28:12.985Z"
   },
   {
    "duration": 47,
    "start_time": "2023-10-13T12:28:13.013Z"
   },
   {
    "duration": 22,
    "start_time": "2023-10-13T12:28:13.061Z"
   },
   {
    "duration": 363,
    "start_time": "2023-10-13T12:28:13.085Z"
   },
   {
    "duration": 123,
    "start_time": "2023-10-13T12:28:13.450Z"
   },
   {
    "duration": 307,
    "start_time": "2023-10-13T12:28:13.574Z"
   },
   {
    "duration": 135,
    "start_time": "2023-10-13T12:28:13.883Z"
   },
   {
    "duration": 293,
    "start_time": "2023-10-13T12:28:14.020Z"
   },
   {
    "duration": 133,
    "start_time": "2023-10-13T12:28:14.315Z"
   },
   {
    "duration": 292,
    "start_time": "2023-10-13T12:28:14.457Z"
   },
   {
    "duration": 134,
    "start_time": "2023-10-13T12:28:14.751Z"
   },
   {
    "duration": 139,
    "start_time": "2023-10-13T12:28:14.887Z"
   },
   {
    "duration": 44,
    "start_time": "2023-10-13T12:28:15.029Z"
   },
   {
    "duration": 16,
    "start_time": "2023-10-13T12:28:15.075Z"
   },
   {
    "duration": 65,
    "start_time": "2023-10-13T12:31:32.361Z"
   },
   {
    "duration": 35,
    "start_time": "2023-10-13T12:31:49.977Z"
   },
   {
    "duration": 6,
    "start_time": "2023-10-13T12:33:23.113Z"
   },
   {
    "duration": 695,
    "start_time": "2023-10-13T12:33:29.494Z"
   },
   {
    "duration": 42,
    "start_time": "2023-10-13T12:33:30.191Z"
   },
   {
    "duration": 78,
    "start_time": "2023-10-13T12:33:30.235Z"
   },
   {
    "duration": 114,
    "start_time": "2023-10-13T12:33:30.315Z"
   },
   {
    "duration": 56,
    "start_time": "2023-10-13T12:33:30.431Z"
   },
   {
    "duration": 118,
    "start_time": "2023-10-13T12:33:30.489Z"
   },
   {
    "duration": 33,
    "start_time": "2023-10-13T12:33:30.609Z"
   },
   {
    "duration": 60,
    "start_time": "2023-10-13T12:33:30.644Z"
   },
   {
    "duration": 47,
    "start_time": "2023-10-13T12:33:30.706Z"
   },
   {
    "duration": 44,
    "start_time": "2023-10-13T12:33:30.755Z"
   },
   {
    "duration": 115,
    "start_time": "2023-10-13T12:33:30.801Z"
   },
   {
    "duration": 82,
    "start_time": "2023-10-13T12:33:30.918Z"
   },
   {
    "duration": 76,
    "start_time": "2023-10-13T12:33:31.001Z"
   },
   {
    "duration": 77,
    "start_time": "2023-10-13T12:33:31.080Z"
   },
   {
    "duration": 102,
    "start_time": "2023-10-13T12:33:31.159Z"
   },
   {
    "duration": 421,
    "start_time": "2023-10-13T12:33:31.263Z"
   },
   {
    "duration": 314,
    "start_time": "2023-10-13T12:33:31.685Z"
   },
   {
    "duration": 254,
    "start_time": "2023-10-13T12:33:32.057Z"
   },
   {
    "duration": 58,
    "start_time": "2023-10-13T12:33:32.313Z"
   },
   {
    "duration": 29,
    "start_time": "2023-10-13T12:33:32.373Z"
   },
   {
    "duration": 53,
    "start_time": "2023-10-13T12:33:32.405Z"
   },
   {
    "duration": 129,
    "start_time": "2023-10-13T12:33:32.460Z"
   },
   {
    "duration": 381,
    "start_time": "2023-10-13T12:33:32.591Z"
   },
   {
    "duration": 127,
    "start_time": "2023-10-13T12:33:32.975Z"
   },
   {
    "duration": 366,
    "start_time": "2023-10-13T12:33:33.104Z"
   },
   {
    "duration": 143,
    "start_time": "2023-10-13T12:33:33.473Z"
   },
   {
    "duration": 305,
    "start_time": "2023-10-13T12:33:33.618Z"
   },
   {
    "duration": 143,
    "start_time": "2023-10-13T12:33:33.926Z"
   },
   {
    "duration": 300,
    "start_time": "2023-10-13T12:33:34.071Z"
   },
   {
    "duration": 136,
    "start_time": "2023-10-13T12:33:34.373Z"
   },
   {
    "duration": 143,
    "start_time": "2023-10-13T12:33:34.510Z"
   },
   {
    "duration": 4,
    "start_time": "2023-10-13T12:33:34.656Z"
   },
   {
    "duration": 48,
    "start_time": "2023-10-13T12:33:34.661Z"
   },
   {
    "duration": 12,
    "start_time": "2023-10-13T12:33:43.011Z"
   },
   {
    "duration": 14,
    "start_time": "2023-10-13T12:34:26.744Z"
   },
   {
    "duration": 13,
    "start_time": "2023-10-13T12:37:04.593Z"
   },
   {
    "duration": 751,
    "start_time": "2023-10-13T12:37:11.235Z"
   },
   {
    "duration": 42,
    "start_time": "2023-10-13T12:37:11.989Z"
   },
   {
    "duration": 13,
    "start_time": "2023-10-13T12:37:12.033Z"
   },
   {
    "duration": 60,
    "start_time": "2023-10-13T12:37:12.048Z"
   },
   {
    "duration": 12,
    "start_time": "2023-10-13T12:37:12.111Z"
   },
   {
    "duration": 33,
    "start_time": "2023-10-13T12:37:12.125Z"
   },
   {
    "duration": 11,
    "start_time": "2023-10-13T12:37:12.160Z"
   },
   {
    "duration": 34,
    "start_time": "2023-10-13T12:37:12.173Z"
   },
   {
    "duration": 23,
    "start_time": "2023-10-13T12:37:12.209Z"
   },
   {
    "duration": 16,
    "start_time": "2023-10-13T12:37:12.234Z"
   },
   {
    "duration": 22,
    "start_time": "2023-10-13T12:37:12.252Z"
   },
   {
    "duration": 58,
    "start_time": "2023-10-13T12:37:12.276Z"
   },
   {
    "duration": 63,
    "start_time": "2023-10-13T12:37:12.336Z"
   },
   {
    "duration": 19,
    "start_time": "2023-10-13T12:37:12.403Z"
   },
   {
    "duration": 16,
    "start_time": "2023-10-13T12:37:12.424Z"
   },
   {
    "duration": 220,
    "start_time": "2023-10-13T12:37:12.442Z"
   },
   {
    "duration": 172,
    "start_time": "2023-10-13T12:37:12.664Z"
   },
   {
    "duration": 159,
    "start_time": "2023-10-13T12:37:12.838Z"
   },
   {
    "duration": 28,
    "start_time": "2023-10-13T12:37:12.999Z"
   },
   {
    "duration": 51,
    "start_time": "2023-10-13T12:37:13.029Z"
   },
   {
    "duration": 87,
    "start_time": "2023-10-13T12:37:13.082Z"
   },
   {
    "duration": 27,
    "start_time": "2023-10-13T12:37:13.171Z"
   },
   {
    "duration": 762,
    "start_time": "2023-10-13T12:37:13.199Z"
   },
   {
    "duration": 213,
    "start_time": "2023-10-13T12:37:13.962Z"
   },
   {
    "duration": 611,
    "start_time": "2023-10-13T12:37:14.177Z"
   },
   {
    "duration": 290,
    "start_time": "2023-10-13T12:37:14.790Z"
   },
   {
    "duration": 308,
    "start_time": "2023-10-13T12:37:15.082Z"
   },
   {
    "duration": 132,
    "start_time": "2023-10-13T12:37:15.391Z"
   },
   {
    "duration": 301,
    "start_time": "2023-10-13T12:37:15.525Z"
   },
   {
    "duration": 134,
    "start_time": "2023-10-13T12:37:15.828Z"
   },
   {
    "duration": 135,
    "start_time": "2023-10-13T12:37:15.964Z"
   },
   {
    "duration": 14,
    "start_time": "2023-10-13T12:37:16.101Z"
   },
   {
    "duration": 12,
    "start_time": "2023-10-13T12:37:16.116Z"
   },
   {
    "duration": 11,
    "start_time": "2023-10-13T12:37:57.672Z"
   },
   {
    "duration": 12,
    "start_time": "2023-10-13T12:38:18.321Z"
   },
   {
    "duration": 14,
    "start_time": "2023-10-13T12:38:33.247Z"
   },
   {
    "duration": 12,
    "start_time": "2023-10-13T12:38:53.231Z"
   },
   {
    "duration": 16,
    "start_time": "2023-10-13T12:38:58.803Z"
   },
   {
    "duration": 12,
    "start_time": "2023-10-13T12:39:04.252Z"
   },
   {
    "duration": 12,
    "start_time": "2023-10-13T12:39:10.206Z"
   },
   {
    "duration": 12,
    "start_time": "2023-10-13T12:39:15.930Z"
   },
   {
    "duration": 12,
    "start_time": "2023-10-13T12:39:21.307Z"
   },
   {
    "duration": 12,
    "start_time": "2023-10-13T12:39:29.621Z"
   },
   {
    "duration": 13,
    "start_time": "2023-10-13T12:39:33.986Z"
   },
   {
    "duration": 12,
    "start_time": "2023-10-13T12:39:39.249Z"
   },
   {
    "duration": 13,
    "start_time": "2023-10-13T12:39:45.258Z"
   },
   {
    "duration": 14,
    "start_time": "2023-10-13T12:40:11.614Z"
   },
   {
    "duration": 760,
    "start_time": "2023-10-13T12:43:28.151Z"
   },
   {
    "duration": 43,
    "start_time": "2023-10-13T12:43:28.913Z"
   },
   {
    "duration": 12,
    "start_time": "2023-10-13T12:43:28.958Z"
   },
   {
    "duration": 48,
    "start_time": "2023-10-13T12:43:28.972Z"
   },
   {
    "duration": 13,
    "start_time": "2023-10-13T12:43:29.023Z"
   },
   {
    "duration": 28,
    "start_time": "2023-10-13T12:43:29.038Z"
   },
   {
    "duration": 13,
    "start_time": "2023-10-13T12:43:29.068Z"
   },
   {
    "duration": 18,
    "start_time": "2023-10-13T12:43:29.083Z"
   },
   {
    "duration": 28,
    "start_time": "2023-10-13T12:43:29.103Z"
   },
   {
    "duration": 24,
    "start_time": "2023-10-13T12:43:29.133Z"
   },
   {
    "duration": 14,
    "start_time": "2023-10-13T12:43:29.160Z"
   },
   {
    "duration": 18,
    "start_time": "2023-10-13T12:43:29.176Z"
   },
   {
    "duration": 48,
    "start_time": "2023-10-13T12:43:29.196Z"
   },
   {
    "duration": 25,
    "start_time": "2023-10-13T12:43:29.247Z"
   },
   {
    "duration": 34,
    "start_time": "2023-10-13T12:43:29.274Z"
   },
   {
    "duration": 196,
    "start_time": "2023-10-13T12:43:29.309Z"
   },
   {
    "duration": 178,
    "start_time": "2023-10-13T12:43:29.506Z"
   },
   {
    "duration": 165,
    "start_time": "2023-10-13T12:43:29.686Z"
   },
   {
    "duration": 28,
    "start_time": "2023-10-13T12:43:29.853Z"
   },
   {
    "duration": 27,
    "start_time": "2023-10-13T12:43:29.883Z"
   },
   {
    "duration": 52,
    "start_time": "2023-10-13T12:43:29.912Z"
   },
   {
    "duration": 22,
    "start_time": "2023-10-13T12:43:29.966Z"
   },
   {
    "duration": 362,
    "start_time": "2023-10-13T12:43:29.990Z"
   },
   {
    "duration": 120,
    "start_time": "2023-10-13T12:43:30.357Z"
   },
   {
    "duration": 291,
    "start_time": "2023-10-13T12:43:30.479Z"
   },
   {
    "duration": 140,
    "start_time": "2023-10-13T12:43:30.772Z"
   },
   {
    "duration": 299,
    "start_time": "2023-10-13T12:43:30.914Z"
   },
   {
    "duration": 128,
    "start_time": "2023-10-13T12:43:31.215Z"
   },
   {
    "duration": 292,
    "start_time": "2023-10-13T12:43:31.345Z"
   },
   {
    "duration": 135,
    "start_time": "2023-10-13T12:43:31.640Z"
   },
   {
    "duration": 147,
    "start_time": "2023-10-13T12:43:31.776Z"
   },
   {
    "duration": 3,
    "start_time": "2023-10-13T12:43:31.925Z"
   },
   {
    "duration": 55,
    "start_time": "2023-10-13T12:43:31.930Z"
   },
   {
    "duration": 37,
    "start_time": "2023-10-13T12:43:54.874Z"
   },
   {
    "duration": 704,
    "start_time": "2023-10-13T12:50:29.289Z"
   },
   {
    "duration": 43,
    "start_time": "2023-10-13T12:50:29.996Z"
   },
   {
    "duration": 52,
    "start_time": "2023-10-13T12:50:30.041Z"
   },
   {
    "duration": 78,
    "start_time": "2023-10-13T12:50:30.095Z"
   },
   {
    "duration": 44,
    "start_time": "2023-10-13T12:50:30.175Z"
   },
   {
    "duration": 47,
    "start_time": "2023-10-13T12:50:30.222Z"
   },
   {
    "duration": 24,
    "start_time": "2023-10-13T12:50:30.271Z"
   },
   {
    "duration": 42,
    "start_time": "2023-10-13T12:50:30.298Z"
   },
   {
    "duration": 51,
    "start_time": "2023-10-13T12:50:30.343Z"
   },
   {
    "duration": 32,
    "start_time": "2023-10-13T12:50:30.396Z"
   },
   {
    "duration": 117,
    "start_time": "2023-10-13T12:50:30.430Z"
   },
   {
    "duration": 88,
    "start_time": "2023-10-13T12:50:30.549Z"
   },
   {
    "duration": 40,
    "start_time": "2023-10-13T12:50:30.639Z"
   },
   {
    "duration": 64,
    "start_time": "2023-10-13T12:50:30.682Z"
   },
   {
    "duration": 59,
    "start_time": "2023-10-13T12:50:30.748Z"
   },
   {
    "duration": 218,
    "start_time": "2023-10-13T12:50:30.809Z"
   },
   {
    "duration": 163,
    "start_time": "2023-10-13T12:50:31.029Z"
   },
   {
    "duration": 167,
    "start_time": "2023-10-13T12:50:31.194Z"
   },
   {
    "duration": 215,
    "start_time": "2023-10-13T12:50:31.363Z"
   },
   {
    "duration": 140,
    "start_time": "2023-10-13T12:50:31.580Z"
   },
   {
    "duration": 63,
    "start_time": "2023-10-13T12:50:31.723Z"
   },
   {
    "duration": 125,
    "start_time": "2023-10-13T12:50:31.789Z"
   },
   {
    "duration": 425,
    "start_time": "2023-10-13T12:50:31.916Z"
   },
   {
    "duration": 126,
    "start_time": "2023-10-13T12:50:32.343Z"
   },
   {
    "duration": 449,
    "start_time": "2023-10-13T12:50:32.471Z"
   },
   {
    "duration": 127,
    "start_time": "2023-10-13T12:50:32.922Z"
   },
   {
    "duration": 293,
    "start_time": "2023-10-13T12:50:33.056Z"
   },
   {
    "duration": 146,
    "start_time": "2023-10-13T12:50:33.351Z"
   },
   {
    "duration": 315,
    "start_time": "2023-10-13T12:50:33.500Z"
   },
   {
    "duration": 122,
    "start_time": "2023-10-13T12:50:33.817Z"
   },
   {
    "duration": 154,
    "start_time": "2023-10-13T12:50:33.941Z"
   },
   {
    "duration": 78,
    "start_time": "2023-10-13T12:50:34.097Z"
   },
   {
    "duration": 694,
    "start_time": "2023-10-13T13:33:35.100Z"
   },
   {
    "duration": 43,
    "start_time": "2023-10-13T13:33:35.797Z"
   },
   {
    "duration": 51,
    "start_time": "2023-10-13T13:33:35.842Z"
   },
   {
    "duration": 70,
    "start_time": "2023-10-13T13:33:35.895Z"
   },
   {
    "duration": 12,
    "start_time": "2023-10-13T13:33:35.968Z"
   },
   {
    "duration": 57,
    "start_time": "2023-10-13T13:33:35.982Z"
   },
   {
    "duration": 42,
    "start_time": "2023-10-13T13:33:36.041Z"
   },
   {
    "duration": 41,
    "start_time": "2023-10-13T13:33:36.085Z"
   },
   {
    "duration": 51,
    "start_time": "2023-10-13T13:33:36.128Z"
   },
   {
    "duration": 15,
    "start_time": "2023-10-13T13:33:36.181Z"
   },
   {
    "duration": 22,
    "start_time": "2023-10-13T13:33:36.198Z"
   },
   {
    "duration": 30,
    "start_time": "2023-10-13T13:33:36.222Z"
   },
   {
    "duration": 27,
    "start_time": "2023-10-13T13:33:36.254Z"
   },
   {
    "duration": 23,
    "start_time": "2023-10-13T13:33:36.284Z"
   },
   {
    "duration": 7,
    "start_time": "2023-10-13T13:33:36.309Z"
   },
   {
    "duration": 176,
    "start_time": "2023-10-13T13:33:36.317Z"
   },
   {
    "duration": 167,
    "start_time": "2023-10-13T13:33:36.495Z"
   },
   {
    "duration": 169,
    "start_time": "2023-10-13T13:33:36.664Z"
   },
   {
    "duration": 36,
    "start_time": "2023-10-13T13:33:36.834Z"
   },
   {
    "duration": 28,
    "start_time": "2023-10-13T13:33:36.873Z"
   },
   {
    "duration": 44,
    "start_time": "2023-10-13T13:33:36.903Z"
   },
   {
    "duration": 23,
    "start_time": "2023-10-13T13:33:36.956Z"
   },
   {
    "duration": 393,
    "start_time": "2023-10-13T13:33:36.981Z"
   },
   {
    "duration": 131,
    "start_time": "2023-10-13T13:33:37.377Z"
   },
   {
    "duration": 310,
    "start_time": "2023-10-13T13:33:37.511Z"
   },
   {
    "duration": 146,
    "start_time": "2023-10-13T13:33:37.823Z"
   },
   {
    "duration": 346,
    "start_time": "2023-10-13T13:33:37.972Z"
   },
   {
    "duration": 139,
    "start_time": "2023-10-13T13:33:38.320Z"
   },
   {
    "duration": 298,
    "start_time": "2023-10-13T13:33:38.461Z"
   },
   {
    "duration": 154,
    "start_time": "2023-10-13T13:33:38.761Z"
   },
   {
    "duration": 156,
    "start_time": "2023-10-13T13:33:38.918Z"
   },
   {
    "duration": 3,
    "start_time": "2023-10-13T13:33:39.076Z"
   },
   {
    "duration": 129,
    "start_time": "2023-10-13T13:33:39.080Z"
   },
   {
    "duration": 759,
    "start_time": "2023-10-13T14:56:18.167Z"
   },
   {
    "duration": 43,
    "start_time": "2023-10-13T14:56:18.928Z"
   },
   {
    "duration": 12,
    "start_time": "2023-10-13T14:56:18.973Z"
   },
   {
    "duration": 67,
    "start_time": "2023-10-13T14:56:18.987Z"
   },
   {
    "duration": 13,
    "start_time": "2023-10-13T14:56:19.056Z"
   },
   {
    "duration": 58,
    "start_time": "2023-10-13T14:56:19.071Z"
   },
   {
    "duration": 11,
    "start_time": "2023-10-13T14:56:19.131Z"
   },
   {
    "duration": 31,
    "start_time": "2023-10-13T14:56:19.144Z"
   },
   {
    "duration": 28,
    "start_time": "2023-10-13T14:56:19.176Z"
   },
   {
    "duration": 9,
    "start_time": "2023-10-13T14:56:19.205Z"
   },
   {
    "duration": 19,
    "start_time": "2023-10-13T14:56:19.215Z"
   },
   {
    "duration": 25,
    "start_time": "2023-10-13T14:56:19.236Z"
   },
   {
    "duration": 26,
    "start_time": "2023-10-13T14:56:19.263Z"
   },
   {
    "duration": 20,
    "start_time": "2023-10-13T14:56:19.292Z"
   },
   {
    "duration": 17,
    "start_time": "2023-10-13T14:56:19.314Z"
   },
   {
    "duration": 194,
    "start_time": "2023-10-13T14:56:19.333Z"
   },
   {
    "duration": 165,
    "start_time": "2023-10-13T14:56:19.530Z"
   },
   {
    "duration": 168,
    "start_time": "2023-10-13T14:56:19.697Z"
   },
   {
    "duration": 27,
    "start_time": "2023-10-13T14:56:19.867Z"
   },
   {
    "duration": 25,
    "start_time": "2023-10-13T14:56:19.895Z"
   },
   {
    "duration": 45,
    "start_time": "2023-10-13T14:56:19.922Z"
   },
   {
    "duration": 22,
    "start_time": "2023-10-13T14:56:19.969Z"
   },
   {
    "duration": 386,
    "start_time": "2023-10-13T14:56:19.993Z"
   },
   {
    "duration": 123,
    "start_time": "2023-10-13T14:56:20.380Z"
   },
   {
    "duration": 292,
    "start_time": "2023-10-13T14:56:20.505Z"
   },
   {
    "duration": 136,
    "start_time": "2023-10-13T14:56:20.800Z"
   },
   {
    "duration": 361,
    "start_time": "2023-10-13T14:56:20.937Z"
   },
   {
    "duration": 132,
    "start_time": "2023-10-13T14:56:21.300Z"
   },
   {
    "duration": 288,
    "start_time": "2023-10-13T14:56:21.434Z"
   },
   {
    "duration": 134,
    "start_time": "2023-10-13T14:56:21.724Z"
   },
   {
    "duration": 150,
    "start_time": "2023-10-13T14:56:21.860Z"
   },
   {
    "duration": 4,
    "start_time": "2023-10-13T14:56:22.012Z"
   },
   {
    "duration": 97,
    "start_time": "2023-10-13T14:56:22.017Z"
   },
   {
    "duration": 736,
    "start_time": "2023-10-13T15:01:53.460Z"
   },
   {
    "duration": 44,
    "start_time": "2023-10-13T15:01:54.198Z"
   },
   {
    "duration": 12,
    "start_time": "2023-10-13T15:01:54.244Z"
   },
   {
    "duration": 49,
    "start_time": "2023-10-13T15:01:54.258Z"
   },
   {
    "duration": 13,
    "start_time": "2023-10-13T15:01:54.309Z"
   },
   {
    "duration": 22,
    "start_time": "2023-10-13T15:01:54.323Z"
   },
   {
    "duration": 11,
    "start_time": "2023-10-13T15:01:54.347Z"
   },
   {
    "duration": 22,
    "start_time": "2023-10-13T15:01:54.360Z"
   },
   {
    "duration": 19,
    "start_time": "2023-10-13T15:01:54.384Z"
   },
   {
    "duration": 6,
    "start_time": "2023-10-13T15:01:54.405Z"
   },
   {
    "duration": 14,
    "start_time": "2023-10-13T15:01:54.413Z"
   },
   {
    "duration": 33,
    "start_time": "2023-10-13T15:01:54.429Z"
   },
   {
    "duration": 6,
    "start_time": "2023-10-13T15:01:54.464Z"
   },
   {
    "duration": 6,
    "start_time": "2023-10-13T15:01:54.473Z"
   },
   {
    "duration": 14,
    "start_time": "2023-10-13T15:01:54.481Z"
   },
   {
    "duration": 188,
    "start_time": "2023-10-13T15:01:54.496Z"
   },
   {
    "duration": 174,
    "start_time": "2023-10-13T15:01:54.686Z"
   },
   {
    "duration": 159,
    "start_time": "2023-10-13T15:01:54.862Z"
   },
   {
    "duration": 35,
    "start_time": "2023-10-13T15:01:55.023Z"
   },
   {
    "duration": 25,
    "start_time": "2023-10-13T15:01:55.060Z"
   },
   {
    "duration": 24,
    "start_time": "2023-10-13T15:01:55.087Z"
   },
   {
    "duration": 45,
    "start_time": "2023-10-13T15:01:55.113Z"
   },
   {
    "duration": 350,
    "start_time": "2023-10-13T15:01:55.160Z"
   },
   {
    "duration": 113,
    "start_time": "2023-10-13T15:01:55.512Z"
   },
   {
    "duration": 295,
    "start_time": "2023-10-13T15:01:55.627Z"
   },
   {
    "duration": 134,
    "start_time": "2023-10-13T15:01:55.924Z"
   },
   {
    "duration": 286,
    "start_time": "2023-10-13T15:01:56.060Z"
   },
   {
    "duration": 129,
    "start_time": "2023-10-13T15:01:56.348Z"
   },
   {
    "duration": 287,
    "start_time": "2023-10-13T15:01:56.479Z"
   },
   {
    "duration": 133,
    "start_time": "2023-10-13T15:01:56.768Z"
   },
   {
    "duration": 153,
    "start_time": "2023-10-13T15:01:56.903Z"
   },
   {
    "duration": 3,
    "start_time": "2023-10-13T15:01:57.058Z"
   },
   {
    "duration": 1703,
    "start_time": "2023-10-13T15:01:57.063Z"
   },
   {
    "duration": 745,
    "start_time": "2023-10-13T15:12:35.269Z"
   },
   {
    "duration": 42,
    "start_time": "2023-10-13T15:12:36.017Z"
   },
   {
    "duration": 18,
    "start_time": "2023-10-13T15:12:36.062Z"
   },
   {
    "duration": 77,
    "start_time": "2023-10-13T15:12:36.082Z"
   },
   {
    "duration": 12,
    "start_time": "2023-10-13T15:12:36.162Z"
   },
   {
    "duration": 77,
    "start_time": "2023-10-13T15:12:36.176Z"
   },
   {
    "duration": 12,
    "start_time": "2023-10-13T15:12:36.255Z"
   },
   {
    "duration": 37,
    "start_time": "2023-10-13T15:12:36.269Z"
   },
   {
    "duration": 18,
    "start_time": "2023-10-13T15:12:36.309Z"
   },
   {
    "duration": 26,
    "start_time": "2023-10-13T15:12:36.329Z"
   },
   {
    "duration": 23,
    "start_time": "2023-10-13T15:12:36.357Z"
   },
   {
    "duration": 25,
    "start_time": "2023-10-13T15:12:36.381Z"
   },
   {
    "duration": 7,
    "start_time": "2023-10-13T15:12:36.407Z"
   },
   {
    "duration": 15,
    "start_time": "2023-10-13T15:12:36.417Z"
   },
   {
    "duration": 12,
    "start_time": "2023-10-13T15:12:36.434Z"
   },
   {
    "duration": 178,
    "start_time": "2023-10-13T15:12:36.448Z"
   },
   {
    "duration": 166,
    "start_time": "2023-10-13T15:12:36.628Z"
   },
   {
    "duration": 171,
    "start_time": "2023-10-13T15:12:36.795Z"
   },
   {
    "duration": 28,
    "start_time": "2023-10-13T15:12:36.968Z"
   },
   {
    "duration": 32,
    "start_time": "2023-10-13T15:12:36.998Z"
   },
   {
    "duration": 48,
    "start_time": "2023-10-13T15:12:37.032Z"
   },
   {
    "duration": 23,
    "start_time": "2023-10-13T15:12:37.082Z"
   },
   {
    "duration": 381,
    "start_time": "2023-10-13T15:12:37.106Z"
   },
   {
    "duration": 126,
    "start_time": "2023-10-13T15:12:37.489Z"
   },
   {
    "duration": 311,
    "start_time": "2023-10-13T15:12:37.617Z"
   },
   {
    "duration": 145,
    "start_time": "2023-10-13T15:12:37.930Z"
   },
   {
    "duration": 302,
    "start_time": "2023-10-13T15:12:38.078Z"
   },
   {
    "duration": 136,
    "start_time": "2023-10-13T15:12:38.382Z"
   },
   {
    "duration": 303,
    "start_time": "2023-10-13T15:12:38.520Z"
   },
   {
    "duration": 156,
    "start_time": "2023-10-13T15:12:38.826Z"
   },
   {
    "duration": 153,
    "start_time": "2023-10-13T15:12:38.983Z"
   },
   {
    "duration": 4,
    "start_time": "2023-10-13T15:12:39.138Z"
   },
   {
    "duration": 94,
    "start_time": "2023-10-13T15:12:39.143Z"
   },
   {
    "duration": 791,
    "start_time": "2023-10-13T15:14:13.030Z"
   },
   {
    "duration": 42,
    "start_time": "2023-10-13T15:14:13.824Z"
   },
   {
    "duration": 13,
    "start_time": "2023-10-13T15:14:13.868Z"
   },
   {
    "duration": 58,
    "start_time": "2023-10-13T15:14:13.883Z"
   },
   {
    "duration": 13,
    "start_time": "2023-10-13T15:14:13.944Z"
   },
   {
    "duration": 34,
    "start_time": "2023-10-13T15:14:13.959Z"
   },
   {
    "duration": 11,
    "start_time": "2023-10-13T15:14:13.995Z"
   },
   {
    "duration": 16,
    "start_time": "2023-10-13T15:14:14.008Z"
   },
   {
    "duration": 39,
    "start_time": "2023-10-13T15:14:14.026Z"
   },
   {
    "duration": 8,
    "start_time": "2023-10-13T15:14:14.067Z"
   },
   {
    "duration": 16,
    "start_time": "2023-10-13T15:14:14.076Z"
   },
   {
    "duration": 36,
    "start_time": "2023-10-13T15:14:14.094Z"
   },
   {
    "duration": 11,
    "start_time": "2023-10-13T15:14:14.132Z"
   },
   {
    "duration": 18,
    "start_time": "2023-10-13T15:14:14.147Z"
   },
   {
    "duration": 27,
    "start_time": "2023-10-13T15:14:14.166Z"
   },
   {
    "duration": 184,
    "start_time": "2023-10-13T15:14:14.195Z"
   },
   {
    "duration": 161,
    "start_time": "2023-10-13T15:14:14.380Z"
   },
   {
    "duration": 163,
    "start_time": "2023-10-13T15:14:14.543Z"
   },
   {
    "duration": 27,
    "start_time": "2023-10-13T15:14:14.708Z"
   },
   {
    "duration": 64,
    "start_time": "2023-10-13T15:14:14.737Z"
   },
   {
    "duration": 34,
    "start_time": "2023-10-13T15:14:14.803Z"
   },
   {
    "duration": 22,
    "start_time": "2023-10-13T15:14:14.839Z"
   },
   {
    "duration": 368,
    "start_time": "2023-10-13T15:14:14.863Z"
   },
   {
    "duration": 124,
    "start_time": "2023-10-13T15:14:15.233Z"
   },
   {
    "duration": 304,
    "start_time": "2023-10-13T15:14:15.359Z"
   },
   {
    "duration": 139,
    "start_time": "2023-10-13T15:14:15.666Z"
   },
   {
    "duration": 302,
    "start_time": "2023-10-13T15:14:15.808Z"
   },
   {
    "duration": 134,
    "start_time": "2023-10-13T15:14:16.112Z"
   },
   {
    "duration": 291,
    "start_time": "2023-10-13T15:14:16.257Z"
   },
   {
    "duration": 143,
    "start_time": "2023-10-13T15:14:16.550Z"
   },
   {
    "duration": 163,
    "start_time": "2023-10-13T15:14:16.695Z"
   },
   {
    "duration": 4,
    "start_time": "2023-10-13T15:14:16.860Z"
   },
   {
    "duration": 105,
    "start_time": "2023-10-13T15:14:16.865Z"
   },
   {
    "duration": 767,
    "start_time": "2023-10-13T15:41:35.528Z"
   },
   {
    "duration": 43,
    "start_time": "2023-10-13T15:41:36.297Z"
   },
   {
    "duration": 12,
    "start_time": "2023-10-13T15:41:36.341Z"
   },
   {
    "duration": 53,
    "start_time": "2023-10-13T15:41:36.355Z"
   },
   {
    "duration": 14,
    "start_time": "2023-10-13T15:41:36.410Z"
   },
   {
    "duration": 158,
    "start_time": "2023-10-13T15:41:36.425Z"
   },
   {
    "duration": 30,
    "start_time": "2023-10-13T15:41:36.584Z"
   },
   {
    "duration": 53,
    "start_time": "2023-10-13T15:41:36.616Z"
   },
   {
    "duration": 65,
    "start_time": "2023-10-13T15:41:36.670Z"
   },
   {
    "duration": 37,
    "start_time": "2023-10-13T15:41:36.737Z"
   },
   {
    "duration": 25,
    "start_time": "2023-10-13T15:41:36.776Z"
   },
   {
    "duration": 15,
    "start_time": "2023-10-13T15:41:36.803Z"
   },
   {
    "duration": 19,
    "start_time": "2023-10-13T15:41:36.820Z"
   },
   {
    "duration": 19,
    "start_time": "2023-10-13T15:41:36.842Z"
   },
   {
    "duration": 17,
    "start_time": "2023-10-13T15:41:36.863Z"
   },
   {
    "duration": 200,
    "start_time": "2023-10-13T15:41:36.882Z"
   },
   {
    "duration": 163,
    "start_time": "2023-10-13T15:41:37.084Z"
   },
   {
    "duration": 156,
    "start_time": "2023-10-13T15:41:37.249Z"
   },
   {
    "duration": 27,
    "start_time": "2023-10-13T15:41:37.407Z"
   },
   {
    "duration": 43,
    "start_time": "2023-10-13T15:41:37.437Z"
   },
   {
    "duration": 24,
    "start_time": "2023-10-13T15:41:37.482Z"
   },
   {
    "duration": 21,
    "start_time": "2023-10-13T15:41:37.508Z"
   },
   {
    "duration": 371,
    "start_time": "2023-10-13T15:41:37.531Z"
   },
   {
    "duration": 128,
    "start_time": "2023-10-13T15:41:37.904Z"
   },
   {
    "duration": 329,
    "start_time": "2023-10-13T15:41:38.034Z"
   },
   {
    "duration": 130,
    "start_time": "2023-10-13T15:41:38.365Z"
   },
   {
    "duration": 290,
    "start_time": "2023-10-13T15:41:38.497Z"
   },
   {
    "duration": 158,
    "start_time": "2023-10-13T15:41:38.789Z"
   },
   {
    "duration": 282,
    "start_time": "2023-10-13T15:41:38.957Z"
   },
   {
    "duration": 132,
    "start_time": "2023-10-13T15:41:39.241Z"
   },
   {
    "duration": 144,
    "start_time": "2023-10-13T15:41:39.375Z"
   },
   {
    "duration": 4,
    "start_time": "2023-10-13T15:41:39.521Z"
   },
   {
    "duration": 98,
    "start_time": "2023-10-13T15:41:39.526Z"
   },
   {
    "duration": 708,
    "start_time": "2023-10-13T15:44:33.060Z"
   },
   {
    "duration": 42,
    "start_time": "2023-10-13T15:44:33.771Z"
   },
   {
    "duration": 12,
    "start_time": "2023-10-13T15:44:33.814Z"
   },
   {
    "duration": 95,
    "start_time": "2023-10-13T15:44:33.828Z"
   },
   {
    "duration": 12,
    "start_time": "2023-10-13T15:44:33.926Z"
   },
   {
    "duration": 39,
    "start_time": "2023-10-13T15:44:33.939Z"
   },
   {
    "duration": 22,
    "start_time": "2023-10-13T15:44:33.980Z"
   },
   {
    "duration": 45,
    "start_time": "2023-10-13T15:44:34.004Z"
   },
   {
    "duration": 34,
    "start_time": "2023-10-13T15:44:34.051Z"
   },
   {
    "duration": 21,
    "start_time": "2023-10-13T15:44:34.086Z"
   },
   {
    "duration": 33,
    "start_time": "2023-10-13T15:44:34.109Z"
   },
   {
    "duration": 35,
    "start_time": "2023-10-13T15:44:34.144Z"
   },
   {
    "duration": 15,
    "start_time": "2023-10-13T15:44:34.181Z"
   },
   {
    "duration": 42,
    "start_time": "2023-10-13T15:44:34.200Z"
   },
   {
    "duration": 37,
    "start_time": "2023-10-13T15:44:34.244Z"
   },
   {
    "duration": 199,
    "start_time": "2023-10-13T15:44:34.282Z"
   },
   {
    "duration": 158,
    "start_time": "2023-10-13T15:44:34.483Z"
   },
   {
    "duration": 153,
    "start_time": "2023-10-13T15:44:34.642Z"
   },
   {
    "duration": 27,
    "start_time": "2023-10-13T15:44:34.797Z"
   },
   {
    "duration": 54,
    "start_time": "2023-10-13T15:44:34.826Z"
   },
   {
    "duration": 27,
    "start_time": "2023-10-13T15:44:34.882Z"
   },
   {
    "duration": 30,
    "start_time": "2023-10-13T15:44:34.911Z"
   },
   {
    "duration": 357,
    "start_time": "2023-10-13T15:44:34.944Z"
   },
   {
    "duration": 118,
    "start_time": "2023-10-13T15:44:35.303Z"
   },
   {
    "duration": 298,
    "start_time": "2023-10-13T15:44:35.422Z"
   },
   {
    "duration": 124,
    "start_time": "2023-10-13T15:44:35.721Z"
   },
   {
    "duration": 301,
    "start_time": "2023-10-13T15:44:35.855Z"
   },
   {
    "duration": 126,
    "start_time": "2023-10-13T15:44:36.158Z"
   },
   {
    "duration": 288,
    "start_time": "2023-10-13T15:44:36.285Z"
   },
   {
    "duration": 130,
    "start_time": "2023-10-13T15:44:36.575Z"
   },
   {
    "duration": 152,
    "start_time": "2023-10-13T15:44:36.707Z"
   },
   {
    "duration": 4,
    "start_time": "2023-10-13T15:44:36.861Z"
   },
   {
    "duration": 102,
    "start_time": "2023-10-13T15:44:36.867Z"
   },
   {
    "duration": 739,
    "start_time": "2023-10-13T15:47:15.648Z"
   },
   {
    "duration": 43,
    "start_time": "2023-10-13T15:47:16.389Z"
   },
   {
    "duration": 18,
    "start_time": "2023-10-13T15:47:16.434Z"
   },
   {
    "duration": 71,
    "start_time": "2023-10-13T15:47:16.454Z"
   },
   {
    "duration": 11,
    "start_time": "2023-10-13T15:47:16.528Z"
   },
   {
    "duration": 42,
    "start_time": "2023-10-13T15:47:16.541Z"
   },
   {
    "duration": 12,
    "start_time": "2023-10-13T15:47:16.585Z"
   },
   {
    "duration": 47,
    "start_time": "2023-10-13T15:47:16.599Z"
   },
   {
    "duration": 27,
    "start_time": "2023-10-13T15:47:16.648Z"
   },
   {
    "duration": 26,
    "start_time": "2023-10-13T15:47:16.677Z"
   },
   {
    "duration": 45,
    "start_time": "2023-10-13T15:47:16.705Z"
   },
   {
    "duration": 33,
    "start_time": "2023-10-13T15:47:16.752Z"
   },
   {
    "duration": 29,
    "start_time": "2023-10-13T15:47:16.787Z"
   },
   {
    "duration": 39,
    "start_time": "2023-10-13T15:47:16.819Z"
   },
   {
    "duration": 27,
    "start_time": "2023-10-13T15:47:16.860Z"
   },
   {
    "duration": 192,
    "start_time": "2023-10-13T15:47:16.889Z"
   },
   {
    "duration": 161,
    "start_time": "2023-10-13T15:47:17.083Z"
   },
   {
    "duration": 166,
    "start_time": "2023-10-13T15:47:17.246Z"
   },
   {
    "duration": 27,
    "start_time": "2023-10-13T15:47:17.414Z"
   },
   {
    "duration": 55,
    "start_time": "2023-10-13T15:47:17.444Z"
   },
   {
    "duration": 33,
    "start_time": "2023-10-13T15:47:17.501Z"
   },
   {
    "duration": 21,
    "start_time": "2023-10-13T15:47:17.536Z"
   },
   {
    "duration": 361,
    "start_time": "2023-10-13T15:47:17.559Z"
   },
   {
    "duration": 134,
    "start_time": "2023-10-13T15:47:17.922Z"
   },
   {
    "duration": 304,
    "start_time": "2023-10-13T15:47:18.059Z"
   },
   {
    "duration": 129,
    "start_time": "2023-10-13T15:47:18.365Z"
   },
   {
    "duration": 302,
    "start_time": "2023-10-13T15:47:18.496Z"
   },
   {
    "duration": 145,
    "start_time": "2023-10-13T15:47:18.802Z"
   },
   {
    "duration": 287,
    "start_time": "2023-10-13T15:47:18.949Z"
   },
   {
    "duration": 129,
    "start_time": "2023-10-13T15:47:19.237Z"
   },
   {
    "duration": 359,
    "start_time": "2023-10-13T15:47:19.368Z"
   },
   {
    "duration": 4,
    "start_time": "2023-10-13T15:47:19.729Z"
   },
   {
    "duration": 119,
    "start_time": "2023-10-13T15:47:19.735Z"
   },
   {
    "duration": 735,
    "start_time": "2023-10-13T15:48:30.149Z"
   },
   {
    "duration": 43,
    "start_time": "2023-10-13T15:48:30.886Z"
   },
   {
    "duration": 77,
    "start_time": "2023-10-13T15:48:30.931Z"
   },
   {
    "duration": 97,
    "start_time": "2023-10-13T15:48:31.010Z"
   },
   {
    "duration": 16,
    "start_time": "2023-10-13T15:48:31.109Z"
   },
   {
    "duration": 76,
    "start_time": "2023-10-13T15:48:31.127Z"
   },
   {
    "duration": 31,
    "start_time": "2023-10-13T15:48:31.204Z"
   },
   {
    "duration": 49,
    "start_time": "2023-10-13T15:48:31.237Z"
   },
   {
    "duration": 49,
    "start_time": "2023-10-13T15:48:31.289Z"
   },
   {
    "duration": 58,
    "start_time": "2023-10-13T15:48:31.341Z"
   },
   {
    "duration": 29,
    "start_time": "2023-10-13T15:48:31.401Z"
   },
   {
    "duration": 75,
    "start_time": "2023-10-13T15:48:31.432Z"
   },
   {
    "duration": 39,
    "start_time": "2023-10-13T15:48:31.509Z"
   },
   {
    "duration": 58,
    "start_time": "2023-10-13T15:48:31.551Z"
   },
   {
    "duration": 64,
    "start_time": "2023-10-13T15:48:31.610Z"
   },
   {
    "duration": 207,
    "start_time": "2023-10-13T15:48:31.676Z"
   },
   {
    "duration": 157,
    "start_time": "2023-10-13T15:48:31.885Z"
   },
   {
    "duration": 163,
    "start_time": "2023-10-13T15:48:32.044Z"
   },
   {
    "duration": 26,
    "start_time": "2023-10-13T15:48:32.209Z"
   },
   {
    "duration": 39,
    "start_time": "2023-10-13T15:48:32.238Z"
   },
   {
    "duration": 43,
    "start_time": "2023-10-13T15:48:32.279Z"
   },
   {
    "duration": 76,
    "start_time": "2023-10-13T15:48:32.324Z"
   },
   {
    "duration": 356,
    "start_time": "2023-10-13T15:48:32.402Z"
   },
   {
    "duration": 127,
    "start_time": "2023-10-13T15:48:32.761Z"
   },
   {
    "duration": 299,
    "start_time": "2023-10-13T15:48:32.890Z"
   },
   {
    "duration": 128,
    "start_time": "2023-10-13T15:48:33.192Z"
   },
   {
    "duration": 297,
    "start_time": "2023-10-13T15:48:33.323Z"
   },
   {
    "duration": 138,
    "start_time": "2023-10-13T15:48:33.622Z"
   },
   {
    "duration": 286,
    "start_time": "2023-10-13T15:48:33.762Z"
   },
   {
    "duration": 132,
    "start_time": "2023-10-13T15:48:34.050Z"
   },
   {
    "duration": 147,
    "start_time": "2023-10-13T15:48:34.184Z"
   },
   {
    "duration": 251,
    "start_time": "2023-10-13T15:48:34.333Z"
   },
   {
    "duration": 141,
    "start_time": "2023-10-13T15:48:34.586Z"
   },
   {
    "duration": 744,
    "start_time": "2023-10-13T15:54:19.931Z"
   },
   {
    "duration": 42,
    "start_time": "2023-10-13T15:54:20.677Z"
   },
   {
    "duration": 13,
    "start_time": "2023-10-13T15:54:20.721Z"
   },
   {
    "duration": 67,
    "start_time": "2023-10-13T15:54:20.736Z"
   },
   {
    "duration": 15,
    "start_time": "2023-10-13T15:54:20.805Z"
   },
   {
    "duration": 45,
    "start_time": "2023-10-13T15:54:20.822Z"
   },
   {
    "duration": 11,
    "start_time": "2023-10-13T15:54:20.868Z"
   },
   {
    "duration": 42,
    "start_time": "2023-10-13T15:54:20.881Z"
   },
   {
    "duration": 35,
    "start_time": "2023-10-13T15:54:20.925Z"
   },
   {
    "duration": 19,
    "start_time": "2023-10-13T15:54:20.963Z"
   },
   {
    "duration": 21,
    "start_time": "2023-10-13T15:54:20.984Z"
   },
   {
    "duration": 36,
    "start_time": "2023-10-13T15:54:21.007Z"
   },
   {
    "duration": 30,
    "start_time": "2023-10-13T15:54:21.045Z"
   },
   {
    "duration": 12,
    "start_time": "2023-10-13T15:54:21.077Z"
   },
   {
    "duration": 23,
    "start_time": "2023-10-13T15:54:21.091Z"
   },
   {
    "duration": 178,
    "start_time": "2023-10-13T15:54:21.116Z"
   },
   {
    "duration": 155,
    "start_time": "2023-10-13T15:54:21.295Z"
   },
   {
    "duration": 157,
    "start_time": "2023-10-13T15:54:21.456Z"
   },
   {
    "duration": 27,
    "start_time": "2023-10-13T15:54:21.615Z"
   },
   {
    "duration": 28,
    "start_time": "2023-10-13T15:54:21.655Z"
   },
   {
    "duration": 23,
    "start_time": "2023-10-13T15:54:21.685Z"
   },
   {
    "duration": 47,
    "start_time": "2023-10-13T15:54:21.710Z"
   },
   {
    "duration": 352,
    "start_time": "2023-10-13T15:54:21.759Z"
   },
   {
    "duration": 125,
    "start_time": "2023-10-13T15:54:22.113Z"
   },
   {
    "duration": 300,
    "start_time": "2023-10-13T15:54:22.240Z"
   },
   {
    "duration": 128,
    "start_time": "2023-10-13T15:54:22.542Z"
   },
   {
    "duration": 290,
    "start_time": "2023-10-13T15:54:22.673Z"
   },
   {
    "duration": 136,
    "start_time": "2023-10-13T15:54:22.966Z"
   },
   {
    "duration": 286,
    "start_time": "2023-10-13T15:54:23.104Z"
   },
   {
    "duration": 127,
    "start_time": "2023-10-13T15:54:23.392Z"
   },
   {
    "duration": 152,
    "start_time": "2023-10-13T15:54:23.520Z"
   },
   {
    "duration": 4,
    "start_time": "2023-10-13T15:54:23.674Z"
   },
   {
    "duration": 1681,
    "start_time": "2023-10-13T15:54:23.679Z"
   },
   {
    "duration": 704,
    "start_time": "2023-10-13T15:54:47.395Z"
   },
   {
    "duration": 43,
    "start_time": "2023-10-13T15:54:48.101Z"
   },
   {
    "duration": 13,
    "start_time": "2023-10-13T15:54:48.146Z"
   },
   {
    "duration": 55,
    "start_time": "2023-10-13T15:54:48.162Z"
   },
   {
    "duration": 13,
    "start_time": "2023-10-13T15:54:48.218Z"
   },
   {
    "duration": 26,
    "start_time": "2023-10-13T15:54:48.233Z"
   },
   {
    "duration": 11,
    "start_time": "2023-10-13T15:54:48.261Z"
   },
   {
    "duration": 104,
    "start_time": "2023-10-13T15:54:48.274Z"
   },
   {
    "duration": 16,
    "start_time": "2023-10-13T15:54:48.380Z"
   },
   {
    "duration": 6,
    "start_time": "2023-10-13T15:54:48.399Z"
   },
   {
    "duration": 93,
    "start_time": "2023-10-13T15:54:48.406Z"
   },
   {
    "duration": 16,
    "start_time": "2023-10-13T15:54:48.501Z"
   },
   {
    "duration": 9,
    "start_time": "2023-10-13T15:54:48.519Z"
   },
   {
    "duration": 44,
    "start_time": "2023-10-13T15:54:48.530Z"
   },
   {
    "duration": 17,
    "start_time": "2023-10-13T15:54:48.576Z"
   },
   {
    "duration": 169,
    "start_time": "2023-10-13T15:54:48.595Z"
   },
   {
    "duration": 186,
    "start_time": "2023-10-13T15:54:48.766Z"
   },
   {
    "duration": 152,
    "start_time": "2023-10-13T15:54:48.956Z"
   },
   {
    "duration": 26,
    "start_time": "2023-10-13T15:54:49.110Z"
   },
   {
    "duration": 48,
    "start_time": "2023-10-13T15:54:49.138Z"
   },
   {
    "duration": 24,
    "start_time": "2023-10-13T15:54:49.188Z"
   },
   {
    "duration": 22,
    "start_time": "2023-10-13T15:54:49.213Z"
   },
   {
    "duration": 360,
    "start_time": "2023-10-13T15:54:49.237Z"
   },
   {
    "duration": 115,
    "start_time": "2023-10-13T15:54:49.600Z"
   },
   {
    "duration": 290,
    "start_time": "2023-10-13T15:54:49.717Z"
   },
   {
    "duration": 125,
    "start_time": "2023-10-13T15:54:50.009Z"
   },
   {
    "duration": 293,
    "start_time": "2023-10-13T15:54:50.136Z"
   },
   {
    "duration": 133,
    "start_time": "2023-10-13T15:54:50.432Z"
   },
   {
    "duration": 278,
    "start_time": "2023-10-13T15:54:50.567Z"
   },
   {
    "duration": 126,
    "start_time": "2023-10-13T15:54:50.847Z"
   },
   {
    "duration": 154,
    "start_time": "2023-10-13T15:54:50.975Z"
   },
   {
    "duration": 5,
    "start_time": "2023-10-13T15:54:51.131Z"
   },
   {
    "duration": 1551,
    "start_time": "2023-10-13T15:54:51.137Z"
   },
   {
    "duration": 719,
    "start_time": "2023-10-13T15:57:10.178Z"
   },
   {
    "duration": 44,
    "start_time": "2023-10-13T15:57:10.899Z"
   },
   {
    "duration": 13,
    "start_time": "2023-10-13T15:57:10.945Z"
   },
   {
    "duration": 69,
    "start_time": "2023-10-13T15:57:10.960Z"
   },
   {
    "duration": 12,
    "start_time": "2023-10-13T15:57:11.031Z"
   },
   {
    "duration": 33,
    "start_time": "2023-10-13T15:57:11.045Z"
   },
   {
    "duration": 11,
    "start_time": "2023-10-13T15:57:11.080Z"
   },
   {
    "duration": 22,
    "start_time": "2023-10-13T15:57:11.093Z"
   },
   {
    "duration": 24,
    "start_time": "2023-10-13T15:57:11.116Z"
   },
   {
    "duration": 15,
    "start_time": "2023-10-13T15:57:11.142Z"
   },
   {
    "duration": 18,
    "start_time": "2023-10-13T15:57:11.159Z"
   },
   {
    "duration": 13,
    "start_time": "2023-10-13T15:57:11.179Z"
   },
   {
    "duration": 5,
    "start_time": "2023-10-13T15:57:11.193Z"
   },
   {
    "duration": 16,
    "start_time": "2023-10-13T15:57:11.201Z"
   },
   {
    "duration": 18,
    "start_time": "2023-10-13T15:57:11.219Z"
   },
   {
    "duration": 171,
    "start_time": "2023-10-13T15:57:11.238Z"
   },
   {
    "duration": 161,
    "start_time": "2023-10-13T15:57:11.412Z"
   },
   {
    "duration": 159,
    "start_time": "2023-10-13T15:57:11.575Z"
   },
   {
    "duration": 40,
    "start_time": "2023-10-13T15:57:11.736Z"
   },
   {
    "duration": 48,
    "start_time": "2023-10-13T15:57:11.778Z"
   },
   {
    "duration": 24,
    "start_time": "2023-10-13T15:57:11.828Z"
   },
   {
    "duration": 23,
    "start_time": "2023-10-13T15:57:11.854Z"
   },
   {
    "duration": 355,
    "start_time": "2023-10-13T15:57:11.878Z"
   },
   {
    "duration": 125,
    "start_time": "2023-10-13T15:57:12.235Z"
   },
   {
    "duration": 297,
    "start_time": "2023-10-13T15:57:12.362Z"
   },
   {
    "duration": 124,
    "start_time": "2023-10-13T15:57:12.661Z"
   },
   {
    "duration": 293,
    "start_time": "2023-10-13T15:57:12.787Z"
   },
   {
    "duration": 139,
    "start_time": "2023-10-13T15:57:13.082Z"
   },
   {
    "duration": 319,
    "start_time": "2023-10-13T15:57:13.223Z"
   },
   {
    "duration": 131,
    "start_time": "2023-10-13T15:57:13.544Z"
   },
   {
    "duration": 151,
    "start_time": "2023-10-13T15:57:13.677Z"
   },
   {
    "duration": 4,
    "start_time": "2023-10-13T15:57:13.830Z"
   },
   {
    "duration": 1630,
    "start_time": "2023-10-13T15:57:13.835Z"
   },
   {
    "duration": 717,
    "start_time": "2023-10-13T16:14:35.470Z"
   },
   {
    "duration": 42,
    "start_time": "2023-10-13T16:14:36.189Z"
   },
   {
    "duration": 11,
    "start_time": "2023-10-13T16:14:36.233Z"
   },
   {
    "duration": 55,
    "start_time": "2023-10-13T16:14:36.246Z"
   },
   {
    "duration": 10,
    "start_time": "2023-10-13T16:14:36.304Z"
   },
   {
    "duration": 21,
    "start_time": "2023-10-13T16:14:36.316Z"
   },
   {
    "duration": 11,
    "start_time": "2023-10-13T16:14:36.338Z"
   },
   {
    "duration": 17,
    "start_time": "2023-10-13T16:14:36.350Z"
   },
   {
    "duration": 15,
    "start_time": "2023-10-13T16:14:36.369Z"
   },
   {
    "duration": 6,
    "start_time": "2023-10-13T16:14:36.386Z"
   },
   {
    "duration": 13,
    "start_time": "2023-10-13T16:14:36.394Z"
   },
   {
    "duration": 8,
    "start_time": "2023-10-13T16:14:36.408Z"
   },
   {
    "duration": 18,
    "start_time": "2023-10-13T16:14:36.418Z"
   },
   {
    "duration": 6,
    "start_time": "2023-10-13T16:14:36.458Z"
   },
   {
    "duration": 11,
    "start_time": "2023-10-13T16:14:36.466Z"
   },
   {
    "duration": 181,
    "start_time": "2023-10-13T16:14:36.478Z"
   },
   {
    "duration": 166,
    "start_time": "2023-10-13T16:14:36.661Z"
   },
   {
    "duration": 161,
    "start_time": "2023-10-13T16:14:36.828Z"
   },
   {
    "duration": 31,
    "start_time": "2023-10-13T16:14:36.991Z"
   },
   {
    "duration": 46,
    "start_time": "2023-10-13T16:14:37.024Z"
   },
   {
    "duration": 22,
    "start_time": "2023-10-13T16:14:37.073Z"
   },
   {
    "duration": 20,
    "start_time": "2023-10-13T16:14:37.097Z"
   },
   {
    "duration": 365,
    "start_time": "2023-10-13T16:14:37.119Z"
   },
   {
    "duration": 109,
    "start_time": "2023-10-13T16:14:37.485Z"
   },
   {
    "duration": 287,
    "start_time": "2023-10-13T16:14:37.595Z"
   },
   {
    "duration": 133,
    "start_time": "2023-10-13T16:14:37.884Z"
   },
   {
    "duration": 310,
    "start_time": "2023-10-13T16:14:38.019Z"
   },
   {
    "duration": 131,
    "start_time": "2023-10-13T16:14:38.331Z"
   },
   {
    "duration": 287,
    "start_time": "2023-10-13T16:14:38.464Z"
   },
   {
    "duration": 165,
    "start_time": "2023-10-13T16:14:38.753Z"
   },
   {
    "duration": 138,
    "start_time": "2023-10-13T16:14:38.921Z"
   },
   {
    "duration": 3,
    "start_time": "2023-10-13T16:14:39.061Z"
   },
   {
    "duration": 96,
    "start_time": "2023-10-13T16:14:39.066Z"
   },
   {
    "duration": 18,
    "start_time": "2023-10-13T16:21:08.686Z"
   },
   {
    "duration": 660,
    "start_time": "2023-10-13T16:21:24.413Z"
   },
   {
    "duration": 41,
    "start_time": "2023-10-13T16:21:25.076Z"
   },
   {
    "duration": 12,
    "start_time": "2023-10-13T16:21:25.120Z"
   },
   {
    "duration": 56,
    "start_time": "2023-10-13T16:21:25.133Z"
   },
   {
    "duration": 11,
    "start_time": "2023-10-13T16:21:25.192Z"
   },
   {
    "duration": 21,
    "start_time": "2023-10-13T16:21:25.205Z"
   },
   {
    "duration": 10,
    "start_time": "2023-10-13T16:21:25.228Z"
   },
   {
    "duration": 21,
    "start_time": "2023-10-13T16:21:25.240Z"
   },
   {
    "duration": 18,
    "start_time": "2023-10-13T16:21:25.263Z"
   },
   {
    "duration": 7,
    "start_time": "2023-10-13T16:21:25.282Z"
   },
   {
    "duration": 11,
    "start_time": "2023-10-13T16:21:25.290Z"
   },
   {
    "duration": 21,
    "start_time": "2023-10-13T16:21:25.303Z"
   },
   {
    "duration": 5,
    "start_time": "2023-10-13T16:21:25.326Z"
   },
   {
    "duration": 6,
    "start_time": "2023-10-13T16:21:25.359Z"
   },
   {
    "duration": 10,
    "start_time": "2023-10-13T16:21:25.366Z"
   },
   {
    "duration": 180,
    "start_time": "2023-10-13T16:21:25.378Z"
   },
   {
    "duration": 156,
    "start_time": "2023-10-13T16:21:25.560Z"
   },
   {
    "duration": 158,
    "start_time": "2023-10-13T16:21:25.718Z"
   },
   {
    "duration": 27,
    "start_time": "2023-10-13T16:21:25.878Z"
   },
   {
    "duration": 26,
    "start_time": "2023-10-13T16:21:25.907Z"
   },
   {
    "duration": 44,
    "start_time": "2023-10-13T16:21:25.934Z"
   },
   {
    "duration": 20,
    "start_time": "2023-10-13T16:21:25.980Z"
   },
   {
    "duration": 365,
    "start_time": "2023-10-13T16:21:26.001Z"
   },
   {
    "duration": 115,
    "start_time": "2023-10-13T16:21:26.368Z"
   },
   {
    "duration": 287,
    "start_time": "2023-10-13T16:21:26.484Z"
   },
   {
    "duration": 134,
    "start_time": "2023-10-13T16:21:26.772Z"
   },
   {
    "duration": 298,
    "start_time": "2023-10-13T16:21:26.908Z"
   },
   {
    "duration": 136,
    "start_time": "2023-10-13T16:21:27.208Z"
   },
   {
    "duration": 273,
    "start_time": "2023-10-13T16:21:27.346Z"
   },
   {
    "duration": 125,
    "start_time": "2023-10-13T16:21:27.621Z"
   },
   {
    "duration": 138,
    "start_time": "2023-10-13T16:21:27.756Z"
   },
   {
    "duration": 18,
    "start_time": "2023-10-13T16:21:27.896Z"
   },
   {
    "duration": 4,
    "start_time": "2023-10-13T16:21:27.915Z"
   },
   {
    "duration": 115,
    "start_time": "2023-10-13T16:21:27.921Z"
   },
   {
    "duration": 10,
    "start_time": "2023-10-13T16:21:57.213Z"
   },
   {
    "duration": 9,
    "start_time": "2023-10-13T16:22:10.230Z"
   },
   {
    "duration": 690,
    "start_time": "2023-10-13T16:25:00.101Z"
   },
   {
    "duration": 43,
    "start_time": "2023-10-13T16:25:00.794Z"
   },
   {
    "duration": 22,
    "start_time": "2023-10-13T16:25:00.839Z"
   },
   {
    "duration": 129,
    "start_time": "2023-10-13T16:25:00.863Z"
   },
   {
    "duration": 53,
    "start_time": "2023-10-13T16:25:00.995Z"
   },
   {
    "duration": 153,
    "start_time": "2023-10-13T16:25:01.051Z"
   },
   {
    "duration": 133,
    "start_time": "2023-10-13T16:25:01.206Z"
   },
   {
    "duration": 98,
    "start_time": "2023-10-13T16:25:01.341Z"
   },
   {
    "duration": 47,
    "start_time": "2023-10-13T16:25:01.441Z"
   },
   {
    "duration": 85,
    "start_time": "2023-10-13T16:25:01.490Z"
   },
   {
    "duration": 78,
    "start_time": "2023-10-13T16:25:01.578Z"
   },
   {
    "duration": 60,
    "start_time": "2023-10-13T16:25:01.658Z"
   },
   {
    "duration": 66,
    "start_time": "2023-10-13T16:25:01.720Z"
   },
   {
    "duration": 74,
    "start_time": "2023-10-13T16:25:01.789Z"
   },
   {
    "duration": 99,
    "start_time": "2023-10-13T16:25:01.864Z"
   },
   {
    "duration": 207,
    "start_time": "2023-10-13T16:25:01.965Z"
   },
   {
    "duration": 154,
    "start_time": "2023-10-13T16:25:02.174Z"
   },
   {
    "duration": 172,
    "start_time": "2023-10-13T16:25:02.329Z"
   },
   {
    "duration": 26,
    "start_time": "2023-10-13T16:25:02.503Z"
   },
   {
    "duration": 56,
    "start_time": "2023-10-13T16:25:02.531Z"
   },
   {
    "duration": 68,
    "start_time": "2023-10-13T16:25:02.589Z"
   },
   {
    "duration": 160,
    "start_time": "2023-10-13T16:25:02.660Z"
   },
   {
    "duration": 343,
    "start_time": "2023-10-13T16:25:02.822Z"
   },
   {
    "duration": 113,
    "start_time": "2023-10-13T16:25:03.167Z"
   },
   {
    "duration": 285,
    "start_time": "2023-10-13T16:25:03.282Z"
   },
   {
    "duration": 133,
    "start_time": "2023-10-13T16:25:03.569Z"
   },
   {
    "duration": 364,
    "start_time": "2023-10-13T16:25:03.704Z"
   },
   {
    "duration": 123,
    "start_time": "2023-10-13T16:25:04.069Z"
   },
   {
    "duration": 272,
    "start_time": "2023-10-13T16:25:04.193Z"
   },
   {
    "duration": 124,
    "start_time": "2023-10-13T16:25:04.467Z"
   },
   {
    "duration": 129,
    "start_time": "2023-10-13T16:25:04.593Z"
   },
   {
    "duration": 8,
    "start_time": "2023-10-13T16:25:04.724Z"
   },
   {
    "duration": 12,
    "start_time": "2023-10-13T16:25:04.733Z"
   },
   {
    "duration": 124,
    "start_time": "2023-10-13T16:25:04.747Z"
   },
   {
    "duration": 751,
    "start_time": "2023-10-13T16:29:48.169Z"
   },
   {
    "duration": 43,
    "start_time": "2023-10-13T16:29:48.922Z"
   },
   {
    "duration": 12,
    "start_time": "2023-10-13T16:29:48.967Z"
   },
   {
    "duration": 49,
    "start_time": "2023-10-13T16:29:48.981Z"
   },
   {
    "duration": 13,
    "start_time": "2023-10-13T16:29:49.031Z"
   },
   {
    "duration": 21,
    "start_time": "2023-10-13T16:29:49.046Z"
   },
   {
    "duration": 12,
    "start_time": "2023-10-13T16:29:49.069Z"
   },
   {
    "duration": 27,
    "start_time": "2023-10-13T16:29:49.083Z"
   },
   {
    "duration": 16,
    "start_time": "2023-10-13T16:29:49.112Z"
   },
   {
    "duration": 27,
    "start_time": "2023-10-13T16:29:49.131Z"
   },
   {
    "duration": 10,
    "start_time": "2023-10-13T16:29:49.159Z"
   },
   {
    "duration": 8,
    "start_time": "2023-10-13T16:29:49.171Z"
   },
   {
    "duration": 4,
    "start_time": "2023-10-13T16:29:49.181Z"
   },
   {
    "duration": 6,
    "start_time": "2023-10-13T16:29:49.187Z"
   },
   {
    "duration": 9,
    "start_time": "2023-10-13T16:29:49.195Z"
   },
   {
    "duration": 199,
    "start_time": "2023-10-13T16:29:49.205Z"
   },
   {
    "duration": 154,
    "start_time": "2023-10-13T16:29:49.405Z"
   },
   {
    "duration": 152,
    "start_time": "2023-10-13T16:29:49.561Z"
   },
   {
    "duration": 26,
    "start_time": "2023-10-13T16:29:49.714Z"
   },
   {
    "duration": 37,
    "start_time": "2023-10-13T16:29:49.742Z"
   },
   {
    "duration": 23,
    "start_time": "2023-10-13T16:29:49.781Z"
   },
   {
    "duration": 21,
    "start_time": "2023-10-13T16:29:49.806Z"
   },
   {
    "duration": 378,
    "start_time": "2023-10-13T16:29:49.829Z"
   },
   {
    "duration": 116,
    "start_time": "2023-10-13T16:29:50.209Z"
   },
   {
    "duration": 303,
    "start_time": "2023-10-13T16:29:50.326Z"
   },
   {
    "duration": 130,
    "start_time": "2023-10-13T16:29:50.631Z"
   },
   {
    "duration": 303,
    "start_time": "2023-10-13T16:29:50.762Z"
   },
   {
    "duration": 137,
    "start_time": "2023-10-13T16:29:51.068Z"
   },
   {
    "duration": 277,
    "start_time": "2023-10-13T16:29:51.207Z"
   },
   {
    "duration": 123,
    "start_time": "2023-10-13T16:29:51.486Z"
   },
   {
    "duration": 133,
    "start_time": "2023-10-13T16:29:51.611Z"
   },
   {
    "duration": 17,
    "start_time": "2023-10-13T16:29:51.747Z"
   },
   {
    "duration": 25,
    "start_time": "2023-10-13T16:29:51.766Z"
   },
   {
    "duration": 104,
    "start_time": "2023-10-13T16:29:51.793Z"
   },
   {
    "duration": 709,
    "start_time": "2023-10-13T16:31:39.043Z"
   },
   {
    "duration": 42,
    "start_time": "2023-10-13T16:31:39.756Z"
   },
   {
    "duration": 13,
    "start_time": "2023-10-13T16:31:39.800Z"
   },
   {
    "duration": 43,
    "start_time": "2023-10-13T16:31:39.815Z"
   },
   {
    "duration": 12,
    "start_time": "2023-10-13T16:31:39.860Z"
   },
   {
    "duration": 21,
    "start_time": "2023-10-13T16:31:39.874Z"
   },
   {
    "duration": 11,
    "start_time": "2023-10-13T16:31:39.897Z"
   },
   {
    "duration": 18,
    "start_time": "2023-10-13T16:31:39.909Z"
   },
   {
    "duration": 40,
    "start_time": "2023-10-13T16:31:39.928Z"
   },
   {
    "duration": 6,
    "start_time": "2023-10-13T16:31:39.970Z"
   },
   {
    "duration": 22,
    "start_time": "2023-10-13T16:31:39.977Z"
   },
   {
    "duration": 14,
    "start_time": "2023-10-13T16:31:40.000Z"
   },
   {
    "duration": 25,
    "start_time": "2023-10-13T16:31:40.016Z"
   },
   {
    "duration": 11,
    "start_time": "2023-10-13T16:31:40.044Z"
   },
   {
    "duration": 17,
    "start_time": "2023-10-13T16:31:40.056Z"
   },
   {
    "duration": 198,
    "start_time": "2023-10-13T16:31:40.075Z"
   },
   {
    "duration": 170,
    "start_time": "2023-10-13T16:31:40.275Z"
   },
   {
    "duration": 162,
    "start_time": "2023-10-13T16:31:40.447Z"
   },
   {
    "duration": 27,
    "start_time": "2023-10-13T16:31:40.612Z"
   },
   {
    "duration": 40,
    "start_time": "2023-10-13T16:31:40.641Z"
   },
   {
    "duration": 24,
    "start_time": "2023-10-13T16:31:40.683Z"
   },
   {
    "duration": 49,
    "start_time": "2023-10-13T16:31:40.709Z"
   },
   {
    "duration": 341,
    "start_time": "2023-10-13T16:31:40.760Z"
   },
   {
    "duration": 109,
    "start_time": "2023-10-13T16:31:41.102Z"
   },
   {
    "duration": 287,
    "start_time": "2023-10-13T16:31:41.213Z"
   },
   {
    "duration": 123,
    "start_time": "2023-10-13T16:31:41.502Z"
   },
   {
    "duration": 298,
    "start_time": "2023-10-13T16:31:41.627Z"
   },
   {
    "duration": 136,
    "start_time": "2023-10-13T16:31:41.927Z"
   },
   {
    "duration": 286,
    "start_time": "2023-10-13T16:31:42.065Z"
   },
   {
    "duration": 126,
    "start_time": "2023-10-13T16:31:42.356Z"
   },
   {
    "duration": 144,
    "start_time": "2023-10-13T16:31:42.484Z"
   },
   {
    "duration": 9,
    "start_time": "2023-10-13T16:31:42.630Z"
   },
   {
    "duration": 6,
    "start_time": "2023-10-13T16:31:42.657Z"
   },
   {
    "duration": 108,
    "start_time": "2023-10-13T16:31:42.665Z"
   },
   {
    "duration": 42,
    "start_time": "2023-10-13T16:34:44.940Z"
   },
   {
    "duration": 671,
    "start_time": "2023-10-13T16:50:11.097Z"
   },
   {
    "duration": 42,
    "start_time": "2023-10-13T16:50:11.771Z"
   },
   {
    "duration": 13,
    "start_time": "2023-10-13T16:50:11.814Z"
   },
   {
    "duration": 78,
    "start_time": "2023-10-13T16:50:11.829Z"
   },
   {
    "duration": 14,
    "start_time": "2023-10-13T16:50:11.909Z"
   },
   {
    "duration": 36,
    "start_time": "2023-10-13T16:50:11.924Z"
   },
   {
    "duration": 30,
    "start_time": "2023-10-13T16:50:11.962Z"
   },
   {
    "duration": 28,
    "start_time": "2023-10-13T16:50:11.994Z"
   },
   {
    "duration": 16,
    "start_time": "2023-10-13T16:50:12.024Z"
   },
   {
    "duration": 6,
    "start_time": "2023-10-13T16:50:12.043Z"
   },
   {
    "duration": 23,
    "start_time": "2023-10-13T16:50:12.050Z"
   },
   {
    "duration": 39,
    "start_time": "2023-10-13T16:50:12.074Z"
   },
   {
    "duration": 20,
    "start_time": "2023-10-13T16:50:12.115Z"
   },
   {
    "duration": 11,
    "start_time": "2023-10-13T16:50:12.137Z"
   },
   {
    "duration": 50,
    "start_time": "2023-10-13T16:50:12.149Z"
   },
   {
    "duration": 198,
    "start_time": "2023-10-13T16:50:12.201Z"
   },
   {
    "duration": 157,
    "start_time": "2023-10-13T16:50:12.401Z"
   },
   {
    "duration": 167,
    "start_time": "2023-10-13T16:50:12.560Z"
   },
   {
    "duration": 36,
    "start_time": "2023-10-13T16:50:12.729Z"
   },
   {
    "duration": 26,
    "start_time": "2023-10-13T16:50:12.767Z"
   },
   {
    "duration": 27,
    "start_time": "2023-10-13T16:50:12.795Z"
   },
   {
    "duration": 50,
    "start_time": "2023-10-13T16:50:12.825Z"
   },
   {
    "duration": 352,
    "start_time": "2023-10-13T16:50:12.876Z"
   },
   {
    "duration": 109,
    "start_time": "2023-10-13T16:50:13.230Z"
   },
   {
    "duration": 305,
    "start_time": "2023-10-13T16:50:13.341Z"
   },
   {
    "duration": 131,
    "start_time": "2023-10-13T16:50:13.648Z"
   },
   {
    "duration": 290,
    "start_time": "2023-10-13T16:50:13.780Z"
   },
   {
    "duration": 131,
    "start_time": "2023-10-13T16:50:14.074Z"
   },
   {
    "duration": 278,
    "start_time": "2023-10-13T16:50:14.207Z"
   },
   {
    "duration": 130,
    "start_time": "2023-10-13T16:50:14.487Z"
   },
   {
    "duration": 146,
    "start_time": "2023-10-13T16:50:14.619Z"
   },
   {
    "duration": 3,
    "start_time": "2023-10-13T16:50:14.767Z"
   },
   {
    "duration": 188,
    "start_time": "2023-10-13T16:50:14.772Z"
   },
   {
    "duration": 43,
    "start_time": "2023-10-13T16:52:55.695Z"
   },
   {
    "duration": 705,
    "start_time": "2023-10-13T16:54:35.259Z"
   },
   {
    "duration": 43,
    "start_time": "2023-10-13T16:54:35.966Z"
   },
   {
    "duration": 13,
    "start_time": "2023-10-13T16:54:36.011Z"
   },
   {
    "duration": 71,
    "start_time": "2023-10-13T16:54:36.026Z"
   },
   {
    "duration": 12,
    "start_time": "2023-10-13T16:54:36.100Z"
   },
   {
    "duration": 23,
    "start_time": "2023-10-13T16:54:36.114Z"
   },
   {
    "duration": 17,
    "start_time": "2023-10-13T16:54:36.139Z"
   },
   {
    "duration": 23,
    "start_time": "2023-10-13T16:54:36.158Z"
   },
   {
    "duration": 16,
    "start_time": "2023-10-13T16:54:36.183Z"
   },
   {
    "duration": 6,
    "start_time": "2023-10-13T16:54:36.201Z"
   },
   {
    "duration": 20,
    "start_time": "2023-10-13T16:54:36.209Z"
   },
   {
    "duration": 25,
    "start_time": "2023-10-13T16:54:36.231Z"
   },
   {
    "duration": 5,
    "start_time": "2023-10-13T16:54:36.257Z"
   },
   {
    "duration": 17,
    "start_time": "2023-10-13T16:54:36.265Z"
   },
   {
    "duration": 22,
    "start_time": "2023-10-13T16:54:36.283Z"
   },
   {
    "duration": 161,
    "start_time": "2023-10-13T16:54:36.306Z"
   },
   {
    "duration": 162,
    "start_time": "2023-10-13T16:54:36.469Z"
   },
   {
    "duration": 160,
    "start_time": "2023-10-13T16:54:36.633Z"
   },
   {
    "duration": 30,
    "start_time": "2023-10-13T16:54:36.795Z"
   },
   {
    "duration": 44,
    "start_time": "2023-10-13T16:54:36.827Z"
   },
   {
    "duration": 25,
    "start_time": "2023-10-13T16:54:36.873Z"
   },
   {
    "duration": 22,
    "start_time": "2023-10-13T16:54:36.900Z"
   },
   {
    "duration": 340,
    "start_time": "2023-10-13T16:54:36.961Z"
   },
   {
    "duration": 120,
    "start_time": "2023-10-13T16:54:37.303Z"
   },
   {
    "duration": 304,
    "start_time": "2023-10-13T16:54:37.425Z"
   },
   {
    "duration": 127,
    "start_time": "2023-10-13T16:54:37.731Z"
   },
   {
    "duration": 292,
    "start_time": "2023-10-13T16:54:37.859Z"
   },
   {
    "duration": 123,
    "start_time": "2023-10-13T16:54:38.156Z"
   },
   {
    "duration": 281,
    "start_time": "2023-10-13T16:54:38.280Z"
   },
   {
    "duration": 127,
    "start_time": "2023-10-13T16:54:38.562Z"
   },
   {
    "duration": 141,
    "start_time": "2023-10-13T16:54:38.691Z"
   },
   {
    "duration": 4,
    "start_time": "2023-10-13T16:54:38.835Z"
   },
   {
    "duration": 162,
    "start_time": "2023-10-13T16:54:38.858Z"
   },
   {
    "duration": 1213,
    "start_time": "2023-10-13T17:11:10.253Z"
   },
   {
    "duration": 44,
    "start_time": "2023-10-13T17:11:11.468Z"
   },
   {
    "duration": 14,
    "start_time": "2023-10-13T17:11:11.514Z"
   },
   {
    "duration": 72,
    "start_time": "2023-10-13T17:11:11.531Z"
   },
   {
    "duration": 14,
    "start_time": "2023-10-13T17:11:11.605Z"
   },
   {
    "duration": 33,
    "start_time": "2023-10-13T17:11:11.620Z"
   },
   {
    "duration": 20,
    "start_time": "2023-10-13T17:11:11.655Z"
   },
   {
    "duration": 41,
    "start_time": "2023-10-13T17:11:11.677Z"
   },
   {
    "duration": 29,
    "start_time": "2023-10-13T17:11:11.720Z"
   },
   {
    "duration": 17,
    "start_time": "2023-10-13T17:11:11.752Z"
   },
   {
    "duration": 41,
    "start_time": "2023-10-13T17:11:11.771Z"
   },
   {
    "duration": 9,
    "start_time": "2023-10-13T17:11:11.814Z"
   },
   {
    "duration": 22,
    "start_time": "2023-10-13T17:11:11.825Z"
   },
   {
    "duration": 24,
    "start_time": "2023-10-13T17:11:11.850Z"
   },
   {
    "duration": 19,
    "start_time": "2023-10-13T17:11:11.877Z"
   },
   {
    "duration": 178,
    "start_time": "2023-10-13T17:11:11.898Z"
   },
   {
    "duration": 162,
    "start_time": "2023-10-13T17:11:12.078Z"
   },
   {
    "duration": 168,
    "start_time": "2023-10-13T17:11:12.242Z"
   },
   {
    "duration": 29,
    "start_time": "2023-10-13T17:11:12.413Z"
   },
   {
    "duration": 37,
    "start_time": "2023-10-13T17:11:12.457Z"
   },
   {
    "duration": 64,
    "start_time": "2023-10-13T17:11:12.496Z"
   },
   {
    "duration": 23,
    "start_time": "2023-10-13T17:11:12.562Z"
   },
   {
    "duration": 319,
    "start_time": "2023-10-13T17:11:12.588Z"
   },
   {
    "duration": 174,
    "start_time": "2023-10-13T17:11:12.909Z"
   },
   {
    "duration": 312,
    "start_time": "2023-10-13T17:11:13.085Z"
   },
   {
    "duration": 128,
    "start_time": "2023-10-13T17:11:13.399Z"
   },
   {
    "duration": 536,
    "start_time": "2023-10-13T17:11:13.529Z"
   },
   {
    "duration": 126,
    "start_time": "2023-10-13T17:11:14.069Z"
   },
   {
    "duration": 309,
    "start_time": "2023-10-13T17:11:14.197Z"
   },
   {
    "duration": 124,
    "start_time": "2023-10-13T17:11:14.508Z"
   },
   {
    "duration": 50,
    "start_time": "2023-10-13T17:11:14.634Z"
   },
   {
    "duration": 4,
    "start_time": "2023-10-13T17:11:14.685Z"
   },
   {
    "duration": 281,
    "start_time": "2023-10-13T17:11:14.691Z"
   },
   {
    "duration": 1377,
    "start_time": "2023-10-14T08:40:50.584Z"
   },
   {
    "duration": 99,
    "start_time": "2023-10-14T08:40:51.964Z"
   },
   {
    "duration": 11,
    "start_time": "2023-10-14T08:40:52.065Z"
   },
   {
    "duration": 103,
    "start_time": "2023-10-14T08:40:52.078Z"
   },
   {
    "duration": 12,
    "start_time": "2023-10-14T08:40:52.183Z"
   },
   {
    "duration": 73,
    "start_time": "2023-10-14T08:40:52.196Z"
   },
   {
    "duration": 12,
    "start_time": "2023-10-14T08:40:52.271Z"
   },
   {
    "duration": 36,
    "start_time": "2023-10-14T08:40:52.285Z"
   },
   {
    "duration": 26,
    "start_time": "2023-10-14T08:40:52.323Z"
   },
   {
    "duration": 38,
    "start_time": "2023-10-14T08:40:52.353Z"
   },
   {
    "duration": 29,
    "start_time": "2023-10-14T08:40:52.393Z"
   },
   {
    "duration": 24,
    "start_time": "2023-10-14T08:40:52.424Z"
   },
   {
    "duration": 17,
    "start_time": "2023-10-14T08:40:52.450Z"
   },
   {
    "duration": 10,
    "start_time": "2023-10-14T08:40:52.469Z"
   },
   {
    "duration": 27,
    "start_time": "2023-10-14T08:40:52.481Z"
   },
   {
    "duration": 177,
    "start_time": "2023-10-14T08:40:52.510Z"
   },
   {
    "duration": 153,
    "start_time": "2023-10-14T08:40:52.688Z"
   },
   {
    "duration": 160,
    "start_time": "2023-10-14T08:40:52.847Z"
   },
   {
    "duration": 25,
    "start_time": "2023-10-14T08:40:53.009Z"
   },
   {
    "duration": 34,
    "start_time": "2023-10-14T08:40:53.035Z"
   },
   {
    "duration": 37,
    "start_time": "2023-10-14T08:40:53.071Z"
   },
   {
    "duration": 21,
    "start_time": "2023-10-14T08:40:53.110Z"
   },
   {
    "duration": 283,
    "start_time": "2023-10-14T08:40:53.146Z"
   },
   {
    "duration": 122,
    "start_time": "2023-10-14T08:40:53.432Z"
   },
   {
    "duration": 304,
    "start_time": "2023-10-14T08:40:53.556Z"
   },
   {
    "duration": 127,
    "start_time": "2023-10-14T08:40:53.862Z"
   },
   {
    "duration": 372,
    "start_time": "2023-10-14T08:40:53.991Z"
   },
   {
    "duration": 124,
    "start_time": "2023-10-14T08:40:54.366Z"
   },
   {
    "duration": 285,
    "start_time": "2023-10-14T08:40:54.491Z"
   },
   {
    "duration": 128,
    "start_time": "2023-10-14T08:40:54.777Z"
   },
   {
    "duration": 53,
    "start_time": "2023-10-14T08:40:54.907Z"
   },
   {
    "duration": 4,
    "start_time": "2023-10-14T08:40:54.961Z"
   },
   {
    "duration": 173,
    "start_time": "2023-10-14T08:40:54.966Z"
   },
   {
    "duration": 6,
    "start_time": "2023-10-14T08:40:55.141Z"
   },
   {
    "duration": 11,
    "start_time": "2023-10-14T08:42:13.617Z"
   },
   {
    "duration": 6,
    "start_time": "2023-10-14T08:45:15.492Z"
   },
   {
    "duration": 7,
    "start_time": "2023-10-14T08:46:58.253Z"
   },
   {
    "duration": 1206,
    "start_time": "2023-10-14T08:47:32.476Z"
   },
   {
    "duration": 41,
    "start_time": "2023-10-14T08:47:33.684Z"
   },
   {
    "duration": 12,
    "start_time": "2023-10-14T08:47:33.727Z"
   },
   {
    "duration": 41,
    "start_time": "2023-10-14T08:47:33.742Z"
   },
   {
    "duration": 13,
    "start_time": "2023-10-14T08:47:33.785Z"
   },
   {
    "duration": 25,
    "start_time": "2023-10-14T08:47:33.800Z"
   },
   {
    "duration": 13,
    "start_time": "2023-10-14T08:47:33.827Z"
   },
   {
    "duration": 33,
    "start_time": "2023-10-14T08:47:33.842Z"
   },
   {
    "duration": 16,
    "start_time": "2023-10-14T08:47:33.877Z"
   },
   {
    "duration": 7,
    "start_time": "2023-10-14T08:47:33.895Z"
   },
   {
    "duration": 10,
    "start_time": "2023-10-14T08:47:33.904Z"
   },
   {
    "duration": 8,
    "start_time": "2023-10-14T08:47:33.916Z"
   },
   {
    "duration": 31,
    "start_time": "2023-10-14T08:47:33.926Z"
   },
   {
    "duration": 6,
    "start_time": "2023-10-14T08:47:33.959Z"
   },
   {
    "duration": 7,
    "start_time": "2023-10-14T08:47:33.967Z"
   },
   {
    "duration": 199,
    "start_time": "2023-10-14T08:47:33.976Z"
   },
   {
    "duration": 165,
    "start_time": "2023-10-14T08:47:34.177Z"
   },
   {
    "duration": 164,
    "start_time": "2023-10-14T08:47:34.346Z"
   },
   {
    "duration": 26,
    "start_time": "2023-10-14T08:47:34.512Z"
   },
   {
    "duration": 33,
    "start_time": "2023-10-14T08:47:34.547Z"
   },
   {
    "duration": 23,
    "start_time": "2023-10-14T08:47:34.582Z"
   },
   {
    "duration": 45,
    "start_time": "2023-10-14T08:47:34.607Z"
   },
   {
    "duration": 293,
    "start_time": "2023-10-14T08:47:34.654Z"
   },
   {
    "duration": 115,
    "start_time": "2023-10-14T08:47:34.959Z"
   },
   {
    "duration": 334,
    "start_time": "2023-10-14T08:47:35.076Z"
   },
   {
    "duration": 170,
    "start_time": "2023-10-14T08:47:35.412Z"
   },
   {
    "duration": 402,
    "start_time": "2023-10-14T08:47:35.584Z"
   },
   {
    "duration": 132,
    "start_time": "2023-10-14T08:47:35.990Z"
   },
   {
    "duration": 301,
    "start_time": "2023-10-14T08:47:36.124Z"
   },
   {
    "duration": 139,
    "start_time": "2023-10-14T08:47:36.427Z"
   },
   {
    "duration": 42,
    "start_time": "2023-10-14T08:47:36.568Z"
   },
   {
    "duration": 5,
    "start_time": "2023-10-14T08:47:36.612Z"
   },
   {
    "duration": 195,
    "start_time": "2023-10-14T08:47:36.618Z"
   },
   {
    "duration": 11,
    "start_time": "2023-10-14T08:47:36.815Z"
   },
   {
    "duration": 30,
    "start_time": "2023-10-14T08:47:36.828Z"
   },
   {
    "duration": 12,
    "start_time": "2023-10-14T08:48:04.906Z"
   },
   {
    "duration": 1263,
    "start_time": "2023-10-14T08:57:29.878Z"
   },
   {
    "duration": 42,
    "start_time": "2023-10-14T08:57:31.143Z"
   },
   {
    "duration": 109,
    "start_time": "2023-10-14T08:57:31.187Z"
   },
   {
    "duration": 76,
    "start_time": "2023-10-14T08:57:31.298Z"
   },
   {
    "duration": 12,
    "start_time": "2023-10-14T08:57:31.377Z"
   },
   {
    "duration": 41,
    "start_time": "2023-10-14T08:57:31.391Z"
   },
   {
    "duration": 21,
    "start_time": "2023-10-14T08:57:31.434Z"
   },
   {
    "duration": 42,
    "start_time": "2023-10-14T08:57:31.457Z"
   },
   {
    "duration": 36,
    "start_time": "2023-10-14T08:57:31.500Z"
   },
   {
    "duration": 25,
    "start_time": "2023-10-14T08:57:31.538Z"
   },
   {
    "duration": 31,
    "start_time": "2023-10-14T08:57:31.565Z"
   },
   {
    "duration": 27,
    "start_time": "2023-10-14T08:57:31.598Z"
   },
   {
    "duration": 22,
    "start_time": "2023-10-14T08:57:31.627Z"
   },
   {
    "duration": 29,
    "start_time": "2023-10-14T08:57:31.652Z"
   },
   {
    "duration": 28,
    "start_time": "2023-10-14T08:57:31.682Z"
   },
   {
    "duration": 195,
    "start_time": "2023-10-14T08:57:31.711Z"
   },
   {
    "duration": 163,
    "start_time": "2023-10-14T08:57:31.908Z"
   },
   {
    "duration": 178,
    "start_time": "2023-10-14T08:57:32.073Z"
   },
   {
    "duration": 25,
    "start_time": "2023-10-14T08:57:32.253Z"
   },
   {
    "duration": 35,
    "start_time": "2023-10-14T08:57:32.280Z"
   },
   {
    "duration": 48,
    "start_time": "2023-10-14T08:57:32.317Z"
   },
   {
    "duration": 35,
    "start_time": "2023-10-14T08:57:32.367Z"
   },
   {
    "duration": 391,
    "start_time": "2023-10-14T08:57:32.404Z"
   },
   {
    "duration": 151,
    "start_time": "2023-10-14T08:57:32.797Z"
   },
   {
    "duration": 309,
    "start_time": "2023-10-14T08:57:32.950Z"
   },
   {
    "duration": 140,
    "start_time": "2023-10-14T08:57:33.261Z"
   },
   {
    "duration": 389,
    "start_time": "2023-10-14T08:57:33.403Z"
   },
   {
    "duration": 133,
    "start_time": "2023-10-14T08:57:33.794Z"
   },
   {
    "duration": 304,
    "start_time": "2023-10-14T08:57:33.928Z"
   },
   {
    "duration": 148,
    "start_time": "2023-10-14T08:57:34.234Z"
   },
   {
    "duration": 43,
    "start_time": "2023-10-14T08:57:34.384Z"
   },
   {
    "duration": 18,
    "start_time": "2023-10-14T08:57:34.429Z"
   },
   {
    "duration": 179,
    "start_time": "2023-10-14T08:57:34.449Z"
   },
   {
    "duration": 117,
    "start_time": "2023-10-14T08:57:34.630Z"
   },
   {
    "duration": 1214,
    "start_time": "2023-10-14T08:58:18.534Z"
   },
   {
    "duration": 42,
    "start_time": "2023-10-14T08:58:19.750Z"
   },
   {
    "duration": 12,
    "start_time": "2023-10-14T08:58:19.794Z"
   },
   {
    "duration": 61,
    "start_time": "2023-10-14T08:58:19.808Z"
   },
   {
    "duration": 13,
    "start_time": "2023-10-14T08:58:19.871Z"
   },
   {
    "duration": 26,
    "start_time": "2023-10-14T08:58:19.885Z"
   },
   {
    "duration": 12,
    "start_time": "2023-10-14T08:58:19.913Z"
   },
   {
    "duration": 32,
    "start_time": "2023-10-14T08:58:19.926Z"
   },
   {
    "duration": 17,
    "start_time": "2023-10-14T08:58:19.960Z"
   },
   {
    "duration": 17,
    "start_time": "2023-10-14T08:58:19.978Z"
   },
   {
    "duration": 9,
    "start_time": "2023-10-14T08:58:19.997Z"
   },
   {
    "duration": 10,
    "start_time": "2023-10-14T08:58:20.008Z"
   },
   {
    "duration": 41,
    "start_time": "2023-10-14T08:58:20.020Z"
   },
   {
    "duration": 17,
    "start_time": "2023-10-14T08:58:20.066Z"
   },
   {
    "duration": 12,
    "start_time": "2023-10-14T08:58:20.086Z"
   },
   {
    "duration": 179,
    "start_time": "2023-10-14T08:58:20.100Z"
   },
   {
    "duration": 185,
    "start_time": "2023-10-14T08:58:20.280Z"
   },
   {
    "duration": 167,
    "start_time": "2023-10-14T08:58:20.467Z"
   },
   {
    "duration": 33,
    "start_time": "2023-10-14T08:58:20.636Z"
   },
   {
    "duration": 26,
    "start_time": "2023-10-14T08:58:20.671Z"
   },
   {
    "duration": 30,
    "start_time": "2023-10-14T08:58:20.698Z"
   },
   {
    "duration": 38,
    "start_time": "2023-10-14T08:58:20.730Z"
   },
   {
    "duration": 306,
    "start_time": "2023-10-14T08:58:20.770Z"
   },
   {
    "duration": 122,
    "start_time": "2023-10-14T08:58:21.079Z"
   },
   {
    "duration": 318,
    "start_time": "2023-10-14T08:58:21.203Z"
   },
   {
    "duration": 130,
    "start_time": "2023-10-14T08:58:21.523Z"
   },
   {
    "duration": 378,
    "start_time": "2023-10-14T08:58:21.655Z"
   },
   {
    "duration": 134,
    "start_time": "2023-10-14T08:58:22.035Z"
   },
   {
    "duration": 291,
    "start_time": "2023-10-14T08:58:22.171Z"
   },
   {
    "duration": 130,
    "start_time": "2023-10-14T08:58:22.464Z"
   },
   {
    "duration": 55,
    "start_time": "2023-10-14T08:58:22.595Z"
   },
   {
    "duration": 5,
    "start_time": "2023-10-14T08:58:22.652Z"
   },
   {
    "duration": 214,
    "start_time": "2023-10-14T08:58:22.659Z"
   },
   {
    "duration": 111,
    "start_time": "2023-10-14T08:58:22.875Z"
   },
   {
    "duration": 1199,
    "start_time": "2023-10-14T08:58:55.167Z"
   },
   {
    "duration": 41,
    "start_time": "2023-10-14T08:58:56.368Z"
   },
   {
    "duration": 12,
    "start_time": "2023-10-14T08:58:56.410Z"
   },
   {
    "duration": 41,
    "start_time": "2023-10-14T08:58:56.424Z"
   },
   {
    "duration": 12,
    "start_time": "2023-10-14T08:58:56.469Z"
   },
   {
    "duration": 24,
    "start_time": "2023-10-14T08:58:56.482Z"
   },
   {
    "duration": 11,
    "start_time": "2023-10-14T08:58:56.508Z"
   },
   {
    "duration": 30,
    "start_time": "2023-10-14T08:58:56.521Z"
   },
   {
    "duration": 16,
    "start_time": "2023-10-14T08:58:56.553Z"
   },
   {
    "duration": 5,
    "start_time": "2023-10-14T08:58:56.571Z"
   },
   {
    "duration": 17,
    "start_time": "2023-10-14T08:58:56.578Z"
   },
   {
    "duration": 27,
    "start_time": "2023-10-14T08:58:56.597Z"
   },
   {
    "duration": 22,
    "start_time": "2023-10-14T08:58:56.625Z"
   },
   {
    "duration": 6,
    "start_time": "2023-10-14T08:58:56.650Z"
   },
   {
    "duration": 19,
    "start_time": "2023-10-14T08:58:56.658Z"
   },
   {
    "duration": 173,
    "start_time": "2023-10-14T08:58:56.679Z"
   },
   {
    "duration": 160,
    "start_time": "2023-10-14T08:58:56.854Z"
   },
   {
    "duration": 161,
    "start_time": "2023-10-14T08:58:57.016Z"
   },
   {
    "duration": 25,
    "start_time": "2023-10-14T08:58:57.179Z"
   },
   {
    "duration": 44,
    "start_time": "2023-10-14T08:58:57.206Z"
   },
   {
    "duration": 23,
    "start_time": "2023-10-14T08:58:57.251Z"
   },
   {
    "duration": 20,
    "start_time": "2023-10-14T08:58:57.276Z"
   },
   {
    "duration": 322,
    "start_time": "2023-10-14T08:58:57.298Z"
   },
   {
    "duration": 132,
    "start_time": "2023-10-14T08:58:57.622Z"
   },
   {
    "duration": 599,
    "start_time": "2023-10-14T08:58:57.756Z"
   },
   {
    "duration": 217,
    "start_time": "2023-10-14T08:58:58.357Z"
   },
   {
    "duration": 776,
    "start_time": "2023-10-14T08:58:58.576Z"
   },
   {
    "duration": 226,
    "start_time": "2023-10-14T08:58:59.353Z"
   },
   {
    "duration": 341,
    "start_time": "2023-10-14T08:58:59.581Z"
   },
   {
    "duration": 132,
    "start_time": "2023-10-14T08:58:59.923Z"
   },
   {
    "duration": 48,
    "start_time": "2023-10-14T08:59:00.058Z"
   },
   {
    "duration": 187,
    "start_time": "2023-10-14T08:59:00.108Z"
   },
   {
    "duration": 248,
    "start_time": "2023-10-14T08:59:00.297Z"
   },
   {
    "duration": 117,
    "start_time": "2023-10-14T08:59:00.546Z"
   },
   {
    "duration": 1154,
    "start_time": "2023-10-14T08:59:23.572Z"
   },
   {
    "duration": 41,
    "start_time": "2023-10-14T08:59:24.729Z"
   },
   {
    "duration": 12,
    "start_time": "2023-10-14T08:59:24.772Z"
   },
   {
    "duration": 49,
    "start_time": "2023-10-14T08:59:24.785Z"
   },
   {
    "duration": 14,
    "start_time": "2023-10-14T08:59:24.837Z"
   },
   {
    "duration": 32,
    "start_time": "2023-10-14T08:59:24.853Z"
   },
   {
    "duration": 12,
    "start_time": "2023-10-14T08:59:24.887Z"
   },
   {
    "duration": 29,
    "start_time": "2023-10-14T08:59:24.901Z"
   },
   {
    "duration": 16,
    "start_time": "2023-10-14T08:59:24.931Z"
   },
   {
    "duration": 10,
    "start_time": "2023-10-14T08:59:24.949Z"
   },
   {
    "duration": 19,
    "start_time": "2023-10-14T08:59:24.961Z"
   },
   {
    "duration": 25,
    "start_time": "2023-10-14T08:59:24.982Z"
   },
   {
    "duration": 27,
    "start_time": "2023-10-14T08:59:25.009Z"
   },
   {
    "duration": 21,
    "start_time": "2023-10-14T08:59:25.039Z"
   },
   {
    "duration": 34,
    "start_time": "2023-10-14T08:59:25.063Z"
   },
   {
    "duration": 222,
    "start_time": "2023-10-14T08:59:25.100Z"
   },
   {
    "duration": 198,
    "start_time": "2023-10-14T08:59:25.324Z"
   },
   {
    "duration": 163,
    "start_time": "2023-10-14T08:59:25.524Z"
   },
   {
    "duration": 27,
    "start_time": "2023-10-14T08:59:25.689Z"
   },
   {
    "duration": 44,
    "start_time": "2023-10-14T08:59:25.717Z"
   },
   {
    "duration": 22,
    "start_time": "2023-10-14T08:59:25.763Z"
   },
   {
    "duration": 20,
    "start_time": "2023-10-14T08:59:25.787Z"
   },
   {
    "duration": 318,
    "start_time": "2023-10-14T08:59:25.809Z"
   },
   {
    "duration": 119,
    "start_time": "2023-10-14T08:59:26.128Z"
   },
   {
    "duration": 313,
    "start_time": "2023-10-14T08:59:26.248Z"
   },
   {
    "duration": 142,
    "start_time": "2023-10-14T08:59:26.563Z"
   },
   {
    "duration": 387,
    "start_time": "2023-10-14T08:59:26.707Z"
   },
   {
    "duration": 128,
    "start_time": "2023-10-14T08:59:27.096Z"
   },
   {
    "duration": 309,
    "start_time": "2023-10-14T08:59:27.226Z"
   },
   {
    "duration": 134,
    "start_time": "2023-10-14T08:59:27.536Z"
   },
   {
    "duration": 40,
    "start_time": "2023-10-14T08:59:27.672Z"
   },
   {
    "duration": 3,
    "start_time": "2023-10-14T08:59:27.714Z"
   },
   {
    "duration": 186,
    "start_time": "2023-10-14T08:59:27.719Z"
   },
   {
    "duration": 8,
    "start_time": "2023-10-14T08:59:27.907Z"
   },
   {
    "duration": 11,
    "start_time": "2023-10-14T09:20:11.773Z"
   },
   {
    "duration": 1231,
    "start_time": "2023-10-14T09:25:56.971Z"
   },
   {
    "duration": 41,
    "start_time": "2023-10-14T09:25:58.204Z"
   },
   {
    "duration": 13,
    "start_time": "2023-10-14T09:25:58.248Z"
   },
   {
    "duration": 50,
    "start_time": "2023-10-14T09:25:58.264Z"
   },
   {
    "duration": 13,
    "start_time": "2023-10-14T09:25:58.316Z"
   },
   {
    "duration": 34,
    "start_time": "2023-10-14T09:25:58.331Z"
   },
   {
    "duration": 15,
    "start_time": "2023-10-14T09:25:58.367Z"
   },
   {
    "duration": 21,
    "start_time": "2023-10-14T09:25:58.384Z"
   },
   {
    "duration": 16,
    "start_time": "2023-10-14T09:25:58.406Z"
   },
   {
    "duration": 6,
    "start_time": "2023-10-14T09:25:58.425Z"
   },
   {
    "duration": 23,
    "start_time": "2023-10-14T09:25:58.432Z"
   },
   {
    "duration": 11,
    "start_time": "2023-10-14T09:25:58.457Z"
   },
   {
    "duration": 8,
    "start_time": "2023-10-14T09:25:58.470Z"
   },
   {
    "duration": 8,
    "start_time": "2023-10-14T09:25:58.480Z"
   },
   {
    "duration": 9,
    "start_time": "2023-10-14T09:25:58.489Z"
   },
   {
    "duration": 195,
    "start_time": "2023-10-14T09:25:58.499Z"
   },
   {
    "duration": 163,
    "start_time": "2023-10-14T09:25:58.697Z"
   },
   {
    "duration": 171,
    "start_time": "2023-10-14T09:25:58.862Z"
   },
   {
    "duration": 43,
    "start_time": "2023-10-14T09:25:59.035Z"
   },
   {
    "duration": 29,
    "start_time": "2023-10-14T09:25:59.079Z"
   },
   {
    "duration": 41,
    "start_time": "2023-10-14T09:25:59.109Z"
   },
   {
    "duration": 23,
    "start_time": "2023-10-14T09:25:59.152Z"
   },
   {
    "duration": 297,
    "start_time": "2023-10-14T09:25:59.177Z"
   },
   {
    "duration": 121,
    "start_time": "2023-10-14T09:25:59.476Z"
   },
   {
    "duration": 310,
    "start_time": "2023-10-14T09:25:59.599Z"
   },
   {
    "duration": 128,
    "start_time": "2023-10-14T09:25:59.911Z"
   },
   {
    "duration": 436,
    "start_time": "2023-10-14T09:26:00.047Z"
   },
   {
    "duration": 139,
    "start_time": "2023-10-14T09:26:00.487Z"
   },
   {
    "duration": 325,
    "start_time": "2023-10-14T09:26:00.628Z"
   },
   {
    "duration": 139,
    "start_time": "2023-10-14T09:26:00.956Z"
   },
   {
    "duration": 57,
    "start_time": "2023-10-14T09:26:01.097Z"
   },
   {
    "duration": 88,
    "start_time": "2023-10-14T09:26:01.157Z"
   },
   {
    "duration": 249,
    "start_time": "2023-10-14T09:26:01.247Z"
   },
   {
    "duration": 9,
    "start_time": "2023-10-14T09:26:01.498Z"
   },
   {
    "duration": 83,
    "start_time": "2023-10-14T09:26:01.509Z"
   },
   {
    "duration": 8,
    "start_time": "2023-10-14T09:31:08.720Z"
   },
   {
    "duration": 1219,
    "start_time": "2023-10-14T09:32:06.417Z"
   },
   {
    "duration": 41,
    "start_time": "2023-10-14T09:32:07.638Z"
   },
   {
    "duration": 11,
    "start_time": "2023-10-14T09:32:07.681Z"
   },
   {
    "duration": 60,
    "start_time": "2023-10-14T09:32:07.693Z"
   },
   {
    "duration": 12,
    "start_time": "2023-10-14T09:32:07.756Z"
   },
   {
    "duration": 29,
    "start_time": "2023-10-14T09:32:07.770Z"
   },
   {
    "duration": 13,
    "start_time": "2023-10-14T09:32:07.800Z"
   },
   {
    "duration": 42,
    "start_time": "2023-10-14T09:32:07.815Z"
   },
   {
    "duration": 27,
    "start_time": "2023-10-14T09:32:07.859Z"
   },
   {
    "duration": 16,
    "start_time": "2023-10-14T09:32:07.888Z"
   },
   {
    "duration": 22,
    "start_time": "2023-10-14T09:32:07.905Z"
   },
   {
    "duration": 21,
    "start_time": "2023-10-14T09:32:07.929Z"
   },
   {
    "duration": 15,
    "start_time": "2023-10-14T09:32:07.951Z"
   },
   {
    "duration": 26,
    "start_time": "2023-10-14T09:32:07.969Z"
   },
   {
    "duration": 19,
    "start_time": "2023-10-14T09:32:07.997Z"
   },
   {
    "duration": 176,
    "start_time": "2023-10-14T09:32:08.017Z"
   },
   {
    "duration": 155,
    "start_time": "2023-10-14T09:32:08.195Z"
   },
   {
    "duration": 158,
    "start_time": "2023-10-14T09:32:08.352Z"
   },
   {
    "duration": 35,
    "start_time": "2023-10-14T09:32:08.512Z"
   },
   {
    "duration": 58,
    "start_time": "2023-10-14T09:32:08.549Z"
   },
   {
    "duration": 37,
    "start_time": "2023-10-14T09:32:08.610Z"
   },
   {
    "duration": 46,
    "start_time": "2023-10-14T09:32:08.649Z"
   },
   {
    "duration": 276,
    "start_time": "2023-10-14T09:32:08.698Z"
   },
   {
    "duration": 135,
    "start_time": "2023-10-14T09:32:08.976Z"
   },
   {
    "duration": 303,
    "start_time": "2023-10-14T09:32:09.113Z"
   },
   {
    "duration": 130,
    "start_time": "2023-10-14T09:32:09.417Z"
   },
   {
    "duration": 369,
    "start_time": "2023-10-14T09:32:09.549Z"
   },
   {
    "duration": 132,
    "start_time": "2023-10-14T09:32:09.920Z"
   },
   {
    "duration": 306,
    "start_time": "2023-10-14T09:32:10.054Z"
   },
   {
    "duration": 138,
    "start_time": "2023-10-14T09:32:10.362Z"
   },
   {
    "duration": 47,
    "start_time": "2023-10-14T09:32:10.501Z"
   },
   {
    "duration": 3,
    "start_time": "2023-10-14T09:32:10.550Z"
   },
   {
    "duration": 168,
    "start_time": "2023-10-14T09:32:10.555Z"
   },
   {
    "duration": 8,
    "start_time": "2023-10-14T09:32:10.726Z"
   },
   {
    "duration": 19,
    "start_time": "2023-10-14T09:32:10.746Z"
   },
   {
    "duration": 6,
    "start_time": "2023-10-14T09:32:56.189Z"
   },
   {
    "duration": 7,
    "start_time": "2023-10-14T09:33:01.052Z"
   },
   {
    "duration": 6,
    "start_time": "2023-10-14T09:33:21.195Z"
   },
   {
    "duration": 7,
    "start_time": "2023-10-14T09:44:03.091Z"
   },
   {
    "duration": 6,
    "start_time": "2023-10-14T09:50:14.804Z"
   },
   {
    "duration": 7,
    "start_time": "2023-10-14T09:50:26.856Z"
   },
   {
    "duration": 52,
    "start_time": "2023-10-14T13:10:15.629Z"
   },
   {
    "duration": 1369,
    "start_time": "2023-10-14T13:10:26.924Z"
   },
   {
    "duration": 87,
    "start_time": "2023-10-14T13:10:28.295Z"
   },
   {
    "duration": 12,
    "start_time": "2023-10-14T13:10:28.384Z"
   },
   {
    "duration": 87,
    "start_time": "2023-10-14T13:10:28.399Z"
   },
   {
    "duration": 12,
    "start_time": "2023-10-14T13:10:28.489Z"
   },
   {
    "duration": 71,
    "start_time": "2023-10-14T13:10:28.503Z"
   },
   {
    "duration": 10,
    "start_time": "2023-10-14T13:10:28.576Z"
   },
   {
    "duration": 29,
    "start_time": "2023-10-14T13:10:28.588Z"
   },
   {
    "duration": 28,
    "start_time": "2023-10-14T13:10:28.620Z"
   },
   {
    "duration": 6,
    "start_time": "2023-10-14T13:10:28.650Z"
   },
   {
    "duration": 25,
    "start_time": "2023-10-14T13:10:28.658Z"
   },
   {
    "duration": 20,
    "start_time": "2023-10-14T13:10:28.685Z"
   },
   {
    "duration": 7,
    "start_time": "2023-10-14T13:10:28.707Z"
   },
   {
    "duration": 12,
    "start_time": "2023-10-14T13:10:28.718Z"
   },
   {
    "duration": 35,
    "start_time": "2023-10-14T13:10:28.732Z"
   },
   {
    "duration": 176,
    "start_time": "2023-10-14T13:10:28.769Z"
   },
   {
    "duration": 156,
    "start_time": "2023-10-14T13:10:28.947Z"
   },
   {
    "duration": 165,
    "start_time": "2023-10-14T13:10:29.105Z"
   },
   {
    "duration": 40,
    "start_time": "2023-10-14T13:10:29.273Z"
   },
   {
    "duration": 25,
    "start_time": "2023-10-14T13:10:29.315Z"
   },
   {
    "duration": 24,
    "start_time": "2023-10-14T13:10:29.341Z"
   },
   {
    "duration": 55,
    "start_time": "2023-10-14T13:10:29.367Z"
   },
   {
    "duration": 326,
    "start_time": "2023-10-14T13:10:29.424Z"
   },
   {
    "duration": 116,
    "start_time": "2023-10-14T13:10:29.753Z"
   },
   {
    "duration": 297,
    "start_time": "2023-10-14T13:10:29.871Z"
   },
   {
    "duration": 134,
    "start_time": "2023-10-14T13:10:30.170Z"
   },
   {
    "duration": 445,
    "start_time": "2023-10-14T13:10:30.306Z"
   },
   {
    "duration": 144,
    "start_time": "2023-10-14T13:10:30.752Z"
   },
   {
    "duration": 379,
    "start_time": "2023-10-14T13:10:30.902Z"
   },
   {
    "duration": 152,
    "start_time": "2023-10-14T13:10:31.284Z"
   },
   {
    "duration": 42,
    "start_time": "2023-10-14T13:10:31.438Z"
   },
   {
    "duration": 42,
    "start_time": "2023-10-14T13:10:31.482Z"
   },
   {
    "duration": 253,
    "start_time": "2023-10-14T13:10:31.526Z"
   },
   {
    "duration": 8,
    "start_time": "2023-10-14T13:10:31.781Z"
   },
   {
    "duration": 47,
    "start_time": "2023-10-14T13:10:31.791Z"
   },
   {
    "duration": 194,
    "start_time": "2023-10-14T13:10:31.840Z"
   },
   {
    "duration": 20,
    "start_time": "2023-10-14T13:11:20.511Z"
   },
   {
    "duration": 1171,
    "start_time": "2023-10-14T13:19:26.628Z"
   },
   {
    "duration": 41,
    "start_time": "2023-10-14T13:19:27.801Z"
   },
   {
    "duration": 13,
    "start_time": "2023-10-14T13:19:27.844Z"
   },
   {
    "duration": 61,
    "start_time": "2023-10-14T13:19:27.859Z"
   },
   {
    "duration": 13,
    "start_time": "2023-10-14T13:19:27.922Z"
   },
   {
    "duration": 38,
    "start_time": "2023-10-14T13:19:27.937Z"
   },
   {
    "duration": 11,
    "start_time": "2023-10-14T13:19:27.977Z"
   },
   {
    "duration": 41,
    "start_time": "2023-10-14T13:19:27.990Z"
   },
   {
    "duration": 17,
    "start_time": "2023-10-14T13:19:28.033Z"
   },
   {
    "duration": 14,
    "start_time": "2023-10-14T13:19:28.053Z"
   },
   {
    "duration": 36,
    "start_time": "2023-10-14T13:19:28.069Z"
   },
   {
    "duration": 17,
    "start_time": "2023-10-14T13:19:28.107Z"
   },
   {
    "duration": 9,
    "start_time": "2023-10-14T13:19:28.126Z"
   },
   {
    "duration": 27,
    "start_time": "2023-10-14T13:19:28.136Z"
   },
   {
    "duration": 26,
    "start_time": "2023-10-14T13:19:28.165Z"
   },
   {
    "duration": 197,
    "start_time": "2023-10-14T13:19:28.193Z"
   },
   {
    "duration": 210,
    "start_time": "2023-10-14T13:19:28.392Z"
   },
   {
    "duration": 181,
    "start_time": "2023-10-14T13:19:28.604Z"
   },
   {
    "duration": 117,
    "start_time": "2023-10-14T13:19:28.787Z"
   },
   {
    "duration": 160,
    "start_time": "2023-10-14T13:19:28.906Z"
   },
   {
    "duration": 39,
    "start_time": "2023-10-14T13:19:29.068Z"
   },
   {
    "duration": 70,
    "start_time": "2023-10-14T13:19:29.108Z"
   },
   {
    "duration": 327,
    "start_time": "2023-10-14T13:19:29.180Z"
   },
   {
    "duration": 128,
    "start_time": "2023-10-14T13:19:29.509Z"
   },
   {
    "duration": 318,
    "start_time": "2023-10-14T13:19:29.638Z"
   },
   {
    "duration": 127,
    "start_time": "2023-10-14T13:19:29.958Z"
   },
   {
    "duration": 394,
    "start_time": "2023-10-14T13:19:30.088Z"
   },
   {
    "duration": 142,
    "start_time": "2023-10-14T13:19:30.486Z"
   },
   {
    "duration": 300,
    "start_time": "2023-10-14T13:19:30.630Z"
   },
   {
    "duration": 127,
    "start_time": "2023-10-14T13:19:30.932Z"
   },
   {
    "duration": 411,
    "start_time": "2023-10-14T13:19:31.062Z"
   },
   {
    "duration": 345,
    "start_time": "2023-10-14T13:19:31.475Z"
   },
   {
    "duration": 356,
    "start_time": "2023-10-14T13:19:31.822Z"
   },
   {
    "duration": 20,
    "start_time": "2023-10-14T13:19:32.181Z"
   },
   {
    "duration": 184,
    "start_time": "2023-10-14T13:19:32.203Z"
   },
   {
    "duration": 153,
    "start_time": "2023-10-14T13:19:32.390Z"
   },
   {
    "duration": 28,
    "start_time": "2023-10-14T13:19:32.545Z"
   },
   {
    "duration": 87,
    "start_time": "2023-10-14T13:19:32.576Z"
   },
   {
    "duration": 90,
    "start_time": "2023-10-14T13:19:32.666Z"
   },
   {
    "duration": 8,
    "start_time": "2023-10-14T13:24:10.120Z"
   },
   {
    "duration": 1179,
    "start_time": "2023-10-14T13:51:13.002Z"
   },
   {
    "duration": 43,
    "start_time": "2023-10-14T13:51:14.183Z"
   },
   {
    "duration": 12,
    "start_time": "2023-10-14T13:51:14.228Z"
   },
   {
    "duration": 95,
    "start_time": "2023-10-14T13:51:14.242Z"
   },
   {
    "duration": 12,
    "start_time": "2023-10-14T13:51:14.340Z"
   },
   {
    "duration": 20,
    "start_time": "2023-10-14T13:51:14.354Z"
   },
   {
    "duration": 12,
    "start_time": "2023-10-14T13:51:14.376Z"
   },
   {
    "duration": 25,
    "start_time": "2023-10-14T13:51:14.390Z"
   },
   {
    "duration": 21,
    "start_time": "2023-10-14T13:51:14.417Z"
   },
   {
    "duration": 6,
    "start_time": "2023-10-14T13:51:14.440Z"
   },
   {
    "duration": 8,
    "start_time": "2023-10-14T13:51:14.448Z"
   },
   {
    "duration": 15,
    "start_time": "2023-10-14T13:51:14.458Z"
   },
   {
    "duration": 6,
    "start_time": "2023-10-14T13:51:14.502Z"
   },
   {
    "duration": 16,
    "start_time": "2023-10-14T13:51:14.512Z"
   },
   {
    "duration": 26,
    "start_time": "2023-10-14T13:51:14.530Z"
   },
   {
    "duration": 206,
    "start_time": "2023-10-14T13:51:14.559Z"
   },
   {
    "duration": 162,
    "start_time": "2023-10-14T13:51:14.767Z"
   },
   {
    "duration": 157,
    "start_time": "2023-10-14T13:51:14.931Z"
   },
   {
    "duration": 30,
    "start_time": "2023-10-14T13:51:15.090Z"
   },
   {
    "duration": 57,
    "start_time": "2023-10-14T13:51:15.122Z"
   },
   {
    "duration": 49,
    "start_time": "2023-10-14T13:51:15.181Z"
   },
   {
    "duration": 44,
    "start_time": "2023-10-14T13:51:15.231Z"
   },
   {
    "duration": 332,
    "start_time": "2023-10-14T13:51:15.277Z"
   },
   {
    "duration": 119,
    "start_time": "2023-10-14T13:51:15.611Z"
   },
   {
    "duration": 289,
    "start_time": "2023-10-14T13:51:15.732Z"
   },
   {
    "duration": 121,
    "start_time": "2023-10-14T13:51:16.023Z"
   },
   {
    "duration": 366,
    "start_time": "2023-10-14T13:51:16.146Z"
   },
   {
    "duration": 144,
    "start_time": "2023-10-14T13:51:16.514Z"
   },
   {
    "duration": 273,
    "start_time": "2023-10-14T13:51:16.660Z"
   },
   {
    "duration": 131,
    "start_time": "2023-10-14T13:51:16.935Z"
   },
   {
    "duration": 48,
    "start_time": "2023-10-14T13:51:17.068Z"
   },
   {
    "duration": 3,
    "start_time": "2023-10-14T13:51:17.118Z"
   },
   {
    "duration": 171,
    "start_time": "2023-10-14T13:51:17.123Z"
   },
   {
    "duration": 7,
    "start_time": "2023-10-14T13:51:17.296Z"
   },
   {
    "duration": 20,
    "start_time": "2023-10-14T13:51:17.305Z"
   },
   {
    "duration": 43,
    "start_time": "2023-10-14T13:51:17.326Z"
   },
   {
    "duration": 19,
    "start_time": "2023-10-14T13:51:17.371Z"
   },
   {
    "duration": 9,
    "start_time": "2023-10-14T13:51:17.391Z"
   },
   {
    "duration": 1140,
    "start_time": "2023-10-14T18:12:16.917Z"
   },
   {
    "duration": 91,
    "start_time": "2023-10-14T18:12:18.059Z"
   },
   {
    "duration": 11,
    "start_time": "2023-10-14T18:12:18.152Z"
   },
   {
    "duration": 116,
    "start_time": "2023-10-14T18:12:18.165Z"
   },
   {
    "duration": 13,
    "start_time": "2023-10-14T18:12:18.285Z"
   },
   {
    "duration": 83,
    "start_time": "2023-10-14T18:12:18.300Z"
   },
   {
    "duration": 12,
    "start_time": "2023-10-14T18:12:18.385Z"
   },
   {
    "duration": 15,
    "start_time": "2023-10-14T18:12:18.399Z"
   },
   {
    "duration": 23,
    "start_time": "2023-10-14T18:12:18.416Z"
   },
   {
    "duration": 13,
    "start_time": "2023-10-14T18:12:18.440Z"
   },
   {
    "duration": 8,
    "start_time": "2023-10-14T18:12:18.455Z"
   },
   {
    "duration": 8,
    "start_time": "2023-10-14T18:12:18.465Z"
   },
   {
    "duration": 7,
    "start_time": "2023-10-14T18:12:18.475Z"
   },
   {
    "duration": 6,
    "start_time": "2023-10-14T18:12:18.486Z"
   },
   {
    "duration": 8,
    "start_time": "2023-10-14T18:12:18.493Z"
   },
   {
    "duration": 175,
    "start_time": "2023-10-14T18:12:18.503Z"
   },
   {
    "duration": 150,
    "start_time": "2023-10-14T18:12:18.680Z"
   },
   {
    "duration": 149,
    "start_time": "2023-10-14T18:12:18.832Z"
   },
   {
    "duration": 23,
    "start_time": "2023-10-14T18:12:18.983Z"
   },
   {
    "duration": 37,
    "start_time": "2023-10-14T18:12:19.008Z"
   },
   {
    "duration": 21,
    "start_time": "2023-10-14T18:12:19.046Z"
   },
   {
    "duration": 17,
    "start_time": "2023-10-14T18:12:19.069Z"
   },
   {
    "duration": 277,
    "start_time": "2023-10-14T18:12:19.087Z"
   },
   {
    "duration": 109,
    "start_time": "2023-10-14T18:12:19.366Z"
   },
   {
    "duration": 267,
    "start_time": "2023-10-14T18:12:19.478Z"
   },
   {
    "duration": 110,
    "start_time": "2023-10-14T18:12:19.747Z"
   },
   {
    "duration": 336,
    "start_time": "2023-10-14T18:12:19.859Z"
   },
   {
    "duration": 119,
    "start_time": "2023-10-14T18:12:20.197Z"
   },
   {
    "duration": 283,
    "start_time": "2023-10-14T18:12:20.318Z"
   },
   {
    "duration": 116,
    "start_time": "2023-10-14T18:12:20.603Z"
   },
   {
    "duration": 53,
    "start_time": "2023-10-14T18:12:20.721Z"
   },
   {
    "duration": 4,
    "start_time": "2023-10-14T18:12:20.775Z"
   },
   {
    "duration": 183,
    "start_time": "2023-10-14T18:12:20.780Z"
   },
   {
    "duration": 8,
    "start_time": "2023-10-14T18:12:20.965Z"
   },
   {
    "duration": 23,
    "start_time": "2023-10-14T18:12:20.975Z"
   },
   {
    "duration": 66,
    "start_time": "2023-10-14T18:12:21.000Z"
   },
   {
    "duration": 40,
    "start_time": "2023-10-14T18:12:21.067Z"
   },
   {
    "duration": 28,
    "start_time": "2023-10-14T18:12:21.110Z"
   },
   {
    "duration": 51,
    "start_time": "2023-10-15T09:00:20.085Z"
   },
   {
    "duration": 1220,
    "start_time": "2023-10-15T09:00:32.485Z"
   },
   {
    "duration": 94,
    "start_time": "2023-10-15T09:00:33.707Z"
   },
   {
    "duration": 14,
    "start_time": "2023-10-15T09:00:33.803Z"
   },
   {
    "duration": 94,
    "start_time": "2023-10-15T09:00:33.819Z"
   },
   {
    "duration": 11,
    "start_time": "2023-10-15T09:00:33.915Z"
   },
   {
    "duration": 100,
    "start_time": "2023-10-15T09:00:33.927Z"
   },
   {
    "duration": 9,
    "start_time": "2023-10-15T09:00:34.028Z"
   },
   {
    "duration": 34,
    "start_time": "2023-10-15T09:00:34.039Z"
   },
   {
    "duration": 37,
    "start_time": "2023-10-15T09:00:34.075Z"
   },
   {
    "duration": 33,
    "start_time": "2023-10-15T09:00:34.113Z"
   },
   {
    "duration": 36,
    "start_time": "2023-10-15T09:00:34.148Z"
   },
   {
    "duration": 28,
    "start_time": "2023-10-15T09:00:34.185Z"
   },
   {
    "duration": 35,
    "start_time": "2023-10-15T09:00:34.214Z"
   },
   {
    "duration": 37,
    "start_time": "2023-10-15T09:00:34.252Z"
   },
   {
    "duration": 182,
    "start_time": "2023-10-15T09:00:34.291Z"
   },
   {
    "duration": 0,
    "start_time": "2023-10-15T09:00:34.475Z"
   },
   {
    "duration": 0,
    "start_time": "2023-10-15T09:00:34.477Z"
   },
   {
    "duration": 0,
    "start_time": "2023-10-15T09:00:34.479Z"
   },
   {
    "duration": 0,
    "start_time": "2023-10-15T09:00:34.480Z"
   },
   {
    "duration": 0,
    "start_time": "2023-10-15T09:00:34.481Z"
   },
   {
    "duration": 0,
    "start_time": "2023-10-15T09:00:34.482Z"
   },
   {
    "duration": 0,
    "start_time": "2023-10-15T09:00:34.484Z"
   },
   {
    "duration": 0,
    "start_time": "2023-10-15T09:00:34.486Z"
   },
   {
    "duration": 0,
    "start_time": "2023-10-15T09:00:34.487Z"
   },
   {
    "duration": 0,
    "start_time": "2023-10-15T09:00:34.489Z"
   },
   {
    "duration": 0,
    "start_time": "2023-10-15T09:00:34.490Z"
   },
   {
    "duration": 0,
    "start_time": "2023-10-15T09:00:34.492Z"
   },
   {
    "duration": 0,
    "start_time": "2023-10-15T09:00:34.493Z"
   },
   {
    "duration": 0,
    "start_time": "2023-10-15T09:00:34.495Z"
   },
   {
    "duration": 0,
    "start_time": "2023-10-15T09:00:34.496Z"
   },
   {
    "duration": 0,
    "start_time": "2023-10-15T09:00:34.498Z"
   },
   {
    "duration": 0,
    "start_time": "2023-10-15T09:00:34.499Z"
   },
   {
    "duration": 0,
    "start_time": "2023-10-15T09:00:34.502Z"
   },
   {
    "duration": 0,
    "start_time": "2023-10-15T09:00:34.544Z"
   },
   {
    "duration": 0,
    "start_time": "2023-10-15T09:00:34.545Z"
   },
   {
    "duration": 0,
    "start_time": "2023-10-15T09:00:34.547Z"
   },
   {
    "duration": 0,
    "start_time": "2023-10-15T09:00:34.548Z"
   },
   {
    "duration": 0,
    "start_time": "2023-10-15T09:00:34.549Z"
   },
   {
    "duration": 0,
    "start_time": "2023-10-15T09:00:34.550Z"
   },
   {
    "duration": 142,
    "start_time": "2023-10-15T09:03:12.413Z"
   },
   {
    "duration": 121,
    "start_time": "2023-10-15T09:03:23.472Z"
   },
   {
    "duration": 121,
    "start_time": "2023-10-15T09:03:28.901Z"
   },
   {
    "duration": 136,
    "start_time": "2023-10-15T09:03:32.822Z"
   },
   {
    "duration": 142,
    "start_time": "2023-10-15T09:05:58.125Z"
   },
   {
    "duration": 137,
    "start_time": "2023-10-15T09:06:11.853Z"
   },
   {
    "duration": 143,
    "start_time": "2023-10-15T09:06:37.005Z"
   },
   {
    "duration": 172,
    "start_time": "2023-10-15T09:08:17.292Z"
   },
   {
    "duration": 141,
    "start_time": "2023-10-15T09:08:22.082Z"
   },
   {
    "duration": 136,
    "start_time": "2023-10-15T09:08:29.970Z"
   },
   {
    "duration": 1119,
    "start_time": "2023-10-15T09:08:46.684Z"
   },
   {
    "duration": 38,
    "start_time": "2023-10-15T09:08:47.805Z"
   },
   {
    "duration": 10,
    "start_time": "2023-10-15T09:08:47.845Z"
   },
   {
    "duration": 38,
    "start_time": "2023-10-15T09:08:47.857Z"
   },
   {
    "duration": 12,
    "start_time": "2023-10-15T09:08:47.896Z"
   },
   {
    "duration": 34,
    "start_time": "2023-10-15T09:08:47.910Z"
   },
   {
    "duration": 9,
    "start_time": "2023-10-15T09:08:47.946Z"
   },
   {
    "duration": 16,
    "start_time": "2023-10-15T09:08:47.957Z"
   },
   {
    "duration": 27,
    "start_time": "2023-10-15T09:08:47.975Z"
   },
   {
    "duration": 6,
    "start_time": "2023-10-15T09:08:48.004Z"
   },
   {
    "duration": 25,
    "start_time": "2023-10-15T09:08:48.011Z"
   },
   {
    "duration": 29,
    "start_time": "2023-10-15T09:08:48.038Z"
   },
   {
    "duration": 27,
    "start_time": "2023-10-15T09:08:48.068Z"
   },
   {
    "duration": 39,
    "start_time": "2023-10-15T09:08:48.096Z"
   },
   {
    "duration": 172,
    "start_time": "2023-10-15T09:08:48.137Z"
   },
   {
    "duration": 5,
    "start_time": "2023-10-15T09:08:48.311Z"
   },
   {
    "duration": 148,
    "start_time": "2023-10-15T09:08:48.318Z"
   },
   {
    "duration": 142,
    "start_time": "2023-10-15T09:08:48.468Z"
   },
   {
    "duration": 144,
    "start_time": "2023-10-15T09:08:48.612Z"
   },
   {
    "duration": 22,
    "start_time": "2023-10-15T09:08:48.758Z"
   },
   {
    "duration": 22,
    "start_time": "2023-10-15T09:08:48.782Z"
   },
   {
    "duration": 42,
    "start_time": "2023-10-15T09:08:48.806Z"
   },
   {
    "duration": 19,
    "start_time": "2023-10-15T09:08:48.850Z"
   },
   {
    "duration": 269,
    "start_time": "2023-10-15T09:08:48.871Z"
   },
   {
    "duration": 122,
    "start_time": "2023-10-15T09:08:49.141Z"
   },
   {
    "duration": 267,
    "start_time": "2023-10-15T09:08:49.265Z"
   },
   {
    "duration": 190,
    "start_time": "2023-10-15T09:08:49.534Z"
   },
   {
    "duration": 276,
    "start_time": "2023-10-15T09:08:49.727Z"
   },
   {
    "duration": 110,
    "start_time": "2023-10-15T09:08:50.004Z"
   },
   {
    "duration": 267,
    "start_time": "2023-10-15T09:08:50.116Z"
   },
   {
    "duration": 112,
    "start_time": "2023-10-15T09:08:50.385Z"
   },
   {
    "duration": 46,
    "start_time": "2023-10-15T09:08:50.499Z"
   },
   {
    "duration": 4,
    "start_time": "2023-10-15T09:08:50.546Z"
   },
   {
    "duration": 162,
    "start_time": "2023-10-15T09:08:50.551Z"
   },
   {
    "duration": 9,
    "start_time": "2023-10-15T09:08:50.714Z"
   },
   {
    "duration": 20,
    "start_time": "2023-10-15T09:08:50.725Z"
   },
   {
    "duration": 26,
    "start_time": "2023-10-15T09:08:50.746Z"
   },
   {
    "duration": 29,
    "start_time": "2023-10-15T09:08:50.773Z"
   },
   {
    "duration": 7,
    "start_time": "2023-10-15T09:08:50.804Z"
   },
   {
    "duration": 142,
    "start_time": "2023-10-15T09:09:01.945Z"
   },
   {
    "duration": 101,
    "start_time": "2023-10-15T09:12:41.921Z"
   },
   {
    "duration": 1193,
    "start_time": "2023-10-15T09:16:27.037Z"
   },
   {
    "duration": 40,
    "start_time": "2023-10-15T09:16:28.232Z"
   },
   {
    "duration": 13,
    "start_time": "2023-10-15T09:16:28.274Z"
   },
   {
    "duration": 84,
    "start_time": "2023-10-15T09:16:28.288Z"
   },
   {
    "duration": 12,
    "start_time": "2023-10-15T09:16:28.374Z"
   },
   {
    "duration": 44,
    "start_time": "2023-10-15T09:16:28.387Z"
   },
   {
    "duration": 10,
    "start_time": "2023-10-15T09:16:28.433Z"
   },
   {
    "duration": 40,
    "start_time": "2023-10-15T09:16:28.444Z"
   },
   {
    "duration": 36,
    "start_time": "2023-10-15T09:16:28.486Z"
   },
   {
    "duration": 53,
    "start_time": "2023-10-15T09:16:28.523Z"
   },
   {
    "duration": 25,
    "start_time": "2023-10-15T09:16:28.578Z"
   },
   {
    "duration": 21,
    "start_time": "2023-10-15T09:16:28.605Z"
   },
   {
    "duration": 13,
    "start_time": "2023-10-15T09:16:28.628Z"
   },
   {
    "duration": 26,
    "start_time": "2023-10-15T09:16:28.644Z"
   },
   {
    "duration": 201,
    "start_time": "2023-10-15T09:16:28.671Z"
   },
   {
    "duration": 0,
    "start_time": "2023-10-15T09:16:28.874Z"
   },
   {
    "duration": 0,
    "start_time": "2023-10-15T09:16:28.875Z"
   },
   {
    "duration": 0,
    "start_time": "2023-10-15T09:16:28.876Z"
   },
   {
    "duration": 0,
    "start_time": "2023-10-15T09:16:28.877Z"
   },
   {
    "duration": 0,
    "start_time": "2023-10-15T09:16:28.878Z"
   },
   {
    "duration": 0,
    "start_time": "2023-10-15T09:16:28.879Z"
   },
   {
    "duration": 0,
    "start_time": "2023-10-15T09:16:28.880Z"
   },
   {
    "duration": 0,
    "start_time": "2023-10-15T09:16:28.882Z"
   },
   {
    "duration": 0,
    "start_time": "2023-10-15T09:16:28.882Z"
   },
   {
    "duration": 0,
    "start_time": "2023-10-15T09:16:28.883Z"
   },
   {
    "duration": 1,
    "start_time": "2023-10-15T09:16:28.884Z"
   },
   {
    "duration": 0,
    "start_time": "2023-10-15T09:16:28.886Z"
   },
   {
    "duration": 0,
    "start_time": "2023-10-15T09:16:28.887Z"
   },
   {
    "duration": 0,
    "start_time": "2023-10-15T09:16:28.888Z"
   },
   {
    "duration": 0,
    "start_time": "2023-10-15T09:16:28.889Z"
   },
   {
    "duration": 0,
    "start_time": "2023-10-15T09:16:28.890Z"
   },
   {
    "duration": 0,
    "start_time": "2023-10-15T09:16:28.891Z"
   },
   {
    "duration": 1,
    "start_time": "2023-10-15T09:16:28.892Z"
   },
   {
    "duration": 0,
    "start_time": "2023-10-15T09:16:28.894Z"
   },
   {
    "duration": 0,
    "start_time": "2023-10-15T09:16:28.895Z"
   },
   {
    "duration": 0,
    "start_time": "2023-10-15T09:16:28.896Z"
   },
   {
    "duration": 0,
    "start_time": "2023-10-15T09:16:28.897Z"
   },
   {
    "duration": 0,
    "start_time": "2023-10-15T09:16:28.898Z"
   },
   {
    "duration": 0,
    "start_time": "2023-10-15T09:16:28.899Z"
   },
   {
    "duration": 140,
    "start_time": "2023-10-15T09:16:48.466Z"
   },
   {
    "duration": 135,
    "start_time": "2023-10-15T09:17:29.117Z"
   },
   {
    "duration": 192,
    "start_time": "2023-10-15T09:17:38.255Z"
   },
   {
    "duration": 147,
    "start_time": "2023-10-15T09:17:45.643Z"
   },
   {
    "duration": 261,
    "start_time": "2023-10-15T09:17:50.935Z"
   },
   {
    "duration": 139,
    "start_time": "2023-10-15T09:17:55.895Z"
   },
   {
    "duration": 152,
    "start_time": "2023-10-15T09:18:01.220Z"
   },
   {
    "duration": 1139,
    "start_time": "2023-10-15T09:20:12.187Z"
   },
   {
    "duration": 49,
    "start_time": "2023-10-15T09:20:13.328Z"
   },
   {
    "duration": 17,
    "start_time": "2023-10-15T09:20:13.379Z"
   },
   {
    "duration": 41,
    "start_time": "2023-10-15T09:20:13.398Z"
   },
   {
    "duration": 25,
    "start_time": "2023-10-15T09:20:13.440Z"
   },
   {
    "duration": 22,
    "start_time": "2023-10-15T09:20:13.466Z"
   },
   {
    "duration": 18,
    "start_time": "2023-10-15T09:20:13.490Z"
   },
   {
    "duration": 30,
    "start_time": "2023-10-15T09:20:13.510Z"
   },
   {
    "duration": 24,
    "start_time": "2023-10-15T09:20:13.542Z"
   },
   {
    "duration": 6,
    "start_time": "2023-10-15T09:20:13.569Z"
   },
   {
    "duration": 11,
    "start_time": "2023-10-15T09:20:13.577Z"
   },
   {
    "duration": 18,
    "start_time": "2023-10-15T09:20:13.590Z"
   },
   {
    "duration": 5,
    "start_time": "2023-10-15T09:20:13.609Z"
   },
   {
    "duration": 7,
    "start_time": "2023-10-15T09:20:13.644Z"
   },
   {
    "duration": 202,
    "start_time": "2023-10-15T09:20:13.653Z"
   },
   {
    "duration": 10,
    "start_time": "2023-10-15T09:20:13.858Z"
   },
   {
    "duration": 141,
    "start_time": "2023-10-15T09:20:13.871Z"
   },
   {
    "duration": 168,
    "start_time": "2023-10-15T09:20:14.014Z"
   },
   {
    "duration": 149,
    "start_time": "2023-10-15T09:20:14.184Z"
   },
   {
    "duration": 207,
    "start_time": "2023-10-15T09:20:14.343Z"
   },
   {
    "duration": 36,
    "start_time": "2023-10-15T09:20:14.553Z"
   },
   {
    "duration": 63,
    "start_time": "2023-10-15T09:20:14.593Z"
   },
   {
    "duration": 31,
    "start_time": "2023-10-15T09:20:14.658Z"
   },
   {
    "duration": 33,
    "start_time": "2023-10-15T09:20:14.692Z"
   },
   {
    "duration": 373,
    "start_time": "2023-10-15T09:20:14.727Z"
   },
   {
    "duration": 106,
    "start_time": "2023-10-15T09:20:15.101Z"
   },
   {
    "duration": 652,
    "start_time": "2023-10-15T09:20:15.209Z"
   },
   {
    "duration": 119,
    "start_time": "2023-10-15T09:20:15.865Z"
   },
   {
    "duration": 330,
    "start_time": "2023-10-15T09:20:15.987Z"
   },
   {
    "duration": 186,
    "start_time": "2023-10-15T09:20:16.320Z"
   },
   {
    "duration": 357,
    "start_time": "2023-10-15T09:20:16.508Z"
   },
   {
    "duration": 133,
    "start_time": "2023-10-15T09:20:16.874Z"
   },
   {
    "duration": 56,
    "start_time": "2023-10-15T09:20:17.009Z"
   },
   {
    "duration": 6,
    "start_time": "2023-10-15T09:20:17.066Z"
   },
   {
    "duration": 207,
    "start_time": "2023-10-15T09:20:17.074Z"
   },
   {
    "duration": 17,
    "start_time": "2023-10-15T09:20:17.284Z"
   },
   {
    "duration": 50,
    "start_time": "2023-10-15T09:20:17.304Z"
   },
   {
    "duration": 49,
    "start_time": "2023-10-15T09:20:17.356Z"
   },
   {
    "duration": 83,
    "start_time": "2023-10-15T09:20:17.408Z"
   },
   {
    "duration": 8,
    "start_time": "2023-10-15T09:20:17.494Z"
   },
   {
    "duration": 110,
    "start_time": "2023-10-15T09:20:24.120Z"
   },
   {
    "duration": 163,
    "start_time": "2023-10-15T09:22:06.013Z"
   },
   {
    "duration": 197,
    "start_time": "2023-10-15T09:22:15.104Z"
   },
   {
    "duration": 1360,
    "start_time": "2023-10-15T09:22:20.598Z"
   },
   {
    "duration": 93,
    "start_time": "2023-10-15T09:22:21.965Z"
   },
   {
    "duration": 15,
    "start_time": "2023-10-15T09:22:22.060Z"
   },
   {
    "duration": 97,
    "start_time": "2023-10-15T09:22:22.078Z"
   },
   {
    "duration": 77,
    "start_time": "2023-10-15T09:22:22.177Z"
   },
   {
    "duration": 32,
    "start_time": "2023-10-15T09:22:22.257Z"
   },
   {
    "duration": 59,
    "start_time": "2023-10-15T09:22:22.290Z"
   },
   {
    "duration": 30,
    "start_time": "2023-10-15T09:22:22.352Z"
   },
   {
    "duration": 75,
    "start_time": "2023-10-15T09:22:22.383Z"
   },
   {
    "duration": 35,
    "start_time": "2023-10-15T09:22:22.462Z"
   },
   {
    "duration": 62,
    "start_time": "2023-10-15T09:22:22.499Z"
   },
   {
    "duration": 27,
    "start_time": "2023-10-15T09:22:22.564Z"
   },
   {
    "duration": 56,
    "start_time": "2023-10-15T09:22:22.593Z"
   },
   {
    "duration": 24,
    "start_time": "2023-10-15T09:22:22.652Z"
   },
   {
    "duration": 484,
    "start_time": "2023-10-15T09:22:22.679Z"
   },
   {
    "duration": 8,
    "start_time": "2023-10-15T09:22:23.165Z"
   },
   {
    "duration": 378,
    "start_time": "2023-10-15T09:22:23.176Z"
   },
   {
    "duration": 421,
    "start_time": "2023-10-15T09:22:23.556Z"
   },
   {
    "duration": 238,
    "start_time": "2023-10-15T09:22:23.979Z"
   },
   {
    "duration": 171,
    "start_time": "2023-10-15T09:22:24.219Z"
   },
   {
    "duration": 30,
    "start_time": "2023-10-15T09:22:24.392Z"
   },
   {
    "duration": 59,
    "start_time": "2023-10-15T09:22:24.425Z"
   },
   {
    "duration": 30,
    "start_time": "2023-10-15T09:22:24.487Z"
   },
   {
    "duration": 39,
    "start_time": "2023-10-15T09:22:24.521Z"
   },
   {
    "duration": 324,
    "start_time": "2023-10-15T09:22:24.562Z"
   },
   {
    "duration": 117,
    "start_time": "2023-10-15T09:22:24.888Z"
   },
   {
    "duration": 378,
    "start_time": "2023-10-15T09:22:25.007Z"
   },
   {
    "duration": 131,
    "start_time": "2023-10-15T09:22:25.389Z"
   },
   {
    "duration": 352,
    "start_time": "2023-10-15T09:22:25.522Z"
   },
   {
    "duration": 133,
    "start_time": "2023-10-15T09:22:25.876Z"
   },
   {
    "duration": 292,
    "start_time": "2023-10-15T09:22:26.011Z"
   },
   {
    "duration": 143,
    "start_time": "2023-10-15T09:22:26.305Z"
   },
   {
    "duration": 58,
    "start_time": "2023-10-15T09:22:26.452Z"
   },
   {
    "duration": 3,
    "start_time": "2023-10-15T09:22:26.512Z"
   },
   {
    "duration": 187,
    "start_time": "2023-10-15T09:22:26.517Z"
   },
   {
    "duration": 10,
    "start_time": "2023-10-15T09:22:26.706Z"
   },
   {
    "duration": 11,
    "start_time": "2023-10-15T09:22:26.718Z"
   },
   {
    "duration": 50,
    "start_time": "2023-10-15T09:22:26.730Z"
   },
   {
    "duration": 31,
    "start_time": "2023-10-15T09:22:26.782Z"
   },
   {
    "duration": 7,
    "start_time": "2023-10-15T09:22:26.814Z"
   },
   {
    "duration": 226,
    "start_time": "2023-10-15T09:32:56.335Z"
   },
   {
    "duration": 148,
    "start_time": "2023-10-15T09:42:44.356Z"
   },
   {
    "duration": 236,
    "start_time": "2023-10-15T09:43:03.587Z"
   },
   {
    "duration": 11,
    "start_time": "2023-10-15T09:48:42.293Z"
   },
   {
    "duration": 162,
    "start_time": "2023-10-15T09:49:05.330Z"
   },
   {
    "duration": 1398,
    "start_time": "2023-10-15T09:49:16.326Z"
   },
   {
    "duration": 1255,
    "start_time": "2023-10-15T09:49:24.245Z"
   },
   {
    "duration": 40,
    "start_time": "2023-10-15T09:49:25.502Z"
   },
   {
    "duration": 12,
    "start_time": "2023-10-15T09:49:25.544Z"
   },
   {
    "duration": 47,
    "start_time": "2023-10-15T09:49:25.557Z"
   },
   {
    "duration": 12,
    "start_time": "2023-10-15T09:49:25.606Z"
   },
   {
    "duration": 52,
    "start_time": "2023-10-15T09:49:25.620Z"
   },
   {
    "duration": 10,
    "start_time": "2023-10-15T09:49:25.674Z"
   },
   {
    "duration": 27,
    "start_time": "2023-10-15T09:49:25.686Z"
   },
   {
    "duration": 20,
    "start_time": "2023-10-15T09:49:25.715Z"
   },
   {
    "duration": 26,
    "start_time": "2023-10-15T09:49:25.737Z"
   },
   {
    "duration": 35,
    "start_time": "2023-10-15T09:49:25.765Z"
   },
   {
    "duration": 17,
    "start_time": "2023-10-15T09:49:25.802Z"
   },
   {
    "duration": 15,
    "start_time": "2023-10-15T09:49:25.821Z"
   },
   {
    "duration": 19,
    "start_time": "2023-10-15T09:49:25.840Z"
   },
   {
    "duration": 1466,
    "start_time": "2023-10-15T09:49:25.860Z"
   },
   {
    "duration": 0,
    "start_time": "2023-10-15T09:49:27.328Z"
   },
   {
    "duration": 1,
    "start_time": "2023-10-15T09:49:27.329Z"
   },
   {
    "duration": 0,
    "start_time": "2023-10-15T09:49:27.331Z"
   },
   {
    "duration": 0,
    "start_time": "2023-10-15T09:49:27.332Z"
   },
   {
    "duration": 0,
    "start_time": "2023-10-15T09:49:27.334Z"
   },
   {
    "duration": 1,
    "start_time": "2023-10-15T09:49:27.334Z"
   },
   {
    "duration": 0,
    "start_time": "2023-10-15T09:49:27.336Z"
   },
   {
    "duration": 0,
    "start_time": "2023-10-15T09:49:27.337Z"
   },
   {
    "duration": 0,
    "start_time": "2023-10-15T09:49:27.339Z"
   },
   {
    "duration": 0,
    "start_time": "2023-10-15T09:49:27.340Z"
   },
   {
    "duration": 0,
    "start_time": "2023-10-15T09:49:27.342Z"
   },
   {
    "duration": 0,
    "start_time": "2023-10-15T09:49:27.343Z"
   },
   {
    "duration": 0,
    "start_time": "2023-10-15T09:49:27.345Z"
   },
   {
    "duration": 0,
    "start_time": "2023-10-15T09:49:27.346Z"
   },
   {
    "duration": 0,
    "start_time": "2023-10-15T09:49:27.347Z"
   },
   {
    "duration": 0,
    "start_time": "2023-10-15T09:49:27.348Z"
   },
   {
    "duration": 0,
    "start_time": "2023-10-15T09:49:27.349Z"
   },
   {
    "duration": 0,
    "start_time": "2023-10-15T09:49:27.351Z"
   },
   {
    "duration": 0,
    "start_time": "2023-10-15T09:49:27.352Z"
   },
   {
    "duration": 0,
    "start_time": "2023-10-15T09:49:27.353Z"
   },
   {
    "duration": 0,
    "start_time": "2023-10-15T09:49:27.354Z"
   },
   {
    "duration": 0,
    "start_time": "2023-10-15T09:49:27.355Z"
   },
   {
    "duration": 0,
    "start_time": "2023-10-15T09:49:27.356Z"
   },
   {
    "duration": 0,
    "start_time": "2023-10-15T09:49:27.357Z"
   },
   {
    "duration": 0,
    "start_time": "2023-10-15T09:49:27.358Z"
   },
   {
    "duration": 201,
    "start_time": "2023-10-15T09:49:36.988Z"
   },
   {
    "duration": 1445,
    "start_time": "2023-10-15T09:52:33.752Z"
   },
   {
    "duration": 49,
    "start_time": "2023-10-15T09:52:35.200Z"
   },
   {
    "duration": 13,
    "start_time": "2023-10-15T09:52:35.250Z"
   },
   {
    "duration": 64,
    "start_time": "2023-10-15T09:52:35.266Z"
   },
   {
    "duration": 12,
    "start_time": "2023-10-15T09:52:35.332Z"
   },
   {
    "duration": 77,
    "start_time": "2023-10-15T09:52:35.346Z"
   },
   {
    "duration": 19,
    "start_time": "2023-10-15T09:52:35.425Z"
   },
   {
    "duration": 113,
    "start_time": "2023-10-15T09:52:35.445Z"
   },
   {
    "duration": 267,
    "start_time": "2023-10-15T09:52:35.560Z"
   },
   {
    "duration": 6,
    "start_time": "2023-10-15T09:52:35.831Z"
   },
   {
    "duration": 20,
    "start_time": "2023-10-15T09:52:35.839Z"
   },
   {
    "duration": 19,
    "start_time": "2023-10-15T09:52:35.861Z"
   },
   {
    "duration": 17,
    "start_time": "2023-10-15T09:52:35.882Z"
   },
   {
    "duration": 11,
    "start_time": "2023-10-15T09:52:35.901Z"
   },
   {
    "duration": 222,
    "start_time": "2023-10-15T09:52:35.914Z"
   },
   {
    "duration": 1659,
    "start_time": "2023-10-15T09:52:36.138Z"
   },
   {
    "duration": 0,
    "start_time": "2023-10-15T09:52:37.800Z"
   },
   {
    "duration": 0,
    "start_time": "2023-10-15T09:52:37.802Z"
   },
   {
    "duration": 0,
    "start_time": "2023-10-15T09:52:37.803Z"
   },
   {
    "duration": 0,
    "start_time": "2023-10-15T09:52:37.804Z"
   },
   {
    "duration": 0,
    "start_time": "2023-10-15T09:52:37.807Z"
   },
   {
    "duration": 0,
    "start_time": "2023-10-15T09:52:37.808Z"
   },
   {
    "duration": 0,
    "start_time": "2023-10-15T09:52:37.810Z"
   },
   {
    "duration": 0,
    "start_time": "2023-10-15T09:52:37.811Z"
   },
   {
    "duration": 0,
    "start_time": "2023-10-15T09:52:37.812Z"
   },
   {
    "duration": 0,
    "start_time": "2023-10-15T09:52:37.814Z"
   },
   {
    "duration": 0,
    "start_time": "2023-10-15T09:52:37.815Z"
   },
   {
    "duration": 0,
    "start_time": "2023-10-15T09:52:37.817Z"
   },
   {
    "duration": 0,
    "start_time": "2023-10-15T09:52:37.818Z"
   },
   {
    "duration": 0,
    "start_time": "2023-10-15T09:52:37.819Z"
   },
   {
    "duration": 0,
    "start_time": "2023-10-15T09:52:37.821Z"
   },
   {
    "duration": 0,
    "start_time": "2023-10-15T09:52:37.822Z"
   },
   {
    "duration": 0,
    "start_time": "2023-10-15T09:52:37.824Z"
   },
   {
    "duration": 0,
    "start_time": "2023-10-15T09:52:37.826Z"
   },
   {
    "duration": 0,
    "start_time": "2023-10-15T09:52:37.827Z"
   },
   {
    "duration": 0,
    "start_time": "2023-10-15T09:52:37.829Z"
   },
   {
    "duration": 0,
    "start_time": "2023-10-15T09:52:37.830Z"
   },
   {
    "duration": 0,
    "start_time": "2023-10-15T09:52:37.831Z"
   },
   {
    "duration": 0,
    "start_time": "2023-10-15T09:52:37.833Z"
   },
   {
    "duration": 0,
    "start_time": "2023-10-15T09:52:37.834Z"
   },
   {
    "duration": 1781,
    "start_time": "2023-10-15T09:53:12.166Z"
   },
   {
    "duration": 1208,
    "start_time": "2023-10-15T09:55:26.340Z"
   },
   {
    "duration": 49,
    "start_time": "2023-10-15T09:55:27.550Z"
   },
   {
    "duration": 12,
    "start_time": "2023-10-15T09:55:27.601Z"
   },
   {
    "duration": 85,
    "start_time": "2023-10-15T09:55:27.615Z"
   },
   {
    "duration": 25,
    "start_time": "2023-10-15T09:55:27.704Z"
   },
   {
    "duration": 47,
    "start_time": "2023-10-15T09:55:27.731Z"
   },
   {
    "duration": 11,
    "start_time": "2023-10-15T09:55:27.779Z"
   },
   {
    "duration": 39,
    "start_time": "2023-10-15T09:55:27.791Z"
   },
   {
    "duration": 34,
    "start_time": "2023-10-15T09:55:27.832Z"
   },
   {
    "duration": 14,
    "start_time": "2023-10-15T09:55:27.869Z"
   },
   {
    "duration": 15,
    "start_time": "2023-10-15T09:55:27.885Z"
   },
   {
    "duration": 37,
    "start_time": "2023-10-15T09:55:27.901Z"
   },
   {
    "duration": 21,
    "start_time": "2023-10-15T09:55:27.940Z"
   },
   {
    "duration": 9,
    "start_time": "2023-10-15T09:55:27.965Z"
   },
   {
    "duration": 195,
    "start_time": "2023-10-15T09:55:27.976Z"
   },
   {
    "duration": 6,
    "start_time": "2023-10-15T09:55:28.173Z"
   },
   {
    "duration": 132,
    "start_time": "2023-10-15T09:55:28.180Z"
   },
   {
    "duration": 190,
    "start_time": "2023-10-15T09:55:28.314Z"
   },
   {
    "duration": 172,
    "start_time": "2023-10-15T09:55:28.506Z"
   },
   {
    "duration": 170,
    "start_time": "2023-10-15T09:55:28.679Z"
   },
   {
    "duration": 31,
    "start_time": "2023-10-15T09:55:28.852Z"
   },
   {
    "duration": 29,
    "start_time": "2023-10-15T09:55:28.886Z"
   },
   {
    "duration": 52,
    "start_time": "2023-10-15T09:55:28.917Z"
   },
   {
    "duration": 23,
    "start_time": "2023-10-15T09:55:28.971Z"
   },
   {
    "duration": 332,
    "start_time": "2023-10-15T09:55:28.996Z"
   },
   {
    "duration": 134,
    "start_time": "2023-10-15T09:55:29.330Z"
   },
   {
    "duration": 384,
    "start_time": "2023-10-15T09:55:29.466Z"
   },
   {
    "duration": 165,
    "start_time": "2023-10-15T09:55:29.853Z"
   },
   {
    "duration": 304,
    "start_time": "2023-10-15T09:55:30.020Z"
   },
   {
    "duration": 254,
    "start_time": "2023-10-15T09:55:30.326Z"
   },
   {
    "duration": 774,
    "start_time": "2023-10-15T09:55:30.582Z"
   },
   {
    "duration": 289,
    "start_time": "2023-10-15T09:55:31.358Z"
   },
   {
    "duration": 99,
    "start_time": "2023-10-15T09:55:31.650Z"
   },
   {
    "duration": 292,
    "start_time": "2023-10-15T09:55:31.752Z"
   },
   {
    "duration": 567,
    "start_time": "2023-10-15T09:55:32.047Z"
   },
   {
    "duration": 9,
    "start_time": "2023-10-15T09:55:32.615Z"
   },
   {
    "duration": 41,
    "start_time": "2023-10-15T09:55:32.626Z"
   },
   {
    "duration": 44,
    "start_time": "2023-10-15T09:55:32.669Z"
   },
   {
    "duration": 51,
    "start_time": "2023-10-15T09:55:32.714Z"
   },
   {
    "duration": 27,
    "start_time": "2023-10-15T09:55:32.767Z"
   },
   {
    "duration": 171,
    "start_time": "2023-10-15T09:56:47.910Z"
   },
   {
    "duration": 156,
    "start_time": "2023-10-15T09:57:02.806Z"
   },
   {
    "duration": 277,
    "start_time": "2023-10-15T09:58:34.651Z"
   },
   {
    "duration": 161,
    "start_time": "2023-10-15T09:59:06.963Z"
   },
   {
    "duration": 1229,
    "start_time": "2023-10-15T09:59:29.747Z"
   },
   {
    "duration": 39,
    "start_time": "2023-10-15T09:59:30.978Z"
   },
   {
    "duration": 34,
    "start_time": "2023-10-15T09:59:31.019Z"
   },
   {
    "duration": 62,
    "start_time": "2023-10-15T09:59:31.055Z"
   },
   {
    "duration": 150,
    "start_time": "2023-10-15T09:59:31.118Z"
   },
   {
    "duration": 46,
    "start_time": "2023-10-15T09:59:31.270Z"
   },
   {
    "duration": 23,
    "start_time": "2023-10-15T09:59:31.317Z"
   },
   {
    "duration": 60,
    "start_time": "2023-10-15T09:59:31.342Z"
   },
   {
    "duration": 51,
    "start_time": "2023-10-15T09:59:31.404Z"
   },
   {
    "duration": 69,
    "start_time": "2023-10-15T09:59:31.458Z"
   },
   {
    "duration": 84,
    "start_time": "2023-10-15T09:59:31.529Z"
   },
   {
    "duration": 52,
    "start_time": "2023-10-15T09:59:31.615Z"
   },
   {
    "duration": 34,
    "start_time": "2023-10-15T09:59:31.669Z"
   },
   {
    "duration": 70,
    "start_time": "2023-10-15T09:59:31.704Z"
   },
   {
    "duration": 198,
    "start_time": "2023-10-15T09:59:31.775Z"
   },
   {
    "duration": 6,
    "start_time": "2023-10-15T09:59:31.974Z"
   },
   {
    "duration": 184,
    "start_time": "2023-10-15T09:59:31.982Z"
   },
   {
    "duration": 178,
    "start_time": "2023-10-15T09:59:32.168Z"
   },
   {
    "duration": 186,
    "start_time": "2023-10-15T09:59:32.347Z"
   },
   {
    "duration": 171,
    "start_time": "2023-10-15T09:59:32.535Z"
   },
   {
    "duration": 37,
    "start_time": "2023-10-15T09:59:32.708Z"
   },
   {
    "duration": 25,
    "start_time": "2023-10-15T09:59:32.747Z"
   },
   {
    "duration": 27,
    "start_time": "2023-10-15T09:59:32.774Z"
   },
   {
    "duration": 43,
    "start_time": "2023-10-15T09:59:32.802Z"
   },
   {
    "duration": 332,
    "start_time": "2023-10-15T09:59:32.846Z"
   },
   {
    "duration": 121,
    "start_time": "2023-10-15T09:59:33.179Z"
   },
   {
    "duration": 350,
    "start_time": "2023-10-15T09:59:33.302Z"
   },
   {
    "duration": 144,
    "start_time": "2023-10-15T09:59:33.656Z"
   },
   {
    "duration": 300,
    "start_time": "2023-10-15T09:59:33.802Z"
   },
   {
    "duration": 122,
    "start_time": "2023-10-15T09:59:34.103Z"
   },
   {
    "duration": 327,
    "start_time": "2023-10-15T09:59:34.227Z"
   },
   {
    "duration": 142,
    "start_time": "2023-10-15T09:59:34.557Z"
   },
   {
    "duration": 53,
    "start_time": "2023-10-15T09:59:34.701Z"
   },
   {
    "duration": 4,
    "start_time": "2023-10-15T09:59:34.756Z"
   },
   {
    "duration": 162,
    "start_time": "2023-10-15T09:59:34.762Z"
   },
   {
    "duration": 7,
    "start_time": "2023-10-15T09:59:34.926Z"
   },
   {
    "duration": 7,
    "start_time": "2023-10-15T09:59:34.944Z"
   },
   {
    "duration": 57,
    "start_time": "2023-10-15T09:59:34.952Z"
   },
   {
    "duration": 49,
    "start_time": "2023-10-15T09:59:35.011Z"
   },
   {
    "duration": 7,
    "start_time": "2023-10-15T09:59:35.062Z"
   },
   {
    "duration": 114,
    "start_time": "2023-10-15T10:01:48.105Z"
   },
   {
    "duration": 9,
    "start_time": "2023-10-15T10:01:54.256Z"
   },
   {
    "duration": 22,
    "start_time": "2023-10-15T10:03:27.978Z"
   },
   {
    "duration": 13,
    "start_time": "2023-10-15T10:04:24.166Z"
   },
   {
    "duration": 9,
    "start_time": "2023-10-15T10:06:00.632Z"
   },
   {
    "duration": 1168,
    "start_time": "2023-10-15T10:06:06.957Z"
   },
   {
    "duration": 47,
    "start_time": "2023-10-15T10:06:08.127Z"
   },
   {
    "duration": 13,
    "start_time": "2023-10-15T10:06:08.175Z"
   },
   {
    "duration": 55,
    "start_time": "2023-10-15T10:06:08.190Z"
   },
   {
    "duration": 18,
    "start_time": "2023-10-15T10:06:08.248Z"
   },
   {
    "duration": 26,
    "start_time": "2023-10-15T10:06:08.268Z"
   },
   {
    "duration": 11,
    "start_time": "2023-10-15T10:06:08.296Z"
   },
   {
    "duration": 23,
    "start_time": "2023-10-15T10:06:08.308Z"
   },
   {
    "duration": 38,
    "start_time": "2023-10-15T10:06:08.333Z"
   },
   {
    "duration": 9,
    "start_time": "2023-10-15T10:06:08.373Z"
   },
   {
    "duration": 15,
    "start_time": "2023-10-15T10:06:08.384Z"
   },
   {
    "duration": 17,
    "start_time": "2023-10-15T10:06:08.401Z"
   },
   {
    "duration": 5,
    "start_time": "2023-10-15T10:06:08.419Z"
   },
   {
    "duration": 6,
    "start_time": "2023-10-15T10:06:08.443Z"
   },
   {
    "duration": 175,
    "start_time": "2023-10-15T10:06:08.454Z"
   },
   {
    "duration": 13,
    "start_time": "2023-10-15T10:06:08.631Z"
   },
   {
    "duration": 134,
    "start_time": "2023-10-15T10:06:08.647Z"
   },
   {
    "duration": 190,
    "start_time": "2023-10-15T10:06:08.782Z"
   },
   {
    "duration": 223,
    "start_time": "2023-10-15T10:06:08.974Z"
   },
   {
    "duration": 192,
    "start_time": "2023-10-15T10:06:09.199Z"
   },
   {
    "duration": 52,
    "start_time": "2023-10-15T10:06:09.393Z"
   },
   {
    "duration": 13,
    "start_time": "2023-10-15T10:06:09.447Z"
   },
   {
    "duration": 46,
    "start_time": "2023-10-15T10:06:09.463Z"
   },
   {
    "duration": 14,
    "start_time": "2023-10-15T10:06:09.512Z"
   },
   {
    "duration": 47,
    "start_time": "2023-10-15T10:06:09.528Z"
   },
   {
    "duration": 8,
    "start_time": "2023-10-15T10:06:09.577Z"
   },
   {
    "duration": 28,
    "start_time": "2023-10-15T10:06:09.587Z"
   },
   {
    "duration": 313,
    "start_time": "2023-10-15T10:06:09.618Z"
   },
   {
    "duration": 138,
    "start_time": "2023-10-15T10:06:09.933Z"
   },
   {
    "duration": 396,
    "start_time": "2023-10-15T10:06:10.073Z"
   },
   {
    "duration": 134,
    "start_time": "2023-10-15T10:06:10.471Z"
   },
   {
    "duration": 318,
    "start_time": "2023-10-15T10:06:10.607Z"
   },
   {
    "duration": 144,
    "start_time": "2023-10-15T10:06:10.927Z"
   },
   {
    "duration": 323,
    "start_time": "2023-10-15T10:06:11.072Z"
   },
   {
    "duration": 127,
    "start_time": "2023-10-15T10:06:11.396Z"
   },
   {
    "duration": 57,
    "start_time": "2023-10-15T10:06:11.524Z"
   },
   {
    "duration": 3,
    "start_time": "2023-10-15T10:06:11.583Z"
   },
   {
    "duration": 226,
    "start_time": "2023-10-15T10:06:11.588Z"
   },
   {
    "duration": 11,
    "start_time": "2023-10-15T10:06:11.816Z"
   },
   {
    "duration": 28,
    "start_time": "2023-10-15T10:06:11.830Z"
   },
   {
    "duration": 37,
    "start_time": "2023-10-15T10:06:11.864Z"
   },
   {
    "duration": 43,
    "start_time": "2023-10-15T10:06:11.903Z"
   },
   {
    "duration": 9,
    "start_time": "2023-10-15T10:06:11.948Z"
   },
   {
    "duration": 8,
    "start_time": "2023-10-15T10:07:41.190Z"
   },
   {
    "duration": 1169,
    "start_time": "2023-10-15T10:59:41.550Z"
   },
   {
    "duration": 41,
    "start_time": "2023-10-15T10:59:42.721Z"
   },
   {
    "duration": 12,
    "start_time": "2023-10-15T10:59:42.764Z"
   },
   {
    "duration": 55,
    "start_time": "2023-10-15T10:59:42.778Z"
   },
   {
    "duration": 11,
    "start_time": "2023-10-15T10:59:42.836Z"
   },
   {
    "duration": 27,
    "start_time": "2023-10-15T10:59:42.848Z"
   },
   {
    "duration": 21,
    "start_time": "2023-10-15T10:59:42.876Z"
   },
   {
    "duration": 23,
    "start_time": "2023-10-15T10:59:42.898Z"
   },
   {
    "duration": 23,
    "start_time": "2023-10-15T10:59:42.923Z"
   },
   {
    "duration": 13,
    "start_time": "2023-10-15T10:59:42.948Z"
   },
   {
    "duration": 26,
    "start_time": "2023-10-15T10:59:42.963Z"
   },
   {
    "duration": 17,
    "start_time": "2023-10-15T10:59:42.990Z"
   },
   {
    "duration": 7,
    "start_time": "2023-10-15T10:59:43.008Z"
   },
   {
    "duration": 18,
    "start_time": "2023-10-15T10:59:43.018Z"
   },
   {
    "duration": 165,
    "start_time": "2023-10-15T10:59:43.038Z"
   },
   {
    "duration": 5,
    "start_time": "2023-10-15T10:59:43.204Z"
   },
   {
    "duration": 115,
    "start_time": "2023-10-15T10:59:43.211Z"
   },
   {
    "duration": 161,
    "start_time": "2023-10-15T10:59:43.328Z"
   },
   {
    "duration": 184,
    "start_time": "2023-10-15T10:59:43.491Z"
   },
   {
    "duration": 200,
    "start_time": "2023-10-15T10:59:43.676Z"
   },
   {
    "duration": 23,
    "start_time": "2023-10-15T10:59:43.878Z"
   },
   {
    "duration": 12,
    "start_time": "2023-10-15T10:59:43.903Z"
   },
   {
    "duration": 46,
    "start_time": "2023-10-15T10:59:43.917Z"
   },
   {
    "duration": 8,
    "start_time": "2023-10-15T10:59:43.965Z"
   },
   {
    "duration": 22,
    "start_time": "2023-10-15T10:59:43.974Z"
   },
   {
    "duration": 9,
    "start_time": "2023-10-15T10:59:43.997Z"
   },
   {
    "duration": 46,
    "start_time": "2023-10-15T10:59:44.007Z"
   },
   {
    "duration": 7,
    "start_time": "2023-10-15T10:59:44.054Z"
   },
   {
    "duration": 259,
    "start_time": "2023-10-15T10:59:44.062Z"
   },
   {
    "duration": 97,
    "start_time": "2023-10-15T10:59:44.323Z"
   },
   {
    "duration": 429,
    "start_time": "2023-10-15T10:59:44.422Z"
   },
   {
    "duration": 108,
    "start_time": "2023-10-15T10:59:44.853Z"
   },
   {
    "duration": 277,
    "start_time": "2023-10-15T10:59:44.963Z"
   },
   {
    "duration": 143,
    "start_time": "2023-10-15T10:59:45.241Z"
   },
   {
    "duration": 365,
    "start_time": "2023-10-15T10:59:45.386Z"
   },
   {
    "duration": 116,
    "start_time": "2023-10-15T10:59:45.753Z"
   },
   {
    "duration": 37,
    "start_time": "2023-10-15T10:59:45.871Z"
   },
   {
    "duration": 3,
    "start_time": "2023-10-15T10:59:45.909Z"
   },
   {
    "duration": 194,
    "start_time": "2023-10-15T10:59:45.914Z"
   },
   {
    "duration": 7,
    "start_time": "2023-10-15T10:59:46.109Z"
   },
   {
    "duration": 24,
    "start_time": "2023-10-15T10:59:46.119Z"
   },
   {
    "duration": 34,
    "start_time": "2023-10-15T10:59:46.145Z"
   },
   {
    "duration": 17,
    "start_time": "2023-10-15T10:59:46.180Z"
   },
   {
    "duration": 8,
    "start_time": "2023-10-15T10:59:46.199Z"
   },
   {
    "duration": 111,
    "start_time": "2023-10-15T11:01:26.063Z"
   },
   {
    "duration": 16,
    "start_time": "2023-10-15T11:01:50.452Z"
   },
   {
    "duration": 133,
    "start_time": "2023-10-15T11:04:46.854Z"
   },
   {
    "duration": 16,
    "start_time": "2023-10-15T11:14:18.130Z"
   },
   {
    "duration": 1128,
    "start_time": "2023-10-15T11:29:02.593Z"
   },
   {
    "duration": 41,
    "start_time": "2023-10-15T11:29:03.723Z"
   },
   {
    "duration": 13,
    "start_time": "2023-10-15T11:29:03.766Z"
   },
   {
    "duration": 47,
    "start_time": "2023-10-15T11:29:03.781Z"
   },
   {
    "duration": 20,
    "start_time": "2023-10-15T11:29:03.831Z"
   },
   {
    "duration": 18,
    "start_time": "2023-10-15T11:29:03.856Z"
   },
   {
    "duration": 10,
    "start_time": "2023-10-15T11:29:03.876Z"
   },
   {
    "duration": 25,
    "start_time": "2023-10-15T11:29:03.888Z"
   },
   {
    "duration": 14,
    "start_time": "2023-10-15T11:29:03.915Z"
   },
   {
    "duration": 14,
    "start_time": "2023-10-15T11:29:03.931Z"
   },
   {
    "duration": 8,
    "start_time": "2023-10-15T11:29:03.947Z"
   },
   {
    "duration": 17,
    "start_time": "2023-10-15T11:29:03.956Z"
   },
   {
    "duration": 10,
    "start_time": "2023-10-15T11:29:03.974Z"
   },
   {
    "duration": 10,
    "start_time": "2023-10-15T11:29:03.988Z"
   },
   {
    "duration": 169,
    "start_time": "2023-10-15T11:29:04.000Z"
   },
   {
    "duration": 5,
    "start_time": "2023-10-15T11:29:04.171Z"
   },
   {
    "duration": 116,
    "start_time": "2023-10-15T11:29:04.177Z"
   },
   {
    "duration": 191,
    "start_time": "2023-10-15T11:29:04.294Z"
   },
   {
    "duration": 210,
    "start_time": "2023-10-15T11:29:04.487Z"
   },
   {
    "duration": 157,
    "start_time": "2023-10-15T11:29:04.699Z"
   },
   {
    "duration": 16,
    "start_time": "2023-10-15T11:29:04.859Z"
   },
   {
    "duration": 43,
    "start_time": "2023-10-15T11:29:04.877Z"
   },
   {
    "duration": 18,
    "start_time": "2023-10-15T11:29:04.922Z"
   },
   {
    "duration": 72,
    "start_time": "2023-10-15T11:29:04.943Z"
   },
   {
    "duration": 8,
    "start_time": "2023-10-15T11:29:05.017Z"
   },
   {
    "duration": 35,
    "start_time": "2023-10-15T11:29:05.027Z"
   },
   {
    "duration": 17,
    "start_time": "2023-10-15T11:29:05.063Z"
   },
   {
    "duration": 67,
    "start_time": "2023-10-15T11:29:05.082Z"
   },
   {
    "duration": 52,
    "start_time": "2023-10-15T11:29:05.151Z"
   },
   {
    "duration": 268,
    "start_time": "2023-10-15T11:29:05.204Z"
   },
   {
    "duration": 102,
    "start_time": "2023-10-15T11:29:05.474Z"
   },
   {
    "duration": 337,
    "start_time": "2023-10-15T11:29:05.577Z"
   },
   {
    "duration": 109,
    "start_time": "2023-10-15T11:29:05.916Z"
   },
   {
    "duration": 269,
    "start_time": "2023-10-15T11:29:06.027Z"
   },
   {
    "duration": 114,
    "start_time": "2023-10-15T11:29:06.297Z"
   },
   {
    "duration": 263,
    "start_time": "2023-10-15T11:29:06.413Z"
   },
   {
    "duration": 118,
    "start_time": "2023-10-15T11:29:06.677Z"
   },
   {
    "duration": 48,
    "start_time": "2023-10-15T11:29:06.796Z"
   },
   {
    "duration": 3,
    "start_time": "2023-10-15T11:29:06.846Z"
   },
   {
    "duration": 208,
    "start_time": "2023-10-15T11:29:06.851Z"
   },
   {
    "duration": 9,
    "start_time": "2023-10-15T11:29:07.063Z"
   },
   {
    "duration": 37,
    "start_time": "2023-10-15T11:29:07.074Z"
   },
   {
    "duration": 78,
    "start_time": "2023-10-15T11:29:07.113Z"
   },
   {
    "duration": 63,
    "start_time": "2023-10-15T11:29:07.193Z"
   },
   {
    "duration": 28,
    "start_time": "2023-10-15T11:29:07.257Z"
   },
   {
    "duration": 597,
    "start_time": "2023-10-15T11:32:38.254Z"
   },
   {
    "duration": 967,
    "start_time": "2023-10-15T11:33:45.959Z"
   },
   {
    "duration": 1198,
    "start_time": "2023-10-15T11:34:06.020Z"
   },
   {
    "duration": 38,
    "start_time": "2023-10-15T11:34:07.220Z"
   },
   {
    "duration": 11,
    "start_time": "2023-10-15T11:34:07.259Z"
   },
   {
    "duration": 36,
    "start_time": "2023-10-15T11:34:07.271Z"
   },
   {
    "duration": 10,
    "start_time": "2023-10-15T11:34:07.309Z"
   },
   {
    "duration": 21,
    "start_time": "2023-10-15T11:34:07.321Z"
   },
   {
    "duration": 9,
    "start_time": "2023-10-15T11:34:07.343Z"
   },
   {
    "duration": 17,
    "start_time": "2023-10-15T11:34:07.354Z"
   },
   {
    "duration": 48,
    "start_time": "2023-10-15T11:34:07.373Z"
   },
   {
    "duration": 28,
    "start_time": "2023-10-15T11:34:07.423Z"
   },
   {
    "duration": 20,
    "start_time": "2023-10-15T11:34:07.452Z"
   },
   {
    "duration": 16,
    "start_time": "2023-10-15T11:34:07.473Z"
   },
   {
    "duration": 6,
    "start_time": "2023-10-15T11:34:07.491Z"
   },
   {
    "duration": 10,
    "start_time": "2023-10-15T11:34:07.499Z"
   },
   {
    "duration": 173,
    "start_time": "2023-10-15T11:34:07.510Z"
   },
   {
    "duration": 5,
    "start_time": "2023-10-15T11:34:07.685Z"
   },
   {
    "duration": 111,
    "start_time": "2023-10-15T11:34:07.691Z"
   },
   {
    "duration": 153,
    "start_time": "2023-10-15T11:34:07.804Z"
   },
   {
    "duration": 157,
    "start_time": "2023-10-15T11:34:07.959Z"
   },
   {
    "duration": 158,
    "start_time": "2023-10-15T11:34:08.118Z"
   },
   {
    "duration": 22,
    "start_time": "2023-10-15T11:34:08.278Z"
   },
   {
    "duration": 23,
    "start_time": "2023-10-15T11:34:08.302Z"
   },
   {
    "duration": 25,
    "start_time": "2023-10-15T11:34:08.327Z"
   },
   {
    "duration": 29,
    "start_time": "2023-10-15T11:34:08.354Z"
   },
   {
    "duration": 8,
    "start_time": "2023-10-15T11:34:08.385Z"
   },
   {
    "duration": 32,
    "start_time": "2023-10-15T11:34:08.395Z"
   },
   {
    "duration": 7,
    "start_time": "2023-10-15T11:34:08.443Z"
   },
   {
    "duration": 20,
    "start_time": "2023-10-15T11:34:08.452Z"
   },
   {
    "duration": 7,
    "start_time": "2023-10-15T11:34:08.474Z"
   },
   {
    "duration": 1096,
    "start_time": "2023-10-15T11:34:08.483Z"
   },
   {
    "duration": 114,
    "start_time": "2023-10-15T11:34:09.581Z"
   },
   {
    "duration": 289,
    "start_time": "2023-10-15T11:34:09.697Z"
   },
   {
    "duration": 115,
    "start_time": "2023-10-15T11:34:09.987Z"
   },
   {
    "duration": 272,
    "start_time": "2023-10-15T11:34:10.104Z"
   },
   {
    "duration": 133,
    "start_time": "2023-10-15T11:34:10.378Z"
   },
   {
    "duration": 346,
    "start_time": "2023-10-15T11:34:10.513Z"
   },
   {
    "duration": 121,
    "start_time": "2023-10-15T11:34:10.860Z"
   },
   {
    "duration": 38,
    "start_time": "2023-10-15T11:34:10.983Z"
   },
   {
    "duration": 3,
    "start_time": "2023-10-15T11:34:11.023Z"
   },
   {
    "duration": 152,
    "start_time": "2023-10-15T11:34:11.044Z"
   },
   {
    "duration": 8,
    "start_time": "2023-10-15T11:34:11.199Z"
   },
   {
    "duration": 15,
    "start_time": "2023-10-15T11:34:11.209Z"
   },
   {
    "duration": 29,
    "start_time": "2023-10-15T11:34:11.227Z"
   },
   {
    "duration": 19,
    "start_time": "2023-10-15T11:34:11.257Z"
   },
   {
    "duration": 6,
    "start_time": "2023-10-15T11:34:11.278Z"
   },
   {
    "duration": 418,
    "start_time": "2023-10-15T11:36:30.496Z"
   },
   {
    "duration": 3101,
    "start_time": "2023-10-15T11:44:54.040Z"
   },
   {
    "duration": 1833,
    "start_time": "2023-10-15T11:45:25.441Z"
   },
   {
    "duration": 340,
    "start_time": "2023-10-15T11:46:25.501Z"
   },
   {
    "duration": 189,
    "start_time": "2023-10-15T11:46:40.067Z"
   },
   {
    "duration": 202,
    "start_time": "2023-10-15T11:47:21.562Z"
   },
   {
    "duration": 1326,
    "start_time": "2023-10-15T11:47:33.862Z"
   },
   {
    "duration": 1192,
    "start_time": "2023-10-15T11:52:48.845Z"
   },
   {
    "duration": 53,
    "start_time": "2023-10-15T11:52:50.039Z"
   },
   {
    "duration": 11,
    "start_time": "2023-10-15T11:52:50.094Z"
   },
   {
    "duration": 68,
    "start_time": "2023-10-15T11:52:50.107Z"
   },
   {
    "duration": 12,
    "start_time": "2023-10-15T11:52:50.176Z"
   },
   {
    "duration": 25,
    "start_time": "2023-10-15T11:52:50.189Z"
   },
   {
    "duration": 29,
    "start_time": "2023-10-15T11:52:50.215Z"
   },
   {
    "duration": 40,
    "start_time": "2023-10-15T11:52:50.246Z"
   },
   {
    "duration": 34,
    "start_time": "2023-10-15T11:52:50.287Z"
   },
   {
    "duration": 34,
    "start_time": "2023-10-15T11:52:50.324Z"
   },
   {
    "duration": 21,
    "start_time": "2023-10-15T11:52:50.360Z"
   },
   {
    "duration": 21,
    "start_time": "2023-10-15T11:52:50.383Z"
   },
   {
    "duration": 20,
    "start_time": "2023-10-15T11:52:50.407Z"
   },
   {
    "duration": 54,
    "start_time": "2023-10-15T11:52:50.428Z"
   },
   {
    "duration": 203,
    "start_time": "2023-10-15T11:52:50.484Z"
   },
   {
    "duration": 6,
    "start_time": "2023-10-15T11:52:50.689Z"
   },
   {
    "duration": 185,
    "start_time": "2023-10-15T11:52:50.696Z"
   },
   {
    "duration": 216,
    "start_time": "2023-10-15T11:52:50.882Z"
   },
   {
    "duration": 193,
    "start_time": "2023-10-15T11:52:51.100Z"
   },
   {
    "duration": 179,
    "start_time": "2023-10-15T11:52:51.295Z"
   },
   {
    "duration": 17,
    "start_time": "2023-10-15T11:52:51.476Z"
   },
   {
    "duration": 30,
    "start_time": "2023-10-15T11:52:51.495Z"
   },
   {
    "duration": 32,
    "start_time": "2023-10-15T11:52:51.527Z"
   },
   {
    "duration": 42,
    "start_time": "2023-10-15T11:52:51.562Z"
   },
   {
    "duration": 9,
    "start_time": "2023-10-15T11:52:51.606Z"
   },
   {
    "duration": 47,
    "start_time": "2023-10-15T11:52:51.616Z"
   },
   {
    "duration": 13,
    "start_time": "2023-10-15T11:52:51.665Z"
   },
   {
    "duration": 45,
    "start_time": "2023-10-15T11:52:51.681Z"
   },
   {
    "duration": 38,
    "start_time": "2023-10-15T11:52:51.728Z"
   },
   {
    "duration": 1245,
    "start_time": "2023-10-15T11:52:51.771Z"
   },
   {
    "duration": 206,
    "start_time": "2023-10-15T11:52:53.018Z"
   },
   {
    "duration": 467,
    "start_time": "2023-10-15T11:52:53.226Z"
   },
   {
    "duration": 61,
    "start_time": "2023-10-15T11:52:53.695Z"
   },
   {
    "duration": 4,
    "start_time": "2023-10-15T11:52:53.759Z"
   },
   {
    "duration": 191,
    "start_time": "2023-10-15T11:52:53.764Z"
   },
   {
    "duration": 12,
    "start_time": "2023-10-15T11:52:53.961Z"
   },
   {
    "duration": 17,
    "start_time": "2023-10-15T11:52:53.974Z"
   },
   {
    "duration": 36,
    "start_time": "2023-10-15T11:52:53.993Z"
   },
   {
    "duration": 36,
    "start_time": "2023-10-15T11:52:54.030Z"
   },
   {
    "duration": 7,
    "start_time": "2023-10-15T11:52:54.071Z"
   },
   {
    "duration": 157,
    "start_time": "2023-10-15T11:55:35.823Z"
   },
   {
    "duration": 63,
    "start_time": "2023-10-15T12:01:43.755Z"
   },
   {
    "duration": 13,
    "start_time": "2023-10-15T12:02:08.056Z"
   },
   {
    "duration": 9,
    "start_time": "2023-10-15T12:02:27.970Z"
   },
   {
    "duration": 10,
    "start_time": "2023-10-15T12:03:36.629Z"
   },
   {
    "duration": 320,
    "start_time": "2023-10-15T12:15:41.638Z"
   },
   {
    "duration": 1204,
    "start_time": "2023-10-15T12:19:38.207Z"
   },
   {
    "duration": 40,
    "start_time": "2023-10-15T12:19:39.413Z"
   },
   {
    "duration": 12,
    "start_time": "2023-10-15T12:19:39.455Z"
   },
   {
    "duration": 50,
    "start_time": "2023-10-15T12:19:39.469Z"
   },
   {
    "duration": 11,
    "start_time": "2023-10-15T12:19:39.521Z"
   },
   {
    "duration": 23,
    "start_time": "2023-10-15T12:19:39.534Z"
   },
   {
    "duration": 33,
    "start_time": "2023-10-15T12:19:39.559Z"
   },
   {
    "duration": 44,
    "start_time": "2023-10-15T12:19:39.594Z"
   },
   {
    "duration": 19,
    "start_time": "2023-10-15T12:19:39.640Z"
   },
   {
    "duration": 7,
    "start_time": "2023-10-15T12:19:39.660Z"
   },
   {
    "duration": 14,
    "start_time": "2023-10-15T12:19:39.669Z"
   },
   {
    "duration": 12,
    "start_time": "2023-10-15T12:19:39.684Z"
   },
   {
    "duration": 9,
    "start_time": "2023-10-15T12:19:39.697Z"
   },
   {
    "duration": 13,
    "start_time": "2023-10-15T12:19:39.710Z"
   },
   {
    "duration": 207,
    "start_time": "2023-10-15T12:19:39.725Z"
   },
   {
    "duration": 10,
    "start_time": "2023-10-15T12:19:39.935Z"
   },
   {
    "duration": 148,
    "start_time": "2023-10-15T12:19:39.947Z"
   },
   {
    "duration": 172,
    "start_time": "2023-10-15T12:19:40.097Z"
   },
   {
    "duration": 172,
    "start_time": "2023-10-15T12:19:40.271Z"
   },
   {
    "duration": 165,
    "start_time": "2023-10-15T12:19:40.445Z"
   },
   {
    "duration": 16,
    "start_time": "2023-10-15T12:19:40.613Z"
   },
   {
    "duration": 37,
    "start_time": "2023-10-15T12:19:40.631Z"
   },
   {
    "duration": 18,
    "start_time": "2023-10-15T12:19:40.670Z"
   },
   {
    "duration": 58,
    "start_time": "2023-10-15T12:19:40.690Z"
   },
   {
    "duration": 9,
    "start_time": "2023-10-15T12:19:40.750Z"
   },
   {
    "duration": 39,
    "start_time": "2023-10-15T12:19:40.761Z"
   },
   {
    "duration": 25,
    "start_time": "2023-10-15T12:19:40.802Z"
   },
   {
    "duration": 38,
    "start_time": "2023-10-15T12:19:40.828Z"
   },
   {
    "duration": 11,
    "start_time": "2023-10-15T12:19:40.867Z"
   },
   {
    "duration": 180,
    "start_time": "2023-10-15T12:19:40.879Z"
   },
   {
    "duration": 8,
    "start_time": "2023-10-15T12:19:41.061Z"
   },
   {
    "duration": 24,
    "start_time": "2023-10-15T12:19:41.071Z"
   },
   {
    "duration": 161,
    "start_time": "2023-10-15T12:19:41.097Z"
   },
   {
    "duration": 305,
    "start_time": "2023-10-15T12:19:41.260Z"
   },
   {
    "duration": 226,
    "start_time": "2023-10-15T12:19:41.567Z"
   },
   {
    "duration": 39,
    "start_time": "2023-10-15T12:19:41.795Z"
   },
   {
    "duration": 4,
    "start_time": "2023-10-15T12:19:41.844Z"
   },
   {
    "duration": 157,
    "start_time": "2023-10-15T12:19:41.850Z"
   },
   {
    "duration": 8,
    "start_time": "2023-10-15T12:19:42.008Z"
   },
   {
    "duration": 31,
    "start_time": "2023-10-15T12:19:42.018Z"
   },
   {
    "duration": 38,
    "start_time": "2023-10-15T12:19:42.053Z"
   },
   {
    "duration": 27,
    "start_time": "2023-10-15T12:19:42.093Z"
   },
   {
    "duration": 25,
    "start_time": "2023-10-15T12:19:42.122Z"
   },
   {
    "duration": 125,
    "start_time": "2023-10-15T12:22:33.996Z"
   },
   {
    "duration": 143,
    "start_time": "2023-10-15T12:50:01.462Z"
   },
   {
    "duration": 155,
    "start_time": "2023-10-15T12:51:16.270Z"
   },
   {
    "duration": 11,
    "start_time": "2023-10-15T12:52:30.885Z"
   },
   {
    "duration": 8,
    "start_time": "2023-10-15T12:53:48.752Z"
   },
   {
    "duration": 1259,
    "start_time": "2023-10-15T13:02:01.932Z"
   },
   {
    "duration": 40,
    "start_time": "2023-10-15T13:02:03.193Z"
   },
   {
    "duration": 12,
    "start_time": "2023-10-15T13:02:03.235Z"
   },
   {
    "duration": 70,
    "start_time": "2023-10-15T13:02:03.249Z"
   },
   {
    "duration": 27,
    "start_time": "2023-10-15T13:02:03.322Z"
   },
   {
    "duration": 43,
    "start_time": "2023-10-15T13:02:03.352Z"
   },
   {
    "duration": 18,
    "start_time": "2023-10-15T13:02:03.397Z"
   },
   {
    "duration": 60,
    "start_time": "2023-10-15T13:02:03.417Z"
   },
   {
    "duration": 25,
    "start_time": "2023-10-15T13:02:03.479Z"
   },
   {
    "duration": 35,
    "start_time": "2023-10-15T13:02:03.506Z"
   },
   {
    "duration": 63,
    "start_time": "2023-10-15T13:02:03.542Z"
   },
   {
    "duration": 24,
    "start_time": "2023-10-15T13:02:03.607Z"
   },
   {
    "duration": 38,
    "start_time": "2023-10-15T13:02:03.633Z"
   },
   {
    "duration": 51,
    "start_time": "2023-10-15T13:02:03.675Z"
   },
   {
    "duration": 211,
    "start_time": "2023-10-15T13:02:03.729Z"
   },
   {
    "duration": 6,
    "start_time": "2023-10-15T13:02:03.942Z"
   },
   {
    "duration": 180,
    "start_time": "2023-10-15T13:02:03.950Z"
   },
   {
    "duration": 168,
    "start_time": "2023-10-15T13:02:04.132Z"
   },
   {
    "duration": 207,
    "start_time": "2023-10-15T13:02:04.302Z"
   },
   {
    "duration": 218,
    "start_time": "2023-10-15T13:02:04.511Z"
   },
   {
    "duration": 32,
    "start_time": "2023-10-15T13:02:04.731Z"
   },
   {
    "duration": 49,
    "start_time": "2023-10-15T13:02:04.765Z"
   },
   {
    "duration": 56,
    "start_time": "2023-10-15T13:02:04.815Z"
   },
   {
    "duration": 80,
    "start_time": "2023-10-15T13:02:04.872Z"
   },
   {
    "duration": 30,
    "start_time": "2023-10-15T13:02:04.953Z"
   },
   {
    "duration": 62,
    "start_time": "2023-10-15T13:02:04.985Z"
   },
   {
    "duration": 25,
    "start_time": "2023-10-15T13:02:05.050Z"
   },
   {
    "duration": 62,
    "start_time": "2023-10-15T13:02:05.077Z"
   },
   {
    "duration": 11,
    "start_time": "2023-10-15T13:02:05.141Z"
   },
   {
    "duration": 211,
    "start_time": "2023-10-15T13:02:05.154Z"
   },
   {
    "duration": 245,
    "start_time": "2023-10-15T13:02:05.367Z"
   },
   {
    "duration": 10,
    "start_time": "2023-10-15T13:02:05.614Z"
   },
   {
    "duration": 62,
    "start_time": "2023-10-15T13:02:05.626Z"
   },
   {
    "duration": 238,
    "start_time": "2023-10-15T13:02:05.690Z"
   },
   {
    "duration": 14,
    "start_time": "2023-10-15T13:02:05.930Z"
   },
   {
    "duration": 34,
    "start_time": "2023-10-15T13:02:05.946Z"
   },
   {
    "duration": 235,
    "start_time": "2023-10-15T13:02:05.982Z"
   },
   {
    "duration": 44,
    "start_time": "2023-10-15T13:02:06.219Z"
   },
   {
    "duration": 41,
    "start_time": "2023-10-15T13:02:06.265Z"
   },
   {
    "duration": 179,
    "start_time": "2023-10-15T13:02:06.307Z"
   },
   {
    "duration": 8,
    "start_time": "2023-10-15T13:02:06.489Z"
   },
   {
    "duration": 124,
    "start_time": "2023-10-15T13:02:06.499Z"
   },
   {
    "duration": 45,
    "start_time": "2023-10-15T13:02:06.625Z"
   },
   {
    "duration": 47,
    "start_time": "2023-10-15T13:02:06.671Z"
   },
   {
    "duration": 21,
    "start_time": "2023-10-15T13:02:06.720Z"
   },
   {
    "duration": 235,
    "start_time": "2023-10-15T13:03:29.783Z"
   },
   {
    "duration": 1212,
    "start_time": "2023-10-15T13:06:40.363Z"
   },
   {
    "duration": 39,
    "start_time": "2023-10-15T13:06:41.577Z"
   },
   {
    "duration": 12,
    "start_time": "2023-10-15T13:06:41.618Z"
   },
   {
    "duration": 51,
    "start_time": "2023-10-15T13:06:41.631Z"
   },
   {
    "duration": 10,
    "start_time": "2023-10-15T13:06:41.685Z"
   },
   {
    "duration": 26,
    "start_time": "2023-10-15T13:06:41.696Z"
   },
   {
    "duration": 29,
    "start_time": "2023-10-15T13:06:41.724Z"
   },
   {
    "duration": 37,
    "start_time": "2023-10-15T13:06:41.754Z"
   },
   {
    "duration": 38,
    "start_time": "2023-10-15T13:06:41.793Z"
   },
   {
    "duration": 17,
    "start_time": "2023-10-15T13:06:41.833Z"
   },
   {
    "duration": 52,
    "start_time": "2023-10-15T13:06:41.852Z"
   },
   {
    "duration": 26,
    "start_time": "2023-10-15T13:06:41.906Z"
   },
   {
    "duration": 13,
    "start_time": "2023-10-15T13:06:41.934Z"
   },
   {
    "duration": 36,
    "start_time": "2023-10-15T13:06:41.950Z"
   },
   {
    "duration": 223,
    "start_time": "2023-10-15T13:06:41.987Z"
   },
   {
    "duration": 5,
    "start_time": "2023-10-15T13:06:42.212Z"
   },
   {
    "duration": 145,
    "start_time": "2023-10-15T13:06:42.218Z"
   },
   {
    "duration": 176,
    "start_time": "2023-10-15T13:06:42.364Z"
   },
   {
    "duration": 165,
    "start_time": "2023-10-15T13:06:42.541Z"
   },
   {
    "duration": 169,
    "start_time": "2023-10-15T13:06:42.707Z"
   },
   {
    "duration": 16,
    "start_time": "2023-10-15T13:06:42.878Z"
   },
   {
    "duration": 35,
    "start_time": "2023-10-15T13:06:42.896Z"
   },
   {
    "duration": 11,
    "start_time": "2023-10-15T13:06:42.944Z"
   },
   {
    "duration": 48,
    "start_time": "2023-10-15T13:06:42.957Z"
   },
   {
    "duration": 20,
    "start_time": "2023-10-15T13:06:43.006Z"
   },
   {
    "duration": 62,
    "start_time": "2023-10-15T13:06:43.027Z"
   },
   {
    "duration": 22,
    "start_time": "2023-10-15T13:06:43.091Z"
   },
   {
    "duration": 34,
    "start_time": "2023-10-15T13:06:43.115Z"
   },
   {
    "duration": 24,
    "start_time": "2023-10-15T13:06:43.151Z"
   },
   {
    "duration": 189,
    "start_time": "2023-10-15T13:06:43.177Z"
   },
   {
    "duration": 241,
    "start_time": "2023-10-15T13:06:43.368Z"
   },
   {
    "duration": 8,
    "start_time": "2023-10-15T13:06:43.611Z"
   },
   {
    "duration": 34,
    "start_time": "2023-10-15T13:06:43.621Z"
   },
   {
    "duration": 272,
    "start_time": "2023-10-15T13:06:43.657Z"
   },
   {
    "duration": 250,
    "start_time": "2023-10-15T13:06:43.931Z"
   },
   {
    "duration": 9,
    "start_time": "2023-10-15T13:06:44.183Z"
   },
   {
    "duration": 16,
    "start_time": "2023-10-15T13:06:44.194Z"
   },
   {
    "duration": 52,
    "start_time": "2023-10-15T13:06:44.212Z"
   },
   {
    "duration": 4,
    "start_time": "2023-10-15T13:06:44.266Z"
   },
   {
    "duration": 165,
    "start_time": "2023-10-15T13:06:44.272Z"
   },
   {
    "duration": 11,
    "start_time": "2023-10-15T13:06:44.446Z"
   },
   {
    "duration": 10,
    "start_time": "2023-10-15T13:06:44.459Z"
   },
   {
    "duration": 33,
    "start_time": "2023-10-15T13:06:44.471Z"
   },
   {
    "duration": 48,
    "start_time": "2023-10-15T13:06:44.506Z"
   },
   {
    "duration": 10,
    "start_time": "2023-10-15T13:06:44.556Z"
   },
   {
    "duration": 1300,
    "start_time": "2023-10-15T14:17:28.147Z"
   },
   {
    "duration": 40,
    "start_time": "2023-10-15T14:17:29.450Z"
   },
   {
    "duration": 13,
    "start_time": "2023-10-15T14:17:29.492Z"
   },
   {
    "duration": 50,
    "start_time": "2023-10-15T14:17:29.508Z"
   },
   {
    "duration": 13,
    "start_time": "2023-10-15T14:17:29.560Z"
   },
   {
    "duration": 26,
    "start_time": "2023-10-15T14:17:29.574Z"
   },
   {
    "duration": 11,
    "start_time": "2023-10-15T14:17:29.602Z"
   },
   {
    "duration": 38,
    "start_time": "2023-10-15T14:17:29.615Z"
   },
   {
    "duration": 18,
    "start_time": "2023-10-15T14:17:29.655Z"
   },
   {
    "duration": 6,
    "start_time": "2023-10-15T14:17:29.676Z"
   },
   {
    "duration": 17,
    "start_time": "2023-10-15T14:17:29.684Z"
   },
   {
    "duration": 11,
    "start_time": "2023-10-15T14:17:29.703Z"
   },
   {
    "duration": 29,
    "start_time": "2023-10-15T14:17:29.716Z"
   },
   {
    "duration": 12,
    "start_time": "2023-10-15T14:17:29.747Z"
   },
   {
    "duration": 223,
    "start_time": "2023-10-15T14:17:29.762Z"
   },
   {
    "duration": 8,
    "start_time": "2023-10-15T14:17:29.987Z"
   },
   {
    "duration": 152,
    "start_time": "2023-10-15T14:17:29.997Z"
   },
   {
    "duration": 174,
    "start_time": "2023-10-15T14:17:30.150Z"
   },
   {
    "duration": 219,
    "start_time": "2023-10-15T14:17:30.327Z"
   },
   {
    "duration": 182,
    "start_time": "2023-10-15T14:17:30.549Z"
   },
   {
    "duration": 26,
    "start_time": "2023-10-15T14:17:30.734Z"
   },
   {
    "duration": 56,
    "start_time": "2023-10-15T14:17:30.762Z"
   },
   {
    "duration": 23,
    "start_time": "2023-10-15T14:17:30.820Z"
   },
   {
    "duration": 67,
    "start_time": "2023-10-15T14:17:30.845Z"
   },
   {
    "duration": 33,
    "start_time": "2023-10-15T14:17:30.914Z"
   },
   {
    "duration": 65,
    "start_time": "2023-10-15T14:17:30.949Z"
   },
   {
    "duration": 34,
    "start_time": "2023-10-15T14:17:31.016Z"
   },
   {
    "duration": 57,
    "start_time": "2023-10-15T14:17:31.057Z"
   },
   {
    "duration": 43,
    "start_time": "2023-10-15T14:17:31.116Z"
   },
   {
    "duration": 227,
    "start_time": "2023-10-15T14:17:31.161Z"
   },
   {
    "duration": 248,
    "start_time": "2023-10-15T14:17:31.390Z"
   },
   {
    "duration": 11,
    "start_time": "2023-10-15T14:17:31.640Z"
   },
   {
    "duration": 53,
    "start_time": "2023-10-15T14:17:31.653Z"
   },
   {
    "duration": 274,
    "start_time": "2023-10-15T14:17:31.709Z"
   },
   {
    "duration": 328,
    "start_time": "2023-10-15T14:17:31.986Z"
   },
   {
    "duration": 9,
    "start_time": "2023-10-15T14:17:32.316Z"
   },
   {
    "duration": 218,
    "start_time": "2023-10-15T14:17:32.327Z"
   },
   {
    "duration": 253,
    "start_time": "2023-10-15T14:17:32.547Z"
   },
   {
    "duration": 20,
    "start_time": "2023-10-15T14:17:32.802Z"
   },
   {
    "duration": 188,
    "start_time": "2023-10-15T14:17:32.824Z"
   },
   {
    "duration": 9,
    "start_time": "2023-10-15T14:17:33.014Z"
   },
   {
    "duration": 38,
    "start_time": "2023-10-15T14:17:33.026Z"
   },
   {
    "duration": 45,
    "start_time": "2023-10-15T14:17:33.067Z"
   },
   {
    "duration": 19,
    "start_time": "2023-10-15T14:17:33.114Z"
   },
   {
    "duration": 9,
    "start_time": "2023-10-15T14:17:33.134Z"
   },
   {
    "duration": 1305,
    "start_time": "2023-10-15T14:25:09.359Z"
   },
   {
    "duration": 42,
    "start_time": "2023-10-15T14:25:10.666Z"
   },
   {
    "duration": 19,
    "start_time": "2023-10-15T14:25:10.710Z"
   },
   {
    "duration": 59,
    "start_time": "2023-10-15T14:25:10.732Z"
   },
   {
    "duration": 13,
    "start_time": "2023-10-15T14:25:10.793Z"
   },
   {
    "duration": 22,
    "start_time": "2023-10-15T14:25:10.807Z"
   },
   {
    "duration": 12,
    "start_time": "2023-10-15T14:25:10.830Z"
   },
   {
    "duration": 31,
    "start_time": "2023-10-15T14:25:10.843Z"
   },
   {
    "duration": 37,
    "start_time": "2023-10-15T14:25:10.876Z"
   },
   {
    "duration": 21,
    "start_time": "2023-10-15T14:25:10.917Z"
   },
   {
    "duration": 35,
    "start_time": "2023-10-15T14:25:10.939Z"
   },
   {
    "duration": 34,
    "start_time": "2023-10-15T14:25:10.976Z"
   },
   {
    "duration": 30,
    "start_time": "2023-10-15T14:25:11.012Z"
   },
   {
    "duration": 21,
    "start_time": "2023-10-15T14:25:11.044Z"
   },
   {
    "duration": 182,
    "start_time": "2023-10-15T14:25:11.068Z"
   },
   {
    "duration": 7,
    "start_time": "2023-10-15T14:25:11.252Z"
   },
   {
    "duration": 128,
    "start_time": "2023-10-15T14:25:11.260Z"
   },
   {
    "duration": 202,
    "start_time": "2023-10-15T14:25:11.390Z"
   },
   {
    "duration": 176,
    "start_time": "2023-10-15T14:25:11.594Z"
   },
   {
    "duration": 158,
    "start_time": "2023-10-15T14:25:11.771Z"
   },
   {
    "duration": 25,
    "start_time": "2023-10-15T14:25:11.931Z"
   },
   {
    "duration": 24,
    "start_time": "2023-10-15T14:25:11.957Z"
   },
   {
    "duration": 19,
    "start_time": "2023-10-15T14:25:11.983Z"
   },
   {
    "duration": 42,
    "start_time": "2023-10-15T14:25:12.003Z"
   },
   {
    "duration": 10,
    "start_time": "2023-10-15T14:25:12.046Z"
   },
   {
    "duration": 23,
    "start_time": "2023-10-15T14:25:12.058Z"
   },
   {
    "duration": 8,
    "start_time": "2023-10-15T14:25:12.083Z"
   },
   {
    "duration": 58,
    "start_time": "2023-10-15T14:25:12.096Z"
   },
   {
    "duration": 9,
    "start_time": "2023-10-15T14:25:12.156Z"
   },
   {
    "duration": 191,
    "start_time": "2023-10-15T14:25:12.166Z"
   },
   {
    "duration": 267,
    "start_time": "2023-10-15T14:25:12.359Z"
   },
   {
    "duration": 17,
    "start_time": "2023-10-15T14:25:12.628Z"
   },
   {
    "duration": 16,
    "start_time": "2023-10-15T14:25:12.647Z"
   },
   {
    "duration": 245,
    "start_time": "2023-10-15T14:25:12.665Z"
   },
   {
    "duration": 261,
    "start_time": "2023-10-15T14:25:12.913Z"
   },
   {
    "duration": 9,
    "start_time": "2023-10-15T14:25:13.176Z"
   },
   {
    "duration": 19,
    "start_time": "2023-10-15T14:25:13.186Z"
   },
   {
    "duration": 66,
    "start_time": "2023-10-15T14:25:13.207Z"
   },
   {
    "duration": 4,
    "start_time": "2023-10-15T14:25:13.275Z"
   },
   {
    "duration": 164,
    "start_time": "2023-10-15T14:25:13.281Z"
   },
   {
    "duration": 10,
    "start_time": "2023-10-15T14:25:13.447Z"
   },
   {
    "duration": 29,
    "start_time": "2023-10-15T14:25:13.459Z"
   },
   {
    "duration": 54,
    "start_time": "2023-10-15T14:25:13.490Z"
   },
   {
    "duration": 21,
    "start_time": "2023-10-15T14:25:13.546Z"
   },
   {
    "duration": 12,
    "start_time": "2023-10-15T14:25:13.569Z"
   },
   {
    "duration": 145,
    "start_time": "2023-10-15T14:28:49.128Z"
   },
   {
    "duration": 332,
    "start_time": "2023-10-15T14:29:32.163Z"
   },
   {
    "duration": 106,
    "start_time": "2023-10-15T14:30:05.174Z"
   },
   {
    "duration": 157,
    "start_time": "2023-10-15T14:30:38.449Z"
   },
   {
    "duration": 193,
    "start_time": "2023-10-15T14:31:04.587Z"
   },
   {
    "duration": 158,
    "start_time": "2023-10-15T14:31:25.751Z"
   },
   {
    "duration": 221,
    "start_time": "2023-10-15T14:31:43.876Z"
   },
   {
    "duration": 163,
    "start_time": "2023-10-15T14:32:48.137Z"
   },
   {
    "duration": 252,
    "start_time": "2023-10-15T14:33:37.306Z"
   },
   {
    "duration": 160,
    "start_time": "2023-10-15T14:34:01.028Z"
   },
   {
    "duration": 237,
    "start_time": "2023-10-15T14:34:34.758Z"
   },
   {
    "duration": 1115,
    "start_time": "2023-10-15T14:34:47.389Z"
   },
   {
    "duration": 38,
    "start_time": "2023-10-15T14:34:48.506Z"
   },
   {
    "duration": 11,
    "start_time": "2023-10-15T14:34:48.546Z"
   },
   {
    "duration": 50,
    "start_time": "2023-10-15T14:34:48.559Z"
   },
   {
    "duration": 10,
    "start_time": "2023-10-15T14:34:48.611Z"
   },
   {
    "duration": 30,
    "start_time": "2023-10-15T14:34:48.623Z"
   },
   {
    "duration": 24,
    "start_time": "2023-10-15T14:34:48.654Z"
   },
   {
    "duration": 20,
    "start_time": "2023-10-15T14:34:48.680Z"
   },
   {
    "duration": 28,
    "start_time": "2023-10-15T14:34:48.702Z"
   },
   {
    "duration": 15,
    "start_time": "2023-10-15T14:34:48.733Z"
   },
   {
    "duration": 21,
    "start_time": "2023-10-15T14:34:48.749Z"
   },
   {
    "duration": 17,
    "start_time": "2023-10-15T14:34:48.771Z"
   },
   {
    "duration": 10,
    "start_time": "2023-10-15T14:34:48.789Z"
   },
   {
    "duration": 28,
    "start_time": "2023-10-15T14:34:48.801Z"
   },
   {
    "duration": 163,
    "start_time": "2023-10-15T14:34:48.831Z"
   },
   {
    "duration": 5,
    "start_time": "2023-10-15T14:34:48.996Z"
   },
   {
    "duration": 124,
    "start_time": "2023-10-15T14:34:49.003Z"
   },
   {
    "duration": 177,
    "start_time": "2023-10-15T14:34:49.129Z"
   },
   {
    "duration": 163,
    "start_time": "2023-10-15T14:34:49.308Z"
   },
   {
    "duration": 161,
    "start_time": "2023-10-15T14:34:49.474Z"
   },
   {
    "duration": 22,
    "start_time": "2023-10-15T14:34:49.637Z"
   },
   {
    "duration": 27,
    "start_time": "2023-10-15T14:34:49.661Z"
   },
   {
    "duration": 9,
    "start_time": "2023-10-15T14:34:49.691Z"
   },
   {
    "duration": 49,
    "start_time": "2023-10-15T14:34:49.702Z"
   },
   {
    "duration": 9,
    "start_time": "2023-10-15T14:34:49.753Z"
   },
   {
    "duration": 26,
    "start_time": "2023-10-15T14:34:49.764Z"
   },
   {
    "duration": 7,
    "start_time": "2023-10-15T14:34:49.792Z"
   },
   {
    "duration": 54,
    "start_time": "2023-10-15T14:34:49.803Z"
   },
   {
    "duration": 18,
    "start_time": "2023-10-15T14:34:49.859Z"
   },
   {
    "duration": 177,
    "start_time": "2023-10-15T14:34:49.879Z"
   },
   {
    "duration": 253,
    "start_time": "2023-10-15T14:34:50.058Z"
   },
   {
    "duration": 8,
    "start_time": "2023-10-15T14:34:50.313Z"
   },
   {
    "duration": 113,
    "start_time": "2023-10-15T14:34:50.323Z"
   },
   {
    "duration": 433,
    "start_time": "2023-10-15T14:34:50.439Z"
   },
   {
    "duration": 515,
    "start_time": "2023-10-15T14:34:50.874Z"
   },
   {
    "duration": 60,
    "start_time": "2023-10-15T14:34:51.391Z"
   },
   {
    "duration": 44,
    "start_time": "2023-10-15T14:34:51.453Z"
   },
   {
    "duration": 78,
    "start_time": "2023-10-15T14:34:51.499Z"
   },
   {
    "duration": 3,
    "start_time": "2023-10-15T14:34:51.578Z"
   },
   {
    "duration": 302,
    "start_time": "2023-10-15T14:34:51.583Z"
   },
   {
    "duration": 61,
    "start_time": "2023-10-15T14:34:51.886Z"
   },
   {
    "duration": 25,
    "start_time": "2023-10-15T14:34:51.949Z"
   },
   {
    "duration": 75,
    "start_time": "2023-10-15T14:34:51.975Z"
   },
   {
    "duration": 17,
    "start_time": "2023-10-15T14:34:52.051Z"
   },
   {
    "duration": 9,
    "start_time": "2023-10-15T14:34:52.070Z"
   },
   {
    "duration": 8,
    "start_time": "2023-10-15T14:39:19.239Z"
   },
   {
    "duration": 197,
    "start_time": "2023-10-15T14:40:19.818Z"
   },
   {
    "duration": 14,
    "start_time": "2023-10-15T14:50:00.024Z"
   },
   {
    "duration": 111,
    "start_time": "2023-10-15T14:50:12.006Z"
   },
   {
    "duration": 152,
    "start_time": "2023-10-15T14:53:33.906Z"
   },
   {
    "duration": 1367,
    "start_time": "2023-10-15T14:53:52.718Z"
   },
   {
    "duration": 38,
    "start_time": "2023-10-15T14:53:54.087Z"
   },
   {
    "duration": 11,
    "start_time": "2023-10-15T14:53:54.127Z"
   },
   {
    "duration": 52,
    "start_time": "2023-10-15T14:53:54.139Z"
   },
   {
    "duration": 11,
    "start_time": "2023-10-15T14:53:54.193Z"
   },
   {
    "duration": 33,
    "start_time": "2023-10-15T14:53:54.205Z"
   },
   {
    "duration": 10,
    "start_time": "2023-10-15T14:53:54.240Z"
   },
   {
    "duration": 33,
    "start_time": "2023-10-15T14:53:54.251Z"
   },
   {
    "duration": 26,
    "start_time": "2023-10-15T14:53:54.286Z"
   },
   {
    "duration": 6,
    "start_time": "2023-10-15T14:53:54.315Z"
   },
   {
    "duration": 25,
    "start_time": "2023-10-15T14:53:54.323Z"
   },
   {
    "duration": 12,
    "start_time": "2023-10-15T14:53:54.351Z"
   },
   {
    "duration": 5,
    "start_time": "2023-10-15T14:53:54.366Z"
   },
   {
    "duration": 16,
    "start_time": "2023-10-15T14:53:54.374Z"
   },
   {
    "duration": 405,
    "start_time": "2023-10-15T14:53:54.391Z"
   },
   {
    "duration": 6,
    "start_time": "2023-10-15T14:53:54.798Z"
   },
   {
    "duration": 168,
    "start_time": "2023-10-15T14:53:54.807Z"
   },
   {
    "duration": 206,
    "start_time": "2023-10-15T14:53:54.977Z"
   },
   {
    "duration": 190,
    "start_time": "2023-10-15T14:53:55.184Z"
   },
   {
    "duration": 184,
    "start_time": "2023-10-15T14:53:55.375Z"
   },
   {
    "duration": 19,
    "start_time": "2023-10-15T14:53:55.561Z"
   },
   {
    "duration": 31,
    "start_time": "2023-10-15T14:53:55.582Z"
   },
   {
    "duration": 8,
    "start_time": "2023-10-15T14:53:55.614Z"
   },
   {
    "duration": 40,
    "start_time": "2023-10-15T14:53:55.623Z"
   },
   {
    "duration": 9,
    "start_time": "2023-10-15T14:53:55.665Z"
   },
   {
    "duration": 49,
    "start_time": "2023-10-15T14:53:55.675Z"
   },
   {
    "duration": 24,
    "start_time": "2023-10-15T14:53:55.725Z"
   },
   {
    "duration": 22,
    "start_time": "2023-10-15T14:53:55.751Z"
   },
   {
    "duration": 7,
    "start_time": "2023-10-15T14:53:55.775Z"
   },
   {
    "duration": 193,
    "start_time": "2023-10-15T14:53:55.783Z"
   },
   {
    "duration": 283,
    "start_time": "2023-10-15T14:53:55.978Z"
   },
   {
    "duration": 8,
    "start_time": "2023-10-15T14:53:56.263Z"
   },
   {
    "duration": 18,
    "start_time": "2023-10-15T14:53:56.273Z"
   },
   {
    "duration": 274,
    "start_time": "2023-10-15T14:53:56.293Z"
   },
   {
    "duration": 287,
    "start_time": "2023-10-15T14:53:56.569Z"
   },
   {
    "duration": 8,
    "start_time": "2023-10-15T14:53:56.859Z"
   },
   {
    "duration": 11,
    "start_time": "2023-10-15T14:53:56.869Z"
   },
   {
    "duration": 36,
    "start_time": "2023-10-15T14:53:56.882Z"
   },
   {
    "duration": 3,
    "start_time": "2023-10-15T14:53:56.920Z"
   },
   {
    "duration": 244,
    "start_time": "2023-10-15T14:53:56.925Z"
   },
   {
    "duration": 7,
    "start_time": "2023-10-15T14:53:57.172Z"
   },
   {
    "duration": 13,
    "start_time": "2023-10-15T14:53:57.181Z"
   },
   {
    "duration": 70,
    "start_time": "2023-10-15T14:53:57.195Z"
   },
   {
    "duration": 83,
    "start_time": "2023-10-15T14:53:57.267Z"
   },
   {
    "duration": 20,
    "start_time": "2023-10-15T14:53:57.352Z"
   },
   {
    "duration": 1247,
    "start_time": "2023-10-15T14:55:49.941Z"
   },
   {
    "duration": 38,
    "start_time": "2023-10-15T14:55:51.190Z"
   },
   {
    "duration": 25,
    "start_time": "2023-10-15T14:55:51.230Z"
   },
   {
    "duration": 59,
    "start_time": "2023-10-15T14:55:51.256Z"
   },
   {
    "duration": 11,
    "start_time": "2023-10-15T14:55:51.317Z"
   },
   {
    "duration": 22,
    "start_time": "2023-10-15T14:55:51.329Z"
   },
   {
    "duration": 11,
    "start_time": "2023-10-15T14:55:51.353Z"
   },
   {
    "duration": 20,
    "start_time": "2023-10-15T14:55:51.366Z"
   },
   {
    "duration": 15,
    "start_time": "2023-10-15T14:55:51.388Z"
   },
   {
    "duration": 5,
    "start_time": "2023-10-15T14:55:51.405Z"
   },
   {
    "duration": 31,
    "start_time": "2023-10-15T14:55:51.412Z"
   },
   {
    "duration": 27,
    "start_time": "2023-10-15T14:55:51.445Z"
   },
   {
    "duration": 13,
    "start_time": "2023-10-15T14:55:51.473Z"
   },
   {
    "duration": 12,
    "start_time": "2023-10-15T14:55:51.489Z"
   },
   {
    "duration": 166,
    "start_time": "2023-10-15T14:55:51.502Z"
   },
   {
    "duration": 6,
    "start_time": "2023-10-15T14:55:51.669Z"
   },
   {
    "duration": 134,
    "start_time": "2023-10-15T14:55:51.676Z"
   },
   {
    "duration": 183,
    "start_time": "2023-10-15T14:55:51.812Z"
   },
   {
    "duration": 186,
    "start_time": "2023-10-15T14:55:51.997Z"
   },
   {
    "duration": 180,
    "start_time": "2023-10-15T14:55:52.185Z"
   },
   {
    "duration": 14,
    "start_time": "2023-10-15T14:55:52.367Z"
   },
   {
    "duration": 26,
    "start_time": "2023-10-15T14:55:52.383Z"
   },
   {
    "duration": 47,
    "start_time": "2023-10-15T14:55:52.411Z"
   },
   {
    "duration": 23,
    "start_time": "2023-10-15T14:55:52.461Z"
   },
   {
    "duration": 10,
    "start_time": "2023-10-15T14:55:52.486Z"
   },
   {
    "duration": 30,
    "start_time": "2023-10-15T14:55:52.497Z"
   },
   {
    "duration": 29,
    "start_time": "2023-10-15T14:55:52.528Z"
   },
   {
    "duration": 23,
    "start_time": "2023-10-15T14:55:52.560Z"
   },
   {
    "duration": 8,
    "start_time": "2023-10-15T14:55:52.585Z"
   },
   {
    "duration": 194,
    "start_time": "2023-10-15T14:55:52.594Z"
   },
   {
    "duration": 271,
    "start_time": "2023-10-15T14:55:52.789Z"
   },
   {
    "duration": 8,
    "start_time": "2023-10-15T14:55:53.063Z"
   },
   {
    "duration": 14,
    "start_time": "2023-10-15T14:55:53.072Z"
   },
   {
    "duration": 291,
    "start_time": "2023-10-15T14:55:53.088Z"
   },
   {
    "duration": 286,
    "start_time": "2023-10-15T14:55:53.381Z"
   },
   {
    "duration": 8,
    "start_time": "2023-10-15T14:55:53.669Z"
   },
   {
    "duration": 16,
    "start_time": "2023-10-15T14:55:53.679Z"
   },
   {
    "duration": 68,
    "start_time": "2023-10-15T14:55:53.697Z"
   },
   {
    "duration": 4,
    "start_time": "2023-10-15T14:55:53.769Z"
   },
   {
    "duration": 227,
    "start_time": "2023-10-15T14:55:53.775Z"
   },
   {
    "duration": 7,
    "start_time": "2023-10-15T14:55:54.006Z"
   },
   {
    "duration": 55,
    "start_time": "2023-10-15T14:55:54.014Z"
   },
   {
    "duration": 47,
    "start_time": "2023-10-15T14:55:54.070Z"
   },
   {
    "duration": 40,
    "start_time": "2023-10-15T14:55:54.118Z"
   },
   {
    "duration": 40,
    "start_time": "2023-10-15T14:55:54.160Z"
   },
   {
    "duration": 1177,
    "start_time": "2023-10-15T20:48:06.560Z"
   },
   {
    "duration": 87,
    "start_time": "2023-10-15T20:48:07.739Z"
   },
   {
    "duration": 10,
    "start_time": "2023-10-15T20:48:07.827Z"
   },
   {
    "duration": 191,
    "start_time": "2023-10-15T20:48:07.839Z"
   },
   {
    "duration": 37,
    "start_time": "2023-10-15T20:48:08.031Z"
   },
   {
    "duration": 181,
    "start_time": "2023-10-15T20:48:08.069Z"
   },
   {
    "duration": 10,
    "start_time": "2023-10-15T20:48:08.251Z"
   },
   {
    "duration": 65,
    "start_time": "2023-10-15T20:48:08.262Z"
   },
   {
    "duration": 67,
    "start_time": "2023-10-15T20:48:08.328Z"
   },
   {
    "duration": 51,
    "start_time": "2023-10-15T20:48:08.399Z"
   },
   {
    "duration": 178,
    "start_time": "2023-10-15T20:48:08.451Z"
   },
   {
    "duration": 24,
    "start_time": "2023-10-15T20:48:08.631Z"
   },
   {
    "duration": 40,
    "start_time": "2023-10-15T20:48:08.657Z"
   },
   {
    "duration": 47,
    "start_time": "2023-10-15T20:48:08.724Z"
   },
   {
    "duration": 379,
    "start_time": "2023-10-15T20:48:08.773Z"
   },
   {
    "duration": 203,
    "start_time": "2023-10-15T20:48:09.153Z"
   },
   {
    "duration": 0,
    "start_time": "2023-10-15T20:48:09.358Z"
   },
   {
    "duration": 0,
    "start_time": "2023-10-15T20:48:09.359Z"
   },
   {
    "duration": 0,
    "start_time": "2023-10-15T20:48:09.361Z"
   },
   {
    "duration": 0,
    "start_time": "2023-10-15T20:48:09.363Z"
   },
   {
    "duration": 0,
    "start_time": "2023-10-15T20:48:09.365Z"
   },
   {
    "duration": 0,
    "start_time": "2023-10-15T20:48:09.366Z"
   },
   {
    "duration": 0,
    "start_time": "2023-10-15T20:48:09.425Z"
   },
   {
    "duration": 0,
    "start_time": "2023-10-15T20:48:09.427Z"
   },
   {
    "duration": 0,
    "start_time": "2023-10-15T20:48:09.428Z"
   },
   {
    "duration": 0,
    "start_time": "2023-10-15T20:48:09.429Z"
   },
   {
    "duration": 0,
    "start_time": "2023-10-15T20:48:09.431Z"
   },
   {
    "duration": 0,
    "start_time": "2023-10-15T20:48:09.432Z"
   },
   {
    "duration": 0,
    "start_time": "2023-10-15T20:48:09.433Z"
   },
   {
    "duration": 0,
    "start_time": "2023-10-15T20:48:09.435Z"
   },
   {
    "duration": 0,
    "start_time": "2023-10-15T20:48:09.437Z"
   },
   {
    "duration": 0,
    "start_time": "2023-10-15T20:48:09.438Z"
   },
   {
    "duration": 0,
    "start_time": "2023-10-15T20:48:09.439Z"
   },
   {
    "duration": 0,
    "start_time": "2023-10-15T20:48:09.441Z"
   },
   {
    "duration": 0,
    "start_time": "2023-10-15T20:48:09.443Z"
   },
   {
    "duration": 0,
    "start_time": "2023-10-15T20:48:09.444Z"
   },
   {
    "duration": 0,
    "start_time": "2023-10-15T20:48:09.445Z"
   },
   {
    "duration": 0,
    "start_time": "2023-10-15T20:48:09.446Z"
   },
   {
    "duration": 0,
    "start_time": "2023-10-15T20:48:09.447Z"
   },
   {
    "duration": 0,
    "start_time": "2023-10-15T20:48:09.448Z"
   },
   {
    "duration": 0,
    "start_time": "2023-10-15T20:48:09.449Z"
   },
   {
    "duration": 0,
    "start_time": "2023-10-15T20:48:09.450Z"
   },
   {
    "duration": 0,
    "start_time": "2023-10-15T20:48:09.451Z"
   },
   {
    "duration": 0,
    "start_time": "2023-10-15T20:48:09.453Z"
   },
   {
    "duration": 0,
    "start_time": "2023-10-15T20:48:09.454Z"
   },
   {
    "duration": 0,
    "start_time": "2023-10-15T20:48:09.455Z"
   },
   {
    "duration": 10,
    "start_time": "2023-10-15T20:48:41.353Z"
   },
   {
    "duration": 10,
    "start_time": "2023-10-15T20:48:46.985Z"
   },
   {
    "duration": 10,
    "start_time": "2023-10-15T20:49:12.726Z"
   },
   {
    "duration": 152,
    "start_time": "2023-10-15T20:49:48.836Z"
   },
   {
    "duration": 127,
    "start_time": "2023-10-15T20:49:56.189Z"
   },
   {
    "duration": 1429,
    "start_time": "2023-10-15T20:50:34.134Z"
   },
   {
    "duration": 73,
    "start_time": "2023-10-15T20:50:35.565Z"
   },
   {
    "duration": 12,
    "start_time": "2023-10-15T20:50:35.639Z"
   },
   {
    "duration": 95,
    "start_time": "2023-10-15T20:50:35.653Z"
   },
   {
    "duration": 16,
    "start_time": "2023-10-15T20:50:35.750Z"
   },
   {
    "duration": 88,
    "start_time": "2023-10-15T20:50:35.768Z"
   },
   {
    "duration": 13,
    "start_time": "2023-10-15T20:50:35.859Z"
   },
   {
    "duration": 74,
    "start_time": "2023-10-15T20:50:35.874Z"
   },
   {
    "duration": 137,
    "start_time": "2023-10-15T20:50:35.950Z"
   },
   {
    "duration": 115,
    "start_time": "2023-10-15T20:50:36.090Z"
   },
   {
    "duration": 27,
    "start_time": "2023-10-15T20:50:36.207Z"
   },
   {
    "duration": 42,
    "start_time": "2023-10-15T20:50:36.235Z"
   },
   {
    "duration": 55,
    "start_time": "2023-10-15T20:50:36.278Z"
   },
   {
    "duration": 102,
    "start_time": "2023-10-15T20:50:36.335Z"
   },
   {
    "duration": 220,
    "start_time": "2023-10-15T20:50:36.439Z"
   },
   {
    "duration": 164,
    "start_time": "2023-10-15T20:50:36.661Z"
   },
   {
    "duration": 5,
    "start_time": "2023-10-15T20:50:36.827Z"
   },
   {
    "duration": 330,
    "start_time": "2023-10-15T20:50:36.834Z"
   },
   {
    "duration": 182,
    "start_time": "2023-10-15T20:50:37.166Z"
   },
   {
    "duration": 170,
    "start_time": "2023-10-15T20:50:37.350Z"
   },
   {
    "duration": 160,
    "start_time": "2023-10-15T20:50:37.524Z"
   },
   {
    "duration": 17,
    "start_time": "2023-10-15T20:50:37.686Z"
   },
   {
    "duration": 137,
    "start_time": "2023-10-15T20:50:37.705Z"
   },
   {
    "duration": 82,
    "start_time": "2023-10-15T20:50:37.844Z"
   },
   {
    "duration": 82,
    "start_time": "2023-10-15T20:50:37.927Z"
   },
   {
    "duration": 138,
    "start_time": "2023-10-15T20:50:38.011Z"
   },
   {
    "duration": 127,
    "start_time": "2023-10-15T20:50:38.151Z"
   },
   {
    "duration": 158,
    "start_time": "2023-10-15T20:50:38.281Z"
   },
   {
    "duration": 62,
    "start_time": "2023-10-15T20:50:38.440Z"
   },
   {
    "duration": 23,
    "start_time": "2023-10-15T20:50:38.503Z"
   },
   {
    "duration": 216,
    "start_time": "2023-10-15T20:50:38.527Z"
   },
   {
    "duration": 336,
    "start_time": "2023-10-15T20:50:38.744Z"
   },
   {
    "duration": 8,
    "start_time": "2023-10-15T20:50:39.082Z"
   },
   {
    "duration": 116,
    "start_time": "2023-10-15T20:50:39.091Z"
   },
   {
    "duration": 207,
    "start_time": "2023-10-15T20:50:39.209Z"
   },
   {
    "duration": 333,
    "start_time": "2023-10-15T20:50:39.418Z"
   },
   {
    "duration": 8,
    "start_time": "2023-10-15T20:50:39.753Z"
   },
   {
    "duration": 144,
    "start_time": "2023-10-15T20:50:39.763Z"
   },
   {
    "duration": 113,
    "start_time": "2023-10-15T20:50:39.909Z"
   },
   {
    "duration": 190,
    "start_time": "2023-10-15T20:50:40.024Z"
   },
   {
    "duration": 268,
    "start_time": "2023-10-15T20:50:40.215Z"
   },
   {
    "duration": 6,
    "start_time": "2023-10-15T20:50:40.485Z"
   },
   {
    "duration": 71,
    "start_time": "2023-10-15T20:50:40.493Z"
   },
   {
    "duration": 62,
    "start_time": "2023-10-15T20:50:40.566Z"
   },
   {
    "duration": 24,
    "start_time": "2023-10-15T20:50:40.630Z"
   },
   {
    "duration": 7,
    "start_time": "2023-10-15T20:50:40.656Z"
   },
   {
    "duration": 7,
    "start_time": "2023-10-15T20:55:01.137Z"
   },
   {
    "duration": 6,
    "start_time": "2023-10-15T20:55:08.333Z"
   },
   {
    "duration": 6,
    "start_time": "2023-10-15T20:55:13.290Z"
   }
  ],
  "kernelspec": {
   "display_name": "Python 3 (ipykernel)",
   "language": "python",
   "name": "python3"
  },
  "language_info": {
   "codemirror_mode": {
    "name": "ipython",
    "version": 3
   },
   "file_extension": ".py",
   "mimetype": "text/x-python",
   "name": "python",
   "nbconvert_exporter": "python",
   "pygments_lexer": "ipython3",
   "version": "3.9.18"
  },
  "toc": {
   "base_numbering": 1,
   "nav_menu": {},
   "number_sections": true,
   "sideBar": true,
   "skip_h1_title": true,
   "title_cell": "Table of Contents",
   "title_sidebar": "Contents",
   "toc_cell": false,
   "toc_position": {
    "height": "475.2px",
    "left": "283px",
    "top": "416.8px",
    "width": "212px"
   },
   "toc_section_display": true,
   "toc_window_display": false
  }
 },
 "nbformat": 4,
 "nbformat_minor": 5
}
